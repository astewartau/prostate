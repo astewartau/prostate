{
 "cells": [
  {
   "attachments": {},
   "cell_type": "markdown",
   "metadata": {},
   "source": [
    "# QSM Reconstruction"
   ]
  },
  {
   "cell_type": "code",
   "execution_count": null,
   "metadata": {},
   "outputs": [],
   "source": [
    "!run_2_qsm.py bids-new qsm-new --premade body --auto_yes --slurm a_barth general"
   ]
  },
  {
   "cell_type": "code",
   "execution_count": null,
   "metadata": {},
   "outputs": [],
   "source": [
    "!for f in `find qsm-new/qsm_final -name '*.nii*'`; do sub=\"${f/*sub/sub}\"; sub=\"${sub/_ses*/}\"; ses=\"${f/*_ses/ses}\"; ses=\"${ses/_*/}\"; cp \"${f}\" \"bids-new/${sub}/${ses}/extra_data/\"; done"
   ]
  },
  {
   "cell_type": "code",
   "execution_count": null,
   "metadata": {},
   "outputs": [],
   "source": [
    "!for f in `find . -wholename '*numpy_nibabel_twopass/mapflow/*/*echo-02*twopass.nii*'`; do sub=\"${f/*sub/sub}\"; sub=\"${sub/_ses*/}\"; ses=\"${f/*_ses/ses}\"; ses=\"${ses/_*/}\"; f2=\"${f/twopass1/twopass3}\"; f2=\"${f2/echo-02/echo-04}\"; ~/qsmxt/interfaces/nipype_interface_nonzeroaverage.py \"${f}\" \"${f2}\" \"bids-new/${sub}/${ses}/extra_data/${sub}_${ses}_qsm_echo2-and-echo4.nii\"; done"
   ]
  },
  {
   "attachments": {},
   "cell_type": "markdown",
   "metadata": {},
   "source": [
    "# Imports"
   ]
  },
  {
   "cell_type": "code",
   "execution_count": 1,
   "metadata": {},
   "outputs": [],
   "source": [
    "import os\n",
    "import glob\n",
    "import nibabel as nib\n",
    "import nilearn.image\n",
    "import numpy as np\n",
    "import enum\n",
    "import json\n",
    "import cv2\n",
    "import scipy"
   ]
  },
  {
   "attachments": {},
   "cell_type": "markdown",
   "metadata": {},
   "source": [
    "# Locate data"
   ]
  },
  {
   "cell_type": "code",
   "execution_count": 2,
   "metadata": {},
   "outputs": [],
   "source": [
    "bids_dir = \"bids-new\""
   ]
  },
  {
   "cell_type": "code",
   "execution_count": 3,
   "metadata": {},
   "outputs": [
    {
     "name": "stdout",
     "output_type": "stream",
     "text": [
      "18 sessions found:\n",
      "bids-new/sub-z0034542/ses-20220715\n",
      "bids-new/sub-z0186251/ses-20221107\n",
      "bids-new/sub-z0237546/ses-20230508\n",
      "bids-new/sub-z0445614/ses-20230510\n",
      "bids-new/sub-z0705200/ses-20230104\n",
      "bids-new/sub-z0755228/ses-20211108\n",
      "bids-new/sub-z1167038/ses-20220315\n",
      "bids-new/sub-z1181657/ses-20220315\n",
      "bids-new/sub-z1262112/ses-20220314\n",
      "bids-new/sub-z1472355/ses-20221222\n",
      "bids-new/sub-z1568577/ses-20230510\n",
      "bids-new/sub-z1728751/ses-20220328\n",
      "bids-new/sub-z1778013/ses-20220715\n",
      "bids-new/sub-z1818796/ses-20230313\n",
      "bids-new/sub-z2007565/ses-20220715\n",
      "bids-new/sub-z2904752/ses-20220826\n",
      "bids-new/sub-z3171177/ses-20230313\n",
      "bids-new/sub-z3278008/ses-20211109\n"
     ]
    }
   ],
   "source": [
    "session_dirs = []\n",
    "for json_path in sorted(glob.glob(os.path.join(bids_dir, \"sub*\", \"ses*\", \"anat\", \"*echo-01*mag*json\"))):\n",
    "    with open(json_path, 'r') as json_file:\n",
    "        json_data = json.load(json_file)\n",
    "        if json_data['ProtocolName'] == \"t2starME_qsm_tra_Iso1.4mm_INPHASE_bipolar_RUN_THIS_ONE\":\n",
    "            session_dirs.append(os.sep.join(os.path.split(json_path)[0].split(os.sep)[:-1]))\n",
    "print(f\"{len(session_dirs)} sessions found:\")\n",
    "for session_dir in session_dirs: print(session_dir)"
   ]
  },
  {
   "cell_type": "code",
   "execution_count": 6,
   "metadata": {},
   "outputs": [
    {
     "name": "stdout",
     "output_type": "stream",
     "text": [
      "18 CT images found.\n",
      "18 CT segmentations found.\n",
      "18 cleaned-up CT segmentations found.\n",
      "18 resliced CT images found.\n",
      "18 resliced CT segmentations found.\n",
      "18 cleaned-up and resliced CT segmentations found.\n",
      "18 QSM images found.\n",
      "18 magnitude images found.\n",
      "18 T2* maps found.\n",
      "18 T1w files found.\n",
      "18 resampled T1w files found.\n",
      "18 GRE segmentations found.\n",
      "18 cleaned GRE segmentations found.\n"
     ]
    }
   ],
   "source": [
    "qsm_files = sorted(sum((glob.glob(os.path.join(session_dir, \"extra_data\", \"*qsm_echo2-and-echo4.*\")) for session_dir in session_dirs), []))\n",
    "seg_clean_files = sorted(sum((glob.glob(os.path.join(session_dir, \"extra_data\", \"sub*ses*segmentation_clean.*\")) for session_dir in session_dirs), []))\n",
    "t1_resampled_files = sorted(sum((glob.glob(os.path.join(session_dir, \"extra_data\", \"*t1_tra*_resampled.nii*\")) for session_dir in session_dirs), []))\n",
    "t2s_files = sorted(sum((glob.glob(os.path.join(session_dir, \"extra_data\", \"*t2starmap.nii*\")) for session_dir in session_dirs), []))\n",
    "mag_files = sorted(sum((glob.glob(os.path.join(session_dir, \"extra_data\", \"magnitude_combined.nii\")) for session_dir in session_dirs), []))\n",
    "\n",
    "t1_files = [t1_file.replace(\"_resampled\", \"\") for t1_file in t1_resampled_files]\n",
    "seg_files = [seg_clean_file.replace(\"_clean\", \"\") for seg_clean_file in seg_clean_files]\n",
    "\n",
    "extra_files = sum((glob.glob(os.path.join(session_dir, \"extra_data\", \"*.nii*\")) for session_dir in session_dirs), [])\n",
    "ct_files = [extra_file for extra_file in extra_files if any(pattern in extra_file for pattern in ['_na_', '_Pelvis_']) and not any(pattern in extra_file for pattern in ['_t1_tra_', 'ATX', 'AXT', 'ROI', 'resliced', 'segmentation'])]\n",
    "\n",
    "ct_seg_files_unclean = sum((glob.glob(ct_file.replace(\".nii\", \"_segmentation.nii\")) for ct_file in ct_files), [])\n",
    "ct_seg_files = sum((glob.glob(ct_file.replace(\".nii\", \"_segmentation_clean.nii\")) for ct_file in ct_files), [])\n",
    "ct_resliced_files = sum((glob.glob(ct_file.replace(\".nii\", \"_resliced.nii\")) for ct_file in ct_files), [])\n",
    "ct_resliced_seg_files_unclean = sum((glob.glob(ct_file.replace(\".nii\", \"_segmentation.nii\")) for ct_file in ct_resliced_files), [])\n",
    "ct_resliced_seg_files = sum((glob.glob(ct_file.replace(\".nii\", \"_segmentation_clean.nii\")) for ct_file in ct_resliced_files), [])\n",
    "\n",
    "print(f\"{len(ct_files)} CT images found.\")\n",
    "print(f\"{len(ct_seg_files_unclean)} CT segmentations found.\")\n",
    "print(f\"{len(ct_seg_files)} cleaned-up CT segmentations found.\")\n",
    "print(f\"{len(ct_resliced_files)} resliced CT images found.\")\n",
    "print(f\"{len(ct_resliced_seg_files_unclean)} resliced CT segmentations found.\")\n",
    "print(f\"{len(ct_resliced_seg_files)} cleaned-up and resliced CT segmentations found.\")\n",
    "print(f\"{len(qsm_files)} QSM images found.\")\n",
    "print(f\"{len(mag_files)} magnitude images found.\")\n",
    "print(f\"{len(t2s_files)} T2* maps found.\")\n",
    "print(f\"{len(t1_files)} T1w files found.\")\n",
    "print(f\"{len(t1_resampled_files)} resampled T1w files found.\")\n",
    "print(f\"{len(seg_files)} GRE segmentations found.\")\n",
    "print(f\"{len(seg_clean_files)} cleaned GRE segmentations found.\")"
   ]
  },
  {
   "attachments": {},
   "cell_type": "markdown",
   "metadata": {},
   "source": [
    "# Clean up segmentations"
   ]
  },
  {
   "cell_type": "code",
   "execution_count": null,
   "metadata": {},
   "outputs": [],
   "source": [
    "class SegType(enum.Enum):\n",
    "    NO_LABEL = 0\n",
    "    PROSTATE = 1\n",
    "    GOLD_SEED = 2\n",
    "    CALCIFICATION = 3\n",
    "\n",
    "for i in range(len(qsm_files)):\n",
    "    # load files\n",
    "    print(qsm_files[i], seg_files[i])\n",
    "    qsm_nii = nib.load(qsm_files[i])\n",
    "    seg_nii = nib.load(seg_files[i])\n",
    "\n",
    "    # get image data\n",
    "    qsm = qsm_nii.get_fdata()\n",
    "    seg = np.array(seg_nii.get_fdata(), dtype=np.uint8)\n",
    "\n",
    "    # separate prostate tissue values and then remove segmented area\n",
    "    prostate_values = qsm[seg == SegType.PROSTATE.value]\n",
    "    print(\"Prostate value:\", prostate_values.mean())\n",
    "\n",
    "    # remove values close to the mean\n",
    "    seg[np.logical_and(\n",
    "        seg == SegType.GOLD_SEED.value,\n",
    "        np.logical_and(\n",
    "            qsm < prostate_values.mean() + 1*prostate_values.std(),\n",
    "            qsm > prostate_values.mean() - 1*prostate_values.std()\n",
    "        )\n",
    "    )] = 0\n",
    "\n",
    "    #smoothed = scipy.ndimage.gaussian_filter((seg == SegType.GOLD_SEED.value) * 1.0, sigma=[2,2,2])\n",
    "    #seg[SegType.GOLD_SEED.value] = 0\n",
    "    #seg[smoothed > 0.12] = SegType.GOLD_SEED.value\n",
    "\n",
    "    seg[seg == SegType.CALCIFICATION.value] = 0\n",
    "    calc_mask = np.logical_and(seg == SegType.NO_LABEL.value, qsm < np.mean(prostate_values) - 2*np.std(prostate_values))\n",
    "    calc_mask = scipy.ndimage.binary_opening(calc_mask)\n",
    "\n",
    "    seg[seg == SegType.PROSTATE.value] = 0\n",
    "    seg[seg == SegType.GOLD_SEED.value] = 1\n",
    "    seg[calc_mask] = 2\n",
    "    #seg[seg == SegType.CALCIFICATION.value] = 0\n",
    "    #calc_mask = np.logical_and(seg == SegType.NO_LABEL.value, qsm < np.mean(prostate_values) - 4*np.std(prostate_values))\n",
    "    #calc_mask = scipy.ndimage.binary_opening(calc_mask)\n",
    "    #seg[calc_mask] = 2\n",
    "\n",
    "    # save result using original file extension\n",
    "    filename=f\"{seg_files[i].replace('.nii', '_clean.nii')}\"\n",
    "    nib.save(nib.Nifti1Image(seg, header=seg_nii.header, affine=seg_nii.affine), filename=filename)\n",
    "    print(f\"Saved {filename}\")"
   ]
  },
  {
   "cell_type": "code",
   "execution_count": 15,
   "metadata": {},
   "outputs": [
    {
     "name": "stdout",
     "output_type": "stream",
     "text": [
      "PROSTATE=0\n",
      "CALCIFICATION=114674\n",
      "GOLD_SEED=146\n",
      "Saved bids-new/sub-z0034542/ses-20220715/extra_data/5_na_20220715092125_5_resliced_segmentation_clean.nii\n",
      "\n",
      "PROSTATE=0\n",
      "CALCIFICATION=141514\n",
      "GOLD_SEED=153\n",
      "Saved bids-new/sub-z0186251/ses-20221107/extra_data/5_na_20221107081460_5_resliced_segmentation_clean.nii\n",
      "\n",
      "PROSTATE=0\n",
      "CALCIFICATION=134611\n",
      "GOLD_SEED=158\n",
      "Saved bids-new/sub-z0237546/ses-20230508/extra_data/7_na_20230508102530_7_resliced_segmentation_clean.nii\n",
      "\n",
      "PROSTATE=0\n",
      "CALCIFICATION=137889\n",
      "GOLD_SEED=163\n",
      "Saved bids-new/sub-z0445614/ses-20230510/extra_data/5_16_pelvis_16_Pelvis_20230510090050_5_resliced_segmentation_clean.nii\n",
      "\n",
      "PROSTATE=0\n",
      "CALCIFICATION=98507\n",
      "GOLD_SEED=159\n",
      "Saved bids-new/sub-z0705200/ses-20230104/extra_data/5_11_pelvis_11_Pelvis_20230104113938_5_resliced_segmentation_clean.nii\n",
      "\n",
      "PROSTATE=0\n",
      "CALCIFICATION=144091\n",
      "GOLD_SEED=148\n",
      "Saved bids-new/sub-z0755228/ses-20211108/extra_data/Z0755228_20211109_Pelvis_2.0_HD_FoV_iMAR_20211109085844_5_resliced_segmentation_clean.nii\n",
      "\n",
      "PROSTATE=0\n",
      "CALCIFICATION=123806\n",
      "GOLD_SEED=135\n",
      "Saved bids-new/sub-z1167038/ses-20220315/extra_data/6_na_Pelvis_2.0_Br38_3_iMAR_20220315122146_6_resliced_segmentation_clean.nii\n",
      "\n",
      "PROSTATE=0\n",
      "CALCIFICATION=147191\n",
      "GOLD_SEED=139\n",
      "Saved bids-new/sub-z1181657/ses-20220315/extra_data/5_na_Pelvis_2.0_Br38_3_iMAR_20220315092512_5_resliced_segmentation_clean.nii\n",
      "\n",
      "PROSTATE=0\n",
      "CALCIFICATION=181946\n",
      "GOLD_SEED=150\n",
      "Saved bids-new/sub-z1262112/ses-20220314/extra_data/5_na_Pelvis_2.0_Br38_3_iMAR_20220314155954_5_resliced_segmentation_clean.nii\n",
      "\n",
      "PROSTATE=0\n",
      "CALCIFICATION=151917\n",
      "GOLD_SEED=163\n",
      "Saved bids-new/sub-z1472355/ses-20221222/extra_data/4_na_20221222095656_4_resliced_segmentation_clean.nii\n",
      "\n",
      "PROSTATE=0\n",
      "CALCIFICATION=130136\n",
      "GOLD_SEED=190\n",
      "Saved bids-new/sub-z1568577/ses-20230510/extra_data/5_16_pelvis_16_Pelvis_20230510114754_5_resliced_segmentation_clean.nii\n",
      "\n",
      "PROSTATE=0\n",
      "CALCIFICATION=115793\n",
      "GOLD_SEED=119\n",
      "Saved bids-new/sub-z1728751/ses-20220328/extra_data/5_na_Pelvis_2.0_HD_FoV_iMAR_20220328145233_5_resliced_segmentation_clean.nii\n",
      "\n",
      "PROSTATE=0\n",
      "CALCIFICATION=140031\n",
      "GOLD_SEED=167\n",
      "Saved bids-new/sub-z1778013/ses-20220715/extra_data/5_na_20220715093722_5_resliced_segmentation_clean.nii\n",
      "\n",
      "PROSTATE=0\n",
      "CALCIFICATION=142689\n",
      "GOLD_SEED=177\n",
      "Saved bids-new/sub-z1818796/ses-20230313/extra_data/7_na_20230313114454_7_resliced_segmentation_clean.nii\n",
      "\n",
      "PROSTATE=0\n",
      "CALCIFICATION=127027\n",
      "GOLD_SEED=157\n",
      "Saved bids-new/sub-z2007565/ses-20220715/extra_data/5_na_20220715111431_5_resliced_segmentation_clean.nii\n",
      "\n",
      "PROSTATE=0\n",
      "CALCIFICATION=167429\n",
      "GOLD_SEED=180\n",
      "Saved bids-new/sub-z2904752/ses-20220826/extra_data/5_na_20220826105431_5_resliced_segmentation_clean.nii\n",
      "\n",
      "PROSTATE=0\n",
      "CALCIFICATION=136680\n",
      "GOLD_SEED=163\n",
      "Saved bids-new/sub-z3171177/ses-20230313/extra_data/3_na_20230313110549_3_resliced_segmentation_clean.nii\n",
      "\n",
      "PROSTATE=0\n",
      "CALCIFICATION=131486\n",
      "GOLD_SEED=152\n",
      "Saved bids-new/sub-z3278008/ses-20211109/extra_data/Z3278008_20211109_Pelvis_2.0_HD_FoV_iMAR_20211109085844_5_resliced_segmentation_clean.nii\n",
      "\n"
     ]
    }
   ],
   "source": [
    "class SegType(enum.Enum):\n",
    "    NO_LABEL = 0\n",
    "    GOLD_SEED = 1\n",
    "    CALCIFICATION = 2\n",
    "    PROSTATE = 3\n",
    "\n",
    "for i in range(len(ct_resliced_files)):\n",
    "    # load files\n",
    "    ct_nii = nib.load(ct_resliced_files[i])\n",
    "    seg_nii = nib.load(ct_resliced_seg_files_unclean[i])\n",
    "\n",
    "    # get image data\n",
    "    ct = ct_nii.get_fdata()\n",
    "    seg = np.array(seg_nii.get_fdata(), dtype=np.uint8)\n",
    "\n",
    "    # separate prostate tissue values and then remove segmented area\n",
    "    prostate_values = ct[seg == SegType.PROSTATE.value]\n",
    "    seg[seg == SegType.PROSTATE.value] = 0\n",
    "\n",
    "    # remove low values\n",
    "    seg[np.logical_and(seg == SegType.GOLD_SEED.value, ct < np.mean(prostate_values) + 4*np.std(prostate_values))] = 0\n",
    "    seg[np.logical_and(seg == SegType.CALCIFICATION.value, ct < np.mean(prostate_values) + 4*np.std(prostate_values))] = 0\n",
    "\n",
    "    # create new custom calcification label    \n",
    "    seg[seg == SegType.CALCIFICATION.value] = 0\n",
    "    calc_mask = np.logical_and(seg == SegType.NO_LABEL.value, ct > np.mean(prostate_values) + 6*np.std(prostate_values))\n",
    "    #calc_mask = scipy.ndimage.binary_opening(calc_mask)\n",
    "    seg[calc_mask] = 2 # NEW VALUE\n",
    "\n",
    "    # save result using original file extension\n",
    "    filename=f\"{ct_resliced_seg_files_unclean[i].replace('.nii', '_clean.nii')}\"\n",
    "    nib.save(nib.Nifti1Image(seg, header=seg_nii.header, affine=seg_nii.affine), filename=filename)\n",
    "    print(f\"PROSTATE={len(ct[seg == SegType.PROSTATE.value])}\")\n",
    "    print(f\"CALCIFICATION={len(ct[seg == SegType.CALCIFICATION.value])}\")\n",
    "    print(f\"GOLD_SEED={len(ct[seg == SegType.GOLD_SEED.value])}\")\n",
    "    print(f\"Saved {filename}\\n\")"
   ]
  },
  {
   "cell_type": "code",
   "execution_count": null,
   "metadata": {},
   "outputs": [],
   "source": [
    "class SegType(enum.Enum):\n",
    "    NO_LABEL = 0\n",
    "    GOLD_SEED = 1\n",
    "    CALCIFICATION = 2\n",
    "    PROSTATE = 3\n",
    "\n",
    "for i in range(len(ct_files)):\n",
    "    # load files\n",
    "    ct_nii = nib.load(ct_files[i])\n",
    "    seg_nii = nib.load(ct_seg_files[i])\n",
    "\n",
    "    # get image data\n",
    "    ct = ct_nii.get_fdata()\n",
    "    seg = np.array(seg_nii.get_fdata(), dtype=np.uint8)\n",
    "\n",
    "    # separate prostate tissue values and then remove segmented area\n",
    "    prostate_values = ct[seg == SegType.PROSTATE.value]\n",
    "    seg[seg == SegType.PROSTATE.value] = 0\n",
    "\n",
    "    # remove low values\n",
    "    seg[np.logical_and(seg == SegType.GOLD_SEED.value, ct < np.mean(prostate_values) + 4*np.std(prostate_values))] = 0\n",
    "    seg[np.logical_and(seg == SegType.CALCIFICATION.value, ct < np.mean(prostate_values) + 4*np.std(prostate_values))] = 0\n",
    "\n",
    "    # create new custom calcification label    \n",
    "    seg[seg == SegType.CALCIFICATION.value] = 0\n",
    "    calc_mask = np.logical_and(seg == SegType.NO_LABEL.value, ct > np.mean(prostate_values) + 1*np.std(prostate_values))\n",
    "    calc_mask = scipy.ndimage.binary_opening(calc_mask)\n",
    "    seg[calc_mask] = 2 # NEW VALUE\n",
    "\n",
    "    # save result using original file extension\n",
    "    filename=f\"{ct_seg_files[i].replace('.nii', '_clean.nii')}\"\n",
    "    nib.save(nib.Nifti1Image(seg, header=seg_nii.header, affine=seg_nii.affine), filename=filename)\n",
    "    print(f\"PROSTATE={len(ct[seg == SegType.PROSTATE.value])}\")\n",
    "    print(f\"CALCIFICATION={len(ct[seg == SegType.CALCIFICATION.value])}\")\n",
    "    print(f\"GOLD_SEED={len(ct[seg == SegType.GOLD_SEED.value])}\")\n",
    "    print(f\"Saved {filename}\\n\")"
   ]
  },
  {
   "attachments": {},
   "cell_type": "markdown",
   "metadata": {},
   "source": [
    "# Combined magnitude"
   ]
  },
  {
   "cell_type": "code",
   "execution_count": null,
   "metadata": {},
   "outputs": [],
   "source": [
    "for session_dir in session_dirs:\n",
    "    mag_images = sorted(glob.glob(os.path.join(session_dir, \"anat\", \"*part-mag*nii*\")))\n",
    "    mag_images_even = [mag_images[i] for i in range(1, len(mag_images), 2)]\n",
    "    nii = nib.load(mag_images_even[0])\n",
    "    mag_4d = np.array([nib.load(mag_images_even[i]).get_fdata() for i in range(len(mag_images_even))])\n",
    "    mag_combined = np.sqrt(np.sum(np.square(mag_4d), axis=0))\n",
    "    nib.save(nib.Nifti1Image(mag_combined, header=nii.header, affine=nii.affine), os.path.join(session_dir, \"extra_data\", \"magnitude_combined.nii\"))"
   ]
  },
  {
   "attachments": {},
   "cell_type": "markdown",
   "metadata": {},
   "source": [
    "# Reslice T1w images"
   ]
  },
  {
   "cell_type": "code",
   "execution_count": null,
   "metadata": {},
   "outputs": [],
   "source": [
    "for i in range(len(t1_files)):\n",
    "    print(t1_files)\n",
    "    t1_nii = nib.load(t1_files[i])\n",
    "    mag_nii = nib.load(mag_files[i])\n",
    "    t1_resampled = nilearn.image.resample_img(t1_nii, target_affine=mag_nii.affine, target_shape=mag_nii.header.get_data_shape())\n",
    "    filename = t1_files[i].replace(\".nii\", \"_resampled.nii\")\n",
    "    nib.save(t1_resampled, filename)"
   ]
  },
  {
   "attachments": {},
   "cell_type": "markdown",
   "metadata": {},
   "source": [
    "# T2* Maps"
   ]
  },
  {
   "cell_type": "code",
   "execution_count": null,
   "metadata": {},
   "outputs": [],
   "source": [
    "for session_dir in session_dirs:\n",
    "    !./make_t2starmaps.jl --magnitude {os.path.join(session_dir, \"anat\", \"*echo-02*mag*.nii*\")} {os.path.join(session_dir, \"anat\", \"*echo-04*mag*.nii*\")} --TEs \"[0.0074,0.01482]\" --output {os.path.join(session_dir, \"extra_data\", \"t2starmap.nii\")}\n",
    "    #!./make_t2starmaps.jl --magnitude {os.path.join(bids_dir, session_dir)} bids-new/sub-z2072142/ses-20210128/anat/sub-z2072142_ses-20210128_run-01_echo-04_part-mag_MEGRE.nii --TEs [0.0074,0.01482] --output out2.nii"
   ]
  },
  {
   "attachments": {},
   "cell_type": "markdown",
   "metadata": {},
   "source": [
    "# SWI"
   ]
  },
  {
   "cell_type": "code",
   "execution_count": null,
   "metadata": {},
   "outputs": [],
   "source": [
    "!julia -e \"import Pkg; Pkg.add(Pkg.PackageSpec(url=\\\"https://github.com/korbinian90/CLEARSWI.jl\\\"))\""
   ]
  },
  {
   "cell_type": "code",
   "execution_count": null,
   "metadata": {},
   "outputs": [],
   "source": [
    "#./make_swis.jl --phase bids-new/sub-z0034542/ses-20220715/anat/sub-z0034542_ses-20220715_run-01_echo-*_part-phase_MEGRE.nii --magnitude bids-new/sub-z0034542/ses-20220715/anat/sub-z0034542_ses-20220715_run-01_echo-*_part-mag_MEGRE.nii --TEs [0.00492,0.00738] --swi-out swi-out.nii --mip-out mip-out.nii"
   ]
  },
  {
   "cell_type": "code",
   "execution_count": null,
   "metadata": {
    "vscode": {
     "languageId": "shellscript"
    }
   },
   "outputs": [],
   "source": [
    "for session_dir in session_dirs:\n",
    "    !echo {session_dir}\n",
    "    !./make_swis.jl \\\n",
    "        --magnitude {os.path.join(session_dir, \"anat\", \"*echo-02*mag*.nii*\")} {os.path.join(session_dir, \"anat\", \"*echo-04*mag*.nii*\")} \\\n",
    "        --phase {os.path.join(session_dir, \"anat\", \"*echo-02*phase*.nii*\")} {os.path.join(session_dir, \"anat\", \"*echo-04*phase*.nii*\")} \\\n",
    "        --TEs \"[4.92,7.38]\" \\\n",
    "        --swi-out {os.path.join(session_dir, \"extra_data\", \"swi.nii\")}"
   ]
  },
  {
   "cell_type": "code",
   "execution_count": null,
   "metadata": {
    "vscode": {
     "languageId": "shellscript"
    }
   },
   "outputs": [],
   "source": []
  }
 ],
 "metadata": {
  "kernelspec": {
   "display_name": "prostate",
   "language": "python",
   "name": "python3"
  },
  "language_info": {
   "codemirror_mode": {
    "name": "ipython",
    "version": 3
   },
   "file_extension": ".py",
   "mimetype": "text/x-python",
   "name": "python",
   "nbconvert_exporter": "python",
   "pygments_lexer": "ipython3",
   "version": "3.8.13"
  },
  "orig_nbformat": 4,
  "vscode": {
   "interpreter": {
    "hash": "03f67c3c00010b009bb49c0b41212a310c824d817af9d8224888fa5a5f2c519c"
   }
  }
 },
 "nbformat": 4,
 "nbformat_minor": 2
}
