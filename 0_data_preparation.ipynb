{
 "cells": [
  {
   "attachments": {},
   "cell_type": "markdown",
   "metadata": {},
   "source": [
    "# Data preparation"
   ]
  },
  {
   "attachments": {},
   "cell_type": "markdown",
   "metadata": {},
   "source": [
    "## Download data from RDM"
   ]
  },
  {
   "cell_type": "code",
   "execution_count": 1,
   "metadata": {},
   "outputs": [
    {
     "name": "stdout",
     "output_type": "stream",
     "text": [
      "^C\n"
     ]
    }
   ],
   "source": [
    "!cp /QRISdata/Q0748/data/2023-2016-Jonathan-Prostate/2023-2016-Jonathan-Prostate-Bids.zip .\n",
    "!unzip -q 2023-2016-Jonathan-Prostate-Bids.zip\n",
    "!mv 2023-2016-Jonathan-Prostate-Bids bids-new\n",
    "!rm 2023-2016-Jonathan-Prostate-Bids.zip"
   ]
  },
  {
   "attachments": {},
   "cell_type": "markdown",
   "metadata": {},
   "source": [
    "## QSM Reconstruction"
   ]
  },
  {
   "cell_type": "code",
   "execution_count": null,
   "metadata": {},
   "outputs": [],
   "source": [
    "!run_2_qsm.py bids-new qsm-new --premade body --auto_yes --slurm a_barth general"
   ]
  },
  {
   "cell_type": "code",
   "execution_count": null,
   "metadata": {},
   "outputs": [],
   "source": [
    "!for f in `find qsm-new/qsm_final -name '*.nii*'`; do sub=\"${f/*sub/sub}\"; sub=\"${sub/_ses*/}\"; ses=\"${f/*_ses/ses}\"; ses=\"${ses/_*/}\"; cp \"${f}\" \"bids-new/${sub}/${ses}/extra_data/\"; done"
   ]
  },
  {
   "cell_type": "code",
   "execution_count": null,
   "metadata": {},
   "outputs": [],
   "source": [
    "for f in `find . -wholename '*numpy_nibabel_twopass/mapflow/*/*echo-02*twopass.nii*'`; do sub=\"${f/*sub/sub}\"; sub=\"${sub/_ses*/}\"; ses=\"${f/*_ses/ses}\"; ses=\"${ses/_*/}\"; f2=\"${f/twopass1/twopass3}\"; f2=\"${f2/echo-02/echo-04}\"; ~/qsmxt/interfaces/nipype_interface_nonzeroaverage.py \"${f}\" \"${f2}\" \"bids-new/${sub}/${ses}/extra_data/${sub}_${ses}_qsm_echo2-and-echo4.nii\"; done"
   ]
  },
  {
   "attachments": {},
   "cell_type": "markdown",
   "metadata": {},
   "source": [
    "## Clean up segmentations"
   ]
  },
  {
   "cell_type": "code",
   "execution_count": 1,
   "metadata": {},
   "outputs": [],
   "source": [
    "import os\n",
    "import glob\n",
    "import nibabel as nib\n",
    "import numpy as np\n",
    "import enum\n",
    "import json\n",
    "import scipy"
   ]
  },
  {
   "cell_type": "code",
   "execution_count": 2,
   "metadata": {},
   "outputs": [],
   "source": [
    "bids_dir = \"bids-new\""
   ]
  },
  {
   "cell_type": "code",
   "execution_count": 3,
   "metadata": {},
   "outputs": [
    {
     "name": "stdout",
     "output_type": "stream",
     "text": [
      "15 sessions found:\n",
      "bids-new/sub-z0034542/ses-20220715\n",
      "bids-new/sub-z0186251/ses-20221107\n",
      "bids-new/sub-z0705200/ses-20230104\n",
      "bids-new/sub-z0755228/ses-20211108\n",
      "bids-new/sub-z1167038/ses-20220315\n",
      "bids-new/sub-z1181657/ses-20220315\n",
      "bids-new/sub-z1262112/ses-20220314\n",
      "bids-new/sub-z1472355/ses-20221222\n",
      "bids-new/sub-z1728751/ses-20220328\n",
      "bids-new/sub-z1778013/ses-20220715\n",
      "bids-new/sub-z1818796/ses-20230313\n",
      "bids-new/sub-z2007565/ses-20220715\n",
      "bids-new/sub-z2904752/ses-20220826\n",
      "bids-new/sub-z3171177/ses-20230313\n",
      "bids-new/sub-z3278008/ses-20211109\n"
     ]
    }
   ],
   "source": [
    "session_dirs = []\n",
    "for json_path in sorted(glob.glob(os.path.join(bids_dir, \"sub*\", \"ses*\", \"anat\", \"*echo-01*mag*json\"))):\n",
    "    with open(json_path, 'r') as json_file:\n",
    "        json_data = json.load(json_file)\n",
    "        if json_data['ProtocolName'] == \"t2starME_qsm_tra_Iso1.4mm_INPHASE_bipolar_RUN_THIS_ONE\":\n",
    "            session_dirs.append(os.sep.join(os.path.split(json_path)[0].split(os.sep)[:-1]))\n",
    "print(f\"{len(session_dirs)} sessions found:\")\n",
    "for session_dir in session_dirs: print(session_dir)"
   ]
  },
  {
   "cell_type": "code",
   "execution_count": 4,
   "metadata": {},
   "outputs": [
    {
     "name": "stdout",
     "output_type": "stream",
     "text": [
      "15 QSM images found.\n",
      "15 segmentations found.\n",
      "Saved bids-new/sub-z0034542/ses-20220715/extra_data/sub-z0034542_ses-20220715_run-01_segmentation_clean.nii.gz\n",
      "Saved bids-new/sub-z0186251/ses-20221107/extra_data/sub-z0186251_ses-20221107_run-01_segmentation_clean.nii.gz\n",
      "Saved bids-new/sub-z0705200/ses-20230104/extra_data/sub-z0705200_ses-20230104_run-01_segmentation_clean.nii\n",
      "Saved bids-new/sub-z0755228/ses-20211108/extra_data/sub-z0755228_ses-20211108_run-01_segmentation_clean.nii.gz\n",
      "Saved bids-new/sub-z1167038/ses-20220315/extra_data/sub-z1167038_ses-20220315_run-01_segmentation_clean.nii.gz\n",
      "Saved bids-new/sub-z1181657/ses-20220315/extra_data/sub-z1181657_ses-20220315_run-01_segmentation_clean.nii.gz\n",
      "Saved bids-new/sub-z1262112/ses-20220314/extra_data/sub-z1262112_ses-20220314_run-01_segmentation_clean.nii.gz\n",
      "Saved bids-new/sub-z1472355/ses-20221222/extra_data/sub-z1472355_ses-20221222_run-01_segmentation_clean.nii\n",
      "Saved bids-new/sub-z1728751/ses-20220328/extra_data/sub-z1728751_ses-20220328_run-01_segmentation_clean.nii.gz\n",
      "Saved bids-new/sub-z1778013/ses-20220715/extra_data/sub-z1778013_ses-20220715_run-01_segmentation_clean.nii.gz\n",
      "Saved bids-new/sub-z1818796/ses-20230313/extra_data/sub-z1818796_ses-20230313_run-01_segmentation_clean.nii\n",
      "Saved bids-new/sub-z2007565/ses-20220715/extra_data/sub-z2007565_ses-20220715_run-01_segmentation_clean.nii.gz\n",
      "Saved bids-new/sub-z2904752/ses-20220826/extra_data/sub-z2904752_ses-20220826_run-01_segmentation_clean.nii\n",
      "Saved bids-new/sub-z3171177/ses-20230313/extra_data/sub-z3171177_ses-20230313_run-01_segmentation_clean.nii\n",
      "Saved bids-new/sub-z3278008/ses-20211109/extra_data/sub-z3278008_ses-20211109_run-01_segmentation_clean.nii.gz\n"
     ]
    }
   ],
   "source": [
    "qsm_files = [glob.glob(os.path.join(session_dir, \"extra_data\", \"*echo2-and-echo4.nii*\")) for session_dir in session_dirs]\n",
    "seg_files = [glob.glob(os.path.join(session_dir, \"extra_data\", \"*segmentation.*\")) for session_dir in session_dirs]\n",
    "\n",
    "qsm_files = [qsm_file_list[0] for qsm_file_list in qsm_files if len(qsm_file_list)]\n",
    "seg_files = [seg_file_list[0] for seg_file_list in seg_files if len(seg_file_list)]\n",
    "\n",
    "print(f\"{len(qsm_files)} QSM images found.\")\n",
    "print(f\"{len(seg_files)} segmentations found.\")\n",
    "\n",
    "class SegType(enum.Enum):\n",
    "    NO_LABEL = 0\n",
    "    PROSTATE = 1\n",
    "    GOLD_SEED = 2\n",
    "    CALCIFICATION = 3\n",
    "\n",
    "for i in range(len(qsm_files)):\n",
    "    # load files\n",
    "    qsm_nii = nib.load(qsm_files[i])\n",
    "    seg_nii = nib.load(seg_files[i])\n",
    "\n",
    "    # get image data\n",
    "    qsm = qsm_nii.get_fdata()\n",
    "    seg = np.array(seg_nii.get_fdata(), dtype=np.uint8)\n",
    "\n",
    "    # separate prostate tissue values and then remove segmented area\n",
    "    prostate_values = qsm[seg == SegType.PROSTATE.value]\n",
    "    seg[seg == SegType.PROSTATE.value] = 0\n",
    "\n",
    "    # identify susceptibility values less than two standard deviations below the mean\n",
    "    inliers = np.logical_and(np.mean(prostate_values) - np.std(prostate_values)*2 < qsm, qsm < np.mean(prostate_values) + np.std(prostate_values) * 2)\n",
    "\n",
    "    # clean up segmentations such that 'inliers' are excluded\n",
    "    seg[np.logical_and(seg == SegType.GOLD_SEED.value, inliers)] = 0\n",
    "    seg[np.logical_and(seg == SegType.GOLD_SEED.value, qsm > 0)] = 0\n",
    "    seg[seg == SegType.GOLD_SEED.value] = 1 # NEW VALUE\n",
    "\n",
    "    # create new custom calcification label    \n",
    "    seg[seg == SegType.CALCIFICATION.value] = 0\n",
    "    calc_mask = np.logical_and(seg == SegType.NO_LABEL.value, qsm < np.mean(prostate_values) - 4*np.std(prostate_values))\n",
    "    calc_mask = scipy.ndimage.binary_opening(calc_mask)\n",
    "    seg[calc_mask] = 2 # NEW VALUE\n",
    "\n",
    "\n",
    "    # save result using original file extension\n",
    "    extension = \".\".join(seg_files[i].split('.')[1:])\n",
    "    filename=f\"{seg_files[i].split('.')[0]}_clean.{extension}\"\n",
    "    nib.save(nib.Nifti1Image(seg, header=seg_nii.header, affine=seg_nii.affine), filename=filename)\n",
    "    print(f\"Saved {filename}\")"
   ]
  },
  {
   "cell_type": "code",
   "execution_count": null,
   "metadata": {},
   "outputs": [],
   "source": []
  },
  {
   "cell_type": "code",
   "execution_count": null,
   "metadata": {},
   "outputs": [],
   "source": []
  }
 ],
 "metadata": {
  "kernelspec": {
   "display_name": "prostate",
   "language": "python",
   "name": "python3"
  },
  "language_info": {
   "codemirror_mode": {
    "name": "ipython",
    "version": 3
   },
   "file_extension": ".py",
   "mimetype": "text/x-python",
   "name": "python",
   "nbconvert_exporter": "python",
   "pygments_lexer": "ipython3",
   "version": "3.8.13 (default, Mar 28 2022, 11:38:47) \n[GCC 7.5.0]"
  },
  "orig_nbformat": 4,
  "vscode": {
   "interpreter": {
    "hash": "03f67c3c00010b009bb49c0b41212a310c824d817af9d8224888fa5a5f2c519c"
   }
  }
 },
 "nbformat": 4,
 "nbformat_minor": 2
}
