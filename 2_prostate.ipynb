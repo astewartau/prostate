{
 "cells": [
  {
   "cell_type": "code",
   "execution_count": 1,
   "metadata": {},
   "outputs": [],
   "source": [
    "import torch"
   ]
  },
  {
   "cell_type": "code",
   "execution_count": 2,
   "metadata": {},
   "outputs": [
    {
     "name": "stdout",
     "output_type": "stream",
     "text": [
      "GPU is available. Fastai will use the GPU.\n"
     ]
    }
   ],
   "source": [
    "if torch.cuda.is_available():\n",
    "    device = torch.device(\"cuda:0\")\n",
    "    print(\"GPU is available. Fastai will use the GPU.\")\n",
    "else:\n",
    "    device = torch.device(\"cpu\")\n",
    "    print(\"GPU is NOT available. Fastai will use the CPU.\")"
   ]
  },
  {
   "cell_type": "code",
   "execution_count": 3,
   "metadata": {},
   "outputs": [
    {
     "name": "stderr",
     "output_type": "stream",
     "text": [
      "/home/uqaste15/miniconda3/envs/prostate/lib/python3.8/site-packages/torchvision/io/image.py:13: UserWarning: Failed to load image Python extension: '/home/uqaste15/miniconda3/envs/prostate/lib/python3.8/site-packages/torchvision/image.so: undefined symbol: _ZN3c104cuda20CUDACachingAllocator9allocatorE'If you don't plan on using image functionality from `torchvision.io`, you can ignore this warning. Otherwise, there might be something wrong with your environment. Did you have `libjpeg` or `libpng` installed before building `torchvision` from source?\n",
      "  warn(\n"
     ]
    }
   ],
   "source": [
    "import glob\n",
    "import os\n",
    "import json\n",
    "import time\n",
    "import datetime\n",
    "\n",
    "import pandas as pd\n",
    "import numpy as np\n",
    "import nibabel as nib\n",
    "\n",
    "import fastai\n",
    "import fastMONAI.vision_all\n",
    "from monai.networks.nets import UNet\n",
    "from monai.losses import DiceCELoss\n",
    "from sklearn.model_selection import KFold\n",
    "\n",
    "import scipy.ndimage \n",
    "from sklearn.model_selection import train_test_split\n",
    "from skimage.measure import label, regionprops\n",
    "\n",
    "from useful_functions import *\n",
    "from prostate import *"
   ]
  },
  {
   "cell_type": "code",
   "execution_count": 4,
   "metadata": {},
   "outputs": [],
   "source": [
    "bids_dir = \"bids-new\""
   ]
  },
  {
   "cell_type": "code",
   "execution_count": 5,
   "metadata": {},
   "outputs": [
    {
     "name": "stdout",
     "output_type": "stream",
     "text": [
      "18 sessions found\n"
     ]
    }
   ],
   "source": [
    "session_dirs = []\n",
    "for json_path in sorted(glob.glob(os.path.join(bids_dir, \"sub*\", \"ses*\", \"anat\", \"*echo-01*mag*json\"))):\n",
    "    with open(json_path, 'r') as json_file:\n",
    "        json_data = json.load(json_file)\n",
    "        if json_data['ProtocolName'] == \"t2starME_qsm_tra_Iso1.4mm_INPHASE_bipolar_RUN_THIS_ONE\":\n",
    "            session_dirs.append(os.sep.join(os.path.split(json_path)[0].split(os.sep)[:-1]))\n",
    "print(f\"{len(session_dirs)} sessions found\")"
   ]
  },
  {
   "cell_type": "code",
   "execution_count": 6,
   "metadata": {},
   "outputs": [
    {
     "data": {
      "text/plain": [
       "['bids-new/sub-z0034542/ses-20220715',\n",
       " 'bids-new/sub-z0186251/ses-20221107',\n",
       " 'bids-new/sub-z0237546/ses-20230508',\n",
       " 'bids-new/sub-z0445614/ses-20230510',\n",
       " 'bids-new/sub-z0705200/ses-20230104',\n",
       " 'bids-new/sub-z0755228/ses-20211108',\n",
       " 'bids-new/sub-z1167038/ses-20220315',\n",
       " 'bids-new/sub-z1181657/ses-20220315',\n",
       " 'bids-new/sub-z1262112/ses-20220314',\n",
       " 'bids-new/sub-z1472355/ses-20221222',\n",
       " 'bids-new/sub-z1568577/ses-20230510',\n",
       " 'bids-new/sub-z1728751/ses-20220328',\n",
       " 'bids-new/sub-z1778013/ses-20220715',\n",
       " 'bids-new/sub-z1818796/ses-20230313',\n",
       " 'bids-new/sub-z2007565/ses-20220715',\n",
       " 'bids-new/sub-z2904752/ses-20220826',\n",
       " 'bids-new/sub-z3171177/ses-20230313',\n",
       " 'bids-new/sub-z3278008/ses-20211109']"
      ]
     },
     "execution_count": 6,
     "metadata": {},
     "output_type": "execute_result"
    }
   ],
   "source": [
    "session_dirs"
   ]
  },
  {
   "cell_type": "code",
   "execution_count": 7,
   "metadata": {},
   "outputs": [
    {
     "name": "stdout",
     "output_type": "stream",
     "text": [
      "17 CT images found.\n",
      "17 CT segmentations found.\n",
      "17 resliced CT images found.\n",
      "17 resliced CT segmentations found.\n",
      "18 QSM images found.\n",
      "18 magnitude images found.\n",
      "18 T2* maps found.\n",
      "18 SWI images found.\n",
      "18 T1w files found.\n",
      "18 resampled T1w files found.\n",
      "18 GRE segmentations found.\n",
      "18 cleaned GRE segmentations found.\n"
     ]
    }
   ],
   "source": [
    "qsm_files = sorted(sum((glob.glob(os.path.join(session_dir, \"extra_data\", \"*qsm_echo2-and-echo4.*\")) for session_dir in session_dirs), []))\n",
    "seg_clean_files = sorted(sum((glob.glob(os.path.join(session_dir, \"extra_data\", \"sub*ses*segmentation_clean.*\")) for session_dir in session_dirs), []))\n",
    "t1_resampled_files = sorted(sum((glob.glob(os.path.join(session_dir, \"extra_data\", \"*t1_tra*_resampled.nii*\")) for session_dir in session_dirs), []))\n",
    "t2s_files = sorted(sum((glob.glob(os.path.join(session_dir, \"extra_data\", \"*t2starmap.nii*\")) for session_dir in session_dirs), []))\n",
    "swi_files = sorted(sum((glob.glob(os.path.join(session_dir, \"extra_data\", \"*swi.nii*\")) for session_dir in session_dirs), []))\n",
    "mag_files = sorted(sum((glob.glob(os.path.join(session_dir, \"extra_data\", \"magnitude_combined.nii\")) for session_dir in session_dirs), []))\n",
    "t1_files = [t1_file.replace(\"_resampled\", \"\") for t1_file in t1_resampled_files]\n",
    "seg_files = [seg_clean_file.replace(\"_clean\", \"\") for seg_clean_file in seg_clean_files]\n",
    "\n",
    "extra_files = sum((glob.glob(os.path.join(session_dir, \"extra_data\", \"*.nii*\")) for session_dir in session_dirs), [])\n",
    "ct_files = [extra_file for extra_file in extra_files if any(pattern in extra_file for pattern in ['_na_', '_Pelvis_']) and not any(pattern in extra_file for pattern in ['_t1_tra_', 'ATX', 'AXT', 'ROI', 'resliced', 'segmentation'])]\n",
    "\n",
    "ct_seg_files = sum((glob.glob(ct_file.replace(\".nii\", \"_segmentation_clean.nii\")) for ct_file in ct_files), [])\n",
    "ct_resliced_files = sum((glob.glob(ct_file.replace(\".nii\", \"_resliced.nii\")) for ct_file in ct_files), [])\n",
    "ct_resliced_seg_files = sum((glob.glob(ct_file.replace(\".nii\", \"_segmentation_clean.nii\")) for ct_file in ct_resliced_files), [])\n",
    "\n",
    "ct_files = [ct_file for ct_file in ct_files if 'z0237546' not in ct_file]\n",
    "ct_seg_files = [ct_file for ct_file in ct_seg_files if 'z0237546' not in ct_file]\n",
    "ct_resliced_files = [ct_file for ct_file in ct_resliced_files if 'z0237546' not in ct_file]\n",
    "ct_resliced_seg_files = [ct_file for ct_file in ct_resliced_seg_files if 'z0237546' not in ct_file]\n",
    "\n",
    "print(f\"{len(ct_files)} CT images found.\")\n",
    "print(f\"{len(ct_seg_files)} CT segmentations found.\")\n",
    "print(f\"{len(ct_resliced_files)} resliced CT images found.\")\n",
    "print(f\"{len(ct_resliced_seg_files)} resliced CT segmentations found.\")\n",
    "print(f\"{len(qsm_files)} QSM images found.\")\n",
    "print(f\"{len(mag_files)} magnitude images found.\")\n",
    "print(f\"{len(t2s_files)} T2* maps found.\")\n",
    "print(f\"{len(swi_files)} SWI images found.\")\n",
    "print(f\"{len(t1_files)} T1w files found.\")\n",
    "print(f\"{len(t1_resampled_files)} resampled T1w files found.\")\n",
    "print(f\"{len(seg_files)} GRE segmentations found.\")\n",
    "print(f\"{len(seg_clean_files)} cleaned GRE segmentations found.\")"
   ]
  },
  {
   "cell_type": "code",
   "execution_count": 8,
   "metadata": {},
   "outputs": [],
   "source": [
    "assert(len(qsm_files) == len(seg_clean_files))\n",
    "assert(len(qsm_files) == len(t2s_files))\n",
    "assert(len(qsm_files) == len(swi_files))\n",
    "assert(len(qsm_files) == len(mag_files))\n",
    "assert(len(qsm_files) == len(t1_resampled_files))\n",
    "assert(len(ct_files) == len(ct_seg_files))\n",
    "assert(len(ct_resliced_files) == len(ct_resliced_seg_files))"
   ]
  },
  {
   "attachments": {},
   "cell_type": "markdown",
   "metadata": {},
   "source": [
    "# Parameters"
   ]
  },
  {
   "cell_type": "code",
   "execution_count": 9,
   "metadata": {},
   "outputs": [],
   "source": [
    "model_data = {\n",
    "    'CT' : { 'in_files' : [f\"{ct_resliced_files[i]}\" for i in range(len(ct_resliced_files))], 'seg_files': ct_resliced_seg_files },\n",
    "    'QSM' : { 'in_files' : [f\"{qsm_files[i]}\" for i in range(len(qsm_files))], 'seg_files': seg_clean_files },\n",
    "    'QSM-T1' : { 'in_files' : [f\"{qsm_files[i]};{t1_resampled_files[i]}\" for i in range(len(qsm_files))], 'seg_files': seg_clean_files },\n",
    "    'T1' : { 'in_files' : [f\"{t1_resampled_files[i]}\" for i in range(len(qsm_files))], 'seg_files': seg_clean_files },\n",
    "    'SWI' : { 'in_files' : [f\"{swi_files[i]}\" for i in range(len(qsm_files))], 'seg_files': seg_clean_files },\n",
    "    'GRE' : { 'in_files' : [f\"{mag_files[i]}\" for i in range(len(qsm_files))], 'seg_files': seg_clean_files },\n",
    "}"
   ]
  },
  {
   "cell_type": "code",
   "execution_count": null,
   "metadata": {},
   "outputs": [],
   "source": [
    "model_name = 'CT'\n",
    "fold_id = 0\n",
    "k_folds = 6\n",
    "test_size = 3\n",
    "random_state = 42\n",
    "timestamp = datetime.datetime.fromtimestamp(time.time()).strftime('%Y%m%d-%H%M%S')\n",
    "\n",
    "batch_size = 4\n",
    "training_epochs = 700\n",
    "lr = 0.003\n",
    "ce_loss_weights = torch.Tensor([1, 1, 1])\n",
    "training_augmentations = [\n",
    "    fastMONAI.vision_all.PadOrCrop([80, 80, 80]),\n",
    "    fastMONAI.vision_all.RandomFlip(axes=(\"LR\",)),\n",
    "    fastMONAI.vision_all.RandomFlip(axes=(\"AP\",)),\n",
    "    fastMONAI.vision_all.RandomAffine(degrees=(90, 90, 90)),\n",
    "    fastMONAI.vision_all.ZNormalization(),\n",
    "]"
   ]
  },
  {
   "cell_type": "code",
   "execution_count": null,
   "metadata": {},
   "outputs": [],
   "source": [
    "# split training/testing\n",
    "df = pd.DataFrame(model_data[model_name])\n",
    "train_df, test_df = train_test_split(df, test_size=test_size, random_state=random_state)\n",
    "print(f\"Training samples shape: {train_df.shape}\")\n",
    "print(f\"Testing samples shape: {test_df.shape}\")\n",
    "\n",
    "# determine resampling suggestion\n",
    "med_dataset = fastMONAI.vision_all.MedDataset(\n",
    "    img_list=train_df.seg_files.tolist(),\n",
    "    dtype=fastMONAI.vision_all.MedMask\n",
    ")\n",
    "suggested_voxelsize, requires_resampling = med_dataset.suggestion()\n",
    "largest_imagesize = med_dataset.get_largest_img_size(resample=suggested_voxelsize)\n",
    "print(f\"Suggested voxel size: {suggested_voxelsize}\")\n",
    "print(f\"Requires resampling: {requires_resampling}\")\n",
    "print(f\"Largest image size: {largest_imagesize}\")\n",
    "\n",
    "# train over k validation folds\n",
    "kf = KFold(n_splits=k_folds, random_state=random_state, shuffle=True)\n",
    "(train_index, valid_index) = list(kf.split(train_df))[fold_id]\n",
    "\n",
    "# prepare dataloader\n",
    "dls = fastMONAI.vision_all.DataLoaders.from_dblock(\n",
    "    fastMONAI.vision_all.MedDataBlock(\n",
    "        blocks=(fastMONAI.vision_all.ImageBlock(cls=fastMONAI.vision_all.MedImage), fastMONAI.vision_all.MedMaskBlock),\n",
    "        splitter=fastMONAI.vision_all.IndexSplitter(valid_index),\n",
    "        get_x=fastMONAI.vision_all.ColReader('in_files'),\n",
    "        get_y=fastMONAI.vision_all.ColReader('seg_files'),\n",
    "        item_tfms=training_augmentations,\n",
    "        reorder=requires_resampling,\n",
    "        resample=suggested_voxelsize\n",
    "    ),\n",
    "    train_df,\n",
    "    bs=batch_size\n",
    ")\n",
    "\n",
    "# prepare model\n",
    "learn = fastMONAI.vision_all.Learner(\n",
    "    dls,\n",
    "    model=UNet(\n",
    "        spatial_dims=3,\n",
    "        in_channels=len(model_data[model_name]['in_files'][0].split(';')),  # qsm\n",
    "        out_channels=3, # background, marker, calcification\n",
    "        channels=(16, 32, 64, 128, 256),\n",
    "        strides=(2, 2, 2, 2),\n",
    "        num_res_units=2\n",
    "    ),\n",
    "    loss_func=DiceCELoss(\n",
    "        to_onehot_y=True,\n",
    "        include_background=True,\n",
    "        softmax=True,\n",
    "        ce_weight=ce_loss_weights\n",
    "    ),\n",
    "    opt_func=fastMONAI.vision_all.ranger,\n",
    "    metrics=[fastMONAI.vision_all.multi_dice_score, MarkersIdentified(), SuperfluousMarkers()]#.to_fp16()\n",
    ")\n",
    "print(f\"Training examples: {len(dls.train_ds.items)}\")\n",
    "print(f\"Validation examples: {len(dls.valid_ds.items)}\")\n",
    "\n",
    "print(\"Training...\")\n",
    "start_time = time.time()\n",
    "learn.fit_flat_cos(\n",
    "    training_epochs,\n",
    "    lr,\n",
    "    cbs=[\n",
    "        fastMONAI.vision_all.SaveModelCallback(monitor='valid_loss', fname=f\"{model_name}-{timestamp}-{fold_id}-best\"),\n",
    "        fastMONAI.vision_all.EarlyStoppingCallback(monitor='valid_loss', min_delta=0.01, patience=200)\n",
    "    ]\n",
    ")\n",
    "end_time = time.time()\n",
    "duration_mins = (end_time - start_time) / 60\n",
    "print(f\"Finished training after {round(duration_mins, 2)} mins\")\n",
    "learn.save(f\"{model_name}-{timestamp}-{fold_id}-final\")\n",
    "\n",
    "learn.recorder.plot_loss()"
   ]
  },
  {
   "cell_type": "code",
   "execution_count": null,
   "metadata": {},
   "outputs": [],
   "source": [
    "#learn = learn.load('QSM-T1-NOWEIGHT-20230526-152731-best')\n",
    "#learn.model.cuda()"
   ]
  }
 ],
 "metadata": {
  "kernelspec": {
   "display_name": "prostate",
   "language": "python",
   "name": "python3"
  },
  "language_info": {
   "codemirror_mode": {
    "name": "ipython",
    "version": 3
   },
   "file_extension": ".py",
   "mimetype": "text/x-python",
   "name": "python",
   "nbconvert_exporter": "python",
   "pygments_lexer": "ipython3",
   "version": "3.8.13"
  },
  "orig_nbformat": 4,
  "vscode": {
   "interpreter": {
    "hash": "03f67c3c00010b009bb49c0b41212a310c824d817af9d8224888fa5a5f2c519c"
   }
  }
 },
 "nbformat": 4,
 "nbformat_minor": 2
}
