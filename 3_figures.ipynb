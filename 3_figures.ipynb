{
 "cells": [
  {
   "cell_type": "code",
   "execution_count": 1,
   "metadata": {},
   "outputs": [
    {
     "name": "stderr",
     "output_type": "stream",
     "text": [
      "/home/uqaste15/miniconda3/envs/prostate/lib/python3.8/site-packages/torchvision/io/image.py:13: UserWarning: Failed to load image Python extension: '/home/uqaste15/miniconda3/envs/prostate/lib/python3.8/site-packages/torchvision/image.so: undefined symbol: _ZN3c104cuda20CUDACachingAllocator9allocatorE'If you don't plan on using image functionality from `torchvision.io`, you can ignore this warning. Otherwise, there might be something wrong with your environment. Did you have `libjpeg` or `libpng` installed before building `torchvision` from source?\n",
      "  warn(\n"
     ]
    }
   ],
   "source": [
    "import glob\n",
    "import os\n",
    "import json\n",
    "import datetime\n",
    "import time\n",
    "\n",
    "import torch\n",
    "import pandas as pd\n",
    "import numpy as np\n",
    "\n",
    "from sklearn.metrics import roc_curve, auc, precision_recall_curve, average_precision_score\n",
    "from sklearn.utils.class_weight import compute_sample_weight\n",
    "from sklearn.model_selection import KFold\n",
    "from sklearn.model_selection import train_test_split\n",
    "\n",
    "#from fastai.vision.all import *\n",
    "import fastMONAI.vision_all\n",
    "from monai.networks.nets import UNet\n",
    "from monai.losses import DiceCELoss\n",
    "from scipy import interpolate\n",
    "\n",
    "from useful_functions import *\n",
    "from prostate import *"
   ]
  },
  {
   "cell_type": "code",
   "execution_count": 2,
   "metadata": {},
   "outputs": [],
   "source": [
    "bids_dir = \"bids-new\""
   ]
  },
  {
   "cell_type": "code",
   "execution_count": 3,
   "metadata": {},
   "outputs": [
    {
     "name": "stdout",
     "output_type": "stream",
     "text": [
      "18 sessions found\n"
     ]
    },
    {
     "data": {
      "text/plain": [
       "['bids-new/sub-z0034542/ses-20220715',\n",
       " 'bids-new/sub-z0186251/ses-20221107',\n",
       " 'bids-new/sub-z0237546/ses-20230508',\n",
       " 'bids-new/sub-z0445614/ses-20230510',\n",
       " 'bids-new/sub-z0705200/ses-20230104',\n",
       " 'bids-new/sub-z0755228/ses-20211108',\n",
       " 'bids-new/sub-z1167038/ses-20220315',\n",
       " 'bids-new/sub-z1181657/ses-20220315',\n",
       " 'bids-new/sub-z1262112/ses-20220314',\n",
       " 'bids-new/sub-z1472355/ses-20221222',\n",
       " 'bids-new/sub-z1568577/ses-20230510',\n",
       " 'bids-new/sub-z1728751/ses-20220328',\n",
       " 'bids-new/sub-z1778013/ses-20220715',\n",
       " 'bids-new/sub-z1818796/ses-20230313',\n",
       " 'bids-new/sub-z2007565/ses-20220715',\n",
       " 'bids-new/sub-z2904752/ses-20220826',\n",
       " 'bids-new/sub-z3171177/ses-20230313',\n",
       " 'bids-new/sub-z3278008/ses-20211109']"
      ]
     },
     "execution_count": 3,
     "metadata": {},
     "output_type": "execute_result"
    }
   ],
   "source": [
    "session_dirs = []\n",
    "for json_path in sorted(glob.glob(os.path.join(bids_dir, \"sub*\", \"ses*\", \"anat\", \"*echo-01*mag*json\"))):\n",
    "    with open(json_path, 'r') as json_file:\n",
    "        json_data = json.load(json_file)\n",
    "        if json_data['ProtocolName'] == \"t2starME_qsm_tra_Iso1.4mm_INPHASE_bipolar_RUN_THIS_ONE\":\n",
    "            session_dirs.append(os.sep.join(os.path.split(json_path)[0].split(os.sep)[:-1]))\n",
    "print(f\"{len(session_dirs)} sessions found\")\n",
    "session_dirs"
   ]
  },
  {
   "cell_type": "code",
   "execution_count": 4,
   "metadata": {},
   "outputs": [
    {
     "name": "stdout",
     "output_type": "stream",
     "text": [
      "17 CT images found.\n",
      "17 CT segmentations found.\n",
      "17 resliced CT images found.\n",
      "17 resliced CT segmentations found.\n",
      "18 QSM images found.\n",
      "18 magnitude images found.\n",
      "18 T2* maps found.\n",
      "18 SWI images found.\n",
      "18 T1w files found.\n",
      "18 resampled T1w files found.\n",
      "18 GRE segmentations found.\n",
      "18 cleaned GRE segmentations found.\n"
     ]
    }
   ],
   "source": [
    "qsm_files = sorted(sum((glob.glob(os.path.join(session_dir, \"extra_data\", \"*qsm_echo2-and-echo4.*\")) for session_dir in session_dirs), []))\n",
    "seg_clean_files = sorted(sum((glob.glob(os.path.join(session_dir, \"extra_data\", \"sub*ses*segmentation_clean.*\")) for session_dir in session_dirs), []))\n",
    "t1_resampled_files = sorted(sum((glob.glob(os.path.join(session_dir, \"extra_data\", \"*t1_tra*_resampled.nii*\")) for session_dir in session_dirs), []))\n",
    "t2s_files = sorted(sum((glob.glob(os.path.join(session_dir, \"extra_data\", \"*t2starmap.nii*\")) for session_dir in session_dirs), []))\n",
    "swi_files = sorted(sum((glob.glob(os.path.join(session_dir, \"extra_data\", \"*swi.nii*\")) for session_dir in session_dirs), []))\n",
    "mag_files = sorted(sum((glob.glob(os.path.join(session_dir, \"extra_data\", \"magnitude_combined.nii\")) for session_dir in session_dirs), []))\n",
    "t1_files = [t1_file.replace(\"_resampled\", \"\") for t1_file in t1_resampled_files]\n",
    "seg_files = [seg_clean_file.replace(\"_clean\", \"\") for seg_clean_file in seg_clean_files]\n",
    "\n",
    "extra_files = sum((glob.glob(os.path.join(session_dir, \"extra_data\", \"*.nii*\")) for session_dir in session_dirs), [])\n",
    "ct_files = [extra_file for extra_file in extra_files if any(pattern in extra_file for pattern in ['_na_', '_Pelvis_']) and not any(pattern in extra_file for pattern in ['_t1_tra_', 'ATX', 'AXT', 'ROI', 'resliced', 'segmentation'])]\n",
    "\n",
    "ct_seg_files = sum((glob.glob(ct_file.replace(\".nii\", \"_segmentation_clean.nii\")) for ct_file in ct_files), [])\n",
    "ct_resliced_files = sum((glob.glob(ct_file.replace(\".nii\", \"_resliced.nii\")) for ct_file in ct_files), [])\n",
    "ct_resliced_seg_files = sum((glob.glob(ct_file.replace(\".nii\", \"_segmentation_clean.nii\")) for ct_file in ct_resliced_files), [])\n",
    "\n",
    "ct_files = [ct_file for ct_file in ct_files if 'z0237546' not in ct_file]\n",
    "ct_seg_files = [ct_file for ct_file in ct_seg_files if 'z0237546' not in ct_file]\n",
    "ct_resliced_files = [ct_file for ct_file in ct_resliced_files if 'z0237546' not in ct_file]\n",
    "ct_resliced_seg_files = [ct_file for ct_file in ct_resliced_seg_files if 'z0237546' not in ct_file]\n",
    "\n",
    "print(f\"{len(ct_files)} CT images found.\")\n",
    "print(f\"{len(ct_seg_files)} CT segmentations found.\")\n",
    "print(f\"{len(ct_resliced_files)} resliced CT images found.\")\n",
    "print(f\"{len(ct_resliced_seg_files)} resliced CT segmentations found.\")\n",
    "print(f\"{len(qsm_files)} QSM images found.\")\n",
    "print(f\"{len(mag_files)} magnitude images found.\")\n",
    "print(f\"{len(t2s_files)} T2* maps found.\")\n",
    "print(f\"{len(swi_files)} SWI images found.\")\n",
    "print(f\"{len(t1_files)} T1w files found.\")\n",
    "print(f\"{len(t1_resampled_files)} resampled T1w files found.\")\n",
    "print(f\"{len(seg_files)} GRE segmentations found.\")\n",
    "print(f\"{len(seg_clean_files)} cleaned GRE segmentations found.\")"
   ]
  },
  {
   "cell_type": "code",
   "execution_count": 5,
   "metadata": {},
   "outputs": [],
   "source": [
    "assert(len(qsm_files) == len(seg_clean_files))\n",
    "assert(len(qsm_files) == len(t2s_files))\n",
    "assert(len(qsm_files) == len(swi_files))\n",
    "assert(len(qsm_files) == len(mag_files))\n",
    "assert(len(qsm_files) == len(t1_resampled_files))\n",
    "assert(len(ct_files) == len(ct_seg_files))\n",
    "assert(len(ct_resliced_files) == len(ct_resliced_seg_files))"
   ]
  },
  {
   "cell_type": "code",
   "execution_count": 6,
   "metadata": {},
   "outputs": [],
   "source": [
    "model_data = {\n",
    "    'CT' : { 'in_files' : [f\"{ct_resliced_files[i]}\" for i in range(len(ct_resliced_files))], 'seg_files': ct_resliced_seg_files },\n",
    "    'QSM-T1' : { 'in_files' : [f\"{qsm_files[i]};{t1_resampled_files[i]}\" for i in range(len(qsm_files))], 'seg_files': seg_clean_files },\n",
    "    'QSM' : { 'in_files' : [f\"{qsm_files[i]}\" for i in range(len(qsm_files))], 'seg_files': seg_clean_files },\n",
    "    'T1' : { 'in_files' : [f\"{t1_resampled_files[i]}\" for i in range(len(qsm_files))], 'seg_files': seg_clean_files },\n",
    "    'SWI' : { 'in_files' : [f\"{swi_files[i]}\" for i in range(len(qsm_files))], 'seg_files': seg_clean_files },\n",
    "    'GRE' : { 'in_files' : [f\"{mag_files[i]}\" for i in range(len(qsm_files))], 'seg_files': seg_clean_files },\n",
    "}\n",
    "\n",
    "colors = {\n",
    "    'CT' : '#a6cee3',\n",
    "    'QSM-T1' : '#1f78b4',\n",
    "    'QSM' : '#b2df8a',\n",
    "    'T1' : '#33a02c',\n",
    "    'SWI' : '#e31a1c',\n",
    "    'GRE' : '#fb9a99',\n",
    "}"
   ]
  },
  {
   "cell_type": "code",
   "execution_count": 7,
   "metadata": {},
   "outputs": [],
   "source": [
    "model_name = 'QSM'\n",
    "k_folds = 6\n",
    "test_size = 3\n",
    "random_state = 42\n",
    "timestamp = datetime.datetime.fromtimestamp(time.time()).strftime('%Y%m%d-%H%M%S')\n",
    "\n",
    "batch_size = 4\n",
    "training_epochs = 700\n",
    "lr = 0.003\n",
    "ce_loss_weights = torch.Tensor([1, 1, 1])\n",
    "evaluation_augmentations = [\n",
    "    fastMONAI.vision_all.PadOrCrop([80, 80, 80]),\n",
    "    fastMONAI.vision_all.ZNormalization(),\n",
    "]"
   ]
  },
  {
   "cell_type": "code",
   "execution_count": null,
   "metadata": {},
   "outputs": [],
   "source": [
    "plt.figure()\n",
    "plt.plot([0, 1], [0, 1], color='navy', linestyle='--')\n",
    "model_marker_precisions = {}\n",
    "model_marker_recalls = {}\n",
    "losses = {}\n",
    "for model in model_data.keys():\n",
    "\n",
    "    print(f\"=== {model} ===\")\n",
    "\n",
    "    # split training/testing\n",
    "    df = pd.DataFrame(model_data[model])\n",
    "    train_df, test_df = train_test_split(df, test_size=test_size, random_state=random_state)\n",
    "    print(f\"Training samples shape: {train_df.shape}\")\n",
    "    print(f\"Testing samples shape: {test_df.shape}\")\n",
    "\n",
    "    if model == 'CT':\n",
    "        # determine resampling suggestion\n",
    "        med_dataset = fastMONAI.vision_all.MedDataset(\n",
    "            img_list=train_df.seg_files.tolist(),\n",
    "            dtype=fastMONAI.vision_all.MedMask\n",
    "        )\n",
    "        suggested_voxelsize, requires_resampling = med_dataset.suggestion()\n",
    "        largest_imagesize = med_dataset.get_largest_img_size(resample=suggested_voxelsize)\n",
    "        print(f\"Suggested voxel size: {suggested_voxelsize}\")\n",
    "        print(f\"Requires resampling: {requires_resampling}\")\n",
    "        print(f\"Largest image size: {largest_imagesize}\")\n",
    "\n",
    "    # k validation folds\n",
    "    kf = KFold(n_splits=k_folds, random_state=random_state, shuffle=True)\n",
    "\n",
    "    marker_precisions = []\n",
    "    marker_recalls = []\n",
    "    precisions = []\n",
    "    recalls = []\n",
    "    fprs = []\n",
    "    tprs = []\n",
    "    fm_losses = []\n",
    "    calc_losses = []\n",
    "\n",
    "    for i, (train_index, valid_index) in enumerate(kf.split(train_df)):\n",
    "        print(\"Creating datablock...\")\n",
    "        dblock = fastMONAI.vision_all.MedDataBlock(\n",
    "            blocks=(fastMONAI.vision_all.ImageBlock(cls=fastMONAI.vision_all.MedImage), fastMONAI.vision_all.MedMaskBlock),\n",
    "            splitter=fastMONAI.vision_all.IndexSplitter(valid_index),\n",
    "            get_x=fastMONAI.vision_all.ColReader('in_files'),\n",
    "            get_y=fastMONAI.vision_all.ColReader('seg_files'),\n",
    "            item_tfms=evaluation_augmentations,\n",
    "            reorder=requires_resampling,\n",
    "            resample=suggested_voxelsize\n",
    "        )\n",
    "\n",
    "        print(\"Creating dataloaders...\")\n",
    "        dls = fastMONAI.vision_all.DataLoaders.from_dblock(dblock, train_df, bs=batch_size)\n",
    "\n",
    "        n_input_channels = len(model_data[model]['in_files'][0].split(';'))\n",
    "        print(f\"Creating learner ({n_input_channels} input channels)...\")\n",
    "        learn = fastMONAI.vision_all.Learner(\n",
    "            dls,\n",
    "            model=UNet(\n",
    "                spatial_dims=3,\n",
    "                in_channels=n_input_channels,\n",
    "                out_channels=3,\n",
    "                channels=(16, 32, 64, 128, 256),\n",
    "                strides=(2, 2, 2, 2),\n",
    "                num_res_units=2\n",
    "            ),\n",
    "            loss_func=DiceCELoss(\n",
    "                to_onehot_y=True,\n",
    "                include_background=True,\n",
    "                softmax=True,\n",
    "                ce_weight=ce_loss_weights\n",
    "            ),\n",
    "            opt_func=fastMONAI.vision_all.ranger,\n",
    "            metrics=[fastMONAI.vision_all.multi_dice_score, MarkersIdentified(), SuperfluousMarkers()]#.to_fp16()\n",
    "        )\n",
    "\n",
    "        model_file = glob.glob(f\"models/{model}-2*-*-{i}-best*\")[0].replace('models/', '').replace('.pth', '')\n",
    "        print(f\"Loading model {model_file}...\")\n",
    "        learn = learn.load(model_file)\n",
    "\n",
    "        print(\"Transferring to CUDA...\")\n",
    "        learn.model.cuda()\n",
    "\n",
    "        # Compute metrics on the entire training dataset\n",
    "        print(\"Computing metrics...\")\n",
    "        correct_markers = MarkersIdentified()\n",
    "\n",
    "        dblock_valid_eval = fastMONAI.vision_all.MedDataBlock(\n",
    "            blocks=(fastMONAI.vision_all.ImageBlock(cls=fastMONAI.vision_all.MedImage), fastMONAI.vision_all.MedMaskBlock),\n",
    "            splitter=fastMONAI.vision_all.IndexSplitter([]),\n",
    "            get_x=fastMONAI.vision_all.ColReader('in_files'),\n",
    "            get_y=fastMONAI.vision_all.ColReader('seg_files'),\n",
    "            item_tfms=evaluation_augmentations,\n",
    "            reorder=requires_resampling,\n",
    "            resample=suggested_voxelsize\n",
    "        )\n",
    "        dls_valid_eval = fastMONAI.vision_all.DataLoaders.from_dblock(dblock_valid_eval, train_df.iloc[valid_index], bs=1, sampler=fastMONAI.vision_all.SequentialSampler)\n",
    "        for x, y in dls_valid_eval.train:\n",
    "            pred = torch.argmax(learn.model(x), dim=1).unsqueeze(1).to(dtype=torch.float)\n",
    "            correct_markers.accumulate(pred=pred.cpu(), targ=y.cpu())\n",
    "\n",
    "        marker_tps = correct_markers.overlap_count\n",
    "        marker_fps = correct_markers.pred_marker_count - correct_markers.overlap_count\n",
    "        marker_fns = correct_markers.targ_marker_count - correct_markers.overlap_count\n",
    "\n",
    "        marker_precision = (marker_tps / (marker_tps + marker_fps)) if (marker_tps + marker_fps) > 0 else 0\n",
    "        marker_recall = (marker_tps / (marker_tps + marker_fns))  if (marker_tps + marker_fns) > 0 else 0\n",
    "        marker_precisions.append(marker_precision)\n",
    "        marker_recalls.append(marker_recall)\n",
    "        print(f\"Marker precision: {marker_precision}\")\n",
    "        print(f\"Marker recall: {marker_recall}\")\n",
    "\n",
    "        loss, *metrics = learn.validate(ds_idx=0, dl=dls_valid_eval.train)\n",
    "        print(\"VALIDATION SET METRICS\")\n",
    "        print(f\"Dice score: {metrics[0]}; Markers identified: {metrics[1]}; Superfluous markers: {metrics[2]}\")\n",
    "        fm_losses.append(metrics[0][0])\n",
    "        calc_losses.append(metrics[0][1])\n",
    "\n",
    "        # get predictions\n",
    "        dls_valid_eval = fastMONAI.vision_all.DataLoaders.from_dblock(dblock_valid_eval, train_df.iloc[valid_index], bs=len(dls_valid_eval.train_ds), sampler=fastMONAI.vision_all.SequentialSampler)\n",
    "        valid_x, valid_y = dls_valid_eval.train.one_batch()\n",
    "\n",
    "        def calc_stuff(x, y):\n",
    "            pred = learn.model(x)[:,1,:,:,:].unsqueeze(1).cpu().detach().numpy()\n",
    "            pred -= np.min(pred)\n",
    "            pred /= np.max(pred)\n",
    "            pred = pred.flatten()\n",
    "            targ = (y.cpu() == 1).to(dtype=torch.int).detach().numpy().flatten()\n",
    "\n",
    "            # calculate AUC\n",
    "            sample_weight = compute_sample_weight(class_weight=\"balanced\", y=targ, indices=None)\n",
    "            fpr, tpr, thresholds = roc_curve(targ, pred, sample_weight=sample_weight)\n",
    "            roc_auc = auc(fpr, tpr)\n",
    "\n",
    "            # calculate precision-recall curve\n",
    "            precision, recall, _ = precision_recall_curve(targ, pred)\n",
    "            average_precision = average_precision_score(targ, pred)\n",
    "\n",
    "            return fpr, tpr, precision, recall, thresholds, average_precision, roc_auc\n",
    "\n",
    "        fpr, tpr, precision, recall, thresholds, average_tpr, roc_auc = calc_stuff(valid_x, valid_y)\n",
    "\n",
    "        precisions.append(precision)\n",
    "        recalls.append(recall)\n",
    "        fprs.append(fpr)\n",
    "        tprs.append(tpr)\n",
    "\n",
    "    model_marker_precisions[model] = [np.mean(marker_precisions), np.std(marker_precisions)]\n",
    "    model_marker_recalls[model] = [np.mean(marker_recalls), np.std(marker_recalls)]\n",
    "    losses[model] = [np.mean(fm_losses), np.std(fm_losses), np.mean(calc_losses), np.std(calc_losses)]\n",
    "\n",
    "    '''\n",
    "    # define a common set of FPR values\n",
    "    common_fpr = np.linspace(0, 1, 100)\n",
    "\n",
    "    # initialize an empty array to hold the interpolated TPRs\n",
    "    interpolated_tprs = []\n",
    "\n",
    "    for tpr, fpr in zip(tprs, fprs):\n",
    "        # interpolate the TPR values to the common FPR values\n",
    "        interpolated_tpr = np.interp(common_fpr, fpr, tpr)\n",
    "        \n",
    "        # store the interpolated TPR\n",
    "        interpolated_tprs.append(interpolated_tpr)\n",
    "\n",
    "    # calculate the average TPR at each common FPR value\n",
    "    average_tpr = np.mean(interpolated_tprs, axis=0)\n",
    "\n",
    "    roc_auc = auc(common_fpr, average_tpr)\n",
    "\n",
    "    # plot the average precision-recall curve\n",
    "    plt.plot(common_fpr, average_tpr, color=colors[model], label=f'{model} (AUC = {round(roc_auc, 2)})')\n",
    "    '''\n",
    "\n",
    "\n",
    "    '''\n",
    "    # define a common set of recall values\n",
    "    common_recall = np.linspace(0, 1, 100)\n",
    "\n",
    "    # initialize an empty array to hold the interpolated precisions\n",
    "    interpolated_precisions = []\n",
    "\n",
    "    for precision, recall in zip(precisions, recalls):\n",
    "        # reverse the arrays because recall should be non-decreasing for interpolation\n",
    "        precision = precision[::-1]\n",
    "        recall = recall[::-1]\n",
    "\n",
    "        # interpolate the precision values to the common recall values\n",
    "        interpolated_precision = np.interp(common_recall, recall, precision)\n",
    "        \n",
    "        # store the interpolated precision\n",
    "        interpolated_precisions.append(interpolated_precision)\n",
    "\n",
    "    # calculate the average precision at each common recall value\n",
    "    average_precision = np.mean(interpolated_precisions, axis=0)\n",
    "\n",
    "    # plot the average precision-recall curve\n",
    "    plt.plot(common_recall, average_precision, color=colors[model], label=f'{model}')\n",
    "    '''\n",
    "\n",
    "    del learn, dls, dblock_valid_eval, dls_valid_eval, loss, metrics, valid_x, valid_y, correct_markers\n",
    "\n",
    "'''\n",
    "plt.xlim([0.0, 1.0])\n",
    "plt.ylim([0.0, 1.05])\n",
    "plt.xlabel('False Positive Rate')\n",
    "plt.ylabel('True Positive Rate')\n",
    "plt.title('Receiver Operating Characteristic (ROC) Curves\\n(Average over 6-fold cross-validation)')\n",
    "plt.legend(loc=\"lower right\")\n",
    "plt.savefig(\"roc-curves.png\", dpi=400)\n",
    "plt.show()\n",
    "'''\n",
    "\n",
    "print(model_marker_precisions)\n",
    "print(model_marker_recalls)\n",
    "print(losses)\n",
    "\n",
    "'''\n",
    "plt.xlim([0.0, 1.0])\n",
    "plt.ylim([0.0, 1.05])\n",
    "plt.xlabel('Recall')\n",
    "plt.ylabel('Precision')\n",
    "plt.title('Precision-Recall Curves\\n(Average over 6-fold cross-validation)')\n",
    "plt.legend(loc=\"lower right\")\n",
    "plt.savefig(\"poc-curves-marker.png\", dpi=400)\n",
    "plt.show()\n",
    "'''"
   ]
  },
  {
   "cell_type": "code",
   "execution_count": null,
   "metadata": {},
   "outputs": [],
   "source": [
    "import seaborn as sns\n",
    "\n",
    "# Convert the dictionary to a pandas dataframe\n",
    "df = pd.DataFrame(model_marker_precisions).transpose().reset_index()\n",
    "df.columns = ['Model', 'Mean', 'Std']\n",
    "\n",
    "# Create a barplot using seaborn\n",
    "plt.figure(figsize=(10,6))\n",
    "sns.barplot(data=df, x='Model', y='Mean', yerr=df['Std'], capsize=.2)\n",
    "\n",
    "plt.title('Precision Across Models')\n",
    "plt.ylabel('Precision')\n",
    "plt.xlabel('Models')\n",
    "plt.show()"
   ]
  },
  {
   "cell_type": "code",
   "execution_count": null,
   "metadata": {},
   "outputs": [],
   "source": [
    "# Convert the dictionary to a pandas dataframe\n",
    "df = pd.DataFrame(model_marker_recalls).transpose().reset_index()\n",
    "df.columns = ['Model', 'Mean', 'Std']\n",
    "\n",
    "# Create a barplot using seaborn\n",
    "plt.figure(figsize=(10,6))\n",
    "sns.barplot(data=df, x='Model', y='Mean', yerr=df['Std'], capsize=.2)\n",
    "\n",
    "plt.title('Recall Across Models')\n",
    "plt.ylabel('Recall')\n",
    "plt.xlabel('Models')\n",
    "plt.show()"
   ]
  },
  {
   "cell_type": "code",
   "execution_count": null,
   "metadata": {},
   "outputs": [],
   "source": [
    "# Convert the dictionary to a pandas dataframe\n",
    "prec_df = pd.DataFrame(model_marker_precisions).transpose().reset_index()\n",
    "rec_df = pd.DataFrame(model_marker_recalls).transpose().reset_index()\n",
    "\n",
    "# Add Metric column to differentiate between Precision and Recall\n",
    "prec_df['Metric'] = 'Precision'\n",
    "rec_df['Metric'] = 'Recall'\n",
    "\n",
    "prec_df.columns = ['Model', 'Mean', 'Std', 'Metric']\n",
    "rec_df.columns = ['Model', 'Mean', 'Std', 'Metric']\n",
    "\n",
    "# Combine both dataframes\n",
    "df = pd.concat([prec_df, rec_df])"
   ]
  },
  {
   "cell_type": "code",
   "execution_count": null,
   "metadata": {},
   "outputs": [],
   "source": [
    "# Convert 'Mean' and 'Std' to the desired string format\n",
    "df['Mean +/- Std'] = df.apply(lambda row: f'{round(row[\"Mean\"], 2)} +/- {round(row[\"Std\"], 2)}', axis=1)\n",
    "\n",
    "# Pivot the table to get the desired format\n",
    "df_pivot = df.pivot(index='Model', columns='Metric', values='Mean +/- Std').reset_index()\n",
    "\n",
    "# Rename the columns to 'Recall' and 'Precision'\n",
    "df_pivot.columns = ['Model', 'Precision', 'Recall']\n",
    "df_pivot = df_pivot.sort_values('Precision', ascending=False)"
   ]
  },
  {
   "cell_type": "code",
   "execution_count": null,
   "metadata": {},
   "outputs": [],
   "source": [
    "df_pivot"
   ]
  },
  {
   "cell_type": "code",
   "execution_count": null,
   "metadata": {},
   "outputs": [],
   "source": [
    "# Create a grouped barplot using seaborn\n",
    "plt.figure(figsize=(12,8))\n",
    "barplot = sns.barplot(data=df, x='Model', y='Mean', hue='Metric', capsize=.2)\n",
    "\n",
    "# Add error bars manually\n",
    "for i, model in enumerate(df['Model'].unique()):\n",
    "    model_data = df[df['Model'] == model]\n",
    "    precision_data = model_data[model_data['Metric'] == 'Precision']\n",
    "    recall_data = model_data[model_data['Metric'] == 'Recall']\n",
    "    barplot.errorbar(x=i - 0.2, y=precision_data['Mean'].values[0], yerr=precision_data['Std'].values[0], color='black', capsize=3)\n",
    "    barplot.errorbar(x=i + 0.2, y=recall_data['Mean'].values[0], yerr=recall_data['Std'].values[0], color='black', capsize=3)\n",
    "\n",
    "plt.ylim(0, 1.05)\n",
    "plt.title('Marker-level Precision and Recall across Models')\n",
    "plt.ylabel('Score')\n",
    "plt.xlabel('Models')\n",
    "plt.show()"
   ]
  },
  {
   "cell_type": "code",
   "execution_count": null,
   "metadata": {},
   "outputs": [],
   "source": [
    "losses"
   ]
  },
  {
   "cell_type": "code",
   "execution_count": null,
   "metadata": {},
   "outputs": [],
   "source": [
    "# Initialize lists to hold the data\n",
    "model_list = []\n",
    "region_list = []\n",
    "mean_list = []\n",
    "std_list = []\n",
    "\n",
    "# Loop over the dictionary\n",
    "for model, values in losses.items():\n",
    "    # Add 'FM' region values\n",
    "    model_list.append(model)\n",
    "    region_list.append('FM')\n",
    "    mean_list.append(values[0])\n",
    "    std_list.append(values[1])\n",
    "    \n",
    "    # Add 'Calc' region values\n",
    "    model_list.append(model)\n",
    "    region_list.append('Calc')\n",
    "    mean_list.append(values[2])\n",
    "    std_list.append(values[3])\n",
    "\n",
    "# Create the DataFrame\n",
    "losses_df = pd.DataFrame({\n",
    "    'Model': model_list,\n",
    "    'Region': region_list,\n",
    "    'Mean': mean_list,\n",
    "    'Std': std_list\n",
    "})\n",
    "losses_df"
   ]
  },
  {
   "cell_type": "code",
   "execution_count": null,
   "metadata": {},
   "outputs": [],
   "source": [
    "# Create a grouped barplot using seaborn\n",
    "plt.figure(figsize=(12,8))\n",
    "barplot = sns.barplot(data=losses_df, x='Model', y='Mean', hue='Region', capsize=.2)\n",
    "\n",
    "# Add error bars manually\n",
    "for i, model in enumerate(losses_df['Model'].unique()):\n",
    "    for j, region in enumerate(losses_df['Region'].unique()):\n",
    "        model_data = losses_df[losses_df['Model'] == model]\n",
    "        model_data = model_data[model_data['Region'] == region]\n",
    "        barplot.errorbar(x=i - 0.2 + 0.4*j, y=model_data['Mean'].values[0], yerr=model_data['Std'].values[0], color='black', capsize=3)\n",
    "\n",
    "plt.ylim(0, 1.0)\n",
    "plt.title('Dice scores across models and regions')\n",
    "plt.ylabel('Dice score')\n",
    "plt.xlabel('Models')\n",
    "plt.show()"
   ]
  },
  {
   "cell_type": "code",
   "execution_count": 9,
   "metadata": {},
   "outputs": [
    {
     "name": "stdout",
     "output_type": "stream",
     "text": [
      "Training samples shape: (15, 2)\n",
      "Testing samples shape: (3, 2)\n",
      "Suggested voxel size: [1.4, 1.4, 1.4]\n",
      "Requires resampling: False\n",
      "Largest image size: [146.0, 160.0, 60.0]\n",
      "Creating datablock...\n",
      "Creating dataloaders...\n",
      "Creating learner (1 input channels)...\n",
      "Loading model QSM-20230531-170924-4-best...\n",
      "Transferring to CUDA...\n",
      "Computing metrics...\n"
     ]
    },
    {
     "name": "stderr",
     "output_type": "stream",
     "text": [
      "/home/uqaste15/miniconda3/envs/prostate/lib/python3.8/site-packages/fastai/learner.py:58: UserWarning: Saved filed doesn't contain an optimizer state.\n",
      "  elif with_opt: warn(\"Saved filed doesn't contain an optimizer state.\")\n"
     ]
    },
    {
     "name": "stdout",
     "output_type": "stream",
     "text": [
      "VALIDATION SET METRICS\n",
      "Dice score: tensor([0.6251, 0.5082]); Markers identified: 0.8333333333333334; Superfluous markers: -0.09230769230769231\n"
     ]
    }
   ],
   "source": [
    "\n",
    "# split training/testing\n",
    "model = 'QSM'\n",
    "df = pd.DataFrame(model_data[model])\n",
    "train_df, test_df = train_test_split(df, test_size=test_size, random_state=random_state)\n",
    "print(f\"Training samples shape: {train_df.shape}\")\n",
    "print(f\"Testing samples shape: {test_df.shape}\")\n",
    "\n",
    "# determine resampling suggestion\n",
    "med_dataset = fastMONAI.vision_all.MedDataset(\n",
    "    img_list=train_df.seg_files.tolist(),\n",
    "    dtype=fastMONAI.vision_all.MedMask\n",
    ")\n",
    "suggested_voxelsize, requires_resampling = med_dataset.suggestion()\n",
    "largest_imagesize = med_dataset.get_largest_img_size(resample=suggested_voxelsize)\n",
    "print(f\"Suggested voxel size: {suggested_voxelsize}\")\n",
    "print(f\"Requires resampling: {requires_resampling}\")\n",
    "print(f\"Largest image size: {largest_imagesize}\")\n",
    "\n",
    "# k validation folds\n",
    "kf = KFold(n_splits=k_folds, random_state=random_state, shuffle=True)\n",
    "\n",
    "marker_precisions = []\n",
    "marker_recalls = []\n",
    "precisions = []\n",
    "recalls = []\n",
    "fprs = []\n",
    "tprs = []\n",
    "fm_losses = []\n",
    "calc_losses = []\n",
    "i=4\n",
    "\n",
    "(train_index, valid_index) = list(kf.split(train_df))[i]\n",
    "\n",
    "print(\"Creating datablock...\")\n",
    "dblock = fastMONAI.vision_all.MedDataBlock(\n",
    "    blocks=(fastMONAI.vision_all.ImageBlock(cls=fastMONAI.vision_all.MedImage), fastMONAI.vision_all.MedMaskBlock),\n",
    "    splitter=fastMONAI.vision_all.IndexSplitter(valid_index),\n",
    "    get_x=fastMONAI.vision_all.ColReader('in_files'),\n",
    "    get_y=fastMONAI.vision_all.ColReader('seg_files'),\n",
    "    item_tfms=evaluation_augmentations,\n",
    "    reorder=requires_resampling,\n",
    "    resample=suggested_voxelsize\n",
    ")\n",
    "\n",
    "print(\"Creating dataloaders...\")\n",
    "dls = fastMONAI.vision_all.DataLoaders.from_dblock(dblock, train_df, bs=batch_size)\n",
    "\n",
    "n_input_channels = len(model_data[model]['in_files'][0].split(';'))\n",
    "print(f\"Creating learner ({n_input_channels} input channels)...\")\n",
    "learn = fastMONAI.vision_all.Learner(\n",
    "    dls,\n",
    "    model=UNet(\n",
    "        spatial_dims=3,\n",
    "        in_channels=n_input_channels,\n",
    "        out_channels=3,\n",
    "        channels=(16, 32, 64, 128, 256),\n",
    "        strides=(2, 2, 2, 2),\n",
    "        num_res_units=2\n",
    "    ),\n",
    "    loss_func=DiceCELoss(\n",
    "        to_onehot_y=True,\n",
    "        include_background=True,\n",
    "        softmax=True,\n",
    "        ce_weight=ce_loss_weights\n",
    "    ),\n",
    "    opt_func=fastMONAI.vision_all.ranger,\n",
    "    metrics=[fastMONAI.vision_all.multi_dice_score, MarkersIdentified(), SuperfluousMarkers()]#.to_fp16()\n",
    ")\n",
    "\n",
    "model_file = glob.glob(f\"models/{model}-2*-*-{i}-best*\")[0].replace('models/', '').replace('.pth', '')\n",
    "print(f\"Loading model {model_file}...\")\n",
    "learn = learn.load(model_file)\n",
    "\n",
    "print(\"Transferring to CUDA...\")\n",
    "learn.model.cuda()\n",
    "\n",
    "# Compute metrics on the entire training dataset\n",
    "print(\"Computing metrics...\")\n",
    "correct_markers = MarkersIdentified()\n",
    "\n",
    "dblock_valid_eval = fastMONAI.vision_all.MedDataBlock(\n",
    "    blocks=(fastMONAI.vision_all.ImageBlock(cls=fastMONAI.vision_all.MedImage), fastMONAI.vision_all.MedMaskBlock),\n",
    "    splitter=fastMONAI.vision_all.IndexSplitter([]),\n",
    "    get_x=fastMONAI.vision_all.ColReader('in_files'),\n",
    "    get_y=fastMONAI.vision_all.ColReader('seg_files'),\n",
    "    item_tfms=evaluation_augmentations,\n",
    "    reorder=requires_resampling,\n",
    "    resample=suggested_voxelsize\n",
    ")\n",
    "dls_valid_eval = fastMONAI.vision_all.DataLoaders.from_dblock(dblock_valid_eval, train_df.iloc[valid_index], bs=1, sampler=fastMONAI.vision_all.SequentialSampler)\n",
    "for x, y in dls_valid_eval.train:\n",
    "    pred = torch.argmax(learn.model(x), dim=1).unsqueeze(1).to(dtype=torch.float)\n",
    "    correct_markers.accumulate(pred=pred.cpu(), targ=y.cpu())\n",
    "\n",
    "marker_tps = correct_markers.overlap_count\n",
    "marker_fps = correct_markers.pred_marker_count - correct_markers.overlap_count\n",
    "marker_fns = correct_markers.targ_marker_count - correct_markers.overlap_count\n",
    "\n",
    "marker_precision = (marker_tps / (marker_tps + marker_fps)) if (marker_tps + marker_fps) > 0 else 0\n",
    "marker_recall = (marker_tps / (marker_tps + marker_fns))  if (marker_tps + marker_fns) > 0 else 0\n",
    "print(f\"Marker precision: {marker_precision}\")\n",
    "print(f\"Marker recall: {marker_recall}\")\n",
    "\n",
    "loss, *metrics = learn.validate(ds_idx=0, dl=dls_valid_eval.train)\n",
    "print(\"VALIDATION SET METRICS\")\n",
    "print(f\"Dice score: {metrics[0]}; Markers identified: {metrics[1]}; Superfluous markers: {metrics[2]}\")\n",
    "\n",
    "# get predictions\n",
    "dls_valid_eval = fastMONAI.vision_all.DataLoaders.from_dblock(dblock_valid_eval, train_df.iloc[valid_index], bs=len(dls_valid_eval.train_ds), sampler=fastMONAI.vision_all.SequentialSampler)\n",
    "valid_x, valid_y = dls_valid_eval.train.one_batch()\n"
   ]
  },
  {
   "cell_type": "code",
   "execution_count": 106,
   "metadata": {},
   "outputs": [
    {
     "data": {
      "text/html": [
       "<div>\n",
       "<style scoped>\n",
       "    .dataframe tbody tr th:only-of-type {\n",
       "        vertical-align: middle;\n",
       "    }\n",
       "\n",
       "    .dataframe tbody tr th {\n",
       "        vertical-align: top;\n",
       "    }\n",
       "\n",
       "    .dataframe thead th {\n",
       "        text-align: right;\n",
       "    }\n",
       "</style>\n",
       "<table border=\"1\" class=\"dataframe\">\n",
       "  <thead>\n",
       "    <tr style=\"text-align: right;\">\n",
       "      <th></th>\n",
       "      <th>in_files</th>\n",
       "      <th>seg_files</th>\n",
       "    </tr>\n",
       "  </thead>\n",
       "  <tbody>\n",
       "    <tr>\n",
       "      <th>12</th>\n",
       "      <td>bids-new/sub-z1778013/ses-20220715/extra_data/sub-z1778013_ses-20220715_qsm_echo2-and-echo4.nii</td>\n",
       "      <td>bids-new/sub-z1778013/ses-20220715/extra_data/sub-z1778013_ses-20220715_run-01_segmentation_clean.nii.gz</td>\n",
       "    </tr>\n",
       "    <tr>\n",
       "      <th>10</th>\n",
       "      <td>bids-new/sub-z1568577/ses-20230510/extra_data/sub-z1568577_ses-20230510_qsm_echo2-and-echo4.nii</td>\n",
       "      <td>bids-new/sub-z1568577/ses-20230510/extra_data/sub-z1568577_ses-20230510_run-01_segmentation_clean.nii</td>\n",
       "    </tr>\n",
       "  </tbody>\n",
       "</table>\n",
       "</div>"
      ],
      "text/plain": [
       "                                                                                           in_files   \n",
       "12  bids-new/sub-z1778013/ses-20220715/extra_data/sub-z1778013_ses-20220715_qsm_echo2-and-echo4.nii  \\\n",
       "10  bids-new/sub-z1568577/ses-20230510/extra_data/sub-z1568577_ses-20230510_qsm_echo2-and-echo4.nii   \n",
       "\n",
       "                                                                                                   seg_files  \n",
       "12  bids-new/sub-z1778013/ses-20220715/extra_data/sub-z1778013_ses-20220715_run-01_segmentation_clean.nii.gz  \n",
       "10     bids-new/sub-z1568577/ses-20230510/extra_data/sub-z1568577_ses-20230510_run-01_segmentation_clean.nii  "
      ]
     },
     "execution_count": 106,
     "metadata": {},
     "output_type": "execute_result"
    }
   ],
   "source": [
    "dls_valid_eval.train.items"
   ]
  },
  {
   "cell_type": "code",
   "execution_count": 10,
   "metadata": {},
   "outputs": [],
   "source": [
    "x, y = list(dls_valid_eval.train)[0]\n",
    "pred = learn.model(x).unsqueeze(1).to(dtype=torch.float)"
   ]
  },
  {
   "cell_type": "code",
   "execution_count": 11,
   "metadata": {},
   "outputs": [
    {
     "data": {
      "text/plain": [
       "torch.Size([2, 1, 3, 80, 80, 80])"
      ]
     },
     "execution_count": 11,
     "metadata": {},
     "output_type": "execute_result"
    }
   ],
   "source": [
    "pred.shape"
   ]
  },
  {
   "cell_type": "code",
   "execution_count": 12,
   "metadata": {},
   "outputs": [],
   "source": [
    "pred_data = torch.Tensor(pred)"
   ]
  },
  {
   "cell_type": "code",
   "execution_count": 87,
   "metadata": {},
   "outputs": [],
   "source": [
    "pred_1 = pred_data[0,0,1,:,:,:]"
   ]
  },
  {
   "cell_type": "code",
   "execution_count": 88,
   "metadata": {},
   "outputs": [
    {
     "data": {
      "text/plain": [
       "torch.Size([80, 80, 80])"
      ]
     },
     "execution_count": 88,
     "metadata": {},
     "output_type": "execute_result"
    }
   ],
   "source": [
    "pred_1.shape"
   ]
  },
  {
   "cell_type": "code",
   "execution_count": 119,
   "metadata": {},
   "outputs": [],
   "source": [
    "def pad_tensor(input_tensor, target_size):\n",
    "    # Calculate padding for each dimension\n",
    "    pad_depth = max(0, target_size[0] - input_tensor.shape[0])\n",
    "    pad_height = max(0, target_size[1] - input_tensor.shape[1])\n",
    "    pad_width = max(0, target_size[2] - input_tensor.shape[2])\n",
    "\n",
    "    print(pad_depth)\n",
    "    print(pad_height)\n",
    "    print(pad_width)\n",
    "\n",
    "    # Apply padding\n",
    "    padded_tensor = torch.nn.functional.pad(input_tensor, (pad_width//2, pad_width//2, pad_height//2, pad_height//2, pad_depth//2, pad_depth//2))\n",
    "\n",
    "    if any(i < j for i, j in zip(target_size, padded_tensor.shape)):\n",
    "        # Reshaping tensor shape for 5D input to F.interpolate()\n",
    "        padded_tensor = padded_tensor.unsqueeze(0).unsqueeze(0)\n",
    "\n",
    "        # Use interpolation to resample\n",
    "        resampled_tensor = torch.nn.functional.interpolate(padded_tensor, size=target_size, mode='trilinear', align_corners=False)\n",
    "\n",
    "        # Remove added dimensions\n",
    "        resampled_tensor = resampled_tensor.squeeze(0).squeeze(0)\n",
    "\n",
    "        return resampled_tensor\n",
    "\n",
    "    return padded_tensor"
   ]
  },
  {
   "cell_type": "code",
   "execution_count": 120,
   "metadata": {},
   "outputs": [
    {
     "name": "stdout",
     "output_type": "stream",
     "text": [
      "66\n",
      "80\n",
      "0\n"
     ]
    }
   ],
   "source": [
    "pred_2 = pad_tensor(pred_1, (146, 160, 60))"
   ]
  },
  {
   "cell_type": "code",
   "execution_count": 121,
   "metadata": {},
   "outputs": [
    {
     "data": {
      "text/plain": [
       "(146, 160, 60)"
      ]
     },
     "execution_count": 121,
     "metadata": {},
     "output_type": "execute_result"
    }
   ],
   "source": [
    "pred_2.cpu().detach().numpy().shape"
   ]
  },
  {
   "cell_type": "code",
   "execution_count": 125,
   "metadata": {},
   "outputs": [
    {
     "data": {
      "image/png": "[encoded data removed]",
      "text/plain": [
       "<Figure size 640x480 with 1 Axes>"
      ]
     },
     "metadata": {},
     "output_type": "display_data"
    }
   ],
   "source": [
    "show_image(pred_2.cpu().detach().numpy()[:,:,30])"
   ]
  },
  {
   "cell_type": "code",
   "execution_count": 126,
   "metadata": {},
   "outputs": [
    {
     "name": "stdout",
     "output_type": "stream",
     "text": [
      "(146, 160, 60)\n"
     ]
    }
   ],
   "source": [
    "import nibabel as nib\n",
    "nii = nib.load(dls_valid_eval.train.items['in_files'].iloc[0])\n",
    "print(nii.get_fdata().shape)\n",
    "nib.save(nib.Nifti1Image(dataobj=pred_2.cpu().detach().numpy()[:,:,], affine=nii.affine, header=nii.header), \"out.nii\")"
   ]
  },
  {
   "cell_type": "code",
   "execution_count": null,
   "metadata": {},
   "outputs": [],
   "source": []
  }
 ],
 "metadata": {
  "kernelspec": {
   "display_name": "prostate",
   "language": "python",
   "name": "python3"
  },
  "language_info": {
   "codemirror_mode": {
    "name": "ipython",
    "version": 3
   },
   "file_extension": ".py",
   "mimetype": "text/x-python",
   "name": "python",
   "nbconvert_exporter": "python",
   "pygments_lexer": "ipython3",
   "version": "3.8.13"
  },
  "orig_nbformat": 4,
  "vscode": {
   "interpreter": {
    "hash": "03f67c3c00010b009bb49c0b41212a310c824d817af9d8224888fa5a5f2c519c"
   }
  }
 },
 "nbformat": 4,
 "nbformat_minor": 2
}
