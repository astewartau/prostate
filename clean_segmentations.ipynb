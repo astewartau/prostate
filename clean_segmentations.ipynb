{
 "cells": [
  {
   "cell_type": "code",
   "execution_count": 1,
   "metadata": {},
   "outputs": [],
   "source": [
    "import os\n",
    "import glob\n",
    "import nibabel as nib\n",
    "import numpy as np\n",
    "import enum\n",
    "import json"
   ]
  },
  {
   "cell_type": "code",
   "execution_count": 2,
   "metadata": {},
   "outputs": [],
   "source": [
    "bids_dir = \"bids-new\""
   ]
  },
  {
   "cell_type": "code",
   "execution_count": 3,
   "metadata": {},
   "outputs": [
    {
     "name": "stdout",
     "output_type": "stream",
     "text": [
      "15 sessions found:\n",
      "bids-new/sub-z0034542/ses-20220715\n",
      "bids-new/sub-z0186251/ses-20221107\n",
      "bids-new/sub-z0705200/ses-20230104\n",
      "bids-new/sub-z0755228/ses-20211108\n",
      "bids-new/sub-z1167038/ses-20220315\n",
      "bids-new/sub-z1181657/ses-20220315\n",
      "bids-new/sub-z1262112/ses-20220314\n",
      "bids-new/sub-z1472355/ses-20221222\n",
      "bids-new/sub-z1728751/ses-20220328\n",
      "bids-new/sub-z1778013/ses-20220715\n",
      "bids-new/sub-z1818796/ses-20230313\n",
      "bids-new/sub-z2007565/ses-20220715\n",
      "bids-new/sub-z2904752/ses-20220826\n",
      "bids-new/sub-z3171177/ses-20230313\n",
      "bids-new/sub-z3278008/ses-20211109\n"
     ]
    }
   ],
   "source": [
    "session_dirs = []\n",
    "for json_path in sorted(glob.glob(os.path.join(bids_dir, \"sub*\", \"ses*\", \"anat\", \"*echo-01*mag*json\"))):\n",
    "    with open(json_path, 'r') as json_file:\n",
    "        json_data = json.load(json_file)\n",
    "        if json_data['ProtocolName'] == \"t2starME_qsm_tra_Iso1.4mm_INPHASE_bipolar_RUN_THIS_ONE\":\n",
    "            session_dirs.append(os.sep.join(os.path.split(json_path)[0].split(os.sep)[:-1]))\n",
    "print(f\"{len(session_dirs)} sessions found:\")\n",
    "for session_dir in session_dirs: print(session_dir)"
   ]
  },
  {
   "cell_type": "code",
   "execution_count": 4,
   "metadata": {},
   "outputs": [
    {
     "name": "stdout",
     "output_type": "stream",
     "text": [
      "15 QSM images found.\n",
      "15 CT images found.\n",
      "15 segmentations found.\n"
     ]
    },
    {
     "name": "stderr",
     "output_type": "stream",
     "text": [
      "/home/uqaste15/miniconda3/envs/prostate/lib/python3.8/site-packages/numpy/core/_methods.py:179: RuntimeWarning: invalid value encountered in reduce\n",
      "  ret = umr_sum(arr, axis, dtype, out, keepdims, where=where)\n"
     ]
    }
   ],
   "source": [
    "qsm_files = [glob.glob(os.path.join(session_dir, \"extra_data\", \"*qsm.*\")) for session_dir in session_dirs]\n",
    "seg_files = [glob.glob(os.path.join(session_dir, \"extra_data\", \"*segmentation.*\")) for session_dir in session_dirs]\n",
    "\n",
    "qsm_files = [qsm_file_list[0] for qsm_file_list in qsm_files if len(qsm_file_list)]\n",
    "seg_files = [seg_file_list[0] for seg_file_list in seg_files if len(seg_file_list)]\n",
    "\n",
    "print(f\"{len(qsm_files)} QSM images found.\")\n",
    "print(f\"{len(seg_files)} segmentations found.\")\n",
    "\n",
    "class SegType(enum.Enum):\n",
    "    NO_LABEL = 0\n",
    "    PROSTATE = 1\n",
    "    GOLD_SEED = 2\n",
    "    CALCIFICATION = 3\n",
    "\n",
    "for i in range(len(qsm_files)):\n",
    "    # load files\n",
    "    qsm_nii = nib.load(qsm_files[i])\n",
    "    seg_nii = nib.load(seg_files[i])\n",
    "\n",
    "    # get image data\n",
    "    qsm = qsm_nii.get_fdata()\n",
    "    seg = np.array(seg_nii.get_fdata(), dtype=np.uint8)\n",
    "\n",
    "    # separate prostate tissue values\n",
    "    prostate_values = qsm[seg == SegType.PROSTATE.value]\n",
    "\n",
    "    # identify susceptibility values less than two standard deviations below the mean\n",
    "    inliers = qsm + 3*np.std(prostate_values) > np.mean(qsm)\n",
    "\n",
    "    # clean up segmentations such that 'inliers' are excluded and prostate is removed\n",
    "    seg[np.logical_and(seg == SegType.GOLD_SEED.value, inliers)] = 0\n",
    "    seg[np.logical_and(seg == SegType.CALCIFICATION.value, inliers)] = 0\n",
    "    seg[seg == SegType.PROSTATE.value] = 0\n",
    "    seg[seg == SegType.GOLD_SEED.value] = 1\n",
    "    seg[seg == SegType.CALCIFICATION.value] = 2\n",
    "\n",
    "    # save result using original file extension\n",
    "    extension = \".\".join(seg_files[i].split('.')[1:])\n",
    "    filename=f\"{seg_files[i].split('.')[0]}_clean.{extension}\"\n",
    "    nib.save(nib.Nifti1Image(seg, header=seg_nii.header, affine=seg_nii.affine), filename=filename)\n",
    "\n",
    "    seg_files[i] = filename"
   ]
  }
 ],
 "metadata": {
  "kernelspec": {
   "display_name": "prostate",
   "language": "python",
   "name": "python3"
  },
  "language_info": {
   "codemirror_mode": {
    "name": "ipython",
    "version": 3
   },
   "file_extension": ".py",
   "mimetype": "text/x-python",
   "name": "python",
   "nbconvert_exporter": "python",
   "pygments_lexer": "ipython3",
   "version": "3.8.13"
  },
  "orig_nbformat": 4,
  "vscode": {
   "interpreter": {
    "hash": "03f67c3c00010b009bb49c0b41212a310c824d817af9d8224888fa5a5f2c519c"
   }
  }
 },
 "nbformat": 4,
 "nbformat_minor": 2
}
