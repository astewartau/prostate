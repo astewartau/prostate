{
 "cells": [
  {
   "attachments": {},
   "cell_type": "markdown",
   "metadata": {},
   "source": [
    "# QSM Reconstruction"
   ]
  },
  {
   "cell_type": "code",
   "execution_count": null,
   "metadata": {},
   "outputs": [],
   "source": [
    "!qsmxt bids out \\\n",
    "    --premade 'body' \\\n",
    "    --do_qsm \\\n",
    "    --do_t2starmap \\\n",
    "    --do_r2starmap \\\n",
    "    --do_swi \\\n",
    "    --mask_erosions 3 0 \\\n",
    "    --threshold_value 25.0 \\\n",
    "    --slurm a_barth general \\\n",
    "    --auto_yes"
   ]
  },
  {
   "attachments": {},
   "cell_type": "markdown",
   "metadata": {},
   "source": [
    "# Imports"
   ]
  },
  {
   "cell_type": "code",
   "execution_count": 1,
   "metadata": {},
   "outputs": [],
   "source": [
    "import os\n",
    "import glob\n",
    "import nibabel as nib\n",
    "import nilearn.image\n",
    "import numpy as np\n",
    "import enum\n",
    "import json\n",
    "from scipy.ndimage import label\n",
    "import cv2\n",
    "import scipy\n",
    "from scipy.ndimage import binary_dilation, binary_erosion, generate_binary_structure, label, center_of_mass"
   ]
  },
  {
   "attachments": {},
   "cell_type": "markdown",
   "metadata": {},
   "source": [
    "# Locate data"
   ]
  },
  {
   "cell_type": "code",
   "execution_count": 2,
   "metadata": {},
   "outputs": [],
   "source": [
    "bids_dir = \"bids\""
   ]
  },
  {
   "cell_type": "code",
   "execution_count": 3,
   "metadata": {},
   "outputs": [
    {
     "name": "stdout",
     "output_type": "stream",
     "text": [
      "25 sessions found.\n"
     ]
    }
   ],
   "source": [
    "session_dirs = []\n",
    "for json_path in sorted(glob.glob(os.path.join(bids_dir, \"sub*\", \"ses*\", \"anat\", \"*echo-01*mag*json\"))):\n",
    "    with open(json_path, 'r') as json_file:\n",
    "        json_data = json.load(json_file)\n",
    "        if json_data['ProtocolName'] in [\"wip_iSWI_fl3d_vibe_TRY THIS ONE\"]:#, \"wip_iSWI_fl3d_vibe\", \"wip_iSWI_fl3d_vibe_TRY THIS ONE\"]:\n",
    "            session_dirs.append(os.sep.join(os.path.split(json_path)[0].split(os.sep)[:-1]))\n",
    "\n",
    "# remove all sessions with 'sub-z0449294' in the path\n",
    "session_dirs = sorted(set([s for s in session_dirs if 'sub-z0449294' not in s]))\n",
    "print(f\"{len(session_dirs)} sessions found.\")"
   ]
  },
  {
   "cell_type": "code",
   "execution_count": 4,
   "metadata": {},
   "outputs": [
    {
     "name": "stdout",
     "output_type": "stream",
     "text": [
      "25 field maps found.\n",
      "25 CT images found.\n",
      "25 raw CT segmentations found.\n",
      "25 clean CT segmentations found.\n",
      "25 raw GRE segmentations found.\n",
      "25 clean GRE segmentations found.\n",
      "25 QSM images found.\n",
      "25 QSM (2) images found.\n",
      "25 magnitude images found.\n",
      "25 T2* maps found.\n",
      "25 R2* maps found.\n",
      "25 SWI maps found.\n",
      "25 T1w files found.\n"
     ]
    }
   ],
   "source": [
    "extra_files = sorted(sum((glob.glob(os.path.join(session_dir, \"extra_data\", \"*.nii*\")) for session_dir in session_dirs), []))\n",
    "\n",
    "qsm_files2 = sorted(sum((glob.glob(os.path.join(session_dir, \"extra_data\", \"*real.nii*\")) for session_dir in session_dirs), []))\n",
    "qsm_files = [x for x in sorted(glob.glob(os.path.join(\"out/qsm/*.nii\"))) if 'sub-z0449294' not in x]\n",
    "t2s_files = [x for x in sorted(glob.glob(os.path.join(\"out/t2s/*.nii\"))) if 'sub-z0449294' not in x]\n",
    "r2s_files = [x for x in sorted(glob.glob(os.path.join(\"out/r2s/*.nii\"))) if 'sub-z0449294' not in x]\n",
    "swi_files = [x for x in sorted(glob.glob(os.path.join(\"out/swi/*swi.nii\"))) if 'sub-z0449294' not in x]\n",
    "mag_files = [extra_file for extra_file in extra_files if os.path.split(extra_file)[1] == 'magnitude_combined.nii']\n",
    "fmap_files = [extra_file for extra_file in extra_files if os.path.split(extra_file)[1] == 'B0.nii']\n",
    "\n",
    "gre_seg_clean_files = sorted([extra_file for extra_file in extra_files if all(pattern in extra_file for pattern in ['segmentation_clean.', 'tgvqsmjl'])])\n",
    "t1_files = sorted([extra_file for extra_file in extra_files if 'T1w_resliced' in extra_file])\n",
    "\n",
    "# Missing CT for sub-z0449294 \n",
    "ct_files = sorted([extra_file for extra_file in extra_files if 'resliced' in extra_file and 'T1w' not in extra_file and 'segmentation' not in extra_file and 'downsampled' not in extra_file])\n",
    "ct_seg_files = sorted([ct_file.replace(\".nii\", \"_segmentation.nii\") for ct_file in ct_files if os.path.exists(ct_file.replace(\".nii\", \"_segmentation.nii\"))])\n",
    "gre_seg_files = ct_seg_files\n",
    "ct_seg_clean_files = sorted([ct_file.replace(\".nii\", \"_clean.nii\") for ct_file in ct_seg_files if os.path.exists(ct_file.replace(\".nii\", \"_clean.nii\"))])\n",
    "\n",
    "print(f\"{len(fmap_files)} field maps found.\")\n",
    "print(f\"{len(ct_files)} CT images found.\")\n",
    "print(f\"{len(ct_seg_files)} raw CT segmentations found.\")\n",
    "print(f\"{len(ct_seg_clean_files)} clean CT segmentations found.\")\n",
    "print(f\"{len(gre_seg_files)} raw GRE segmentations found.\")\n",
    "print(f\"{len(gre_seg_clean_files)} clean GRE segmentations found.\")\n",
    "print(f\"{len(qsm_files)} QSM images found.\")\n",
    "print(f\"{len(qsm_files2)} QSM (2) images found.\")\n",
    "print(f\"{len(mag_files)} magnitude images found.\")\n",
    "print(f\"{len(t2s_files)} T2* maps found.\")\n",
    "print(f\"{len(r2s_files)} R2* maps found.\")\n",
    "print(f\"{len(swi_files)} SWI maps found.\")\n",
    "print(f\"{len(t1_files)} T1w files found.\")"
   ]
  },
  {
   "attachments": {},
   "cell_type": "markdown",
   "metadata": {},
   "source": [
    "# Clean up segmentations"
   ]
  },
  {
   "cell_type": "markdown",
   "metadata": {},
   "source": [
    "## CT"
   ]
  },
  {
   "cell_type": "code",
   "execution_count": 10,
   "metadata": {},
   "outputs": [
    {
     "name": "stdout",
     "output_type": "stream",
     "text": [
      "Saved bids/sub-z0002292/ses-20240318/extra_data/sub-z0002292_ses-20240318_acq-wipiswifl3dvibetrythisone_run-01_echo-01_part-phase_MEGRE_scaled_tgvqsmjl_twopass_average_ref_segmentation_clean.nii\n",
      "Saved bids/sub-z0163277/ses-20240123/extra_data/sub-z0163277_ses-20240123_acq-wipiswifl3dvibetrythisone_run-01_echo-01_part-phase_MEGRE_scaled_tgvqsmjl_twopass_average_ref_segmentation_clean.nii\n",
      "Saved bids/sub-z0206923/ses-20231003/extra_data/sub-z0206923_ses-20231003_acq-wipiswifl3dvibetrythisone_run-01_echo-01_part-phase_MEGRE_scaled_tgvqsmjl_twopass_average_ref_segmentation_clean.nii\n",
      "Saved bids/sub-z0232771/ses-20240228/extra_data/sub-z0232771_ses-20240228_acq-wipiswifl3dvibetrythisone_run-01_echo-01_part-phase_MEGRE_scaled_tgvqsmjl_twopass_average_ref_segmentation_clean.nii\n",
      "Saved bids/sub-z0347933/ses-20240129/extra_data/sub-z0347933_ses-20240129_acq-wipiswifl3dvibetrythisone_run-01_echo-01_part-phase_MEGRE_scaled_tgvqsmjl_twopass_average_ref_segmentation_clean.nii\n",
      "Saved bids/sub-z0381949/ses-20231005/extra_data/sub-z0381949_ses-20231005_acq-wipiswifl3dvibetrythisone_run-01_echo-01_part-phase_MEGRE_scaled_tgvqsmjl_twopass_average_ref_segmentation_clean.nii\n",
      "Saved bids/sub-z0742379/ses-20240124/extra_data/sub-z0742379_ses-20240124_acq-wipiswifl3dvibetrythisone_run-01_echo-01_part-phase_MEGRE_scaled_tgvqsmjl_twopass_average_ref_segmentation_clean.nii\n",
      "Saved bids/sub-z0747844/ses-20240304/extra_data/sub-z0747844_ses-20240304_acq-wipiswifl3dvibetrythisone_run-01_echo-01_part-phase_MEGRE_scaled_tgvqsmjl_twopass_average_ref_segmentation_clean.nii\n",
      "Saved bids/sub-z1318033/ses-20230825/extra_data/sub-z1318033_ses-20230825_acq-wipiswifl3dvibetrythisone_run-01_echo-01_part-phase_MEGRE_scaled_tgvqsmjl_twopass_average_ref_segmentation_clean.nii\n",
      "Saved bids/sub-z1384048/ses-20231108/extra_data/sub-z1384048_ses-20231108_acq-wipiswifl3dvibetrythisone_run-01_echo-01_part-phase_MEGRE_scaled_tgvqsmjl_twopass_average_ref_segmentation_clean.nii\n",
      "Saved bids/sub-z1421134/ses-20231205/extra_data/sub-z1421134_ses-20231205_acq-wipiswifl3dvibetrythisone_run-01_echo-01_part-phase_MEGRE_scaled_tgvqsmjl_twopass_average_ref_segmentation_clean.nii\n",
      "Saved bids/sub-z1448271/ses-20231110/extra_data/sub-z1448271_ses-20231110_acq-wipiswifl3dvibetrythisone_run-01_echo-01_part-phase_MEGRE_scaled_tgvqsmjl_twopass_average_ref_segmentation_clean.nii\n",
      "Saved bids/sub-z1484547/ses-20240102/extra_data/sub-z1484547_ses-20240102_acq-wipiswifl3dvibetrythisone_run-01_echo-01_part-phase_MEGRE_scaled_tgvqsmjl_twopass_average_ref_segmentation_clean.nii\n",
      "Saved bids/sub-z1635498/ses-20240305/extra_data/sub-z1635498_ses-20240305_acq-wipiswifl3dvibetrythisone_run-01_echo-01_part-phase_MEGRE_scaled_tgvqsmjl_twopass_average_ref_segmentation_clean.nii\n",
      "Saved bids/sub-z1638396/ses-20240311/extra_data/sub-z1638396_ses-20240311_acq-wipiswifl3dvibetrythisone_run-01_echo-01_part-phase_MEGRE_scaled_tgvqsmjl_twopass_average_ref_segmentation_clean.nii\n",
      "Saved bids/sub-z1645782/ses-20231010/extra_data/sub-z1645782_ses-20231010_acq-wipiswifl3dvibetrythisone_run-01_echo-01_part-phase_MEGRE_scaled_tgvqsmjl_twopass_average_ref_segmentation_clean.nii\n",
      "Saved bids/sub-z1691325/ses-20240227/extra_data/sub-z1691325_ses-20240227_acq-wipiswifl3dvibetrythisone_run-01_echo-01_part-phase_MEGRE_scaled_tgvqsmjl_twopass_average_ref_segmentation_clean.nii\n",
      "Saved bids/sub-z2105112/ses-20231220/extra_data/sub-z2105112_ses-20231220_acq-wipiswifl3dvibetrythisone_run-01_echo-01_part-phase_MEGRE_scaled_tgvqsmjl_twopass_average_ref_segmentation_clean.nii\n",
      "Saved bids/sub-z2684925/ses-20240313/extra_data/sub-z2684925_ses-20240313_acq-wipiswifl3dvibetrythisone_run-01_echo-01_part-phase_MEGRE_scaled_tgvqsmjl_twopass_average_ref_segmentation_clean.nii\n",
      "Saved bids/sub-z2996397/ses-20231201/extra_data/sub-z2996397_ses-20231201_acq-wipiswifl3dvibetrythisone_run-01_echo-01_part-phase_MEGRE_scaled_tgvqsmjl_twopass_average_ref_segmentation_clean.nii\n",
      "Saved bids/sub-z3145629/ses-20231204/extra_data/sub-z3145629_ses-20231204_acq-wipiswifl3dvibetrythisone_run-01_echo-01_part-phase_MEGRE_scaled_tgvqsmjl_twopass_average_ref_segmentation_clean.nii\n",
      "Saved bids/sub-z3212665/ses-20240305/extra_data/sub-z3212665_ses-20240305_acq-wipiswifl3dvibetrythisone_run-01_echo-01_part-phase_MEGRE_scaled_tgvqsmjl_twopass_average_ref_segmentation_clean.nii\n",
      "Saved bids/sub-z3220308/ses-20231009/extra_data/sub-z3220308_ses-20231009_acq-wipiswifl3dvibetrythisone_run-01_echo-01_part-phase_MEGRE_scaled_tgvqsmjl_twopass_average_ref_segmentation_clean.nii\n",
      "Saved bids/sub-z3268423/ses-20240109/extra_data/sub-z3268423_ses-20240109_acq-wipiswifl3dvibetrythisone_run-01_echo-01_part-phase_MEGRE_scaled_tgvqsmjl_twopass_average_ref_segmentation_clean.nii\n",
      "Saved bids/sub-z4043512/ses-20240112/extra_data/sub-z4043512_ses-20240112_acq-wipiswifl3dvibetrythisone_run-01_echo-01_part-phase_MEGRE_scaled_tgvqsmjl_twopass_average_ref_segmentation_clean.nii\n"
     ]
    }
   ],
   "source": [
    "class SegType(enum.Enum):\n",
    "    NO_LABEL = 0\n",
    "    PROSTATE = 1\n",
    "    GOLD_SEED = 2\n",
    "    CALCIFICATION = 3\n",
    "\n",
    "def create_spherical_mask(center, shape, radius):\n",
    "    # Create an array filled with indices\n",
    "    indices = np.indices(shape).transpose((1, 2, 3, 0))\n",
    "    # Calculate the distance of each index from the center\n",
    "    distances = np.linalg.norm(indices - center, axis=-1)\n",
    "    # Create a mask where the distance is less than or equal to the radius\n",
    "    mask = distances <= radius\n",
    "    return mask\n",
    "\n",
    "for i in range(len(qsm_files)):\n",
    "    # load files\n",
    "    qsm_nii = nib.load(qsm_files[i])\n",
    "    seg_nii = nib.load(ct_seg_files[i])\n",
    "\n",
    "    # get image data\n",
    "    qsm = qsm_nii.get_fdata()\n",
    "    seg = np.array(seg_nii.get_fdata(), dtype=np.uint8)\n",
    "\n",
    "    # get prostate values\n",
    "    prostate_values = qsm[seg == SegType.PROSTATE.value]\n",
    "\n",
    "    stdevs = 2.5\n",
    "\n",
    "    # automated gold seed mask\n",
    "    seed_mask_labelled, num_labels = label(\n",
    "        input=seg == SegType.GOLD_SEED.value,\n",
    "        structure=np.ones((3, 3, 3))\n",
    "    )\n",
    "    seed_mask = np.zeros(seg.shape, dtype=np.uint8)\n",
    "    for seed_id in range(1, num_labels + 1):\n",
    "        seed_i_mask = seed_mask_labelled == seed_id\n",
    "        seed_i_mean = qsm[seed_i_mask].mean()\n",
    "\n",
    "        # get centre voxel of seed mask\n",
    "        centre_voxel = center_of_mass(seed_i_mask)\n",
    "        seed_i_mask = create_spherical_mask(centre_voxel, seed_i_mask.shape, radius=2.5)\n",
    "\n",
    "        '''\n",
    "        if seed_i_mean > prostate_values.mean() + 1*prostate_values.std():\n",
    "            seed_i_mask = np.logical_and(seed_i_mask, qsm < prostate_values.mean() - stdevs*prostate_values.std())\n",
    "            seed_i_mask = np.logical_and(binary_dilation(seed_i_mask), (qsm < np.mean(prostate_values) - stdevs*np.std(prostate_values)))\n",
    "            #seed_i_mask = np.logical_and(seed_i_mask, qsm > prostate_values.mean() + stdevs*prostate_values.std())\n",
    "            #seed_i_mask = np.logical_and(binary_dilation(seed_i_mask), (qsm > np.mean(prostate_values) + stdevs*np.std(prostate_values)))\n",
    "        else:\n",
    "            seed_i_mask = np.logical_and(seed_i_mask, qsm < prostate_values.mean() - stdevs*prostate_values.std())\n",
    "            seed_i_mask = np.logical_and(binary_dilation(seed_i_mask), (qsm < np.mean(prostate_values) - stdevs*np.std(prostate_values)))\n",
    "        '''\n",
    "        seed_mask = np.logical_or(seed_mask, seed_i_mask)\n",
    "    structure = generate_binary_structure(3, 1) # 3 for 3D image, 2 for full connectivity\n",
    "    labeled_mask, num_features = label(seed_mask, structure)\n",
    "    for idx in range(1, num_features + 1):\n",
    "        if np.sum(labeled_mask == idx) == 1:\n",
    "            seed_mask[labeled_mask == idx] = 0\n",
    "    seed_mask = np.logical_and(seed_mask, seg == SegType.GOLD_SEED.value)\n",
    "\n",
    "    # automated calcification mask\n",
    "    calc_mask = np.array(seg == SegType.CALCIFICATION.value, dtype=np.uint8)\n",
    "    calc_mask = np.logical_and(calc_mask, qsm < prostate_values.mean() - stdevs*prostate_values.std())\n",
    "    calc_mask = np.logical_and(binary_dilation(calc_mask), (qsm < np.mean(prostate_values) - stdevs*np.std(prostate_values)))\n",
    "    structure = generate_binary_structure(3, 1) # 3 for 3D image, 2 for full connectivity\n",
    "    labeled_mask, num_features = label(calc_mask, structure)\n",
    "    for idx in range(1, num_features + 1):\n",
    "        if np.sum(labeled_mask == idx) == 1:\n",
    "            calc_mask[labeled_mask == idx] = 0\n",
    "    calc_mask = np.logical_and(calc_mask, seg == SegType.CALCIFICATION.value)\n",
    "\n",
    "    # setup final values\n",
    "    seg[seg == SegType.GOLD_SEED.value] = 0\n",
    "    seg[seg == SegType.CALCIFICATION.value] = 0\n",
    "    seg[seg == SegType.PROSTATE.value] = 0\n",
    "\n",
    "    seg[seed_mask] = 1\n",
    "    seg[calc_mask] = 2\n",
    "    \n",
    "    # save result using original file extension\n",
    "    filename = f\"{qsm_files[i].replace('.nii', '_segmentation_clean.nii')}\"\n",
    "    filename = os.path.join(os.path.split(ct_seg_files[i])[0], os.path.split(filename)[1])\n",
    "    nib.save(nib.Nifti1Image(seg, header=seg_nii.header, affine=seg_nii.affine), filename=filename)\n",
    "    print(f\"Saved {filename}\")"
   ]
  },
  {
   "cell_type": "markdown",
   "metadata": {},
   "source": [
    "## MRI"
   ]
  },
  {
   "cell_type": "code",
   "execution_count": 17,
   "metadata": {},
   "outputs": [
    {
     "name": "stdout",
     "output_type": "stream",
     "text": [
      "Saved bids/sub-z0002292/ses-20240318/extra_data/series-6_16_Pelvis_16_Pelvis_20240318092750_6_resliced_segmentation_clean.nii\n",
      "Saved bids/sub-z0163277/ses-20240123/extra_data/series-5_16_Pelvis_16_Pelvis_20240123085135_5_resliced_segmentation_clean.nii\n",
      "Saved bids/sub-z0206923/ses-20231003/extra_data/series-5_NA_20231003083739_5_resliced_segmentation_clean.nii\n",
      "Saved bids/sub-z0232771/ses-20240228/extra_data/series-5_16_Pelvis_16_Pelvis_20240228094427_5_resliced_segmentation_clean.nii\n",
      "Saved bids/sub-z0347933/ses-20240129/extra_data/series-4_16_Pelvis_16_Pelvis_20240129121046_4_resliced_segmentation_clean.nii\n",
      "Saved bids/sub-z0381949/ses-20231005/extra_data/series-5_NA_20231005075647_5_resliced_segmentation_clean.nii\n",
      "Saved bids/sub-z0742379/ses-20240124/extra_data/series-6_16_Pelvis_16_Pelvis_20240124093902_6_resliced_segmentation_clean.nii\n",
      "Saved bids/sub-z0747844/ses-20240304/extra_data/series-5_16_Pelvis_16_Pelvis_20240304114712_5_resliced_segmentation_clean.nii\n",
      "Saved bids/sub-z1318033/ses-20230825/extra_data/series-3_NA_20230825101546_3_resliced_segmentation_clean.nii\n",
      "Saved bids/sub-z1384048/ses-20231108/extra_data/series-5_16_Pelvis_16_Pelvis_20231108092623_5_resliced_segmentation_clean.nii\n",
      "Saved bids/sub-z1421134/ses-20231205/extra_data/series-3_16_Pelvis_16_Pelvis_20231205112331_3_resliced_segmentation_clean.nii\n",
      "Saved bids/sub-z1448271/ses-20231110/extra_data/series-5_16_Pelvis_16_Pelvis_20231110085011_5_resliced_segmentation_clean.nii\n",
      "Saved bids/sub-z1484547/ses-20240102/extra_data/series-7_16_Pelvis_16_Pelvis_20240102093205_7_resliced_segmentation_clean.nii\n",
      "Saved bids/sub-z1635498/ses-20240305/extra_data/series-5_16_Pelvis_16_Pelvis_20240305092125_5_resliced_segmentation_clean.nii\n",
      "Saved bids/sub-z1638396/ses-20240311/extra_data/series-5_16_Pelvis_16_Pelvis_20240311133704_5_resliced_segmentation_clean.nii\n",
      "Saved bids/sub-z1645782/ses-20231010/extra_data/series-5_NA_20231010083547_5_resliced_segmentation_clean.nii\n",
      "Saved bids/sub-z1691325/ses-20240227/extra_data/series-5_16_Pelvis_16_Pelvis_20240227101660_5_resliced_segmentation_clean.nii\n",
      "Saved bids/sub-z2105112/ses-20231220/extra_data/series-5_16_Pelvis_16_Pelvis_20231220111840_5_resliced_segmentation_clean.nii\n",
      "Saved bids/sub-z2684925/ses-20240313/extra_data/series-5_16_Pelvis_16_Pelvis_20240313093923_5_resliced_segmentation_clean.nii\n",
      "Saved bids/sub-z2996397/ses-20231201/extra_data/series-5_16_Pelvis_16_Pelvis_20231201110056_5_resliced_segmentation_clean.nii\n",
      "Saved bids/sub-z3145629/ses-20231204/extra_data/series-5_16_Pelvis_16_Pelvis_20231204115121_5_resliced_segmentation_clean.nii\n",
      "Saved bids/sub-z3212665/ses-20240305/extra_data/series-5_16_Pelvis_16_Pelvis_20240305085930_5_resliced_segmentation_clean.nii\n",
      "Saved bids/sub-z3220308/ses-20231009/extra_data/series-6_NA_20231009081319_6_resliced_segmentation_clean.nii\n",
      "Saved bids/sub-z3220308/ses-20231009/extra_data/series-6_NA_20231009081319_6_resliced_segmentation_clean.nii\n",
      "Saved bids/sub-z3268423/ses-20240109/extra_data/series-5_16_Pelvis_16_Pelvis_20240109090856_5_resliced_segmentation_clean.nii\n",
      "Saved bids/sub-z4043512/ses-20240112/extra_data/series-3_16_Pelvis_16_Pelvis_20240112112535_3_resliced_segmentation_clean.nii\n"
     ]
    }
   ],
   "source": [
    "class SegType(enum.Enum):\n",
    "    NO_LABEL = 0\n",
    "    PROSTATE = 1\n",
    "    GOLD_SEED = 2\n",
    "    CALCIFICATION = 3\n",
    "\n",
    "for i in range(len(qsm_files)):\n",
    "    # load files\n",
    "    ct_nii = nib.load(ct_files[i])\n",
    "    seg_nii = nib.load(ct_seg_files[i])\n",
    "\n",
    "    # get image data\n",
    "    ct = ct_nii.get_fdata()\n",
    "    seg = np.array(seg_nii.get_fdata(), dtype=np.uint8)\n",
    "\n",
    "    # get prostate values\n",
    "    prostate_values = ct[seg == SegType.PROSTATE.value]\n",
    "\n",
    "    # seed mask\n",
    "    seed_mask = np.logical_and(seg == SegType.GOLD_SEED.value, ct > prostate_values.mean() + 4*prostate_values.std())\n",
    "    seed_mask = np.logical_and((ct > np.mean(prostate_values) + 4*np.std(prostate_values)), binary_dilation(seed_mask))\n",
    "    structure = generate_binary_structure(3, 1)\n",
    "    labeled_mask, num_features = label(seed_mask, structure)\n",
    "    for idx in range(1, num_features + 1):\n",
    "        if np.sum(labeled_mask == idx) == 1:\n",
    "            seed_mask[labeled_mask == idx] = 0\n",
    "    seed_mask = np.logical_and(seed_mask, seg == SegType.GOLD_SEED.value)\n",
    "\n",
    "    # calcification mask\n",
    "    calc_mask = np.logical_and(seg != SegType.GOLD_SEED, ct > np.mean(prostate_values) + 4*np.std(prostate_values))\n",
    "    calc_mask = np.logical_and((ct > np.mean(prostate_values) + 4*np.std(prostate_values)), binary_dilation(calc_mask))\n",
    "    calc_mask = np.logical_and((ct > np.mean(prostate_values) + 4*np.std(prostate_values)), binary_dilation(calc_mask))\n",
    "    structure = generate_binary_structure(3, 1)\n",
    "    labeled_mask, num_features = label(calc_mask, structure)\n",
    "    for idx in range(1, num_features + 1):\n",
    "        if np.sum(labeled_mask == idx) == 1:\n",
    "            calc_mask[labeled_mask == idx] = 0\n",
    "    calc_mask = np.logical_and(calc_mask, seg == SegType.CALCIFICATION.value)\n",
    "    \n",
    "    # setup final values\n",
    "    seg[seg == SegType.GOLD_SEED.value] = 0\n",
    "    seg[seg == SegType.CALCIFICATION.value] = 0\n",
    "    seg[seg == SegType.PROSTATE.value] = 0\n",
    "\n",
    "    seg[seed_mask] = 1\n",
    "    seg[calc_mask] = 2\n",
    "    \n",
    "    # save result using original file extension\n",
    "    filename = f\"{ct_seg_files[i].replace('.nii', '_clean.nii')}\"\n",
    "    nib.save(nib.Nifti1Image(seg, header=seg_nii.header, affine=seg_nii.affine), filename=filename)\n",
    "    print(f\"Saved {filename}\")"
   ]
  },
  {
   "cell_type": "markdown",
   "metadata": {},
   "source": [
    "## Field maps"
   ]
  },
  {
   "cell_type": "code",
   "execution_count": 18,
   "metadata": {},
   "outputs": [
    {
     "name": "stdout",
     "output_type": "stream",
     "text": [
      "Saved bids/sub-z0002292/ses-20240318/extra_data/sub-z0002292_ses-20240318_acq-wipiswifl3dvibetrythisone_run-01_echo-01_part-phase_MEGRE_scaled_tgvqsmjl_twopass_average_ref_segmentation_clean.nii\n",
      "Saved bids/sub-z0163277/ses-20240123/extra_data/sub-z0163277_ses-20240123_acq-wipiswifl3dvibetrythisone_run-01_echo-01_part-phase_MEGRE_scaled_tgvqsmjl_twopass_average_ref_segmentation_clean.nii\n",
      "Saved bids/sub-z0206923/ses-20231003/extra_data/sub-z0206923_ses-20231003_acq-wipiswifl3dvibetrythisone_run-01_echo-01_part-phase_MEGRE_scaled_tgvqsmjl_twopass_average_ref_segmentation_clean.nii\n",
      "Saved bids/sub-z0232771/ses-20240228/extra_data/sub-z0232771_ses-20240228_acq-wipiswifl3dvibetrythisone_run-01_echo-01_part-phase_MEGRE_scaled_tgvqsmjl_twopass_average_ref_segmentation_clean.nii\n",
      "Saved bids/sub-z0347933/ses-20240129/extra_data/sub-z0347933_ses-20240129_acq-wipiswifl3dvibetrythisone_run-01_echo-01_part-phase_MEGRE_scaled_tgvqsmjl_twopass_average_ref_segmentation_clean.nii\n",
      "Saved bids/sub-z0381949/ses-20231005/extra_data/sub-z0381949_ses-20231005_acq-wipiswifl3dvibetrythisone_run-01_echo-01_part-phase_MEGRE_scaled_tgvqsmjl_twopass_average_ref_segmentation_clean.nii\n",
      "Saved bids/sub-z0742379/ses-20240124/extra_data/sub-z0742379_ses-20240124_acq-wipiswifl3dvibetrythisone_run-01_echo-01_part-phase_MEGRE_scaled_tgvqsmjl_twopass_average_ref_segmentation_clean.nii\n",
      "Saved bids/sub-z0747844/ses-20240304/extra_data/sub-z0747844_ses-20240304_acq-wipiswifl3dvibetrythisone_run-01_echo-01_part-phase_MEGRE_scaled_tgvqsmjl_twopass_average_ref_segmentation_clean.nii\n",
      "Saved bids/sub-z1318033/ses-20230825/extra_data/sub-z1318033_ses-20230825_acq-wipiswifl3dvibetrythisone_run-01_echo-01_part-phase_MEGRE_scaled_tgvqsmjl_twopass_average_ref_segmentation_clean.nii\n",
      "Saved bids/sub-z1384048/ses-20231108/extra_data/sub-z1384048_ses-20231108_acq-wipiswifl3dvibetrythisone_run-01_echo-01_part-phase_MEGRE_scaled_tgvqsmjl_twopass_average_ref_segmentation_clean.nii\n",
      "Saved bids/sub-z1421134/ses-20231205/extra_data/sub-z1421134_ses-20231205_acq-wipiswifl3dvibetrythisone_run-01_echo-01_part-phase_MEGRE_scaled_tgvqsmjl_twopass_average_ref_segmentation_clean.nii\n",
      "Saved bids/sub-z1448271/ses-20231110/extra_data/sub-z1448271_ses-20231110_acq-wipiswifl3dvibetrythisone_run-01_echo-01_part-phase_MEGRE_scaled_tgvqsmjl_twopass_average_ref_segmentation_clean.nii\n",
      "Saved bids/sub-z1484547/ses-20240102/extra_data/sub-z1484547_ses-20240102_acq-wipiswifl3dvibetrythisone_run-01_echo-01_part-phase_MEGRE_scaled_tgvqsmjl_twopass_average_ref_segmentation_clean.nii\n",
      "Saved bids/sub-z1635498/ses-20240305/extra_data/sub-z1635498_ses-20240305_acq-wipiswifl3dvibetrythisone_run-01_echo-01_part-phase_MEGRE_scaled_tgvqsmjl_twopass_average_ref_segmentation_clean.nii\n",
      "Saved bids/sub-z1638396/ses-20240311/extra_data/sub-z1638396_ses-20240311_acq-wipiswifl3dvibetrythisone_run-01_echo-01_part-phase_MEGRE_scaled_tgvqsmjl_twopass_average_ref_segmentation_clean.nii\n",
      "Saved bids/sub-z1645782/ses-20231010/extra_data/sub-z1645782_ses-20231010_acq-wipiswifl3dvibetrythisone_run-01_echo-01_part-phase_MEGRE_scaled_tgvqsmjl_twopass_average_ref_segmentation_clean.nii\n",
      "Saved bids/sub-z1691325/ses-20240227/extra_data/sub-z1691325_ses-20240227_acq-wipiswifl3dvibetrythisone_run-01_echo-01_part-phase_MEGRE_scaled_tgvqsmjl_twopass_average_ref_segmentation_clean.nii\n",
      "Saved bids/sub-z2105112/ses-20231220/extra_data/sub-z2105112_ses-20231220_acq-wipiswifl3dvibetrythisone_run-01_echo-01_part-phase_MEGRE_scaled_tgvqsmjl_twopass_average_ref_segmentation_clean.nii\n",
      "Saved bids/sub-z2684925/ses-20240313/extra_data/sub-z2684925_ses-20240313_acq-wipiswifl3dvibetrythisone_run-01_echo-01_part-phase_MEGRE_scaled_tgvqsmjl_twopass_average_ref_segmentation_clean.nii\n",
      "Saved bids/sub-z2996397/ses-20231201/extra_data/sub-z2996397_ses-20231201_acq-wipiswifl3dvibetrythisone_run-01_echo-01_part-phase_MEGRE_scaled_tgvqsmjl_twopass_average_ref_segmentation_clean.nii\n",
      "Saved bids/sub-z3145629/ses-20231204/extra_data/sub-z3145629_ses-20231204_acq-wipiswifl3dvibetrythisone_run-01_echo-01_part-phase_MEGRE_scaled_tgvqsmjl_twopass_average_ref_segmentation_clean.nii\n",
      "Saved bids/sub-z3212665/ses-20240305/extra_data/sub-z3212665_ses-20240305_acq-wipiswifl3dvibetrythisone_run-01_echo-01_part-phase_MEGRE_scaled_tgvqsmjl_twopass_average_ref_segmentation_clean.nii\n",
      "Saved bids/sub-z3220308/ses-20231009/extra_data/sub-z3220308_ses-20231009_acq-wipiswifl3dvibetrythisone_run-01_echo-01_part-phase_MEGRE_scaled_tgvqsmjl_twopass_average_ref_segmentation_clean.nii\n",
      "Saved bids/sub-z3268423/ses-20240109/extra_data/sub-z3268423_ses-20240109_acq-wipiswifl3dvibetrythisone_run-01_echo-01_part-phase_MEGRE_scaled_tgvqsmjl_twopass_average_ref_segmentation_clean.nii\n",
      "Saved bids/sub-z4043512/ses-20240112/extra_data/sub-z4043512_ses-20240112_acq-wipiswifl3dvibetrythisone_run-01_echo-01_part-phase_MEGRE_scaled_tgvqsmjl_twopass_average_ref_segmentation_clean.nii\n"
     ]
    }
   ],
   "source": [
    "class SegType(enum.Enum):\n",
    "    NO_LABEL = 0\n",
    "    PROSTATE = 1\n",
    "    GOLD_SEED = 2\n",
    "    CALCIFICATION = 3\n",
    "\n",
    "def create_spherical_mask(center, shape, radius):\n",
    "    # Create an array filled with indices\n",
    "    indices = np.indices(shape).transpose((1, 2, 3, 0))\n",
    "    # Calculate the distance of each index from the center\n",
    "    distances = np.linalg.norm(indices - center, axis=-1)\n",
    "    # Create a mask where the distance is less than or equal to the radius\n",
    "    mask = distances <= radius\n",
    "    return mask\n",
    "\n",
    "for i in range(len(fmap_files)):\n",
    "    # load files\n",
    "    fmap_nii = nib.load(fmap_files[i])\n",
    "    seg_nii = nib.load(ct_seg_files[i])\n",
    "    qsm_nii = nib.load(qsm_files[i])\n",
    "\n",
    "    # get image data\n",
    "    fmap = fmap_nii.get_fdata()\n",
    "    qsm = qsm_nii.get_fdata()\n",
    "    seg = np.array(seg_nii.get_fdata(), dtype=np.uint8)\n",
    "\n",
    "    # get prostate values\n",
    "    prostate_values_fmap = fmap[seg == SegType.PROSTATE.value]\n",
    "    prostate_values_qsm = qsm[seg == SegType.PROSTATE.value]\n",
    "    stdevs = 2.5\n",
    "\n",
    "    # automated gold seed mask\n",
    "    seed_mask_labelled, num_labels = label(\n",
    "        input=seg == SegType.GOLD_SEED.value,\n",
    "        structure=np.ones((3, 3, 3))\n",
    "    )\n",
    "    seed_mask = np.zeros(seg.shape, dtype=np.uint8)\n",
    "    for seed_id in range(1, num_labels + 1):\n",
    "        seed_i_mask = seed_mask_labelled == seed_id\n",
    "        #seed_i_mean = fmap[seed_i_mask].mean()\n",
    "        seed_i_mask = np.logical_and(seed_i_mask, fmap - fmap[seed_i_mask].mean() > 1*fmap[seed_i_mask].std())\n",
    "\n",
    "        # get centre voxel of seed mask\n",
    "        centre_voxel = center_of_mass(seed_i_mask)\n",
    "        seed_i_mask = create_spherical_mask(centre_voxel, seed_i_mask.shape, radius=2.5)\n",
    "\n",
    "        seed_mask = np.logical_or(seed_mask, seed_i_mask)\n",
    "    structure = generate_binary_structure(3, 1) # 3 for 3D image, 2 for full connectivity\n",
    "    labeled_mask, num_features = label(seed_mask, structure)\n",
    "    for idx in range(1, num_features + 1):\n",
    "        if np.sum(labeled_mask == idx) == 1:\n",
    "            seed_mask[labeled_mask == idx] = 0\n",
    "    seed_mask = np.logical_and(seed_mask, seg == SegType.GOLD_SEED.value)\n",
    "\n",
    "    # automated calcification mask\n",
    "    calc_mask = np.array(seg == SegType.CALCIFICATION.value, dtype=np.uint8)\n",
    "    calc_mask = np.logical_and(calc_mask, qsm < prostate_values_qsm.mean() - stdevs*prostate_values_qsm.std())\n",
    "    calc_mask = np.logical_and(binary_dilation(calc_mask), (qsm < np.mean(prostate_values_qsm) - stdevs*np.std(prostate_values_qsm)))\n",
    "    structure = generate_binary_structure(3, 1) # 3 for 3D image, 2 for full connectivity\n",
    "    labeled_mask, num_features = label(calc_mask, structure)\n",
    "    for idx in range(1, num_features + 1):\n",
    "        if np.sum(labeled_mask == idx) == 1:\n",
    "            calc_mask[labeled_mask == idx] = 0\n",
    "    calc_mask = np.logical_and(calc_mask, seg == SegType.CALCIFICATION.value)\n",
    "\n",
    "    # setup final values\n",
    "    seg[seg == SegType.GOLD_SEED.value] = 0\n",
    "    seg[seg == SegType.CALCIFICATION.value] = 0\n",
    "    seg[seg == SegType.PROSTATE.value] = 0\n",
    "\n",
    "    seg[seed_mask] = 1\n",
    "    seg[calc_mask] = 2\n",
    "    \n",
    "    # save result using original file extension\n",
    "    filename = f\"{qsm_files[i].replace('.nii', '_segmentation_clean.nii')}\"\n",
    "    filename = os.path.join(os.path.split(ct_seg_files[i])[0], os.path.split(filename)[1])\n",
    "    nib.save(nib.Nifti1Image(seg, header=seg_nii.header, affine=seg_nii.affine), filename=filename)\n",
    "    print(f\"Saved {filename}\")"
   ]
  },
  {
   "cell_type": "markdown",
   "metadata": {},
   "source": [
    "# Generate field maps"
   ]
  },
  {
   "cell_type": "markdown",
   "metadata": {},
   "source": [
    "This step required some cropping because of high-intensity regions in the magnitude that seem to ruin the field maps generated by ROMEO. Might be a bug for Korbinian to fix."
   ]
  },
  {
   "cell_type": "code",
   "execution_count": 15,
   "metadata": {},
   "outputs": [
    {
     "name": "stdout",
     "output_type": "stream",
     "text": [
      "bids/sub-z3220308/ses-20231009\n"
     ]
    },
    {
     "name": "stdout",
     "output_type": "stream",
     "text": [
      "240404-11:36:15,51 nipype.interface INFO:\n",
      "\t stdout 2024-04-04T11:36:15.050677: 46.045366 seconds (40.49 M allocations: 3.224 GiB, 7.20% gc time, 89.82% compilation time)\n",
      "240404-11:36:15,123 nipype.interface INFO:\n",
      "\t stdout 2024-04-04T11:36:15.122826:0\n",
      "Processing complete. Unwrapped phase and B0 map generated.\n",
      "Unwrapped Phase Path(s): /home/ashley/neurodesktop-storage/data/prostate/2024-prostate/phs_romeo-unwrapped.nii\n",
      "B0 Map Path: /home/ashley/neurodesktop-storage/data/prostate/2024-prostate/phs_B0.nii\n"
     ]
    }
   ],
   "source": [
    "for session_dir in session_dirs:\n",
    "    if 'sub-z3220308/ses-20231009' in session_dir:\n",
    "        print(session_dir)\n",
    "        \n",
    "        mag_images = sorted(glob.glob(os.path.join(session_dir, \"anat\", \"*run-01*part-mag*nii*\")))\n",
    "        phs_images = sorted(glob.glob(os.path.join(session_dir, \"anat\", \"*run-01*part-phase*nii*\")))\n",
    "\n",
    "        mag_4d = np.stack([nib.load(f).get_fdata() for f in mag_images], -1)\n",
    "        phs_4d = np.stack([nib.load(f).get_fdata() for f in phs_images], -1)\n",
    "\n",
    "        mag_4d_cropped = mag_4d[:,40:150,:,:]\n",
    "        phs_4d_cropped = phs_4d[:,40:150,:,:]\n",
    "\n",
    "        phs_4d_cropped = np.array(np.interp(phs_4d_cropped, (phs_4d_cropped.min(), phs_4d_cropped.max()), (-np.pi, +np.pi)), dtype=phs_4d_cropped.dtype)\n",
    "\n",
    "        mag_nii = nib.load(mag_images[0])\n",
    "        phs_nii = nib.load(phs_images[0])\n",
    "\n",
    "        nib.save(nib.Nifti1Image(dataobj=mag_4d_cropped, header=mag_nii.header, affine=mag_nii.affine), \"mag.nii\")\n",
    "        nib.save(nib.Nifti1Image(dataobj=phs_4d_cropped, header=phs_nii.header, affine=phs_nii.affine), \"phs.nii\")\n",
    "\n",
    "        !~/neurodesktop-storage/repos/qsmxt/qsmxt/interfaces/nipype_interface_romeo.py --phase phs.nii --magnitude mag.nii --TEs 3.31 5.45 7.590000000000001 9.73 11.870000000000001 14.01 16.150000000000002\n",
    "\n",
    "        B0_data = nib.load(\"phs_B0.nii\").get_fdata()\n",
    "        B0_uncropped = np.zeros(phs_4d.shape[:-1], dtype=B0_data.dtype)\n",
    "        B0_uncropped[:, 40:150, :] = B0_data\n",
    "        B0_uncropped_nii = nib.Nifti1Image(dataobj=B0_uncropped, affine=phs_nii.affine, header=phs_nii.header)\n",
    "        nib.save(B0_uncropped_nii, os.path.join(session_dir, \"extra_data\", \"B0.nii\"))"
   ]
  },
  {
   "attachments": {},
   "cell_type": "markdown",
   "metadata": {},
   "source": [
    "# Combine magnitude images"
   ]
  },
  {
   "cell_type": "code",
   "execution_count": 18,
   "metadata": {},
   "outputs": [
    {
     "name": "stdout",
     "output_type": "stream",
     "text": [
      "Saved bids/sub-z0002292/ses-20240318/extra_data/magnitude_combined.nii\n",
      "Saved bids/sub-z0163277/ses-20240123/extra_data/magnitude_combined.nii\n",
      "Saved bids/sub-z0206923/ses-20231003/extra_data/magnitude_combined.nii\n",
      "Saved bids/sub-z0232771/ses-20240228/extra_data/magnitude_combined.nii\n",
      "Saved bids/sub-z0347933/ses-20240129/extra_data/magnitude_combined.nii\n",
      "Saved bids/sub-z0381949/ses-20231005/extra_data/magnitude_combined.nii\n",
      "Saved bids/sub-z0742379/ses-20240124/extra_data/magnitude_combined.nii\n",
      "Saved bids/sub-z0747844/ses-20240304/extra_data/magnitude_combined.nii\n",
      "Saved bids/sub-z1318033/ses-20230825/extra_data/magnitude_combined.nii\n",
      "Saved bids/sub-z1384048/ses-20231108/extra_data/magnitude_combined.nii\n",
      "Saved bids/sub-z1421134/ses-20231205/extra_data/magnitude_combined.nii\n",
      "Saved bids/sub-z1448271/ses-20231110/extra_data/magnitude_combined.nii\n",
      "Saved bids/sub-z1484547/ses-20240102/extra_data/magnitude_combined.nii\n",
      "Saved bids/sub-z1635498/ses-20240305/extra_data/magnitude_combined.nii\n",
      "Saved bids/sub-z1638396/ses-20240311/extra_data/magnitude_combined.nii\n",
      "Saved bids/sub-z1645782/ses-20231010/extra_data/magnitude_combined.nii\n",
      "Saved bids/sub-z1691325/ses-20240227/extra_data/magnitude_combined.nii\n",
      "Saved bids/sub-z2105112/ses-20231220/extra_data/magnitude_combined.nii\n",
      "Saved bids/sub-z2684925/ses-20240313/extra_data/magnitude_combined.nii\n",
      "Saved bids/sub-z2996397/ses-20231201/extra_data/magnitude_combined.nii\n",
      "Saved bids/sub-z3145629/ses-20231204/extra_data/magnitude_combined.nii\n",
      "Saved bids/sub-z3212665/ses-20240305/extra_data/magnitude_combined.nii\n",
      "Saved bids/sub-z3220308/ses-20231009/extra_data/magnitude_combined.nii\n",
      "Saved bids/sub-z3220308/ses-20231009/extra_data/magnitude_combined.nii\n",
      "Saved bids/sub-z3268423/ses-20240109/extra_data/magnitude_combined.nii\n",
      "Saved bids/sub-z4043512/ses-20240112/extra_data/magnitude_combined.nii\n"
     ]
    }
   ],
   "source": [
    "for session_dir in session_dirs:\n",
    "    mag_images = sorted(glob.glob(os.path.join(session_dir, \"anat\", \"*run-01*part-mag*nii*\")))\n",
    "    nii = nib.load(mag_images[0])\n",
    "    mag_4d = np.array([nib.load(mag_images[i]).get_fdata() for i in range(len(mag_images))])\n",
    "    mag_combined = np.sqrt(np.sum(np.square(mag_4d), axis=0))\n",
    "    filename = os.path.join(session_dir, \"extra_data\", \"magnitude_combined.nii\")\n",
    "    nib.save(nib.Nifti1Image(mag_combined, header=nii.header, affine=nii.affine), filename)\n",
    "    print(f\"Saved {filename}\")"
   ]
  },
  {
   "attachments": {},
   "cell_type": "markdown",
   "metadata": {},
   "source": [
    "# Combine QSM SNR-weighted"
   ]
  },
  {
   "cell_type": "markdown",
   "metadata": {},
   "source": [
    "This stuff is old and probably not needed anymore."
   ]
  },
  {
   "cell_type": "code",
   "execution_count": null,
   "metadata": {},
   "outputs": [],
   "source": [
    "\n",
    "for session_dir in session_dirs:\n",
    "    subject_id = session_dir.split(os.sep)[1]\n",
    "    session_id = session_dir.split(os.sep)[2]\n",
    "    print(subject_id, session_id)\n",
    "    qsm_pattern = os.path.join('qsm', 'workflow', f'{subject_id}*', session_id, 'qsmxt*', 'numpy_nibabel_twopass', 'mapflow', '*', '*.nii*')\n",
    "    qsm_files = sorted(glob.glob(qsm_pattern))\n",
    "    qsm_files = [qsm_files[i] for i in range(len(qsm_files)) if i % 2 == 1]\n",
    "    mag_pattern = os.path.join('bids-new', subject_id, session_id, 'anat', '*part-mag*nii*')\n",
    "    mag_files = sorted(glob.glob(mag_pattern))\n",
    "    mag_files = [mag_files[i] for i in range(len(mag_files)) if i % 2 == 1]\n",
    "\n",
    "    qsm_images = [nib.load(f) for f in qsm_files]\n",
    "    magnitude_images = [nib.load(f) for f in mag_files]\n",
    "\n",
    "    # 2. Weights 1\n",
    "    epsilon = 1e-3  # Small constant to avoid division by very small numbers\n",
    "    weights = [1 / (img.get_fdata() + epsilon) for img in magnitude_images]\n",
    "    sum_weights = np.sum(np.stack(weights, axis=-1), axis=-1)\n",
    "    normalized_weights = [w / sum_weights for w in weights]\n",
    "\n",
    "    # 2. Weights 2\n",
    "    #weights = [1 / np.mean(img.get_fdata()) for img in magnitude_images]\n",
    "    #normalized_weights = weights / np.sum(weights)\n",
    "    #weighted_qsm_data = np.zeros_like(qsm_images[0].get_fdata())\n",
    "\n",
    "    # 3. Calculate the weighted average of the QSMs:\n",
    "    weighted_qsm_data = np.zeros_like(qsm_images[0].get_fdata())\n",
    "    for i, qsm_img in enumerate(qsm_images):\n",
    "        weighted_qsm_data += normalized_weights[i] * qsm_img.get_fdata()\n",
    "\n",
    "    # Create a new NIfTI image with the weighted QSM data\n",
    "    weighted_qsm_img = nib.Nifti1Image(weighted_qsm_data, qsm_images[0].affine, qsm_images[0].header)\n",
    "\n",
    "    # 4. Save the resulting weighted QSM:\n",
    "    nib.save(weighted_qsm_img, f\"{subject_id}_{session_id}_weighted_qsm.nii.gz\")\n",
    "    print(\"1\")"
   ]
  },
  {
   "attachments": {},
   "cell_type": "markdown",
   "metadata": {},
   "source": [
    "# Reslice T1w images"
   ]
  },
  {
   "cell_type": "markdown",
   "metadata": {},
   "source": [
    "I don't think we need this section anymore because in the new data I actually transformed T1 and resliced using ITK-SNAP."
   ]
  },
  {
   "cell_type": "code",
   "execution_count": null,
   "metadata": {},
   "outputs": [],
   "source": [
    "for i in range(len(t1_files)):\n",
    "    print(t1_files[i])\n",
    "    t1_nii = nib.load(t1_files[i])\n",
    "    mag_nii = nib.load(mag_files[i])\n",
    "    t1_resampled = nilearn.image.resample_img(t1_nii, target_affine=mag_nii.affine, target_shape=mag_nii.header.get_data_shape())\n",
    "    filename = t1_files[i].replace(\".nii\", \"_resampled.nii\")\n",
    "    nib.save(t1_resampled, filename)"
   ]
  },
  {
   "cell_type": "markdown",
   "metadata": {},
   "source": [
    "# Downsampling"
   ]
  },
  {
   "cell_type": "markdown",
   "metadata": {},
   "source": [
    "I may not need this anymore. I only wrote it to test the 2023 models on the new dataset. The downsampling was necessary because the old models were trained on lower-resolution images."
   ]
  },
  {
   "cell_type": "code",
   "execution_count": null,
   "metadata": {},
   "outputs": [],
   "source": [
    "from nilearn.image import resample_img\n",
    "import nibabel as nib\n",
    "\n",
    "for i in range(len(ct_files)):\n",
    "    # Load the images\n",
    "    ct_img = nib.load(ct_files[i])\n",
    "    seg_img = nib.load(ct_seg_clean_files[i])\n",
    "\n",
    "    # Original image dimensions and voxel sizes\n",
    "    original_shape = ct_img.shape\n",
    "    original_voxel_sizes = np.diag(ct_img.affine)[:3]\n",
    "    \n",
    "    # Target voxel size\n",
    "    target_voxel_size = 1.4\n",
    "    \n",
    "    # Calculate target shape based on the original field of view and target voxel size\n",
    "    field_of_view = original_shape * original_voxel_sizes\n",
    "    target_shape = np.round(field_of_view / target_voxel_size).astype(int)\n",
    "    \n",
    "    # Adjust the affine matrix to the target voxel size\n",
    "    new_affine = np.copy(ct_img.affine)\n",
    "    np.fill_diagonal(new_affine, [target_voxel_size, target_voxel_size, target_voxel_size, 1])\n",
    "\n",
    "    # Resample the images\n",
    "    resampled_ct_img = resample_img(ct_img, target_affine=new_affine, target_shape=target_shape, interpolation='continuous')\n",
    "    resampled_seg_img = resample_img(seg_img, target_affine=new_affine, target_shape=target_shape, interpolation='nearest')\n",
    "\n",
    "    # Save the resampled image\n",
    "    resampled_ct_file = ct_files[i].replace('.nii', '_downsampled.nii')\n",
    "    resampled_seg_file = ct_seg_clean_files[i].replace('.nii', '_downsampled.nii')\n",
    "    \n",
    "    nib.save(resampled_ct_img, resampled_ct_file)\n",
    "    nib.save(resampled_seg_img, resampled_seg_file)\n",
    "    print(f\"Saved {resampled_ct_file}\")\n",
    "    print(f\"Saved {resampled_seg_file}\")"
   ]
  },
  {
   "cell_type": "markdown",
   "metadata": {},
   "source": [
    "# Generate DICOMs for Radiographers"
   ]
  },
  {
   "cell_type": "code",
   "execution_count": 17,
   "metadata": {},
   "outputs": [
    {
     "name": "stdout",
     "output_type": "stream",
     "text": [
      "nii2dcm: writing DICOM files ...\n",
      "/home/uqaste15/miniconda3/envs/prostate/lib/python3.8/site-packages/pydicom/valuerep.py:290: UserWarning: The value length (19) exceeds the maximum length of 16 allowed for VR DS. Please see <https://dicom.nema.org/medical/dicom/current/output/html/part05.html#table_6.2-1> for allowed values for each VR.\n",
      "  warnings.warn(msg)\n",
      "/home/uqaste15/miniconda3/envs/prostate/lib/python3.8/site-packages/pydicom/valuerep.py:290: UserWarning: The value length (18) exceeds the maximum length of 16 allowed for VR DS. Please see <https://dicom.nema.org/medical/dicom/current/output/html/part05.html#table_6.2-1> for allowed values for each VR.\n",
      "  warnings.warn(msg)\n",
      "/home/uqaste15/miniconda3/envs/prostate/lib/python3.8/site-packages/pydicom/valuerep.py:290: UserWarning: The value length (20) exceeds the maximum length of 16 allowed for VR DS. Please see <https://dicom.nema.org/medical/dicom/current/output/html/part05.html#table_6.2-1> for allowed values for each VR.\n",
      "  warnings.warn(msg)\n",
      "/home/uqaste15/miniconda3/envs/prostate/lib/python3.8/site-packages/pydicom/valuerep.py:290: UserWarning: The value length (17) exceeds the maximum length of 16 allowed for VR DS. Please see <https://dicom.nema.org/medical/dicom/current/output/html/part05.html#table_6.2-1> for allowed values for each VR.\n",
      "  warnings.warn(msg)\n",
      "nii2dcm: DICOM files written to: /scratch/user/uqaste15/data/2024-prostate/bids/sub-z0002292/ses-20240318/extra_data/B0_dcm\n",
      "nii2dcm: writing DICOM files ...\n",
      "/home/uqaste15/miniconda3/envs/prostate/lib/python3.8/site-packages/pydicom/valuerep.py:290: UserWarning: The value length (19) exceeds the maximum length of 16 allowed for VR DS. Please see <https://dicom.nema.org/medical/dicom/current/output/html/part05.html#table_6.2-1> for allowed values for each VR.\n",
      "  warnings.warn(msg)\n",
      "/home/uqaste15/miniconda3/envs/prostate/lib/python3.8/site-packages/pydicom/valuerep.py:290: UserWarning: The value length (18) exceeds the maximum length of 16 allowed for VR DS. Please see <https://dicom.nema.org/medical/dicom/current/output/html/part05.html#table_6.2-1> for allowed values for each VR.\n",
      "  warnings.warn(msg)\n",
      "/home/uqaste15/miniconda3/envs/prostate/lib/python3.8/site-packages/pydicom/valuerep.py:290: UserWarning: The value length (20) exceeds the maximum length of 16 allowed for VR DS. Please see <https://dicom.nema.org/medical/dicom/current/output/html/part05.html#table_6.2-1> for allowed values for each VR.\n",
      "  warnings.warn(msg)\n",
      "/home/uqaste15/miniconda3/envs/prostate/lib/python3.8/site-packages/pydicom/valuerep.py:290: UserWarning: The value length (17) exceeds the maximum length of 16 allowed for VR DS. Please see <https://dicom.nema.org/medical/dicom/current/output/html/part05.html#table_6.2-1> for allowed values for each VR.\n",
      "  warnings.warn(msg)\n",
      "nii2dcm: DICOM files written to: /scratch/user/uqaste15/data/2024-prostate/bids/sub-z0002292/ses-20240318/extra_data/magnitude_combined_dcm\n",
      "nii2dcm: writing DICOM files ...\n",
      "/home/uqaste15/miniconda3/envs/prostate/lib/python3.8/site-packages/pydicom/valuerep.py:290: UserWarning: The value length (19) exceeds the maximum length of 16 allowed for VR DS. Please see <https://dicom.nema.org/medical/dicom/current/output/html/part05.html#table_6.2-1> for allowed values for each VR.\n",
      "  warnings.warn(msg)\n",
      "/home/uqaste15/miniconda3/envs/prostate/lib/python3.8/site-packages/pydicom/valuerep.py:290: UserWarning: The value length (18) exceeds the maximum length of 16 allowed for VR DS. Please see <https://dicom.nema.org/medical/dicom/current/output/html/part05.html#table_6.2-1> for allowed values for each VR.\n",
      "  warnings.warn(msg)\n",
      "/home/uqaste15/miniconda3/envs/prostate/lib/python3.8/site-packages/pydicom/valuerep.py:290: UserWarning: The value length (20) exceeds the maximum length of 16 allowed for VR DS. Please see <https://dicom.nema.org/medical/dicom/current/output/html/part05.html#table_6.2-1> for allowed values for each VR.\n",
      "  warnings.warn(msg)\n",
      "/home/uqaste15/miniconda3/envs/prostate/lib/python3.8/site-packages/pydicom/valuerep.py:290: UserWarning: The value length (17) exceeds the maximum length of 16 allowed for VR DS. Please see <https://dicom.nema.org/medical/dicom/current/output/html/part05.html#table_6.2-1> for allowed values for each VR.\n",
      "  warnings.warn(msg)\n",
      "nii2dcm: DICOM files written to: /scratch/user/uqaste15/data/2024-prostate/bids/sub-z0002292/ses-20240318/extra_data/qsm_dcm\n",
      "nii2dcm: writing DICOM files ...\n",
      "/home/uqaste15/miniconda3/envs/prostate/lib/python3.8/site-packages/pydicom/valuerep.py:290: UserWarning: The value length (19) exceeds the maximum length of 16 allowed for VR DS. Please see <https://dicom.nema.org/medical/dicom/current/output/html/part05.html#table_6.2-1> for allowed values for each VR.\n",
      "  warnings.warn(msg)\n",
      "/home/uqaste15/miniconda3/envs/prostate/lib/python3.8/site-packages/pydicom/valuerep.py:290: UserWarning: The value length (18) exceeds the maximum length of 16 allowed for VR DS. Please see <https://dicom.nema.org/medical/dicom/current/output/html/part05.html#table_6.2-1> for allowed values for each VR.\n",
      "  warnings.warn(msg)\n",
      "nii2dcm: DICOM files written to: /scratch/user/uqaste15/data/2024-prostate/bids/sub-z0163277/ses-20240123/extra_data/B0_dcm\n",
      "nii2dcm: writing DICOM files ...\n",
      "/home/uqaste15/miniconda3/envs/prostate/lib/python3.8/site-packages/pydicom/valuerep.py:290: UserWarning: The value length (19) exceeds the maximum length of 16 allowed for VR DS. Please see <https://dicom.nema.org/medical/dicom/current/output/html/part05.html#table_6.2-1> for allowed values for each VR.\n",
      "  warnings.warn(msg)\n",
      "/home/uqaste15/miniconda3/envs/prostate/lib/python3.8/site-packages/pydicom/valuerep.py:290: UserWarning: The value length (18) exceeds the maximum length of 16 allowed for VR DS. Please see <https://dicom.nema.org/medical/dicom/current/output/html/part05.html#table_6.2-1> for allowed values for each VR.\n",
      "  warnings.warn(msg)\n",
      "nii2dcm: DICOM files written to: /scratch/user/uqaste15/data/2024-prostate/bids/sub-z0163277/ses-20240123/extra_data/magnitude_combined_dcm\n",
      "nii2dcm: writing DICOM files ...\n",
      "/home/uqaste15/miniconda3/envs/prostate/lib/python3.8/site-packages/pydicom/valuerep.py:290: UserWarning: The value length (19) exceeds the maximum length of 16 allowed for VR DS. Please see <https://dicom.nema.org/medical/dicom/current/output/html/part05.html#table_6.2-1> for allowed values for each VR.\n",
      "  warnings.warn(msg)\n",
      "/home/uqaste15/miniconda3/envs/prostate/lib/python3.8/site-packages/pydicom/valuerep.py:290: UserWarning: The value length (18) exceeds the maximum length of 16 allowed for VR DS. Please see <https://dicom.nema.org/medical/dicom/current/output/html/part05.html#table_6.2-1> for allowed values for each VR.\n",
      "  warnings.warn(msg)\n",
      "nii2dcm: DICOM files written to: /scratch/user/uqaste15/data/2024-prostate/bids/sub-z0163277/ses-20240123/extra_data/qsm_dcm\n",
      "nii2dcm: writing DICOM files ...\n",
      "/home/uqaste15/miniconda3/envs/prostate/lib/python3.8/site-packages/pydicom/valuerep.py:290: UserWarning: The value length (19) exceeds the maximum length of 16 allowed for VR DS. Please see <https://dicom.nema.org/medical/dicom/current/output/html/part05.html#table_6.2-1> for allowed values for each VR.\n",
      "  warnings.warn(msg)\n",
      "/home/uqaste15/miniconda3/envs/prostate/lib/python3.8/site-packages/pydicom/valuerep.py:290: UserWarning: The value length (18) exceeds the maximum length of 16 allowed for VR DS. Please see <https://dicom.nema.org/medical/dicom/current/output/html/part05.html#table_6.2-1> for allowed values for each VR.\n",
      "  warnings.warn(msg)\n",
      "nii2dcm: DICOM files written to: /scratch/user/uqaste15/data/2024-prostate/bids/sub-z0206923/ses-20231003/extra_data/B0_dcm\n",
      "nii2dcm: writing DICOM files ...\n",
      "/home/uqaste15/miniconda3/envs/prostate/lib/python3.8/site-packages/pydicom/valuerep.py:290: UserWarning: The value length (19) exceeds the maximum length of 16 allowed for VR DS. Please see <https://dicom.nema.org/medical/dicom/current/output/html/part05.html#table_6.2-1> for allowed values for each VR.\n",
      "  warnings.warn(msg)\n",
      "/home/uqaste15/miniconda3/envs/prostate/lib/python3.8/site-packages/pydicom/valuerep.py:290: UserWarning: The value length (18) exceeds the maximum length of 16 allowed for VR DS. Please see <https://dicom.nema.org/medical/dicom/current/output/html/part05.html#table_6.2-1> for allowed values for each VR.\n",
      "  warnings.warn(msg)\n",
      "nii2dcm: DICOM files written to: /scratch/user/uqaste15/data/2024-prostate/bids/sub-z0206923/ses-20231003/extra_data/magnitude_combined_dcm\n",
      "nii2dcm: writing DICOM files ...\n",
      "/home/uqaste15/miniconda3/envs/prostate/lib/python3.8/site-packages/pydicom/valuerep.py:290: UserWarning: The value length (19) exceeds the maximum length of 16 allowed for VR DS. Please see <https://dicom.nema.org/medical/dicom/current/output/html/part05.html#table_6.2-1> for allowed values for each VR.\n",
      "  warnings.warn(msg)\n",
      "/home/uqaste15/miniconda3/envs/prostate/lib/python3.8/site-packages/pydicom/valuerep.py:290: UserWarning: The value length (18) exceeds the maximum length of 16 allowed for VR DS. Please see <https://dicom.nema.org/medical/dicom/current/output/html/part05.html#table_6.2-1> for allowed values for each VR.\n",
      "  warnings.warn(msg)\n",
      "nii2dcm: DICOM files written to: /scratch/user/uqaste15/data/2024-prostate/bids/sub-z0206923/ses-20231003/extra_data/qsm_dcm\n",
      "nii2dcm: writing DICOM files ...\n",
      "/home/uqaste15/miniconda3/envs/prostate/lib/python3.8/site-packages/pydicom/valuerep.py:290: UserWarning: The value length (19) exceeds the maximum length of 16 allowed for VR DS. Please see <https://dicom.nema.org/medical/dicom/current/output/html/part05.html#table_6.2-1> for allowed values for each VR.\n",
      "  warnings.warn(msg)\n",
      "/home/uqaste15/miniconda3/envs/prostate/lib/python3.8/site-packages/pydicom/valuerep.py:290: UserWarning: The value length (18) exceeds the maximum length of 16 allowed for VR DS. Please see <https://dicom.nema.org/medical/dicom/current/output/html/part05.html#table_6.2-1> for allowed values for each VR.\n",
      "  warnings.warn(msg)\n",
      "/home/uqaste15/miniconda3/envs/prostate/lib/python3.8/site-packages/pydicom/valuerep.py:290: UserWarning: The value length (17) exceeds the maximum length of 16 allowed for VR DS. Please see <https://dicom.nema.org/medical/dicom/current/output/html/part05.html#table_6.2-1> for allowed values for each VR.\n",
      "  warnings.warn(msg)\n",
      "nii2dcm: DICOM files written to: /scratch/user/uqaste15/data/2024-prostate/bids/sub-z0232771/ses-20240228/extra_data/B0_dcm\n",
      "nii2dcm: writing DICOM files ...\n",
      "/home/uqaste15/miniconda3/envs/prostate/lib/python3.8/site-packages/pydicom/valuerep.py:290: UserWarning: The value length (19) exceeds the maximum length of 16 allowed for VR DS. Please see <https://dicom.nema.org/medical/dicom/current/output/html/part05.html#table_6.2-1> for allowed values for each VR.\n",
      "  warnings.warn(msg)\n",
      "/home/uqaste15/miniconda3/envs/prostate/lib/python3.8/site-packages/pydicom/valuerep.py:290: UserWarning: The value length (18) exceeds the maximum length of 16 allowed for VR DS. Please see <https://dicom.nema.org/medical/dicom/current/output/html/part05.html#table_6.2-1> for allowed values for each VR.\n",
      "  warnings.warn(msg)\n",
      "/home/uqaste15/miniconda3/envs/prostate/lib/python3.8/site-packages/pydicom/valuerep.py:290: UserWarning: The value length (17) exceeds the maximum length of 16 allowed for VR DS. Please see <https://dicom.nema.org/medical/dicom/current/output/html/part05.html#table_6.2-1> for allowed values for each VR.\n",
      "  warnings.warn(msg)\n",
      "nii2dcm: DICOM files written to: /scratch/user/uqaste15/data/2024-prostate/bids/sub-z0232771/ses-20240228/extra_data/magnitude_combined_dcm\n",
      "nii2dcm: writing DICOM files ...\n",
      "/home/uqaste15/miniconda3/envs/prostate/lib/python3.8/site-packages/pydicom/valuerep.py:290: UserWarning: The value length (19) exceeds the maximum length of 16 allowed for VR DS. Please see <https://dicom.nema.org/medical/dicom/current/output/html/part05.html#table_6.2-1> for allowed values for each VR.\n",
      "  warnings.warn(msg)\n",
      "/home/uqaste15/miniconda3/envs/prostate/lib/python3.8/site-packages/pydicom/valuerep.py:290: UserWarning: The value length (18) exceeds the maximum length of 16 allowed for VR DS. Please see <https://dicom.nema.org/medical/dicom/current/output/html/part05.html#table_6.2-1> for allowed values for each VR.\n",
      "  warnings.warn(msg)\n",
      "/home/uqaste15/miniconda3/envs/prostate/lib/python3.8/site-packages/pydicom/valuerep.py:290: UserWarning: The value length (17) exceeds the maximum length of 16 allowed for VR DS. Please see <https://dicom.nema.org/medical/dicom/current/output/html/part05.html#table_6.2-1> for allowed values for each VR.\n",
      "  warnings.warn(msg)\n",
      "nii2dcm: DICOM files written to: /scratch/user/uqaste15/data/2024-prostate/bids/sub-z0232771/ses-20240228/extra_data/qsm_dcm\n"
     ]
    }
   ],
   "source": [
    "for session_dir in session_dirs[:4]:\n",
    "    subject_id = session_dir.split(os.sep)[1]\n",
    "    \n",
    "    B0_file = [B0_file for B0_file in fmap_files if subject_id in B0_file][0]\n",
    "    qsm_file = [qsm_file for qsm_file in qsm_files if subject_id in qsm_file][0]\n",
    "    mag_file = [mag_file for mag_file in mag_files if subject_id in mag_file][0]\n",
    "    \n",
    "    !mkdir -p {os.path.join(session_dir, \"extra_data\", \"B0_dcm\")}\n",
    "    !mkdir -p {os.path.join(session_dir, \"extra_data\", \"magnitude_combined_dcm\")}\n",
    "    !mkdir -p {os.path.join(session_dir, \"extra_data\", \"qsm_dcm\")}\n",
    "    \n",
    "    !nii2dcm --dicom_type MR --centered {B0_file} {os.path.join(session_dir, \"extra_data\", \"B0_dcm\")}\n",
    "    !nii2dcm --dicom_type MR {mag_file} {os.path.join(session_dir, \"extra_data\", \"magnitude_combined_dcm\")}\n",
    "    !nii2dcm --dicom_type MR --centered {qsm_file} {os.path.join(session_dir, \"extra_data\", \"qsm_dcm\")}\n",
    "\n",
    "    !tar cf {subject_id}.tar {os.path.join(session_dir, \"extra_data\", \"B0_dcm\")} {os.path.join(session_dir, \"extra_data\", \"magnitude_combined_dcm\")} {os.path.join(session_dir, \"extra_data\", \"qsm_dcm\")}\n",
    "\n",
    "    !rm -rf {os.path.join(session_dir, \"extra_data\", \"B0_dcm\")} {os.path.join(session_dir, \"extra_data\", \"magnitude_combined_dcm\")} {os.path.join(session_dir, \"extra_data\", \"qsm_dcm\")}"
   ]
  },
  {
   "cell_type": "code",
   "execution_count": null,
   "metadata": {},
   "outputs": [],
   "source": []
  }
 ],
 "metadata": {
  "kernelspec": {
   "display_name": "prostate",
   "language": "python",
   "name": "python3"
  },
  "language_info": {
   "codemirror_mode": {
    "name": "ipython",
    "version": 3
   },
   "file_extension": ".py",
   "mimetype": "text/x-python",
   "name": "python",
   "nbconvert_exporter": "python",
   "pygments_lexer": "ipython3",
   "version": "3.8.18"
  },
  "orig_nbformat": 4,
  "vscode": {
   "interpreter": {
    "hash": "03f67c3c00010b009bb49c0b41212a310c824d817af9d8224888fa5a5f2c519c"
   }
  }
 },
 "nbformat": 4,
 "nbformat_minor": 2
}
