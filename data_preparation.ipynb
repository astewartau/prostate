{
 "cells": [
  {
   "attachments": {},
   "cell_type": "markdown",
   "metadata": {},
   "source": [
    "# QSM Reconstruction"
   ]
  },
  {
   "cell_type": "code",
   "execution_count": null,
   "metadata": {},
   "outputs": [],
   "source": [
    "!run_2_qsm.py bids-new qsm-new --premade body --auto_yes --slurm a_barth general"
   ]
  },
  {
   "cell_type": "code",
   "execution_count": null,
   "metadata": {},
   "outputs": [],
   "source": [
    "!for f in `find qsm-new3/qsm_final -name '*.nii*'`; do sub=\"${f/*sub/sub}\"; sub=\"${sub/_ses*/}\"; ses=\"${f/*_ses/ses}\"; ses=\"${ses/_*/}\"; cp \"${f}\" \"bids-new2/${sub}/${ses}/extra_data/\"; done"
   ]
  },
  {
   "cell_type": "code",
   "execution_count": null,
   "metadata": {},
   "outputs": [],
   "source": [
    "!for f in `find qsm-new/ -wholename '*numpy_nibabel_twopass/mapflow/*/*echo-02*twopass.nii*'`; do sub=\"${f/*sub/sub}\"; sub=\"${sub/_ses*/}\"; ses=\"${f/*_ses/ses}\"; ses=\"${ses/_*/}\"; f2=\"${f/twopass1/twopass3}\"; f2=\"${f2/echo-02/echo-04}\"; ~/qsmxt/interfaces/nipype_interface_nonzeroaverage.py \"${f}\" \"${f2}\" \"bids-new/${sub}-NEW/${ses}/extra_data/${sub}_${ses}_qsm_echo2-and-echo4.nii\"; done"
   ]
  },
  {
   "cell_type": "code",
   "execution_count": null,
   "metadata": {},
   "outputs": [],
   "source": [
    "import glob\n",
    "import os\n",
    "from qsmxt.interfaces import nipype_interface_nonzeroaverage as nza\n",
    "subjects = ['sub-z0171603', 'sub-z0459570', 'sub-z1318033', 'sub-z1372775']\n",
    "for subject in subjects:\n",
    "    for session in os.listdir(glob.glob(os.path.join('qsm-new', 'workflow', f'{subject}*'))[0]):\n",
    "        qsm_pattern = os.path.join('qsm-new', 'workflow', f'{subject}*', session, 'qsmxt*', 'numpy_nibabel_twopass', 'mapflow', '*', '*.nii*')\n",
    "        qsm_files = sorted(glob.glob(qsm_pattern))\n",
    "        qsm_files = [qsm_files[1], qsm_files[3]]\n",
    "        nza.nonzero_average(qsm_files, mask_files=None, out_file=f'bids-new/{subject}-NEW/{session}/extra_data/{subject}_{session}_qsm_echo2-and-echo4.nii')"
   ]
  },
  {
   "attachments": {},
   "cell_type": "markdown",
   "metadata": {},
   "source": [
    "# Imports"
   ]
  },
  {
   "cell_type": "code",
   "execution_count": 1,
   "metadata": {},
   "outputs": [],
   "source": [
    "import os\n",
    "import glob\n",
    "import nibabel as nib\n",
    "import nilearn.image\n",
    "import numpy as np\n",
    "import enum\n",
    "import json\n",
    "from scipy.ndimage import label\n",
    "import cv2\n",
    "import scipy\n",
    "from scipy.ndimage import binary_dilation, binary_erosion, generate_binary_structure, label"
   ]
  },
  {
   "attachments": {},
   "cell_type": "markdown",
   "metadata": {},
   "source": [
    "# Locate data"
   ]
  },
  {
   "cell_type": "code",
   "execution_count": 2,
   "metadata": {},
   "outputs": [],
   "source": [
    "bids_dir = \"bids-new\""
   ]
  },
  {
   "cell_type": "code",
   "execution_count": 3,
   "metadata": {},
   "outputs": [
    {
     "name": "stdout",
     "output_type": "stream",
     "text": [
      "['bids-new/sub-z0034542/ses-20220715', 'bids-new/sub-z0171603-NEW/ses-20230731', 'bids-new/sub-z0182923/ses-20230705', 'bids-new/sub-z0186251/ses-20221107', 'bids-new/sub-z0237546/ses-20230508', 'bids-new/sub-z0317485/ses-20230517', 'bids-new/sub-z0445614/ses-20230510', 'bids-new/sub-z0705200/ses-20230104', 'bids-new/sub-z0755228/ses-20211108', 'bids-new/sub-z1167038/ses-20220315', 'bids-new/sub-z1181657/ses-20220315', 'bids-new/sub-z1262112/ses-20220314', 'bids-new/sub-z1372775-NEW/ses-20230308', 'bids-new/sub-z1472355/ses-20221222', 'bids-new/sub-z1568577/ses-20230510', 'bids-new/sub-z1571613/ses-20230519', 'bids-new/sub-z1728751/ses-20220328', 'bids-new/sub-z1778013/ses-20220715', 'bids-new/sub-z1818796/ses-20230313', 'bids-new/sub-z2007565/ses-20220715', 'bids-new/sub-z2900812/ses-20230523', 'bids-new/sub-z2904752/ses-20220826', 'bids-new/sub-z2952003/ses-20230614', 'bids-new/sub-z3171177/ses-20230313', 'bids-new/sub-z3278008/ses-20211109', 'bids-new/sub-z3393287/ses-20230524']\n"
     ]
    }
   ],
   "source": [
    "session_dirs = []\n",
    "for json_path in sorted(glob.glob(os.path.join(bids_dir, \"sub*\", \"ses*\", \"anat\", \"*echo-01*mag*json\"))):\n",
    "    with open(json_path, 'r') as json_file:\n",
    "        json_data = json.load(json_file)\n",
    "        if json_data['ProtocolName'] in [\"t2starME_qsm_tra_Iso1.4mm_INPHASE_bipolar_RUN_THIS_ONE\"]:#, \"wip_iSWI_fl3d_vibe\", \"wip_iSWI_fl3d_vibe_TRY THIS ONE\"]:\n",
    "            session_dirs.append(os.sep.join(os.path.split(json_path)[0].split(os.sep)[:-1]))\n",
    "print(session_dirs)\n",
    "for session_dir in session_dirs:\n",
    "    subject = session_dir.split(os.sep)[1]\n",
    "    \n"
   ]
  },
  {
   "cell_type": "code",
   "execution_count": 4,
   "metadata": {},
   "outputs": [
    {
     "name": "stdout",
     "output_type": "stream",
     "text": [
      "26 CT images found.\n",
      "26 raw CT segmentations found.\n",
      "26 clean CT segmentations found.\n",
      "26 QSM images found.\n",
      "17 QSM (2) images found.\n",
      "26 magnitude images found.\n",
      "26 T2* maps found.\n",
      "26 R2* maps found.\n",
      "26 SWI maps found.\n",
      "26 T1w files found.\n",
      "26 resampled T1w files found.\n",
      "26 raw GRE segmentations found.\n",
      "26 clean GRE segmentations found.\n"
     ]
    }
   ],
   "source": [
    "extra_files = sum((glob.glob(os.path.join(session_dir, \"extra_data\", \"*.nii*\")) for session_dir in session_dirs), [])\n",
    "\n",
    "qsm_files2 = sorted(sum((glob.glob(os.path.join(session_dir, \"extra_data\", \"*qsm.*\")) for session_dir in session_dirs), []))\n",
    "qsm_files = sorted(sum((glob.glob(os.path.join(session_dir, \"extra_data\", \"*qsm_echo2-and-echo4.*\")) for session_dir in session_dirs), []))\n",
    "t2s_files = sorted(sum((glob.glob(os.path.join(session_dir, \"extra_data\", \"*t2s*.nii*\")) for session_dir in session_dirs), []))\n",
    "r2s_files = sorted(sum((glob.glob(os.path.join(session_dir, \"extra_data\", \"*r2s*.nii*\")) for session_dir in session_dirs), []))\n",
    "mag_files = sorted(sum((glob.glob(os.path.join(session_dir, \"extra_data\", \"magnitude_combined.nii\")) for session_dir in session_dirs), []))\n",
    "swi_files = sorted(sum((glob.glob(os.path.join(session_dir, \"extra_data\", \"*swi.nii\")) for session_dir in session_dirs), []))\n",
    "\n",
    "gre_seg_raw_files = [extra_file for extra_file in extra_files if all(pattern in extra_file for pattern in ['_segmentation.', 'run'])]\n",
    "gre_seg_clean_files = [seg_file.replace(\".nii\", \"_clean.nii\") for seg_file in gre_seg_raw_files if os.path.exists(seg_file.replace(\".nii\", \"_clean.nii\"))]\n",
    "\n",
    "t1_files = [extra_file for extra_file in extra_files if any(pattern in extra_file for pattern in ['_T1w', '_t1_tra']) and not any(pattern in extra_file for pattern in ['_Pelvis_', '.json', '_resampled'])]\n",
    "t1_files = [t1_file.replace(\"_resampled\", \"\") for t1_file in t1_files]\n",
    "t1_resampled_files = [t1_file.replace(\".nii\", \"_resampled.nii\") for t1_file in t1_files if os.path.exists(t1_file.replace(\".nii\", \"_resampled.nii\"))]\n",
    "\n",
    "ct_files = [extra_file for extra_file in extra_files if 'resliced' in extra_file and any(pattern in extra_file for pattern in ['_na_', '_Pelvis_', '_NA']) and not any(pattern in extra_file for pattern in ['_t1_tra_', 'ATX', 'AXT', 'ROI', 'segmentation', '.json'])]\n",
    "ct_seg_raw_files = sum((glob.glob(ct_file.replace(\".nii\", \"_segmentation.nii\")) for ct_file in ct_files), [])\n",
    "ct_seg_clean_files = [ct_file.replace(\"_segmentation\", \"_segmentation_clean\") for ct_file in ct_seg_raw_files if os.path.exists(ct_file.replace(\"_segmentation\", \"_segmentation_clean\"))]\n",
    "\n",
    "print(f\"{len(ct_files)} CT images found.\")\n",
    "print(f\"{len(ct_seg_raw_files)} raw CT segmentations found.\")\n",
    "print(f\"{len(ct_seg_clean_files)} clean CT segmentations found.\")\n",
    "print(f\"{len(qsm_files)} QSM images found.\")\n",
    "print(f\"{len(qsm_files2)} QSM (2) images found.\")\n",
    "print(f\"{len(mag_files)} magnitude images found.\")\n",
    "print(f\"{len(t2s_files)} T2* maps found.\")\n",
    "print(f\"{len(r2s_files)} R2* maps found.\")\n",
    "print(f\"{len(swi_files)} SWI maps found.\")\n",
    "print(f\"{len(t1_files)} T1w files found.\")\n",
    "print(f\"{len(t1_resampled_files)} resampled T1w files found.\")\n",
    "print(f\"{len(gre_seg_raw_files)} raw GRE segmentations found.\")\n",
    "print(f\"{len(gre_seg_clean_files)} clean GRE segmentations found.\")"
   ]
  },
  {
   "attachments": {},
   "cell_type": "markdown",
   "metadata": {},
   "source": [
    "# Clean up segmentations"
   ]
  },
  {
   "cell_type": "code",
   "execution_count": 19,
   "metadata": {},
   "outputs": [
    {
     "name": "stdout",
     "output_type": "stream",
     "text": [
      "Saved bids-new/sub-z0034542/ses-20220715/extra_data/sub-z0034542_ses-20220715_run-01_segmentation_clean.nii.gz\n",
      "Saved bids-new/sub-z0171603-NEW/ses-20230731/extra_data/sub-z0171603_ses-20230731_run-01_segmentation_clean.nii\n",
      "Saved bids-new/sub-z0182923/ses-20230705/extra_data/sub-z0182923_ses-20230705_run-01_segmentation_clean.nii\n",
      "Saved bids-new/sub-z0186251/ses-20221107/extra_data/sub-z0186251_ses-20221107_run-01_segmentation_clean.nii.gz\n",
      "Saved bids-new/sub-z0237546/ses-20230508/extra_data/sub-z0237546_ses-20230508_run-01_segmentation_clean.nii\n",
      "Saved bids-new/sub-z0317485/ses-20230517/extra_data/sub-z0317485_ses-20230517_run-01_segmentation_clean.nii\n",
      "Saved bids-new/sub-z0445614/ses-20230510/extra_data/sub-z0445614_ses-20230510_run-01_segmentation_clean.nii\n",
      "Saved bids-new/sub-z0705200/ses-20230104/extra_data/sub-z0705200_ses-20230104_run-01_segmentation_clean.nii\n",
      "Saved bids-new/sub-z0755228/ses-20211108/extra_data/sub-z0755228_ses-20211108_run-01_segmentation_clean.nii.gz\n",
      "Saved bids-new/sub-z1167038/ses-20220315/extra_data/sub-z1167038_ses-20220315_run-01_segmentation_clean.nii.gz\n",
      "Saved bids-new/sub-z1181657/ses-20220315/extra_data/sub-z1181657_ses-20220315_run-01_segmentation_clean.nii.gz\n",
      "Saved bids-new/sub-z1262112/ses-20220314/extra_data/sub-z1262112_ses-20220314_run-01_segmentation_clean.nii.gz\n",
      "Saved bids-new/sub-z1372775-NEW/ses-20230308/extra_data/sub-z1372775_ses-20230308_run-01_segmentation_clean.nii\n",
      "Saved bids-new/sub-z1472355/ses-20221222/extra_data/sub-z1472355_ses-20221222_run-01_segmentation_clean.nii\n",
      "Saved bids-new/sub-z1568577/ses-20230510/extra_data/sub-z1568577_ses-20230510_run-01_segmentation_clean.nii\n",
      "Saved bids-new/sub-z1571613/ses-20230519/extra_data/sub-z1571613_ses-20230519_run-01_segmentation_clean.nii\n",
      "Saved bids-new/sub-z1728751/ses-20220328/extra_data/sub-z1728751_ses-20220328_run-01_segmentation_clean.nii.gz\n",
      "Saved bids-new/sub-z1778013/ses-20220715/extra_data/sub-z1778013_ses-20220715_run-01_segmentation_clean.nii.gz\n",
      "Saved bids-new/sub-z1818796/ses-20230313/extra_data/sub-z1818796_ses-20230313_run-01_segmentation_clean.nii\n",
      "Saved bids-new/sub-z2007565/ses-20220715/extra_data/sub-z2007565_ses-20220715_run-01_segmentation_clean.nii.gz\n",
      "Saved bids-new/sub-z2900812/ses-20230523/extra_data/sub-z2900812_ses-20230523_run-01_segmentation_clean.nii\n",
      "Saved bids-new/sub-z2904752/ses-20220826/extra_data/sub-z2904752_ses-20220826_run-01_segmentation_clean.nii\n",
      "Saved bids-new/sub-z2952003/ses-20230614/extra_data/sub-z2952003_ses-20230614_run-01_segmentation_clean.nii\n",
      "Saved bids-new/sub-z3171177/ses-20230313/extra_data/sub-z3171177_ses-20230313_run-01_segmentation_clean.nii\n",
      "Saved bids-new/sub-z3278008/ses-20211109/extra_data/sub-z3278008_ses-20211109_run-01_segmentation_clean.nii.gz\n",
      "Saved bids-new/sub-z3393287/ses-20230524/extra_data/sub-z3393287_ses-20230524_run-01_segmentation_clean.nii\n"
     ]
    }
   ],
   "source": [
    "class SegType(enum.Enum):\n",
    "    NO_LABEL = 0\n",
    "    PROSTATE = 1\n",
    "    GOLD_SEED = 2\n",
    "    CALCIFICATION = 3\n",
    "\n",
    "for i in range(len(qsm_files)):\n",
    "    # load files\n",
    "    qsm_nii = nib.load(qsm_files[i])\n",
    "    seg_nii = nib.load(gre_seg_raw_files[i])\n",
    "\n",
    "    # get image data\n",
    "    qsm = qsm_nii.get_fdata()\n",
    "    seg = np.array(seg_nii.get_fdata(), dtype=np.uint8)\n",
    "\n",
    "    # get prostate values\n",
    "    prostate_values = qsm[seg == SegType.PROSTATE.value]\n",
    "\n",
    "    stdevs = 2.5\n",
    "\n",
    "    # automated gold seed mask\n",
    "    seed_mask_labelled, num_labels = label(\n",
    "        input=seg == SegType.GOLD_SEED.value,\n",
    "        structure=np.ones((3, 3, 3))\n",
    "    )\n",
    "    seed_mask = np.zeros(seg.shape, dtype=np.uint8)\n",
    "    for seed_id in range(1, num_labels + 1):\n",
    "        seed_i_mask = seed_mask_labelled == seed_id\n",
    "        seed_i_mean = qsm[seed_i_mask].mean()\n",
    "        if seed_i_mean > prostate_values.mean() + 1*prostate_values.std():\n",
    "            seed_i_mask = np.logical_and(seed_i_mask, qsm > prostate_values.mean() + stdevs*prostate_values.std())\n",
    "            seed_i_mask = np.logical_and(binary_dilation(seed_i_mask), (qsm > np.mean(prostate_values) + stdevs*np.std(prostate_values)))\n",
    "        else:\n",
    "            seed_i_mask = np.logical_and(seed_i_mask, qsm < prostate_values.mean() - stdevs*prostate_values.std())\n",
    "            seed_i_mask = np.logical_and(binary_dilation(seed_i_mask), (qsm < np.mean(prostate_values) - stdevs*np.std(prostate_values)))\n",
    "        seed_mask = np.logical_or(seed_mask, seed_i_mask)\n",
    "    structure = generate_binary_structure(3, 1) # 3 for 3D image, 2 for full connectivity\n",
    "    labeled_mask, num_features = label(seed_mask, structure)\n",
    "    for idx in range(1, num_features + 1):\n",
    "        if np.sum(labeled_mask == idx) == 1:\n",
    "            seed_mask[labeled_mask == idx] = 0\n",
    "    seed_mask = np.logical_and(seed_mask, seg == SegType.GOLD_SEED.value)\n",
    "\n",
    "    # automated calcification mask\n",
    "    calc_mask = np.array(seg == SegType.CALCIFICATION.value, dtype=np.uint8)\n",
    "    calc_mask = np.logical_and(calc_mask, qsm < prostate_values.mean() - stdevs*prostate_values.std())\n",
    "    calc_mask = np.logical_and(binary_dilation(calc_mask), (qsm < np.mean(prostate_values) - stdevs*np.std(prostate_values)))\n",
    "    structure = generate_binary_structure(3, 1) # 3 for 3D image, 2 for full connectivity\n",
    "    labeled_mask, num_features = label(calc_mask, structure)\n",
    "    for idx in range(1, num_features + 1):\n",
    "        if np.sum(labeled_mask == idx) == 1:\n",
    "            calc_mask[labeled_mask == idx] = 0\n",
    "    calc_mask = np.logical_and(calc_mask, seg == SegType.CALCIFICATION.value)\n",
    "\n",
    "    # setup final values\n",
    "    seg[seg == SegType.GOLD_SEED.value] = 0\n",
    "    seg[seg == SegType.CALCIFICATION.value] = 0\n",
    "    seg[seg == SegType.PROSTATE.value] = 0\n",
    "\n",
    "    seg[seed_mask] = 1\n",
    "    seg[calc_mask] = 2\n",
    "    \n",
    "    # save result using original file extension\n",
    "    filename = f\"{gre_seg_raw_files[i].replace('.nii', '_clean.nii')}\"\n",
    "    nib.save(nib.Nifti1Image(seg, header=seg_nii.header, affine=seg_nii.affine), filename=filename)\n",
    "    print(f\"Saved {filename}\")"
   ]
  },
  {
   "cell_type": "code",
   "execution_count": 20,
   "metadata": {},
   "outputs": [
    {
     "name": "stdout",
     "output_type": "stream",
     "text": [
      "Saved bids-new/sub-z0034542/ses-20220715/extra_data/5_na_20220715092125_5_resliced_segmentation_clean.nii\n",
      "Saved bids-new/sub-z0171603-NEW/ses-20230731/extra_data/6_NA_20230731112304_6_resliced_segmentation_clean.nii\n",
      "Saved bids-new/sub-z0182923/ses-20230705/extra_data/5_NA_20230705093737_5_resliced_segmentation_clean.nii\n",
      "Saved bids-new/sub-z0186251/ses-20221107/extra_data/5_na_20221107081460_5_resliced_segmentation_clean.nii\n",
      "Saved bids-new/sub-z0237546/ses-20230508/extra_data/7_na_20230508102530_7_resliced_segmentation_clean.nii\n",
      "Saved bids-new/sub-z0317485/ses-20230517/extra_data/5_NA_20230517091908_5_resliced_segmentation_clean.nii\n",
      "Saved bids-new/sub-z0445614/ses-20230510/extra_data/5_16_pelvis_16_Pelvis_20230510090050_5_resliced_segmentation_clean.nii\n",
      "Saved bids-new/sub-z0705200/ses-20230104/extra_data/5_11_pelvis_11_Pelvis_20230104113938_5_resliced_segmentation_clean.nii\n",
      "Saved bids-new/sub-z0755228/ses-20211108/extra_data/Z0755228_20211109_Pelvis_2.0_HD_FoV_iMAR_20211109085844_5_resliced_segmentation_clean.nii\n",
      "Saved bids-new/sub-z1167038/ses-20220315/extra_data/6_na_Pelvis_2.0_Br38_3_iMAR_20220315122146_6_resliced_segmentation_clean.nii\n",
      "Saved bids-new/sub-z1181657/ses-20220315/extra_data/5_na_Pelvis_2.0_Br38_3_iMAR_20220315092512_5_resliced_segmentation_clean.nii\n",
      "Saved bids-new/sub-z1262112/ses-20220314/extra_data/5_na_Pelvis_2.0_Br38_3_iMAR_20220314155954_5_resliced_segmentation_clean.nii\n",
      "Saved bids-new/sub-z1372775-NEW/ses-20230308/extra_data/3_NA_20230308115119_3_resliced_segmentation_clean.nii\n",
      "Saved bids-new/sub-z1472355/ses-20221222/extra_data/4_na_20221222095656_4_resliced_segmentation_clean.nii\n",
      "Saved bids-new/sub-z1568577/ses-20230510/extra_data/5_16_pelvis_16_Pelvis_20230510114754_5_resliced_segmentation_clean.nii\n",
      "Saved bids-new/sub-z1571613/ses-20230519/extra_data/5_NA_20230519084109_5_resliced_segmentation_clean.nii\n",
      "Saved bids-new/sub-z1728751/ses-20220328/extra_data/5_na_Pelvis_2.0_HD_FoV_iMAR_20220328145233_5_resliced_segmentation_clean.nii\n",
      "Saved bids-new/sub-z1778013/ses-20220715/extra_data/5_na_20220715093722_5_resliced_segmentation_clean.nii\n",
      "Saved bids-new/sub-z1818796/ses-20230313/extra_data/7_na_20230313114454_7_resliced_segmentation_clean.nii\n",
      "Saved bids-new/sub-z2007565/ses-20220715/extra_data/5_na_20220715111431_5_resliced_segmentation_clean.nii\n",
      "Saved bids-new/sub-z2900812/ses-20230523/extra_data/5_NA_20230523084412_5_resliced_segmentation_clean.nii\n",
      "Saved bids-new/sub-z2904752/ses-20220826/extra_data/5_na_20220826105431_5_resliced_segmentation_clean.nii\n",
      "Saved bids-new/sub-z2952003/ses-20230614/extra_data/5_NA_20230614092610_5_resliced_segmentation_clean.nii\n",
      "Saved bids-new/sub-z3171177/ses-20230313/extra_data/3_na_20230313110549_3_resliced_segmentation_clean.nii\n",
      "Saved bids-new/sub-z3278008/ses-20211109/extra_data/Z3278008_20211109_Pelvis_2.0_HD_FoV_iMAR_20211109085844_5_resliced_segmentation_clean.nii\n",
      "Saved bids-new/sub-z3393287/ses-20230524/extra_data/5_NA_20230524091533_5_resliced_segmentation_clean.nii\n"
     ]
    }
   ],
   "source": [
    "class SegType(enum.Enum):\n",
    "    NO_LABEL = 0\n",
    "    PROSTATE = 1\n",
    "    GOLD_SEED = 2\n",
    "    CALCIFICATION = 3\n",
    "\n",
    "for i in range(len(qsm_files)):\n",
    "    # load files\n",
    "    ct_nii = nib.load(ct_files[i])\n",
    "    seg_nii = nib.load(ct_seg_raw_files[i])\n",
    "\n",
    "    # get image data\n",
    "    ct = ct_nii.get_fdata()\n",
    "    seg = np.array(seg_nii.get_fdata(), dtype=np.uint8)\n",
    "\n",
    "    # get prostate values\n",
    "    prostate_values = ct[seg == SegType.PROSTATE.value]\n",
    "\n",
    "    # seed mask\n",
    "    seed_mask = np.logical_and(seg == SegType.GOLD_SEED.value, ct > prostate_values.mean() + 4*prostate_values.std())\n",
    "    seed_mask = np.logical_and((ct > np.mean(prostate_values) + 4*np.std(prostate_values)), binary_dilation(seed_mask))\n",
    "    structure = generate_binary_structure(3, 1)\n",
    "    labeled_mask, num_features = label(seed_mask, structure)\n",
    "    for idx in range(1, num_features + 1):\n",
    "        if np.sum(labeled_mask == idx) == 1:\n",
    "            seed_mask[labeled_mask == idx] = 0\n",
    "    seed_mask = np.logical_and(seed_mask, seg == SegType.GOLD_SEED.value)\n",
    "\n",
    "    # calcification mask\n",
    "    calc_mask = np.logical_and(seg != SegType.GOLD_SEED, ct > np.mean(prostate_values) + 4*np.std(prostate_values))\n",
    "    calc_mask = np.logical_and((ct > np.mean(prostate_values) + 4*np.std(prostate_values)), binary_dilation(calc_mask))\n",
    "    calc_mask = np.logical_and((ct > np.mean(prostate_values) + 4*np.std(prostate_values)), binary_dilation(calc_mask))\n",
    "    structure = generate_binary_structure(3, 1)\n",
    "    labeled_mask, num_features = label(calc_mask, structure)\n",
    "    for idx in range(1, num_features + 1):\n",
    "        if np.sum(labeled_mask == idx) == 1:\n",
    "            calc_mask[labeled_mask == idx] = 0\n",
    "    calc_mask = np.logical_and(calc_mask, seg == SegType.CALCIFICATION.value)\n",
    "    \n",
    "    # setup final values\n",
    "    seg[seg == SegType.GOLD_SEED.value] = 0\n",
    "    seg[seg == SegType.CALCIFICATION.value] = 0\n",
    "    seg[seg == SegType.PROSTATE.value] = 0\n",
    "\n",
    "    seg[seed_mask] = 1\n",
    "    seg[calc_mask] = 2\n",
    "    \n",
    "    # save result using original file extension\n",
    "    filename = f\"{ct_seg_raw_files[i].replace('.nii', '_clean.nii')}\"\n",
    "    nib.save(nib.Nifti1Image(seg, header=seg_nii.header, affine=seg_nii.affine), filename=filename)\n",
    "    print(f\"Saved {filename}\")"
   ]
  },
  {
   "attachments": {},
   "cell_type": "markdown",
   "metadata": {},
   "source": [
    "# Combined magnitude"
   ]
  },
  {
   "cell_type": "code",
   "execution_count": null,
   "metadata": {},
   "outputs": [],
   "source": [
    "for session_dir in session_dirs:\n",
    "    mag_images = sorted(glob.glob(os.path.join(session_dir, \"anat\", \"*part-mag*nii*\")))\n",
    "    mag_images_even = [mag_images[i] for i in range(1, len(mag_images), 2)]\n",
    "    nii = nib.load(mag_images_even[0])\n",
    "    mag_4d = np.array([nib.load(mag_images_even[i]).get_fdata() for i in range(len(mag_images_even))])\n",
    "    mag_combined = np.sqrt(np.sum(np.square(mag_4d), axis=0))\n",
    "    nib.save(nib.Nifti1Image(mag_combined, header=nii.header, affine=nii.affine), os.path.join(session_dir, \"extra_data\", \"magnitude_combined.nii\"))"
   ]
  },
  {
   "attachments": {},
   "cell_type": "markdown",
   "metadata": {},
   "source": [
    "# Combine QSM SNR-weighted"
   ]
  },
  {
   "cell_type": "code",
   "execution_count": 7,
   "metadata": {},
   "outputs": [
    {
     "name": "stdout",
     "output_type": "stream",
     "text": [
      "sub-z0034542 ses-20220715\n",
      "1\n",
      "sub-z0171603-NEW ses-20230731\n",
      "1\n",
      "sub-z0182923 ses-20230705\n",
      "1\n",
      "sub-z0186251 ses-20221107\n",
      "1\n",
      "sub-z0237546 ses-20230508\n",
      "1\n",
      "sub-z0317485 ses-20230517\n",
      "1\n",
      "sub-z0445614 ses-20230510\n",
      "1\n",
      "sub-z0705200 ses-20230104\n",
      "1\n",
      "sub-z0755228 ses-20211108\n",
      "1\n",
      "sub-z1167038 ses-20220315\n",
      "1\n",
      "sub-z1181657 ses-20220315\n",
      "1\n",
      "sub-z1262112 ses-20220314\n",
      "1\n",
      "sub-z1372775-NEW ses-20230308\n",
      "1\n",
      "sub-z1472355 ses-20221222\n",
      "1\n",
      "sub-z1568577 ses-20230510\n",
      "1\n",
      "sub-z1571613 ses-20230519\n",
      "1\n",
      "sub-z1728751 ses-20220328\n",
      "1\n",
      "sub-z1778013 ses-20220715\n",
      "1\n",
      "sub-z1818796 ses-20230313\n",
      "1\n",
      "sub-z2007565 ses-20220715\n",
      "1\n",
      "sub-z2900812 ses-20230523\n",
      "1\n",
      "sub-z2904752 ses-20220826\n",
      "1\n",
      "sub-z2952003 ses-20230614\n",
      "1\n",
      "sub-z3171177 ses-20230313\n",
      "1\n",
      "sub-z3278008 ses-20211109\n",
      "1\n",
      "sub-z3393287 ses-20230524\n",
      "1\n"
     ]
    }
   ],
   "source": [
    "\n",
    "for session_dir in session_dirs:\n",
    "    subject_id = session_dir.split(os.sep)[1]\n",
    "    session_id = session_dir.split(os.sep)[2]\n",
    "    print(subject_id, session_id)\n",
    "    qsm_pattern = os.path.join('qsm', 'workflow', f'{subject_id}*', session_id, 'qsmxt*', 'numpy_nibabel_twopass', 'mapflow', '*', '*.nii*')\n",
    "    qsm_files = sorted(glob.glob(qsm_pattern))\n",
    "    qsm_files = [qsm_files[i] for i in range(len(qsm_files)) if i % 2 == 1]\n",
    "    mag_pattern = os.path.join('bids-new', subject_id, session_id, 'anat', '*part-mag*nii*')\n",
    "    mag_files = sorted(glob.glob(mag_pattern))\n",
    "    mag_files = [mag_files[i] for i in range(len(mag_files)) if i % 2 == 1]\n",
    "\n",
    "    qsm_images = [nib.load(f) for f in qsm_files]\n",
    "    magnitude_images = [nib.load(f) for f in mag_files]\n",
    "\n",
    "    # 2. Weights 1\n",
    "    epsilon = 1e-3  # Small constant to avoid division by very small numbers\n",
    "    weights = [1 / (img.get_fdata() + epsilon) for img in magnitude_images]\n",
    "    sum_weights = np.sum(np.stack(weights, axis=-1), axis=-1)\n",
    "    normalized_weights = [w / sum_weights for w in weights]\n",
    "\n",
    "    # 2. Weights 2\n",
    "    #weights = [1 / np.mean(img.get_fdata()) for img in magnitude_images]\n",
    "    #normalized_weights = weights / np.sum(weights)\n",
    "    #weighted_qsm_data = np.zeros_like(qsm_images[0].get_fdata())\n",
    "\n",
    "    # 3. Calculate the weighted average of the QSMs:\n",
    "    weighted_qsm_data = np.zeros_like(qsm_images[0].get_fdata())\n",
    "    for i, qsm_img in enumerate(qsm_images):\n",
    "        weighted_qsm_data += normalized_weights[i] * qsm_img.get_fdata()\n",
    "\n",
    "    # Create a new NIfTI image with the weighted QSM data\n",
    "    weighted_qsm_img = nib.Nifti1Image(weighted_qsm_data, qsm_images[0].affine, qsm_images[0].header)\n",
    "\n",
    "    # 4. Save the resulting weighted QSM:\n",
    "    nib.save(weighted_qsm_img, f\"{subject_id}_{session_id}_weighted_qsm.nii.gz\")\n",
    "    print(\"1\")"
   ]
  },
  {
   "attachments": {},
   "cell_type": "markdown",
   "metadata": {},
   "source": [
    "# Reslice T1w images"
   ]
  },
  {
   "cell_type": "code",
   "execution_count": null,
   "metadata": {},
   "outputs": [],
   "source": [
    "for i in range(len(t1_files)):\n",
    "    print(t1_files[i])\n",
    "    t1_nii = nib.load(t1_files[i])\n",
    "    mag_nii = nib.load(mag_files[i])\n",
    "    t1_resampled = nilearn.image.resample_img(t1_nii, target_affine=mag_nii.affine, target_shape=mag_nii.header.get_data_shape())\n",
    "    filename = t1_files[i].replace(\".nii\", \"_resampled.nii\")\n",
    "    nib.save(t1_resampled, filename)"
   ]
  },
  {
   "attachments": {},
   "cell_type": "markdown",
   "metadata": {},
   "source": [
    "# T2* Maps"
   ]
  },
  {
   "cell_type": "code",
   "execution_count": null,
   "metadata": {},
   "outputs": [],
   "source": [
    "!cat {session_dirs[0]}/anat/*phase*json | grep -i echotime\\\""
   ]
  },
  {
   "cell_type": "code",
   "execution_count": null,
   "metadata": {},
   "outputs": [],
   "source": [
    "for session_dir in session_dirs:\n",
    "    print(session_dir)\n",
    "    !./make_t2starmaps.jl --magnitude {os.path.join(session_dir, \"anat\", \"*mag*.nii*\")} --TEs \"[0.00246, 0,00492, 0.00738, 0,00984, 0.0123, 0.0148, 0.01722]\" --t2starmap {os.path.join(session_dir, \"extra_data\", \"t2starmap.nii\")} --r2starmap {os.path.join(session_dir, \"extra_data\", \"r2starmap.nii\")}"
   ]
  },
  {
   "attachments": {},
   "cell_type": "markdown",
   "metadata": {},
   "source": [
    "# SWI"
   ]
  },
  {
   "cell_type": "code",
   "execution_count": null,
   "metadata": {},
   "outputs": [],
   "source": [
    "!julia -e \"import Pkg; Pkg.add(Pkg.PackageSpec(url=\\\"https://github.com/korbinian90/CLEARSWI.jl\\\"))\""
   ]
  },
  {
   "cell_type": "code",
   "execution_count": null,
   "metadata": {},
   "outputs": [],
   "source": [
    "#./make_swis.jl --phase bids-new/sub-z0034542/ses-20220715/anat/sub-z0034542_ses-20220715_run-01_echo-*_part-phase_MEGRE.nii --magnitude bids-new/sub-z0034542/ses-20220715/anat/sub-z0034542_ses-20220715_run-01_echo-*_part-mag_MEGRE.nii --TEs [0.00492,0.00738] --swi-out swi-out.nii --mip-out mip-out.nii"
   ]
  },
  {
   "cell_type": "code",
   "execution_count": null,
   "metadata": {
    "vscode": {
     "languageId": "shellscript"
    }
   },
   "outputs": [],
   "source": [
    "for session_dir in session_dirs:\n",
    "    !echo {session_dir}\n",
    "    !./make_swis.jl \\\n",
    "        --magnitude {os.path.join(session_dir, \"anat\", \"*mag*.nii*\")} \\\n",
    "        --phase {os.path.join(session_dir, \"anat\", \"*phase*.nii*\")} \\\n",
    "        --TEs \"[0.00246, 0.00492, 0.00738, 0.00984, 0.0123, 0.0148, 0.01722]\" \\\n",
    "        --swi-out {os.path.join(session_dir, \"extra_data\", \"swi.nii\")}"
   ]
  },
  {
   "cell_type": "code",
   "execution_count": null,
   "metadata": {
    "vscode": {
     "languageId": "shellscript"
    }
   },
   "outputs": [],
   "source": []
  }
 ],
 "metadata": {
  "kernelspec": {
   "display_name": "prostate",
   "language": "python",
   "name": "python3"
  },
  "language_info": {
   "codemirror_mode": {
    "name": "ipython",
    "version": 3
   },
   "file_extension": ".py",
   "mimetype": "text/x-python",
   "name": "python",
   "nbconvert_exporter": "python",
   "pygments_lexer": "ipython3",
   "version": "3.8.18"
  },
  "orig_nbformat": 4,
  "vscode": {
   "interpreter": {
    "hash": "03f67c3c00010b009bb49c0b41212a310c824d817af9d8224888fa5a5f2c519c"
   }
  }
 },
 "nbformat": 4,
 "nbformat_minor": 2
}
