{
 "cells": [
  {
   "cell_type": "code",
   "execution_count": 1,
   "metadata": {},
   "outputs": [],
   "source": [
    "import glob\n",
    "import os\n",
    "import json\n",
    "import datetime\n",
    "import time\n",
    "\n",
    "import torch\n",
    "import pandas as pd\n",
    "import numpy as np\n",
    "import nibabel as nib\n",
    "\n",
    "from sklearn.metrics import roc_curve, auc, precision_recall_curve, average_precision_score\n",
    "from sklearn.utils.class_weight import compute_sample_weight\n",
    "from sklearn.model_selection import KFold\n",
    "from sklearn.model_selection import train_test_split\n",
    "\n",
    "#from fastai.vision.all import *\n",
    "import fastMONAI.vision_all\n",
    "from monai.networks.nets import UNet\n",
    "from monai.losses import DiceCELoss\n",
    "from scipy import interpolate\n",
    "\n",
    "from useful_functions import *\n",
    "from utils import *"
   ]
  },
  {
   "cell_type": "code",
   "execution_count": 2,
   "metadata": {},
   "outputs": [
    {
     "name": "stdout",
     "output_type": "stream",
     "text": [
      "GPU is NOT available. Fastai will use the CPU.\n"
     ]
    }
   ],
   "source": [
    "if torch.cuda.is_available():\n",
    "    device = torch.device(\"cuda:0\")\n",
    "    print(\"GPU is available. Fastai will use the GPU.\")\n",
    "else:\n",
    "    device = torch.device(\"cpu\")\n",
    "    print(\"GPU is NOT available. Fastai will use the CPU.\")"
   ]
  },
  {
   "cell_type": "code",
   "execution_count": 3,
   "metadata": {},
   "outputs": [],
   "source": [
    "bids_dir = \"bids\""
   ]
  },
  {
   "cell_type": "code",
   "execution_count": 4,
   "metadata": {},
   "outputs": [
    {
     "name": "stdout",
     "output_type": "stream",
     "text": [
      "27 sessions found.\n",
      "25 sessions found.\n"
     ]
    }
   ],
   "source": [
    "session_dirs = []\n",
    "for json_path in sorted(glob.glob(os.path.join(bids_dir, \"sub*\", \"ses*\", \"anat\", \"*echo-01*mag*json\"))):\n",
    "    with open(json_path, 'r') as json_file:\n",
    "        json_data = json.load(json_file)\n",
    "        if json_data['ProtocolName'] in [\"wip_iSWI_fl3d_vibe_TRY THIS ONE\"]:#, \"wip_iSWI_fl3d_vibe\", \"wip_iSWI_fl3d_vibe_TRY THIS ONE\"]:\n",
    "            session_dirs.append(os.sep.join(os.path.split(json_path)[0].split(os.sep)[:-1]))\n",
    "print(f\"{len(session_dirs)} sessions found.\")\n",
    "\n",
    "# remove all sessions with 'sub-z0449294' in the path\n",
    "session_dirs = sorted(set([s for s in session_dirs if 'sub-z0449294' not in s]))\n",
    "\n",
    "print(f\"{len(session_dirs)} sessions found.\")"
   ]
  },
  {
   "cell_type": "code",
   "execution_count": 5,
   "metadata": {},
   "outputs": [
    {
     "name": "stdout",
     "output_type": "stream",
     "text": [
      "25 field maps found.\n",
      "25 CT images found.\n",
      "25 raw CT segmentations found.\n",
      "25 clean CT segmentations found.\n",
      "25 clean GRE segmentations found.\n",
      "25 QSM images found.\n",
      "25 QSM (2) images found.\n",
      "25 magnitude images found.\n",
      "25 T2* maps found.\n",
      "25 R2* maps found.\n",
      "25 SWI maps found.\n",
      "25 T1w files found.\n"
     ]
    }
   ],
   "source": [
    "extra_files = sum((glob.glob(os.path.join(session_dir, \"extra_data\", \"*.nii*\")) for session_dir in session_dirs), [])\n",
    "\n",
    "qsm_files2 = sorted(sum((glob.glob(os.path.join(session_dir, \"extra_data\", \"*real.nii*\")) for session_dir in session_dirs), []))\n",
    "qsm_files = [x for x in sorted(glob.glob(os.path.join(\"out/qsm/*.nii\"))) if 'sub-z0449294' not in x]\n",
    "t2s_files = [x for x in sorted(glob.glob(os.path.join(\"out/t2s/*.nii\"))) if 'sub-z0449294' not in x]\n",
    "r2s_files = [x for x in sorted(glob.glob(os.path.join(\"out/r2s/*.nii\"))) if 'sub-z0449294' not in x]\n",
    "swi_files = [x for x in sorted(glob.glob(os.path.join(\"out/swi/*swi.nii\"))) if 'sub-z0449294' not in x]\n",
    "mag_files = [x for x in sorted(sum((glob.glob(os.path.join(session_dir, \"extra_data\", \"magnitude_combined.nii\")) for session_dir in session_dirs), [])) if 'sub-z0449294' not in x]\n",
    "fmap_files = sorted([extra_file for extra_file in extra_files if 'B0.nii' in extra_file])\n",
    "\n",
    "gre_seg_files = sorted([extra_file for extra_file in extra_files if all(pattern in extra_file for pattern in ['segmentation_clean.nii', 'tgv'])])\n",
    "t1_files = sorted([extra_file for extra_file in extra_files if 'T1w_resliced' in extra_file])\n",
    "\n",
    "# Missing CT for sub-z0449294 \n",
    "ct_files = sorted([extra_file for extra_file in extra_files if 'resliced.nii' in extra_file and 'T1w' not in extra_file and 'segmentation' not in extra_file])\n",
    "ct_seg_files = sorted([extra_file for extra_file in extra_files if 'resliced_segmentation.nii' in extra_file and 'T1w' not in extra_file])\n",
    "ct_seg_clean_files = sorted([extra_file for extra_file in extra_files if 'resliced_segmentation_clean.nii' in extra_file and 'T1w' not in extra_file])\n",
    "\n",
    "print(f\"{len(fmap_files)} field maps found.\")\n",
    "print(f\"{len(ct_files)} CT images found.\")\n",
    "print(f\"{len(ct_seg_files)} raw CT segmentations found.\")\n",
    "print(f\"{len(ct_seg_clean_files)} clean CT segmentations found.\")\n",
    "print(f\"{len(gre_seg_files)} clean GRE segmentations found.\")\n",
    "print(f\"{len(qsm_files)} QSM images found.\")\n",
    "print(f\"{len(qsm_files2)} QSM (2) images found.\")\n",
    "print(f\"{len(mag_files)} magnitude images found.\")\n",
    "print(f\"{len(t2s_files)} T2* maps found.\")\n",
    "print(f\"{len(r2s_files)} R2* maps found.\")\n",
    "print(f\"{len(swi_files)} SWI maps found.\")\n",
    "print(f\"{len(t1_files)} T1w files found.\")"
   ]
  },
  {
   "cell_type": "code",
   "execution_count": 6,
   "metadata": {},
   "outputs": [],
   "source": [
    "assert(len(qsm_files) == len(gre_seg_files))\n",
    "assert(len(qsm_files) == len(t2s_files))\n",
    "assert(len(qsm_files) == len(r2s_files))\n",
    "assert(len(qsm_files) == len(swi_files))\n",
    "assert(len(qsm_files) == len(mag_files))\n",
    "assert(len(qsm_files) == len(t1_files))\n",
    "assert(len(ct_files) == len(ct_seg_clean_files))"
   ]
  },
  {
   "cell_type": "code",
   "execution_count": 7,
   "metadata": {},
   "outputs": [],
   "source": [
    "model_data = { \n",
    "    'CT' : { 'ct_files': ct_files, 'seg_files': ct_seg_clean_files },\n",
    "    'QSM' : { 'qsm_files': qsm_files, 'seg_files': gre_seg_files },\n",
    "    'QSM-SWI' : { 'qsm_files': qsm_files, 'swi_files': swi_files, 'seg_files': gre_seg_files },\n",
    "    'QSM-T1-R2s' : { 'qsm_files': qsm_files, 't1_files': t1_files, 'r2s_files': r2s_files, 'seg_files': gre_seg_files },\n",
    "    'QSM-T1' : { 'qsm_files': qsm_files, 't1_files': t1_files, 'seg_files': gre_seg_files },\n",
    "    'T1' : { 't1_files': t1_files, 'seg_files': gre_seg_files },\n",
    "    'SWI' : { 'swi_files': swi_files, 'seg_files': gre_seg_files },\n",
    "    'R2s' : { 'r2s_files': r2s_files, 'seg_files': gre_seg_files },\n",
    "    'GRE' : { 'mag_files': mag_files, 'seg_files': gre_seg_files },\n",
    "    'QSM-FMAP': { 'qsm_files': qsm_files, 'fmap_files': fmap_files, 'seg_files': gre_seg_files },\n",
    "    'FMAP': { 'fmap_files': fmap_files, 'seg_files': gre_seg_files }\n",
    "}\n",
    "\n",
    "colors = {\n",
    "    'QSM' : '#a6cee3',\n",
    "    'QSM-FMAP': '#1f78b4',\n",
    "    'QSM-SWI' : '#b2df8a',\n",
    "    'QSM-T1-R2s' : '#33a02c',\n",
    "    'QSM-T1' : '#fb9a99',\n",
    "    'FMAP': '#e31a1c',\n",
    "    'SWI' : '#fdbf6f',\n",
    "    'T1' : '#ff7f00',\n",
    "    'R2s' : '#cab2d6',\n",
    "    'GRE' : '#6a3d9a',\n",
    "    'CT' : '#ffff99',\n",
    "}"
   ]
  },
  {
   "cell_type": "code",
   "execution_count": 8,
   "metadata": {},
   "outputs": [],
   "source": [
    "model_name = 'CT'\n",
    "k_folds = 25\n",
    "random_state = 42\n",
    "timestamp = datetime.datetime.fromtimestamp(time.time()).strftime('%Y%m%d-%H%M%S')\n",
    "\n",
    "batch_size = 6\n",
    "training_epochs = 700\n",
    "lr = 0.003\n",
    "ce_loss_weights = torch.Tensor([1, 1, 1])\n",
    "evaluation_augmentations = [\n",
    "    fastMONAI.vision_all.PadOrCrop([80, 80, 80]),\n",
    "    fastMONAI.vision_all.ZNormalization(),\n",
    "]"
   ]
  },
  {
   "cell_type": "code",
   "execution_count": 9,
   "metadata": {},
   "outputs": [
    {
     "name": "stdout",
     "output_type": "stream",
     "text": [
      "=== CT ===\n",
      "infile_cols: ['ct_files']; n_input_channels: 1\n",
      "Loading model: models/CT-20240322-162023-0-best.pth\n"
     ]
    },
    {
     "name": "stderr",
     "output_type": "stream",
     "text": [
      "Saved filed doesn't contain an optimizer state.\n"
     ]
    },
    {
     "name": "stdout",
     "output_type": "stream",
     "text": [
      "0/1; "
     ]
    },
    {
     "data": {
      "text/html": [
       "\n",
       "<style>\n",
       "    /* Turns off some styling */\n",
       "    progress {\n",
       "        /* gets rid of default border in Firefox and Opera. */\n",
       "        border: none;\n",
       "        /* Needs to be in here for Safari polyfill so background images work as expected. */\n",
       "        background-size: auto;\n",
       "    }\n",
       "    progress:not([value]), progress:not([value])::-webkit-progress-bar {\n",
       "        background: repeating-linear-gradient(45deg, #7e7e7e, #7e7e7e 10px, #5c5c5c 10px, #5c5c5c 20px);\n",
       "    }\n",
       "    .progress-bar-interrupted, .progress-bar-interrupted::-webkit-progress-bar {\n",
       "        background: #F44336;\n",
       "    }\n",
       "</style>\n"
      ],
      "text/plain": [
       "<IPython.core.display.HTML object>"
      ]
     },
     "metadata": {},
     "output_type": "display_data"
    },
    {
     "data": {
      "text/html": [],
      "text/plain": [
       "<IPython.core.display.HTML object>"
      ]
     },
     "metadata": {},
     "output_type": "display_data"
    },
    {
     "name": "stdout",
     "output_type": "stream",
     "text": [
      "Input file: bids/sub-z1318033/ses-20230825/extra_data/series-3_NA_20230825101546_3_resliced.nii\n",
      "Marker Precision: 1.0\n",
      "Marker Recall: 1.0\n",
      "True markers: 3\n",
      "False positive markers: 0 (0 were known calcification)\n",
      "False negative markers: 0\n",
      "Loss: 0.10499393194913864\n",
      "Loading model: models/CT-20240322-162023-1-best.pth\n"
     ]
    },
    {
     "name": "stderr",
     "output_type": "stream",
     "text": [
      "Saved filed doesn't contain an optimizer state.\n"
     ]
    },
    {
     "name": "stdout",
     "output_type": "stream",
     "text": [
      "0/1; "
     ]
    },
    {
     "data": {
      "text/html": [
       "\n",
       "<style>\n",
       "    /* Turns off some styling */\n",
       "    progress {\n",
       "        /* gets rid of default border in Firefox and Opera. */\n",
       "        border: none;\n",
       "        /* Needs to be in here for Safari polyfill so background images work as expected. */\n",
       "        background-size: auto;\n",
       "    }\n",
       "    progress:not([value]), progress:not([value])::-webkit-progress-bar {\n",
       "        background: repeating-linear-gradient(45deg, #7e7e7e, #7e7e7e 10px, #5c5c5c 10px, #5c5c5c 20px);\n",
       "    }\n",
       "    .progress-bar-interrupted, .progress-bar-interrupted::-webkit-progress-bar {\n",
       "        background: #F44336;\n",
       "    }\n",
       "</style>\n"
      ],
      "text/plain": [
       "<IPython.core.display.HTML object>"
      ]
     },
     "metadata": {},
     "output_type": "display_data"
    },
    {
     "data": {
      "text/html": [],
      "text/plain": [
       "<IPython.core.display.HTML object>"
      ]
     },
     "metadata": {},
     "output_type": "display_data"
    },
    {
     "name": "stderr",
     "output_type": "stream",
     "text": [
      "Mean of empty slice\n"
     ]
    },
    {
     "name": "stdout",
     "output_type": "stream",
     "text": [
      "Input file: bids/sub-z1691325/ses-20240227/extra_data/series-5_16_Pelvis_16_Pelvis_20240227101660_5_resliced.nii\n",
      "Marker Precision: 1.0\n",
      "Marker Recall: 1.0\n",
      "True markers: 3\n",
      "False positive markers: 0 (0 were known calcification)\n",
      "False negative markers: 0\n",
      "Loss: 0.3620709478855133\n",
      "Loading model: models/CT-20240322-162018-2-best.pth\n"
     ]
    },
    {
     "name": "stderr",
     "output_type": "stream",
     "text": [
      "Saved filed doesn't contain an optimizer state.\n"
     ]
    },
    {
     "name": "stdout",
     "output_type": "stream",
     "text": [
      "0/1; "
     ]
    },
    {
     "data": {
      "text/html": [
       "\n",
       "<style>\n",
       "    /* Turns off some styling */\n",
       "    progress {\n",
       "        /* gets rid of default border in Firefox and Opera. */\n",
       "        border: none;\n",
       "        /* Needs to be in here for Safari polyfill so background images work as expected. */\n",
       "        background-size: auto;\n",
       "    }\n",
       "    progress:not([value]), progress:not([value])::-webkit-progress-bar {\n",
       "        background: repeating-linear-gradient(45deg, #7e7e7e, #7e7e7e 10px, #5c5c5c 10px, #5c5c5c 20px);\n",
       "    }\n",
       "    .progress-bar-interrupted, .progress-bar-interrupted::-webkit-progress-bar {\n",
       "        background: #F44336;\n",
       "    }\n",
       "</style>\n"
      ],
      "text/plain": [
       "<IPython.core.display.HTML object>"
      ]
     },
     "metadata": {},
     "output_type": "display_data"
    },
    {
     "data": {
      "text/html": [],
      "text/plain": [
       "<IPython.core.display.HTML object>"
      ]
     },
     "metadata": {},
     "output_type": "display_data"
    },
    {
     "name": "stdout",
     "output_type": "stream",
     "text": [
      "Input file: bids/sub-z0002292/ses-20240318/extra_data/series-6_16_Pelvis_16_Pelvis_20240318092750_6_resliced.nii\n",
      "Marker Precision: 1.0\n",
      "Marker Recall: 1.0\n",
      "True markers: 3\n",
      "False positive markers: 0 (0 were known calcification)\n",
      "False negative markers: 0\n",
      "Loss: 0.0898023396730423\n",
      "Loading model: models/CT-20240322-165315-3-best.pth\n"
     ]
    },
    {
     "name": "stderr",
     "output_type": "stream",
     "text": [
      "Saved filed doesn't contain an optimizer state.\n"
     ]
    },
    {
     "name": "stdout",
     "output_type": "stream",
     "text": [
      "0/1; "
     ]
    },
    {
     "data": {
      "text/html": [
       "\n",
       "<style>\n",
       "    /* Turns off some styling */\n",
       "    progress {\n",
       "        /* gets rid of default border in Firefox and Opera. */\n",
       "        border: none;\n",
       "        /* Needs to be in here for Safari polyfill so background images work as expected. */\n",
       "        background-size: auto;\n",
       "    }\n",
       "    progress:not([value]), progress:not([value])::-webkit-progress-bar {\n",
       "        background: repeating-linear-gradient(45deg, #7e7e7e, #7e7e7e 10px, #5c5c5c 10px, #5c5c5c 20px);\n",
       "    }\n",
       "    .progress-bar-interrupted, .progress-bar-interrupted::-webkit-progress-bar {\n",
       "        background: #F44336;\n",
       "    }\n",
       "</style>\n"
      ],
      "text/plain": [
       "<IPython.core.display.HTML object>"
      ]
     },
     "metadata": {},
     "output_type": "display_data"
    },
    {
     "data": {
      "text/html": [],
      "text/plain": [
       "<IPython.core.display.HTML object>"
      ]
     },
     "metadata": {},
     "output_type": "display_data"
    },
    {
     "name": "stdout",
     "output_type": "stream",
     "text": [
      "Input file: bids/sub-z3268423/ses-20240109/extra_data/series-5_16_Pelvis_16_Pelvis_20240109090856_5_resliced.nii\n",
      "Marker Precision: 1.0\n",
      "Marker Recall: 1.0\n",
      "True markers: 3\n",
      "False positive markers: 0 (0 were known calcification)\n",
      "False negative markers: 0\n",
      "Loss: 0.15072065591812134\n",
      "Loading model: models/CT-20240322-165714-4-best.pth\n"
     ]
    },
    {
     "name": "stderr",
     "output_type": "stream",
     "text": [
      "Saved filed doesn't contain an optimizer state.\n"
     ]
    },
    {
     "name": "stdout",
     "output_type": "stream",
     "text": [
      "0/1; "
     ]
    },
    {
     "data": {
      "text/html": [
       "\n",
       "<style>\n",
       "    /* Turns off some styling */\n",
       "    progress {\n",
       "        /* gets rid of default border in Firefox and Opera. */\n",
       "        border: none;\n",
       "        /* Needs to be in here for Safari polyfill so background images work as expected. */\n",
       "        background-size: auto;\n",
       "    }\n",
       "    progress:not([value]), progress:not([value])::-webkit-progress-bar {\n",
       "        background: repeating-linear-gradient(45deg, #7e7e7e, #7e7e7e 10px, #5c5c5c 10px, #5c5c5c 20px);\n",
       "    }\n",
       "    .progress-bar-interrupted, .progress-bar-interrupted::-webkit-progress-bar {\n",
       "        background: #F44336;\n",
       "    }\n",
       "</style>\n"
      ],
      "text/plain": [
       "<IPython.core.display.HTML object>"
      ]
     },
     "metadata": {},
     "output_type": "display_data"
    },
    {
     "data": {
      "text/html": [],
      "text/plain": [
       "<IPython.core.display.HTML object>"
      ]
     },
     "metadata": {},
     "output_type": "display_data"
    },
    {
     "name": "stdout",
     "output_type": "stream",
     "text": [
      "Input file: bids/sub-z1448271/ses-20231110/extra_data/series-5_16_Pelvis_16_Pelvis_20231110085011_5_resliced.nii\n",
      "Marker Precision: 1.0\n",
      "Marker Recall: 1.0\n",
      "True markers: 3\n",
      "False positive markers: 0 (0 were known calcification)\n",
      "False negative markers: 0\n",
      "Loss: 0.07808011025190353\n",
      "Loading model: models/CT-20240322-170940-5-best.pth\n"
     ]
    },
    {
     "name": "stderr",
     "output_type": "stream",
     "text": [
      "Saved filed doesn't contain an optimizer state.\n"
     ]
    },
    {
     "name": "stdout",
     "output_type": "stream",
     "text": [
      "0/1; "
     ]
    },
    {
     "data": {
      "text/html": [
       "\n",
       "<style>\n",
       "    /* Turns off some styling */\n",
       "    progress {\n",
       "        /* gets rid of default border in Firefox and Opera. */\n",
       "        border: none;\n",
       "        /* Needs to be in here for Safari polyfill so background images work as expected. */\n",
       "        background-size: auto;\n",
       "    }\n",
       "    progress:not([value]), progress:not([value])::-webkit-progress-bar {\n",
       "        background: repeating-linear-gradient(45deg, #7e7e7e, #7e7e7e 10px, #5c5c5c 10px, #5c5c5c 20px);\n",
       "    }\n",
       "    .progress-bar-interrupted, .progress-bar-interrupted::-webkit-progress-bar {\n",
       "        background: #F44336;\n",
       "    }\n",
       "</style>\n"
      ],
      "text/plain": [
       "<IPython.core.display.HTML object>"
      ]
     },
     "metadata": {},
     "output_type": "display_data"
    },
    {
     "data": {
      "text/html": [],
      "text/plain": [
       "<IPython.core.display.HTML object>"
      ]
     },
     "metadata": {},
     "output_type": "display_data"
    },
    {
     "name": "stderr",
     "output_type": "stream",
     "text": [
      "Mean of empty slice\n"
     ]
    },
    {
     "name": "stdout",
     "output_type": "stream",
     "text": [
      "Input file: bids/sub-z1384048/ses-20231108/extra_data/series-5_16_Pelvis_16_Pelvis_20231108092623_5_resliced.nii\n",
      "Marker Precision: 1.0\n",
      "Marker Recall: 1.0\n",
      "True markers: 3\n",
      "False positive markers: 0 (0 were known calcification)\n",
      "False negative markers: 0\n",
      "Loss: 0.37099042534828186\n",
      "Loading model: models/CT-20240322-171829-6-best.pth\n"
     ]
    },
    {
     "name": "stderr",
     "output_type": "stream",
     "text": [
      "Saved filed doesn't contain an optimizer state.\n"
     ]
    },
    {
     "name": "stdout",
     "output_type": "stream",
     "text": [
      "0/1; "
     ]
    },
    {
     "data": {
      "text/html": [
       "\n",
       "<style>\n",
       "    /* Turns off some styling */\n",
       "    progress {\n",
       "        /* gets rid of default border in Firefox and Opera. */\n",
       "        border: none;\n",
       "        /* Needs to be in here for Safari polyfill so background images work as expected. */\n",
       "        background-size: auto;\n",
       "    }\n",
       "    progress:not([value]), progress:not([value])::-webkit-progress-bar {\n",
       "        background: repeating-linear-gradient(45deg, #7e7e7e, #7e7e7e 10px, #5c5c5c 10px, #5c5c5c 20px);\n",
       "    }\n",
       "    .progress-bar-interrupted, .progress-bar-interrupted::-webkit-progress-bar {\n",
       "        background: #F44336;\n",
       "    }\n",
       "</style>\n"
      ],
      "text/plain": [
       "<IPython.core.display.HTML object>"
      ]
     },
     "metadata": {},
     "output_type": "display_data"
    },
    {
     "data": {
      "text/html": [],
      "text/plain": [
       "<IPython.core.display.HTML object>"
      ]
     },
     "metadata": {},
     "output_type": "display_data"
    },
    {
     "name": "stdout",
     "output_type": "stream",
     "text": [
      "Input file: bids/sub-z1635498/ses-20240305/extra_data/series-5_16_Pelvis_16_Pelvis_20240305092125_5_resliced.nii\n",
      "Marker Precision: 1.0\n",
      "Marker Recall: 1.0\n",
      "True markers: 3\n",
      "False positive markers: 0 (0 were known calcification)\n",
      "False negative markers: 0\n",
      "Loss: 0.12207125872373581\n",
      "Loading model: models/CT-20240322-173639-7-best.pth\n"
     ]
    },
    {
     "name": "stderr",
     "output_type": "stream",
     "text": [
      "Saved filed doesn't contain an optimizer state.\n"
     ]
    },
    {
     "name": "stdout",
     "output_type": "stream",
     "text": [
      "0/1; "
     ]
    },
    {
     "data": {
      "text/html": [
       "\n",
       "<style>\n",
       "    /* Turns off some styling */\n",
       "    progress {\n",
       "        /* gets rid of default border in Firefox and Opera. */\n",
       "        border: none;\n",
       "        /* Needs to be in here for Safari polyfill so background images work as expected. */\n",
       "        background-size: auto;\n",
       "    }\n",
       "    progress:not([value]), progress:not([value])::-webkit-progress-bar {\n",
       "        background: repeating-linear-gradient(45deg, #7e7e7e, #7e7e7e 10px, #5c5c5c 10px, #5c5c5c 20px);\n",
       "    }\n",
       "    .progress-bar-interrupted, .progress-bar-interrupted::-webkit-progress-bar {\n",
       "        background: #F44336;\n",
       "    }\n",
       "</style>\n"
      ],
      "text/plain": [
       "<IPython.core.display.HTML object>"
      ]
     },
     "metadata": {},
     "output_type": "display_data"
    },
    {
     "data": {
      "text/html": [],
      "text/plain": [
       "<IPython.core.display.HTML object>"
      ]
     },
     "metadata": {},
     "output_type": "display_data"
    },
    {
     "name": "stderr",
     "output_type": "stream",
     "text": [
      "Mean of empty slice\n"
     ]
    },
    {
     "name": "stdout",
     "output_type": "stream",
     "text": [
      "Input file: bids/sub-z0163277/ses-20240123/extra_data/series-5_16_Pelvis_16_Pelvis_20240123085135_5_resliced.nii\n",
      "Marker Precision: 1.0\n",
      "Marker Recall: 1.0\n",
      "True markers: 3\n",
      "False positive markers: 0 (0 were known calcification)\n",
      "False negative markers: 0\n",
      "Loss: 0.3592894375324249\n",
      "Loading model: models/CT-20240322-173915-8-best.pth\n"
     ]
    },
    {
     "name": "stderr",
     "output_type": "stream",
     "text": [
      "Saved filed doesn't contain an optimizer state.\n"
     ]
    },
    {
     "name": "stdout",
     "output_type": "stream",
     "text": [
      "0/1; "
     ]
    },
    {
     "data": {
      "text/html": [
       "\n",
       "<style>\n",
       "    /* Turns off some styling */\n",
       "    progress {\n",
       "        /* gets rid of default border in Firefox and Opera. */\n",
       "        border: none;\n",
       "        /* Needs to be in here for Safari polyfill so background images work as expected. */\n",
       "        background-size: auto;\n",
       "    }\n",
       "    progress:not([value]), progress:not([value])::-webkit-progress-bar {\n",
       "        background: repeating-linear-gradient(45deg, #7e7e7e, #7e7e7e 10px, #5c5c5c 10px, #5c5c5c 20px);\n",
       "    }\n",
       "    .progress-bar-interrupted, .progress-bar-interrupted::-webkit-progress-bar {\n",
       "        background: #F44336;\n",
       "    }\n",
       "</style>\n"
      ],
      "text/plain": [
       "<IPython.core.display.HTML object>"
      ]
     },
     "metadata": {},
     "output_type": "display_data"
    },
    {
     "data": {
      "text/html": [],
      "text/plain": [
       "<IPython.core.display.HTML object>"
      ]
     },
     "metadata": {},
     "output_type": "display_data"
    },
    {
     "name": "stdout",
     "output_type": "stream",
     "text": [
      "Input file: bids/sub-z3220308/ses-20231009/extra_data/series-6_NA_20231009081319_6_resliced.nii\n",
      "Marker Precision: 1.0\n",
      "Marker Recall: 1.0\n",
      "True markers: 3\n",
      "False positive markers: 0 (0 were known calcification)\n",
      "False negative markers: 0\n",
      "Loss: 0.08902577310800552\n",
      "Loading model: models/CT-20240322-180519-9-best.pth\n"
     ]
    },
    {
     "name": "stderr",
     "output_type": "stream",
     "text": [
      "Saved filed doesn't contain an optimizer state.\n"
     ]
    },
    {
     "name": "stdout",
     "output_type": "stream",
     "text": [
      "0/1; "
     ]
    },
    {
     "data": {
      "text/html": [
       "\n",
       "<style>\n",
       "    /* Turns off some styling */\n",
       "    progress {\n",
       "        /* gets rid of default border in Firefox and Opera. */\n",
       "        border: none;\n",
       "        /* Needs to be in here for Safari polyfill so background images work as expected. */\n",
       "        background-size: auto;\n",
       "    }\n",
       "    progress:not([value]), progress:not([value])::-webkit-progress-bar {\n",
       "        background: repeating-linear-gradient(45deg, #7e7e7e, #7e7e7e 10px, #5c5c5c 10px, #5c5c5c 20px);\n",
       "    }\n",
       "    .progress-bar-interrupted, .progress-bar-interrupted::-webkit-progress-bar {\n",
       "        background: #F44336;\n",
       "    }\n",
       "</style>\n"
      ],
      "text/plain": [
       "<IPython.core.display.HTML object>"
      ]
     },
     "metadata": {},
     "output_type": "display_data"
    },
    {
     "data": {
      "text/html": [],
      "text/plain": [
       "<IPython.core.display.HTML object>"
      ]
     },
     "metadata": {},
     "output_type": "display_data"
    },
    {
     "name": "stdout",
     "output_type": "stream",
     "text": [
      "Input file: bids/sub-z0381949/ses-20231005/extra_data/series-5_NA_20231005075647_5_resliced.nii\n",
      "Marker Precision: 1.0\n",
      "Marker Recall: 1.0\n",
      "True markers: 3\n",
      "False positive markers: 0 (0 were known calcification)\n",
      "False negative markers: 0\n",
      "Loss: 0.07234116643667221\n",
      "Loading model: models/CT-20240322-180653-10-best.pth\n"
     ]
    },
    {
     "name": "stderr",
     "output_type": "stream",
     "text": [
      "Saved filed doesn't contain an optimizer state.\n"
     ]
    },
    {
     "name": "stdout",
     "output_type": "stream",
     "text": [
      "0/1; "
     ]
    },
    {
     "data": {
      "text/html": [
       "\n",
       "<style>\n",
       "    /* Turns off some styling */\n",
       "    progress {\n",
       "        /* gets rid of default border in Firefox and Opera. */\n",
       "        border: none;\n",
       "        /* Needs to be in here for Safari polyfill so background images work as expected. */\n",
       "        background-size: auto;\n",
       "    }\n",
       "    progress:not([value]), progress:not([value])::-webkit-progress-bar {\n",
       "        background: repeating-linear-gradient(45deg, #7e7e7e, #7e7e7e 10px, #5c5c5c 10px, #5c5c5c 20px);\n",
       "    }\n",
       "    .progress-bar-interrupted, .progress-bar-interrupted::-webkit-progress-bar {\n",
       "        background: #F44336;\n",
       "    }\n",
       "</style>\n"
      ],
      "text/plain": [
       "<IPython.core.display.HTML object>"
      ]
     },
     "metadata": {},
     "output_type": "display_data"
    },
    {
     "data": {
      "text/html": [],
      "text/plain": [
       "<IPython.core.display.HTML object>"
      ]
     },
     "metadata": {},
     "output_type": "display_data"
    },
    {
     "name": "stdout",
     "output_type": "stream",
     "text": [
      "Input file: bids/sub-z0206923/ses-20231003/extra_data/series-5_NA_20231003083739_5_resliced.nii\n",
      "Marker Precision: 1.0\n",
      "Marker Recall: 1.0\n",
      "True markers: 3\n",
      "False positive markers: 0 (0 were known calcification)\n",
      "False negative markers: 0\n",
      "Loss: 0.06723467260599136\n",
      "Loading model: models/CT-20240322-182026-11-best.pth\n"
     ]
    },
    {
     "name": "stderr",
     "output_type": "stream",
     "text": [
      "Saved filed doesn't contain an optimizer state.\n"
     ]
    },
    {
     "name": "stdout",
     "output_type": "stream",
     "text": [
      "0/1; "
     ]
    },
    {
     "data": {
      "text/html": [
       "\n",
       "<style>\n",
       "    /* Turns off some styling */\n",
       "    progress {\n",
       "        /* gets rid of default border in Firefox and Opera. */\n",
       "        border: none;\n",
       "        /* Needs to be in here for Safari polyfill so background images work as expected. */\n",
       "        background-size: auto;\n",
       "    }\n",
       "    progress:not([value]), progress:not([value])::-webkit-progress-bar {\n",
       "        background: repeating-linear-gradient(45deg, #7e7e7e, #7e7e7e 10px, #5c5c5c 10px, #5c5c5c 20px);\n",
       "    }\n",
       "    .progress-bar-interrupted, .progress-bar-interrupted::-webkit-progress-bar {\n",
       "        background: #F44336;\n",
       "    }\n",
       "</style>\n"
      ],
      "text/plain": [
       "<IPython.core.display.HTML object>"
      ]
     },
     "metadata": {},
     "output_type": "display_data"
    },
    {
     "data": {
      "text/html": [],
      "text/plain": [
       "<IPython.core.display.HTML object>"
      ]
     },
     "metadata": {},
     "output_type": "display_data"
    },
    {
     "name": "stdout",
     "output_type": "stream",
     "text": [
      "Input file: bids/sub-z1484547/ses-20240102/extra_data/series-7_16_Pelvis_16_Pelvis_20240102093205_7_resliced.nii\n",
      "Marker Precision: 1.0\n",
      "Marker Recall: 1.0\n",
      "True markers: 3\n",
      "False positive markers: 0 (0 were known calcification)\n",
      "False negative markers: 0\n",
      "Loss: 0.0771661102771759\n",
      "Loading model: models/CT-20240322-184239-12-best.pth\n"
     ]
    },
    {
     "name": "stderr",
     "output_type": "stream",
     "text": [
      "Saved filed doesn't contain an optimizer state.\n"
     ]
    },
    {
     "name": "stdout",
     "output_type": "stream",
     "text": [
      "0/1; "
     ]
    },
    {
     "data": {
      "text/html": [
       "\n",
       "<style>\n",
       "    /* Turns off some styling */\n",
       "    progress {\n",
       "        /* gets rid of default border in Firefox and Opera. */\n",
       "        border: none;\n",
       "        /* Needs to be in here for Safari polyfill so background images work as expected. */\n",
       "        background-size: auto;\n",
       "    }\n",
       "    progress:not([value]), progress:not([value])::-webkit-progress-bar {\n",
       "        background: repeating-linear-gradient(45deg, #7e7e7e, #7e7e7e 10px, #5c5c5c 10px, #5c5c5c 20px);\n",
       "    }\n",
       "    .progress-bar-interrupted, .progress-bar-interrupted::-webkit-progress-bar {\n",
       "        background: #F44336;\n",
       "    }\n",
       "</style>\n"
      ],
      "text/plain": [
       "<IPython.core.display.HTML object>"
      ]
     },
     "metadata": {},
     "output_type": "display_data"
    },
    {
     "data": {
      "text/html": [],
      "text/plain": [
       "<IPython.core.display.HTML object>"
      ]
     },
     "metadata": {},
     "output_type": "display_data"
    },
    {
     "name": "stdout",
     "output_type": "stream",
     "text": [
      "Input file: bids/sub-z1645782/ses-20231010/extra_data/series-5_NA_20231010083547_5_resliced.nii\n",
      "Marker Precision: 1.0\n",
      "Marker Recall: 1.0\n",
      "True markers: 2\n",
      "False positive markers: 0 (0 were known calcification)\n",
      "False negative markers: 0\n",
      "Loss: 0.08638276904821396\n",
      "Loading model: models/CT-20240322-185503-13-best.pth\n"
     ]
    },
    {
     "name": "stderr",
     "output_type": "stream",
     "text": [
      "Saved filed doesn't contain an optimizer state.\n"
     ]
    },
    {
     "name": "stdout",
     "output_type": "stream",
     "text": [
      "0/1; "
     ]
    },
    {
     "data": {
      "text/html": [
       "\n",
       "<style>\n",
       "    /* Turns off some styling */\n",
       "    progress {\n",
       "        /* gets rid of default border in Firefox and Opera. */\n",
       "        border: none;\n",
       "        /* Needs to be in here for Safari polyfill so background images work as expected. */\n",
       "        background-size: auto;\n",
       "    }\n",
       "    progress:not([value]), progress:not([value])::-webkit-progress-bar {\n",
       "        background: repeating-linear-gradient(45deg, #7e7e7e, #7e7e7e 10px, #5c5c5c 10px, #5c5c5c 20px);\n",
       "    }\n",
       "    .progress-bar-interrupted, .progress-bar-interrupted::-webkit-progress-bar {\n",
       "        background: #F44336;\n",
       "    }\n",
       "</style>\n"
      ],
      "text/plain": [
       "<IPython.core.display.HTML object>"
      ]
     },
     "metadata": {},
     "output_type": "display_data"
    },
    {
     "data": {
      "text/html": [],
      "text/plain": [
       "<IPython.core.display.HTML object>"
      ]
     },
     "metadata": {},
     "output_type": "display_data"
    },
    {
     "name": "stdout",
     "output_type": "stream",
     "text": [
      "Input file: bids/sub-z0232771/ses-20240228/extra_data/series-5_16_Pelvis_16_Pelvis_20240228094427_5_resliced.nii\n",
      "Marker Precision: 1.0\n",
      "Marker Recall: 1.0\n",
      "True markers: 3\n",
      "False positive markers: 0 (0 were known calcification)\n",
      "False negative markers: 0\n",
      "Loss: 0.06401899456977844\n",
      "Loading model: models/CT-20240322-185839-14-best.pth\n"
     ]
    },
    {
     "name": "stderr",
     "output_type": "stream",
     "text": [
      "Saved filed doesn't contain an optimizer state.\n"
     ]
    },
    {
     "name": "stdout",
     "output_type": "stream",
     "text": [
      "0/1; "
     ]
    },
    {
     "data": {
      "text/html": [
       "\n",
       "<style>\n",
       "    /* Turns off some styling */\n",
       "    progress {\n",
       "        /* gets rid of default border in Firefox and Opera. */\n",
       "        border: none;\n",
       "        /* Needs to be in here for Safari polyfill so background images work as expected. */\n",
       "        background-size: auto;\n",
       "    }\n",
       "    progress:not([value]), progress:not([value])::-webkit-progress-bar {\n",
       "        background: repeating-linear-gradient(45deg, #7e7e7e, #7e7e7e 10px, #5c5c5c 10px, #5c5c5c 20px);\n",
       "    }\n",
       "    .progress-bar-interrupted, .progress-bar-interrupted::-webkit-progress-bar {\n",
       "        background: #F44336;\n",
       "    }\n",
       "</style>\n"
      ],
      "text/plain": [
       "<IPython.core.display.HTML object>"
      ]
     },
     "metadata": {},
     "output_type": "display_data"
    },
    {
     "data": {
      "text/html": [],
      "text/plain": [
       "<IPython.core.display.HTML object>"
      ]
     },
     "metadata": {},
     "output_type": "display_data"
    },
    {
     "name": "stderr",
     "output_type": "stream",
     "text": [
      "Mean of empty slice\n"
     ]
    },
    {
     "name": "stdout",
     "output_type": "stream",
     "text": [
      "Input file: bids/sub-z0347933/ses-20240129/extra_data/series-4_16_Pelvis_16_Pelvis_20240129121046_4_resliced.nii\n",
      "Marker Precision: 1.0\n",
      "Marker Recall: 1.0\n",
      "True markers: 3\n",
      "False positive markers: 0 (0 were known calcification)\n",
      "False negative markers: 0\n",
      "Loss: 0.39239364862442017\n",
      "Loading model: models/CT-20240322-191102-15-best.pth\n"
     ]
    },
    {
     "name": "stderr",
     "output_type": "stream",
     "text": [
      "Saved filed doesn't contain an optimizer state.\n"
     ]
    },
    {
     "name": "stdout",
     "output_type": "stream",
     "text": [
      "0/1; "
     ]
    },
    {
     "data": {
      "text/html": [
       "\n",
       "<style>\n",
       "    /* Turns off some styling */\n",
       "    progress {\n",
       "        /* gets rid of default border in Firefox and Opera. */\n",
       "        border: none;\n",
       "        /* Needs to be in here for Safari polyfill so background images work as expected. */\n",
       "        background-size: auto;\n",
       "    }\n",
       "    progress:not([value]), progress:not([value])::-webkit-progress-bar {\n",
       "        background: repeating-linear-gradient(45deg, #7e7e7e, #7e7e7e 10px, #5c5c5c 10px, #5c5c5c 20px);\n",
       "    }\n",
       "    .progress-bar-interrupted, .progress-bar-interrupted::-webkit-progress-bar {\n",
       "        background: #F44336;\n",
       "    }\n",
       "</style>\n"
      ],
      "text/plain": [
       "<IPython.core.display.HTML object>"
      ]
     },
     "metadata": {},
     "output_type": "display_data"
    },
    {
     "data": {
      "text/html": [],
      "text/plain": [
       "<IPython.core.display.HTML object>"
      ]
     },
     "metadata": {},
     "output_type": "display_data"
    },
    {
     "name": "stdout",
     "output_type": "stream",
     "text": [
      "Input file: bids/sub-z3145629/ses-20231204/extra_data/series-5_16_Pelvis_16_Pelvis_20231204115121_5_resliced.nii\n",
      "Marker Precision: 1.0\n",
      "Marker Recall: 1.0\n",
      "True markers: 3\n",
      "False positive markers: 0 (0 were known calcification)\n",
      "False negative markers: 0\n",
      "Loss: 0.06839023530483246\n",
      "Loading model: models/CT-20240322-192536-16-best.pth\n"
     ]
    },
    {
     "name": "stderr",
     "output_type": "stream",
     "text": [
      "Saved filed doesn't contain an optimizer state.\n"
     ]
    },
    {
     "name": "stdout",
     "output_type": "stream",
     "text": [
      "0/1; "
     ]
    },
    {
     "data": {
      "text/html": [
       "\n",
       "<style>\n",
       "    /* Turns off some styling */\n",
       "    progress {\n",
       "        /* gets rid of default border in Firefox and Opera. */\n",
       "        border: none;\n",
       "        /* Needs to be in here for Safari polyfill so background images work as expected. */\n",
       "        background-size: auto;\n",
       "    }\n",
       "    progress:not([value]), progress:not([value])::-webkit-progress-bar {\n",
       "        background: repeating-linear-gradient(45deg, #7e7e7e, #7e7e7e 10px, #5c5c5c 10px, #5c5c5c 20px);\n",
       "    }\n",
       "    .progress-bar-interrupted, .progress-bar-interrupted::-webkit-progress-bar {\n",
       "        background: #F44336;\n",
       "    }\n",
       "</style>\n"
      ],
      "text/plain": [
       "<IPython.core.display.HTML object>"
      ]
     },
     "metadata": {},
     "output_type": "display_data"
    },
    {
     "data": {
      "text/html": [],
      "text/plain": [
       "<IPython.core.display.HTML object>"
      ]
     },
     "metadata": {},
     "output_type": "display_data"
    },
    {
     "name": "stderr",
     "output_type": "stream",
     "text": [
      "Mean of empty slice\n"
     ]
    },
    {
     "name": "stdout",
     "output_type": "stream",
     "text": [
      "Input file: bids/sub-z2105112/ses-20231220/extra_data/series-5_16_Pelvis_16_Pelvis_20231220111840_5_resliced.nii\n",
      "Marker Precision: 1.0\n",
      "Marker Recall: 1.0\n",
      "True markers: 3\n",
      "False positive markers: 0 (0 were known calcification)\n",
      "False negative markers: 0\n",
      "Loss: 0.37533360719680786\n",
      "Loading model: models/CT-20240322-192946-17-best.pth\n"
     ]
    },
    {
     "name": "stderr",
     "output_type": "stream",
     "text": [
      "Saved filed doesn't contain an optimizer state.\n"
     ]
    },
    {
     "name": "stdout",
     "output_type": "stream",
     "text": [
      "0/1; "
     ]
    },
    {
     "data": {
      "text/html": [
       "\n",
       "<style>\n",
       "    /* Turns off some styling */\n",
       "    progress {\n",
       "        /* gets rid of default border in Firefox and Opera. */\n",
       "        border: none;\n",
       "        /* Needs to be in here for Safari polyfill so background images work as expected. */\n",
       "        background-size: auto;\n",
       "    }\n",
       "    progress:not([value]), progress:not([value])::-webkit-progress-bar {\n",
       "        background: repeating-linear-gradient(45deg, #7e7e7e, #7e7e7e 10px, #5c5c5c 10px, #5c5c5c 20px);\n",
       "    }\n",
       "    .progress-bar-interrupted, .progress-bar-interrupted::-webkit-progress-bar {\n",
       "        background: #F44336;\n",
       "    }\n",
       "</style>\n"
      ],
      "text/plain": [
       "<IPython.core.display.HTML object>"
      ]
     },
     "metadata": {},
     "output_type": "display_data"
    },
    {
     "data": {
      "text/html": [],
      "text/plain": [
       "<IPython.core.display.HTML object>"
      ]
     },
     "metadata": {},
     "output_type": "display_data"
    },
    {
     "name": "stdout",
     "output_type": "stream",
     "text": [
      "Input file: bids/sub-z3212665/ses-20240305/extra_data/series-5_16_Pelvis_16_Pelvis_20240305085930_5_resliced.nii\n",
      "Marker Precision: 1.0\n",
      "Marker Recall: 1.0\n",
      "True markers: 3\n",
      "False positive markers: 0 (0 were known calcification)\n",
      "False negative markers: 0\n",
      "Loss: 0.0521230511367321\n",
      "Loading model: models/CT-20240322-195319-18-best.pth\n"
     ]
    },
    {
     "name": "stderr",
     "output_type": "stream",
     "text": [
      "Saved filed doesn't contain an optimizer state.\n"
     ]
    },
    {
     "name": "stdout",
     "output_type": "stream",
     "text": [
      "0/1; "
     ]
    },
    {
     "data": {
      "text/html": [
       "\n",
       "<style>\n",
       "    /* Turns off some styling */\n",
       "    progress {\n",
       "        /* gets rid of default border in Firefox and Opera. */\n",
       "        border: none;\n",
       "        /* Needs to be in here for Safari polyfill so background images work as expected. */\n",
       "        background-size: auto;\n",
       "    }\n",
       "    progress:not([value]), progress:not([value])::-webkit-progress-bar {\n",
       "        background: repeating-linear-gradient(45deg, #7e7e7e, #7e7e7e 10px, #5c5c5c 10px, #5c5c5c 20px);\n",
       "    }\n",
       "    .progress-bar-interrupted, .progress-bar-interrupted::-webkit-progress-bar {\n",
       "        background: #F44336;\n",
       "    }\n",
       "</style>\n"
      ],
      "text/plain": [
       "<IPython.core.display.HTML object>"
      ]
     },
     "metadata": {},
     "output_type": "display_data"
    },
    {
     "data": {
      "text/html": [],
      "text/plain": [
       "<IPython.core.display.HTML object>"
      ]
     },
     "metadata": {},
     "output_type": "display_data"
    },
    {
     "name": "stdout",
     "output_type": "stream",
     "text": [
      "Input file: bids/sub-z2684925/ses-20240313/extra_data/series-5_16_Pelvis_16_Pelvis_20240313093923_5_resliced.nii\n",
      "Marker Precision: 1.0\n",
      "Marker Recall: 1.0\n",
      "True markers: 3\n",
      "False positive markers: 0 (0 were known calcification)\n",
      "False negative markers: 0\n",
      "Loss: 0.07190786302089691\n",
      "Loading model: models/CT-20240322-200204-19-best.pth\n"
     ]
    },
    {
     "name": "stderr",
     "output_type": "stream",
     "text": [
      "Saved filed doesn't contain an optimizer state.\n"
     ]
    },
    {
     "name": "stdout",
     "output_type": "stream",
     "text": [
      "0/1; "
     ]
    },
    {
     "data": {
      "text/html": [
       "\n",
       "<style>\n",
       "    /* Turns off some styling */\n",
       "    progress {\n",
       "        /* gets rid of default border in Firefox and Opera. */\n",
       "        border: none;\n",
       "        /* Needs to be in here for Safari polyfill so background images work as expected. */\n",
       "        background-size: auto;\n",
       "    }\n",
       "    progress:not([value]), progress:not([value])::-webkit-progress-bar {\n",
       "        background: repeating-linear-gradient(45deg, #7e7e7e, #7e7e7e 10px, #5c5c5c 10px, #5c5c5c 20px);\n",
       "    }\n",
       "    .progress-bar-interrupted, .progress-bar-interrupted::-webkit-progress-bar {\n",
       "        background: #F44336;\n",
       "    }\n",
       "</style>\n"
      ],
      "text/plain": [
       "<IPython.core.display.HTML object>"
      ]
     },
     "metadata": {},
     "output_type": "display_data"
    },
    {
     "data": {
      "text/html": [],
      "text/plain": [
       "<IPython.core.display.HTML object>"
      ]
     },
     "metadata": {},
     "output_type": "display_data"
    },
    {
     "name": "stdout",
     "output_type": "stream",
     "text": [
      "Input file: bids/sub-z4043512/ses-20240112/extra_data/series-3_16_Pelvis_16_Pelvis_20240112112535_3_resliced.nii\n",
      "Marker Precision: 1.0\n",
      "Marker Recall: 1.0\n",
      "True markers: 3\n",
      "False positive markers: 0 (0 were known calcification)\n",
      "False negative markers: 0\n",
      "Loss: 0.06565225124359131\n",
      "Loading model: models/CT-20240322-200440-20-best.pth\n"
     ]
    },
    {
     "name": "stderr",
     "output_type": "stream",
     "text": [
      "Saved filed doesn't contain an optimizer state.\n"
     ]
    },
    {
     "name": "stdout",
     "output_type": "stream",
     "text": [
      "0/1; "
     ]
    },
    {
     "data": {
      "text/html": [
       "\n",
       "<style>\n",
       "    /* Turns off some styling */\n",
       "    progress {\n",
       "        /* gets rid of default border in Firefox and Opera. */\n",
       "        border: none;\n",
       "        /* Needs to be in here for Safari polyfill so background images work as expected. */\n",
       "        background-size: auto;\n",
       "    }\n",
       "    progress:not([value]), progress:not([value])::-webkit-progress-bar {\n",
       "        background: repeating-linear-gradient(45deg, #7e7e7e, #7e7e7e 10px, #5c5c5c 10px, #5c5c5c 20px);\n",
       "    }\n",
       "    .progress-bar-interrupted, .progress-bar-interrupted::-webkit-progress-bar {\n",
       "        background: #F44336;\n",
       "    }\n",
       "</style>\n"
      ],
      "text/plain": [
       "<IPython.core.display.HTML object>"
      ]
     },
     "metadata": {},
     "output_type": "display_data"
    },
    {
     "data": {
      "text/html": [],
      "text/plain": [
       "<IPython.core.display.HTML object>"
      ]
     },
     "metadata": {},
     "output_type": "display_data"
    },
    {
     "name": "stderr",
     "output_type": "stream",
     "text": [
      "Mean of empty slice\n"
     ]
    },
    {
     "name": "stdout",
     "output_type": "stream",
     "text": [
      "Input file: bids/sub-z0747844/ses-20240304/extra_data/series-5_16_Pelvis_16_Pelvis_20240304114712_5_resliced.nii\n",
      "Marker Precision: 1.0\n",
      "Marker Recall: 1.0\n",
      "True markers: 3\n",
      "False positive markers: 0 (0 were known calcification)\n",
      "False negative markers: 0\n",
      "Loss: 0.3608546555042267\n",
      "Loading model: models/CT-20240322-202141-21-best.pth\n"
     ]
    },
    {
     "name": "stderr",
     "output_type": "stream",
     "text": [
      "Saved filed doesn't contain an optimizer state.\n"
     ]
    },
    {
     "name": "stdout",
     "output_type": "stream",
     "text": [
      "0/1; "
     ]
    },
    {
     "data": {
      "text/html": [
       "\n",
       "<style>\n",
       "    /* Turns off some styling */\n",
       "    progress {\n",
       "        /* gets rid of default border in Firefox and Opera. */\n",
       "        border: none;\n",
       "        /* Needs to be in here for Safari polyfill so background images work as expected. */\n",
       "        background-size: auto;\n",
       "    }\n",
       "    progress:not([value]), progress:not([value])::-webkit-progress-bar {\n",
       "        background: repeating-linear-gradient(45deg, #7e7e7e, #7e7e7e 10px, #5c5c5c 10px, #5c5c5c 20px);\n",
       "    }\n",
       "    .progress-bar-interrupted, .progress-bar-interrupted::-webkit-progress-bar {\n",
       "        background: #F44336;\n",
       "    }\n",
       "</style>\n"
      ],
      "text/plain": [
       "<IPython.core.display.HTML object>"
      ]
     },
     "metadata": {},
     "output_type": "display_data"
    },
    {
     "data": {
      "text/html": [],
      "text/plain": [
       "<IPython.core.display.HTML object>"
      ]
     },
     "metadata": {},
     "output_type": "display_data"
    },
    {
     "name": "stderr",
     "output_type": "stream",
     "text": [
      "Mean of empty slice\n"
     ]
    },
    {
     "name": "stdout",
     "output_type": "stream",
     "text": [
      "Input file: bids/sub-z1421134/ses-20231205/extra_data/series-3_16_Pelvis_16_Pelvis_20231205112331_3_resliced.nii\n",
      "Marker Precision: 1.0\n",
      "Marker Recall: 1.0\n",
      "True markers: 3\n",
      "False positive markers: 0 (0 were known calcification)\n",
      "False negative markers: 0\n",
      "Loss: 0.36809733510017395\n",
      "Loading model: models/CT-20240322-202836-22-best.pth\n"
     ]
    },
    {
     "name": "stderr",
     "output_type": "stream",
     "text": [
      "Saved filed doesn't contain an optimizer state.\n"
     ]
    },
    {
     "name": "stdout",
     "output_type": "stream",
     "text": [
      "0/1; "
     ]
    },
    {
     "data": {
      "text/html": [
       "\n",
       "<style>\n",
       "    /* Turns off some styling */\n",
       "    progress {\n",
       "        /* gets rid of default border in Firefox and Opera. */\n",
       "        border: none;\n",
       "        /* Needs to be in here for Safari polyfill so background images work as expected. */\n",
       "        background-size: auto;\n",
       "    }\n",
       "    progress:not([value]), progress:not([value])::-webkit-progress-bar {\n",
       "        background: repeating-linear-gradient(45deg, #7e7e7e, #7e7e7e 10px, #5c5c5c 10px, #5c5c5c 20px);\n",
       "    }\n",
       "    .progress-bar-interrupted, .progress-bar-interrupted::-webkit-progress-bar {\n",
       "        background: #F44336;\n",
       "    }\n",
       "</style>\n"
      ],
      "text/plain": [
       "<IPython.core.display.HTML object>"
      ]
     },
     "metadata": {},
     "output_type": "display_data"
    },
    {
     "data": {
      "text/html": [],
      "text/plain": [
       "<IPython.core.display.HTML object>"
      ]
     },
     "metadata": {},
     "output_type": "display_data"
    },
    {
     "name": "stdout",
     "output_type": "stream",
     "text": [
      "Input file: bids/sub-z1638396/ses-20240311/extra_data/series-5_16_Pelvis_16_Pelvis_20240311133704_5_resliced.nii\n",
      "Marker Precision: 1.0\n",
      "Marker Recall: 1.0\n",
      "True markers: 3\n",
      "False positive markers: 0 (0 were known calcification)\n",
      "False negative markers: 0\n",
      "Loss: 0.09370456635951996\n",
      "Loading model: models/CT-20240322-203823-23-best.pth\n"
     ]
    },
    {
     "name": "stderr",
     "output_type": "stream",
     "text": [
      "Saved filed doesn't contain an optimizer state.\n"
     ]
    },
    {
     "name": "stdout",
     "output_type": "stream",
     "text": [
      "0/1; "
     ]
    },
    {
     "data": {
      "text/html": [
       "\n",
       "<style>\n",
       "    /* Turns off some styling */\n",
       "    progress {\n",
       "        /* gets rid of default border in Firefox and Opera. */\n",
       "        border: none;\n",
       "        /* Needs to be in here for Safari polyfill so background images work as expected. */\n",
       "        background-size: auto;\n",
       "    }\n",
       "    progress:not([value]), progress:not([value])::-webkit-progress-bar {\n",
       "        background: repeating-linear-gradient(45deg, #7e7e7e, #7e7e7e 10px, #5c5c5c 10px, #5c5c5c 20px);\n",
       "    }\n",
       "    .progress-bar-interrupted, .progress-bar-interrupted::-webkit-progress-bar {\n",
       "        background: #F44336;\n",
       "    }\n",
       "</style>\n"
      ],
      "text/plain": [
       "<IPython.core.display.HTML object>"
      ]
     },
     "metadata": {},
     "output_type": "display_data"
    },
    {
     "data": {
      "text/html": [],
      "text/plain": [
       "<IPython.core.display.HTML object>"
      ]
     },
     "metadata": {},
     "output_type": "display_data"
    },
    {
     "name": "stderr",
     "output_type": "stream",
     "text": [
      "Mean of empty slice\n"
     ]
    },
    {
     "name": "stdout",
     "output_type": "stream",
     "text": [
      "Input file: bids/sub-z2996397/ses-20231201/extra_data/series-5_16_Pelvis_16_Pelvis_20231201110056_5_resliced.nii\n",
      "Marker Precision: 1.0\n",
      "Marker Recall: 1.0\n",
      "True markers: 3\n",
      "False positive markers: 0 (0 were known calcification)\n",
      "False negative markers: 0\n",
      "Loss: 0.36261680722236633\n",
      "Loading model: models/CT-20240322-204912-24-best.pth\n"
     ]
    },
    {
     "name": "stderr",
     "output_type": "stream",
     "text": [
      "Saved filed doesn't contain an optimizer state.\n"
     ]
    },
    {
     "name": "stdout",
     "output_type": "stream",
     "text": [
      "0/1; "
     ]
    },
    {
     "data": {
      "text/html": [
       "\n",
       "<style>\n",
       "    /* Turns off some styling */\n",
       "    progress {\n",
       "        /* gets rid of default border in Firefox and Opera. */\n",
       "        border: none;\n",
       "        /* Needs to be in here for Safari polyfill so background images work as expected. */\n",
       "        background-size: auto;\n",
       "    }\n",
       "    progress:not([value]), progress:not([value])::-webkit-progress-bar {\n",
       "        background: repeating-linear-gradient(45deg, #7e7e7e, #7e7e7e 10px, #5c5c5c 10px, #5c5c5c 20px);\n",
       "    }\n",
       "    .progress-bar-interrupted, .progress-bar-interrupted::-webkit-progress-bar {\n",
       "        background: #F44336;\n",
       "    }\n",
       "</style>\n"
      ],
      "text/plain": [
       "<IPython.core.display.HTML object>"
      ]
     },
     "metadata": {},
     "output_type": "display_data"
    },
    {
     "data": {
      "text/html": [],
      "text/plain": [
       "<IPython.core.display.HTML object>"
      ]
     },
     "metadata": {},
     "output_type": "display_data"
    },
    {
     "name": "stdout",
     "output_type": "stream",
     "text": [
      "Input file: bids/sub-z0742379/ses-20240124/extra_data/series-6_16_Pelvis_16_Pelvis_20240124093902_6_resliced.nii\n",
      "Marker Precision: 1.0\n",
      "Marker Recall: 1.0\n",
      "True markers: 3\n",
      "False positive markers: 0 (0 were known calcification)\n",
      "False negative markers: 0\n",
      "Loss: 0.1646345555782318\n",
      "=== QSM ===\n",
      "infile_cols: ['qsm_files']; n_input_channels: 1\n",
      "Loading model: models/QSM-20240404-193410-0-best.pth\n"
     ]
    },
    {
     "name": "stderr",
     "output_type": "stream",
     "text": [
      "Saved filed doesn't contain an optimizer state.\n"
     ]
    },
    {
     "name": "stdout",
     "output_type": "stream",
     "text": [
      "0/1; "
     ]
    },
    {
     "data": {
      "text/html": [
       "\n",
       "<style>\n",
       "    /* Turns off some styling */\n",
       "    progress {\n",
       "        /* gets rid of default border in Firefox and Opera. */\n",
       "        border: none;\n",
       "        /* Needs to be in here for Safari polyfill so background images work as expected. */\n",
       "        background-size: auto;\n",
       "    }\n",
       "    progress:not([value]), progress:not([value])::-webkit-progress-bar {\n",
       "        background: repeating-linear-gradient(45deg, #7e7e7e, #7e7e7e 10px, #5c5c5c 10px, #5c5c5c 20px);\n",
       "    }\n",
       "    .progress-bar-interrupted, .progress-bar-interrupted::-webkit-progress-bar {\n",
       "        background: #F44336;\n",
       "    }\n",
       "</style>\n"
      ],
      "text/plain": [
       "<IPython.core.display.HTML object>"
      ]
     },
     "metadata": {},
     "output_type": "display_data"
    },
    {
     "data": {
      "text/html": [],
      "text/plain": [
       "<IPython.core.display.HTML object>"
      ]
     },
     "metadata": {},
     "output_type": "display_data"
    },
    {
     "name": "stdout",
     "output_type": "stream",
     "text": [
      "Input file: out/qsm/sub-z1318033_ses-20230825_acq-wipiswifl3dvibetrythisone_run-01_echo-01_part-phase_MEGRE_scaled_tgvqsmjl_twopass_average_ref.nii\n",
      "Marker Precision: 1.0\n",
      "Marker Recall: 1.0\n",
      "True markers: 3\n",
      "False positive markers: 0 (0 were known calcification)\n",
      "False negative markers: 0\n",
      "Loss: 0.42805054783821106\n",
      "Loading model: models/QSM-20240404-194613-1-best.pth\n"
     ]
    },
    {
     "name": "stderr",
     "output_type": "stream",
     "text": [
      "Saved filed doesn't contain an optimizer state.\n"
     ]
    },
    {
     "name": "stdout",
     "output_type": "stream",
     "text": [
      "0/1; "
     ]
    },
    {
     "data": {
      "text/html": [
       "\n",
       "<style>\n",
       "    /* Turns off some styling */\n",
       "    progress {\n",
       "        /* gets rid of default border in Firefox and Opera. */\n",
       "        border: none;\n",
       "        /* Needs to be in here for Safari polyfill so background images work as expected. */\n",
       "        background-size: auto;\n",
       "    }\n",
       "    progress:not([value]), progress:not([value])::-webkit-progress-bar {\n",
       "        background: repeating-linear-gradient(45deg, #7e7e7e, #7e7e7e 10px, #5c5c5c 10px, #5c5c5c 20px);\n",
       "    }\n",
       "    .progress-bar-interrupted, .progress-bar-interrupted::-webkit-progress-bar {\n",
       "        background: #F44336;\n",
       "    }\n",
       "</style>\n"
      ],
      "text/plain": [
       "<IPython.core.display.HTML object>"
      ]
     },
     "metadata": {},
     "output_type": "display_data"
    },
    {
     "data": {
      "text/html": [],
      "text/plain": [
       "<IPython.core.display.HTML object>"
      ]
     },
     "metadata": {},
     "output_type": "display_data"
    },
    {
     "name": "stderr",
     "output_type": "stream",
     "text": [
      "Mean of empty slice\n"
     ]
    },
    {
     "name": "stdout",
     "output_type": "stream",
     "text": [
      "Input file: out/qsm/sub-z1691325_ses-20240227_acq-wipiswifl3dvibetrythisone_run-01_echo-01_part-phase_MEGRE_scaled_tgvqsmjl_twopass_average_ref.nii\n",
      "Marker Precision: 1.0\n",
      "Marker Recall: 0.6666666666666666\n",
      "True markers: 2\n",
      "False positive markers: 0 (0 were known calcification)\n",
      "False negative markers: 1\n",
      "Loss: 0.4440873861312866\n",
      "Loading model: models/QSM-20240404-200251-2-best.pth\n"
     ]
    },
    {
     "name": "stderr",
     "output_type": "stream",
     "text": [
      "Saved filed doesn't contain an optimizer state.\n"
     ]
    },
    {
     "name": "stdout",
     "output_type": "stream",
     "text": [
      "0/1; "
     ]
    },
    {
     "data": {
      "text/html": [
       "\n",
       "<style>\n",
       "    /* Turns off some styling */\n",
       "    progress {\n",
       "        /* gets rid of default border in Firefox and Opera. */\n",
       "        border: none;\n",
       "        /* Needs to be in here for Safari polyfill so background images work as expected. */\n",
       "        background-size: auto;\n",
       "    }\n",
       "    progress:not([value]), progress:not([value])::-webkit-progress-bar {\n",
       "        background: repeating-linear-gradient(45deg, #7e7e7e, #7e7e7e 10px, #5c5c5c 10px, #5c5c5c 20px);\n",
       "    }\n",
       "    .progress-bar-interrupted, .progress-bar-interrupted::-webkit-progress-bar {\n",
       "        background: #F44336;\n",
       "    }\n",
       "</style>\n"
      ],
      "text/plain": [
       "<IPython.core.display.HTML object>"
      ]
     },
     "metadata": {},
     "output_type": "display_data"
    },
    {
     "data": {
      "text/html": [],
      "text/plain": [
       "<IPython.core.display.HTML object>"
      ]
     },
     "metadata": {},
     "output_type": "display_data"
    },
    {
     "name": "stdout",
     "output_type": "stream",
     "text": [
      "Input file: out/qsm/sub-z0002292_ses-20240318_acq-wipiswifl3dvibetrythisone_run-01_echo-01_part-phase_MEGRE_scaled_tgvqsmjl_twopass_average_ref.nii\n",
      "Marker Precision: 1.0\n",
      "Marker Recall: 1.0\n",
      "True markers: 3\n",
      "False positive markers: 0 (0 were known calcification)\n",
      "False negative markers: 0\n",
      "Loss: 0.24963511526584625\n",
      "Loading model: models/QSM-20240404-200938-3-best.pth\n"
     ]
    },
    {
     "name": "stderr",
     "output_type": "stream",
     "text": [
      "Saved filed doesn't contain an optimizer state.\n"
     ]
    },
    {
     "name": "stdout",
     "output_type": "stream",
     "text": [
      "0/1; "
     ]
    },
    {
     "data": {
      "text/html": [
       "\n",
       "<style>\n",
       "    /* Turns off some styling */\n",
       "    progress {\n",
       "        /* gets rid of default border in Firefox and Opera. */\n",
       "        border: none;\n",
       "        /* Needs to be in here for Safari polyfill so background images work as expected. */\n",
       "        background-size: auto;\n",
       "    }\n",
       "    progress:not([value]), progress:not([value])::-webkit-progress-bar {\n",
       "        background: repeating-linear-gradient(45deg, #7e7e7e, #7e7e7e 10px, #5c5c5c 10px, #5c5c5c 20px);\n",
       "    }\n",
       "    .progress-bar-interrupted, .progress-bar-interrupted::-webkit-progress-bar {\n",
       "        background: #F44336;\n",
       "    }\n",
       "</style>\n"
      ],
      "text/plain": [
       "<IPython.core.display.HTML object>"
      ]
     },
     "metadata": {},
     "output_type": "display_data"
    },
    {
     "data": {
      "text/html": [],
      "text/plain": [
       "<IPython.core.display.HTML object>"
      ]
     },
     "metadata": {},
     "output_type": "display_data"
    },
    {
     "name": "stdout",
     "output_type": "stream",
     "text": [
      "Input file: out/qsm/sub-z3268423_ses-20240109_acq-wipiswifl3dvibetrythisone_run-01_echo-01_part-phase_MEGRE_scaled_tgvqsmjl_twopass_average_ref.nii\n",
      "Marker Precision: 1.0\n",
      "Marker Recall: 1.0\n",
      "True markers: 3\n",
      "False positive markers: 0 (0 were known calcification)\n",
      "False negative markers: 0\n",
      "Loss: 0.2598250210285187\n",
      "Loading model: models/QSM-20240404-203013-4-best.pth\n"
     ]
    },
    {
     "name": "stderr",
     "output_type": "stream",
     "text": [
      "Saved filed doesn't contain an optimizer state.\n"
     ]
    },
    {
     "name": "stdout",
     "output_type": "stream",
     "text": [
      "0/1; "
     ]
    },
    {
     "data": {
      "text/html": [
       "\n",
       "<style>\n",
       "    /* Turns off some styling */\n",
       "    progress {\n",
       "        /* gets rid of default border in Firefox and Opera. */\n",
       "        border: none;\n",
       "        /* Needs to be in here for Safari polyfill so background images work as expected. */\n",
       "        background-size: auto;\n",
       "    }\n",
       "    progress:not([value]), progress:not([value])::-webkit-progress-bar {\n",
       "        background: repeating-linear-gradient(45deg, #7e7e7e, #7e7e7e 10px, #5c5c5c 10px, #5c5c5c 20px);\n",
       "    }\n",
       "    .progress-bar-interrupted, .progress-bar-interrupted::-webkit-progress-bar {\n",
       "        background: #F44336;\n",
       "    }\n",
       "</style>\n"
      ],
      "text/plain": [
       "<IPython.core.display.HTML object>"
      ]
     },
     "metadata": {},
     "output_type": "display_data"
    },
    {
     "data": {
      "text/html": [],
      "text/plain": [
       "<IPython.core.display.HTML object>"
      ]
     },
     "metadata": {},
     "output_type": "display_data"
    },
    {
     "name": "stdout",
     "output_type": "stream",
     "text": [
      "Input file: out/qsm/sub-z1448271_ses-20231110_acq-wipiswifl3dvibetrythisone_run-01_echo-01_part-phase_MEGRE_scaled_tgvqsmjl_twopass_average_ref.nii\n",
      "Marker Precision: 0.6666666666666666\n",
      "Marker Recall: 0.6666666666666666\n",
      "True markers: 2\n",
      "False positive markers: 1 (1 were known calcification)\n",
      "False negative markers: 1\n",
      "Loss: 0.49917352199554443\n",
      "Loading model: models/QSM-20240404-205511-5-best.pth\n"
     ]
    },
    {
     "name": "stderr",
     "output_type": "stream",
     "text": [
      "Saved filed doesn't contain an optimizer state.\n"
     ]
    },
    {
     "name": "stdout",
     "output_type": "stream",
     "text": [
      "0/1; "
     ]
    },
    {
     "data": {
      "text/html": [
       "\n",
       "<style>\n",
       "    /* Turns off some styling */\n",
       "    progress {\n",
       "        /* gets rid of default border in Firefox and Opera. */\n",
       "        border: none;\n",
       "        /* Needs to be in here for Safari polyfill so background images work as expected. */\n",
       "        background-size: auto;\n",
       "    }\n",
       "    progress:not([value]), progress:not([value])::-webkit-progress-bar {\n",
       "        background: repeating-linear-gradient(45deg, #7e7e7e, #7e7e7e 10px, #5c5c5c 10px, #5c5c5c 20px);\n",
       "    }\n",
       "    .progress-bar-interrupted, .progress-bar-interrupted::-webkit-progress-bar {\n",
       "        background: #F44336;\n",
       "    }\n",
       "</style>\n"
      ],
      "text/plain": [
       "<IPython.core.display.HTML object>"
      ]
     },
     "metadata": {},
     "output_type": "display_data"
    },
    {
     "data": {
      "text/html": [],
      "text/plain": [
       "<IPython.core.display.HTML object>"
      ]
     },
     "metadata": {},
     "output_type": "display_data"
    },
    {
     "name": "stderr",
     "output_type": "stream",
     "text": [
      "Mean of empty slice\n"
     ]
    },
    {
     "name": "stdout",
     "output_type": "stream",
     "text": [
      "Input file: out/qsm/sub-z1384048_ses-20231108_acq-wipiswifl3dvibetrythisone_run-01_echo-01_part-phase_MEGRE_scaled_tgvqsmjl_twopass_average_ref.nii\n",
      "Marker Precision: 1.0\n",
      "Marker Recall: 1.0\n",
      "True markers: 3\n",
      "False positive markers: 0 (0 were known calcification)\n",
      "False negative markers: 0\n",
      "Loss: 0.3669090270996094\n",
      "Loading model: models/QSM-20240404-210427-6-best.pth\n"
     ]
    },
    {
     "name": "stderr",
     "output_type": "stream",
     "text": [
      "Saved filed doesn't contain an optimizer state.\n"
     ]
    },
    {
     "name": "stdout",
     "output_type": "stream",
     "text": [
      "0/1; "
     ]
    },
    {
     "data": {
      "text/html": [
       "\n",
       "<style>\n",
       "    /* Turns off some styling */\n",
       "    progress {\n",
       "        /* gets rid of default border in Firefox and Opera. */\n",
       "        border: none;\n",
       "        /* Needs to be in here for Safari polyfill so background images work as expected. */\n",
       "        background-size: auto;\n",
       "    }\n",
       "    progress:not([value]), progress:not([value])::-webkit-progress-bar {\n",
       "        background: repeating-linear-gradient(45deg, #7e7e7e, #7e7e7e 10px, #5c5c5c 10px, #5c5c5c 20px);\n",
       "    }\n",
       "    .progress-bar-interrupted, .progress-bar-interrupted::-webkit-progress-bar {\n",
       "        background: #F44336;\n",
       "    }\n",
       "</style>\n"
      ],
      "text/plain": [
       "<IPython.core.display.HTML object>"
      ]
     },
     "metadata": {},
     "output_type": "display_data"
    },
    {
     "data": {
      "text/html": [],
      "text/plain": [
       "<IPython.core.display.HTML object>"
      ]
     },
     "metadata": {},
     "output_type": "display_data"
    },
    {
     "name": "stderr",
     "output_type": "stream",
     "text": [
      "Mean of empty slice\n"
     ]
    },
    {
     "name": "stdout",
     "output_type": "stream",
     "text": [
      "Input file: out/qsm/sub-z1635498_ses-20240305_acq-wipiswifl3dvibetrythisone_run-01_echo-01_part-phase_MEGRE_scaled_tgvqsmjl_twopass_average_ref.nii\n",
      "Marker Precision: 1.0\n",
      "Marker Recall: 1.0\n",
      "True markers: 3\n",
      "False positive markers: 0 (0 were known calcification)\n",
      "False negative markers: 0\n",
      "Loss: 0.38169366121292114\n",
      "Loading model: models/QSM-20240404-210934-7-best.pth\n"
     ]
    },
    {
     "name": "stderr",
     "output_type": "stream",
     "text": [
      "Saved filed doesn't contain an optimizer state.\n"
     ]
    },
    {
     "name": "stdout",
     "output_type": "stream",
     "text": [
      "0/1; "
     ]
    },
    {
     "data": {
      "text/html": [
       "\n",
       "<style>\n",
       "    /* Turns off some styling */\n",
       "    progress {\n",
       "        /* gets rid of default border in Firefox and Opera. */\n",
       "        border: none;\n",
       "        /* Needs to be in here for Safari polyfill so background images work as expected. */\n",
       "        background-size: auto;\n",
       "    }\n",
       "    progress:not([value]), progress:not([value])::-webkit-progress-bar {\n",
       "        background: repeating-linear-gradient(45deg, #7e7e7e, #7e7e7e 10px, #5c5c5c 10px, #5c5c5c 20px);\n",
       "    }\n",
       "    .progress-bar-interrupted, .progress-bar-interrupted::-webkit-progress-bar {\n",
       "        background: #F44336;\n",
       "    }\n",
       "</style>\n"
      ],
      "text/plain": [
       "<IPython.core.display.HTML object>"
      ]
     },
     "metadata": {},
     "output_type": "display_data"
    },
    {
     "data": {
      "text/html": [],
      "text/plain": [
       "<IPython.core.display.HTML object>"
      ]
     },
     "metadata": {},
     "output_type": "display_data"
    },
    {
     "name": "stderr",
     "output_type": "stream",
     "text": [
      "Mean of empty slice\n"
     ]
    },
    {
     "name": "stdout",
     "output_type": "stream",
     "text": [
      "Input file: out/qsm/sub-z0163277_ses-20240123_acq-wipiswifl3dvibetrythisone_run-01_echo-01_part-phase_MEGRE_scaled_tgvqsmjl_twopass_average_ref.nii\n",
      "Marker Precision: 1.0\n",
      "Marker Recall: 1.0\n",
      "True markers: 3\n",
      "False positive markers: 0 (0 were known calcification)\n",
      "False negative markers: 0\n",
      "Loss: 0.38959240913391113\n",
      "Loading model: models/QSM-20240404-212652-8-best.pth\n"
     ]
    },
    {
     "name": "stderr",
     "output_type": "stream",
     "text": [
      "Saved filed doesn't contain an optimizer state.\n"
     ]
    },
    {
     "name": "stdout",
     "output_type": "stream",
     "text": [
      "0/1; "
     ]
    },
    {
     "data": {
      "text/html": [
       "\n",
       "<style>\n",
       "    /* Turns off some styling */\n",
       "    progress {\n",
       "        /* gets rid of default border in Firefox and Opera. */\n",
       "        border: none;\n",
       "        /* Needs to be in here for Safari polyfill so background images work as expected. */\n",
       "        background-size: auto;\n",
       "    }\n",
       "    progress:not([value]), progress:not([value])::-webkit-progress-bar {\n",
       "        background: repeating-linear-gradient(45deg, #7e7e7e, #7e7e7e 10px, #5c5c5c 10px, #5c5c5c 20px);\n",
       "    }\n",
       "    .progress-bar-interrupted, .progress-bar-interrupted::-webkit-progress-bar {\n",
       "        background: #F44336;\n",
       "    }\n",
       "</style>\n"
      ],
      "text/plain": [
       "<IPython.core.display.HTML object>"
      ]
     },
     "metadata": {},
     "output_type": "display_data"
    },
    {
     "data": {
      "text/html": [],
      "text/plain": [
       "<IPython.core.display.HTML object>"
      ]
     },
     "metadata": {},
     "output_type": "display_data"
    },
    {
     "name": "stderr",
     "output_type": "stream",
     "text": [
      "Mean of empty slice\n"
     ]
    },
    {
     "name": "stdout",
     "output_type": "stream",
     "text": [
      "Input file: out/qsm/sub-z3220308_ses-20231009_acq-wipiswifl3dvibetrythisone_run-01_echo-01_part-phase_MEGRE_scaled_tgvqsmjl_twopass_average_ref.nii\n",
      "Marker Precision: 1.0\n",
      "Marker Recall: 1.0\n",
      "True markers: 3\n",
      "False positive markers: 0 (0 were known calcification)\n",
      "False negative markers: 0\n",
      "Loss: 0.42578285932540894\n",
      "Loading model: models/QSM-20240404-213045-9-best.pth\n"
     ]
    },
    {
     "name": "stderr",
     "output_type": "stream",
     "text": [
      "Saved filed doesn't contain an optimizer state.\n"
     ]
    },
    {
     "name": "stdout",
     "output_type": "stream",
     "text": [
      "0/1; "
     ]
    },
    {
     "data": {
      "text/html": [
       "\n",
       "<style>\n",
       "    /* Turns off some styling */\n",
       "    progress {\n",
       "        /* gets rid of default border in Firefox and Opera. */\n",
       "        border: none;\n",
       "        /* Needs to be in here for Safari polyfill so background images work as expected. */\n",
       "        background-size: auto;\n",
       "    }\n",
       "    progress:not([value]), progress:not([value])::-webkit-progress-bar {\n",
       "        background: repeating-linear-gradient(45deg, #7e7e7e, #7e7e7e 10px, #5c5c5c 10px, #5c5c5c 20px);\n",
       "    }\n",
       "    .progress-bar-interrupted, .progress-bar-interrupted::-webkit-progress-bar {\n",
       "        background: #F44336;\n",
       "    }\n",
       "</style>\n"
      ],
      "text/plain": [
       "<IPython.core.display.HTML object>"
      ]
     },
     "metadata": {},
     "output_type": "display_data"
    },
    {
     "data": {
      "text/html": [],
      "text/plain": [
       "<IPython.core.display.HTML object>"
      ]
     },
     "metadata": {},
     "output_type": "display_data"
    },
    {
     "name": "stdout",
     "output_type": "stream",
     "text": [
      "Input file: out/qsm/sub-z0381949_ses-20231005_acq-wipiswifl3dvibetrythisone_run-01_echo-01_part-phase_MEGRE_scaled_tgvqsmjl_twopass_average_ref.nii\n",
      "Marker Precision: 1.0\n",
      "Marker Recall: 1.0\n",
      "True markers: 3\n",
      "False positive markers: 0 (0 were known calcification)\n",
      "False negative markers: 0\n",
      "Loss: 0.4157220125198364\n",
      "Loading model: models/QSM-20240404-213957-10-best.pth\n"
     ]
    },
    {
     "name": "stderr",
     "output_type": "stream",
     "text": [
      "Saved filed doesn't contain an optimizer state.\n"
     ]
    },
    {
     "name": "stdout",
     "output_type": "stream",
     "text": [
      "0/1; "
     ]
    },
    {
     "data": {
      "text/html": [
       "\n",
       "<style>\n",
       "    /* Turns off some styling */\n",
       "    progress {\n",
       "        /* gets rid of default border in Firefox and Opera. */\n",
       "        border: none;\n",
       "        /* Needs to be in here for Safari polyfill so background images work as expected. */\n",
       "        background-size: auto;\n",
       "    }\n",
       "    progress:not([value]), progress:not([value])::-webkit-progress-bar {\n",
       "        background: repeating-linear-gradient(45deg, #7e7e7e, #7e7e7e 10px, #5c5c5c 10px, #5c5c5c 20px);\n",
       "    }\n",
       "    .progress-bar-interrupted, .progress-bar-interrupted::-webkit-progress-bar {\n",
       "        background: #F44336;\n",
       "    }\n",
       "</style>\n"
      ],
      "text/plain": [
       "<IPython.core.display.HTML object>"
      ]
     },
     "metadata": {},
     "output_type": "display_data"
    },
    {
     "data": {
      "text/html": [],
      "text/plain": [
       "<IPython.core.display.HTML object>"
      ]
     },
     "metadata": {},
     "output_type": "display_data"
    },
    {
     "name": "stderr",
     "output_type": "stream",
     "text": [
      "Mean of empty slice\n"
     ]
    },
    {
     "name": "stdout",
     "output_type": "stream",
     "text": [
      "Input file: out/qsm/sub-z0206923_ses-20231003_acq-wipiswifl3dvibetrythisone_run-01_echo-01_part-phase_MEGRE_scaled_tgvqsmjl_twopass_average_ref.nii\n",
      "Marker Precision: 1.0\n",
      "Marker Recall: 1.0\n",
      "True markers: 3\n",
      "False positive markers: 0 (0 were known calcification)\n",
      "False negative markers: 0\n",
      "Loss: 0.393423855304718\n",
      "Loading model: models/QSM-20240404-215412-11-best.pth\n"
     ]
    },
    {
     "name": "stderr",
     "output_type": "stream",
     "text": [
      "Saved filed doesn't contain an optimizer state.\n"
     ]
    },
    {
     "name": "stdout",
     "output_type": "stream",
     "text": [
      "0/1; "
     ]
    },
    {
     "data": {
      "text/html": [
       "\n",
       "<style>\n",
       "    /* Turns off some styling */\n",
       "    progress {\n",
       "        /* gets rid of default border in Firefox and Opera. */\n",
       "        border: none;\n",
       "        /* Needs to be in here for Safari polyfill so background images work as expected. */\n",
       "        background-size: auto;\n",
       "    }\n",
       "    progress:not([value]), progress:not([value])::-webkit-progress-bar {\n",
       "        background: repeating-linear-gradient(45deg, #7e7e7e, #7e7e7e 10px, #5c5c5c 10px, #5c5c5c 20px);\n",
       "    }\n",
       "    .progress-bar-interrupted, .progress-bar-interrupted::-webkit-progress-bar {\n",
       "        background: #F44336;\n",
       "    }\n",
       "</style>\n"
      ],
      "text/plain": [
       "<IPython.core.display.HTML object>"
      ]
     },
     "metadata": {},
     "output_type": "display_data"
    },
    {
     "data": {
      "text/html": [],
      "text/plain": [
       "<IPython.core.display.HTML object>"
      ]
     },
     "metadata": {},
     "output_type": "display_data"
    },
    {
     "name": "stdout",
     "output_type": "stream",
     "text": [
      "Input file: out/qsm/sub-z1484547_ses-20240102_acq-wipiswifl3dvibetrythisone_run-01_echo-01_part-phase_MEGRE_scaled_tgvqsmjl_twopass_average_ref.nii\n",
      "Marker Precision: 0.6666666666666666\n",
      "Marker Recall: 0.6666666666666666\n",
      "True markers: 2\n",
      "False positive markers: 1 (1 were known calcification)\n",
      "False negative markers: 1\n",
      "Loss: 0.44913601875305176\n",
      "Loading model: models/QSM-20240404-220858-12-best.pth\n"
     ]
    },
    {
     "name": "stderr",
     "output_type": "stream",
     "text": [
      "Saved filed doesn't contain an optimizer state.\n"
     ]
    },
    {
     "name": "stdout",
     "output_type": "stream",
     "text": [
      "0/1; "
     ]
    },
    {
     "data": {
      "text/html": [
       "\n",
       "<style>\n",
       "    /* Turns off some styling */\n",
       "    progress {\n",
       "        /* gets rid of default border in Firefox and Opera. */\n",
       "        border: none;\n",
       "        /* Needs to be in here for Safari polyfill so background images work as expected. */\n",
       "        background-size: auto;\n",
       "    }\n",
       "    progress:not([value]), progress:not([value])::-webkit-progress-bar {\n",
       "        background: repeating-linear-gradient(45deg, #7e7e7e, #7e7e7e 10px, #5c5c5c 10px, #5c5c5c 20px);\n",
       "    }\n",
       "    .progress-bar-interrupted, .progress-bar-interrupted::-webkit-progress-bar {\n",
       "        background: #F44336;\n",
       "    }\n",
       "</style>\n"
      ],
      "text/plain": [
       "<IPython.core.display.HTML object>"
      ]
     },
     "metadata": {},
     "output_type": "display_data"
    },
    {
     "data": {
      "text/html": [],
      "text/plain": [
       "<IPython.core.display.HTML object>"
      ]
     },
     "metadata": {},
     "output_type": "display_data"
    },
    {
     "name": "stderr",
     "output_type": "stream",
     "text": [
      "Mean of empty slice\n"
     ]
    },
    {
     "name": "stdout",
     "output_type": "stream",
     "text": [
      "Input file: out/qsm/sub-z1645782_ses-20231010_acq-wipiswifl3dvibetrythisone_run-01_echo-01_part-phase_MEGRE_scaled_tgvqsmjl_twopass_average_ref.nii\n",
      "Marker Precision: 1.0\n",
      "Marker Recall: 1.0\n",
      "True markers: 2\n",
      "False positive markers: 0 (0 were known calcification)\n",
      "False negative markers: 0\n",
      "Loss: 0.397781103849411\n",
      "Loading model: models/QSM-20240404-222050-13-best.pth\n"
     ]
    },
    {
     "name": "stderr",
     "output_type": "stream",
     "text": [
      "Saved filed doesn't contain an optimizer state.\n"
     ]
    },
    {
     "name": "stdout",
     "output_type": "stream",
     "text": [
      "0/1; "
     ]
    },
    {
     "data": {
      "text/html": [
       "\n",
       "<style>\n",
       "    /* Turns off some styling */\n",
       "    progress {\n",
       "        /* gets rid of default border in Firefox and Opera. */\n",
       "        border: none;\n",
       "        /* Needs to be in here for Safari polyfill so background images work as expected. */\n",
       "        background-size: auto;\n",
       "    }\n",
       "    progress:not([value]), progress:not([value])::-webkit-progress-bar {\n",
       "        background: repeating-linear-gradient(45deg, #7e7e7e, #7e7e7e 10px, #5c5c5c 10px, #5c5c5c 20px);\n",
       "    }\n",
       "    .progress-bar-interrupted, .progress-bar-interrupted::-webkit-progress-bar {\n",
       "        background: #F44336;\n",
       "    }\n",
       "</style>\n"
      ],
      "text/plain": [
       "<IPython.core.display.HTML object>"
      ]
     },
     "metadata": {},
     "output_type": "display_data"
    },
    {
     "data": {
      "text/html": [],
      "text/plain": [
       "<IPython.core.display.HTML object>"
      ]
     },
     "metadata": {},
     "output_type": "display_data"
    },
    {
     "name": "stdout",
     "output_type": "stream",
     "text": [
      "Input file: out/qsm/sub-z0232771_ses-20240228_acq-wipiswifl3dvibetrythisone_run-01_echo-01_part-phase_MEGRE_scaled_tgvqsmjl_twopass_average_ref.nii\n",
      "Marker Precision: 1.0\n",
      "Marker Recall: 1.0\n",
      "True markers: 3\n",
      "False positive markers: 0 (0 were known calcification)\n",
      "False negative markers: 0\n",
      "Loss: 0.3980151116847992\n",
      "Loading model: models/QSM-20240404-222514-14-best.pth\n"
     ]
    },
    {
     "name": "stderr",
     "output_type": "stream",
     "text": [
      "Saved filed doesn't contain an optimizer state.\n"
     ]
    },
    {
     "name": "stdout",
     "output_type": "stream",
     "text": [
      "0/1; "
     ]
    },
    {
     "data": {
      "text/html": [
       "\n",
       "<style>\n",
       "    /* Turns off some styling */\n",
       "    progress {\n",
       "        /* gets rid of default border in Firefox and Opera. */\n",
       "        border: none;\n",
       "        /* Needs to be in here for Safari polyfill so background images work as expected. */\n",
       "        background-size: auto;\n",
       "    }\n",
       "    progress:not([value]), progress:not([value])::-webkit-progress-bar {\n",
       "        background: repeating-linear-gradient(45deg, #7e7e7e, #7e7e7e 10px, #5c5c5c 10px, #5c5c5c 20px);\n",
       "    }\n",
       "    .progress-bar-interrupted, .progress-bar-interrupted::-webkit-progress-bar {\n",
       "        background: #F44336;\n",
       "    }\n",
       "</style>\n"
      ],
      "text/plain": [
       "<IPython.core.display.HTML object>"
      ]
     },
     "metadata": {},
     "output_type": "display_data"
    },
    {
     "data": {
      "text/html": [],
      "text/plain": [
       "<IPython.core.display.HTML object>"
      ]
     },
     "metadata": {},
     "output_type": "display_data"
    },
    {
     "name": "stderr",
     "output_type": "stream",
     "text": [
      "Mean of empty slice\n"
     ]
    },
    {
     "name": "stdout",
     "output_type": "stream",
     "text": [
      "Input file: out/qsm/sub-z0347933_ses-20240129_acq-wipiswifl3dvibetrythisone_run-01_echo-01_part-phase_MEGRE_scaled_tgvqsmjl_twopass_average_ref.nii\n",
      "Marker Precision: 0.6666666666666666\n",
      "Marker Recall: 0.6666666666666666\n",
      "True markers: 2\n",
      "False positive markers: 1 (0 were known calcification)\n",
      "False negative markers: 1\n",
      "Loss: 0.5474079847335815\n",
      "Loading model: models/QSM-20240404-223854-15-best.pth\n"
     ]
    },
    {
     "name": "stderr",
     "output_type": "stream",
     "text": [
      "Saved filed doesn't contain an optimizer state.\n"
     ]
    },
    {
     "name": "stdout",
     "output_type": "stream",
     "text": [
      "0/1; "
     ]
    },
    {
     "data": {
      "text/html": [
       "\n",
       "<style>\n",
       "    /* Turns off some styling */\n",
       "    progress {\n",
       "        /* gets rid of default border in Firefox and Opera. */\n",
       "        border: none;\n",
       "        /* Needs to be in here for Safari polyfill so background images work as expected. */\n",
       "        background-size: auto;\n",
       "    }\n",
       "    progress:not([value]), progress:not([value])::-webkit-progress-bar {\n",
       "        background: repeating-linear-gradient(45deg, #7e7e7e, #7e7e7e 10px, #5c5c5c 10px, #5c5c5c 20px);\n",
       "    }\n",
       "    .progress-bar-interrupted, .progress-bar-interrupted::-webkit-progress-bar {\n",
       "        background: #F44336;\n",
       "    }\n",
       "</style>\n"
      ],
      "text/plain": [
       "<IPython.core.display.HTML object>"
      ]
     },
     "metadata": {},
     "output_type": "display_data"
    },
    {
     "data": {
      "text/html": [],
      "text/plain": [
       "<IPython.core.display.HTML object>"
      ]
     },
     "metadata": {},
     "output_type": "display_data"
    },
    {
     "name": "stdout",
     "output_type": "stream",
     "text": [
      "Input file: out/qsm/sub-z3145629_ses-20231204_acq-wipiswifl3dvibetrythisone_run-01_echo-01_part-phase_MEGRE_scaled_tgvqsmjl_twopass_average_ref.nii\n",
      "Marker Precision: 1.0\n",
      "Marker Recall: 0.6666666666666666\n",
      "True markers: 2\n",
      "False positive markers: 0 (0 were known calcification)\n",
      "False negative markers: 1\n",
      "Loss: 0.4346502423286438\n",
      "Loading model: models/QSM-20240404-230110-16-best.pth\n"
     ]
    },
    {
     "name": "stderr",
     "output_type": "stream",
     "text": [
      "Saved filed doesn't contain an optimizer state.\n"
     ]
    },
    {
     "name": "stdout",
     "output_type": "stream",
     "text": [
      "0/1; "
     ]
    },
    {
     "data": {
      "text/html": [
       "\n",
       "<style>\n",
       "    /* Turns off some styling */\n",
       "    progress {\n",
       "        /* gets rid of default border in Firefox and Opera. */\n",
       "        border: none;\n",
       "        /* Needs to be in here for Safari polyfill so background images work as expected. */\n",
       "        background-size: auto;\n",
       "    }\n",
       "    progress:not([value]), progress:not([value])::-webkit-progress-bar {\n",
       "        background: repeating-linear-gradient(45deg, #7e7e7e, #7e7e7e 10px, #5c5c5c 10px, #5c5c5c 20px);\n",
       "    }\n",
       "    .progress-bar-interrupted, .progress-bar-interrupted::-webkit-progress-bar {\n",
       "        background: #F44336;\n",
       "    }\n",
       "</style>\n"
      ],
      "text/plain": [
       "<IPython.core.display.HTML object>"
      ]
     },
     "metadata": {},
     "output_type": "display_data"
    },
    {
     "data": {
      "text/html": [],
      "text/plain": [
       "<IPython.core.display.HTML object>"
      ]
     },
     "metadata": {},
     "output_type": "display_data"
    },
    {
     "name": "stderr",
     "output_type": "stream",
     "text": [
      "Mean of empty slice\n"
     ]
    },
    {
     "name": "stdout",
     "output_type": "stream",
     "text": [
      "Input file: out/qsm/sub-z2105112_ses-20231220_acq-wipiswifl3dvibetrythisone_run-01_echo-01_part-phase_MEGRE_scaled_tgvqsmjl_twopass_average_ref.nii\n",
      "Marker Precision: 1.0\n",
      "Marker Recall: 1.0\n",
      "True markers: 3\n",
      "False positive markers: 0 (0 were known calcification)\n",
      "False negative markers: 0\n",
      "Loss: 0.38124164938926697\n",
      "Loading model: models/QSM-20240404-230748-17-best.pth\n"
     ]
    },
    {
     "name": "stderr",
     "output_type": "stream",
     "text": [
      "Saved filed doesn't contain an optimizer state.\n"
     ]
    },
    {
     "name": "stdout",
     "output_type": "stream",
     "text": [
      "0/1; "
     ]
    },
    {
     "data": {
      "text/html": [
       "\n",
       "<style>\n",
       "    /* Turns off some styling */\n",
       "    progress {\n",
       "        /* gets rid of default border in Firefox and Opera. */\n",
       "        border: none;\n",
       "        /* Needs to be in here for Safari polyfill so background images work as expected. */\n",
       "        background-size: auto;\n",
       "    }\n",
       "    progress:not([value]), progress:not([value])::-webkit-progress-bar {\n",
       "        background: repeating-linear-gradient(45deg, #7e7e7e, #7e7e7e 10px, #5c5c5c 10px, #5c5c5c 20px);\n",
       "    }\n",
       "    .progress-bar-interrupted, .progress-bar-interrupted::-webkit-progress-bar {\n",
       "        background: #F44336;\n",
       "    }\n",
       "</style>\n"
      ],
      "text/plain": [
       "<IPython.core.display.HTML object>"
      ]
     },
     "metadata": {},
     "output_type": "display_data"
    },
    {
     "data": {
      "text/html": [],
      "text/plain": [
       "<IPython.core.display.HTML object>"
      ]
     },
     "metadata": {},
     "output_type": "display_data"
    },
    {
     "name": "stdout",
     "output_type": "stream",
     "text": [
      "Input file: out/qsm/sub-z3212665_ses-20240305_acq-wipiswifl3dvibetrythisone_run-01_echo-01_part-phase_MEGRE_scaled_tgvqsmjl_twopass_average_ref.nii\n",
      "Marker Precision: 0.6666666666666666\n",
      "Marker Recall: 0.6666666666666666\n",
      "True markers: 2\n",
      "False positive markers: 1 (1 were known calcification)\n",
      "False negative markers: 1\n",
      "Loss: 0.24552559852600098\n",
      "Loading model: models/QSM-20240404-232826-18-best.pth\n"
     ]
    },
    {
     "name": "stderr",
     "output_type": "stream",
     "text": [
      "Saved filed doesn't contain an optimizer state.\n"
     ]
    },
    {
     "name": "stdout",
     "output_type": "stream",
     "text": [
      "0/1; "
     ]
    },
    {
     "data": {
      "text/html": [
       "\n",
       "<style>\n",
       "    /* Turns off some styling */\n",
       "    progress {\n",
       "        /* gets rid of default border in Firefox and Opera. */\n",
       "        border: none;\n",
       "        /* Needs to be in here for Safari polyfill so background images work as expected. */\n",
       "        background-size: auto;\n",
       "    }\n",
       "    progress:not([value]), progress:not([value])::-webkit-progress-bar {\n",
       "        background: repeating-linear-gradient(45deg, #7e7e7e, #7e7e7e 10px, #5c5c5c 10px, #5c5c5c 20px);\n",
       "    }\n",
       "    .progress-bar-interrupted, .progress-bar-interrupted::-webkit-progress-bar {\n",
       "        background: #F44336;\n",
       "    }\n",
       "</style>\n"
      ],
      "text/plain": [
       "<IPython.core.display.HTML object>"
      ]
     },
     "metadata": {},
     "output_type": "display_data"
    },
    {
     "data": {
      "text/html": [],
      "text/plain": [
       "<IPython.core.display.HTML object>"
      ]
     },
     "metadata": {},
     "output_type": "display_data"
    },
    {
     "name": "stdout",
     "output_type": "stream",
     "text": [
      "Input file: out/qsm/sub-z2684925_ses-20240313_acq-wipiswifl3dvibetrythisone_run-01_echo-01_part-phase_MEGRE_scaled_tgvqsmjl_twopass_average_ref.nii\n",
      "Marker Precision: 1.0\n",
      "Marker Recall: 1.0\n",
      "True markers: 3\n",
      "False positive markers: 0 (0 were known calcification)\n",
      "False negative markers: 0\n",
      "Loss: 0.4199175238609314\n",
      "Loading model: models/QSM-20240404-232052-19-best.pth\n"
     ]
    },
    {
     "name": "stderr",
     "output_type": "stream",
     "text": [
      "Saved filed doesn't contain an optimizer state.\n"
     ]
    },
    {
     "name": "stdout",
     "output_type": "stream",
     "text": [
      "0/1; "
     ]
    },
    {
     "data": {
      "text/html": [
       "\n",
       "<style>\n",
       "    /* Turns off some styling */\n",
       "    progress {\n",
       "        /* gets rid of default border in Firefox and Opera. */\n",
       "        border: none;\n",
       "        /* Needs to be in here for Safari polyfill so background images work as expected. */\n",
       "        background-size: auto;\n",
       "    }\n",
       "    progress:not([value]), progress:not([value])::-webkit-progress-bar {\n",
       "        background: repeating-linear-gradient(45deg, #7e7e7e, #7e7e7e 10px, #5c5c5c 10px, #5c5c5c 20px);\n",
       "    }\n",
       "    .progress-bar-interrupted, .progress-bar-interrupted::-webkit-progress-bar {\n",
       "        background: #F44336;\n",
       "    }\n",
       "</style>\n"
      ],
      "text/plain": [
       "<IPython.core.display.HTML object>"
      ]
     },
     "metadata": {},
     "output_type": "display_data"
    },
    {
     "data": {
      "text/html": [],
      "text/plain": [
       "<IPython.core.display.HTML object>"
      ]
     },
     "metadata": {},
     "output_type": "display_data"
    },
    {
     "name": "stdout",
     "output_type": "stream",
     "text": [
      "Input file: out/qsm/sub-z4043512_ses-20240112_acq-wipiswifl3dvibetrythisone_run-01_echo-01_part-phase_MEGRE_scaled_tgvqsmjl_twopass_average_ref.nii\n",
      "Marker Precision: 1.0\n",
      "Marker Recall: 1.0\n",
      "True markers: 3\n",
      "False positive markers: 0 (0 were known calcification)\n",
      "False negative markers: 0\n",
      "Loss: 0.23457711935043335\n",
      "Loading model: models/QSM-20240404-234457-20-best.pth\n"
     ]
    },
    {
     "name": "stderr",
     "output_type": "stream",
     "text": [
      "Saved filed doesn't contain an optimizer state.\n"
     ]
    },
    {
     "name": "stdout",
     "output_type": "stream",
     "text": [
      "0/1; "
     ]
    },
    {
     "data": {
      "text/html": [
       "\n",
       "<style>\n",
       "    /* Turns off some styling */\n",
       "    progress {\n",
       "        /* gets rid of default border in Firefox and Opera. */\n",
       "        border: none;\n",
       "        /* Needs to be in here for Safari polyfill so background images work as expected. */\n",
       "        background-size: auto;\n",
       "    }\n",
       "    progress:not([value]), progress:not([value])::-webkit-progress-bar {\n",
       "        background: repeating-linear-gradient(45deg, #7e7e7e, #7e7e7e 10px, #5c5c5c 10px, #5c5c5c 20px);\n",
       "    }\n",
       "    .progress-bar-interrupted, .progress-bar-interrupted::-webkit-progress-bar {\n",
       "        background: #F44336;\n",
       "    }\n",
       "</style>\n"
      ],
      "text/plain": [
       "<IPython.core.display.HTML object>"
      ]
     },
     "metadata": {},
     "output_type": "display_data"
    },
    {
     "data": {
      "text/html": [],
      "text/plain": [
       "<IPython.core.display.HTML object>"
      ]
     },
     "metadata": {},
     "output_type": "display_data"
    },
    {
     "name": "stderr",
     "output_type": "stream",
     "text": [
      "Mean of empty slice\n"
     ]
    },
    {
     "name": "stdout",
     "output_type": "stream",
     "text": [
      "Input file: out/qsm/sub-z0747844_ses-20240304_acq-wipiswifl3dvibetrythisone_run-01_echo-01_part-phase_MEGRE_scaled_tgvqsmjl_twopass_average_ref.nii\n",
      "Marker Precision: 1.0\n",
      "Marker Recall: 0.6666666666666666\n",
      "True markers: 2\n",
      "False positive markers: 0 (0 were known calcification)\n",
      "False negative markers: 1\n",
      "Loss: 0.4373343884944916\n",
      "Loading model: models/QSM-20240405-000418-21-best.pth\n"
     ]
    },
    {
     "name": "stderr",
     "output_type": "stream",
     "text": [
      "Saved filed doesn't contain an optimizer state.\n"
     ]
    },
    {
     "name": "stdout",
     "output_type": "stream",
     "text": [
      "0/1; "
     ]
    },
    {
     "data": {
      "text/html": [
       "\n",
       "<style>\n",
       "    /* Turns off some styling */\n",
       "    progress {\n",
       "        /* gets rid of default border in Firefox and Opera. */\n",
       "        border: none;\n",
       "        /* Needs to be in here for Safari polyfill so background images work as expected. */\n",
       "        background-size: auto;\n",
       "    }\n",
       "    progress:not([value]), progress:not([value])::-webkit-progress-bar {\n",
       "        background: repeating-linear-gradient(45deg, #7e7e7e, #7e7e7e 10px, #5c5c5c 10px, #5c5c5c 20px);\n",
       "    }\n",
       "    .progress-bar-interrupted, .progress-bar-interrupted::-webkit-progress-bar {\n",
       "        background: #F44336;\n",
       "    }\n",
       "</style>\n"
      ],
      "text/plain": [
       "<IPython.core.display.HTML object>"
      ]
     },
     "metadata": {},
     "output_type": "display_data"
    },
    {
     "data": {
      "text/html": [],
      "text/plain": [
       "<IPython.core.display.HTML object>"
      ]
     },
     "metadata": {},
     "output_type": "display_data"
    },
    {
     "name": "stderr",
     "output_type": "stream",
     "text": [
      "Mean of empty slice\n"
     ]
    },
    {
     "name": "stdout",
     "output_type": "stream",
     "text": [
      "Input file: out/qsm/sub-z1421134_ses-20231205_acq-wipiswifl3dvibetrythisone_run-01_echo-01_part-phase_MEGRE_scaled_tgvqsmjl_twopass_average_ref.nii\n",
      "Marker Precision: 1.0\n",
      "Marker Recall: 1.0\n",
      "True markers: 3\n",
      "False positive markers: 0 (0 were known calcification)\n",
      "False negative markers: 0\n",
      "Loss: 0.44561299681663513\n",
      "Loading model: models/QSM-20240405-001415-22-best.pth\n"
     ]
    },
    {
     "name": "stderr",
     "output_type": "stream",
     "text": [
      "Saved filed doesn't contain an optimizer state.\n"
     ]
    },
    {
     "name": "stdout",
     "output_type": "stream",
     "text": [
      "0/1; "
     ]
    },
    {
     "data": {
      "text/html": [
       "\n",
       "<style>\n",
       "    /* Turns off some styling */\n",
       "    progress {\n",
       "        /* gets rid of default border in Firefox and Opera. */\n",
       "        border: none;\n",
       "        /* Needs to be in here for Safari polyfill so background images work as expected. */\n",
       "        background-size: auto;\n",
       "    }\n",
       "    progress:not([value]), progress:not([value])::-webkit-progress-bar {\n",
       "        background: repeating-linear-gradient(45deg, #7e7e7e, #7e7e7e 10px, #5c5c5c 10px, #5c5c5c 20px);\n",
       "    }\n",
       "    .progress-bar-interrupted, .progress-bar-interrupted::-webkit-progress-bar {\n",
       "        background: #F44336;\n",
       "    }\n",
       "</style>\n"
      ],
      "text/plain": [
       "<IPython.core.display.HTML object>"
      ]
     },
     "metadata": {},
     "output_type": "display_data"
    },
    {
     "data": {
      "text/html": [],
      "text/plain": [
       "<IPython.core.display.HTML object>"
      ]
     },
     "metadata": {},
     "output_type": "display_data"
    },
    {
     "name": "stderr",
     "output_type": "stream",
     "text": [
      "Mean of empty slice\n"
     ]
    },
    {
     "name": "stdout",
     "output_type": "stream",
     "text": [
      "Input file: out/qsm/sub-z1638396_ses-20240311_acq-wipiswifl3dvibetrythisone_run-01_echo-01_part-phase_MEGRE_scaled_tgvqsmjl_twopass_average_ref.nii\n",
      "Marker Precision: 1.0\n",
      "Marker Recall: 1.0\n",
      "True markers: 3\n",
      "False positive markers: 0 (0 were known calcification)\n",
      "False negative markers: 0\n",
      "Loss: 0.4424882233142853\n",
      "Loading model: models/QSM-20240405-002415-23-best.pth\n"
     ]
    },
    {
     "name": "stderr",
     "output_type": "stream",
     "text": [
      "Saved filed doesn't contain an optimizer state.\n"
     ]
    },
    {
     "name": "stdout",
     "output_type": "stream",
     "text": [
      "0/1; "
     ]
    },
    {
     "data": {
      "text/html": [
       "\n",
       "<style>\n",
       "    /* Turns off some styling */\n",
       "    progress {\n",
       "        /* gets rid of default border in Firefox and Opera. */\n",
       "        border: none;\n",
       "        /* Needs to be in here for Safari polyfill so background images work as expected. */\n",
       "        background-size: auto;\n",
       "    }\n",
       "    progress:not([value]), progress:not([value])::-webkit-progress-bar {\n",
       "        background: repeating-linear-gradient(45deg, #7e7e7e, #7e7e7e 10px, #5c5c5c 10px, #5c5c5c 20px);\n",
       "    }\n",
       "    .progress-bar-interrupted, .progress-bar-interrupted::-webkit-progress-bar {\n",
       "        background: #F44336;\n",
       "    }\n",
       "</style>\n"
      ],
      "text/plain": [
       "<IPython.core.display.HTML object>"
      ]
     },
     "metadata": {},
     "output_type": "display_data"
    },
    {
     "data": {
      "text/html": [],
      "text/plain": [
       "<IPython.core.display.HTML object>"
      ]
     },
     "metadata": {},
     "output_type": "display_data"
    },
    {
     "name": "stderr",
     "output_type": "stream",
     "text": [
      "Mean of empty slice\n"
     ]
    },
    {
     "name": "stdout",
     "output_type": "stream",
     "text": [
      "Input file: out/qsm/sub-z2996397_ses-20231201_acq-wipiswifl3dvibetrythisone_run-01_echo-01_part-phase_MEGRE_scaled_tgvqsmjl_twopass_average_ref.nii\n",
      "Marker Precision: 1.0\n",
      "Marker Recall: 1.0\n",
      "True markers: 3\n",
      "False positive markers: 0 (0 were known calcification)\n",
      "False negative markers: 0\n",
      "Loss: 0.38106784224510193\n",
      "Loading model: models/QSM-20240405-004158-24-best.pth\n"
     ]
    },
    {
     "name": "stderr",
     "output_type": "stream",
     "text": [
      "Saved filed doesn't contain an optimizer state.\n"
     ]
    },
    {
     "name": "stdout",
     "output_type": "stream",
     "text": [
      "0/1; "
     ]
    },
    {
     "data": {
      "text/html": [
       "\n",
       "<style>\n",
       "    /* Turns off some styling */\n",
       "    progress {\n",
       "        /* gets rid of default border in Firefox and Opera. */\n",
       "        border: none;\n",
       "        /* Needs to be in here for Safari polyfill so background images work as expected. */\n",
       "        background-size: auto;\n",
       "    }\n",
       "    progress:not([value]), progress:not([value])::-webkit-progress-bar {\n",
       "        background: repeating-linear-gradient(45deg, #7e7e7e, #7e7e7e 10px, #5c5c5c 10px, #5c5c5c 20px);\n",
       "    }\n",
       "    .progress-bar-interrupted, .progress-bar-interrupted::-webkit-progress-bar {\n",
       "        background: #F44336;\n",
       "    }\n",
       "</style>\n"
      ],
      "text/plain": [
       "<IPython.core.display.HTML object>"
      ]
     },
     "metadata": {},
     "output_type": "display_data"
    },
    {
     "data": {
      "text/html": [],
      "text/plain": [
       "<IPython.core.display.HTML object>"
      ]
     },
     "metadata": {},
     "output_type": "display_data"
    },
    {
     "name": "stdout",
     "output_type": "stream",
     "text": [
      "Input file: out/qsm/sub-z0742379_ses-20240124_acq-wipiswifl3dvibetrythisone_run-01_echo-01_part-phase_MEGRE_scaled_tgvqsmjl_twopass_average_ref.nii\n",
      "Marker Precision: 0.6666666666666666\n",
      "Marker Recall: 0.6666666666666666\n",
      "True markers: 2\n",
      "False positive markers: 1 (0 were known calcification)\n",
      "False negative markers: 1\n",
      "Loss: 0.5237584114074707\n",
      "=== QSM-SWI ===\n",
      "infile_cols: ['qsm_files', 'swi_files']; n_input_channels: 2\n",
      "Loading model: models/QSM-SWI-20240406-093356-0-best.pth\n"
     ]
    },
    {
     "name": "stderr",
     "output_type": "stream",
     "text": [
      "Saved filed doesn't contain an optimizer state.\n"
     ]
    },
    {
     "name": "stdout",
     "output_type": "stream",
     "text": [
      "0/1; "
     ]
    },
    {
     "data": {
      "text/html": [
       "\n",
       "<style>\n",
       "    /* Turns off some styling */\n",
       "    progress {\n",
       "        /* gets rid of default border in Firefox and Opera. */\n",
       "        border: none;\n",
       "        /* Needs to be in here for Safari polyfill so background images work as expected. */\n",
       "        background-size: auto;\n",
       "    }\n",
       "    progress:not([value]), progress:not([value])::-webkit-progress-bar {\n",
       "        background: repeating-linear-gradient(45deg, #7e7e7e, #7e7e7e 10px, #5c5c5c 10px, #5c5c5c 20px);\n",
       "    }\n",
       "    .progress-bar-interrupted, .progress-bar-interrupted::-webkit-progress-bar {\n",
       "        background: #F44336;\n",
       "    }\n",
       "</style>\n"
      ],
      "text/plain": [
       "<IPython.core.display.HTML object>"
      ]
     },
     "metadata": {},
     "output_type": "display_data"
    },
    {
     "data": {
      "text/html": [],
      "text/plain": [
       "<IPython.core.display.HTML object>"
      ]
     },
     "metadata": {},
     "output_type": "display_data"
    },
    {
     "name": "stdout",
     "output_type": "stream",
     "text": [
      "Input file: out/qsm/sub-z1318033_ses-20230825_acq-wipiswifl3dvibetrythisone_run-01_echo-01_part-phase_MEGRE_scaled_tgvqsmjl_twopass_average_ref.nii\n",
      "Marker Precision: 1.0\n",
      "Marker Recall: 1.0\n",
      "True markers: 3\n",
      "False positive markers: 0 (0 were known calcification)\n",
      "False negative markers: 0\n",
      "Loss: 0.35938647389411926\n",
      "Loading model: models/QSM-SWI-20240406-095930-1-best.pth\n"
     ]
    },
    {
     "name": "stderr",
     "output_type": "stream",
     "text": [
      "Saved filed doesn't contain an optimizer state.\n"
     ]
    },
    {
     "name": "stdout",
     "output_type": "stream",
     "text": [
      "0/1; "
     ]
    },
    {
     "data": {
      "text/html": [
       "\n",
       "<style>\n",
       "    /* Turns off some styling */\n",
       "    progress {\n",
       "        /* gets rid of default border in Firefox and Opera. */\n",
       "        border: none;\n",
       "        /* Needs to be in here for Safari polyfill so background images work as expected. */\n",
       "        background-size: auto;\n",
       "    }\n",
       "    progress:not([value]), progress:not([value])::-webkit-progress-bar {\n",
       "        background: repeating-linear-gradient(45deg, #7e7e7e, #7e7e7e 10px, #5c5c5c 10px, #5c5c5c 20px);\n",
       "    }\n",
       "    .progress-bar-interrupted, .progress-bar-interrupted::-webkit-progress-bar {\n",
       "        background: #F44336;\n",
       "    }\n",
       "</style>\n"
      ],
      "text/plain": [
       "<IPython.core.display.HTML object>"
      ]
     },
     "metadata": {},
     "output_type": "display_data"
    },
    {
     "data": {
      "text/html": [],
      "text/plain": [
       "<IPython.core.display.HTML object>"
      ]
     },
     "metadata": {},
     "output_type": "display_data"
    },
    {
     "name": "stderr",
     "output_type": "stream",
     "text": [
      "Mean of empty slice\n"
     ]
    },
    {
     "name": "stdout",
     "output_type": "stream",
     "text": [
      "Input file: out/qsm/sub-z1691325_ses-20240227_acq-wipiswifl3dvibetrythisone_run-01_echo-01_part-phase_MEGRE_scaled_tgvqsmjl_twopass_average_ref.nii\n",
      "Marker Precision: 0.6666666666666666\n",
      "Marker Recall: 0.6666666666666666\n",
      "True markers: 2\n",
      "False positive markers: 1 (0 were known calcification)\n",
      "False negative markers: 1\n",
      "Loss: 0.44753071665763855\n",
      "Loading model: models/QSM-SWI-20240406-100728-2-best.pth\n"
     ]
    },
    {
     "name": "stderr",
     "output_type": "stream",
     "text": [
      "Saved filed doesn't contain an optimizer state.\n"
     ]
    },
    {
     "name": "stdout",
     "output_type": "stream",
     "text": [
      "0/1; "
     ]
    },
    {
     "data": {
      "text/html": [
       "\n",
       "<style>\n",
       "    /* Turns off some styling */\n",
       "    progress {\n",
       "        /* gets rid of default border in Firefox and Opera. */\n",
       "        border: none;\n",
       "        /* Needs to be in here for Safari polyfill so background images work as expected. */\n",
       "        background-size: auto;\n",
       "    }\n",
       "    progress:not([value]), progress:not([value])::-webkit-progress-bar {\n",
       "        background: repeating-linear-gradient(45deg, #7e7e7e, #7e7e7e 10px, #5c5c5c 10px, #5c5c5c 20px);\n",
       "    }\n",
       "    .progress-bar-interrupted, .progress-bar-interrupted::-webkit-progress-bar {\n",
       "        background: #F44336;\n",
       "    }\n",
       "</style>\n"
      ],
      "text/plain": [
       "<IPython.core.display.HTML object>"
      ]
     },
     "metadata": {},
     "output_type": "display_data"
    },
    {
     "data": {
      "text/html": [],
      "text/plain": [
       "<IPython.core.display.HTML object>"
      ]
     },
     "metadata": {},
     "output_type": "display_data"
    },
    {
     "name": "stdout",
     "output_type": "stream",
     "text": [
      "Input file: out/qsm/sub-z0002292_ses-20240318_acq-wipiswifl3dvibetrythisone_run-01_echo-01_part-phase_MEGRE_scaled_tgvqsmjl_twopass_average_ref.nii\n",
      "Marker Precision: 1.0\n",
      "Marker Recall: 1.0\n",
      "True markers: 3\n",
      "False positive markers: 0 (0 were known calcification)\n",
      "False negative markers: 0\n",
      "Loss: 0.33353155851364136\n",
      "Loading model: models/QSM-SWI-20240406-102932-3-best.pth\n"
     ]
    },
    {
     "name": "stderr",
     "output_type": "stream",
     "text": [
      "Saved filed doesn't contain an optimizer state.\n"
     ]
    },
    {
     "name": "stdout",
     "output_type": "stream",
     "text": [
      "0/1; "
     ]
    },
    {
     "data": {
      "text/html": [
       "\n",
       "<style>\n",
       "    /* Turns off some styling */\n",
       "    progress {\n",
       "        /* gets rid of default border in Firefox and Opera. */\n",
       "        border: none;\n",
       "        /* Needs to be in here for Safari polyfill so background images work as expected. */\n",
       "        background-size: auto;\n",
       "    }\n",
       "    progress:not([value]), progress:not([value])::-webkit-progress-bar {\n",
       "        background: repeating-linear-gradient(45deg, #7e7e7e, #7e7e7e 10px, #5c5c5c 10px, #5c5c5c 20px);\n",
       "    }\n",
       "    .progress-bar-interrupted, .progress-bar-interrupted::-webkit-progress-bar {\n",
       "        background: #F44336;\n",
       "    }\n",
       "</style>\n"
      ],
      "text/plain": [
       "<IPython.core.display.HTML object>"
      ]
     },
     "metadata": {},
     "output_type": "display_data"
    },
    {
     "data": {
      "text/html": [],
      "text/plain": [
       "<IPython.core.display.HTML object>"
      ]
     },
     "metadata": {},
     "output_type": "display_data"
    },
    {
     "name": "stdout",
     "output_type": "stream",
     "text": [
      "Input file: out/qsm/sub-z3268423_ses-20240109_acq-wipiswifl3dvibetrythisone_run-01_echo-01_part-phase_MEGRE_scaled_tgvqsmjl_twopass_average_ref.nii\n",
      "Marker Precision: 1.0\n",
      "Marker Recall: 1.0\n",
      "True markers: 3\n",
      "False positive markers: 0 (0 were known calcification)\n",
      "False negative markers: 0\n",
      "Loss: 0.2659398913383484\n",
      "Loading model: models/QSM-SWI-20240406-103401-4-best.pth\n"
     ]
    },
    {
     "name": "stderr",
     "output_type": "stream",
     "text": [
      "Saved filed doesn't contain an optimizer state.\n"
     ]
    },
    {
     "name": "stdout",
     "output_type": "stream",
     "text": [
      "0/1; "
     ]
    },
    {
     "data": {
      "text/html": [
       "\n",
       "<style>\n",
       "    /* Turns off some styling */\n",
       "    progress {\n",
       "        /* gets rid of default border in Firefox and Opera. */\n",
       "        border: none;\n",
       "        /* Needs to be in here for Safari polyfill so background images work as expected. */\n",
       "        background-size: auto;\n",
       "    }\n",
       "    progress:not([value]), progress:not([value])::-webkit-progress-bar {\n",
       "        background: repeating-linear-gradient(45deg, #7e7e7e, #7e7e7e 10px, #5c5c5c 10px, #5c5c5c 20px);\n",
       "    }\n",
       "    .progress-bar-interrupted, .progress-bar-interrupted::-webkit-progress-bar {\n",
       "        background: #F44336;\n",
       "    }\n",
       "</style>\n"
      ],
      "text/plain": [
       "<IPython.core.display.HTML object>"
      ]
     },
     "metadata": {},
     "output_type": "display_data"
    },
    {
     "data": {
      "text/html": [],
      "text/plain": [
       "<IPython.core.display.HTML object>"
      ]
     },
     "metadata": {},
     "output_type": "display_data"
    },
    {
     "name": "stdout",
     "output_type": "stream",
     "text": [
      "Input file: out/qsm/sub-z1448271_ses-20231110_acq-wipiswifl3dvibetrythisone_run-01_echo-01_part-phase_MEGRE_scaled_tgvqsmjl_twopass_average_ref.nii\n",
      "Marker Precision: 0.6666666666666666\n",
      "Marker Recall: 0.6666666666666666\n",
      "True markers: 2\n",
      "False positive markers: 1 (1 were known calcification)\n",
      "False negative markers: 1\n",
      "Loss: 0.5098202228546143\n",
      "Loading model: models/QSM-SWI-20240406-105425-5-best.pth\n"
     ]
    },
    {
     "name": "stderr",
     "output_type": "stream",
     "text": [
      "Saved filed doesn't contain an optimizer state.\n"
     ]
    },
    {
     "name": "stdout",
     "output_type": "stream",
     "text": [
      "0/1; "
     ]
    },
    {
     "data": {
      "text/html": [
       "\n",
       "<style>\n",
       "    /* Turns off some styling */\n",
       "    progress {\n",
       "        /* gets rid of default border in Firefox and Opera. */\n",
       "        border: none;\n",
       "        /* Needs to be in here for Safari polyfill so background images work as expected. */\n",
       "        background-size: auto;\n",
       "    }\n",
       "    progress:not([value]), progress:not([value])::-webkit-progress-bar {\n",
       "        background: repeating-linear-gradient(45deg, #7e7e7e, #7e7e7e 10px, #5c5c5c 10px, #5c5c5c 20px);\n",
       "    }\n",
       "    .progress-bar-interrupted, .progress-bar-interrupted::-webkit-progress-bar {\n",
       "        background: #F44336;\n",
       "    }\n",
       "</style>\n"
      ],
      "text/plain": [
       "<IPython.core.display.HTML object>"
      ]
     },
     "metadata": {},
     "output_type": "display_data"
    },
    {
     "data": {
      "text/html": [],
      "text/plain": [
       "<IPython.core.display.HTML object>"
      ]
     },
     "metadata": {},
     "output_type": "display_data"
    },
    {
     "name": "stderr",
     "output_type": "stream",
     "text": [
      "Mean of empty slice\n"
     ]
    },
    {
     "name": "stdout",
     "output_type": "stream",
     "text": [
      "Input file: out/qsm/sub-z1384048_ses-20231108_acq-wipiswifl3dvibetrythisone_run-01_echo-01_part-phase_MEGRE_scaled_tgvqsmjl_twopass_average_ref.nii\n",
      "Marker Precision: 1.0\n",
      "Marker Recall: 1.0\n",
      "True markers: 3\n",
      "False positive markers: 0 (0 were known calcification)\n",
      "False negative markers: 0\n",
      "Loss: 0.36221951246261597\n",
      "Loading model: models/QSM-SWI-20240406-110158-6-best.pth\n"
     ]
    },
    {
     "name": "stderr",
     "output_type": "stream",
     "text": [
      "Saved filed doesn't contain an optimizer state.\n"
     ]
    },
    {
     "name": "stdout",
     "output_type": "stream",
     "text": [
      "0/1; "
     ]
    },
    {
     "data": {
      "text/html": [
       "\n",
       "<style>\n",
       "    /* Turns off some styling */\n",
       "    progress {\n",
       "        /* gets rid of default border in Firefox and Opera. */\n",
       "        border: none;\n",
       "        /* Needs to be in here for Safari polyfill so background images work as expected. */\n",
       "        background-size: auto;\n",
       "    }\n",
       "    progress:not([value]), progress:not([value])::-webkit-progress-bar {\n",
       "        background: repeating-linear-gradient(45deg, #7e7e7e, #7e7e7e 10px, #5c5c5c 10px, #5c5c5c 20px);\n",
       "    }\n",
       "    .progress-bar-interrupted, .progress-bar-interrupted::-webkit-progress-bar {\n",
       "        background: #F44336;\n",
       "    }\n",
       "</style>\n"
      ],
      "text/plain": [
       "<IPython.core.display.HTML object>"
      ]
     },
     "metadata": {},
     "output_type": "display_data"
    },
    {
     "data": {
      "text/html": [],
      "text/plain": [
       "<IPython.core.display.HTML object>"
      ]
     },
     "metadata": {},
     "output_type": "display_data"
    },
    {
     "name": "stderr",
     "output_type": "stream",
     "text": [
      "Mean of empty slice\n"
     ]
    },
    {
     "name": "stdout",
     "output_type": "stream",
     "text": [
      "Input file: out/qsm/sub-z1635498_ses-20240305_acq-wipiswifl3dvibetrythisone_run-01_echo-01_part-phase_MEGRE_scaled_tgvqsmjl_twopass_average_ref.nii\n",
      "Marker Precision: 1.0\n",
      "Marker Recall: 1.0\n",
      "True markers: 3\n",
      "False positive markers: 0 (0 were known calcification)\n",
      "False negative markers: 0\n",
      "Loss: 0.3810124397277832\n",
      "Loading model: models/QSM-SWI-20240406-111532-7-best.pth\n"
     ]
    },
    {
     "name": "stderr",
     "output_type": "stream",
     "text": [
      "Saved filed doesn't contain an optimizer state.\n"
     ]
    },
    {
     "name": "stdout",
     "output_type": "stream",
     "text": [
      "0/1; "
     ]
    },
    {
     "data": {
      "text/html": [
       "\n",
       "<style>\n",
       "    /* Turns off some styling */\n",
       "    progress {\n",
       "        /* gets rid of default border in Firefox and Opera. */\n",
       "        border: none;\n",
       "        /* Needs to be in here for Safari polyfill so background images work as expected. */\n",
       "        background-size: auto;\n",
       "    }\n",
       "    progress:not([value]), progress:not([value])::-webkit-progress-bar {\n",
       "        background: repeating-linear-gradient(45deg, #7e7e7e, #7e7e7e 10px, #5c5c5c 10px, #5c5c5c 20px);\n",
       "    }\n",
       "    .progress-bar-interrupted, .progress-bar-interrupted::-webkit-progress-bar {\n",
       "        background: #F44336;\n",
       "    }\n",
       "</style>\n"
      ],
      "text/plain": [
       "<IPython.core.display.HTML object>"
      ]
     },
     "metadata": {},
     "output_type": "display_data"
    },
    {
     "data": {
      "text/html": [],
      "text/plain": [
       "<IPython.core.display.HTML object>"
      ]
     },
     "metadata": {},
     "output_type": "display_data"
    },
    {
     "name": "stderr",
     "output_type": "stream",
     "text": [
      "Mean of empty slice\n"
     ]
    },
    {
     "name": "stdout",
     "output_type": "stream",
     "text": [
      "Input file: out/qsm/sub-z0163277_ses-20240123_acq-wipiswifl3dvibetrythisone_run-01_echo-01_part-phase_MEGRE_scaled_tgvqsmjl_twopass_average_ref.nii\n",
      "Marker Precision: 1.0\n",
      "Marker Recall: 1.0\n",
      "True markers: 3\n",
      "False positive markers: 0 (0 were known calcification)\n",
      "False negative markers: 0\n",
      "Loss: 0.392226904630661\n",
      "Loading model: models/QSM-SWI-20240406-113254-8-best.pth\n"
     ]
    },
    {
     "name": "stderr",
     "output_type": "stream",
     "text": [
      "Saved filed doesn't contain an optimizer state.\n"
     ]
    },
    {
     "name": "stdout",
     "output_type": "stream",
     "text": [
      "0/1; "
     ]
    },
    {
     "data": {
      "text/html": [
       "\n",
       "<style>\n",
       "    /* Turns off some styling */\n",
       "    progress {\n",
       "        /* gets rid of default border in Firefox and Opera. */\n",
       "        border: none;\n",
       "        /* Needs to be in here for Safari polyfill so background images work as expected. */\n",
       "        background-size: auto;\n",
       "    }\n",
       "    progress:not([value]), progress:not([value])::-webkit-progress-bar {\n",
       "        background: repeating-linear-gradient(45deg, #7e7e7e, #7e7e7e 10px, #5c5c5c 10px, #5c5c5c 20px);\n",
       "    }\n",
       "    .progress-bar-interrupted, .progress-bar-interrupted::-webkit-progress-bar {\n",
       "        background: #F44336;\n",
       "    }\n",
       "</style>\n"
      ],
      "text/plain": [
       "<IPython.core.display.HTML object>"
      ]
     },
     "metadata": {},
     "output_type": "display_data"
    },
    {
     "data": {
      "text/html": [],
      "text/plain": [
       "<IPython.core.display.HTML object>"
      ]
     },
     "metadata": {},
     "output_type": "display_data"
    },
    {
     "name": "stderr",
     "output_type": "stream",
     "text": [
      "Mean of empty slice\n"
     ]
    },
    {
     "name": "stdout",
     "output_type": "stream",
     "text": [
      "Input file: out/qsm/sub-z3220308_ses-20231009_acq-wipiswifl3dvibetrythisone_run-01_echo-01_part-phase_MEGRE_scaled_tgvqsmjl_twopass_average_ref.nii\n",
      "Marker Precision: 1.0\n",
      "Marker Recall: 1.0\n",
      "True markers: 3\n",
      "False positive markers: 0 (0 were known calcification)\n",
      "False negative markers: 0\n",
      "Loss: 0.4149318337440491\n",
      "Loading model: models/QSM-SWI-20240406-113404-9-best.pth\n"
     ]
    },
    {
     "name": "stderr",
     "output_type": "stream",
     "text": [
      "Saved filed doesn't contain an optimizer state.\n"
     ]
    },
    {
     "name": "stdout",
     "output_type": "stream",
     "text": [
      "0/1; "
     ]
    },
    {
     "data": {
      "text/html": [
       "\n",
       "<style>\n",
       "    /* Turns off some styling */\n",
       "    progress {\n",
       "        /* gets rid of default border in Firefox and Opera. */\n",
       "        border: none;\n",
       "        /* Needs to be in here for Safari polyfill so background images work as expected. */\n",
       "        background-size: auto;\n",
       "    }\n",
       "    progress:not([value]), progress:not([value])::-webkit-progress-bar {\n",
       "        background: repeating-linear-gradient(45deg, #7e7e7e, #7e7e7e 10px, #5c5c5c 10px, #5c5c5c 20px);\n",
       "    }\n",
       "    .progress-bar-interrupted, .progress-bar-interrupted::-webkit-progress-bar {\n",
       "        background: #F44336;\n",
       "    }\n",
       "</style>\n"
      ],
      "text/plain": [
       "<IPython.core.display.HTML object>"
      ]
     },
     "metadata": {},
     "output_type": "display_data"
    },
    {
     "data": {
      "text/html": [],
      "text/plain": [
       "<IPython.core.display.HTML object>"
      ]
     },
     "metadata": {},
     "output_type": "display_data"
    },
    {
     "name": "stdout",
     "output_type": "stream",
     "text": [
      "Input file: out/qsm/sub-z0381949_ses-20231005_acq-wipiswifl3dvibetrythisone_run-01_echo-01_part-phase_MEGRE_scaled_tgvqsmjl_twopass_average_ref.nii\n",
      "Marker Precision: 1.0\n",
      "Marker Recall: 1.0\n",
      "True markers: 3\n",
      "False positive markers: 0 (0 were known calcification)\n",
      "False negative markers: 0\n",
      "Loss: 0.43519827723503113\n",
      "Loading model: models/QSM-SWI-20240406-114726-10-best.pth\n"
     ]
    },
    {
     "name": "stderr",
     "output_type": "stream",
     "text": [
      "Saved filed doesn't contain an optimizer state.\n"
     ]
    },
    {
     "name": "stdout",
     "output_type": "stream",
     "text": [
      "0/1; "
     ]
    },
    {
     "data": {
      "text/html": [
       "\n",
       "<style>\n",
       "    /* Turns off some styling */\n",
       "    progress {\n",
       "        /* gets rid of default border in Firefox and Opera. */\n",
       "        border: none;\n",
       "        /* Needs to be in here for Safari polyfill so background images work as expected. */\n",
       "        background-size: auto;\n",
       "    }\n",
       "    progress:not([value]), progress:not([value])::-webkit-progress-bar {\n",
       "        background: repeating-linear-gradient(45deg, #7e7e7e, #7e7e7e 10px, #5c5c5c 10px, #5c5c5c 20px);\n",
       "    }\n",
       "    .progress-bar-interrupted, .progress-bar-interrupted::-webkit-progress-bar {\n",
       "        background: #F44336;\n",
       "    }\n",
       "</style>\n"
      ],
      "text/plain": [
       "<IPython.core.display.HTML object>"
      ]
     },
     "metadata": {},
     "output_type": "display_data"
    },
    {
     "data": {
      "text/html": [],
      "text/plain": [
       "<IPython.core.display.HTML object>"
      ]
     },
     "metadata": {},
     "output_type": "display_data"
    },
    {
     "name": "stderr",
     "output_type": "stream",
     "text": [
      "Mean of empty slice\n"
     ]
    },
    {
     "name": "stdout",
     "output_type": "stream",
     "text": [
      "Input file: out/qsm/sub-z0206923_ses-20231003_acq-wipiswifl3dvibetrythisone_run-01_echo-01_part-phase_MEGRE_scaled_tgvqsmjl_twopass_average_ref.nii\n",
      "Marker Precision: 1.0\n",
      "Marker Recall: 1.0\n",
      "True markers: 3\n",
      "False positive markers: 0 (0 were known calcification)\n",
      "False negative markers: 0\n",
      "Loss: 0.39042553305625916\n",
      "Loading model: models/QSM-SWI-20240406-122406-11-best.pth\n"
     ]
    },
    {
     "name": "stderr",
     "output_type": "stream",
     "text": [
      "Saved filed doesn't contain an optimizer state.\n"
     ]
    },
    {
     "name": "stdout",
     "output_type": "stream",
     "text": [
      "0/1; "
     ]
    },
    {
     "data": {
      "text/html": [
       "\n",
       "<style>\n",
       "    /* Turns off some styling */\n",
       "    progress {\n",
       "        /* gets rid of default border in Firefox and Opera. */\n",
       "        border: none;\n",
       "        /* Needs to be in here for Safari polyfill so background images work as expected. */\n",
       "        background-size: auto;\n",
       "    }\n",
       "    progress:not([value]), progress:not([value])::-webkit-progress-bar {\n",
       "        background: repeating-linear-gradient(45deg, #7e7e7e, #7e7e7e 10px, #5c5c5c 10px, #5c5c5c 20px);\n",
       "    }\n",
       "    .progress-bar-interrupted, .progress-bar-interrupted::-webkit-progress-bar {\n",
       "        background: #F44336;\n",
       "    }\n",
       "</style>\n"
      ],
      "text/plain": [
       "<IPython.core.display.HTML object>"
      ]
     },
     "metadata": {},
     "output_type": "display_data"
    },
    {
     "data": {
      "text/html": [],
      "text/plain": [
       "<IPython.core.display.HTML object>"
      ]
     },
     "metadata": {},
     "output_type": "display_data"
    },
    {
     "name": "stdout",
     "output_type": "stream",
     "text": [
      "Input file: out/qsm/sub-z1484547_ses-20240102_acq-wipiswifl3dvibetrythisone_run-01_echo-01_part-phase_MEGRE_scaled_tgvqsmjl_twopass_average_ref.nii\n",
      "Marker Precision: 0.6666666666666666\n",
      "Marker Recall: 0.6666666666666666\n",
      "True markers: 2\n",
      "False positive markers: 1 (1 were known calcification)\n",
      "False negative markers: 1\n",
      "Loss: 0.44047123193740845\n",
      "Loading model: models/QSM-SWI-20240406-122504-12-best.pth\n"
     ]
    },
    {
     "name": "stderr",
     "output_type": "stream",
     "text": [
      "Saved filed doesn't contain an optimizer state.\n"
     ]
    },
    {
     "name": "stdout",
     "output_type": "stream",
     "text": [
      "0/1; "
     ]
    },
    {
     "data": {
      "text/html": [
       "\n",
       "<style>\n",
       "    /* Turns off some styling */\n",
       "    progress {\n",
       "        /* gets rid of default border in Firefox and Opera. */\n",
       "        border: none;\n",
       "        /* Needs to be in here for Safari polyfill so background images work as expected. */\n",
       "        background-size: auto;\n",
       "    }\n",
       "    progress:not([value]), progress:not([value])::-webkit-progress-bar {\n",
       "        background: repeating-linear-gradient(45deg, #7e7e7e, #7e7e7e 10px, #5c5c5c 10px, #5c5c5c 20px);\n",
       "    }\n",
       "    .progress-bar-interrupted, .progress-bar-interrupted::-webkit-progress-bar {\n",
       "        background: #F44336;\n",
       "    }\n",
       "</style>\n"
      ],
      "text/plain": [
       "<IPython.core.display.HTML object>"
      ]
     },
     "metadata": {},
     "output_type": "display_data"
    },
    {
     "data": {
      "text/html": [],
      "text/plain": [
       "<IPython.core.display.HTML object>"
      ]
     },
     "metadata": {},
     "output_type": "display_data"
    },
    {
     "name": "stderr",
     "output_type": "stream",
     "text": [
      "Mean of empty slice\n"
     ]
    },
    {
     "name": "stdout",
     "output_type": "stream",
     "text": [
      "Input file: out/qsm/sub-z1645782_ses-20231010_acq-wipiswifl3dvibetrythisone_run-01_echo-01_part-phase_MEGRE_scaled_tgvqsmjl_twopass_average_ref.nii\n",
      "Marker Precision: 1.0\n",
      "Marker Recall: 1.0\n",
      "True markers: 2\n",
      "False positive markers: 0 (0 were known calcification)\n",
      "False negative markers: 0\n",
      "Loss: 0.37541401386260986\n",
      "Loading model: models/QSM-SWI-20240406-123810-13-best.pth\n"
     ]
    },
    {
     "name": "stderr",
     "output_type": "stream",
     "text": [
      "Saved filed doesn't contain an optimizer state.\n"
     ]
    },
    {
     "name": "stdout",
     "output_type": "stream",
     "text": [
      "0/1; "
     ]
    },
    {
     "data": {
      "text/html": [
       "\n",
       "<style>\n",
       "    /* Turns off some styling */\n",
       "    progress {\n",
       "        /* gets rid of default border in Firefox and Opera. */\n",
       "        border: none;\n",
       "        /* Needs to be in here for Safari polyfill so background images work as expected. */\n",
       "        background-size: auto;\n",
       "    }\n",
       "    progress:not([value]), progress:not([value])::-webkit-progress-bar {\n",
       "        background: repeating-linear-gradient(45deg, #7e7e7e, #7e7e7e 10px, #5c5c5c 10px, #5c5c5c 20px);\n",
       "    }\n",
       "    .progress-bar-interrupted, .progress-bar-interrupted::-webkit-progress-bar {\n",
       "        background: #F44336;\n",
       "    }\n",
       "</style>\n"
      ],
      "text/plain": [
       "<IPython.core.display.HTML object>"
      ]
     },
     "metadata": {},
     "output_type": "display_data"
    },
    {
     "data": {
      "text/html": [],
      "text/plain": [
       "<IPython.core.display.HTML object>"
      ]
     },
     "metadata": {},
     "output_type": "display_data"
    },
    {
     "name": "stdout",
     "output_type": "stream",
     "text": [
      "Input file: out/qsm/sub-z0232771_ses-20240228_acq-wipiswifl3dvibetrythisone_run-01_echo-01_part-phase_MEGRE_scaled_tgvqsmjl_twopass_average_ref.nii\n",
      "Marker Precision: 1.0\n",
      "Marker Recall: 1.0\n",
      "True markers: 3\n",
      "False positive markers: 0 (0 were known calcification)\n",
      "False negative markers: 0\n",
      "Loss: 0.41650596261024475\n",
      "Loading model: models/QSM-SWI-20240406-125823-14-best.pth\n"
     ]
    },
    {
     "name": "stderr",
     "output_type": "stream",
     "text": [
      "Saved filed doesn't contain an optimizer state.\n"
     ]
    },
    {
     "name": "stdout",
     "output_type": "stream",
     "text": [
      "0/1; "
     ]
    },
    {
     "data": {
      "text/html": [
       "\n",
       "<style>\n",
       "    /* Turns off some styling */\n",
       "    progress {\n",
       "        /* gets rid of default border in Firefox and Opera. */\n",
       "        border: none;\n",
       "        /* Needs to be in here for Safari polyfill so background images work as expected. */\n",
       "        background-size: auto;\n",
       "    }\n",
       "    progress:not([value]), progress:not([value])::-webkit-progress-bar {\n",
       "        background: repeating-linear-gradient(45deg, #7e7e7e, #7e7e7e 10px, #5c5c5c 10px, #5c5c5c 20px);\n",
       "    }\n",
       "    .progress-bar-interrupted, .progress-bar-interrupted::-webkit-progress-bar {\n",
       "        background: #F44336;\n",
       "    }\n",
       "</style>\n"
      ],
      "text/plain": [
       "<IPython.core.display.HTML object>"
      ]
     },
     "metadata": {},
     "output_type": "display_data"
    },
    {
     "data": {
      "text/html": [],
      "text/plain": [
       "<IPython.core.display.HTML object>"
      ]
     },
     "metadata": {},
     "output_type": "display_data"
    },
    {
     "name": "stderr",
     "output_type": "stream",
     "text": [
      "Mean of empty slice\n"
     ]
    },
    {
     "name": "stdout",
     "output_type": "stream",
     "text": [
      "Input file: out/qsm/sub-z0347933_ses-20240129_acq-wipiswifl3dvibetrythisone_run-01_echo-01_part-phase_MEGRE_scaled_tgvqsmjl_twopass_average_ref.nii\n",
      "Marker Precision: 1.0\n",
      "Marker Recall: 1.0\n",
      "True markers: 3\n",
      "False positive markers: 0 (0 were known calcification)\n",
      "False negative markers: 0\n",
      "Loss: 0.39423438906669617\n",
      "Loading model: models/QSM-SWI-20240406-131143-15-best.pth\n"
     ]
    },
    {
     "name": "stderr",
     "output_type": "stream",
     "text": [
      "Saved filed doesn't contain an optimizer state.\n"
     ]
    },
    {
     "name": "stdout",
     "output_type": "stream",
     "text": [
      "0/1; "
     ]
    },
    {
     "data": {
      "text/html": [
       "\n",
       "<style>\n",
       "    /* Turns off some styling */\n",
       "    progress {\n",
       "        /* gets rid of default border in Firefox and Opera. */\n",
       "        border: none;\n",
       "        /* Needs to be in here for Safari polyfill so background images work as expected. */\n",
       "        background-size: auto;\n",
       "    }\n",
       "    progress:not([value]), progress:not([value])::-webkit-progress-bar {\n",
       "        background: repeating-linear-gradient(45deg, #7e7e7e, #7e7e7e 10px, #5c5c5c 10px, #5c5c5c 20px);\n",
       "    }\n",
       "    .progress-bar-interrupted, .progress-bar-interrupted::-webkit-progress-bar {\n",
       "        background: #F44336;\n",
       "    }\n",
       "</style>\n"
      ],
      "text/plain": [
       "<IPython.core.display.HTML object>"
      ]
     },
     "metadata": {},
     "output_type": "display_data"
    },
    {
     "data": {
      "text/html": [],
      "text/plain": [
       "<IPython.core.display.HTML object>"
      ]
     },
     "metadata": {},
     "output_type": "display_data"
    },
    {
     "name": "stdout",
     "output_type": "stream",
     "text": [
      "Input file: out/qsm/sub-z3145629_ses-20231204_acq-wipiswifl3dvibetrythisone_run-01_echo-01_part-phase_MEGRE_scaled_tgvqsmjl_twopass_average_ref.nii\n",
      "Marker Precision: 1.0\n",
      "Marker Recall: 1.0\n",
      "True markers: 3\n",
      "False positive markers: 0 (0 were known calcification)\n",
      "False negative markers: 0\n",
      "Loss: 0.46372291445732117\n",
      "Loading model: models/QSM-SWI-20240406-132153-16-best.pth\n"
     ]
    },
    {
     "name": "stderr",
     "output_type": "stream",
     "text": [
      "Saved filed doesn't contain an optimizer state.\n"
     ]
    },
    {
     "name": "stdout",
     "output_type": "stream",
     "text": [
      "0/1; "
     ]
    },
    {
     "data": {
      "text/html": [
       "\n",
       "<style>\n",
       "    /* Turns off some styling */\n",
       "    progress {\n",
       "        /* gets rid of default border in Firefox and Opera. */\n",
       "        border: none;\n",
       "        /* Needs to be in here for Safari polyfill so background images work as expected. */\n",
       "        background-size: auto;\n",
       "    }\n",
       "    progress:not([value]), progress:not([value])::-webkit-progress-bar {\n",
       "        background: repeating-linear-gradient(45deg, #7e7e7e, #7e7e7e 10px, #5c5c5c 10px, #5c5c5c 20px);\n",
       "    }\n",
       "    .progress-bar-interrupted, .progress-bar-interrupted::-webkit-progress-bar {\n",
       "        background: #F44336;\n",
       "    }\n",
       "</style>\n"
      ],
      "text/plain": [
       "<IPython.core.display.HTML object>"
      ]
     },
     "metadata": {},
     "output_type": "display_data"
    },
    {
     "data": {
      "text/html": [],
      "text/plain": [
       "<IPython.core.display.HTML object>"
      ]
     },
     "metadata": {},
     "output_type": "display_data"
    },
    {
     "name": "stderr",
     "output_type": "stream",
     "text": [
      "Mean of empty slice\n"
     ]
    },
    {
     "name": "stdout",
     "output_type": "stream",
     "text": [
      "Input file: out/qsm/sub-z2105112_ses-20231220_acq-wipiswifl3dvibetrythisone_run-01_echo-01_part-phase_MEGRE_scaled_tgvqsmjl_twopass_average_ref.nii\n",
      "Marker Precision: 1.0\n",
      "Marker Recall: 1.0\n",
      "True markers: 3\n",
      "False positive markers: 0 (0 were known calcification)\n",
      "False negative markers: 0\n",
      "Loss: 0.3880996108055115\n",
      "Loading model: models/QSM-SWI-20240406-133942-17-best.pth\n"
     ]
    },
    {
     "name": "stderr",
     "output_type": "stream",
     "text": [
      "Saved filed doesn't contain an optimizer state.\n"
     ]
    },
    {
     "name": "stdout",
     "output_type": "stream",
     "text": [
      "0/1; "
     ]
    },
    {
     "data": {
      "text/html": [
       "\n",
       "<style>\n",
       "    /* Turns off some styling */\n",
       "    progress {\n",
       "        /* gets rid of default border in Firefox and Opera. */\n",
       "        border: none;\n",
       "        /* Needs to be in here for Safari polyfill so background images work as expected. */\n",
       "        background-size: auto;\n",
       "    }\n",
       "    progress:not([value]), progress:not([value])::-webkit-progress-bar {\n",
       "        background: repeating-linear-gradient(45deg, #7e7e7e, #7e7e7e 10px, #5c5c5c 10px, #5c5c5c 20px);\n",
       "    }\n",
       "    .progress-bar-interrupted, .progress-bar-interrupted::-webkit-progress-bar {\n",
       "        background: #F44336;\n",
       "    }\n",
       "</style>\n"
      ],
      "text/plain": [
       "<IPython.core.display.HTML object>"
      ]
     },
     "metadata": {},
     "output_type": "display_data"
    },
    {
     "data": {
      "text/html": [],
      "text/plain": [
       "<IPython.core.display.HTML object>"
      ]
     },
     "metadata": {},
     "output_type": "display_data"
    },
    {
     "name": "stdout",
     "output_type": "stream",
     "text": [
      "Input file: out/qsm/sub-z3212665_ses-20240305_acq-wipiswifl3dvibetrythisone_run-01_echo-01_part-phase_MEGRE_scaled_tgvqsmjl_twopass_average_ref.nii\n",
      "Marker Precision: 1.0\n",
      "Marker Recall: 1.0\n",
      "True markers: 3\n",
      "False positive markers: 0 (0 were known calcification)\n",
      "False negative markers: 0\n",
      "Loss: 0.23218856751918793\n",
      "Loading model: models/QSM-SWI-20240406-134917-18-best.pth\n"
     ]
    },
    {
     "name": "stderr",
     "output_type": "stream",
     "text": [
      "Saved filed doesn't contain an optimizer state.\n"
     ]
    },
    {
     "name": "stdout",
     "output_type": "stream",
     "text": [
      "0/1; "
     ]
    },
    {
     "data": {
      "text/html": [
       "\n",
       "<style>\n",
       "    /* Turns off some styling */\n",
       "    progress {\n",
       "        /* gets rid of default border in Firefox and Opera. */\n",
       "        border: none;\n",
       "        /* Needs to be in here for Safari polyfill so background images work as expected. */\n",
       "        background-size: auto;\n",
       "    }\n",
       "    progress:not([value]), progress:not([value])::-webkit-progress-bar {\n",
       "        background: repeating-linear-gradient(45deg, #7e7e7e, #7e7e7e 10px, #5c5c5c 10px, #5c5c5c 20px);\n",
       "    }\n",
       "    .progress-bar-interrupted, .progress-bar-interrupted::-webkit-progress-bar {\n",
       "        background: #F44336;\n",
       "    }\n",
       "</style>\n"
      ],
      "text/plain": [
       "<IPython.core.display.HTML object>"
      ]
     },
     "metadata": {},
     "output_type": "display_data"
    },
    {
     "data": {
      "text/html": [],
      "text/plain": [
       "<IPython.core.display.HTML object>"
      ]
     },
     "metadata": {},
     "output_type": "display_data"
    },
    {
     "name": "stdout",
     "output_type": "stream",
     "text": [
      "Input file: out/qsm/sub-z2684925_ses-20240313_acq-wipiswifl3dvibetrythisone_run-01_echo-01_part-phase_MEGRE_scaled_tgvqsmjl_twopass_average_ref.nii\n",
      "Marker Precision: 1.0\n",
      "Marker Recall: 1.0\n",
      "True markers: 3\n",
      "False positive markers: 0 (0 were known calcification)\n",
      "False negative markers: 0\n",
      "Loss: 0.3261967599391937\n",
      "Loading model: models/QSM-SWI-20240406-140840-19-best.pth\n"
     ]
    },
    {
     "name": "stderr",
     "output_type": "stream",
     "text": [
      "Saved filed doesn't contain an optimizer state.\n"
     ]
    },
    {
     "name": "stdout",
     "output_type": "stream",
     "text": [
      "0/1; "
     ]
    },
    {
     "data": {
      "text/html": [
       "\n",
       "<style>\n",
       "    /* Turns off some styling */\n",
       "    progress {\n",
       "        /* gets rid of default border in Firefox and Opera. */\n",
       "        border: none;\n",
       "        /* Needs to be in here for Safari polyfill so background images work as expected. */\n",
       "        background-size: auto;\n",
       "    }\n",
       "    progress:not([value]), progress:not([value])::-webkit-progress-bar {\n",
       "        background: repeating-linear-gradient(45deg, #7e7e7e, #7e7e7e 10px, #5c5c5c 10px, #5c5c5c 20px);\n",
       "    }\n",
       "    .progress-bar-interrupted, .progress-bar-interrupted::-webkit-progress-bar {\n",
       "        background: #F44336;\n",
       "    }\n",
       "</style>\n"
      ],
      "text/plain": [
       "<IPython.core.display.HTML object>"
      ]
     },
     "metadata": {},
     "output_type": "display_data"
    },
    {
     "data": {
      "text/html": [],
      "text/plain": [
       "<IPython.core.display.HTML object>"
      ]
     },
     "metadata": {},
     "output_type": "display_data"
    },
    {
     "name": "stdout",
     "output_type": "stream",
     "text": [
      "Input file: out/qsm/sub-z4043512_ses-20240112_acq-wipiswifl3dvibetrythisone_run-01_echo-01_part-phase_MEGRE_scaled_tgvqsmjl_twopass_average_ref.nii\n",
      "Marker Precision: 1.0\n",
      "Marker Recall: 1.0\n",
      "True markers: 3\n",
      "False positive markers: 0 (0 were known calcification)\n",
      "False negative markers: 0\n",
      "Loss: 0.22890253365039825\n",
      "Loading model: models/QSM-SWI-20240406-144138-20-best.pth\n"
     ]
    },
    {
     "name": "stderr",
     "output_type": "stream",
     "text": [
      "Saved filed doesn't contain an optimizer state.\n"
     ]
    },
    {
     "name": "stdout",
     "output_type": "stream",
     "text": [
      "0/1; "
     ]
    },
    {
     "data": {
      "text/html": [
       "\n",
       "<style>\n",
       "    /* Turns off some styling */\n",
       "    progress {\n",
       "        /* gets rid of default border in Firefox and Opera. */\n",
       "        border: none;\n",
       "        /* Needs to be in here for Safari polyfill so background images work as expected. */\n",
       "        background-size: auto;\n",
       "    }\n",
       "    progress:not([value]), progress:not([value])::-webkit-progress-bar {\n",
       "        background: repeating-linear-gradient(45deg, #7e7e7e, #7e7e7e 10px, #5c5c5c 10px, #5c5c5c 20px);\n",
       "    }\n",
       "    .progress-bar-interrupted, .progress-bar-interrupted::-webkit-progress-bar {\n",
       "        background: #F44336;\n",
       "    }\n",
       "</style>\n"
      ],
      "text/plain": [
       "<IPython.core.display.HTML object>"
      ]
     },
     "metadata": {},
     "output_type": "display_data"
    },
    {
     "data": {
      "text/html": [],
      "text/plain": [
       "<IPython.core.display.HTML object>"
      ]
     },
     "metadata": {},
     "output_type": "display_data"
    },
    {
     "name": "stderr",
     "output_type": "stream",
     "text": [
      "Mean of empty slice\n"
     ]
    },
    {
     "name": "stdout",
     "output_type": "stream",
     "text": [
      "Input file: out/qsm/sub-z0747844_ses-20240304_acq-wipiswifl3dvibetrythisone_run-01_echo-01_part-phase_MEGRE_scaled_tgvqsmjl_twopass_average_ref.nii\n",
      "Marker Precision: 1.0\n",
      "Marker Recall: 0.6666666666666666\n",
      "True markers: 2\n",
      "False positive markers: 0 (0 were known calcification)\n",
      "False negative markers: 1\n",
      "Loss: 0.4469115138053894\n",
      "Loading model: models/QSM-SWI-20240406-144648-21-best.pth\n"
     ]
    },
    {
     "name": "stderr",
     "output_type": "stream",
     "text": [
      "Saved filed doesn't contain an optimizer state.\n"
     ]
    },
    {
     "name": "stdout",
     "output_type": "stream",
     "text": [
      "0/1; "
     ]
    },
    {
     "data": {
      "text/html": [
       "\n",
       "<style>\n",
       "    /* Turns off some styling */\n",
       "    progress {\n",
       "        /* gets rid of default border in Firefox and Opera. */\n",
       "        border: none;\n",
       "        /* Needs to be in here for Safari polyfill so background images work as expected. */\n",
       "        background-size: auto;\n",
       "    }\n",
       "    progress:not([value]), progress:not([value])::-webkit-progress-bar {\n",
       "        background: repeating-linear-gradient(45deg, #7e7e7e, #7e7e7e 10px, #5c5c5c 10px, #5c5c5c 20px);\n",
       "    }\n",
       "    .progress-bar-interrupted, .progress-bar-interrupted::-webkit-progress-bar {\n",
       "        background: #F44336;\n",
       "    }\n",
       "</style>\n"
      ],
      "text/plain": [
       "<IPython.core.display.HTML object>"
      ]
     },
     "metadata": {},
     "output_type": "display_data"
    },
    {
     "data": {
      "text/html": [],
      "text/plain": [
       "<IPython.core.display.HTML object>"
      ]
     },
     "metadata": {},
     "output_type": "display_data"
    },
    {
     "name": "stderr",
     "output_type": "stream",
     "text": [
      "Mean of empty slice\n"
     ]
    },
    {
     "name": "stdout",
     "output_type": "stream",
     "text": [
      "Input file: out/qsm/sub-z1421134_ses-20231205_acq-wipiswifl3dvibetrythisone_run-01_echo-01_part-phase_MEGRE_scaled_tgvqsmjl_twopass_average_ref.nii\n",
      "Marker Precision: 1.0\n",
      "Marker Recall: 1.0\n",
      "True markers: 3\n",
      "False positive markers: 0 (0 were known calcification)\n",
      "False negative markers: 0\n",
      "Loss: 0.42674338817596436\n",
      "Loading model: models/QSM-SWI-20240406-151524-22-best.pth\n"
     ]
    },
    {
     "name": "stderr",
     "output_type": "stream",
     "text": [
      "Saved filed doesn't contain an optimizer state.\n"
     ]
    },
    {
     "name": "stdout",
     "output_type": "stream",
     "text": [
      "0/1; "
     ]
    },
    {
     "data": {
      "text/html": [
       "\n",
       "<style>\n",
       "    /* Turns off some styling */\n",
       "    progress {\n",
       "        /* gets rid of default border in Firefox and Opera. */\n",
       "        border: none;\n",
       "        /* Needs to be in here for Safari polyfill so background images work as expected. */\n",
       "        background-size: auto;\n",
       "    }\n",
       "    progress:not([value]), progress:not([value])::-webkit-progress-bar {\n",
       "        background: repeating-linear-gradient(45deg, #7e7e7e, #7e7e7e 10px, #5c5c5c 10px, #5c5c5c 20px);\n",
       "    }\n",
       "    .progress-bar-interrupted, .progress-bar-interrupted::-webkit-progress-bar {\n",
       "        background: #F44336;\n",
       "    }\n",
       "</style>\n"
      ],
      "text/plain": [
       "<IPython.core.display.HTML object>"
      ]
     },
     "metadata": {},
     "output_type": "display_data"
    },
    {
     "data": {
      "text/html": [],
      "text/plain": [
       "<IPython.core.display.HTML object>"
      ]
     },
     "metadata": {},
     "output_type": "display_data"
    },
    {
     "name": "stderr",
     "output_type": "stream",
     "text": [
      "Mean of empty slice\n"
     ]
    },
    {
     "name": "stdout",
     "output_type": "stream",
     "text": [
      "Input file: out/qsm/sub-z1638396_ses-20240311_acq-wipiswifl3dvibetrythisone_run-01_echo-01_part-phase_MEGRE_scaled_tgvqsmjl_twopass_average_ref.nii\n",
      "Marker Precision: 1.0\n",
      "Marker Recall: 1.0\n",
      "True markers: 3\n",
      "False positive markers: 0 (0 were known calcification)\n",
      "False negative markers: 0\n",
      "Loss: 0.4279640018939972\n",
      "Loading model: models/QSM-SWI-20240406-151914-23-best.pth\n"
     ]
    },
    {
     "name": "stderr",
     "output_type": "stream",
     "text": [
      "Saved filed doesn't contain an optimizer state.\n"
     ]
    },
    {
     "name": "stdout",
     "output_type": "stream",
     "text": [
      "0/1; "
     ]
    },
    {
     "data": {
      "text/html": [
       "\n",
       "<style>\n",
       "    /* Turns off some styling */\n",
       "    progress {\n",
       "        /* gets rid of default border in Firefox and Opera. */\n",
       "        border: none;\n",
       "        /* Needs to be in here for Safari polyfill so background images work as expected. */\n",
       "        background-size: auto;\n",
       "    }\n",
       "    progress:not([value]), progress:not([value])::-webkit-progress-bar {\n",
       "        background: repeating-linear-gradient(45deg, #7e7e7e, #7e7e7e 10px, #5c5c5c 10px, #5c5c5c 20px);\n",
       "    }\n",
       "    .progress-bar-interrupted, .progress-bar-interrupted::-webkit-progress-bar {\n",
       "        background: #F44336;\n",
       "    }\n",
       "</style>\n"
      ],
      "text/plain": [
       "<IPython.core.display.HTML object>"
      ]
     },
     "metadata": {},
     "output_type": "display_data"
    },
    {
     "data": {
      "text/html": [],
      "text/plain": [
       "<IPython.core.display.HTML object>"
      ]
     },
     "metadata": {},
     "output_type": "display_data"
    },
    {
     "name": "stderr",
     "output_type": "stream",
     "text": [
      "Mean of empty slice\n"
     ]
    },
    {
     "name": "stdout",
     "output_type": "stream",
     "text": [
      "Input file: out/qsm/sub-z2996397_ses-20231201_acq-wipiswifl3dvibetrythisone_run-01_echo-01_part-phase_MEGRE_scaled_tgvqsmjl_twopass_average_ref.nii\n",
      "Marker Precision: 1.0\n",
      "Marker Recall: 1.0\n",
      "True markers: 3\n",
      "False positive markers: 0 (0 were known calcification)\n",
      "False negative markers: 0\n",
      "Loss: 0.3841499090194702\n",
      "Loading model: models/QSM-SWI-20240406-151946-24-best.pth\n"
     ]
    },
    {
     "name": "stderr",
     "output_type": "stream",
     "text": [
      "Saved filed doesn't contain an optimizer state.\n"
     ]
    },
    {
     "name": "stdout",
     "output_type": "stream",
     "text": [
      "0/1; "
     ]
    },
    {
     "data": {
      "text/html": [
       "\n",
       "<style>\n",
       "    /* Turns off some styling */\n",
       "    progress {\n",
       "        /* gets rid of default border in Firefox and Opera. */\n",
       "        border: none;\n",
       "        /* Needs to be in here for Safari polyfill so background images work as expected. */\n",
       "        background-size: auto;\n",
       "    }\n",
       "    progress:not([value]), progress:not([value])::-webkit-progress-bar {\n",
       "        background: repeating-linear-gradient(45deg, #7e7e7e, #7e7e7e 10px, #5c5c5c 10px, #5c5c5c 20px);\n",
       "    }\n",
       "    .progress-bar-interrupted, .progress-bar-interrupted::-webkit-progress-bar {\n",
       "        background: #F44336;\n",
       "    }\n",
       "</style>\n"
      ],
      "text/plain": [
       "<IPython.core.display.HTML object>"
      ]
     },
     "metadata": {},
     "output_type": "display_data"
    },
    {
     "data": {
      "text/html": [],
      "text/plain": [
       "<IPython.core.display.HTML object>"
      ]
     },
     "metadata": {},
     "output_type": "display_data"
    },
    {
     "name": "stdout",
     "output_type": "stream",
     "text": [
      "Input file: out/qsm/sub-z0742379_ses-20240124_acq-wipiswifl3dvibetrythisone_run-01_echo-01_part-phase_MEGRE_scaled_tgvqsmjl_twopass_average_ref.nii\n",
      "Marker Precision: 0.6666666666666666\n",
      "Marker Recall: 0.6666666666666666\n",
      "True markers: 2\n",
      "False positive markers: 1 (0 were known calcification)\n",
      "False negative markers: 1\n",
      "Loss: 0.4942237138748169\n",
      "=== QSM-T1-R2s ===\n",
      "infile_cols: ['qsm_files', 't1_files', 'r2s_files']; n_input_channels: 3\n",
      "Loading model: models/QSM-T1-R2s-20240405-200745-0-best.pth\n"
     ]
    },
    {
     "name": "stderr",
     "output_type": "stream",
     "text": [
      "Saved filed doesn't contain an optimizer state.\n"
     ]
    },
    {
     "name": "stdout",
     "output_type": "stream",
     "text": [
      "0/1; "
     ]
    },
    {
     "data": {
      "text/html": [
       "\n",
       "<style>\n",
       "    /* Turns off some styling */\n",
       "    progress {\n",
       "        /* gets rid of default border in Firefox and Opera. */\n",
       "        border: none;\n",
       "        /* Needs to be in here for Safari polyfill so background images work as expected. */\n",
       "        background-size: auto;\n",
       "    }\n",
       "    progress:not([value]), progress:not([value])::-webkit-progress-bar {\n",
       "        background: repeating-linear-gradient(45deg, #7e7e7e, #7e7e7e 10px, #5c5c5c 10px, #5c5c5c 20px);\n",
       "    }\n",
       "    .progress-bar-interrupted, .progress-bar-interrupted::-webkit-progress-bar {\n",
       "        background: #F44336;\n",
       "    }\n",
       "</style>\n"
      ],
      "text/plain": [
       "<IPython.core.display.HTML object>"
      ]
     },
     "metadata": {},
     "output_type": "display_data"
    },
    {
     "data": {
      "text/html": [],
      "text/plain": [
       "<IPython.core.display.HTML object>"
      ]
     },
     "metadata": {},
     "output_type": "display_data"
    },
    {
     "name": "stdout",
     "output_type": "stream",
     "text": [
      "Input file: out/qsm/sub-z1318033_ses-20230825_acq-wipiswifl3dvibetrythisone_run-01_echo-01_part-phase_MEGRE_scaled_tgvqsmjl_twopass_average_ref.nii\n",
      "Marker Precision: 1.0\n",
      "Marker Recall: 1.0\n",
      "True markers: 3\n",
      "False positive markers: 0 (0 were known calcification)\n",
      "False negative markers: 0\n",
      "Loss: 0.4158538579940796\n",
      "Loading model: models/QSM-T1-R2s-20240405-203754-1-best.pth\n"
     ]
    },
    {
     "name": "stderr",
     "output_type": "stream",
     "text": [
      "Saved filed doesn't contain an optimizer state.\n"
     ]
    },
    {
     "name": "stdout",
     "output_type": "stream",
     "text": [
      "0/1; "
     ]
    },
    {
     "data": {
      "text/html": [
       "\n",
       "<style>\n",
       "    /* Turns off some styling */\n",
       "    progress {\n",
       "        /* gets rid of default border in Firefox and Opera. */\n",
       "        border: none;\n",
       "        /* Needs to be in here for Safari polyfill so background images work as expected. */\n",
       "        background-size: auto;\n",
       "    }\n",
       "    progress:not([value]), progress:not([value])::-webkit-progress-bar {\n",
       "        background: repeating-linear-gradient(45deg, #7e7e7e, #7e7e7e 10px, #5c5c5c 10px, #5c5c5c 20px);\n",
       "    }\n",
       "    .progress-bar-interrupted, .progress-bar-interrupted::-webkit-progress-bar {\n",
       "        background: #F44336;\n",
       "    }\n",
       "</style>\n"
      ],
      "text/plain": [
       "<IPython.core.display.HTML object>"
      ]
     },
     "metadata": {},
     "output_type": "display_data"
    },
    {
     "data": {
      "text/html": [],
      "text/plain": [
       "<IPython.core.display.HTML object>"
      ]
     },
     "metadata": {},
     "output_type": "display_data"
    },
    {
     "name": "stderr",
     "output_type": "stream",
     "text": [
      "Mean of empty slice\n"
     ]
    },
    {
     "name": "stdout",
     "output_type": "stream",
     "text": [
      "Input file: out/qsm/sub-z1691325_ses-20240227_acq-wipiswifl3dvibetrythisone_run-01_echo-01_part-phase_MEGRE_scaled_tgvqsmjl_twopass_average_ref.nii\n",
      "Marker Precision: 1.0\n",
      "Marker Recall: 1.0\n",
      "True markers: 3\n",
      "False positive markers: 0 (0 were known calcification)\n",
      "False negative markers: 0\n",
      "Loss: 0.4170067012310028\n",
      "Loading model: models/QSM-T1-R2s-20240405-204000-2-best.pth\n"
     ]
    },
    {
     "name": "stderr",
     "output_type": "stream",
     "text": [
      "Saved filed doesn't contain an optimizer state.\n"
     ]
    },
    {
     "name": "stdout",
     "output_type": "stream",
     "text": [
      "0/1; "
     ]
    },
    {
     "data": {
      "text/html": [
       "\n",
       "<style>\n",
       "    /* Turns off some styling */\n",
       "    progress {\n",
       "        /* gets rid of default border in Firefox and Opera. */\n",
       "        border: none;\n",
       "        /* Needs to be in here for Safari polyfill so background images work as expected. */\n",
       "        background-size: auto;\n",
       "    }\n",
       "    progress:not([value]), progress:not([value])::-webkit-progress-bar {\n",
       "        background: repeating-linear-gradient(45deg, #7e7e7e, #7e7e7e 10px, #5c5c5c 10px, #5c5c5c 20px);\n",
       "    }\n",
       "    .progress-bar-interrupted, .progress-bar-interrupted::-webkit-progress-bar {\n",
       "        background: #F44336;\n",
       "    }\n",
       "</style>\n"
      ],
      "text/plain": [
       "<IPython.core.display.HTML object>"
      ]
     },
     "metadata": {},
     "output_type": "display_data"
    },
    {
     "data": {
      "text/html": [],
      "text/plain": [
       "<IPython.core.display.HTML object>"
      ]
     },
     "metadata": {},
     "output_type": "display_data"
    },
    {
     "name": "stdout",
     "output_type": "stream",
     "text": [
      "Input file: out/qsm/sub-z0002292_ses-20240318_acq-wipiswifl3dvibetrythisone_run-01_echo-01_part-phase_MEGRE_scaled_tgvqsmjl_twopass_average_ref.nii\n",
      "Marker Precision: 1.0\n",
      "Marker Recall: 1.0\n",
      "True markers: 3\n",
      "False positive markers: 0 (0 were known calcification)\n",
      "False negative markers: 0\n",
      "Loss: 0.3118132948875427\n",
      "Loading model: models/QSM-T1-R2s-20240405-204920-3-best.pth\n"
     ]
    },
    {
     "name": "stderr",
     "output_type": "stream",
     "text": [
      "Saved filed doesn't contain an optimizer state.\n"
     ]
    },
    {
     "name": "stdout",
     "output_type": "stream",
     "text": [
      "0/1; "
     ]
    },
    {
     "data": {
      "text/html": [
       "\n",
       "<style>\n",
       "    /* Turns off some styling */\n",
       "    progress {\n",
       "        /* gets rid of default border in Firefox and Opera. */\n",
       "        border: none;\n",
       "        /* Needs to be in here for Safari polyfill so background images work as expected. */\n",
       "        background-size: auto;\n",
       "    }\n",
       "    progress:not([value]), progress:not([value])::-webkit-progress-bar {\n",
       "        background: repeating-linear-gradient(45deg, #7e7e7e, #7e7e7e 10px, #5c5c5c 10px, #5c5c5c 20px);\n",
       "    }\n",
       "    .progress-bar-interrupted, .progress-bar-interrupted::-webkit-progress-bar {\n",
       "        background: #F44336;\n",
       "    }\n",
       "</style>\n"
      ],
      "text/plain": [
       "<IPython.core.display.HTML object>"
      ]
     },
     "metadata": {},
     "output_type": "display_data"
    },
    {
     "data": {
      "text/html": [],
      "text/plain": [
       "<IPython.core.display.HTML object>"
      ]
     },
     "metadata": {},
     "output_type": "display_data"
    },
    {
     "name": "stdout",
     "output_type": "stream",
     "text": [
      "Input file: out/qsm/sub-z3268423_ses-20240109_acq-wipiswifl3dvibetrythisone_run-01_echo-01_part-phase_MEGRE_scaled_tgvqsmjl_twopass_average_ref.nii\n",
      "Marker Precision: 1.0\n",
      "Marker Recall: 1.0\n",
      "True markers: 3\n",
      "False positive markers: 0 (0 were known calcification)\n",
      "False negative markers: 0\n",
      "Loss: 0.3784339129924774\n",
      "Loading model: models/QSM-T1-R2s-20240405-212344-4-best.pth\n"
     ]
    },
    {
     "name": "stderr",
     "output_type": "stream",
     "text": [
      "Saved filed doesn't contain an optimizer state.\n"
     ]
    },
    {
     "name": "stdout",
     "output_type": "stream",
     "text": [
      "0/1; "
     ]
    },
    {
     "data": {
      "text/html": [
       "\n",
       "<style>\n",
       "    /* Turns off some styling */\n",
       "    progress {\n",
       "        /* gets rid of default border in Firefox and Opera. */\n",
       "        border: none;\n",
       "        /* Needs to be in here for Safari polyfill so background images work as expected. */\n",
       "        background-size: auto;\n",
       "    }\n",
       "    progress:not([value]), progress:not([value])::-webkit-progress-bar {\n",
       "        background: repeating-linear-gradient(45deg, #7e7e7e, #7e7e7e 10px, #5c5c5c 10px, #5c5c5c 20px);\n",
       "    }\n",
       "    .progress-bar-interrupted, .progress-bar-interrupted::-webkit-progress-bar {\n",
       "        background: #F44336;\n",
       "    }\n",
       "</style>\n"
      ],
      "text/plain": [
       "<IPython.core.display.HTML object>"
      ]
     },
     "metadata": {},
     "output_type": "display_data"
    },
    {
     "data": {
      "text/html": [],
      "text/plain": [
       "<IPython.core.display.HTML object>"
      ]
     },
     "metadata": {},
     "output_type": "display_data"
    },
    {
     "name": "stdout",
     "output_type": "stream",
     "text": [
      "Input file: out/qsm/sub-z1448271_ses-20231110_acq-wipiswifl3dvibetrythisone_run-01_echo-01_part-phase_MEGRE_scaled_tgvqsmjl_twopass_average_ref.nii\n",
      "Marker Precision: 0.6666666666666666\n",
      "Marker Recall: 0.6666666666666666\n",
      "True markers: 2\n",
      "False positive markers: 1 (0 were known calcification)\n",
      "False negative markers: 1\n",
      "Loss: 0.4509694576263428\n",
      "Loading model: models/QSM-T1-R2s-20240405-212905-5-best.pth\n"
     ]
    },
    {
     "name": "stderr",
     "output_type": "stream",
     "text": [
      "Saved filed doesn't contain an optimizer state.\n"
     ]
    },
    {
     "name": "stdout",
     "output_type": "stream",
     "text": [
      "0/1; "
     ]
    },
    {
     "data": {
      "text/html": [
       "\n",
       "<style>\n",
       "    /* Turns off some styling */\n",
       "    progress {\n",
       "        /* gets rid of default border in Firefox and Opera. */\n",
       "        border: none;\n",
       "        /* Needs to be in here for Safari polyfill so background images work as expected. */\n",
       "        background-size: auto;\n",
       "    }\n",
       "    progress:not([value]), progress:not([value])::-webkit-progress-bar {\n",
       "        background: repeating-linear-gradient(45deg, #7e7e7e, #7e7e7e 10px, #5c5c5c 10px, #5c5c5c 20px);\n",
       "    }\n",
       "    .progress-bar-interrupted, .progress-bar-interrupted::-webkit-progress-bar {\n",
       "        background: #F44336;\n",
       "    }\n",
       "</style>\n"
      ],
      "text/plain": [
       "<IPython.core.display.HTML object>"
      ]
     },
     "metadata": {},
     "output_type": "display_data"
    },
    {
     "data": {
      "text/html": [],
      "text/plain": [
       "<IPython.core.display.HTML object>"
      ]
     },
     "metadata": {},
     "output_type": "display_data"
    },
    {
     "name": "stderr",
     "output_type": "stream",
     "text": [
      "Mean of empty slice\n"
     ]
    },
    {
     "name": "stdout",
     "output_type": "stream",
     "text": [
      "Input file: out/qsm/sub-z1384048_ses-20231108_acq-wipiswifl3dvibetrythisone_run-01_echo-01_part-phase_MEGRE_scaled_tgvqsmjl_twopass_average_ref.nii\n",
      "Marker Precision: 1.0\n",
      "Marker Recall: 1.0\n",
      "True markers: 3\n",
      "False positive markers: 0 (0 were known calcification)\n",
      "False negative markers: 0\n",
      "Loss: 0.362895667552948\n",
      "Loading model: models/QSM-T1-R2s-20240405-213415-6-best.pth\n"
     ]
    },
    {
     "name": "stderr",
     "output_type": "stream",
     "text": [
      "Saved filed doesn't contain an optimizer state.\n"
     ]
    },
    {
     "name": "stdout",
     "output_type": "stream",
     "text": [
      "0/1; "
     ]
    },
    {
     "data": {
      "text/html": [
       "\n",
       "<style>\n",
       "    /* Turns off some styling */\n",
       "    progress {\n",
       "        /* gets rid of default border in Firefox and Opera. */\n",
       "        border: none;\n",
       "        /* Needs to be in here for Safari polyfill so background images work as expected. */\n",
       "        background-size: auto;\n",
       "    }\n",
       "    progress:not([value]), progress:not([value])::-webkit-progress-bar {\n",
       "        background: repeating-linear-gradient(45deg, #7e7e7e, #7e7e7e 10px, #5c5c5c 10px, #5c5c5c 20px);\n",
       "    }\n",
       "    .progress-bar-interrupted, .progress-bar-interrupted::-webkit-progress-bar {\n",
       "        background: #F44336;\n",
       "    }\n",
       "</style>\n"
      ],
      "text/plain": [
       "<IPython.core.display.HTML object>"
      ]
     },
     "metadata": {},
     "output_type": "display_data"
    },
    {
     "data": {
      "text/html": [],
      "text/plain": [
       "<IPython.core.display.HTML object>"
      ]
     },
     "metadata": {},
     "output_type": "display_data"
    },
    {
     "name": "stderr",
     "output_type": "stream",
     "text": [
      "Mean of empty slice\n"
     ]
    },
    {
     "name": "stdout",
     "output_type": "stream",
     "text": [
      "Input file: out/qsm/sub-z1635498_ses-20240305_acq-wipiswifl3dvibetrythisone_run-01_echo-01_part-phase_MEGRE_scaled_tgvqsmjl_twopass_average_ref.nii\n",
      "Marker Precision: 1.0\n",
      "Marker Recall: 1.0\n",
      "True markers: 3\n",
      "False positive markers: 0 (0 were known calcification)\n",
      "False negative markers: 0\n",
      "Loss: 0.3783106505870819\n",
      "Loading model: models/QSM-T1-R2s-20240405-221145-7-best.pth\n"
     ]
    },
    {
     "name": "stderr",
     "output_type": "stream",
     "text": [
      "Saved filed doesn't contain an optimizer state.\n"
     ]
    },
    {
     "name": "stdout",
     "output_type": "stream",
     "text": [
      "0/1; "
     ]
    },
    {
     "data": {
      "text/html": [
       "\n",
       "<style>\n",
       "    /* Turns off some styling */\n",
       "    progress {\n",
       "        /* gets rid of default border in Firefox and Opera. */\n",
       "        border: none;\n",
       "        /* Needs to be in here for Safari polyfill so background images work as expected. */\n",
       "        background-size: auto;\n",
       "    }\n",
       "    progress:not([value]), progress:not([value])::-webkit-progress-bar {\n",
       "        background: repeating-linear-gradient(45deg, #7e7e7e, #7e7e7e 10px, #5c5c5c 10px, #5c5c5c 20px);\n",
       "    }\n",
       "    .progress-bar-interrupted, .progress-bar-interrupted::-webkit-progress-bar {\n",
       "        background: #F44336;\n",
       "    }\n",
       "</style>\n"
      ],
      "text/plain": [
       "<IPython.core.display.HTML object>"
      ]
     },
     "metadata": {},
     "output_type": "display_data"
    },
    {
     "data": {
      "text/html": [],
      "text/plain": [
       "<IPython.core.display.HTML object>"
      ]
     },
     "metadata": {},
     "output_type": "display_data"
    },
    {
     "name": "stderr",
     "output_type": "stream",
     "text": [
      "Mean of empty slice\n"
     ]
    },
    {
     "name": "stdout",
     "output_type": "stream",
     "text": [
      "Input file: out/qsm/sub-z0163277_ses-20240123_acq-wipiswifl3dvibetrythisone_run-01_echo-01_part-phase_MEGRE_scaled_tgvqsmjl_twopass_average_ref.nii\n",
      "Marker Precision: 1.0\n",
      "Marker Recall: 1.0\n",
      "True markers: 3\n",
      "False positive markers: 0 (0 were known calcification)\n",
      "False negative markers: 0\n",
      "Loss: 0.3975670635700226\n",
      "Loading model: models/QSM-T1-R2s-20240405-223423-8-best.pth\n"
     ]
    },
    {
     "name": "stderr",
     "output_type": "stream",
     "text": [
      "Saved filed doesn't contain an optimizer state.\n"
     ]
    },
    {
     "name": "stdout",
     "output_type": "stream",
     "text": [
      "0/1; "
     ]
    },
    {
     "data": {
      "text/html": [
       "\n",
       "<style>\n",
       "    /* Turns off some styling */\n",
       "    progress {\n",
       "        /* gets rid of default border in Firefox and Opera. */\n",
       "        border: none;\n",
       "        /* Needs to be in here for Safari polyfill so background images work as expected. */\n",
       "        background-size: auto;\n",
       "    }\n",
       "    progress:not([value]), progress:not([value])::-webkit-progress-bar {\n",
       "        background: repeating-linear-gradient(45deg, #7e7e7e, #7e7e7e 10px, #5c5c5c 10px, #5c5c5c 20px);\n",
       "    }\n",
       "    .progress-bar-interrupted, .progress-bar-interrupted::-webkit-progress-bar {\n",
       "        background: #F44336;\n",
       "    }\n",
       "</style>\n"
      ],
      "text/plain": [
       "<IPython.core.display.HTML object>"
      ]
     },
     "metadata": {},
     "output_type": "display_data"
    },
    {
     "data": {
      "text/html": [],
      "text/plain": [
       "<IPython.core.display.HTML object>"
      ]
     },
     "metadata": {},
     "output_type": "display_data"
    },
    {
     "name": "stderr",
     "output_type": "stream",
     "text": [
      "Mean of empty slice\n"
     ]
    },
    {
     "name": "stdout",
     "output_type": "stream",
     "text": [
      "Input file: out/qsm/sub-z3220308_ses-20231009_acq-wipiswifl3dvibetrythisone_run-01_echo-01_part-phase_MEGRE_scaled_tgvqsmjl_twopass_average_ref.nii\n",
      "Marker Precision: 1.0\n",
      "Marker Recall: 1.0\n",
      "True markers: 3\n",
      "False positive markers: 0 (0 were known calcification)\n",
      "False negative markers: 0\n",
      "Loss: 0.42195966839790344\n",
      "Loading model: models/QSM-T1-R2s-20240405-223429-9-best.pth\n"
     ]
    },
    {
     "name": "stderr",
     "output_type": "stream",
     "text": [
      "Saved filed doesn't contain an optimizer state.\n"
     ]
    },
    {
     "name": "stdout",
     "output_type": "stream",
     "text": [
      "0/1; "
     ]
    },
    {
     "data": {
      "text/html": [
       "\n",
       "<style>\n",
       "    /* Turns off some styling */\n",
       "    progress {\n",
       "        /* gets rid of default border in Firefox and Opera. */\n",
       "        border: none;\n",
       "        /* Needs to be in here for Safari polyfill so background images work as expected. */\n",
       "        background-size: auto;\n",
       "    }\n",
       "    progress:not([value]), progress:not([value])::-webkit-progress-bar {\n",
       "        background: repeating-linear-gradient(45deg, #7e7e7e, #7e7e7e 10px, #5c5c5c 10px, #5c5c5c 20px);\n",
       "    }\n",
       "    .progress-bar-interrupted, .progress-bar-interrupted::-webkit-progress-bar {\n",
       "        background: #F44336;\n",
       "    }\n",
       "</style>\n"
      ],
      "text/plain": [
       "<IPython.core.display.HTML object>"
      ]
     },
     "metadata": {},
     "output_type": "display_data"
    },
    {
     "data": {
      "text/html": [],
      "text/plain": [
       "<IPython.core.display.HTML object>"
      ]
     },
     "metadata": {},
     "output_type": "display_data"
    },
    {
     "name": "stdout",
     "output_type": "stream",
     "text": [
      "Input file: out/qsm/sub-z0381949_ses-20231005_acq-wipiswifl3dvibetrythisone_run-01_echo-01_part-phase_MEGRE_scaled_tgvqsmjl_twopass_average_ref.nii\n",
      "Marker Precision: 1.0\n",
      "Marker Recall: 1.0\n",
      "True markers: 3\n",
      "False positive markers: 0 (0 were known calcification)\n",
      "False negative markers: 0\n",
      "Loss: 0.30159997940063477\n",
      "Loading model: models/QSM-T1-R2s-20240405-230532-10-best.pth\n"
     ]
    },
    {
     "name": "stderr",
     "output_type": "stream",
     "text": [
      "Saved filed doesn't contain an optimizer state.\n"
     ]
    },
    {
     "name": "stdout",
     "output_type": "stream",
     "text": [
      "0/1; "
     ]
    },
    {
     "data": {
      "text/html": [
       "\n",
       "<style>\n",
       "    /* Turns off some styling */\n",
       "    progress {\n",
       "        /* gets rid of default border in Firefox and Opera. */\n",
       "        border: none;\n",
       "        /* Needs to be in here for Safari polyfill so background images work as expected. */\n",
       "        background-size: auto;\n",
       "    }\n",
       "    progress:not([value]), progress:not([value])::-webkit-progress-bar {\n",
       "        background: repeating-linear-gradient(45deg, #7e7e7e, #7e7e7e 10px, #5c5c5c 10px, #5c5c5c 20px);\n",
       "    }\n",
       "    .progress-bar-interrupted, .progress-bar-interrupted::-webkit-progress-bar {\n",
       "        background: #F44336;\n",
       "    }\n",
       "</style>\n"
      ],
      "text/plain": [
       "<IPython.core.display.HTML object>"
      ]
     },
     "metadata": {},
     "output_type": "display_data"
    },
    {
     "data": {
      "text/html": [],
      "text/plain": [
       "<IPython.core.display.HTML object>"
      ]
     },
     "metadata": {},
     "output_type": "display_data"
    },
    {
     "name": "stderr",
     "output_type": "stream",
     "text": [
      "Mean of empty slice\n"
     ]
    },
    {
     "name": "stdout",
     "output_type": "stream",
     "text": [
      "Input file: out/qsm/sub-z0206923_ses-20231003_acq-wipiswifl3dvibetrythisone_run-01_echo-01_part-phase_MEGRE_scaled_tgvqsmjl_twopass_average_ref.nii\n",
      "Marker Precision: 1.0\n",
      "Marker Recall: 1.0\n",
      "True markers: 3\n",
      "False positive markers: 0 (0 were known calcification)\n",
      "False negative markers: 0\n",
      "Loss: 0.38418859243392944\n",
      "Loading model: models/QSM-T1-R2s-20240405-230817-11-best.pth\n"
     ]
    },
    {
     "name": "stderr",
     "output_type": "stream",
     "text": [
      "Saved filed doesn't contain an optimizer state.\n"
     ]
    },
    {
     "name": "stdout",
     "output_type": "stream",
     "text": [
      "0/1; "
     ]
    },
    {
     "data": {
      "text/html": [
       "\n",
       "<style>\n",
       "    /* Turns off some styling */\n",
       "    progress {\n",
       "        /* gets rid of default border in Firefox and Opera. */\n",
       "        border: none;\n",
       "        /* Needs to be in here for Safari polyfill so background images work as expected. */\n",
       "        background-size: auto;\n",
       "    }\n",
       "    progress:not([value]), progress:not([value])::-webkit-progress-bar {\n",
       "        background: repeating-linear-gradient(45deg, #7e7e7e, #7e7e7e 10px, #5c5c5c 10px, #5c5c5c 20px);\n",
       "    }\n",
       "    .progress-bar-interrupted, .progress-bar-interrupted::-webkit-progress-bar {\n",
       "        background: #F44336;\n",
       "    }\n",
       "</style>\n"
      ],
      "text/plain": [
       "<IPython.core.display.HTML object>"
      ]
     },
     "metadata": {},
     "output_type": "display_data"
    },
    {
     "data": {
      "text/html": [],
      "text/plain": [
       "<IPython.core.display.HTML object>"
      ]
     },
     "metadata": {},
     "output_type": "display_data"
    },
    {
     "name": "stdout",
     "output_type": "stream",
     "text": [
      "Input file: out/qsm/sub-z1484547_ses-20240102_acq-wipiswifl3dvibetrythisone_run-01_echo-01_part-phase_MEGRE_scaled_tgvqsmjl_twopass_average_ref.nii\n",
      "Marker Precision: 1.0\n",
      "Marker Recall: 1.0\n",
      "True markers: 3\n",
      "False positive markers: 0 (0 were known calcification)\n",
      "False negative markers: 0\n",
      "Loss: 0.4285174310207367\n",
      "Loading model: models/QSM-T1-R2s-20240405-234202-12-best.pth\n"
     ]
    },
    {
     "name": "stderr",
     "output_type": "stream",
     "text": [
      "Saved filed doesn't contain an optimizer state.\n"
     ]
    },
    {
     "name": "stdout",
     "output_type": "stream",
     "text": [
      "0/1; "
     ]
    },
    {
     "data": {
      "text/html": [
       "\n",
       "<style>\n",
       "    /* Turns off some styling */\n",
       "    progress {\n",
       "        /* gets rid of default border in Firefox and Opera. */\n",
       "        border: none;\n",
       "        /* Needs to be in here for Safari polyfill so background images work as expected. */\n",
       "        background-size: auto;\n",
       "    }\n",
       "    progress:not([value]), progress:not([value])::-webkit-progress-bar {\n",
       "        background: repeating-linear-gradient(45deg, #7e7e7e, #7e7e7e 10px, #5c5c5c 10px, #5c5c5c 20px);\n",
       "    }\n",
       "    .progress-bar-interrupted, .progress-bar-interrupted::-webkit-progress-bar {\n",
       "        background: #F44336;\n",
       "    }\n",
       "</style>\n"
      ],
      "text/plain": [
       "<IPython.core.display.HTML object>"
      ]
     },
     "metadata": {},
     "output_type": "display_data"
    },
    {
     "data": {
      "text/html": [],
      "text/plain": [
       "<IPython.core.display.HTML object>"
      ]
     },
     "metadata": {},
     "output_type": "display_data"
    },
    {
     "name": "stderr",
     "output_type": "stream",
     "text": [
      "Mean of empty slice\n"
     ]
    },
    {
     "name": "stdout",
     "output_type": "stream",
     "text": [
      "Input file: out/qsm/sub-z1645782_ses-20231010_acq-wipiswifl3dvibetrythisone_run-01_echo-01_part-phase_MEGRE_scaled_tgvqsmjl_twopass_average_ref.nii\n",
      "Marker Precision: 0.6666666666666666\n",
      "Marker Recall: 1.0\n",
      "True markers: 2\n",
      "False positive markers: 1 (0 were known calcification)\n",
      "False negative markers: 0\n",
      "Loss: 0.36559268832206726\n",
      "Loading model: models/QSM-T1-R2s-20240405-234653-13-best.pth\n"
     ]
    },
    {
     "name": "stderr",
     "output_type": "stream",
     "text": [
      "Saved filed doesn't contain an optimizer state.\n"
     ]
    },
    {
     "name": "stdout",
     "output_type": "stream",
     "text": [
      "0/1; "
     ]
    },
    {
     "data": {
      "text/html": [
       "\n",
       "<style>\n",
       "    /* Turns off some styling */\n",
       "    progress {\n",
       "        /* gets rid of default border in Firefox and Opera. */\n",
       "        border: none;\n",
       "        /* Needs to be in here for Safari polyfill so background images work as expected. */\n",
       "        background-size: auto;\n",
       "    }\n",
       "    progress:not([value]), progress:not([value])::-webkit-progress-bar {\n",
       "        background: repeating-linear-gradient(45deg, #7e7e7e, #7e7e7e 10px, #5c5c5c 10px, #5c5c5c 20px);\n",
       "    }\n",
       "    .progress-bar-interrupted, .progress-bar-interrupted::-webkit-progress-bar {\n",
       "        background: #F44336;\n",
       "    }\n",
       "</style>\n"
      ],
      "text/plain": [
       "<IPython.core.display.HTML object>"
      ]
     },
     "metadata": {},
     "output_type": "display_data"
    },
    {
     "data": {
      "text/html": [],
      "text/plain": [
       "<IPython.core.display.HTML object>"
      ]
     },
     "metadata": {},
     "output_type": "display_data"
    },
    {
     "name": "stdout",
     "output_type": "stream",
     "text": [
      "Input file: out/qsm/sub-z0232771_ses-20240228_acq-wipiswifl3dvibetrythisone_run-01_echo-01_part-phase_MEGRE_scaled_tgvqsmjl_twopass_average_ref.nii\n",
      "Marker Precision: 1.0\n",
      "Marker Recall: 1.0\n",
      "True markers: 3\n",
      "False positive markers: 0 (0 were known calcification)\n",
      "False negative markers: 0\n",
      "Loss: 0.43756625056266785\n",
      "Loading model: models/QSM-T1-R2s-20240405-235155-14-best.pth\n"
     ]
    },
    {
     "name": "stderr",
     "output_type": "stream",
     "text": [
      "Saved filed doesn't contain an optimizer state.\n"
     ]
    },
    {
     "name": "stdout",
     "output_type": "stream",
     "text": [
      "0/1; "
     ]
    },
    {
     "data": {
      "text/html": [
       "\n",
       "<style>\n",
       "    /* Turns off some styling */\n",
       "    progress {\n",
       "        /* gets rid of default border in Firefox and Opera. */\n",
       "        border: none;\n",
       "        /* Needs to be in here for Safari polyfill so background images work as expected. */\n",
       "        background-size: auto;\n",
       "    }\n",
       "    progress:not([value]), progress:not([value])::-webkit-progress-bar {\n",
       "        background: repeating-linear-gradient(45deg, #7e7e7e, #7e7e7e 10px, #5c5c5c 10px, #5c5c5c 20px);\n",
       "    }\n",
       "    .progress-bar-interrupted, .progress-bar-interrupted::-webkit-progress-bar {\n",
       "        background: #F44336;\n",
       "    }\n",
       "</style>\n"
      ],
      "text/plain": [
       "<IPython.core.display.HTML object>"
      ]
     },
     "metadata": {},
     "output_type": "display_data"
    },
    {
     "data": {
      "text/html": [],
      "text/plain": [
       "<IPython.core.display.HTML object>"
      ]
     },
     "metadata": {},
     "output_type": "display_data"
    },
    {
     "name": "stderr",
     "output_type": "stream",
     "text": [
      "Mean of empty slice\n"
     ]
    },
    {
     "name": "stdout",
     "output_type": "stream",
     "text": [
      "Input file: out/qsm/sub-z0347933_ses-20240129_acq-wipiswifl3dvibetrythisone_run-01_echo-01_part-phase_MEGRE_scaled_tgvqsmjl_twopass_average_ref.nii\n",
      "Marker Precision: 1.0\n",
      "Marker Recall: 1.0\n",
      "True markers: 3\n",
      "False positive markers: 0 (0 were known calcification)\n",
      "False negative markers: 0\n",
      "Loss: 0.39690110087394714\n",
      "Loading model: models/QSM-T1-R2s-20240406-002523-15-best.pth\n"
     ]
    },
    {
     "name": "stderr",
     "output_type": "stream",
     "text": [
      "Saved filed doesn't contain an optimizer state.\n"
     ]
    },
    {
     "name": "stdout",
     "output_type": "stream",
     "text": [
      "0/1; "
     ]
    },
    {
     "data": {
      "text/html": [
       "\n",
       "<style>\n",
       "    /* Turns off some styling */\n",
       "    progress {\n",
       "        /* gets rid of default border in Firefox and Opera. */\n",
       "        border: none;\n",
       "        /* Needs to be in here for Safari polyfill so background images work as expected. */\n",
       "        background-size: auto;\n",
       "    }\n",
       "    progress:not([value]), progress:not([value])::-webkit-progress-bar {\n",
       "        background: repeating-linear-gradient(45deg, #7e7e7e, #7e7e7e 10px, #5c5c5c 10px, #5c5c5c 20px);\n",
       "    }\n",
       "    .progress-bar-interrupted, .progress-bar-interrupted::-webkit-progress-bar {\n",
       "        background: #F44336;\n",
       "    }\n",
       "</style>\n"
      ],
      "text/plain": [
       "<IPython.core.display.HTML object>"
      ]
     },
     "metadata": {},
     "output_type": "display_data"
    },
    {
     "data": {
      "text/html": [],
      "text/plain": [
       "<IPython.core.display.HTML object>"
      ]
     },
     "metadata": {},
     "output_type": "display_data"
    },
    {
     "name": "stdout",
     "output_type": "stream",
     "text": [
      "Input file: out/qsm/sub-z3145629_ses-20231204_acq-wipiswifl3dvibetrythisone_run-01_echo-01_part-phase_MEGRE_scaled_tgvqsmjl_twopass_average_ref.nii\n",
      "Marker Precision: 1.0\n",
      "Marker Recall: 0.6666666666666666\n",
      "True markers: 2\n",
      "False positive markers: 0 (0 were known calcification)\n",
      "False negative markers: 1\n",
      "Loss: 0.40018463134765625\n",
      "Loading model: models/QSM-T1-R2s-20240406-002903-16-best.pth\n"
     ]
    },
    {
     "name": "stderr",
     "output_type": "stream",
     "text": [
      "Saved filed doesn't contain an optimizer state.\n"
     ]
    },
    {
     "name": "stdout",
     "output_type": "stream",
     "text": [
      "0/1; "
     ]
    },
    {
     "data": {
      "text/html": [
       "\n",
       "<style>\n",
       "    /* Turns off some styling */\n",
       "    progress {\n",
       "        /* gets rid of default border in Firefox and Opera. */\n",
       "        border: none;\n",
       "        /* Needs to be in here for Safari polyfill so background images work as expected. */\n",
       "        background-size: auto;\n",
       "    }\n",
       "    progress:not([value]), progress:not([value])::-webkit-progress-bar {\n",
       "        background: repeating-linear-gradient(45deg, #7e7e7e, #7e7e7e 10px, #5c5c5c 10px, #5c5c5c 20px);\n",
       "    }\n",
       "    .progress-bar-interrupted, .progress-bar-interrupted::-webkit-progress-bar {\n",
       "        background: #F44336;\n",
       "    }\n",
       "</style>\n"
      ],
      "text/plain": [
       "<IPython.core.display.HTML object>"
      ]
     },
     "metadata": {},
     "output_type": "display_data"
    },
    {
     "data": {
      "text/html": [],
      "text/plain": [
       "<IPython.core.display.HTML object>"
      ]
     },
     "metadata": {},
     "output_type": "display_data"
    },
    {
     "name": "stderr",
     "output_type": "stream",
     "text": [
      "Mean of empty slice\n"
     ]
    },
    {
     "name": "stdout",
     "output_type": "stream",
     "text": [
      "Input file: out/qsm/sub-z2105112_ses-20231220_acq-wipiswifl3dvibetrythisone_run-01_echo-01_part-phase_MEGRE_scaled_tgvqsmjl_twopass_average_ref.nii\n",
      "Marker Precision: 1.0\n",
      "Marker Recall: 1.0\n",
      "True markers: 3\n",
      "False positive markers: 0 (0 were known calcification)\n",
      "False negative markers: 0\n",
      "Loss: 0.38567981123924255\n",
      "Loading model: models/QSM-T1-R2s-20240406-005627-17-best.pth\n"
     ]
    },
    {
     "name": "stderr",
     "output_type": "stream",
     "text": [
      "Saved filed doesn't contain an optimizer state.\n"
     ]
    },
    {
     "name": "stdout",
     "output_type": "stream",
     "text": [
      "0/1; "
     ]
    },
    {
     "data": {
      "text/html": [
       "\n",
       "<style>\n",
       "    /* Turns off some styling */\n",
       "    progress {\n",
       "        /* gets rid of default border in Firefox and Opera. */\n",
       "        border: none;\n",
       "        /* Needs to be in here for Safari polyfill so background images work as expected. */\n",
       "        background-size: auto;\n",
       "    }\n",
       "    progress:not([value]), progress:not([value])::-webkit-progress-bar {\n",
       "        background: repeating-linear-gradient(45deg, #7e7e7e, #7e7e7e 10px, #5c5c5c 10px, #5c5c5c 20px);\n",
       "    }\n",
       "    .progress-bar-interrupted, .progress-bar-interrupted::-webkit-progress-bar {\n",
       "        background: #F44336;\n",
       "    }\n",
       "</style>\n"
      ],
      "text/plain": [
       "<IPython.core.display.HTML object>"
      ]
     },
     "metadata": {},
     "output_type": "display_data"
    },
    {
     "data": {
      "text/html": [],
      "text/plain": [
       "<IPython.core.display.HTML object>"
      ]
     },
     "metadata": {},
     "output_type": "display_data"
    },
    {
     "name": "stdout",
     "output_type": "stream",
     "text": [
      "Input file: out/qsm/sub-z3212665_ses-20240305_acq-wipiswifl3dvibetrythisone_run-01_echo-01_part-phase_MEGRE_scaled_tgvqsmjl_twopass_average_ref.nii\n",
      "Marker Precision: 1.0\n",
      "Marker Recall: 1.0\n",
      "True markers: 3\n",
      "False positive markers: 0 (0 were known calcification)\n",
      "False negative markers: 0\n",
      "Loss: 0.3423725962638855\n",
      "Loading model: models/QSM-T1-R2s-20240406-011451-18-best.pth\n"
     ]
    },
    {
     "name": "stderr",
     "output_type": "stream",
     "text": [
      "Saved filed doesn't contain an optimizer state.\n"
     ]
    },
    {
     "name": "stdout",
     "output_type": "stream",
     "text": [
      "0/1; "
     ]
    },
    {
     "data": {
      "text/html": [
       "\n",
       "<style>\n",
       "    /* Turns off some styling */\n",
       "    progress {\n",
       "        /* gets rid of default border in Firefox and Opera. */\n",
       "        border: none;\n",
       "        /* Needs to be in here for Safari polyfill so background images work as expected. */\n",
       "        background-size: auto;\n",
       "    }\n",
       "    progress:not([value]), progress:not([value])::-webkit-progress-bar {\n",
       "        background: repeating-linear-gradient(45deg, #7e7e7e, #7e7e7e 10px, #5c5c5c 10px, #5c5c5c 20px);\n",
       "    }\n",
       "    .progress-bar-interrupted, .progress-bar-interrupted::-webkit-progress-bar {\n",
       "        background: #F44336;\n",
       "    }\n",
       "</style>\n"
      ],
      "text/plain": [
       "<IPython.core.display.HTML object>"
      ]
     },
     "metadata": {},
     "output_type": "display_data"
    },
    {
     "data": {
      "text/html": [],
      "text/plain": [
       "<IPython.core.display.HTML object>"
      ]
     },
     "metadata": {},
     "output_type": "display_data"
    },
    {
     "name": "stdout",
     "output_type": "stream",
     "text": [
      "Input file: out/qsm/sub-z2684925_ses-20240313_acq-wipiswifl3dvibetrythisone_run-01_echo-01_part-phase_MEGRE_scaled_tgvqsmjl_twopass_average_ref.nii\n",
      "Marker Precision: 1.0\n",
      "Marker Recall: 1.0\n",
      "True markers: 3\n",
      "False positive markers: 0 (0 were known calcification)\n",
      "False negative markers: 0\n",
      "Loss: 0.29428523778915405\n",
      "Loading model: models/QSM-T1-R2s-20240406-012254-19-best.pth\n"
     ]
    },
    {
     "name": "stderr",
     "output_type": "stream",
     "text": [
      "Saved filed doesn't contain an optimizer state.\n"
     ]
    },
    {
     "name": "stdout",
     "output_type": "stream",
     "text": [
      "0/1; "
     ]
    },
    {
     "data": {
      "text/html": [
       "\n",
       "<style>\n",
       "    /* Turns off some styling */\n",
       "    progress {\n",
       "        /* gets rid of default border in Firefox and Opera. */\n",
       "        border: none;\n",
       "        /* Needs to be in here for Safari polyfill so background images work as expected. */\n",
       "        background-size: auto;\n",
       "    }\n",
       "    progress:not([value]), progress:not([value])::-webkit-progress-bar {\n",
       "        background: repeating-linear-gradient(45deg, #7e7e7e, #7e7e7e 10px, #5c5c5c 10px, #5c5c5c 20px);\n",
       "    }\n",
       "    .progress-bar-interrupted, .progress-bar-interrupted::-webkit-progress-bar {\n",
       "        background: #F44336;\n",
       "    }\n",
       "</style>\n"
      ],
      "text/plain": [
       "<IPython.core.display.HTML object>"
      ]
     },
     "metadata": {},
     "output_type": "display_data"
    },
    {
     "data": {
      "text/html": [],
      "text/plain": [
       "<IPython.core.display.HTML object>"
      ]
     },
     "metadata": {},
     "output_type": "display_data"
    },
    {
     "name": "stdout",
     "output_type": "stream",
     "text": [
      "Input file: out/qsm/sub-z4043512_ses-20240112_acq-wipiswifl3dvibetrythisone_run-01_echo-01_part-phase_MEGRE_scaled_tgvqsmjl_twopass_average_ref.nii\n",
      "Marker Precision: 1.0\n",
      "Marker Recall: 1.0\n",
      "True markers: 3\n",
      "False positive markers: 0 (0 were known calcification)\n",
      "False negative markers: 0\n",
      "Loss: 0.2992599308490753\n",
      "Loading model: models/QSM-T1-R2s-20240406-020730-20-best.pth\n"
     ]
    },
    {
     "name": "stderr",
     "output_type": "stream",
     "text": [
      "Saved filed doesn't contain an optimizer state.\n"
     ]
    },
    {
     "name": "stdout",
     "output_type": "stream",
     "text": [
      "0/1; "
     ]
    },
    {
     "data": {
      "text/html": [
       "\n",
       "<style>\n",
       "    /* Turns off some styling */\n",
       "    progress {\n",
       "        /* gets rid of default border in Firefox and Opera. */\n",
       "        border: none;\n",
       "        /* Needs to be in here for Safari polyfill so background images work as expected. */\n",
       "        background-size: auto;\n",
       "    }\n",
       "    progress:not([value]), progress:not([value])::-webkit-progress-bar {\n",
       "        background: repeating-linear-gradient(45deg, #7e7e7e, #7e7e7e 10px, #5c5c5c 10px, #5c5c5c 20px);\n",
       "    }\n",
       "    .progress-bar-interrupted, .progress-bar-interrupted::-webkit-progress-bar {\n",
       "        background: #F44336;\n",
       "    }\n",
       "</style>\n"
      ],
      "text/plain": [
       "<IPython.core.display.HTML object>"
      ]
     },
     "metadata": {},
     "output_type": "display_data"
    },
    {
     "data": {
      "text/html": [],
      "text/plain": [
       "<IPython.core.display.HTML object>"
      ]
     },
     "metadata": {},
     "output_type": "display_data"
    },
    {
     "name": "stderr",
     "output_type": "stream",
     "text": [
      "Mean of empty slice\n"
     ]
    },
    {
     "name": "stdout",
     "output_type": "stream",
     "text": [
      "Input file: out/qsm/sub-z0747844_ses-20240304_acq-wipiswifl3dvibetrythisone_run-01_echo-01_part-phase_MEGRE_scaled_tgvqsmjl_twopass_average_ref.nii\n",
      "Marker Precision: 1.0\n",
      "Marker Recall: 1.0\n",
      "True markers: 3\n",
      "False positive markers: 0 (0 were known calcification)\n",
      "False negative markers: 0\n",
      "Loss: 0.431304931640625\n",
      "Loading model: models/QSM-T1-R2s-20240406-021336-21-best.pth\n"
     ]
    },
    {
     "name": "stderr",
     "output_type": "stream",
     "text": [
      "Saved filed doesn't contain an optimizer state.\n"
     ]
    },
    {
     "name": "stdout",
     "output_type": "stream",
     "text": [
      "0/1; "
     ]
    },
    {
     "data": {
      "text/html": [
       "\n",
       "<style>\n",
       "    /* Turns off some styling */\n",
       "    progress {\n",
       "        /* gets rid of default border in Firefox and Opera. */\n",
       "        border: none;\n",
       "        /* Needs to be in here for Safari polyfill so background images work as expected. */\n",
       "        background-size: auto;\n",
       "    }\n",
       "    progress:not([value]), progress:not([value])::-webkit-progress-bar {\n",
       "        background: repeating-linear-gradient(45deg, #7e7e7e, #7e7e7e 10px, #5c5c5c 10px, #5c5c5c 20px);\n",
       "    }\n",
       "    .progress-bar-interrupted, .progress-bar-interrupted::-webkit-progress-bar {\n",
       "        background: #F44336;\n",
       "    }\n",
       "</style>\n"
      ],
      "text/plain": [
       "<IPython.core.display.HTML object>"
      ]
     },
     "metadata": {},
     "output_type": "display_data"
    },
    {
     "data": {
      "text/html": [],
      "text/plain": [
       "<IPython.core.display.HTML object>"
      ]
     },
     "metadata": {},
     "output_type": "display_data"
    },
    {
     "name": "stderr",
     "output_type": "stream",
     "text": [
      "Mean of empty slice\n"
     ]
    },
    {
     "name": "stdout",
     "output_type": "stream",
     "text": [
      "Input file: out/qsm/sub-z1421134_ses-20231205_acq-wipiswifl3dvibetrythisone_run-01_echo-01_part-phase_MEGRE_scaled_tgvqsmjl_twopass_average_ref.nii\n",
      "Marker Precision: 1.0\n",
      "Marker Recall: 1.0\n",
      "True markers: 3\n",
      "False positive markers: 0 (0 were known calcification)\n",
      "False negative markers: 0\n",
      "Loss: 0.4196508526802063\n",
      "Loading model: models/QSM-T1-R2s-20240406-024527-22-best.pth\n"
     ]
    },
    {
     "name": "stderr",
     "output_type": "stream",
     "text": [
      "Saved filed doesn't contain an optimizer state.\n"
     ]
    },
    {
     "name": "stdout",
     "output_type": "stream",
     "text": [
      "0/1; "
     ]
    },
    {
     "data": {
      "text/html": [
       "\n",
       "<style>\n",
       "    /* Turns off some styling */\n",
       "    progress {\n",
       "        /* gets rid of default border in Firefox and Opera. */\n",
       "        border: none;\n",
       "        /* Needs to be in here for Safari polyfill so background images work as expected. */\n",
       "        background-size: auto;\n",
       "    }\n",
       "    progress:not([value]), progress:not([value])::-webkit-progress-bar {\n",
       "        background: repeating-linear-gradient(45deg, #7e7e7e, #7e7e7e 10px, #5c5c5c 10px, #5c5c5c 20px);\n",
       "    }\n",
       "    .progress-bar-interrupted, .progress-bar-interrupted::-webkit-progress-bar {\n",
       "        background: #F44336;\n",
       "    }\n",
       "</style>\n"
      ],
      "text/plain": [
       "<IPython.core.display.HTML object>"
      ]
     },
     "metadata": {},
     "output_type": "display_data"
    },
    {
     "data": {
      "text/html": [],
      "text/plain": [
       "<IPython.core.display.HTML object>"
      ]
     },
     "metadata": {},
     "output_type": "display_data"
    },
    {
     "name": "stderr",
     "output_type": "stream",
     "text": [
      "Mean of empty slice\n"
     ]
    },
    {
     "name": "stdout",
     "output_type": "stream",
     "text": [
      "Input file: out/qsm/sub-z1638396_ses-20240311_acq-wipiswifl3dvibetrythisone_run-01_echo-01_part-phase_MEGRE_scaled_tgvqsmjl_twopass_average_ref.nii\n",
      "Marker Precision: 1.0\n",
      "Marker Recall: 1.0\n",
      "True markers: 3\n",
      "False positive markers: 0 (0 were known calcification)\n",
      "False negative markers: 0\n",
      "Loss: 0.43274471163749695\n",
      "Loading model: models/QSM-T1-R2s-20240406-030111-23-best.pth\n"
     ]
    },
    {
     "name": "stderr",
     "output_type": "stream",
     "text": [
      "Saved filed doesn't contain an optimizer state.\n"
     ]
    },
    {
     "name": "stdout",
     "output_type": "stream",
     "text": [
      "0/1; "
     ]
    },
    {
     "data": {
      "text/html": [
       "\n",
       "<style>\n",
       "    /* Turns off some styling */\n",
       "    progress {\n",
       "        /* gets rid of default border in Firefox and Opera. */\n",
       "        border: none;\n",
       "        /* Needs to be in here for Safari polyfill so background images work as expected. */\n",
       "        background-size: auto;\n",
       "    }\n",
       "    progress:not([value]), progress:not([value])::-webkit-progress-bar {\n",
       "        background: repeating-linear-gradient(45deg, #7e7e7e, #7e7e7e 10px, #5c5c5c 10px, #5c5c5c 20px);\n",
       "    }\n",
       "    .progress-bar-interrupted, .progress-bar-interrupted::-webkit-progress-bar {\n",
       "        background: #F44336;\n",
       "    }\n",
       "</style>\n"
      ],
      "text/plain": [
       "<IPython.core.display.HTML object>"
      ]
     },
     "metadata": {},
     "output_type": "display_data"
    },
    {
     "data": {
      "text/html": [],
      "text/plain": [
       "<IPython.core.display.HTML object>"
      ]
     },
     "metadata": {},
     "output_type": "display_data"
    },
    {
     "name": "stderr",
     "output_type": "stream",
     "text": [
      "Mean of empty slice\n"
     ]
    },
    {
     "name": "stdout",
     "output_type": "stream",
     "text": [
      "Input file: out/qsm/sub-z2996397_ses-20231201_acq-wipiswifl3dvibetrythisone_run-01_echo-01_part-phase_MEGRE_scaled_tgvqsmjl_twopass_average_ref.nii\n",
      "Marker Precision: 1.0\n",
      "Marker Recall: 1.0\n",
      "True markers: 3\n",
      "False positive markers: 0 (0 were known calcification)\n",
      "False negative markers: 0\n",
      "Loss: 0.4005579650402069\n",
      "Loading model: models/QSM-T1-R2s-20240406-030947-24-best.pth\n"
     ]
    },
    {
     "name": "stderr",
     "output_type": "stream",
     "text": [
      "Saved filed doesn't contain an optimizer state.\n"
     ]
    },
    {
     "name": "stdout",
     "output_type": "stream",
     "text": [
      "0/1; "
     ]
    },
    {
     "data": {
      "text/html": [
       "\n",
       "<style>\n",
       "    /* Turns off some styling */\n",
       "    progress {\n",
       "        /* gets rid of default border in Firefox and Opera. */\n",
       "        border: none;\n",
       "        /* Needs to be in here for Safari polyfill so background images work as expected. */\n",
       "        background-size: auto;\n",
       "    }\n",
       "    progress:not([value]), progress:not([value])::-webkit-progress-bar {\n",
       "        background: repeating-linear-gradient(45deg, #7e7e7e, #7e7e7e 10px, #5c5c5c 10px, #5c5c5c 20px);\n",
       "    }\n",
       "    .progress-bar-interrupted, .progress-bar-interrupted::-webkit-progress-bar {\n",
       "        background: #F44336;\n",
       "    }\n",
       "</style>\n"
      ],
      "text/plain": [
       "<IPython.core.display.HTML object>"
      ]
     },
     "metadata": {},
     "output_type": "display_data"
    },
    {
     "data": {
      "text/html": [],
      "text/plain": [
       "<IPython.core.display.HTML object>"
      ]
     },
     "metadata": {},
     "output_type": "display_data"
    },
    {
     "name": "stdout",
     "output_type": "stream",
     "text": [
      "Input file: out/qsm/sub-z0742379_ses-20240124_acq-wipiswifl3dvibetrythisone_run-01_echo-01_part-phase_MEGRE_scaled_tgvqsmjl_twopass_average_ref.nii\n",
      "Marker Precision: 1.0\n",
      "Marker Recall: 1.0\n",
      "True markers: 3\n",
      "False positive markers: 0 (0 were known calcification)\n",
      "False negative markers: 0\n",
      "Loss: 0.45163825154304504\n",
      "=== QSM-T1 ===\n",
      "infile_cols: ['qsm_files', 't1_files']; n_input_channels: 2\n",
      "Loading model: models/QSM-T1-20240406-033809-0-best.pth\n"
     ]
    },
    {
     "name": "stderr",
     "output_type": "stream",
     "text": [
      "Saved filed doesn't contain an optimizer state.\n"
     ]
    },
    {
     "name": "stdout",
     "output_type": "stream",
     "text": [
      "0/1; "
     ]
    },
    {
     "data": {
      "text/html": [
       "\n",
       "<style>\n",
       "    /* Turns off some styling */\n",
       "    progress {\n",
       "        /* gets rid of default border in Firefox and Opera. */\n",
       "        border: none;\n",
       "        /* Needs to be in here for Safari polyfill so background images work as expected. */\n",
       "        background-size: auto;\n",
       "    }\n",
       "    progress:not([value]), progress:not([value])::-webkit-progress-bar {\n",
       "        background: repeating-linear-gradient(45deg, #7e7e7e, #7e7e7e 10px, #5c5c5c 10px, #5c5c5c 20px);\n",
       "    }\n",
       "    .progress-bar-interrupted, .progress-bar-interrupted::-webkit-progress-bar {\n",
       "        background: #F44336;\n",
       "    }\n",
       "</style>\n"
      ],
      "text/plain": [
       "<IPython.core.display.HTML object>"
      ]
     },
     "metadata": {},
     "output_type": "display_data"
    },
    {
     "data": {
      "text/html": [],
      "text/plain": [
       "<IPython.core.display.HTML object>"
      ]
     },
     "metadata": {},
     "output_type": "display_data"
    },
    {
     "name": "stdout",
     "output_type": "stream",
     "text": [
      "Input file: out/qsm/sub-z1318033_ses-20230825_acq-wipiswifl3dvibetrythisone_run-01_echo-01_part-phase_MEGRE_scaled_tgvqsmjl_twopass_average_ref.nii\n",
      "Marker Precision: 1.0\n",
      "Marker Recall: 1.0\n",
      "True markers: 3\n",
      "False positive markers: 0 (0 were known calcification)\n",
      "False negative markers: 0\n",
      "Loss: 0.367511123418808\n",
      "Loading model: models/QSM-T1-20240406-034536-1-best.pth\n"
     ]
    },
    {
     "name": "stderr",
     "output_type": "stream",
     "text": [
      "Saved filed doesn't contain an optimizer state.\n"
     ]
    },
    {
     "name": "stdout",
     "output_type": "stream",
     "text": [
      "0/1; "
     ]
    },
    {
     "data": {
      "text/html": [
       "\n",
       "<style>\n",
       "    /* Turns off some styling */\n",
       "    progress {\n",
       "        /* gets rid of default border in Firefox and Opera. */\n",
       "        border: none;\n",
       "        /* Needs to be in here for Safari polyfill so background images work as expected. */\n",
       "        background-size: auto;\n",
       "    }\n",
       "    progress:not([value]), progress:not([value])::-webkit-progress-bar {\n",
       "        background: repeating-linear-gradient(45deg, #7e7e7e, #7e7e7e 10px, #5c5c5c 10px, #5c5c5c 20px);\n",
       "    }\n",
       "    .progress-bar-interrupted, .progress-bar-interrupted::-webkit-progress-bar {\n",
       "        background: #F44336;\n",
       "    }\n",
       "</style>\n"
      ],
      "text/plain": [
       "<IPython.core.display.HTML object>"
      ]
     },
     "metadata": {},
     "output_type": "display_data"
    },
    {
     "data": {
      "text/html": [],
      "text/plain": [
       "<IPython.core.display.HTML object>"
      ]
     },
     "metadata": {},
     "output_type": "display_data"
    },
    {
     "name": "stderr",
     "output_type": "stream",
     "text": [
      "Mean of empty slice\n"
     ]
    },
    {
     "name": "stdout",
     "output_type": "stream",
     "text": [
      "Input file: out/qsm/sub-z1691325_ses-20240227_acq-wipiswifl3dvibetrythisone_run-01_echo-01_part-phase_MEGRE_scaled_tgvqsmjl_twopass_average_ref.nii\n",
      "Marker Precision: 1.0\n",
      "Marker Recall: 0.6666666666666666\n",
      "True markers: 2\n",
      "False positive markers: 0 (0 were known calcification)\n",
      "False negative markers: 1\n",
      "Loss: 0.4498734176158905\n",
      "Loading model: models/QSM-T1-20240406-035411-2-best.pth\n"
     ]
    },
    {
     "name": "stderr",
     "output_type": "stream",
     "text": [
      "Saved filed doesn't contain an optimizer state.\n"
     ]
    },
    {
     "name": "stdout",
     "output_type": "stream",
     "text": [
      "0/1; "
     ]
    },
    {
     "data": {
      "text/html": [
       "\n",
       "<style>\n",
       "    /* Turns off some styling */\n",
       "    progress {\n",
       "        /* gets rid of default border in Firefox and Opera. */\n",
       "        border: none;\n",
       "        /* Needs to be in here for Safari polyfill so background images work as expected. */\n",
       "        background-size: auto;\n",
       "    }\n",
       "    progress:not([value]), progress:not([value])::-webkit-progress-bar {\n",
       "        background: repeating-linear-gradient(45deg, #7e7e7e, #7e7e7e 10px, #5c5c5c 10px, #5c5c5c 20px);\n",
       "    }\n",
       "    .progress-bar-interrupted, .progress-bar-interrupted::-webkit-progress-bar {\n",
       "        background: #F44336;\n",
       "    }\n",
       "</style>\n"
      ],
      "text/plain": [
       "<IPython.core.display.HTML object>"
      ]
     },
     "metadata": {},
     "output_type": "display_data"
    },
    {
     "data": {
      "text/html": [],
      "text/plain": [
       "<IPython.core.display.HTML object>"
      ]
     },
     "metadata": {},
     "output_type": "display_data"
    },
    {
     "name": "stdout",
     "output_type": "stream",
     "text": [
      "Input file: out/qsm/sub-z0002292_ses-20240318_acq-wipiswifl3dvibetrythisone_run-01_echo-01_part-phase_MEGRE_scaled_tgvqsmjl_twopass_average_ref.nii\n",
      "Marker Precision: 1.0\n",
      "Marker Recall: 1.0\n",
      "True markers: 3\n",
      "False positive markers: 0 (0 were known calcification)\n",
      "False negative markers: 0\n",
      "Loss: 0.27539578080177307\n",
      "Loading model: models/QSM-T1-20240406-042853-3-best.pth\n"
     ]
    },
    {
     "name": "stderr",
     "output_type": "stream",
     "text": [
      "Saved filed doesn't contain an optimizer state.\n"
     ]
    },
    {
     "name": "stdout",
     "output_type": "stream",
     "text": [
      "0/1; "
     ]
    },
    {
     "data": {
      "text/html": [
       "\n",
       "<style>\n",
       "    /* Turns off some styling */\n",
       "    progress {\n",
       "        /* gets rid of default border in Firefox and Opera. */\n",
       "        border: none;\n",
       "        /* Needs to be in here for Safari polyfill so background images work as expected. */\n",
       "        background-size: auto;\n",
       "    }\n",
       "    progress:not([value]), progress:not([value])::-webkit-progress-bar {\n",
       "        background: repeating-linear-gradient(45deg, #7e7e7e, #7e7e7e 10px, #5c5c5c 10px, #5c5c5c 20px);\n",
       "    }\n",
       "    .progress-bar-interrupted, .progress-bar-interrupted::-webkit-progress-bar {\n",
       "        background: #F44336;\n",
       "    }\n",
       "</style>\n"
      ],
      "text/plain": [
       "<IPython.core.display.HTML object>"
      ]
     },
     "metadata": {},
     "output_type": "display_data"
    },
    {
     "data": {
      "text/html": [],
      "text/plain": [
       "<IPython.core.display.HTML object>"
      ]
     },
     "metadata": {},
     "output_type": "display_data"
    },
    {
     "name": "stdout",
     "output_type": "stream",
     "text": [
      "Input file: out/qsm/sub-z3268423_ses-20240109_acq-wipiswifl3dvibetrythisone_run-01_echo-01_part-phase_MEGRE_scaled_tgvqsmjl_twopass_average_ref.nii\n",
      "Marker Precision: 1.0\n",
      "Marker Recall: 1.0\n",
      "True markers: 3\n",
      "False positive markers: 0 (0 were known calcification)\n",
      "False negative markers: 0\n",
      "Loss: 0.2727191150188446\n",
      "Loading model: models/QSM-T1-20240406-043913-4-best.pth\n"
     ]
    },
    {
     "name": "stderr",
     "output_type": "stream",
     "text": [
      "Saved filed doesn't contain an optimizer state.\n"
     ]
    },
    {
     "name": "stdout",
     "output_type": "stream",
     "text": [
      "0/1; "
     ]
    },
    {
     "data": {
      "text/html": [
       "\n",
       "<style>\n",
       "    /* Turns off some styling */\n",
       "    progress {\n",
       "        /* gets rid of default border in Firefox and Opera. */\n",
       "        border: none;\n",
       "        /* Needs to be in here for Safari polyfill so background images work as expected. */\n",
       "        background-size: auto;\n",
       "    }\n",
       "    progress:not([value]), progress:not([value])::-webkit-progress-bar {\n",
       "        background: repeating-linear-gradient(45deg, #7e7e7e, #7e7e7e 10px, #5c5c5c 10px, #5c5c5c 20px);\n",
       "    }\n",
       "    .progress-bar-interrupted, .progress-bar-interrupted::-webkit-progress-bar {\n",
       "        background: #F44336;\n",
       "    }\n",
       "</style>\n"
      ],
      "text/plain": [
       "<IPython.core.display.HTML object>"
      ]
     },
     "metadata": {},
     "output_type": "display_data"
    },
    {
     "data": {
      "text/html": [],
      "text/plain": [
       "<IPython.core.display.HTML object>"
      ]
     },
     "metadata": {},
     "output_type": "display_data"
    },
    {
     "name": "stdout",
     "output_type": "stream",
     "text": [
      "Input file: out/qsm/sub-z1448271_ses-20231110_acq-wipiswifl3dvibetrythisone_run-01_echo-01_part-phase_MEGRE_scaled_tgvqsmjl_twopass_average_ref.nii\n",
      "Marker Precision: 0.6666666666666666\n",
      "Marker Recall: 0.6666666666666666\n",
      "True markers: 2\n",
      "False positive markers: 1 (1 were known calcification)\n",
      "False negative markers: 1\n",
      "Loss: 0.4334370493888855\n",
      "Loading model: models/QSM-T1-20240406-044559-5-best.pth\n"
     ]
    },
    {
     "name": "stderr",
     "output_type": "stream",
     "text": [
      "Saved filed doesn't contain an optimizer state.\n"
     ]
    },
    {
     "name": "stdout",
     "output_type": "stream",
     "text": [
      "0/1; "
     ]
    },
    {
     "data": {
      "text/html": [
       "\n",
       "<style>\n",
       "    /* Turns off some styling */\n",
       "    progress {\n",
       "        /* gets rid of default border in Firefox and Opera. */\n",
       "        border: none;\n",
       "        /* Needs to be in here for Safari polyfill so background images work as expected. */\n",
       "        background-size: auto;\n",
       "    }\n",
       "    progress:not([value]), progress:not([value])::-webkit-progress-bar {\n",
       "        background: repeating-linear-gradient(45deg, #7e7e7e, #7e7e7e 10px, #5c5c5c 10px, #5c5c5c 20px);\n",
       "    }\n",
       "    .progress-bar-interrupted, .progress-bar-interrupted::-webkit-progress-bar {\n",
       "        background: #F44336;\n",
       "    }\n",
       "</style>\n"
      ],
      "text/plain": [
       "<IPython.core.display.HTML object>"
      ]
     },
     "metadata": {},
     "output_type": "display_data"
    },
    {
     "data": {
      "text/html": [],
      "text/plain": [
       "<IPython.core.display.HTML object>"
      ]
     },
     "metadata": {},
     "output_type": "display_data"
    },
    {
     "name": "stderr",
     "output_type": "stream",
     "text": [
      "Mean of empty slice\n"
     ]
    },
    {
     "name": "stdout",
     "output_type": "stream",
     "text": [
      "Input file: out/qsm/sub-z1384048_ses-20231108_acq-wipiswifl3dvibetrythisone_run-01_echo-01_part-phase_MEGRE_scaled_tgvqsmjl_twopass_average_ref.nii\n",
      "Marker Precision: 1.0\n",
      "Marker Recall: 1.0\n",
      "True markers: 3\n",
      "False positive markers: 0 (0 were known calcification)\n",
      "False negative markers: 0\n",
      "Loss: 0.379159539937973\n",
      "Loading model: models/QSM-T1-20240406-051159-6-best.pth\n"
     ]
    },
    {
     "name": "stderr",
     "output_type": "stream",
     "text": [
      "Saved filed doesn't contain an optimizer state.\n"
     ]
    },
    {
     "name": "stdout",
     "output_type": "stream",
     "text": [
      "0/1; "
     ]
    },
    {
     "data": {
      "text/html": [
       "\n",
       "<style>\n",
       "    /* Turns off some styling */\n",
       "    progress {\n",
       "        /* gets rid of default border in Firefox and Opera. */\n",
       "        border: none;\n",
       "        /* Needs to be in here for Safari polyfill so background images work as expected. */\n",
       "        background-size: auto;\n",
       "    }\n",
       "    progress:not([value]), progress:not([value])::-webkit-progress-bar {\n",
       "        background: repeating-linear-gradient(45deg, #7e7e7e, #7e7e7e 10px, #5c5c5c 10px, #5c5c5c 20px);\n",
       "    }\n",
       "    .progress-bar-interrupted, .progress-bar-interrupted::-webkit-progress-bar {\n",
       "        background: #F44336;\n",
       "    }\n",
       "</style>\n"
      ],
      "text/plain": [
       "<IPython.core.display.HTML object>"
      ]
     },
     "metadata": {},
     "output_type": "display_data"
    },
    {
     "data": {
      "text/html": [],
      "text/plain": [
       "<IPython.core.display.HTML object>"
      ]
     },
     "metadata": {},
     "output_type": "display_data"
    },
    {
     "name": "stderr",
     "output_type": "stream",
     "text": [
      "Mean of empty slice\n"
     ]
    },
    {
     "name": "stdout",
     "output_type": "stream",
     "text": [
      "Input file: out/qsm/sub-z1635498_ses-20240305_acq-wipiswifl3dvibetrythisone_run-01_echo-01_part-phase_MEGRE_scaled_tgvqsmjl_twopass_average_ref.nii\n",
      "Marker Precision: 1.0\n",
      "Marker Recall: 1.0\n",
      "True markers: 3\n",
      "False positive markers: 0 (0 were known calcification)\n",
      "False negative markers: 0\n",
      "Loss: 0.4036404490470886\n",
      "Loading model: models/QSM-T1-20240406-051834-7-best.pth\n"
     ]
    },
    {
     "name": "stderr",
     "output_type": "stream",
     "text": [
      "Saved filed doesn't contain an optimizer state.\n"
     ]
    },
    {
     "name": "stdout",
     "output_type": "stream",
     "text": [
      "0/1; "
     ]
    },
    {
     "data": {
      "text/html": [
       "\n",
       "<style>\n",
       "    /* Turns off some styling */\n",
       "    progress {\n",
       "        /* gets rid of default border in Firefox and Opera. */\n",
       "        border: none;\n",
       "        /* Needs to be in here for Safari polyfill so background images work as expected. */\n",
       "        background-size: auto;\n",
       "    }\n",
       "    progress:not([value]), progress:not([value])::-webkit-progress-bar {\n",
       "        background: repeating-linear-gradient(45deg, #7e7e7e, #7e7e7e 10px, #5c5c5c 10px, #5c5c5c 20px);\n",
       "    }\n",
       "    .progress-bar-interrupted, .progress-bar-interrupted::-webkit-progress-bar {\n",
       "        background: #F44336;\n",
       "    }\n",
       "</style>\n"
      ],
      "text/plain": [
       "<IPython.core.display.HTML object>"
      ]
     },
     "metadata": {},
     "output_type": "display_data"
    },
    {
     "data": {
      "text/html": [],
      "text/plain": [
       "<IPython.core.display.HTML object>"
      ]
     },
     "metadata": {},
     "output_type": "display_data"
    },
    {
     "name": "stderr",
     "output_type": "stream",
     "text": [
      "Mean of empty slice\n"
     ]
    },
    {
     "name": "stdout",
     "output_type": "stream",
     "text": [
      "Input file: out/qsm/sub-z0163277_ses-20240123_acq-wipiswifl3dvibetrythisone_run-01_echo-01_part-phase_MEGRE_scaled_tgvqsmjl_twopass_average_ref.nii\n",
      "Marker Precision: 1.0\n",
      "Marker Recall: 1.0\n",
      "True markers: 3\n",
      "False positive markers: 0 (0 were known calcification)\n",
      "False negative markers: 0\n",
      "Loss: 0.3708525598049164\n",
      "Loading model: models/QSM-T1-20240406-053243-8-best.pth\n"
     ]
    },
    {
     "name": "stderr",
     "output_type": "stream",
     "text": [
      "Saved filed doesn't contain an optimizer state.\n"
     ]
    },
    {
     "name": "stdout",
     "output_type": "stream",
     "text": [
      "0/1; "
     ]
    },
    {
     "data": {
      "text/html": [
       "\n",
       "<style>\n",
       "    /* Turns off some styling */\n",
       "    progress {\n",
       "        /* gets rid of default border in Firefox and Opera. */\n",
       "        border: none;\n",
       "        /* Needs to be in here for Safari polyfill so background images work as expected. */\n",
       "        background-size: auto;\n",
       "    }\n",
       "    progress:not([value]), progress:not([value])::-webkit-progress-bar {\n",
       "        background: repeating-linear-gradient(45deg, #7e7e7e, #7e7e7e 10px, #5c5c5c 10px, #5c5c5c 20px);\n",
       "    }\n",
       "    .progress-bar-interrupted, .progress-bar-interrupted::-webkit-progress-bar {\n",
       "        background: #F44336;\n",
       "    }\n",
       "</style>\n"
      ],
      "text/plain": [
       "<IPython.core.display.HTML object>"
      ]
     },
     "metadata": {},
     "output_type": "display_data"
    },
    {
     "data": {
      "text/html": [],
      "text/plain": [
       "<IPython.core.display.HTML object>"
      ]
     },
     "metadata": {},
     "output_type": "display_data"
    },
    {
     "name": "stderr",
     "output_type": "stream",
     "text": [
      "Mean of empty slice\n"
     ]
    },
    {
     "name": "stdout",
     "output_type": "stream",
     "text": [
      "Input file: out/qsm/sub-z3220308_ses-20231009_acq-wipiswifl3dvibetrythisone_run-01_echo-01_part-phase_MEGRE_scaled_tgvqsmjl_twopass_average_ref.nii\n",
      "Marker Precision: 1.0\n",
      "Marker Recall: 1.0\n",
      "True markers: 3\n",
      "False positive markers: 0 (0 were known calcification)\n",
      "False negative markers: 0\n",
      "Loss: 0.4033593535423279\n",
      "Loading model: models/QSM-T1-20240406-055223-9-best.pth\n"
     ]
    },
    {
     "name": "stderr",
     "output_type": "stream",
     "text": [
      "Saved filed doesn't contain an optimizer state.\n"
     ]
    },
    {
     "name": "stdout",
     "output_type": "stream",
     "text": [
      "0/1; "
     ]
    },
    {
     "data": {
      "text/html": [
       "\n",
       "<style>\n",
       "    /* Turns off some styling */\n",
       "    progress {\n",
       "        /* gets rid of default border in Firefox and Opera. */\n",
       "        border: none;\n",
       "        /* Needs to be in here for Safari polyfill so background images work as expected. */\n",
       "        background-size: auto;\n",
       "    }\n",
       "    progress:not([value]), progress:not([value])::-webkit-progress-bar {\n",
       "        background: repeating-linear-gradient(45deg, #7e7e7e, #7e7e7e 10px, #5c5c5c 10px, #5c5c5c 20px);\n",
       "    }\n",
       "    .progress-bar-interrupted, .progress-bar-interrupted::-webkit-progress-bar {\n",
       "        background: #F44336;\n",
       "    }\n",
       "</style>\n"
      ],
      "text/plain": [
       "<IPython.core.display.HTML object>"
      ]
     },
     "metadata": {},
     "output_type": "display_data"
    },
    {
     "data": {
      "text/html": [],
      "text/plain": [
       "<IPython.core.display.HTML object>"
      ]
     },
     "metadata": {},
     "output_type": "display_data"
    },
    {
     "name": "stdout",
     "output_type": "stream",
     "text": [
      "Input file: out/qsm/sub-z0381949_ses-20231005_acq-wipiswifl3dvibetrythisone_run-01_echo-01_part-phase_MEGRE_scaled_tgvqsmjl_twopass_average_ref.nii\n",
      "Marker Precision: 1.0\n",
      "Marker Recall: 1.0\n",
      "True markers: 3\n",
      "False positive markers: 0 (0 were known calcification)\n",
      "False negative markers: 0\n",
      "Loss: 0.38665473461151123\n",
      "Loading model: models/QSM-T1-20240406-055656-10-best.pth\n"
     ]
    },
    {
     "name": "stderr",
     "output_type": "stream",
     "text": [
      "Saved filed doesn't contain an optimizer state.\n"
     ]
    },
    {
     "name": "stdout",
     "output_type": "stream",
     "text": [
      "0/1; "
     ]
    },
    {
     "data": {
      "text/html": [
       "\n",
       "<style>\n",
       "    /* Turns off some styling */\n",
       "    progress {\n",
       "        /* gets rid of default border in Firefox and Opera. */\n",
       "        border: none;\n",
       "        /* Needs to be in here for Safari polyfill so background images work as expected. */\n",
       "        background-size: auto;\n",
       "    }\n",
       "    progress:not([value]), progress:not([value])::-webkit-progress-bar {\n",
       "        background: repeating-linear-gradient(45deg, #7e7e7e, #7e7e7e 10px, #5c5c5c 10px, #5c5c5c 20px);\n",
       "    }\n",
       "    .progress-bar-interrupted, .progress-bar-interrupted::-webkit-progress-bar {\n",
       "        background: #F44336;\n",
       "    }\n",
       "</style>\n"
      ],
      "text/plain": [
       "<IPython.core.display.HTML object>"
      ]
     },
     "metadata": {},
     "output_type": "display_data"
    },
    {
     "data": {
      "text/html": [],
      "text/plain": [
       "<IPython.core.display.HTML object>"
      ]
     },
     "metadata": {},
     "output_type": "display_data"
    },
    {
     "name": "stderr",
     "output_type": "stream",
     "text": [
      "Mean of empty slice\n"
     ]
    },
    {
     "name": "stdout",
     "output_type": "stream",
     "text": [
      "Input file: out/qsm/sub-z0206923_ses-20231003_acq-wipiswifl3dvibetrythisone_run-01_echo-01_part-phase_MEGRE_scaled_tgvqsmjl_twopass_average_ref.nii\n",
      "Marker Precision: 1.0\n",
      "Marker Recall: 1.0\n",
      "True markers: 3\n",
      "False positive markers: 0 (0 were known calcification)\n",
      "False negative markers: 0\n",
      "Loss: 0.3946381211280823\n",
      "Loading model: models/QSM-T1-20240406-061317-11-best.pth\n"
     ]
    },
    {
     "name": "stderr",
     "output_type": "stream",
     "text": [
      "Saved filed doesn't contain an optimizer state.\n"
     ]
    },
    {
     "name": "stdout",
     "output_type": "stream",
     "text": [
      "0/1; "
     ]
    },
    {
     "data": {
      "text/html": [
       "\n",
       "<style>\n",
       "    /* Turns off some styling */\n",
       "    progress {\n",
       "        /* gets rid of default border in Firefox and Opera. */\n",
       "        border: none;\n",
       "        /* Needs to be in here for Safari polyfill so background images work as expected. */\n",
       "        background-size: auto;\n",
       "    }\n",
       "    progress:not([value]), progress:not([value])::-webkit-progress-bar {\n",
       "        background: repeating-linear-gradient(45deg, #7e7e7e, #7e7e7e 10px, #5c5c5c 10px, #5c5c5c 20px);\n",
       "    }\n",
       "    .progress-bar-interrupted, .progress-bar-interrupted::-webkit-progress-bar {\n",
       "        background: #F44336;\n",
       "    }\n",
       "</style>\n"
      ],
      "text/plain": [
       "<IPython.core.display.HTML object>"
      ]
     },
     "metadata": {},
     "output_type": "display_data"
    },
    {
     "data": {
      "text/html": [],
      "text/plain": [
       "<IPython.core.display.HTML object>"
      ]
     },
     "metadata": {},
     "output_type": "display_data"
    },
    {
     "name": "stdout",
     "output_type": "stream",
     "text": [
      "Input file: out/qsm/sub-z1484547_ses-20240102_acq-wipiswifl3dvibetrythisone_run-01_echo-01_part-phase_MEGRE_scaled_tgvqsmjl_twopass_average_ref.nii\n",
      "Marker Precision: 0.6666666666666666\n",
      "Marker Recall: 0.6666666666666666\n",
      "True markers: 2\n",
      "False positive markers: 1 (1 were known calcification)\n",
      "False negative markers: 1\n",
      "Loss: 0.43898653984069824\n",
      "Loading model: models/QSM-T1-20240406-063223-12-best.pth\n"
     ]
    },
    {
     "name": "stderr",
     "output_type": "stream",
     "text": [
      "Saved filed doesn't contain an optimizer state.\n"
     ]
    },
    {
     "name": "stdout",
     "output_type": "stream",
     "text": [
      "0/1; "
     ]
    },
    {
     "data": {
      "text/html": [
       "\n",
       "<style>\n",
       "    /* Turns off some styling */\n",
       "    progress {\n",
       "        /* gets rid of default border in Firefox and Opera. */\n",
       "        border: none;\n",
       "        /* Needs to be in here for Safari polyfill so background images work as expected. */\n",
       "        background-size: auto;\n",
       "    }\n",
       "    progress:not([value]), progress:not([value])::-webkit-progress-bar {\n",
       "        background: repeating-linear-gradient(45deg, #7e7e7e, #7e7e7e 10px, #5c5c5c 10px, #5c5c5c 20px);\n",
       "    }\n",
       "    .progress-bar-interrupted, .progress-bar-interrupted::-webkit-progress-bar {\n",
       "        background: #F44336;\n",
       "    }\n",
       "</style>\n"
      ],
      "text/plain": [
       "<IPython.core.display.HTML object>"
      ]
     },
     "metadata": {},
     "output_type": "display_data"
    },
    {
     "data": {
      "text/html": [],
      "text/plain": [
       "<IPython.core.display.HTML object>"
      ]
     },
     "metadata": {},
     "output_type": "display_data"
    },
    {
     "name": "stderr",
     "output_type": "stream",
     "text": [
      "Mean of empty slice\n"
     ]
    },
    {
     "name": "stdout",
     "output_type": "stream",
     "text": [
      "Input file: out/qsm/sub-z1645782_ses-20231010_acq-wipiswifl3dvibetrythisone_run-01_echo-01_part-phase_MEGRE_scaled_tgvqsmjl_twopass_average_ref.nii\n",
      "Marker Precision: 1.0\n",
      "Marker Recall: 1.0\n",
      "True markers: 2\n",
      "False positive markers: 0 (0 were known calcification)\n",
      "False negative markers: 0\n",
      "Loss: 0.38550275564193726\n",
      "Loading model: models/QSM-T1-20240406-065135-13-best.pth\n"
     ]
    },
    {
     "name": "stderr",
     "output_type": "stream",
     "text": [
      "Saved filed doesn't contain an optimizer state.\n"
     ]
    },
    {
     "name": "stdout",
     "output_type": "stream",
     "text": [
      "0/1; "
     ]
    },
    {
     "data": {
      "text/html": [
       "\n",
       "<style>\n",
       "    /* Turns off some styling */\n",
       "    progress {\n",
       "        /* gets rid of default border in Firefox and Opera. */\n",
       "        border: none;\n",
       "        /* Needs to be in here for Safari polyfill so background images work as expected. */\n",
       "        background-size: auto;\n",
       "    }\n",
       "    progress:not([value]), progress:not([value])::-webkit-progress-bar {\n",
       "        background: repeating-linear-gradient(45deg, #7e7e7e, #7e7e7e 10px, #5c5c5c 10px, #5c5c5c 20px);\n",
       "    }\n",
       "    .progress-bar-interrupted, .progress-bar-interrupted::-webkit-progress-bar {\n",
       "        background: #F44336;\n",
       "    }\n",
       "</style>\n"
      ],
      "text/plain": [
       "<IPython.core.display.HTML object>"
      ]
     },
     "metadata": {},
     "output_type": "display_data"
    },
    {
     "data": {
      "text/html": [],
      "text/plain": [
       "<IPython.core.display.HTML object>"
      ]
     },
     "metadata": {},
     "output_type": "display_data"
    },
    {
     "name": "stdout",
     "output_type": "stream",
     "text": [
      "Input file: out/qsm/sub-z0232771_ses-20240228_acq-wipiswifl3dvibetrythisone_run-01_echo-01_part-phase_MEGRE_scaled_tgvqsmjl_twopass_average_ref.nii\n",
      "Marker Precision: 1.0\n",
      "Marker Recall: 1.0\n",
      "True markers: 3\n",
      "False positive markers: 0 (0 were known calcification)\n",
      "False negative markers: 0\n",
      "Loss: 0.41967466473579407\n",
      "Loading model: models/QSM-T1-20240406-065409-14-best.pth\n"
     ]
    },
    {
     "name": "stderr",
     "output_type": "stream",
     "text": [
      "Saved filed doesn't contain an optimizer state.\n"
     ]
    },
    {
     "name": "stdout",
     "output_type": "stream",
     "text": [
      "0/1; "
     ]
    },
    {
     "data": {
      "text/html": [
       "\n",
       "<style>\n",
       "    /* Turns off some styling */\n",
       "    progress {\n",
       "        /* gets rid of default border in Firefox and Opera. */\n",
       "        border: none;\n",
       "        /* Needs to be in here for Safari polyfill so background images work as expected. */\n",
       "        background-size: auto;\n",
       "    }\n",
       "    progress:not([value]), progress:not([value])::-webkit-progress-bar {\n",
       "        background: repeating-linear-gradient(45deg, #7e7e7e, #7e7e7e 10px, #5c5c5c 10px, #5c5c5c 20px);\n",
       "    }\n",
       "    .progress-bar-interrupted, .progress-bar-interrupted::-webkit-progress-bar {\n",
       "        background: #F44336;\n",
       "    }\n",
       "</style>\n"
      ],
      "text/plain": [
       "<IPython.core.display.HTML object>"
      ]
     },
     "metadata": {},
     "output_type": "display_data"
    },
    {
     "data": {
      "text/html": [],
      "text/plain": [
       "<IPython.core.display.HTML object>"
      ]
     },
     "metadata": {},
     "output_type": "display_data"
    },
    {
     "name": "stderr",
     "output_type": "stream",
     "text": [
      "Mean of empty slice\n"
     ]
    },
    {
     "name": "stdout",
     "output_type": "stream",
     "text": [
      "Input file: out/qsm/sub-z0347933_ses-20240129_acq-wipiswifl3dvibetrythisone_run-01_echo-01_part-phase_MEGRE_scaled_tgvqsmjl_twopass_average_ref.nii\n",
      "Marker Precision: 1.0\n",
      "Marker Recall: 1.0\n",
      "True markers: 3\n",
      "False positive markers: 0 (0 were known calcification)\n",
      "False negative markers: 0\n",
      "Loss: 0.45859384536743164\n",
      "Loading model: models/QSM-T1-20240406-072522-15-best.pth\n"
     ]
    },
    {
     "name": "stderr",
     "output_type": "stream",
     "text": [
      "Saved filed doesn't contain an optimizer state.\n"
     ]
    },
    {
     "name": "stdout",
     "output_type": "stream",
     "text": [
      "0/1; "
     ]
    },
    {
     "data": {
      "text/html": [
       "\n",
       "<style>\n",
       "    /* Turns off some styling */\n",
       "    progress {\n",
       "        /* gets rid of default border in Firefox and Opera. */\n",
       "        border: none;\n",
       "        /* Needs to be in here for Safari polyfill so background images work as expected. */\n",
       "        background-size: auto;\n",
       "    }\n",
       "    progress:not([value]), progress:not([value])::-webkit-progress-bar {\n",
       "        background: repeating-linear-gradient(45deg, #7e7e7e, #7e7e7e 10px, #5c5c5c 10px, #5c5c5c 20px);\n",
       "    }\n",
       "    .progress-bar-interrupted, .progress-bar-interrupted::-webkit-progress-bar {\n",
       "        background: #F44336;\n",
       "    }\n",
       "</style>\n"
      ],
      "text/plain": [
       "<IPython.core.display.HTML object>"
      ]
     },
     "metadata": {},
     "output_type": "display_data"
    },
    {
     "data": {
      "text/html": [],
      "text/plain": [
       "<IPython.core.display.HTML object>"
      ]
     },
     "metadata": {},
     "output_type": "display_data"
    },
    {
     "name": "stdout",
     "output_type": "stream",
     "text": [
      "Input file: out/qsm/sub-z3145629_ses-20231204_acq-wipiswifl3dvibetrythisone_run-01_echo-01_part-phase_MEGRE_scaled_tgvqsmjl_twopass_average_ref.nii\n",
      "Marker Precision: 1.0\n",
      "Marker Recall: 1.0\n",
      "True markers: 3\n",
      "False positive markers: 0 (0 were known calcification)\n",
      "False negative markers: 0\n",
      "Loss: 0.40709173679351807\n",
      "Loading model: models/QSM-T1-20240406-073048-16-best.pth\n"
     ]
    },
    {
     "name": "stderr",
     "output_type": "stream",
     "text": [
      "Saved filed doesn't contain an optimizer state.\n"
     ]
    },
    {
     "name": "stdout",
     "output_type": "stream",
     "text": [
      "0/1; "
     ]
    },
    {
     "data": {
      "text/html": [
       "\n",
       "<style>\n",
       "    /* Turns off some styling */\n",
       "    progress {\n",
       "        /* gets rid of default border in Firefox and Opera. */\n",
       "        border: none;\n",
       "        /* Needs to be in here for Safari polyfill so background images work as expected. */\n",
       "        background-size: auto;\n",
       "    }\n",
       "    progress:not([value]), progress:not([value])::-webkit-progress-bar {\n",
       "        background: repeating-linear-gradient(45deg, #7e7e7e, #7e7e7e 10px, #5c5c5c 10px, #5c5c5c 20px);\n",
       "    }\n",
       "    .progress-bar-interrupted, .progress-bar-interrupted::-webkit-progress-bar {\n",
       "        background: #F44336;\n",
       "    }\n",
       "</style>\n"
      ],
      "text/plain": [
       "<IPython.core.display.HTML object>"
      ]
     },
     "metadata": {},
     "output_type": "display_data"
    },
    {
     "data": {
      "text/html": [],
      "text/plain": [
       "<IPython.core.display.HTML object>"
      ]
     },
     "metadata": {},
     "output_type": "display_data"
    },
    {
     "name": "stderr",
     "output_type": "stream",
     "text": [
      "Mean of empty slice\n"
     ]
    },
    {
     "name": "stdout",
     "output_type": "stream",
     "text": [
      "Input file: out/qsm/sub-z2105112_ses-20231220_acq-wipiswifl3dvibetrythisone_run-01_echo-01_part-phase_MEGRE_scaled_tgvqsmjl_twopass_average_ref.nii\n",
      "Marker Precision: 1.0\n",
      "Marker Recall: 1.0\n",
      "True markers: 3\n",
      "False positive markers: 0 (0 were known calcification)\n",
      "False negative markers: 0\n",
      "Loss: 0.3789239823818207\n",
      "Loading model: models/QSM-T1-20240406-073346-17-best.pth\n"
     ]
    },
    {
     "name": "stderr",
     "output_type": "stream",
     "text": [
      "Saved filed doesn't contain an optimizer state.\n"
     ]
    },
    {
     "name": "stdout",
     "output_type": "stream",
     "text": [
      "0/1; "
     ]
    },
    {
     "data": {
      "text/html": [
       "\n",
       "<style>\n",
       "    /* Turns off some styling */\n",
       "    progress {\n",
       "        /* gets rid of default border in Firefox and Opera. */\n",
       "        border: none;\n",
       "        /* Needs to be in here for Safari polyfill so background images work as expected. */\n",
       "        background-size: auto;\n",
       "    }\n",
       "    progress:not([value]), progress:not([value])::-webkit-progress-bar {\n",
       "        background: repeating-linear-gradient(45deg, #7e7e7e, #7e7e7e 10px, #5c5c5c 10px, #5c5c5c 20px);\n",
       "    }\n",
       "    .progress-bar-interrupted, .progress-bar-interrupted::-webkit-progress-bar {\n",
       "        background: #F44336;\n",
       "    }\n",
       "</style>\n"
      ],
      "text/plain": [
       "<IPython.core.display.HTML object>"
      ]
     },
     "metadata": {},
     "output_type": "display_data"
    },
    {
     "data": {
      "text/html": [],
      "text/plain": [
       "<IPython.core.display.HTML object>"
      ]
     },
     "metadata": {},
     "output_type": "display_data"
    },
    {
     "name": "stdout",
     "output_type": "stream",
     "text": [
      "Input file: out/qsm/sub-z3212665_ses-20240305_acq-wipiswifl3dvibetrythisone_run-01_echo-01_part-phase_MEGRE_scaled_tgvqsmjl_twopass_average_ref.nii\n",
      "Marker Precision: 1.0\n",
      "Marker Recall: 1.0\n",
      "True markers: 3\n",
      "False positive markers: 0 (0 were known calcification)\n",
      "False negative markers: 0\n",
      "Loss: 0.3281424343585968\n",
      "Loading model: models/QSM-T1-20240406-080913-18-best.pth\n"
     ]
    },
    {
     "name": "stderr",
     "output_type": "stream",
     "text": [
      "Saved filed doesn't contain an optimizer state.\n"
     ]
    },
    {
     "name": "stdout",
     "output_type": "stream",
     "text": [
      "0/1; "
     ]
    },
    {
     "data": {
      "text/html": [
       "\n",
       "<style>\n",
       "    /* Turns off some styling */\n",
       "    progress {\n",
       "        /* gets rid of default border in Firefox and Opera. */\n",
       "        border: none;\n",
       "        /* Needs to be in here for Safari polyfill so background images work as expected. */\n",
       "        background-size: auto;\n",
       "    }\n",
       "    progress:not([value]), progress:not([value])::-webkit-progress-bar {\n",
       "        background: repeating-linear-gradient(45deg, #7e7e7e, #7e7e7e 10px, #5c5c5c 10px, #5c5c5c 20px);\n",
       "    }\n",
       "    .progress-bar-interrupted, .progress-bar-interrupted::-webkit-progress-bar {\n",
       "        background: #F44336;\n",
       "    }\n",
       "</style>\n"
      ],
      "text/plain": [
       "<IPython.core.display.HTML object>"
      ]
     },
     "metadata": {},
     "output_type": "display_data"
    },
    {
     "data": {
      "text/html": [],
      "text/plain": [
       "<IPython.core.display.HTML object>"
      ]
     },
     "metadata": {},
     "output_type": "display_data"
    },
    {
     "name": "stdout",
     "output_type": "stream",
     "text": [
      "Input file: out/qsm/sub-z2684925_ses-20240313_acq-wipiswifl3dvibetrythisone_run-01_echo-01_part-phase_MEGRE_scaled_tgvqsmjl_twopass_average_ref.nii\n",
      "Marker Precision: 1.0\n",
      "Marker Recall: 1.0\n",
      "True markers: 3\n",
      "False positive markers: 0 (0 were known calcification)\n",
      "False negative markers: 0\n",
      "Loss: 0.36686286330223083\n",
      "Loading model: models/QSM-T1-20240406-081928-19-best.pth\n"
     ]
    },
    {
     "name": "stderr",
     "output_type": "stream",
     "text": [
      "Saved filed doesn't contain an optimizer state.\n"
     ]
    },
    {
     "name": "stdout",
     "output_type": "stream",
     "text": [
      "0/1; "
     ]
    },
    {
     "data": {
      "text/html": [
       "\n",
       "<style>\n",
       "    /* Turns off some styling */\n",
       "    progress {\n",
       "        /* gets rid of default border in Firefox and Opera. */\n",
       "        border: none;\n",
       "        /* Needs to be in here for Safari polyfill so background images work as expected. */\n",
       "        background-size: auto;\n",
       "    }\n",
       "    progress:not([value]), progress:not([value])::-webkit-progress-bar {\n",
       "        background: repeating-linear-gradient(45deg, #7e7e7e, #7e7e7e 10px, #5c5c5c 10px, #5c5c5c 20px);\n",
       "    }\n",
       "    .progress-bar-interrupted, .progress-bar-interrupted::-webkit-progress-bar {\n",
       "        background: #F44336;\n",
       "    }\n",
       "</style>\n"
      ],
      "text/plain": [
       "<IPython.core.display.HTML object>"
      ]
     },
     "metadata": {},
     "output_type": "display_data"
    },
    {
     "data": {
      "text/html": [],
      "text/plain": [
       "<IPython.core.display.HTML object>"
      ]
     },
     "metadata": {},
     "output_type": "display_data"
    },
    {
     "name": "stdout",
     "output_type": "stream",
     "text": [
      "Input file: out/qsm/sub-z4043512_ses-20240112_acq-wipiswifl3dvibetrythisone_run-01_echo-01_part-phase_MEGRE_scaled_tgvqsmjl_twopass_average_ref.nii\n",
      "Marker Precision: 1.0\n",
      "Marker Recall: 1.0\n",
      "True markers: 3\n",
      "False positive markers: 0 (0 were known calcification)\n",
      "False negative markers: 0\n",
      "Loss: 0.3175925016403198\n",
      "Loading model: models/QSM-T1-20240406-082403-20-best.pth\n"
     ]
    },
    {
     "name": "stderr",
     "output_type": "stream",
     "text": [
      "Saved filed doesn't contain an optimizer state.\n"
     ]
    },
    {
     "name": "stdout",
     "output_type": "stream",
     "text": [
      "0/1; "
     ]
    },
    {
     "data": {
      "text/html": [
       "\n",
       "<style>\n",
       "    /* Turns off some styling */\n",
       "    progress {\n",
       "        /* gets rid of default border in Firefox and Opera. */\n",
       "        border: none;\n",
       "        /* Needs to be in here for Safari polyfill so background images work as expected. */\n",
       "        background-size: auto;\n",
       "    }\n",
       "    progress:not([value]), progress:not([value])::-webkit-progress-bar {\n",
       "        background: repeating-linear-gradient(45deg, #7e7e7e, #7e7e7e 10px, #5c5c5c 10px, #5c5c5c 20px);\n",
       "    }\n",
       "    .progress-bar-interrupted, .progress-bar-interrupted::-webkit-progress-bar {\n",
       "        background: #F44336;\n",
       "    }\n",
       "</style>\n"
      ],
      "text/plain": [
       "<IPython.core.display.HTML object>"
      ]
     },
     "metadata": {},
     "output_type": "display_data"
    },
    {
     "data": {
      "text/html": [],
      "text/plain": [
       "<IPython.core.display.HTML object>"
      ]
     },
     "metadata": {},
     "output_type": "display_data"
    },
    {
     "name": "stderr",
     "output_type": "stream",
     "text": [
      "Mean of empty slice\n"
     ]
    },
    {
     "name": "stdout",
     "output_type": "stream",
     "text": [
      "Input file: out/qsm/sub-z0747844_ses-20240304_acq-wipiswifl3dvibetrythisone_run-01_echo-01_part-phase_MEGRE_scaled_tgvqsmjl_twopass_average_ref.nii\n",
      "Marker Precision: 1.0\n",
      "Marker Recall: 1.0\n",
      "True markers: 3\n",
      "False positive markers: 0 (0 were known calcification)\n",
      "False negative markers: 0\n",
      "Loss: 0.43334850668907166\n",
      "Loading model: models/QSM-T1-20240406-085215-21-best.pth\n"
     ]
    },
    {
     "name": "stderr",
     "output_type": "stream",
     "text": [
      "Saved filed doesn't contain an optimizer state.\n"
     ]
    },
    {
     "name": "stdout",
     "output_type": "stream",
     "text": [
      "0/1; "
     ]
    },
    {
     "data": {
      "text/html": [
       "\n",
       "<style>\n",
       "    /* Turns off some styling */\n",
       "    progress {\n",
       "        /* gets rid of default border in Firefox and Opera. */\n",
       "        border: none;\n",
       "        /* Needs to be in here for Safari polyfill so background images work as expected. */\n",
       "        background-size: auto;\n",
       "    }\n",
       "    progress:not([value]), progress:not([value])::-webkit-progress-bar {\n",
       "        background: repeating-linear-gradient(45deg, #7e7e7e, #7e7e7e 10px, #5c5c5c 10px, #5c5c5c 20px);\n",
       "    }\n",
       "    .progress-bar-interrupted, .progress-bar-interrupted::-webkit-progress-bar {\n",
       "        background: #F44336;\n",
       "    }\n",
       "</style>\n"
      ],
      "text/plain": [
       "<IPython.core.display.HTML object>"
      ]
     },
     "metadata": {},
     "output_type": "display_data"
    },
    {
     "data": {
      "text/html": [],
      "text/plain": [
       "<IPython.core.display.HTML object>"
      ]
     },
     "metadata": {},
     "output_type": "display_data"
    },
    {
     "name": "stderr",
     "output_type": "stream",
     "text": [
      "Mean of empty slice\n"
     ]
    },
    {
     "name": "stdout",
     "output_type": "stream",
     "text": [
      "Input file: out/qsm/sub-z1421134_ses-20231205_acq-wipiswifl3dvibetrythisone_run-01_echo-01_part-phase_MEGRE_scaled_tgvqsmjl_twopass_average_ref.nii\n",
      "Marker Precision: 1.0\n",
      "Marker Recall: 1.0\n",
      "True markers: 3\n",
      "False positive markers: 0 (0 were known calcification)\n",
      "False negative markers: 0\n",
      "Loss: 0.4306867718696594\n",
      "Loading model: models/QSM-T1-20240406-085727-22-best.pth\n"
     ]
    },
    {
     "name": "stderr",
     "output_type": "stream",
     "text": [
      "Saved filed doesn't contain an optimizer state.\n"
     ]
    },
    {
     "name": "stdout",
     "output_type": "stream",
     "text": [
      "0/1; "
     ]
    },
    {
     "data": {
      "text/html": [
       "\n",
       "<style>\n",
       "    /* Turns off some styling */\n",
       "    progress {\n",
       "        /* gets rid of default border in Firefox and Opera. */\n",
       "        border: none;\n",
       "        /* Needs to be in here for Safari polyfill so background images work as expected. */\n",
       "        background-size: auto;\n",
       "    }\n",
       "    progress:not([value]), progress:not([value])::-webkit-progress-bar {\n",
       "        background: repeating-linear-gradient(45deg, #7e7e7e, #7e7e7e 10px, #5c5c5c 10px, #5c5c5c 20px);\n",
       "    }\n",
       "    .progress-bar-interrupted, .progress-bar-interrupted::-webkit-progress-bar {\n",
       "        background: #F44336;\n",
       "    }\n",
       "</style>\n"
      ],
      "text/plain": [
       "<IPython.core.display.HTML object>"
      ]
     },
     "metadata": {},
     "output_type": "display_data"
    },
    {
     "data": {
      "text/html": [],
      "text/plain": [
       "<IPython.core.display.HTML object>"
      ]
     },
     "metadata": {},
     "output_type": "display_data"
    },
    {
     "name": "stderr",
     "output_type": "stream",
     "text": [
      "Mean of empty slice\n"
     ]
    },
    {
     "name": "stdout",
     "output_type": "stream",
     "text": [
      "Input file: out/qsm/sub-z1638396_ses-20240311_acq-wipiswifl3dvibetrythisone_run-01_echo-01_part-phase_MEGRE_scaled_tgvqsmjl_twopass_average_ref.nii\n",
      "Marker Precision: 1.0\n",
      "Marker Recall: 1.0\n",
      "True markers: 3\n",
      "False positive markers: 0 (0 were known calcification)\n",
      "False negative markers: 0\n",
      "Loss: 0.4110361635684967\n",
      "Loading model: models/QSM-T1-20240406-092357-23-best.pth\n"
     ]
    },
    {
     "name": "stderr",
     "output_type": "stream",
     "text": [
      "Saved filed doesn't contain an optimizer state.\n"
     ]
    },
    {
     "name": "stdout",
     "output_type": "stream",
     "text": [
      "0/1; "
     ]
    },
    {
     "data": {
      "text/html": [
       "\n",
       "<style>\n",
       "    /* Turns off some styling */\n",
       "    progress {\n",
       "        /* gets rid of default border in Firefox and Opera. */\n",
       "        border: none;\n",
       "        /* Needs to be in here for Safari polyfill so background images work as expected. */\n",
       "        background-size: auto;\n",
       "    }\n",
       "    progress:not([value]), progress:not([value])::-webkit-progress-bar {\n",
       "        background: repeating-linear-gradient(45deg, #7e7e7e, #7e7e7e 10px, #5c5c5c 10px, #5c5c5c 20px);\n",
       "    }\n",
       "    .progress-bar-interrupted, .progress-bar-interrupted::-webkit-progress-bar {\n",
       "        background: #F44336;\n",
       "    }\n",
       "</style>\n"
      ],
      "text/plain": [
       "<IPython.core.display.HTML object>"
      ]
     },
     "metadata": {},
     "output_type": "display_data"
    },
    {
     "data": {
      "text/html": [],
      "text/plain": [
       "<IPython.core.display.HTML object>"
      ]
     },
     "metadata": {},
     "output_type": "display_data"
    },
    {
     "name": "stderr",
     "output_type": "stream",
     "text": [
      "Mean of empty slice\n"
     ]
    },
    {
     "name": "stdout",
     "output_type": "stream",
     "text": [
      "Input file: out/qsm/sub-z2996397_ses-20231201_acq-wipiswifl3dvibetrythisone_run-01_echo-01_part-phase_MEGRE_scaled_tgvqsmjl_twopass_average_ref.nii\n",
      "Marker Precision: 1.0\n",
      "Marker Recall: 1.0\n",
      "True markers: 3\n",
      "False positive markers: 0 (0 were known calcification)\n",
      "False negative markers: 0\n",
      "Loss: 0.39801815152168274\n",
      "Loading model: models/QSM-T1-20240406-092531-24-best.pth\n"
     ]
    },
    {
     "name": "stderr",
     "output_type": "stream",
     "text": [
      "Saved filed doesn't contain an optimizer state.\n"
     ]
    },
    {
     "name": "stdout",
     "output_type": "stream",
     "text": [
      "0/1; "
     ]
    },
    {
     "data": {
      "text/html": [
       "\n",
       "<style>\n",
       "    /* Turns off some styling */\n",
       "    progress {\n",
       "        /* gets rid of default border in Firefox and Opera. */\n",
       "        border: none;\n",
       "        /* Needs to be in here for Safari polyfill so background images work as expected. */\n",
       "        background-size: auto;\n",
       "    }\n",
       "    progress:not([value]), progress:not([value])::-webkit-progress-bar {\n",
       "        background: repeating-linear-gradient(45deg, #7e7e7e, #7e7e7e 10px, #5c5c5c 10px, #5c5c5c 20px);\n",
       "    }\n",
       "    .progress-bar-interrupted, .progress-bar-interrupted::-webkit-progress-bar {\n",
       "        background: #F44336;\n",
       "    }\n",
       "</style>\n"
      ],
      "text/plain": [
       "<IPython.core.display.HTML object>"
      ]
     },
     "metadata": {},
     "output_type": "display_data"
    },
    {
     "data": {
      "text/html": [],
      "text/plain": [
       "<IPython.core.display.HTML object>"
      ]
     },
     "metadata": {},
     "output_type": "display_data"
    },
    {
     "name": "stdout",
     "output_type": "stream",
     "text": [
      "Input file: out/qsm/sub-z0742379_ses-20240124_acq-wipiswifl3dvibetrythisone_run-01_echo-01_part-phase_MEGRE_scaled_tgvqsmjl_twopass_average_ref.nii\n",
      "Marker Precision: 0.6666666666666666\n",
      "Marker Recall: 0.6666666666666666\n",
      "True markers: 2\n",
      "False positive markers: 1 (0 were known calcification)\n",
      "False negative markers: 1\n",
      "Loss: 0.48703181743621826\n",
      "=== T1 ===\n",
      "infile_cols: ['t1_files']; n_input_channels: 1\n",
      "Loading model: models/T1-20240405-055604-0-best.pth\n"
     ]
    },
    {
     "name": "stderr",
     "output_type": "stream",
     "text": [
      "Saved filed doesn't contain an optimizer state.\n"
     ]
    },
    {
     "name": "stdout",
     "output_type": "stream",
     "text": [
      "0/1; "
     ]
    },
    {
     "data": {
      "text/html": [
       "\n",
       "<style>\n",
       "    /* Turns off some styling */\n",
       "    progress {\n",
       "        /* gets rid of default border in Firefox and Opera. */\n",
       "        border: none;\n",
       "        /* Needs to be in here for Safari polyfill so background images work as expected. */\n",
       "        background-size: auto;\n",
       "    }\n",
       "    progress:not([value]), progress:not([value])::-webkit-progress-bar {\n",
       "        background: repeating-linear-gradient(45deg, #7e7e7e, #7e7e7e 10px, #5c5c5c 10px, #5c5c5c 20px);\n",
       "    }\n",
       "    .progress-bar-interrupted, .progress-bar-interrupted::-webkit-progress-bar {\n",
       "        background: #F44336;\n",
       "    }\n",
       "</style>\n"
      ],
      "text/plain": [
       "<IPython.core.display.HTML object>"
      ]
     },
     "metadata": {},
     "output_type": "display_data"
    },
    {
     "data": {
      "text/html": [],
      "text/plain": [
       "<IPython.core.display.HTML object>"
      ]
     },
     "metadata": {},
     "output_type": "display_data"
    },
    {
     "name": "stdout",
     "output_type": "stream",
     "text": [
      "Input file: bids/sub-z1318033/ses-20230825/extra_data/sub-z1318033_ses-20230825_acq-t1tragradientseed_run-01_T1w_resliced.nii\n",
      "Marker Precision: 1.0\n",
      "Marker Recall: 1.0\n",
      "True markers: 3\n",
      "False positive markers: 0 (0 were known calcification)\n",
      "False negative markers: 0\n",
      "Loss: 0.4547812342643738\n",
      "Loading model: models/T1-20240405-061633-1-best.pth\n"
     ]
    },
    {
     "name": "stderr",
     "output_type": "stream",
     "text": [
      "Saved filed doesn't contain an optimizer state.\n"
     ]
    },
    {
     "name": "stdout",
     "output_type": "stream",
     "text": [
      "0/1; "
     ]
    },
    {
     "data": {
      "text/html": [
       "\n",
       "<style>\n",
       "    /* Turns off some styling */\n",
       "    progress {\n",
       "        /* gets rid of default border in Firefox and Opera. */\n",
       "        border: none;\n",
       "        /* Needs to be in here for Safari polyfill so background images work as expected. */\n",
       "        background-size: auto;\n",
       "    }\n",
       "    progress:not([value]), progress:not([value])::-webkit-progress-bar {\n",
       "        background: repeating-linear-gradient(45deg, #7e7e7e, #7e7e7e 10px, #5c5c5c 10px, #5c5c5c 20px);\n",
       "    }\n",
       "    .progress-bar-interrupted, .progress-bar-interrupted::-webkit-progress-bar {\n",
       "        background: #F44336;\n",
       "    }\n",
       "</style>\n"
      ],
      "text/plain": [
       "<IPython.core.display.HTML object>"
      ]
     },
     "metadata": {},
     "output_type": "display_data"
    },
    {
     "data": {
      "text/html": [],
      "text/plain": [
       "<IPython.core.display.HTML object>"
      ]
     },
     "metadata": {},
     "output_type": "display_data"
    },
    {
     "name": "stderr",
     "output_type": "stream",
     "text": [
      "Mean of empty slice\n"
     ]
    },
    {
     "name": "stdout",
     "output_type": "stream",
     "text": [
      "Input file: bids/sub-z1691325/ses-20240227/extra_data/sub-z1691325_ses-20240227_acq-t1tragradientseed_run-01_T1w_resliced.nii\n",
      "Marker Precision: 1.0\n",
      "Marker Recall: 1.0\n",
      "True markers: 3\n",
      "False positive markers: 0 (0 were known calcification)\n",
      "False negative markers: 0\n",
      "Loss: 0.4053158462047577\n",
      "Loading model: models/T1-20240405-061705-2-best.pth\n"
     ]
    },
    {
     "name": "stderr",
     "output_type": "stream",
     "text": [
      "Saved filed doesn't contain an optimizer state.\n"
     ]
    },
    {
     "name": "stdout",
     "output_type": "stream",
     "text": [
      "0/1; "
     ]
    },
    {
     "data": {
      "text/html": [
       "\n",
       "<style>\n",
       "    /* Turns off some styling */\n",
       "    progress {\n",
       "        /* gets rid of default border in Firefox and Opera. */\n",
       "        border: none;\n",
       "        /* Needs to be in here for Safari polyfill so background images work as expected. */\n",
       "        background-size: auto;\n",
       "    }\n",
       "    progress:not([value]), progress:not([value])::-webkit-progress-bar {\n",
       "        background: repeating-linear-gradient(45deg, #7e7e7e, #7e7e7e 10px, #5c5c5c 10px, #5c5c5c 20px);\n",
       "    }\n",
       "    .progress-bar-interrupted, .progress-bar-interrupted::-webkit-progress-bar {\n",
       "        background: #F44336;\n",
       "    }\n",
       "</style>\n"
      ],
      "text/plain": [
       "<IPython.core.display.HTML object>"
      ]
     },
     "metadata": {},
     "output_type": "display_data"
    },
    {
     "data": {
      "text/html": [],
      "text/plain": [
       "<IPython.core.display.HTML object>"
      ]
     },
     "metadata": {},
     "output_type": "display_data"
    },
    {
     "name": "stdout",
     "output_type": "stream",
     "text": [
      "Input file: bids/sub-z0002292/ses-20240318/extra_data/sub-z0002292_ses-20240318_acq-t1tragradientseed_run-01_T1w_resliced.nii\n",
      "Marker Precision: 1.0\n",
      "Marker Recall: 1.0\n",
      "True markers: 3\n",
      "False positive markers: 0 (0 were known calcification)\n",
      "False negative markers: 0\n",
      "Loss: 0.4364168643951416\n",
      "Loading model: models/T1-20240405-062011-3-best.pth\n"
     ]
    },
    {
     "name": "stderr",
     "output_type": "stream",
     "text": [
      "Saved filed doesn't contain an optimizer state.\n"
     ]
    },
    {
     "name": "stdout",
     "output_type": "stream",
     "text": [
      "0/1; "
     ]
    },
    {
     "data": {
      "text/html": [
       "\n",
       "<style>\n",
       "    /* Turns off some styling */\n",
       "    progress {\n",
       "        /* gets rid of default border in Firefox and Opera. */\n",
       "        border: none;\n",
       "        /* Needs to be in here for Safari polyfill so background images work as expected. */\n",
       "        background-size: auto;\n",
       "    }\n",
       "    progress:not([value]), progress:not([value])::-webkit-progress-bar {\n",
       "        background: repeating-linear-gradient(45deg, #7e7e7e, #7e7e7e 10px, #5c5c5c 10px, #5c5c5c 20px);\n",
       "    }\n",
       "    .progress-bar-interrupted, .progress-bar-interrupted::-webkit-progress-bar {\n",
       "        background: #F44336;\n",
       "    }\n",
       "</style>\n"
      ],
      "text/plain": [
       "<IPython.core.display.HTML object>"
      ]
     },
     "metadata": {},
     "output_type": "display_data"
    },
    {
     "data": {
      "text/html": [],
      "text/plain": [
       "<IPython.core.display.HTML object>"
      ]
     },
     "metadata": {},
     "output_type": "display_data"
    },
    {
     "name": "stdout",
     "output_type": "stream",
     "text": [
      "Input file: bids/sub-z3268423/ses-20240109/extra_data/sub-z3268423_ses-20240109_acq-t1tragradientseed_run-01_T1w_resliced.nii\n",
      "Marker Precision: 1.0\n",
      "Marker Recall: 1.0\n",
      "True markers: 3\n",
      "False positive markers: 0 (0 were known calcification)\n",
      "False negative markers: 0\n",
      "Loss: 0.3907875120639801\n",
      "Loading model: models/T1-20240405-063921-4-best.pth\n"
     ]
    },
    {
     "name": "stderr",
     "output_type": "stream",
     "text": [
      "Saved filed doesn't contain an optimizer state.\n"
     ]
    },
    {
     "name": "stdout",
     "output_type": "stream",
     "text": [
      "0/1; "
     ]
    },
    {
     "data": {
      "text/html": [
       "\n",
       "<style>\n",
       "    /* Turns off some styling */\n",
       "    progress {\n",
       "        /* gets rid of default border in Firefox and Opera. */\n",
       "        border: none;\n",
       "        /* Needs to be in here for Safari polyfill so background images work as expected. */\n",
       "        background-size: auto;\n",
       "    }\n",
       "    progress:not([value]), progress:not([value])::-webkit-progress-bar {\n",
       "        background: repeating-linear-gradient(45deg, #7e7e7e, #7e7e7e 10px, #5c5c5c 10px, #5c5c5c 20px);\n",
       "    }\n",
       "    .progress-bar-interrupted, .progress-bar-interrupted::-webkit-progress-bar {\n",
       "        background: #F44336;\n",
       "    }\n",
       "</style>\n"
      ],
      "text/plain": [
       "<IPython.core.display.HTML object>"
      ]
     },
     "metadata": {},
     "output_type": "display_data"
    },
    {
     "data": {
      "text/html": [],
      "text/plain": [
       "<IPython.core.display.HTML object>"
      ]
     },
     "metadata": {},
     "output_type": "display_data"
    },
    {
     "name": "stdout",
     "output_type": "stream",
     "text": [
      "Input file: bids/sub-z1448271/ses-20231110/extra_data/sub-z1448271_ses-20231110_acq-t1tragradientseed_run-01_T1w_resliced.nii\n",
      "Marker Precision: 1.0\n",
      "Marker Recall: 1.0\n",
      "True markers: 3\n",
      "False positive markers: 0 (0 were known calcification)\n",
      "False negative markers: 0\n",
      "Loss: 0.43378233909606934\n",
      "Loading model: models/T1-20240405-065147-5-best.pth\n"
     ]
    },
    {
     "name": "stderr",
     "output_type": "stream",
     "text": [
      "Saved filed doesn't contain an optimizer state.\n"
     ]
    },
    {
     "name": "stdout",
     "output_type": "stream",
     "text": [
      "0/1; "
     ]
    },
    {
     "data": {
      "text/html": [
       "\n",
       "<style>\n",
       "    /* Turns off some styling */\n",
       "    progress {\n",
       "        /* gets rid of default border in Firefox and Opera. */\n",
       "        border: none;\n",
       "        /* Needs to be in here for Safari polyfill so background images work as expected. */\n",
       "        background-size: auto;\n",
       "    }\n",
       "    progress:not([value]), progress:not([value])::-webkit-progress-bar {\n",
       "        background: repeating-linear-gradient(45deg, #7e7e7e, #7e7e7e 10px, #5c5c5c 10px, #5c5c5c 20px);\n",
       "    }\n",
       "    .progress-bar-interrupted, .progress-bar-interrupted::-webkit-progress-bar {\n",
       "        background: #F44336;\n",
       "    }\n",
       "</style>\n"
      ],
      "text/plain": [
       "<IPython.core.display.HTML object>"
      ]
     },
     "metadata": {},
     "output_type": "display_data"
    },
    {
     "data": {
      "text/html": [],
      "text/plain": [
       "<IPython.core.display.HTML object>"
      ]
     },
     "metadata": {},
     "output_type": "display_data"
    },
    {
     "name": "stderr",
     "output_type": "stream",
     "text": [
      "Mean of empty slice\n"
     ]
    },
    {
     "name": "stdout",
     "output_type": "stream",
     "text": [
      "Input file: bids/sub-z1384048/ses-20231108/extra_data/sub-z1384048_ses-20231108_acq-t1tragradientseed_run-01_T1w_resliced.nii\n",
      "Marker Precision: 1.0\n",
      "Marker Recall: 1.0\n",
      "True markers: 3\n",
      "False positive markers: 0 (0 were known calcification)\n",
      "False negative markers: 0\n",
      "Loss: 0.4076284170150757\n",
      "Loading model: models/T1-20240405-070744-6-best.pth\n"
     ]
    },
    {
     "name": "stderr",
     "output_type": "stream",
     "text": [
      "Saved filed doesn't contain an optimizer state.\n"
     ]
    },
    {
     "name": "stdout",
     "output_type": "stream",
     "text": [
      "0/1; "
     ]
    },
    {
     "data": {
      "text/html": [
       "\n",
       "<style>\n",
       "    /* Turns off some styling */\n",
       "    progress {\n",
       "        /* gets rid of default border in Firefox and Opera. */\n",
       "        border: none;\n",
       "        /* Needs to be in here for Safari polyfill so background images work as expected. */\n",
       "        background-size: auto;\n",
       "    }\n",
       "    progress:not([value]), progress:not([value])::-webkit-progress-bar {\n",
       "        background: repeating-linear-gradient(45deg, #7e7e7e, #7e7e7e 10px, #5c5c5c 10px, #5c5c5c 20px);\n",
       "    }\n",
       "    .progress-bar-interrupted, .progress-bar-interrupted::-webkit-progress-bar {\n",
       "        background: #F44336;\n",
       "    }\n",
       "</style>\n"
      ],
      "text/plain": [
       "<IPython.core.display.HTML object>"
      ]
     },
     "metadata": {},
     "output_type": "display_data"
    },
    {
     "data": {
      "text/html": [],
      "text/plain": [
       "<IPython.core.display.HTML object>"
      ]
     },
     "metadata": {},
     "output_type": "display_data"
    },
    {
     "name": "stderr",
     "output_type": "stream",
     "text": [
      "Mean of empty slice\n"
     ]
    },
    {
     "name": "stdout",
     "output_type": "stream",
     "text": [
      "Input file: bids/sub-z1635498/ses-20240305/extra_data/sub-z1635498_ses-20240305_acq-t1tragradientseed_run-01_T1w_resliced.nii\n",
      "Marker Precision: 1.0\n",
      "Marker Recall: 1.0\n",
      "True markers: 3\n",
      "False positive markers: 0 (0 were known calcification)\n",
      "False negative markers: 0\n",
      "Loss: 0.4597577452659607\n",
      "Loading model: models/T1-20240405-071429-7-best.pth\n"
     ]
    },
    {
     "name": "stderr",
     "output_type": "stream",
     "text": [
      "Saved filed doesn't contain an optimizer state.\n"
     ]
    },
    {
     "name": "stdout",
     "output_type": "stream",
     "text": [
      "0/1; "
     ]
    },
    {
     "data": {
      "text/html": [
       "\n",
       "<style>\n",
       "    /* Turns off some styling */\n",
       "    progress {\n",
       "        /* gets rid of default border in Firefox and Opera. */\n",
       "        border: none;\n",
       "        /* Needs to be in here for Safari polyfill so background images work as expected. */\n",
       "        background-size: auto;\n",
       "    }\n",
       "    progress:not([value]), progress:not([value])::-webkit-progress-bar {\n",
       "        background: repeating-linear-gradient(45deg, #7e7e7e, #7e7e7e 10px, #5c5c5c 10px, #5c5c5c 20px);\n",
       "    }\n",
       "    .progress-bar-interrupted, .progress-bar-interrupted::-webkit-progress-bar {\n",
       "        background: #F44336;\n",
       "    }\n",
       "</style>\n"
      ],
      "text/plain": [
       "<IPython.core.display.HTML object>"
      ]
     },
     "metadata": {},
     "output_type": "display_data"
    },
    {
     "data": {
      "text/html": [],
      "text/plain": [
       "<IPython.core.display.HTML object>"
      ]
     },
     "metadata": {},
     "output_type": "display_data"
    },
    {
     "name": "stderr",
     "output_type": "stream",
     "text": [
      "Mean of empty slice\n"
     ]
    },
    {
     "name": "stdout",
     "output_type": "stream",
     "text": [
      "Input file: bids/sub-z0163277/ses-20240123/extra_data/sub-z0163277_ses-20240123_acq-t1tragradientseed_run-01_T1w_resliced.nii\n",
      "Marker Precision: 1.0\n",
      "Marker Recall: 1.0\n",
      "True markers: 3\n",
      "False positive markers: 0 (0 were known calcification)\n",
      "False negative markers: 0\n",
      "Loss: 0.4778331220149994\n",
      "Loading model: models/T1-20240405-072608-8-best.pth\n"
     ]
    },
    {
     "name": "stderr",
     "output_type": "stream",
     "text": [
      "Saved filed doesn't contain an optimizer state.\n"
     ]
    },
    {
     "name": "stdout",
     "output_type": "stream",
     "text": [
      "0/1; "
     ]
    },
    {
     "data": {
      "text/html": [
       "\n",
       "<style>\n",
       "    /* Turns off some styling */\n",
       "    progress {\n",
       "        /* gets rid of default border in Firefox and Opera. */\n",
       "        border: none;\n",
       "        /* Needs to be in here for Safari polyfill so background images work as expected. */\n",
       "        background-size: auto;\n",
       "    }\n",
       "    progress:not([value]), progress:not([value])::-webkit-progress-bar {\n",
       "        background: repeating-linear-gradient(45deg, #7e7e7e, #7e7e7e 10px, #5c5c5c 10px, #5c5c5c 20px);\n",
       "    }\n",
       "    .progress-bar-interrupted, .progress-bar-interrupted::-webkit-progress-bar {\n",
       "        background: #F44336;\n",
       "    }\n",
       "</style>\n"
      ],
      "text/plain": [
       "<IPython.core.display.HTML object>"
      ]
     },
     "metadata": {},
     "output_type": "display_data"
    },
    {
     "data": {
      "text/html": [],
      "text/plain": [
       "<IPython.core.display.HTML object>"
      ]
     },
     "metadata": {},
     "output_type": "display_data"
    },
    {
     "name": "stderr",
     "output_type": "stream",
     "text": [
      "Mean of empty slice\n"
     ]
    },
    {
     "name": "stdout",
     "output_type": "stream",
     "text": [
      "Input file: bids/sub-z3220308/ses-20231009/extra_data/sub-z3220308_ses-20231009_acq-t1tragradientseed_run-01_T1w_resliced.nii\n",
      "Marker Precision: 1.0\n",
      "Marker Recall: 1.0\n",
      "True markers: 3\n",
      "False positive markers: 0 (0 were known calcification)\n",
      "False negative markers: 0\n",
      "Loss: 0.4057258665561676\n",
      "Loading model: models/T1-20240405-073307-9-best.pth\n"
     ]
    },
    {
     "name": "stderr",
     "output_type": "stream",
     "text": [
      "Saved filed doesn't contain an optimizer state.\n"
     ]
    },
    {
     "name": "stdout",
     "output_type": "stream",
     "text": [
      "0/1; "
     ]
    },
    {
     "data": {
      "text/html": [
       "\n",
       "<style>\n",
       "    /* Turns off some styling */\n",
       "    progress {\n",
       "        /* gets rid of default border in Firefox and Opera. */\n",
       "        border: none;\n",
       "        /* Needs to be in here for Safari polyfill so background images work as expected. */\n",
       "        background-size: auto;\n",
       "    }\n",
       "    progress:not([value]), progress:not([value])::-webkit-progress-bar {\n",
       "        background: repeating-linear-gradient(45deg, #7e7e7e, #7e7e7e 10px, #5c5c5c 10px, #5c5c5c 20px);\n",
       "    }\n",
       "    .progress-bar-interrupted, .progress-bar-interrupted::-webkit-progress-bar {\n",
       "        background: #F44336;\n",
       "    }\n",
       "</style>\n"
      ],
      "text/plain": [
       "<IPython.core.display.HTML object>"
      ]
     },
     "metadata": {},
     "output_type": "display_data"
    },
    {
     "data": {
      "text/html": [],
      "text/plain": [
       "<IPython.core.display.HTML object>"
      ]
     },
     "metadata": {},
     "output_type": "display_data"
    },
    {
     "name": "stdout",
     "output_type": "stream",
     "text": [
      "Input file: bids/sub-z0381949/ses-20231005/extra_data/sub-z0381949_ses-20231005_acq-t1tragradientseed_run-01_T1w_resliced.nii\n",
      "Marker Precision: 1.0\n",
      "Marker Recall: 1.0\n",
      "True markers: 3\n",
      "False positive markers: 0 (0 were known calcification)\n",
      "False negative markers: 0\n",
      "Loss: 0.46123769879341125\n",
      "Loading model: models/T1-20240405-074007-10-best.pth\n"
     ]
    },
    {
     "name": "stderr",
     "output_type": "stream",
     "text": [
      "Saved filed doesn't contain an optimizer state.\n"
     ]
    },
    {
     "name": "stdout",
     "output_type": "stream",
     "text": [
      "0/1; "
     ]
    },
    {
     "data": {
      "text/html": [
       "\n",
       "<style>\n",
       "    /* Turns off some styling */\n",
       "    progress {\n",
       "        /* gets rid of default border in Firefox and Opera. */\n",
       "        border: none;\n",
       "        /* Needs to be in here for Safari polyfill so background images work as expected. */\n",
       "        background-size: auto;\n",
       "    }\n",
       "    progress:not([value]), progress:not([value])::-webkit-progress-bar {\n",
       "        background: repeating-linear-gradient(45deg, #7e7e7e, #7e7e7e 10px, #5c5c5c 10px, #5c5c5c 20px);\n",
       "    }\n",
       "    .progress-bar-interrupted, .progress-bar-interrupted::-webkit-progress-bar {\n",
       "        background: #F44336;\n",
       "    }\n",
       "</style>\n"
      ],
      "text/plain": [
       "<IPython.core.display.HTML object>"
      ]
     },
     "metadata": {},
     "output_type": "display_data"
    },
    {
     "data": {
      "text/html": [],
      "text/plain": [
       "<IPython.core.display.HTML object>"
      ]
     },
     "metadata": {},
     "output_type": "display_data"
    },
    {
     "name": "stderr",
     "output_type": "stream",
     "text": [
      "Mean of empty slice\n"
     ]
    },
    {
     "name": "stdout",
     "output_type": "stream",
     "text": [
      "Input file: bids/sub-z0206923/ses-20231003/extra_data/sub-z0206923_ses-20231003_acq-t1tragradientseed_run-01_T1w_resliced.nii\n",
      "Marker Precision: 1.0\n",
      "Marker Recall: 1.0\n",
      "True markers: 3\n",
      "False positive markers: 0 (0 were known calcification)\n",
      "False negative markers: 0\n",
      "Loss: 0.4145531952381134\n",
      "Loading model: models/T1-20240405-075744-11-best.pth\n"
     ]
    },
    {
     "name": "stderr",
     "output_type": "stream",
     "text": [
      "Saved filed doesn't contain an optimizer state.\n"
     ]
    },
    {
     "name": "stdout",
     "output_type": "stream",
     "text": [
      "0/1; "
     ]
    },
    {
     "data": {
      "text/html": [
       "\n",
       "<style>\n",
       "    /* Turns off some styling */\n",
       "    progress {\n",
       "        /* gets rid of default border in Firefox and Opera. */\n",
       "        border: none;\n",
       "        /* Needs to be in here for Safari polyfill so background images work as expected. */\n",
       "        background-size: auto;\n",
       "    }\n",
       "    progress:not([value]), progress:not([value])::-webkit-progress-bar {\n",
       "        background: repeating-linear-gradient(45deg, #7e7e7e, #7e7e7e 10px, #5c5c5c 10px, #5c5c5c 20px);\n",
       "    }\n",
       "    .progress-bar-interrupted, .progress-bar-interrupted::-webkit-progress-bar {\n",
       "        background: #F44336;\n",
       "    }\n",
       "</style>\n"
      ],
      "text/plain": [
       "<IPython.core.display.HTML object>"
      ]
     },
     "metadata": {},
     "output_type": "display_data"
    },
    {
     "data": {
      "text/html": [],
      "text/plain": [
       "<IPython.core.display.HTML object>"
      ]
     },
     "metadata": {},
     "output_type": "display_data"
    },
    {
     "name": "stdout",
     "output_type": "stream",
     "text": [
      "Input file: bids/sub-z1484547/ses-20240102/extra_data/sub-z1484547_ses-20240102_acq-t1tragradientseed_run-01_T1w_resliced.nii\n",
      "Marker Precision: 1.0\n",
      "Marker Recall: 1.0\n",
      "True markers: 3\n",
      "False positive markers: 0 (0 were known calcification)\n",
      "False negative markers: 0\n",
      "Loss: 0.42198407649993896\n",
      "Loading model: models/T1-20240405-080429-12-best.pth\n"
     ]
    },
    {
     "name": "stderr",
     "output_type": "stream",
     "text": [
      "Saved filed doesn't contain an optimizer state.\n"
     ]
    },
    {
     "name": "stdout",
     "output_type": "stream",
     "text": [
      "0/1; "
     ]
    },
    {
     "data": {
      "text/html": [
       "\n",
       "<style>\n",
       "    /* Turns off some styling */\n",
       "    progress {\n",
       "        /* gets rid of default border in Firefox and Opera. */\n",
       "        border: none;\n",
       "        /* Needs to be in here for Safari polyfill so background images work as expected. */\n",
       "        background-size: auto;\n",
       "    }\n",
       "    progress:not([value]), progress:not([value])::-webkit-progress-bar {\n",
       "        background: repeating-linear-gradient(45deg, #7e7e7e, #7e7e7e 10px, #5c5c5c 10px, #5c5c5c 20px);\n",
       "    }\n",
       "    .progress-bar-interrupted, .progress-bar-interrupted::-webkit-progress-bar {\n",
       "        background: #F44336;\n",
       "    }\n",
       "</style>\n"
      ],
      "text/plain": [
       "<IPython.core.display.HTML object>"
      ]
     },
     "metadata": {},
     "output_type": "display_data"
    },
    {
     "data": {
      "text/html": [],
      "text/plain": [
       "<IPython.core.display.HTML object>"
      ]
     },
     "metadata": {},
     "output_type": "display_data"
    },
    {
     "name": "stderr",
     "output_type": "stream",
     "text": [
      "Mean of empty slice\n"
     ]
    },
    {
     "name": "stdout",
     "output_type": "stream",
     "text": [
      "Input file: bids/sub-z1645782/ses-20231010/extra_data/sub-z1645782_ses-20231010_acq-t1tragradientseed_run-01_T1w_resliced.nii\n",
      "Marker Precision: 1.0\n",
      "Marker Recall: 1.0\n",
      "True markers: 2\n",
      "False positive markers: 0 (0 were known calcification)\n",
      "False negative markers: 0\n",
      "Loss: 0.38236162066459656\n",
      "Loading model: models/T1-20240405-080940-13-best.pth\n"
     ]
    },
    {
     "name": "stderr",
     "output_type": "stream",
     "text": [
      "Saved filed doesn't contain an optimizer state.\n"
     ]
    },
    {
     "name": "stdout",
     "output_type": "stream",
     "text": [
      "0/1; "
     ]
    },
    {
     "data": {
      "text/html": [
       "\n",
       "<style>\n",
       "    /* Turns off some styling */\n",
       "    progress {\n",
       "        /* gets rid of default border in Firefox and Opera. */\n",
       "        border: none;\n",
       "        /* Needs to be in here for Safari polyfill so background images work as expected. */\n",
       "        background-size: auto;\n",
       "    }\n",
       "    progress:not([value]), progress:not([value])::-webkit-progress-bar {\n",
       "        background: repeating-linear-gradient(45deg, #7e7e7e, #7e7e7e 10px, #5c5c5c 10px, #5c5c5c 20px);\n",
       "    }\n",
       "    .progress-bar-interrupted, .progress-bar-interrupted::-webkit-progress-bar {\n",
       "        background: #F44336;\n",
       "    }\n",
       "</style>\n"
      ],
      "text/plain": [
       "<IPython.core.display.HTML object>"
      ]
     },
     "metadata": {},
     "output_type": "display_data"
    },
    {
     "data": {
      "text/html": [],
      "text/plain": [
       "<IPython.core.display.HTML object>"
      ]
     },
     "metadata": {},
     "output_type": "display_data"
    },
    {
     "name": "stdout",
     "output_type": "stream",
     "text": [
      "Input file: bids/sub-z0232771/ses-20240228/extra_data/sub-z0232771_ses-20240228_acq-t1tragradientseed_run-01_T1w_resliced.nii\n",
      "Marker Precision: 0.6666666666666666\n",
      "Marker Recall: 0.6666666666666666\n",
      "True markers: 2\n",
      "False positive markers: 1 (0 were known calcification)\n",
      "False negative markers: 1\n",
      "Loss: 0.46583741903305054\n",
      "Loading model: models/T1-20240405-083321-14-best.pth\n"
     ]
    },
    {
     "name": "stderr",
     "output_type": "stream",
     "text": [
      "Saved filed doesn't contain an optimizer state.\n"
     ]
    },
    {
     "name": "stdout",
     "output_type": "stream",
     "text": [
      "0/1; "
     ]
    },
    {
     "data": {
      "text/html": [
       "\n",
       "<style>\n",
       "    /* Turns off some styling */\n",
       "    progress {\n",
       "        /* gets rid of default border in Firefox and Opera. */\n",
       "        border: none;\n",
       "        /* Needs to be in here for Safari polyfill so background images work as expected. */\n",
       "        background-size: auto;\n",
       "    }\n",
       "    progress:not([value]), progress:not([value])::-webkit-progress-bar {\n",
       "        background: repeating-linear-gradient(45deg, #7e7e7e, #7e7e7e 10px, #5c5c5c 10px, #5c5c5c 20px);\n",
       "    }\n",
       "    .progress-bar-interrupted, .progress-bar-interrupted::-webkit-progress-bar {\n",
       "        background: #F44336;\n",
       "    }\n",
       "</style>\n"
      ],
      "text/plain": [
       "<IPython.core.display.HTML object>"
      ]
     },
     "metadata": {},
     "output_type": "display_data"
    },
    {
     "data": {
      "text/html": [],
      "text/plain": [
       "<IPython.core.display.HTML object>"
      ]
     },
     "metadata": {},
     "output_type": "display_data"
    },
    {
     "name": "stderr",
     "output_type": "stream",
     "text": [
      "Mean of empty slice\n"
     ]
    },
    {
     "name": "stdout",
     "output_type": "stream",
     "text": [
      "Input file: bids/sub-z0347933/ses-20240129/extra_data/sub-z0347933_ses-20240129_acq-t1tragradientseed_run-01_T1w_resliced.nii\n",
      "Marker Precision: 1.0\n",
      "Marker Recall: 1.0\n",
      "True markers: 3\n",
      "False positive markers: 0 (0 were known calcification)\n",
      "False negative markers: 0\n",
      "Loss: 0.5156345963478088\n",
      "Loading model: models/T1-20240405-083900-15-best.pth\n"
     ]
    },
    {
     "name": "stderr",
     "output_type": "stream",
     "text": [
      "Saved filed doesn't contain an optimizer state.\n"
     ]
    },
    {
     "name": "stdout",
     "output_type": "stream",
     "text": [
      "0/1; "
     ]
    },
    {
     "data": {
      "text/html": [
       "\n",
       "<style>\n",
       "    /* Turns off some styling */\n",
       "    progress {\n",
       "        /* gets rid of default border in Firefox and Opera. */\n",
       "        border: none;\n",
       "        /* Needs to be in here for Safari polyfill so background images work as expected. */\n",
       "        background-size: auto;\n",
       "    }\n",
       "    progress:not([value]), progress:not([value])::-webkit-progress-bar {\n",
       "        background: repeating-linear-gradient(45deg, #7e7e7e, #7e7e7e 10px, #5c5c5c 10px, #5c5c5c 20px);\n",
       "    }\n",
       "    .progress-bar-interrupted, .progress-bar-interrupted::-webkit-progress-bar {\n",
       "        background: #F44336;\n",
       "    }\n",
       "</style>\n"
      ],
      "text/plain": [
       "<IPython.core.display.HTML object>"
      ]
     },
     "metadata": {},
     "output_type": "display_data"
    },
    {
     "data": {
      "text/html": [],
      "text/plain": [
       "<IPython.core.display.HTML object>"
      ]
     },
     "metadata": {},
     "output_type": "display_data"
    },
    {
     "name": "stdout",
     "output_type": "stream",
     "text": [
      "Input file: bids/sub-z3145629/ses-20231204/extra_data/sub-z3145629_ses-20231204_acq-t1tragradientseed_run-01_T1w_resliced.nii\n",
      "Marker Precision: 1.0\n",
      "Marker Recall: 1.0\n",
      "True markers: 3\n",
      "False positive markers: 0 (0 were known calcification)\n",
      "False negative markers: 0\n",
      "Loss: 0.41157978773117065\n",
      "Loading model: models/T1-20240405-083930-16-best.pth\n"
     ]
    },
    {
     "name": "stderr",
     "output_type": "stream",
     "text": [
      "Saved filed doesn't contain an optimizer state.\n"
     ]
    },
    {
     "name": "stdout",
     "output_type": "stream",
     "text": [
      "0/1; "
     ]
    },
    {
     "data": {
      "text/html": [
       "\n",
       "<style>\n",
       "    /* Turns off some styling */\n",
       "    progress {\n",
       "        /* gets rid of default border in Firefox and Opera. */\n",
       "        border: none;\n",
       "        /* Needs to be in here for Safari polyfill so background images work as expected. */\n",
       "        background-size: auto;\n",
       "    }\n",
       "    progress:not([value]), progress:not([value])::-webkit-progress-bar {\n",
       "        background: repeating-linear-gradient(45deg, #7e7e7e, #7e7e7e 10px, #5c5c5c 10px, #5c5c5c 20px);\n",
       "    }\n",
       "    .progress-bar-interrupted, .progress-bar-interrupted::-webkit-progress-bar {\n",
       "        background: #F44336;\n",
       "    }\n",
       "</style>\n"
      ],
      "text/plain": [
       "<IPython.core.display.HTML object>"
      ]
     },
     "metadata": {},
     "output_type": "display_data"
    },
    {
     "data": {
      "text/html": [],
      "text/plain": [
       "<IPython.core.display.HTML object>"
      ]
     },
     "metadata": {},
     "output_type": "display_data"
    },
    {
     "name": "stderr",
     "output_type": "stream",
     "text": [
      "Mean of empty slice\n"
     ]
    },
    {
     "name": "stdout",
     "output_type": "stream",
     "text": [
      "Input file: bids/sub-z2105112/ses-20231220/extra_data/sub-z2105112_ses-20231220_acq-t1tragradientseed_run-01_T1w_resliced.nii\n",
      "Marker Precision: 1.0\n",
      "Marker Recall: 1.0\n",
      "True markers: 3\n",
      "False positive markers: 0 (0 were known calcification)\n",
      "False negative markers: 0\n",
      "Loss: 0.3965100347995758\n",
      "Loading model: models/T1-20240405-085521-17-best.pth\n"
     ]
    },
    {
     "name": "stderr",
     "output_type": "stream",
     "text": [
      "Saved filed doesn't contain an optimizer state.\n"
     ]
    },
    {
     "name": "stdout",
     "output_type": "stream",
     "text": [
      "0/1; "
     ]
    },
    {
     "data": {
      "text/html": [
       "\n",
       "<style>\n",
       "    /* Turns off some styling */\n",
       "    progress {\n",
       "        /* gets rid of default border in Firefox and Opera. */\n",
       "        border: none;\n",
       "        /* Needs to be in here for Safari polyfill so background images work as expected. */\n",
       "        background-size: auto;\n",
       "    }\n",
       "    progress:not([value]), progress:not([value])::-webkit-progress-bar {\n",
       "        background: repeating-linear-gradient(45deg, #7e7e7e, #7e7e7e 10px, #5c5c5c 10px, #5c5c5c 20px);\n",
       "    }\n",
       "    .progress-bar-interrupted, .progress-bar-interrupted::-webkit-progress-bar {\n",
       "        background: #F44336;\n",
       "    }\n",
       "</style>\n"
      ],
      "text/plain": [
       "<IPython.core.display.HTML object>"
      ]
     },
     "metadata": {},
     "output_type": "display_data"
    },
    {
     "data": {
      "text/html": [],
      "text/plain": [
       "<IPython.core.display.HTML object>"
      ]
     },
     "metadata": {},
     "output_type": "display_data"
    },
    {
     "name": "stdout",
     "output_type": "stream",
     "text": [
      "Input file: bids/sub-z3212665/ses-20240305/extra_data/sub-z3212665_ses-20240305_acq-t1tragradientseed_run-01_T1w_resliced.nii\n",
      "Marker Precision: 1.0\n",
      "Marker Recall: 1.0\n",
      "True markers: 3\n",
      "False positive markers: 0 (0 were known calcification)\n",
      "False negative markers: 0\n",
      "Loss: 0.4583573043346405\n",
      "Loading model: models/T1-20240405-090535-18-best.pth\n"
     ]
    },
    {
     "name": "stderr",
     "output_type": "stream",
     "text": [
      "Saved filed doesn't contain an optimizer state.\n"
     ]
    },
    {
     "name": "stdout",
     "output_type": "stream",
     "text": [
      "0/1; "
     ]
    },
    {
     "data": {
      "text/html": [
       "\n",
       "<style>\n",
       "    /* Turns off some styling */\n",
       "    progress {\n",
       "        /* gets rid of default border in Firefox and Opera. */\n",
       "        border: none;\n",
       "        /* Needs to be in here for Safari polyfill so background images work as expected. */\n",
       "        background-size: auto;\n",
       "    }\n",
       "    progress:not([value]), progress:not([value])::-webkit-progress-bar {\n",
       "        background: repeating-linear-gradient(45deg, #7e7e7e, #7e7e7e 10px, #5c5c5c 10px, #5c5c5c 20px);\n",
       "    }\n",
       "    .progress-bar-interrupted, .progress-bar-interrupted::-webkit-progress-bar {\n",
       "        background: #F44336;\n",
       "    }\n",
       "</style>\n"
      ],
      "text/plain": [
       "<IPython.core.display.HTML object>"
      ]
     },
     "metadata": {},
     "output_type": "display_data"
    },
    {
     "data": {
      "text/html": [],
      "text/plain": [
       "<IPython.core.display.HTML object>"
      ]
     },
     "metadata": {},
     "output_type": "display_data"
    },
    {
     "name": "stdout",
     "output_type": "stream",
     "text": [
      "Input file: bids/sub-z2684925/ses-20240313/extra_data/sub-z2684925_ses-20240313_acq-t1tragradientseed_run-01_T1w_resliced.nii\n",
      "Marker Precision: 1.0\n",
      "Marker Recall: 1.0\n",
      "True markers: 3\n",
      "False positive markers: 0 (0 were known calcification)\n",
      "False negative markers: 0\n",
      "Loss: 0.34906667470932007\n",
      "Loading model: models/T1-20240405-091245-19-best.pth\n"
     ]
    },
    {
     "name": "stderr",
     "output_type": "stream",
     "text": [
      "Saved filed doesn't contain an optimizer state.\n"
     ]
    },
    {
     "name": "stdout",
     "output_type": "stream",
     "text": [
      "0/1; "
     ]
    },
    {
     "data": {
      "text/html": [
       "\n",
       "<style>\n",
       "    /* Turns off some styling */\n",
       "    progress {\n",
       "        /* gets rid of default border in Firefox and Opera. */\n",
       "        border: none;\n",
       "        /* Needs to be in here for Safari polyfill so background images work as expected. */\n",
       "        background-size: auto;\n",
       "    }\n",
       "    progress:not([value]), progress:not([value])::-webkit-progress-bar {\n",
       "        background: repeating-linear-gradient(45deg, #7e7e7e, #7e7e7e 10px, #5c5c5c 10px, #5c5c5c 20px);\n",
       "    }\n",
       "    .progress-bar-interrupted, .progress-bar-interrupted::-webkit-progress-bar {\n",
       "        background: #F44336;\n",
       "    }\n",
       "</style>\n"
      ],
      "text/plain": [
       "<IPython.core.display.HTML object>"
      ]
     },
     "metadata": {},
     "output_type": "display_data"
    },
    {
     "data": {
      "text/html": [],
      "text/plain": [
       "<IPython.core.display.HTML object>"
      ]
     },
     "metadata": {},
     "output_type": "display_data"
    },
    {
     "name": "stdout",
     "output_type": "stream",
     "text": [
      "Input file: bids/sub-z4043512/ses-20240112/extra_data/sub-z4043512_ses-20240112_acq-t1tragradientseed_run-01_T1w_resliced.nii\n",
      "Marker Precision: 0.6666666666666666\n",
      "Marker Recall: 0.6666666666666666\n",
      "True markers: 2\n",
      "False positive markers: 1 (0 were known calcification)\n",
      "False negative markers: 1\n",
      "Loss: 0.5041822791099548\n",
      "Loading model: models/T1-20240405-093628-20-best.pth\n"
     ]
    },
    {
     "name": "stderr",
     "output_type": "stream",
     "text": [
      "Saved filed doesn't contain an optimizer state.\n"
     ]
    },
    {
     "name": "stdout",
     "output_type": "stream",
     "text": [
      "0/1; "
     ]
    },
    {
     "data": {
      "text/html": [
       "\n",
       "<style>\n",
       "    /* Turns off some styling */\n",
       "    progress {\n",
       "        /* gets rid of default border in Firefox and Opera. */\n",
       "        border: none;\n",
       "        /* Needs to be in here for Safari polyfill so background images work as expected. */\n",
       "        background-size: auto;\n",
       "    }\n",
       "    progress:not([value]), progress:not([value])::-webkit-progress-bar {\n",
       "        background: repeating-linear-gradient(45deg, #7e7e7e, #7e7e7e 10px, #5c5c5c 10px, #5c5c5c 20px);\n",
       "    }\n",
       "    .progress-bar-interrupted, .progress-bar-interrupted::-webkit-progress-bar {\n",
       "        background: #F44336;\n",
       "    }\n",
       "</style>\n"
      ],
      "text/plain": [
       "<IPython.core.display.HTML object>"
      ]
     },
     "metadata": {},
     "output_type": "display_data"
    },
    {
     "data": {
      "text/html": [],
      "text/plain": [
       "<IPython.core.display.HTML object>"
      ]
     },
     "metadata": {},
     "output_type": "display_data"
    },
    {
     "name": "stderr",
     "output_type": "stream",
     "text": [
      "Mean of empty slice\n"
     ]
    },
    {
     "name": "stdout",
     "output_type": "stream",
     "text": [
      "Input file: bids/sub-z0747844/ses-20240304/extra_data/sub-z0747844_ses-20240304_acq-t1tragradientseed_run-01_T1w_resliced.nii\n",
      "Marker Precision: 1.0\n",
      "Marker Recall: 0.3333333333333333\n",
      "True markers: 1\n",
      "False positive markers: 0 (0 were known calcification)\n",
      "False negative markers: 2\n",
      "Loss: 0.5328037738800049\n",
      "Loading model: models/T1-20240405-093701-21-best.pth\n"
     ]
    },
    {
     "name": "stderr",
     "output_type": "stream",
     "text": [
      "Saved filed doesn't contain an optimizer state.\n"
     ]
    },
    {
     "name": "stdout",
     "output_type": "stream",
     "text": [
      "0/1; "
     ]
    },
    {
     "data": {
      "text/html": [
       "\n",
       "<style>\n",
       "    /* Turns off some styling */\n",
       "    progress {\n",
       "        /* gets rid of default border in Firefox and Opera. */\n",
       "        border: none;\n",
       "        /* Needs to be in here for Safari polyfill so background images work as expected. */\n",
       "        background-size: auto;\n",
       "    }\n",
       "    progress:not([value]), progress:not([value])::-webkit-progress-bar {\n",
       "        background: repeating-linear-gradient(45deg, #7e7e7e, #7e7e7e 10px, #5c5c5c 10px, #5c5c5c 20px);\n",
       "    }\n",
       "    .progress-bar-interrupted, .progress-bar-interrupted::-webkit-progress-bar {\n",
       "        background: #F44336;\n",
       "    }\n",
       "</style>\n"
      ],
      "text/plain": [
       "<IPython.core.display.HTML object>"
      ]
     },
     "metadata": {},
     "output_type": "display_data"
    },
    {
     "data": {
      "text/html": [],
      "text/plain": [
       "<IPython.core.display.HTML object>"
      ]
     },
     "metadata": {},
     "output_type": "display_data"
    },
    {
     "name": "stderr",
     "output_type": "stream",
     "text": [
      "Mean of empty slice\n"
     ]
    },
    {
     "name": "stdout",
     "output_type": "stream",
     "text": [
      "Input file: bids/sub-z1421134/ses-20231205/extra_data/sub-z1421134_ses-20231205_acq-t1tragradientseed_run-01_T1w_resliced.nii\n",
      "Marker Precision: 1.0\n",
      "Marker Recall: 1.0\n",
      "True markers: 3\n",
      "False positive markers: 0 (0 were known calcification)\n",
      "False negative markers: 0\n",
      "Loss: 0.4671066999435425\n",
      "Loading model: models/T1-20240405-095843-22-best.pth\n"
     ]
    },
    {
     "name": "stderr",
     "output_type": "stream",
     "text": [
      "Saved filed doesn't contain an optimizer state.\n"
     ]
    },
    {
     "name": "stdout",
     "output_type": "stream",
     "text": [
      "0/1; "
     ]
    },
    {
     "data": {
      "text/html": [
       "\n",
       "<style>\n",
       "    /* Turns off some styling */\n",
       "    progress {\n",
       "        /* gets rid of default border in Firefox and Opera. */\n",
       "        border: none;\n",
       "        /* Needs to be in here for Safari polyfill so background images work as expected. */\n",
       "        background-size: auto;\n",
       "    }\n",
       "    progress:not([value]), progress:not([value])::-webkit-progress-bar {\n",
       "        background: repeating-linear-gradient(45deg, #7e7e7e, #7e7e7e 10px, #5c5c5c 10px, #5c5c5c 20px);\n",
       "    }\n",
       "    .progress-bar-interrupted, .progress-bar-interrupted::-webkit-progress-bar {\n",
       "        background: #F44336;\n",
       "    }\n",
       "</style>\n"
      ],
      "text/plain": [
       "<IPython.core.display.HTML object>"
      ]
     },
     "metadata": {},
     "output_type": "display_data"
    },
    {
     "data": {
      "text/html": [],
      "text/plain": [
       "<IPython.core.display.HTML object>"
      ]
     },
     "metadata": {},
     "output_type": "display_data"
    },
    {
     "name": "stderr",
     "output_type": "stream",
     "text": [
      "Mean of empty slice\n"
     ]
    },
    {
     "name": "stdout",
     "output_type": "stream",
     "text": [
      "Input file: bids/sub-z1638396/ses-20240311/extra_data/sub-z1638396_ses-20240311_acq-t1tragradientseed_run-01_T1w_resliced.nii\n",
      "Marker Precision: 1.0\n",
      "Marker Recall: 1.0\n",
      "True markers: 3\n",
      "False positive markers: 0 (0 were known calcification)\n",
      "False negative markers: 0\n",
      "Loss: 0.43209755420684814\n",
      "Loading model: models/T1-20240405-095914-23-best.pth\n"
     ]
    },
    {
     "name": "stderr",
     "output_type": "stream",
     "text": [
      "Saved filed doesn't contain an optimizer state.\n"
     ]
    },
    {
     "name": "stdout",
     "output_type": "stream",
     "text": [
      "0/1; "
     ]
    },
    {
     "data": {
      "text/html": [
       "\n",
       "<style>\n",
       "    /* Turns off some styling */\n",
       "    progress {\n",
       "        /* gets rid of default border in Firefox and Opera. */\n",
       "        border: none;\n",
       "        /* Needs to be in here for Safari polyfill so background images work as expected. */\n",
       "        background-size: auto;\n",
       "    }\n",
       "    progress:not([value]), progress:not([value])::-webkit-progress-bar {\n",
       "        background: repeating-linear-gradient(45deg, #7e7e7e, #7e7e7e 10px, #5c5c5c 10px, #5c5c5c 20px);\n",
       "    }\n",
       "    .progress-bar-interrupted, .progress-bar-interrupted::-webkit-progress-bar {\n",
       "        background: #F44336;\n",
       "    }\n",
       "</style>\n"
      ],
      "text/plain": [
       "<IPython.core.display.HTML object>"
      ]
     },
     "metadata": {},
     "output_type": "display_data"
    },
    {
     "data": {
      "text/html": [],
      "text/plain": [
       "<IPython.core.display.HTML object>"
      ]
     },
     "metadata": {},
     "output_type": "display_data"
    },
    {
     "name": "stderr",
     "output_type": "stream",
     "text": [
      "Mean of empty slice\n"
     ]
    },
    {
     "name": "stdout",
     "output_type": "stream",
     "text": [
      "Input file: bids/sub-z2996397/ses-20231201/extra_data/sub-z2996397_ses-20231201_acq-t1tragradientseed_run-01_T1w_resliced.nii\n",
      "Marker Precision: 1.0\n",
      "Marker Recall: 1.0\n",
      "True markers: 3\n",
      "False positive markers: 0 (0 were known calcification)\n",
      "False negative markers: 0\n",
      "Loss: 0.40890830755233765\n",
      "Loading model: models/T1-20240405-100332-24-best.pth\n"
     ]
    },
    {
     "name": "stderr",
     "output_type": "stream",
     "text": [
      "Saved filed doesn't contain an optimizer state.\n"
     ]
    },
    {
     "name": "stdout",
     "output_type": "stream",
     "text": [
      "0/1; "
     ]
    },
    {
     "data": {
      "text/html": [
       "\n",
       "<style>\n",
       "    /* Turns off some styling */\n",
       "    progress {\n",
       "        /* gets rid of default border in Firefox and Opera. */\n",
       "        border: none;\n",
       "        /* Needs to be in here for Safari polyfill so background images work as expected. */\n",
       "        background-size: auto;\n",
       "    }\n",
       "    progress:not([value]), progress:not([value])::-webkit-progress-bar {\n",
       "        background: repeating-linear-gradient(45deg, #7e7e7e, #7e7e7e 10px, #5c5c5c 10px, #5c5c5c 20px);\n",
       "    }\n",
       "    .progress-bar-interrupted, .progress-bar-interrupted::-webkit-progress-bar {\n",
       "        background: #F44336;\n",
       "    }\n",
       "</style>\n"
      ],
      "text/plain": [
       "<IPython.core.display.HTML object>"
      ]
     },
     "metadata": {},
     "output_type": "display_data"
    },
    {
     "data": {
      "text/html": [],
      "text/plain": [
       "<IPython.core.display.HTML object>"
      ]
     },
     "metadata": {},
     "output_type": "display_data"
    },
    {
     "name": "stdout",
     "output_type": "stream",
     "text": [
      "Input file: bids/sub-z0742379/ses-20240124/extra_data/sub-z0742379_ses-20240124_acq-t1tragradientseed_run-01_T1w_resliced.nii\n",
      "Marker Precision: 0.6666666666666666\n",
      "Marker Recall: 0.6666666666666666\n",
      "True markers: 2\n",
      "False positive markers: 1 (0 were known calcification)\n",
      "False negative markers: 1\n",
      "Loss: 0.48075664043426514\n",
      "=== SWI ===\n",
      "infile_cols: ['swi_files']; n_input_channels: 1\n",
      "Loading model: models/SWI-20240405-004402-0-best.pth\n"
     ]
    },
    {
     "name": "stderr",
     "output_type": "stream",
     "text": [
      "Saved filed doesn't contain an optimizer state.\n"
     ]
    },
    {
     "name": "stdout",
     "output_type": "stream",
     "text": [
      "0/1; "
     ]
    },
    {
     "data": {
      "text/html": [
       "\n",
       "<style>\n",
       "    /* Turns off some styling */\n",
       "    progress {\n",
       "        /* gets rid of default border in Firefox and Opera. */\n",
       "        border: none;\n",
       "        /* Needs to be in here for Safari polyfill so background images work as expected. */\n",
       "        background-size: auto;\n",
       "    }\n",
       "    progress:not([value]), progress:not([value])::-webkit-progress-bar {\n",
       "        background: repeating-linear-gradient(45deg, #7e7e7e, #7e7e7e 10px, #5c5c5c 10px, #5c5c5c 20px);\n",
       "    }\n",
       "    .progress-bar-interrupted, .progress-bar-interrupted::-webkit-progress-bar {\n",
       "        background: #F44336;\n",
       "    }\n",
       "</style>\n"
      ],
      "text/plain": [
       "<IPython.core.display.HTML object>"
      ]
     },
     "metadata": {},
     "output_type": "display_data"
    },
    {
     "data": {
      "text/html": [],
      "text/plain": [
       "<IPython.core.display.HTML object>"
      ]
     },
     "metadata": {},
     "output_type": "display_data"
    },
    {
     "name": "stdout",
     "output_type": "stream",
     "text": [
      "Input file: out/swi/sub-z1318033_ses-20230825_acq-wipiswifl3dvibetrythisone_run-01_echo-01_part-phase_MEGRE_scaled_swi.nii\n",
      "Marker Precision: 1.0\n",
      "Marker Recall: 1.0\n",
      "True markers: 3\n",
      "False positive markers: 0 (0 were known calcification)\n",
      "False negative markers: 0\n",
      "Loss: 0.30211636424064636\n",
      "Loading model: models/SWI-20240405-005911-1-best.pth\n"
     ]
    },
    {
     "name": "stderr",
     "output_type": "stream",
     "text": [
      "Saved filed doesn't contain an optimizer state.\n"
     ]
    },
    {
     "name": "stdout",
     "output_type": "stream",
     "text": [
      "0/1; "
     ]
    },
    {
     "data": {
      "text/html": [
       "\n",
       "<style>\n",
       "    /* Turns off some styling */\n",
       "    progress {\n",
       "        /* gets rid of default border in Firefox and Opera. */\n",
       "        border: none;\n",
       "        /* Needs to be in here for Safari polyfill so background images work as expected. */\n",
       "        background-size: auto;\n",
       "    }\n",
       "    progress:not([value]), progress:not([value])::-webkit-progress-bar {\n",
       "        background: repeating-linear-gradient(45deg, #7e7e7e, #7e7e7e 10px, #5c5c5c 10px, #5c5c5c 20px);\n",
       "    }\n",
       "    .progress-bar-interrupted, .progress-bar-interrupted::-webkit-progress-bar {\n",
       "        background: #F44336;\n",
       "    }\n",
       "</style>\n"
      ],
      "text/plain": [
       "<IPython.core.display.HTML object>"
      ]
     },
     "metadata": {},
     "output_type": "display_data"
    },
    {
     "data": {
      "text/html": [],
      "text/plain": [
       "<IPython.core.display.HTML object>"
      ]
     },
     "metadata": {},
     "output_type": "display_data"
    },
    {
     "name": "stderr",
     "output_type": "stream",
     "text": [
      "Mean of empty slice\n"
     ]
    },
    {
     "name": "stdout",
     "output_type": "stream",
     "text": [
      "Input file: out/swi/sub-z1691325_ses-20240227_acq-wipiswifl3dvibetrythisone_run-01_echo-01_part-phase_MEGRE_scaled_swi.nii\n",
      "Marker Precision: 1.0\n",
      "Marker Recall: 1.0\n",
      "True markers: 3\n",
      "False positive markers: 0 (0 were known calcification)\n",
      "False negative markers: 0\n",
      "Loss: 0.4147738814353943\n",
      "Loading model: models/SWI-20240405-011700-2-best.pth\n"
     ]
    },
    {
     "name": "stderr",
     "output_type": "stream",
     "text": [
      "Saved filed doesn't contain an optimizer state.\n"
     ]
    },
    {
     "name": "stdout",
     "output_type": "stream",
     "text": [
      "0/1; "
     ]
    },
    {
     "data": {
      "text/html": [
       "\n",
       "<style>\n",
       "    /* Turns off some styling */\n",
       "    progress {\n",
       "        /* gets rid of default border in Firefox and Opera. */\n",
       "        border: none;\n",
       "        /* Needs to be in here for Safari polyfill so background images work as expected. */\n",
       "        background-size: auto;\n",
       "    }\n",
       "    progress:not([value]), progress:not([value])::-webkit-progress-bar {\n",
       "        background: repeating-linear-gradient(45deg, #7e7e7e, #7e7e7e 10px, #5c5c5c 10px, #5c5c5c 20px);\n",
       "    }\n",
       "    .progress-bar-interrupted, .progress-bar-interrupted::-webkit-progress-bar {\n",
       "        background: #F44336;\n",
       "    }\n",
       "</style>\n"
      ],
      "text/plain": [
       "<IPython.core.display.HTML object>"
      ]
     },
     "metadata": {},
     "output_type": "display_data"
    },
    {
     "data": {
      "text/html": [],
      "text/plain": [
       "<IPython.core.display.HTML object>"
      ]
     },
     "metadata": {},
     "output_type": "display_data"
    },
    {
     "name": "stdout",
     "output_type": "stream",
     "text": [
      "Input file: out/swi/sub-z0002292_ses-20240318_acq-wipiswifl3dvibetrythisone_run-01_echo-01_part-phase_MEGRE_scaled_swi.nii\n",
      "Marker Precision: 1.0\n",
      "Marker Recall: 1.0\n",
      "True markers: 3\n",
      "False positive markers: 0 (0 were known calcification)\n",
      "False negative markers: 0\n",
      "Loss: 0.3671419024467468\n",
      "Loading model: models/SWI-20240405-012409-3-best.pth\n"
     ]
    },
    {
     "name": "stderr",
     "output_type": "stream",
     "text": [
      "Saved filed doesn't contain an optimizer state.\n"
     ]
    },
    {
     "name": "stdout",
     "output_type": "stream",
     "text": [
      "0/1; "
     ]
    },
    {
     "data": {
      "text/html": [
       "\n",
       "<style>\n",
       "    /* Turns off some styling */\n",
       "    progress {\n",
       "        /* gets rid of default border in Firefox and Opera. */\n",
       "        border: none;\n",
       "        /* Needs to be in here for Safari polyfill so background images work as expected. */\n",
       "        background-size: auto;\n",
       "    }\n",
       "    progress:not([value]), progress:not([value])::-webkit-progress-bar {\n",
       "        background: repeating-linear-gradient(45deg, #7e7e7e, #7e7e7e 10px, #5c5c5c 10px, #5c5c5c 20px);\n",
       "    }\n",
       "    .progress-bar-interrupted, .progress-bar-interrupted::-webkit-progress-bar {\n",
       "        background: #F44336;\n",
       "    }\n",
       "</style>\n"
      ],
      "text/plain": [
       "<IPython.core.display.HTML object>"
      ]
     },
     "metadata": {},
     "output_type": "display_data"
    },
    {
     "data": {
      "text/html": [],
      "text/plain": [
       "<IPython.core.display.HTML object>"
      ]
     },
     "metadata": {},
     "output_type": "display_data"
    },
    {
     "name": "stdout",
     "output_type": "stream",
     "text": [
      "Input file: out/swi/sub-z3268423_ses-20240109_acq-wipiswifl3dvibetrythisone_run-01_echo-01_part-phase_MEGRE_scaled_swi.nii\n",
      "Marker Precision: 1.0\n",
      "Marker Recall: 1.0\n",
      "True markers: 3\n",
      "False positive markers: 0 (0 were known calcification)\n",
      "False negative markers: 0\n",
      "Loss: 0.3266045153141022\n",
      "Loading model: models/SWI-20240405-013437-4-best.pth\n"
     ]
    },
    {
     "name": "stderr",
     "output_type": "stream",
     "text": [
      "Saved filed doesn't contain an optimizer state.\n"
     ]
    },
    {
     "name": "stdout",
     "output_type": "stream",
     "text": [
      "0/1; "
     ]
    },
    {
     "data": {
      "text/html": [
       "\n",
       "<style>\n",
       "    /* Turns off some styling */\n",
       "    progress {\n",
       "        /* gets rid of default border in Firefox and Opera. */\n",
       "        border: none;\n",
       "        /* Needs to be in here for Safari polyfill so background images work as expected. */\n",
       "        background-size: auto;\n",
       "    }\n",
       "    progress:not([value]), progress:not([value])::-webkit-progress-bar {\n",
       "        background: repeating-linear-gradient(45deg, #7e7e7e, #7e7e7e 10px, #5c5c5c 10px, #5c5c5c 20px);\n",
       "    }\n",
       "    .progress-bar-interrupted, .progress-bar-interrupted::-webkit-progress-bar {\n",
       "        background: #F44336;\n",
       "    }\n",
       "</style>\n"
      ],
      "text/plain": [
       "<IPython.core.display.HTML object>"
      ]
     },
     "metadata": {},
     "output_type": "display_data"
    },
    {
     "data": {
      "text/html": [],
      "text/plain": [
       "<IPython.core.display.HTML object>"
      ]
     },
     "metadata": {},
     "output_type": "display_data"
    },
    {
     "name": "stdout",
     "output_type": "stream",
     "text": [
      "Input file: out/swi/sub-z1448271_ses-20231110_acq-wipiswifl3dvibetrythisone_run-01_echo-01_part-phase_MEGRE_scaled_swi.nii\n",
      "Marker Precision: 0.6666666666666666\n",
      "Marker Recall: 0.6666666666666666\n",
      "True markers: 2\n",
      "False positive markers: 1 (1 were known calcification)\n",
      "False negative markers: 1\n",
      "Loss: 0.4807448387145996\n",
      "Loading model: models/SWI-20240405-020338-5-best.pth\n"
     ]
    },
    {
     "name": "stderr",
     "output_type": "stream",
     "text": [
      "Saved filed doesn't contain an optimizer state.\n"
     ]
    },
    {
     "name": "stdout",
     "output_type": "stream",
     "text": [
      "0/1; "
     ]
    },
    {
     "data": {
      "text/html": [
       "\n",
       "<style>\n",
       "    /* Turns off some styling */\n",
       "    progress {\n",
       "        /* gets rid of default border in Firefox and Opera. */\n",
       "        border: none;\n",
       "        /* Needs to be in here for Safari polyfill so background images work as expected. */\n",
       "        background-size: auto;\n",
       "    }\n",
       "    progress:not([value]), progress:not([value])::-webkit-progress-bar {\n",
       "        background: repeating-linear-gradient(45deg, #7e7e7e, #7e7e7e 10px, #5c5c5c 10px, #5c5c5c 20px);\n",
       "    }\n",
       "    .progress-bar-interrupted, .progress-bar-interrupted::-webkit-progress-bar {\n",
       "        background: #F44336;\n",
       "    }\n",
       "</style>\n"
      ],
      "text/plain": [
       "<IPython.core.display.HTML object>"
      ]
     },
     "metadata": {},
     "output_type": "display_data"
    },
    {
     "data": {
      "text/html": [],
      "text/plain": [
       "<IPython.core.display.HTML object>"
      ]
     },
     "metadata": {},
     "output_type": "display_data"
    },
    {
     "name": "stderr",
     "output_type": "stream",
     "text": [
      "Mean of empty slice\n"
     ]
    },
    {
     "name": "stdout",
     "output_type": "stream",
     "text": [
      "Input file: out/swi/sub-z1384048_ses-20231108_acq-wipiswifl3dvibetrythisone_run-01_echo-01_part-phase_MEGRE_scaled_swi.nii\n",
      "Marker Precision: 1.0\n",
      "Marker Recall: 1.0\n",
      "True markers: 3\n",
      "False positive markers: 0 (0 were known calcification)\n",
      "False negative markers: 0\n",
      "Loss: 0.3779834508895874\n",
      "Loading model: models/SWI-20240405-020509-6-best.pth\n"
     ]
    },
    {
     "name": "stderr",
     "output_type": "stream",
     "text": [
      "Saved filed doesn't contain an optimizer state.\n"
     ]
    },
    {
     "name": "stdout",
     "output_type": "stream",
     "text": [
      "0/1; "
     ]
    },
    {
     "data": {
      "text/html": [
       "\n",
       "<style>\n",
       "    /* Turns off some styling */\n",
       "    progress {\n",
       "        /* gets rid of default border in Firefox and Opera. */\n",
       "        border: none;\n",
       "        /* Needs to be in here for Safari polyfill so background images work as expected. */\n",
       "        background-size: auto;\n",
       "    }\n",
       "    progress:not([value]), progress:not([value])::-webkit-progress-bar {\n",
       "        background: repeating-linear-gradient(45deg, #7e7e7e, #7e7e7e 10px, #5c5c5c 10px, #5c5c5c 20px);\n",
       "    }\n",
       "    .progress-bar-interrupted, .progress-bar-interrupted::-webkit-progress-bar {\n",
       "        background: #F44336;\n",
       "    }\n",
       "</style>\n"
      ],
      "text/plain": [
       "<IPython.core.display.HTML object>"
      ]
     },
     "metadata": {},
     "output_type": "display_data"
    },
    {
     "data": {
      "text/html": [],
      "text/plain": [
       "<IPython.core.display.HTML object>"
      ]
     },
     "metadata": {},
     "output_type": "display_data"
    },
    {
     "name": "stderr",
     "output_type": "stream",
     "text": [
      "Mean of empty slice\n"
     ]
    },
    {
     "name": "stdout",
     "output_type": "stream",
     "text": [
      "Input file: out/swi/sub-z1635498_ses-20240305_acq-wipiswifl3dvibetrythisone_run-01_echo-01_part-phase_MEGRE_scaled_swi.nii\n",
      "Marker Precision: 1.0\n",
      "Marker Recall: 1.0\n",
      "True markers: 3\n",
      "False positive markers: 0 (0 were known calcification)\n",
      "False negative markers: 0\n",
      "Loss: 0.37742990255355835\n",
      "Loading model: models/SWI-20240405-020941-7-best.pth\n"
     ]
    },
    {
     "name": "stderr",
     "output_type": "stream",
     "text": [
      "Saved filed doesn't contain an optimizer state.\n"
     ]
    },
    {
     "name": "stdout",
     "output_type": "stream",
     "text": [
      "0/1; "
     ]
    },
    {
     "data": {
      "text/html": [
       "\n",
       "<style>\n",
       "    /* Turns off some styling */\n",
       "    progress {\n",
       "        /* gets rid of default border in Firefox and Opera. */\n",
       "        border: none;\n",
       "        /* Needs to be in here for Safari polyfill so background images work as expected. */\n",
       "        background-size: auto;\n",
       "    }\n",
       "    progress:not([value]), progress:not([value])::-webkit-progress-bar {\n",
       "        background: repeating-linear-gradient(45deg, #7e7e7e, #7e7e7e 10px, #5c5c5c 10px, #5c5c5c 20px);\n",
       "    }\n",
       "    .progress-bar-interrupted, .progress-bar-interrupted::-webkit-progress-bar {\n",
       "        background: #F44336;\n",
       "    }\n",
       "</style>\n"
      ],
      "text/plain": [
       "<IPython.core.display.HTML object>"
      ]
     },
     "metadata": {},
     "output_type": "display_data"
    },
    {
     "data": {
      "text/html": [],
      "text/plain": [
       "<IPython.core.display.HTML object>"
      ]
     },
     "metadata": {},
     "output_type": "display_data"
    },
    {
     "name": "stderr",
     "output_type": "stream",
     "text": [
      "Mean of empty slice\n"
     ]
    },
    {
     "name": "stdout",
     "output_type": "stream",
     "text": [
      "Input file: out/swi/sub-z0163277_ses-20240123_acq-wipiswifl3dvibetrythisone_run-01_echo-01_part-phase_MEGRE_scaled_swi.nii\n",
      "Marker Precision: 1.0\n",
      "Marker Recall: 1.0\n",
      "True markers: 3\n",
      "False positive markers: 0 (0 were known calcification)\n",
      "False negative markers: 0\n",
      "Loss: 0.40476903319358826\n",
      "Loading model: models/SWI-20240405-024031-8-best.pth\n"
     ]
    },
    {
     "name": "stderr",
     "output_type": "stream",
     "text": [
      "Saved filed doesn't contain an optimizer state.\n"
     ]
    },
    {
     "name": "stdout",
     "output_type": "stream",
     "text": [
      "0/1; "
     ]
    },
    {
     "data": {
      "text/html": [
       "\n",
       "<style>\n",
       "    /* Turns off some styling */\n",
       "    progress {\n",
       "        /* gets rid of default border in Firefox and Opera. */\n",
       "        border: none;\n",
       "        /* Needs to be in here for Safari polyfill so background images work as expected. */\n",
       "        background-size: auto;\n",
       "    }\n",
       "    progress:not([value]), progress:not([value])::-webkit-progress-bar {\n",
       "        background: repeating-linear-gradient(45deg, #7e7e7e, #7e7e7e 10px, #5c5c5c 10px, #5c5c5c 20px);\n",
       "    }\n",
       "    .progress-bar-interrupted, .progress-bar-interrupted::-webkit-progress-bar {\n",
       "        background: #F44336;\n",
       "    }\n",
       "</style>\n"
      ],
      "text/plain": [
       "<IPython.core.display.HTML object>"
      ]
     },
     "metadata": {},
     "output_type": "display_data"
    },
    {
     "data": {
      "text/html": [],
      "text/plain": [
       "<IPython.core.display.HTML object>"
      ]
     },
     "metadata": {},
     "output_type": "display_data"
    },
    {
     "name": "stderr",
     "output_type": "stream",
     "text": [
      "Mean of empty slice\n"
     ]
    },
    {
     "name": "stdout",
     "output_type": "stream",
     "text": [
      "Input file: out/swi/sub-z3220308_ses-20231009_acq-wipiswifl3dvibetrythisone_run-01_echo-01_part-phase_MEGRE_scaled_swi.nii\n",
      "Marker Precision: 1.0\n",
      "Marker Recall: 1.0\n",
      "True markers: 3\n",
      "False positive markers: 0 (0 were known calcification)\n",
      "False negative markers: 0\n",
      "Loss: 0.4131859242916107\n",
      "Loading model: models/SWI-20240405-024057-9-best.pth\n"
     ]
    },
    {
     "name": "stderr",
     "output_type": "stream",
     "text": [
      "Saved filed doesn't contain an optimizer state.\n"
     ]
    },
    {
     "name": "stdout",
     "output_type": "stream",
     "text": [
      "0/1; "
     ]
    },
    {
     "data": {
      "text/html": [
       "\n",
       "<style>\n",
       "    /* Turns off some styling */\n",
       "    progress {\n",
       "        /* gets rid of default border in Firefox and Opera. */\n",
       "        border: none;\n",
       "        /* Needs to be in here for Safari polyfill so background images work as expected. */\n",
       "        background-size: auto;\n",
       "    }\n",
       "    progress:not([value]), progress:not([value])::-webkit-progress-bar {\n",
       "        background: repeating-linear-gradient(45deg, #7e7e7e, #7e7e7e 10px, #5c5c5c 10px, #5c5c5c 20px);\n",
       "    }\n",
       "    .progress-bar-interrupted, .progress-bar-interrupted::-webkit-progress-bar {\n",
       "        background: #F44336;\n",
       "    }\n",
       "</style>\n"
      ],
      "text/plain": [
       "<IPython.core.display.HTML object>"
      ]
     },
     "metadata": {},
     "output_type": "display_data"
    },
    {
     "data": {
      "text/html": [],
      "text/plain": [
       "<IPython.core.display.HTML object>"
      ]
     },
     "metadata": {},
     "output_type": "display_data"
    },
    {
     "name": "stdout",
     "output_type": "stream",
     "text": [
      "Input file: out/swi/sub-z0381949_ses-20231005_acq-wipiswifl3dvibetrythisone_run-01_echo-01_part-phase_MEGRE_scaled_swi.nii\n",
      "Marker Precision: 0.6666666666666666\n",
      "Marker Recall: 0.6666666666666666\n",
      "True markers: 2\n",
      "False positive markers: 1 (1 were known calcification)\n",
      "False negative markers: 1\n",
      "Loss: 0.5103296637535095\n",
      "Loading model: models/SWI-20240405-024800-10-best.pth\n"
     ]
    },
    {
     "name": "stderr",
     "output_type": "stream",
     "text": [
      "Saved filed doesn't contain an optimizer state.\n"
     ]
    },
    {
     "name": "stdout",
     "output_type": "stream",
     "text": [
      "0/1; "
     ]
    },
    {
     "data": {
      "text/html": [
       "\n",
       "<style>\n",
       "    /* Turns off some styling */\n",
       "    progress {\n",
       "        /* gets rid of default border in Firefox and Opera. */\n",
       "        border: none;\n",
       "        /* Needs to be in here for Safari polyfill so background images work as expected. */\n",
       "        background-size: auto;\n",
       "    }\n",
       "    progress:not([value]), progress:not([value])::-webkit-progress-bar {\n",
       "        background: repeating-linear-gradient(45deg, #7e7e7e, #7e7e7e 10px, #5c5c5c 10px, #5c5c5c 20px);\n",
       "    }\n",
       "    .progress-bar-interrupted, .progress-bar-interrupted::-webkit-progress-bar {\n",
       "        background: #F44336;\n",
       "    }\n",
       "</style>\n"
      ],
      "text/plain": [
       "<IPython.core.display.HTML object>"
      ]
     },
     "metadata": {},
     "output_type": "display_data"
    },
    {
     "data": {
      "text/html": [],
      "text/plain": [
       "<IPython.core.display.HTML object>"
      ]
     },
     "metadata": {},
     "output_type": "display_data"
    },
    {
     "name": "stderr",
     "output_type": "stream",
     "text": [
      "Mean of empty slice\n"
     ]
    },
    {
     "name": "stdout",
     "output_type": "stream",
     "text": [
      "Input file: out/swi/sub-z0206923_ses-20231003_acq-wipiswifl3dvibetrythisone_run-01_echo-01_part-phase_MEGRE_scaled_swi.nii\n",
      "Marker Precision: 1.0\n",
      "Marker Recall: 1.0\n",
      "True markers: 3\n",
      "False positive markers: 0 (0 were known calcification)\n",
      "False negative markers: 0\n",
      "Loss: 0.39878132939338684\n",
      "Loading model: models/SWI-20240405-031138-11-best.pth\n"
     ]
    },
    {
     "name": "stderr",
     "output_type": "stream",
     "text": [
      "Saved filed doesn't contain an optimizer state.\n"
     ]
    },
    {
     "name": "stdout",
     "output_type": "stream",
     "text": [
      "0/1; "
     ]
    },
    {
     "data": {
      "text/html": [
       "\n",
       "<style>\n",
       "    /* Turns off some styling */\n",
       "    progress {\n",
       "        /* gets rid of default border in Firefox and Opera. */\n",
       "        border: none;\n",
       "        /* Needs to be in here for Safari polyfill so background images work as expected. */\n",
       "        background-size: auto;\n",
       "    }\n",
       "    progress:not([value]), progress:not([value])::-webkit-progress-bar {\n",
       "        background: repeating-linear-gradient(45deg, #7e7e7e, #7e7e7e 10px, #5c5c5c 10px, #5c5c5c 20px);\n",
       "    }\n",
       "    .progress-bar-interrupted, .progress-bar-interrupted::-webkit-progress-bar {\n",
       "        background: #F44336;\n",
       "    }\n",
       "</style>\n"
      ],
      "text/plain": [
       "<IPython.core.display.HTML object>"
      ]
     },
     "metadata": {},
     "output_type": "display_data"
    },
    {
     "data": {
      "text/html": [],
      "text/plain": [
       "<IPython.core.display.HTML object>"
      ]
     },
     "metadata": {},
     "output_type": "display_data"
    },
    {
     "name": "stdout",
     "output_type": "stream",
     "text": [
      "Input file: out/swi/sub-z1484547_ses-20240102_acq-wipiswifl3dvibetrythisone_run-01_echo-01_part-phase_MEGRE_scaled_swi.nii\n",
      "Marker Precision: 1.0\n",
      "Marker Recall: 1.0\n",
      "True markers: 3\n",
      "False positive markers: 0 (0 were known calcification)\n",
      "False negative markers: 0\n",
      "Loss: 0.3094261884689331\n",
      "Loading model: models/SWI-20240405-031341-12-best.pth\n"
     ]
    },
    {
     "name": "stderr",
     "output_type": "stream",
     "text": [
      "Saved filed doesn't contain an optimizer state.\n"
     ]
    },
    {
     "name": "stdout",
     "output_type": "stream",
     "text": [
      "0/1; "
     ]
    },
    {
     "data": {
      "text/html": [
       "\n",
       "<style>\n",
       "    /* Turns off some styling */\n",
       "    progress {\n",
       "        /* gets rid of default border in Firefox and Opera. */\n",
       "        border: none;\n",
       "        /* Needs to be in here for Safari polyfill so background images work as expected. */\n",
       "        background-size: auto;\n",
       "    }\n",
       "    progress:not([value]), progress:not([value])::-webkit-progress-bar {\n",
       "        background: repeating-linear-gradient(45deg, #7e7e7e, #7e7e7e 10px, #5c5c5c 10px, #5c5c5c 20px);\n",
       "    }\n",
       "    .progress-bar-interrupted, .progress-bar-interrupted::-webkit-progress-bar {\n",
       "        background: #F44336;\n",
       "    }\n",
       "</style>\n"
      ],
      "text/plain": [
       "<IPython.core.display.HTML object>"
      ]
     },
     "metadata": {},
     "output_type": "display_data"
    },
    {
     "data": {
      "text/html": [],
      "text/plain": [
       "<IPython.core.display.HTML object>"
      ]
     },
     "metadata": {},
     "output_type": "display_data"
    },
    {
     "name": "stderr",
     "output_type": "stream",
     "text": [
      "Mean of empty slice\n"
     ]
    },
    {
     "name": "stdout",
     "output_type": "stream",
     "text": [
      "Input file: out/swi/sub-z1645782_ses-20231010_acq-wipiswifl3dvibetrythisone_run-01_echo-01_part-phase_MEGRE_scaled_swi.nii\n",
      "Marker Precision: 1.0\n",
      "Marker Recall: 1.0\n",
      "True markers: 2\n",
      "False positive markers: 0 (0 were known calcification)\n",
      "False negative markers: 0\n",
      "Loss: 0.3764442503452301\n",
      "Loading model: models/SWI-20240405-032309-13-best.pth\n"
     ]
    },
    {
     "name": "stderr",
     "output_type": "stream",
     "text": [
      "Saved filed doesn't contain an optimizer state.\n"
     ]
    },
    {
     "name": "stdout",
     "output_type": "stream",
     "text": [
      "0/1; "
     ]
    },
    {
     "data": {
      "text/html": [
       "\n",
       "<style>\n",
       "    /* Turns off some styling */\n",
       "    progress {\n",
       "        /* gets rid of default border in Firefox and Opera. */\n",
       "        border: none;\n",
       "        /* Needs to be in here for Safari polyfill so background images work as expected. */\n",
       "        background-size: auto;\n",
       "    }\n",
       "    progress:not([value]), progress:not([value])::-webkit-progress-bar {\n",
       "        background: repeating-linear-gradient(45deg, #7e7e7e, #7e7e7e 10px, #5c5c5c 10px, #5c5c5c 20px);\n",
       "    }\n",
       "    .progress-bar-interrupted, .progress-bar-interrupted::-webkit-progress-bar {\n",
       "        background: #F44336;\n",
       "    }\n",
       "</style>\n"
      ],
      "text/plain": [
       "<IPython.core.display.HTML object>"
      ]
     },
     "metadata": {},
     "output_type": "display_data"
    },
    {
     "data": {
      "text/html": [],
      "text/plain": [
       "<IPython.core.display.HTML object>"
      ]
     },
     "metadata": {},
     "output_type": "display_data"
    },
    {
     "name": "stdout",
     "output_type": "stream",
     "text": [
      "Input file: out/swi/sub-z0232771_ses-20240228_acq-wipiswifl3dvibetrythisone_run-01_echo-01_part-phase_MEGRE_scaled_swi.nii\n",
      "Marker Precision: 1.0\n",
      "Marker Recall: 1.0\n",
      "True markers: 3\n",
      "False positive markers: 0 (0 were known calcification)\n",
      "False negative markers: 0\n",
      "Loss: 0.4444598853588104\n",
      "Loading model: models/SWI-20240405-035103-14-best.pth\n"
     ]
    },
    {
     "name": "stderr",
     "output_type": "stream",
     "text": [
      "Saved filed doesn't contain an optimizer state.\n"
     ]
    },
    {
     "name": "stdout",
     "output_type": "stream",
     "text": [
      "0/1; "
     ]
    },
    {
     "data": {
      "text/html": [
       "\n",
       "<style>\n",
       "    /* Turns off some styling */\n",
       "    progress {\n",
       "        /* gets rid of default border in Firefox and Opera. */\n",
       "        border: none;\n",
       "        /* Needs to be in here for Safari polyfill so background images work as expected. */\n",
       "        background-size: auto;\n",
       "    }\n",
       "    progress:not([value]), progress:not([value])::-webkit-progress-bar {\n",
       "        background: repeating-linear-gradient(45deg, #7e7e7e, #7e7e7e 10px, #5c5c5c 10px, #5c5c5c 20px);\n",
       "    }\n",
       "    .progress-bar-interrupted, .progress-bar-interrupted::-webkit-progress-bar {\n",
       "        background: #F44336;\n",
       "    }\n",
       "</style>\n"
      ],
      "text/plain": [
       "<IPython.core.display.HTML object>"
      ]
     },
     "metadata": {},
     "output_type": "display_data"
    },
    {
     "data": {
      "text/html": [],
      "text/plain": [
       "<IPython.core.display.HTML object>"
      ]
     },
     "metadata": {},
     "output_type": "display_data"
    },
    {
     "name": "stderr",
     "output_type": "stream",
     "text": [
      "Mean of empty slice\n"
     ]
    },
    {
     "name": "stdout",
     "output_type": "stream",
     "text": [
      "Input file: out/swi/sub-z0347933_ses-20240129_acq-wipiswifl3dvibetrythisone_run-01_echo-01_part-phase_MEGRE_scaled_swi.nii\n",
      "Marker Precision: 1.0\n",
      "Marker Recall: 1.0\n",
      "True markers: 3\n",
      "False positive markers: 0 (0 were known calcification)\n",
      "False negative markers: 0\n",
      "Loss: 0.3809022307395935\n",
      "Loading model: models/SWI-20240405-035238-15-best.pth\n"
     ]
    },
    {
     "name": "stderr",
     "output_type": "stream",
     "text": [
      "Saved filed doesn't contain an optimizer state.\n"
     ]
    },
    {
     "name": "stdout",
     "output_type": "stream",
     "text": [
      "0/1; "
     ]
    },
    {
     "data": {
      "text/html": [
       "\n",
       "<style>\n",
       "    /* Turns off some styling */\n",
       "    progress {\n",
       "        /* gets rid of default border in Firefox and Opera. */\n",
       "        border: none;\n",
       "        /* Needs to be in here for Safari polyfill so background images work as expected. */\n",
       "        background-size: auto;\n",
       "    }\n",
       "    progress:not([value]), progress:not([value])::-webkit-progress-bar {\n",
       "        background: repeating-linear-gradient(45deg, #7e7e7e, #7e7e7e 10px, #5c5c5c 10px, #5c5c5c 20px);\n",
       "    }\n",
       "    .progress-bar-interrupted, .progress-bar-interrupted::-webkit-progress-bar {\n",
       "        background: #F44336;\n",
       "    }\n",
       "</style>\n"
      ],
      "text/plain": [
       "<IPython.core.display.HTML object>"
      ]
     },
     "metadata": {},
     "output_type": "display_data"
    },
    {
     "data": {
      "text/html": [],
      "text/plain": [
       "<IPython.core.display.HTML object>"
      ]
     },
     "metadata": {},
     "output_type": "display_data"
    },
    {
     "name": "stdout",
     "output_type": "stream",
     "text": [
      "Input file: out/swi/sub-z3145629_ses-20231204_acq-wipiswifl3dvibetrythisone_run-01_echo-01_part-phase_MEGRE_scaled_swi.nii\n",
      "Marker Precision: 1.0\n",
      "Marker Recall: 0.6666666666666666\n",
      "True markers: 2\n",
      "False positive markers: 0 (0 were known calcification)\n",
      "False negative markers: 1\n",
      "Loss: 0.5602312088012695\n",
      "Loading model: models/SWI-20240405-035440-16-best.pth\n"
     ]
    },
    {
     "name": "stderr",
     "output_type": "stream",
     "text": [
      "Saved filed doesn't contain an optimizer state.\n"
     ]
    },
    {
     "name": "stdout",
     "output_type": "stream",
     "text": [
      "0/1; "
     ]
    },
    {
     "data": {
      "text/html": [
       "\n",
       "<style>\n",
       "    /* Turns off some styling */\n",
       "    progress {\n",
       "        /* gets rid of default border in Firefox and Opera. */\n",
       "        border: none;\n",
       "        /* Needs to be in here for Safari polyfill so background images work as expected. */\n",
       "        background-size: auto;\n",
       "    }\n",
       "    progress:not([value]), progress:not([value])::-webkit-progress-bar {\n",
       "        background: repeating-linear-gradient(45deg, #7e7e7e, #7e7e7e 10px, #5c5c5c 10px, #5c5c5c 20px);\n",
       "    }\n",
       "    .progress-bar-interrupted, .progress-bar-interrupted::-webkit-progress-bar {\n",
       "        background: #F44336;\n",
       "    }\n",
       "</style>\n"
      ],
      "text/plain": [
       "<IPython.core.display.HTML object>"
      ]
     },
     "metadata": {},
     "output_type": "display_data"
    },
    {
     "data": {
      "text/html": [],
      "text/plain": [
       "<IPython.core.display.HTML object>"
      ]
     },
     "metadata": {},
     "output_type": "display_data"
    },
    {
     "name": "stderr",
     "output_type": "stream",
     "text": [
      "Mean of empty slice\n"
     ]
    },
    {
     "name": "stdout",
     "output_type": "stream",
     "text": [
      "Input file: out/swi/sub-z2105112_ses-20231220_acq-wipiswifl3dvibetrythisone_run-01_echo-01_part-phase_MEGRE_scaled_swi.nii\n",
      "Marker Precision: 1.0\n",
      "Marker Recall: 1.0\n",
      "True markers: 3\n",
      "False positive markers: 0 (0 were known calcification)\n",
      "False negative markers: 0\n",
      "Loss: 0.3855067491531372\n",
      "Loading model: models/SWI-20240405-041707-17-best.pth\n"
     ]
    },
    {
     "name": "stderr",
     "output_type": "stream",
     "text": [
      "Saved filed doesn't contain an optimizer state.\n"
     ]
    },
    {
     "name": "stdout",
     "output_type": "stream",
     "text": [
      "0/1; "
     ]
    },
    {
     "data": {
      "text/html": [
       "\n",
       "<style>\n",
       "    /* Turns off some styling */\n",
       "    progress {\n",
       "        /* gets rid of default border in Firefox and Opera. */\n",
       "        border: none;\n",
       "        /* Needs to be in here for Safari polyfill so background images work as expected. */\n",
       "        background-size: auto;\n",
       "    }\n",
       "    progress:not([value]), progress:not([value])::-webkit-progress-bar {\n",
       "        background: repeating-linear-gradient(45deg, #7e7e7e, #7e7e7e 10px, #5c5c5c 10px, #5c5c5c 20px);\n",
       "    }\n",
       "    .progress-bar-interrupted, .progress-bar-interrupted::-webkit-progress-bar {\n",
       "        background: #F44336;\n",
       "    }\n",
       "</style>\n"
      ],
      "text/plain": [
       "<IPython.core.display.HTML object>"
      ]
     },
     "metadata": {},
     "output_type": "display_data"
    },
    {
     "data": {
      "text/html": [],
      "text/plain": [
       "<IPython.core.display.HTML object>"
      ]
     },
     "metadata": {},
     "output_type": "display_data"
    },
    {
     "name": "stdout",
     "output_type": "stream",
     "text": [
      "Input file: out/swi/sub-z3212665_ses-20240305_acq-wipiswifl3dvibetrythisone_run-01_echo-01_part-phase_MEGRE_scaled_swi.nii\n",
      "Marker Precision: 1.0\n",
      "Marker Recall: 1.0\n",
      "True markers: 3\n",
      "False positive markers: 0 (0 were known calcification)\n",
      "False negative markers: 0\n",
      "Loss: 0.44175493717193604\n",
      "Loading model: models/SWI-20240405-042355-18-best.pth\n"
     ]
    },
    {
     "name": "stderr",
     "output_type": "stream",
     "text": [
      "Saved filed doesn't contain an optimizer state.\n"
     ]
    },
    {
     "name": "stdout",
     "output_type": "stream",
     "text": [
      "0/1; "
     ]
    },
    {
     "data": {
      "text/html": [
       "\n",
       "<style>\n",
       "    /* Turns off some styling */\n",
       "    progress {\n",
       "        /* gets rid of default border in Firefox and Opera. */\n",
       "        border: none;\n",
       "        /* Needs to be in here for Safari polyfill so background images work as expected. */\n",
       "        background-size: auto;\n",
       "    }\n",
       "    progress:not([value]), progress:not([value])::-webkit-progress-bar {\n",
       "        background: repeating-linear-gradient(45deg, #7e7e7e, #7e7e7e 10px, #5c5c5c 10px, #5c5c5c 20px);\n",
       "    }\n",
       "    .progress-bar-interrupted, .progress-bar-interrupted::-webkit-progress-bar {\n",
       "        background: #F44336;\n",
       "    }\n",
       "</style>\n"
      ],
      "text/plain": [
       "<IPython.core.display.HTML object>"
      ]
     },
     "metadata": {},
     "output_type": "display_data"
    },
    {
     "data": {
      "text/html": [],
      "text/plain": [
       "<IPython.core.display.HTML object>"
      ]
     },
     "metadata": {},
     "output_type": "display_data"
    },
    {
     "name": "stdout",
     "output_type": "stream",
     "text": [
      "Input file: out/swi/sub-z2684925_ses-20240313_acq-wipiswifl3dvibetrythisone_run-01_echo-01_part-phase_MEGRE_scaled_swi.nii\n",
      "Marker Precision: 1.0\n",
      "Marker Recall: 1.0\n",
      "True markers: 3\n",
      "False positive markers: 0 (0 were known calcification)\n",
      "False negative markers: 0\n",
      "Loss: 0.36036816239356995\n",
      "Loading model: models/SWI-20240405-044317-19-best.pth\n"
     ]
    },
    {
     "name": "stderr",
     "output_type": "stream",
     "text": [
      "Saved filed doesn't contain an optimizer state.\n"
     ]
    },
    {
     "name": "stdout",
     "output_type": "stream",
     "text": [
      "0/1; "
     ]
    },
    {
     "data": {
      "text/html": [
       "\n",
       "<style>\n",
       "    /* Turns off some styling */\n",
       "    progress {\n",
       "        /* gets rid of default border in Firefox and Opera. */\n",
       "        border: none;\n",
       "        /* Needs to be in here for Safari polyfill so background images work as expected. */\n",
       "        background-size: auto;\n",
       "    }\n",
       "    progress:not([value]), progress:not([value])::-webkit-progress-bar {\n",
       "        background: repeating-linear-gradient(45deg, #7e7e7e, #7e7e7e 10px, #5c5c5c 10px, #5c5c5c 20px);\n",
       "    }\n",
       "    .progress-bar-interrupted, .progress-bar-interrupted::-webkit-progress-bar {\n",
       "        background: #F44336;\n",
       "    }\n",
       "</style>\n"
      ],
      "text/plain": [
       "<IPython.core.display.HTML object>"
      ]
     },
     "metadata": {},
     "output_type": "display_data"
    },
    {
     "data": {
      "text/html": [],
      "text/plain": [
       "<IPython.core.display.HTML object>"
      ]
     },
     "metadata": {},
     "output_type": "display_data"
    },
    {
     "name": "stdout",
     "output_type": "stream",
     "text": [
      "Input file: out/swi/sub-z4043512_ses-20240112_acq-wipiswifl3dvibetrythisone_run-01_echo-01_part-phase_MEGRE_scaled_swi.nii\n",
      "Marker Precision: 1.0\n",
      "Marker Recall: 1.0\n",
      "True markers: 3\n",
      "False positive markers: 0 (0 were known calcification)\n",
      "False negative markers: 0\n",
      "Loss: 0.30786940455436707\n",
      "Loading model: models/SWI-20240405-044418-20-best.pth\n"
     ]
    },
    {
     "name": "stderr",
     "output_type": "stream",
     "text": [
      "Saved filed doesn't contain an optimizer state.\n"
     ]
    },
    {
     "name": "stdout",
     "output_type": "stream",
     "text": [
      "0/1; "
     ]
    },
    {
     "data": {
      "text/html": [
       "\n",
       "<style>\n",
       "    /* Turns off some styling */\n",
       "    progress {\n",
       "        /* gets rid of default border in Firefox and Opera. */\n",
       "        border: none;\n",
       "        /* Needs to be in here for Safari polyfill so background images work as expected. */\n",
       "        background-size: auto;\n",
       "    }\n",
       "    progress:not([value]), progress:not([value])::-webkit-progress-bar {\n",
       "        background: repeating-linear-gradient(45deg, #7e7e7e, #7e7e7e 10px, #5c5c5c 10px, #5c5c5c 20px);\n",
       "    }\n",
       "    .progress-bar-interrupted, .progress-bar-interrupted::-webkit-progress-bar {\n",
       "        background: #F44336;\n",
       "    }\n",
       "</style>\n"
      ],
      "text/plain": [
       "<IPython.core.display.HTML object>"
      ]
     },
     "metadata": {},
     "output_type": "display_data"
    },
    {
     "data": {
      "text/html": [],
      "text/plain": [
       "<IPython.core.display.HTML object>"
      ]
     },
     "metadata": {},
     "output_type": "display_data"
    },
    {
     "name": "stderr",
     "output_type": "stream",
     "text": [
      "Mean of empty slice\n"
     ]
    },
    {
     "name": "stdout",
     "output_type": "stream",
     "text": [
      "Input file: out/swi/sub-z0747844_ses-20240304_acq-wipiswifl3dvibetrythisone_run-01_echo-01_part-phase_MEGRE_scaled_swi.nii\n",
      "Marker Precision: 1.0\n",
      "Marker Recall: 0.6666666666666666\n",
      "True markers: 2\n",
      "False positive markers: 0 (0 were known calcification)\n",
      "False negative markers: 1\n",
      "Loss: 0.4922676384449005\n",
      "Loading model: models/SWI-20240405-050657-21-best.pth\n"
     ]
    },
    {
     "name": "stderr",
     "output_type": "stream",
     "text": [
      "Saved filed doesn't contain an optimizer state.\n"
     ]
    },
    {
     "name": "stdout",
     "output_type": "stream",
     "text": [
      "0/1; "
     ]
    },
    {
     "data": {
      "text/html": [
       "\n",
       "<style>\n",
       "    /* Turns off some styling */\n",
       "    progress {\n",
       "        /* gets rid of default border in Firefox and Opera. */\n",
       "        border: none;\n",
       "        /* Needs to be in here for Safari polyfill so background images work as expected. */\n",
       "        background-size: auto;\n",
       "    }\n",
       "    progress:not([value]), progress:not([value])::-webkit-progress-bar {\n",
       "        background: repeating-linear-gradient(45deg, #7e7e7e, #7e7e7e 10px, #5c5c5c 10px, #5c5c5c 20px);\n",
       "    }\n",
       "    .progress-bar-interrupted, .progress-bar-interrupted::-webkit-progress-bar {\n",
       "        background: #F44336;\n",
       "    }\n",
       "</style>\n"
      ],
      "text/plain": [
       "<IPython.core.display.HTML object>"
      ]
     },
     "metadata": {},
     "output_type": "display_data"
    },
    {
     "data": {
      "text/html": [],
      "text/plain": [
       "<IPython.core.display.HTML object>"
      ]
     },
     "metadata": {},
     "output_type": "display_data"
    },
    {
     "name": "stderr",
     "output_type": "stream",
     "text": [
      "Mean of empty slice\n"
     ]
    },
    {
     "name": "stdout",
     "output_type": "stream",
     "text": [
      "Input file: out/swi/sub-z1421134_ses-20231205_acq-wipiswifl3dvibetrythisone_run-01_echo-01_part-phase_MEGRE_scaled_swi.nii\n",
      "Marker Precision: 1.0\n",
      "Marker Recall: 1.0\n",
      "True markers: 3\n",
      "False positive markers: 0 (0 were known calcification)\n",
      "False negative markers: 0\n",
      "Loss: 0.4318453371524811\n",
      "Loading model: models/SWI-20240405-053107-22-best.pth\n"
     ]
    },
    {
     "name": "stderr",
     "output_type": "stream",
     "text": [
      "Saved filed doesn't contain an optimizer state.\n"
     ]
    },
    {
     "name": "stdout",
     "output_type": "stream",
     "text": [
      "0/1; "
     ]
    },
    {
     "data": {
      "text/html": [
       "\n",
       "<style>\n",
       "    /* Turns off some styling */\n",
       "    progress {\n",
       "        /* gets rid of default border in Firefox and Opera. */\n",
       "        border: none;\n",
       "        /* Needs to be in here for Safari polyfill so background images work as expected. */\n",
       "        background-size: auto;\n",
       "    }\n",
       "    progress:not([value]), progress:not([value])::-webkit-progress-bar {\n",
       "        background: repeating-linear-gradient(45deg, #7e7e7e, #7e7e7e 10px, #5c5c5c 10px, #5c5c5c 20px);\n",
       "    }\n",
       "    .progress-bar-interrupted, .progress-bar-interrupted::-webkit-progress-bar {\n",
       "        background: #F44336;\n",
       "    }\n",
       "</style>\n"
      ],
      "text/plain": [
       "<IPython.core.display.HTML object>"
      ]
     },
     "metadata": {},
     "output_type": "display_data"
    },
    {
     "data": {
      "text/html": [],
      "text/plain": [
       "<IPython.core.display.HTML object>"
      ]
     },
     "metadata": {},
     "output_type": "display_data"
    },
    {
     "name": "stderr",
     "output_type": "stream",
     "text": [
      "Mean of empty slice\n"
     ]
    },
    {
     "name": "stdout",
     "output_type": "stream",
     "text": [
      "Input file: out/swi/sub-z1638396_ses-20240311_acq-wipiswifl3dvibetrythisone_run-01_echo-01_part-phase_MEGRE_scaled_swi.nii\n",
      "Marker Precision: 1.0\n",
      "Marker Recall: 1.0\n",
      "True markers: 3\n",
      "False positive markers: 0 (0 were known calcification)\n",
      "False negative markers: 0\n",
      "Loss: 0.41847461462020874\n",
      "Loading model: models/SWI-20240405-053315-23-best.pth\n"
     ]
    },
    {
     "name": "stderr",
     "output_type": "stream",
     "text": [
      "Saved filed doesn't contain an optimizer state.\n"
     ]
    },
    {
     "name": "stdout",
     "output_type": "stream",
     "text": [
      "0/1; "
     ]
    },
    {
     "data": {
      "text/html": [
       "\n",
       "<style>\n",
       "    /* Turns off some styling */\n",
       "    progress {\n",
       "        /* gets rid of default border in Firefox and Opera. */\n",
       "        border: none;\n",
       "        /* Needs to be in here for Safari polyfill so background images work as expected. */\n",
       "        background-size: auto;\n",
       "    }\n",
       "    progress:not([value]), progress:not([value])::-webkit-progress-bar {\n",
       "        background: repeating-linear-gradient(45deg, #7e7e7e, #7e7e7e 10px, #5c5c5c 10px, #5c5c5c 20px);\n",
       "    }\n",
       "    .progress-bar-interrupted, .progress-bar-interrupted::-webkit-progress-bar {\n",
       "        background: #F44336;\n",
       "    }\n",
       "</style>\n"
      ],
      "text/plain": [
       "<IPython.core.display.HTML object>"
      ]
     },
     "metadata": {},
     "output_type": "display_data"
    },
    {
     "data": {
      "text/html": [],
      "text/plain": [
       "<IPython.core.display.HTML object>"
      ]
     },
     "metadata": {},
     "output_type": "display_data"
    },
    {
     "name": "stderr",
     "output_type": "stream",
     "text": [
      "Mean of empty slice\n"
     ]
    },
    {
     "name": "stdout",
     "output_type": "stream",
     "text": [
      "Input file: out/swi/sub-z2996397_ses-20231201_acq-wipiswifl3dvibetrythisone_run-01_echo-01_part-phase_MEGRE_scaled_swi.nii\n",
      "Marker Precision: 1.0\n",
      "Marker Recall: 1.0\n",
      "True markers: 3\n",
      "False positive markers: 0 (0 were known calcification)\n",
      "False negative markers: 0\n",
      "Loss: 0.3829539120197296\n",
      "Loading model: models/SWI-20240405-053753-24-best.pth\n"
     ]
    },
    {
     "name": "stderr",
     "output_type": "stream",
     "text": [
      "Saved filed doesn't contain an optimizer state.\n"
     ]
    },
    {
     "name": "stdout",
     "output_type": "stream",
     "text": [
      "0/1; "
     ]
    },
    {
     "data": {
      "text/html": [
       "\n",
       "<style>\n",
       "    /* Turns off some styling */\n",
       "    progress {\n",
       "        /* gets rid of default border in Firefox and Opera. */\n",
       "        border: none;\n",
       "        /* Needs to be in here for Safari polyfill so background images work as expected. */\n",
       "        background-size: auto;\n",
       "    }\n",
       "    progress:not([value]), progress:not([value])::-webkit-progress-bar {\n",
       "        background: repeating-linear-gradient(45deg, #7e7e7e, #7e7e7e 10px, #5c5c5c 10px, #5c5c5c 20px);\n",
       "    }\n",
       "    .progress-bar-interrupted, .progress-bar-interrupted::-webkit-progress-bar {\n",
       "        background: #F44336;\n",
       "    }\n",
       "</style>\n"
      ],
      "text/plain": [
       "<IPython.core.display.HTML object>"
      ]
     },
     "metadata": {},
     "output_type": "display_data"
    },
    {
     "data": {
      "text/html": [],
      "text/plain": [
       "<IPython.core.display.HTML object>"
      ]
     },
     "metadata": {},
     "output_type": "display_data"
    },
    {
     "name": "stdout",
     "output_type": "stream",
     "text": [
      "Input file: out/swi/sub-z0742379_ses-20240124_acq-wipiswifl3dvibetrythisone_run-01_echo-01_part-phase_MEGRE_scaled_swi.nii\n",
      "Marker Precision: 0.6666666666666666\n",
      "Marker Recall: 0.6666666666666666\n",
      "True markers: 2\n",
      "False positive markers: 1 (0 were known calcification)\n",
      "False negative markers: 1\n",
      "Loss: 0.5511376261711121\n",
      "=== R2s ===\n",
      "infile_cols: ['r2s_files']; n_input_channels: 1\n",
      "Loading model: models/R2s-20240405-102401-0-best.pth\n"
     ]
    },
    {
     "name": "stderr",
     "output_type": "stream",
     "text": [
      "Saved filed doesn't contain an optimizer state.\n"
     ]
    },
    {
     "name": "stdout",
     "output_type": "stream",
     "text": [
      "0/1; "
     ]
    },
    {
     "data": {
      "text/html": [
       "\n",
       "<style>\n",
       "    /* Turns off some styling */\n",
       "    progress {\n",
       "        /* gets rid of default border in Firefox and Opera. */\n",
       "        border: none;\n",
       "        /* Needs to be in here for Safari polyfill so background images work as expected. */\n",
       "        background-size: auto;\n",
       "    }\n",
       "    progress:not([value]), progress:not([value])::-webkit-progress-bar {\n",
       "        background: repeating-linear-gradient(45deg, #7e7e7e, #7e7e7e 10px, #5c5c5c 10px, #5c5c5c 20px);\n",
       "    }\n",
       "    .progress-bar-interrupted, .progress-bar-interrupted::-webkit-progress-bar {\n",
       "        background: #F44336;\n",
       "    }\n",
       "</style>\n"
      ],
      "text/plain": [
       "<IPython.core.display.HTML object>"
      ]
     },
     "metadata": {},
     "output_type": "display_data"
    },
    {
     "data": {
      "text/html": [],
      "text/plain": [
       "<IPython.core.display.HTML object>"
      ]
     },
     "metadata": {},
     "output_type": "display_data"
    },
    {
     "name": "stdout",
     "output_type": "stream",
     "text": [
      "Input file: out/r2s/sub-z1318033_ses-20230825_acq-wipiswifl3dvibetrythisone_run-01_echo-01_part-mag_MEGRE_r2s.nii\n",
      "Marker Precision: 1.0\n",
      "Marker Recall: 1.0\n",
      "True markers: 3\n",
      "False positive markers: 0 (0 were known calcification)\n",
      "False negative markers: 0\n",
      "Loss: 0.44013628363609314\n",
      "Loading model: models/R2s-20240405-102609-1-best.pth\n"
     ]
    },
    {
     "name": "stderr",
     "output_type": "stream",
     "text": [
      "Saved filed doesn't contain an optimizer state.\n"
     ]
    },
    {
     "name": "stdout",
     "output_type": "stream",
     "text": [
      "0/1; "
     ]
    },
    {
     "data": {
      "text/html": [
       "\n",
       "<style>\n",
       "    /* Turns off some styling */\n",
       "    progress {\n",
       "        /* gets rid of default border in Firefox and Opera. */\n",
       "        border: none;\n",
       "        /* Needs to be in here for Safari polyfill so background images work as expected. */\n",
       "        background-size: auto;\n",
       "    }\n",
       "    progress:not([value]), progress:not([value])::-webkit-progress-bar {\n",
       "        background: repeating-linear-gradient(45deg, #7e7e7e, #7e7e7e 10px, #5c5c5c 10px, #5c5c5c 20px);\n",
       "    }\n",
       "    .progress-bar-interrupted, .progress-bar-interrupted::-webkit-progress-bar {\n",
       "        background: #F44336;\n",
       "    }\n",
       "</style>\n"
      ],
      "text/plain": [
       "<IPython.core.display.HTML object>"
      ]
     },
     "metadata": {},
     "output_type": "display_data"
    },
    {
     "data": {
      "text/html": [],
      "text/plain": [
       "<IPython.core.display.HTML object>"
      ]
     },
     "metadata": {},
     "output_type": "display_data"
    },
    {
     "name": "stderr",
     "output_type": "stream",
     "text": [
      "Mean of empty slice\n"
     ]
    },
    {
     "name": "stdout",
     "output_type": "stream",
     "text": [
      "Input file: out/r2s/sub-z1691325_ses-20240227_acq-wipiswifl3dvibetrythisone_run-01_echo-01_part-mag_MEGRE_r2s.nii\n",
      "Marker Precision: 1.0\n",
      "Marker Recall: 1.0\n",
      "True markers: 3\n",
      "False positive markers: 0 (0 were known calcification)\n",
      "False negative markers: 0\n",
      "Loss: 0.3887336850166321\n",
      "Loading model: models/R2s-20240405-102741-2-best.pth\n"
     ]
    },
    {
     "name": "stderr",
     "output_type": "stream",
     "text": [
      "Saved filed doesn't contain an optimizer state.\n"
     ]
    },
    {
     "name": "stdout",
     "output_type": "stream",
     "text": [
      "0/1; "
     ]
    },
    {
     "data": {
      "text/html": [
       "\n",
       "<style>\n",
       "    /* Turns off some styling */\n",
       "    progress {\n",
       "        /* gets rid of default border in Firefox and Opera. */\n",
       "        border: none;\n",
       "        /* Needs to be in here for Safari polyfill so background images work as expected. */\n",
       "        background-size: auto;\n",
       "    }\n",
       "    progress:not([value]), progress:not([value])::-webkit-progress-bar {\n",
       "        background: repeating-linear-gradient(45deg, #7e7e7e, #7e7e7e 10px, #5c5c5c 10px, #5c5c5c 20px);\n",
       "    }\n",
       "    .progress-bar-interrupted, .progress-bar-interrupted::-webkit-progress-bar {\n",
       "        background: #F44336;\n",
       "    }\n",
       "</style>\n"
      ],
      "text/plain": [
       "<IPython.core.display.HTML object>"
      ]
     },
     "metadata": {},
     "output_type": "display_data"
    },
    {
     "data": {
      "text/html": [],
      "text/plain": [
       "<IPython.core.display.HTML object>"
      ]
     },
     "metadata": {},
     "output_type": "display_data"
    },
    {
     "name": "stdout",
     "output_type": "stream",
     "text": [
      "Input file: out/r2s/sub-z0002292_ses-20240318_acq-wipiswifl3dvibetrythisone_run-01_echo-01_part-mag_MEGRE_r2s.nii\n",
      "Marker Precision: 1.0\n",
      "Marker Recall: 1.0\n",
      "True markers: 3\n",
      "False positive markers: 0 (0 were known calcification)\n",
      "False negative markers: 0\n",
      "Loss: 0.4149264693260193\n",
      "Loading model: models/R2s-20240405-104734-3-best.pth\n"
     ]
    },
    {
     "name": "stderr",
     "output_type": "stream",
     "text": [
      "Saved filed doesn't contain an optimizer state.\n"
     ]
    },
    {
     "name": "stdout",
     "output_type": "stream",
     "text": [
      "0/1; "
     ]
    },
    {
     "data": {
      "text/html": [
       "\n",
       "<style>\n",
       "    /* Turns off some styling */\n",
       "    progress {\n",
       "        /* gets rid of default border in Firefox and Opera. */\n",
       "        border: none;\n",
       "        /* Needs to be in here for Safari polyfill so background images work as expected. */\n",
       "        background-size: auto;\n",
       "    }\n",
       "    progress:not([value]), progress:not([value])::-webkit-progress-bar {\n",
       "        background: repeating-linear-gradient(45deg, #7e7e7e, #7e7e7e 10px, #5c5c5c 10px, #5c5c5c 20px);\n",
       "    }\n",
       "    .progress-bar-interrupted, .progress-bar-interrupted::-webkit-progress-bar {\n",
       "        background: #F44336;\n",
       "    }\n",
       "</style>\n"
      ],
      "text/plain": [
       "<IPython.core.display.HTML object>"
      ]
     },
     "metadata": {},
     "output_type": "display_data"
    },
    {
     "data": {
      "text/html": [],
      "text/plain": [
       "<IPython.core.display.HTML object>"
      ]
     },
     "metadata": {},
     "output_type": "display_data"
    },
    {
     "name": "stdout",
     "output_type": "stream",
     "text": [
      "Input file: out/r2s/sub-z3268423_ses-20240109_acq-wipiswifl3dvibetrythisone_run-01_echo-01_part-mag_MEGRE_r2s.nii\n",
      "Marker Precision: 1.0\n",
      "Marker Recall: 1.0\n",
      "True markers: 3\n",
      "False positive markers: 0 (0 were known calcification)\n",
      "False negative markers: 0\n",
      "Loss: 0.37861454486846924\n",
      "Loading model: models/R2s-20240405-105809-4-best.pth\n"
     ]
    },
    {
     "name": "stderr",
     "output_type": "stream",
     "text": [
      "Saved filed doesn't contain an optimizer state.\n"
     ]
    },
    {
     "name": "stdout",
     "output_type": "stream",
     "text": [
      "0/1; "
     ]
    },
    {
     "data": {
      "text/html": [
       "\n",
       "<style>\n",
       "    /* Turns off some styling */\n",
       "    progress {\n",
       "        /* gets rid of default border in Firefox and Opera. */\n",
       "        border: none;\n",
       "        /* Needs to be in here for Safari polyfill so background images work as expected. */\n",
       "        background-size: auto;\n",
       "    }\n",
       "    progress:not([value]), progress:not([value])::-webkit-progress-bar {\n",
       "        background: repeating-linear-gradient(45deg, #7e7e7e, #7e7e7e 10px, #5c5c5c 10px, #5c5c5c 20px);\n",
       "    }\n",
       "    .progress-bar-interrupted, .progress-bar-interrupted::-webkit-progress-bar {\n",
       "        background: #F44336;\n",
       "    }\n",
       "</style>\n"
      ],
      "text/plain": [
       "<IPython.core.display.HTML object>"
      ]
     },
     "metadata": {},
     "output_type": "display_data"
    },
    {
     "data": {
      "text/html": [],
      "text/plain": [
       "<IPython.core.display.HTML object>"
      ]
     },
     "metadata": {},
     "output_type": "display_data"
    },
    {
     "name": "stdout",
     "output_type": "stream",
     "text": [
      "Input file: out/r2s/sub-z1448271_ses-20231110_acq-wipiswifl3dvibetrythisone_run-01_echo-01_part-mag_MEGRE_r2s.nii\n",
      "Marker Precision: 1.0\n",
      "Marker Recall: 0.6666666666666666\n",
      "True markers: 2\n",
      "False positive markers: 0 (0 were known calcification)\n",
      "False negative markers: 1\n",
      "Loss: 0.4167895019054413\n",
      "Loading model: models/R2s-20240405-110247-5-best.pth\n"
     ]
    },
    {
     "name": "stderr",
     "output_type": "stream",
     "text": [
      "Saved filed doesn't contain an optimizer state.\n"
     ]
    },
    {
     "name": "stdout",
     "output_type": "stream",
     "text": [
      "0/1; "
     ]
    },
    {
     "data": {
      "text/html": [
       "\n",
       "<style>\n",
       "    /* Turns off some styling */\n",
       "    progress {\n",
       "        /* gets rid of default border in Firefox and Opera. */\n",
       "        border: none;\n",
       "        /* Needs to be in here for Safari polyfill so background images work as expected. */\n",
       "        background-size: auto;\n",
       "    }\n",
       "    progress:not([value]), progress:not([value])::-webkit-progress-bar {\n",
       "        background: repeating-linear-gradient(45deg, #7e7e7e, #7e7e7e 10px, #5c5c5c 10px, #5c5c5c 20px);\n",
       "    }\n",
       "    .progress-bar-interrupted, .progress-bar-interrupted::-webkit-progress-bar {\n",
       "        background: #F44336;\n",
       "    }\n",
       "</style>\n"
      ],
      "text/plain": [
       "<IPython.core.display.HTML object>"
      ]
     },
     "metadata": {},
     "output_type": "display_data"
    },
    {
     "data": {
      "text/html": [],
      "text/plain": [
       "<IPython.core.display.HTML object>"
      ]
     },
     "metadata": {},
     "output_type": "display_data"
    },
    {
     "name": "stderr",
     "output_type": "stream",
     "text": [
      "Mean of empty slice\n"
     ]
    },
    {
     "name": "stdout",
     "output_type": "stream",
     "text": [
      "Input file: out/r2s/sub-z1384048_ses-20231108_acq-wipiswifl3dvibetrythisone_run-01_echo-01_part-mag_MEGRE_r2s.nii\n",
      "Marker Precision: 1.0\n",
      "Marker Recall: 1.0\n",
      "True markers: 3\n",
      "False positive markers: 0 (0 were known calcification)\n",
      "False negative markers: 0\n",
      "Loss: 0.36538806557655334\n",
      "Loading model: models/R2s-20240405-111110-6-best.pth\n"
     ]
    },
    {
     "name": "stderr",
     "output_type": "stream",
     "text": [
      "Saved filed doesn't contain an optimizer state.\n"
     ]
    },
    {
     "name": "stdout",
     "output_type": "stream",
     "text": [
      "0/1; "
     ]
    },
    {
     "data": {
      "text/html": [
       "\n",
       "<style>\n",
       "    /* Turns off some styling */\n",
       "    progress {\n",
       "        /* gets rid of default border in Firefox and Opera. */\n",
       "        border: none;\n",
       "        /* Needs to be in here for Safari polyfill so background images work as expected. */\n",
       "        background-size: auto;\n",
       "    }\n",
       "    progress:not([value]), progress:not([value])::-webkit-progress-bar {\n",
       "        background: repeating-linear-gradient(45deg, #7e7e7e, #7e7e7e 10px, #5c5c5c 10px, #5c5c5c 20px);\n",
       "    }\n",
       "    .progress-bar-interrupted, .progress-bar-interrupted::-webkit-progress-bar {\n",
       "        background: #F44336;\n",
       "    }\n",
       "</style>\n"
      ],
      "text/plain": [
       "<IPython.core.display.HTML object>"
      ]
     },
     "metadata": {},
     "output_type": "display_data"
    },
    {
     "data": {
      "text/html": [],
      "text/plain": [
       "<IPython.core.display.HTML object>"
      ]
     },
     "metadata": {},
     "output_type": "display_data"
    },
    {
     "name": "stderr",
     "output_type": "stream",
     "text": [
      "Mean of empty slice\n"
     ]
    },
    {
     "name": "stdout",
     "output_type": "stream",
     "text": [
      "Input file: out/r2s/sub-z1635498_ses-20240305_acq-wipiswifl3dvibetrythisone_run-01_echo-01_part-mag_MEGRE_r2s.nii\n",
      "Marker Precision: 1.0\n",
      "Marker Recall: 1.0\n",
      "True markers: 3\n",
      "False positive markers: 0 (0 were known calcification)\n",
      "False negative markers: 0\n",
      "Loss: 0.37915554642677307\n",
      "Loading model: models/R2s-20240405-113841-7-best.pth\n"
     ]
    },
    {
     "name": "stderr",
     "output_type": "stream",
     "text": [
      "Saved filed doesn't contain an optimizer state.\n"
     ]
    },
    {
     "name": "stdout",
     "output_type": "stream",
     "text": [
      "0/1; "
     ]
    },
    {
     "data": {
      "text/html": [
       "\n",
       "<style>\n",
       "    /* Turns off some styling */\n",
       "    progress {\n",
       "        /* gets rid of default border in Firefox and Opera. */\n",
       "        border: none;\n",
       "        /* Needs to be in here for Safari polyfill so background images work as expected. */\n",
       "        background-size: auto;\n",
       "    }\n",
       "    progress:not([value]), progress:not([value])::-webkit-progress-bar {\n",
       "        background: repeating-linear-gradient(45deg, #7e7e7e, #7e7e7e 10px, #5c5c5c 10px, #5c5c5c 20px);\n",
       "    }\n",
       "    .progress-bar-interrupted, .progress-bar-interrupted::-webkit-progress-bar {\n",
       "        background: #F44336;\n",
       "    }\n",
       "</style>\n"
      ],
      "text/plain": [
       "<IPython.core.display.HTML object>"
      ]
     },
     "metadata": {},
     "output_type": "display_data"
    },
    {
     "data": {
      "text/html": [],
      "text/plain": [
       "<IPython.core.display.HTML object>"
      ]
     },
     "metadata": {},
     "output_type": "display_data"
    },
    {
     "name": "stderr",
     "output_type": "stream",
     "text": [
      "Mean of empty slice\n"
     ]
    },
    {
     "name": "stdout",
     "output_type": "stream",
     "text": [
      "Input file: out/r2s/sub-z0163277_ses-20240123_acq-wipiswifl3dvibetrythisone_run-01_echo-01_part-mag_MEGRE_r2s.nii\n",
      "Marker Precision: 1.0\n",
      "Marker Recall: 1.0\n",
      "True markers: 3\n",
      "False positive markers: 0 (0 were known calcification)\n",
      "False negative markers: 0\n",
      "Loss: 0.4898924231529236\n",
      "Loading model: models/R2s-20240405-114509-8-best.pth\n"
     ]
    },
    {
     "name": "stderr",
     "output_type": "stream",
     "text": [
      "Saved filed doesn't contain an optimizer state.\n"
     ]
    },
    {
     "name": "stdout",
     "output_type": "stream",
     "text": [
      "0/1; "
     ]
    },
    {
     "data": {
      "text/html": [
       "\n",
       "<style>\n",
       "    /* Turns off some styling */\n",
       "    progress {\n",
       "        /* gets rid of default border in Firefox and Opera. */\n",
       "        border: none;\n",
       "        /* Needs to be in here for Safari polyfill so background images work as expected. */\n",
       "        background-size: auto;\n",
       "    }\n",
       "    progress:not([value]), progress:not([value])::-webkit-progress-bar {\n",
       "        background: repeating-linear-gradient(45deg, #7e7e7e, #7e7e7e 10px, #5c5c5c 10px, #5c5c5c 20px);\n",
       "    }\n",
       "    .progress-bar-interrupted, .progress-bar-interrupted::-webkit-progress-bar {\n",
       "        background: #F44336;\n",
       "    }\n",
       "</style>\n"
      ],
      "text/plain": [
       "<IPython.core.display.HTML object>"
      ]
     },
     "metadata": {},
     "output_type": "display_data"
    },
    {
     "data": {
      "text/html": [],
      "text/plain": [
       "<IPython.core.display.HTML object>"
      ]
     },
     "metadata": {},
     "output_type": "display_data"
    },
    {
     "name": "stderr",
     "output_type": "stream",
     "text": [
      "Mean of empty slice\n"
     ]
    },
    {
     "name": "stdout",
     "output_type": "stream",
     "text": [
      "Input file: out/r2s/sub-z3220308_ses-20231009_acq-wipiswifl3dvibetrythisone_run-01_echo-01_part-mag_MEGRE_r2s.nii\n",
      "Marker Precision: 1.0\n",
      "Marker Recall: 1.0\n",
      "True markers: 3\n",
      "False positive markers: 0 (0 were known calcification)\n",
      "False negative markers: 0\n",
      "Loss: 0.4163009524345398\n",
      "Loading model: models/R2s-20240405-115449-9-best.pth\n"
     ]
    },
    {
     "name": "stderr",
     "output_type": "stream",
     "text": [
      "Saved filed doesn't contain an optimizer state.\n"
     ]
    },
    {
     "name": "stdout",
     "output_type": "stream",
     "text": [
      "0/1; "
     ]
    },
    {
     "data": {
      "text/html": [
       "\n",
       "<style>\n",
       "    /* Turns off some styling */\n",
       "    progress {\n",
       "        /* gets rid of default border in Firefox and Opera. */\n",
       "        border: none;\n",
       "        /* Needs to be in here for Safari polyfill so background images work as expected. */\n",
       "        background-size: auto;\n",
       "    }\n",
       "    progress:not([value]), progress:not([value])::-webkit-progress-bar {\n",
       "        background: repeating-linear-gradient(45deg, #7e7e7e, #7e7e7e 10px, #5c5c5c 10px, #5c5c5c 20px);\n",
       "    }\n",
       "    .progress-bar-interrupted, .progress-bar-interrupted::-webkit-progress-bar {\n",
       "        background: #F44336;\n",
       "    }\n",
       "</style>\n"
      ],
      "text/plain": [
       "<IPython.core.display.HTML object>"
      ]
     },
     "metadata": {},
     "output_type": "display_data"
    },
    {
     "data": {
      "text/html": [],
      "text/plain": [
       "<IPython.core.display.HTML object>"
      ]
     },
     "metadata": {},
     "output_type": "display_data"
    },
    {
     "name": "stdout",
     "output_type": "stream",
     "text": [
      "Input file: out/r2s/sub-z0381949_ses-20231005_acq-wipiswifl3dvibetrythisone_run-01_echo-01_part-mag_MEGRE_r2s.nii\n",
      "Marker Precision: 1.0\n",
      "Marker Recall: 1.0\n",
      "True markers: 3\n",
      "False positive markers: 0 (0 were known calcification)\n",
      "False negative markers: 0\n",
      "Loss: 0.352629691362381\n",
      "Loading model: models/R2s-20240405-121019-10-best.pth\n"
     ]
    },
    {
     "name": "stderr",
     "output_type": "stream",
     "text": [
      "Saved filed doesn't contain an optimizer state.\n"
     ]
    },
    {
     "name": "stdout",
     "output_type": "stream",
     "text": [
      "0/1; "
     ]
    },
    {
     "data": {
      "text/html": [
       "\n",
       "<style>\n",
       "    /* Turns off some styling */\n",
       "    progress {\n",
       "        /* gets rid of default border in Firefox and Opera. */\n",
       "        border: none;\n",
       "        /* Needs to be in here for Safari polyfill so background images work as expected. */\n",
       "        background-size: auto;\n",
       "    }\n",
       "    progress:not([value]), progress:not([value])::-webkit-progress-bar {\n",
       "        background: repeating-linear-gradient(45deg, #7e7e7e, #7e7e7e 10px, #5c5c5c 10px, #5c5c5c 20px);\n",
       "    }\n",
       "    .progress-bar-interrupted, .progress-bar-interrupted::-webkit-progress-bar {\n",
       "        background: #F44336;\n",
       "    }\n",
       "</style>\n"
      ],
      "text/plain": [
       "<IPython.core.display.HTML object>"
      ]
     },
     "metadata": {},
     "output_type": "display_data"
    },
    {
     "data": {
      "text/html": [],
      "text/plain": [
       "<IPython.core.display.HTML object>"
      ]
     },
     "metadata": {},
     "output_type": "display_data"
    },
    {
     "name": "stderr",
     "output_type": "stream",
     "text": [
      "Mean of empty slice\n"
     ]
    },
    {
     "name": "stdout",
     "output_type": "stream",
     "text": [
      "Input file: out/r2s/sub-z0206923_ses-20231003_acq-wipiswifl3dvibetrythisone_run-01_echo-01_part-mag_MEGRE_r2s.nii\n",
      "Marker Precision: 1.0\n",
      "Marker Recall: 0.6666666666666666\n",
      "True markers: 2\n",
      "False positive markers: 0 (0 were known calcification)\n",
      "False negative markers: 1\n",
      "Loss: 0.43610846996307373\n",
      "Loading model: models/R2s-20240405-121503-11-best.pth\n"
     ]
    },
    {
     "name": "stderr",
     "output_type": "stream",
     "text": [
      "Saved filed doesn't contain an optimizer state.\n"
     ]
    },
    {
     "name": "stdout",
     "output_type": "stream",
     "text": [
      "0/1; "
     ]
    },
    {
     "data": {
      "text/html": [
       "\n",
       "<style>\n",
       "    /* Turns off some styling */\n",
       "    progress {\n",
       "        /* gets rid of default border in Firefox and Opera. */\n",
       "        border: none;\n",
       "        /* Needs to be in here for Safari polyfill so background images work as expected. */\n",
       "        background-size: auto;\n",
       "    }\n",
       "    progress:not([value]), progress:not([value])::-webkit-progress-bar {\n",
       "        background: repeating-linear-gradient(45deg, #7e7e7e, #7e7e7e 10px, #5c5c5c 10px, #5c5c5c 20px);\n",
       "    }\n",
       "    .progress-bar-interrupted, .progress-bar-interrupted::-webkit-progress-bar {\n",
       "        background: #F44336;\n",
       "    }\n",
       "</style>\n"
      ],
      "text/plain": [
       "<IPython.core.display.HTML object>"
      ]
     },
     "metadata": {},
     "output_type": "display_data"
    },
    {
     "data": {
      "text/html": [],
      "text/plain": [
       "<IPython.core.display.HTML object>"
      ]
     },
     "metadata": {},
     "output_type": "display_data"
    },
    {
     "name": "stdout",
     "output_type": "stream",
     "text": [
      "Input file: out/r2s/sub-z1484547_ses-20240102_acq-wipiswifl3dvibetrythisone_run-01_echo-01_part-mag_MEGRE_r2s.nii\n",
      "Marker Precision: 1.0\n",
      "Marker Recall: 1.0\n",
      "True markers: 3\n",
      "False positive markers: 0 (0 were known calcification)\n",
      "False negative markers: 0\n",
      "Loss: 0.4079236686229706\n",
      "Loading model: models/R2s-20240405-124319-12-best.pth\n"
     ]
    },
    {
     "name": "stderr",
     "output_type": "stream",
     "text": [
      "Saved filed doesn't contain an optimizer state.\n"
     ]
    },
    {
     "name": "stdout",
     "output_type": "stream",
     "text": [
      "0/1; "
     ]
    },
    {
     "data": {
      "text/html": [
       "\n",
       "<style>\n",
       "    /* Turns off some styling */\n",
       "    progress {\n",
       "        /* gets rid of default border in Firefox and Opera. */\n",
       "        border: none;\n",
       "        /* Needs to be in here for Safari polyfill so background images work as expected. */\n",
       "        background-size: auto;\n",
       "    }\n",
       "    progress:not([value]), progress:not([value])::-webkit-progress-bar {\n",
       "        background: repeating-linear-gradient(45deg, #7e7e7e, #7e7e7e 10px, #5c5c5c 10px, #5c5c5c 20px);\n",
       "    }\n",
       "    .progress-bar-interrupted, .progress-bar-interrupted::-webkit-progress-bar {\n",
       "        background: #F44336;\n",
       "    }\n",
       "</style>\n"
      ],
      "text/plain": [
       "<IPython.core.display.HTML object>"
      ]
     },
     "metadata": {},
     "output_type": "display_data"
    },
    {
     "data": {
      "text/html": [],
      "text/plain": [
       "<IPython.core.display.HTML object>"
      ]
     },
     "metadata": {},
     "output_type": "display_data"
    },
    {
     "name": "stderr",
     "output_type": "stream",
     "text": [
      "Mean of empty slice\n"
     ]
    },
    {
     "name": "stdout",
     "output_type": "stream",
     "text": [
      "Input file: out/r2s/sub-z1645782_ses-20231010_acq-wipiswifl3dvibetrythisone_run-01_echo-01_part-mag_MEGRE_r2s.nii\n",
      "Marker Precision: 1.0\n",
      "Marker Recall: 1.0\n",
      "True markers: 2\n",
      "False positive markers: 0 (0 were known calcification)\n",
      "False negative markers: 0\n",
      "Loss: 0.38091886043548584\n",
      "Loading model: models/R2s-20240405-125109-13-best.pth\n"
     ]
    },
    {
     "name": "stderr",
     "output_type": "stream",
     "text": [
      "Saved filed doesn't contain an optimizer state.\n"
     ]
    },
    {
     "name": "stdout",
     "output_type": "stream",
     "text": [
      "0/1; "
     ]
    },
    {
     "data": {
      "text/html": [
       "\n",
       "<style>\n",
       "    /* Turns off some styling */\n",
       "    progress {\n",
       "        /* gets rid of default border in Firefox and Opera. */\n",
       "        border: none;\n",
       "        /* Needs to be in here for Safari polyfill so background images work as expected. */\n",
       "        background-size: auto;\n",
       "    }\n",
       "    progress:not([value]), progress:not([value])::-webkit-progress-bar {\n",
       "        background: repeating-linear-gradient(45deg, #7e7e7e, #7e7e7e 10px, #5c5c5c 10px, #5c5c5c 20px);\n",
       "    }\n",
       "    .progress-bar-interrupted, .progress-bar-interrupted::-webkit-progress-bar {\n",
       "        background: #F44336;\n",
       "    }\n",
       "</style>\n"
      ],
      "text/plain": [
       "<IPython.core.display.HTML object>"
      ]
     },
     "metadata": {},
     "output_type": "display_data"
    },
    {
     "data": {
      "text/html": [],
      "text/plain": [
       "<IPython.core.display.HTML object>"
      ]
     },
     "metadata": {},
     "output_type": "display_data"
    },
    {
     "name": "stdout",
     "output_type": "stream",
     "text": [
      "Input file: out/r2s/sub-z0232771_ses-20240228_acq-wipiswifl3dvibetrythisone_run-01_echo-01_part-mag_MEGRE_r2s.nii\n",
      "Marker Precision: 1.0\n",
      "Marker Recall: 1.0\n",
      "True markers: 3\n",
      "False positive markers: 0 (0 were known calcification)\n",
      "False negative markers: 0\n",
      "Loss: 0.4340665638446808\n",
      "Loading model: models/R2s-20240405-125214-14-best.pth\n"
     ]
    },
    {
     "name": "stderr",
     "output_type": "stream",
     "text": [
      "Saved filed doesn't contain an optimizer state.\n"
     ]
    },
    {
     "name": "stdout",
     "output_type": "stream",
     "text": [
      "0/1; "
     ]
    },
    {
     "data": {
      "text/html": [
       "\n",
       "<style>\n",
       "    /* Turns off some styling */\n",
       "    progress {\n",
       "        /* gets rid of default border in Firefox and Opera. */\n",
       "        border: none;\n",
       "        /* Needs to be in here for Safari polyfill so background images work as expected. */\n",
       "        background-size: auto;\n",
       "    }\n",
       "    progress:not([value]), progress:not([value])::-webkit-progress-bar {\n",
       "        background: repeating-linear-gradient(45deg, #7e7e7e, #7e7e7e 10px, #5c5c5c 10px, #5c5c5c 20px);\n",
       "    }\n",
       "    .progress-bar-interrupted, .progress-bar-interrupted::-webkit-progress-bar {\n",
       "        background: #F44336;\n",
       "    }\n",
       "</style>\n"
      ],
      "text/plain": [
       "<IPython.core.display.HTML object>"
      ]
     },
     "metadata": {},
     "output_type": "display_data"
    },
    {
     "data": {
      "text/html": [],
      "text/plain": [
       "<IPython.core.display.HTML object>"
      ]
     },
     "metadata": {},
     "output_type": "display_data"
    },
    {
     "name": "stderr",
     "output_type": "stream",
     "text": [
      "Mean of empty slice\n"
     ]
    },
    {
     "name": "stdout",
     "output_type": "stream",
     "text": [
      "Input file: out/r2s/sub-z0347933_ses-20240129_acq-wipiswifl3dvibetrythisone_run-01_echo-01_part-mag_MEGRE_r2s.nii\n",
      "Marker Precision: 1.0\n",
      "Marker Recall: 1.0\n",
      "True markers: 3\n",
      "False positive markers: 0 (0 were known calcification)\n",
      "False negative markers: 0\n",
      "Loss: 0.3742212951183319\n",
      "Loading model: models/R2s-20240405-131653-15-best.pth\n"
     ]
    },
    {
     "name": "stderr",
     "output_type": "stream",
     "text": [
      "Saved filed doesn't contain an optimizer state.\n"
     ]
    },
    {
     "name": "stdout",
     "output_type": "stream",
     "text": [
      "0/1; "
     ]
    },
    {
     "data": {
      "text/html": [
       "\n",
       "<style>\n",
       "    /* Turns off some styling */\n",
       "    progress {\n",
       "        /* gets rid of default border in Firefox and Opera. */\n",
       "        border: none;\n",
       "        /* Needs to be in here for Safari polyfill so background images work as expected. */\n",
       "        background-size: auto;\n",
       "    }\n",
       "    progress:not([value]), progress:not([value])::-webkit-progress-bar {\n",
       "        background: repeating-linear-gradient(45deg, #7e7e7e, #7e7e7e 10px, #5c5c5c 10px, #5c5c5c 20px);\n",
       "    }\n",
       "    .progress-bar-interrupted, .progress-bar-interrupted::-webkit-progress-bar {\n",
       "        background: #F44336;\n",
       "    }\n",
       "</style>\n"
      ],
      "text/plain": [
       "<IPython.core.display.HTML object>"
      ]
     },
     "metadata": {},
     "output_type": "display_data"
    },
    {
     "data": {
      "text/html": [],
      "text/plain": [
       "<IPython.core.display.HTML object>"
      ]
     },
     "metadata": {},
     "output_type": "display_data"
    },
    {
     "name": "stdout",
     "output_type": "stream",
     "text": [
      "Input file: out/r2s/sub-z3145629_ses-20231204_acq-wipiswifl3dvibetrythisone_run-01_echo-01_part-mag_MEGRE_r2s.nii\n",
      "Marker Precision: 1.0\n",
      "Marker Recall: 1.0\n",
      "True markers: 3\n",
      "False positive markers: 0 (0 were known calcification)\n",
      "False negative markers: 0\n",
      "Loss: 0.4517214298248291\n",
      "Loading model: models/R2s-20240405-132217-16-best.pth\n"
     ]
    },
    {
     "name": "stderr",
     "output_type": "stream",
     "text": [
      "Saved filed doesn't contain an optimizer state.\n"
     ]
    },
    {
     "name": "stdout",
     "output_type": "stream",
     "text": [
      "0/1; "
     ]
    },
    {
     "data": {
      "text/html": [
       "\n",
       "<style>\n",
       "    /* Turns off some styling */\n",
       "    progress {\n",
       "        /* gets rid of default border in Firefox and Opera. */\n",
       "        border: none;\n",
       "        /* Needs to be in here for Safari polyfill so background images work as expected. */\n",
       "        background-size: auto;\n",
       "    }\n",
       "    progress:not([value]), progress:not([value])::-webkit-progress-bar {\n",
       "        background: repeating-linear-gradient(45deg, #7e7e7e, #7e7e7e 10px, #5c5c5c 10px, #5c5c5c 20px);\n",
       "    }\n",
       "    .progress-bar-interrupted, .progress-bar-interrupted::-webkit-progress-bar {\n",
       "        background: #F44336;\n",
       "    }\n",
       "</style>\n"
      ],
      "text/plain": [
       "<IPython.core.display.HTML object>"
      ]
     },
     "metadata": {},
     "output_type": "display_data"
    },
    {
     "data": {
      "text/html": [],
      "text/plain": [
       "<IPython.core.display.HTML object>"
      ]
     },
     "metadata": {},
     "output_type": "display_data"
    },
    {
     "name": "stderr",
     "output_type": "stream",
     "text": [
      "Mean of empty slice\n"
     ]
    },
    {
     "name": "stdout",
     "output_type": "stream",
     "text": [
      "Input file: out/r2s/sub-z2105112_ses-20231220_acq-wipiswifl3dvibetrythisone_run-01_echo-01_part-mag_MEGRE_r2s.nii\n",
      "Marker Precision: 1.0\n",
      "Marker Recall: 1.0\n",
      "True markers: 3\n",
      "False positive markers: 0 (0 were known calcification)\n",
      "False negative markers: 0\n",
      "Loss: 0.3883199989795685\n",
      "Loading model: models/R2s-20240405-132850-17-best.pth\n"
     ]
    },
    {
     "name": "stderr",
     "output_type": "stream",
     "text": [
      "Saved filed doesn't contain an optimizer state.\n"
     ]
    },
    {
     "name": "stdout",
     "output_type": "stream",
     "text": [
      "0/1; "
     ]
    },
    {
     "data": {
      "text/html": [
       "\n",
       "<style>\n",
       "    /* Turns off some styling */\n",
       "    progress {\n",
       "        /* gets rid of default border in Firefox and Opera. */\n",
       "        border: none;\n",
       "        /* Needs to be in here for Safari polyfill so background images work as expected. */\n",
       "        background-size: auto;\n",
       "    }\n",
       "    progress:not([value]), progress:not([value])::-webkit-progress-bar {\n",
       "        background: repeating-linear-gradient(45deg, #7e7e7e, #7e7e7e 10px, #5c5c5c 10px, #5c5c5c 20px);\n",
       "    }\n",
       "    .progress-bar-interrupted, .progress-bar-interrupted::-webkit-progress-bar {\n",
       "        background: #F44336;\n",
       "    }\n",
       "</style>\n"
      ],
      "text/plain": [
       "<IPython.core.display.HTML object>"
      ]
     },
     "metadata": {},
     "output_type": "display_data"
    },
    {
     "data": {
      "text/html": [],
      "text/plain": [
       "<IPython.core.display.HTML object>"
      ]
     },
     "metadata": {},
     "output_type": "display_data"
    },
    {
     "name": "stdout",
     "output_type": "stream",
     "text": [
      "Input file: out/r2s/sub-z3212665_ses-20240305_acq-wipiswifl3dvibetrythisone_run-01_echo-01_part-mag_MEGRE_r2s.nii\n",
      "Marker Precision: 1.0\n",
      "Marker Recall: 1.0\n",
      "True markers: 3\n",
      "False positive markers: 0 (0 were known calcification)\n",
      "False negative markers: 0\n",
      "Loss: 0.4476622939109802\n",
      "Loading model: models/R2s-20240405-135200-18-best.pth\n"
     ]
    },
    {
     "name": "stderr",
     "output_type": "stream",
     "text": [
      "Saved filed doesn't contain an optimizer state.\n"
     ]
    },
    {
     "name": "stdout",
     "output_type": "stream",
     "text": [
      "0/1; "
     ]
    },
    {
     "data": {
      "text/html": [
       "\n",
       "<style>\n",
       "    /* Turns off some styling */\n",
       "    progress {\n",
       "        /* gets rid of default border in Firefox and Opera. */\n",
       "        border: none;\n",
       "        /* Needs to be in here for Safari polyfill so background images work as expected. */\n",
       "        background-size: auto;\n",
       "    }\n",
       "    progress:not([value]), progress:not([value])::-webkit-progress-bar {\n",
       "        background: repeating-linear-gradient(45deg, #7e7e7e, #7e7e7e 10px, #5c5c5c 10px, #5c5c5c 20px);\n",
       "    }\n",
       "    .progress-bar-interrupted, .progress-bar-interrupted::-webkit-progress-bar {\n",
       "        background: #F44336;\n",
       "    }\n",
       "</style>\n"
      ],
      "text/plain": [
       "<IPython.core.display.HTML object>"
      ]
     },
     "metadata": {},
     "output_type": "display_data"
    },
    {
     "data": {
      "text/html": [],
      "text/plain": [
       "<IPython.core.display.HTML object>"
      ]
     },
     "metadata": {},
     "output_type": "display_data"
    },
    {
     "name": "stdout",
     "output_type": "stream",
     "text": [
      "Input file: out/r2s/sub-z2684925_ses-20240313_acq-wipiswifl3dvibetrythisone_run-01_echo-01_part-mag_MEGRE_r2s.nii\n",
      "Marker Precision: 1.0\n",
      "Marker Recall: 1.0\n",
      "True markers: 3\n",
      "False positive markers: 0 (0 were known calcification)\n",
      "False negative markers: 0\n",
      "Loss: 0.40978461503982544\n",
      "Loading model: models/R2s-20240405-135225-19-best.pth\n"
     ]
    },
    {
     "name": "stderr",
     "output_type": "stream",
     "text": [
      "Saved filed doesn't contain an optimizer state.\n"
     ]
    },
    {
     "name": "stdout",
     "output_type": "stream",
     "text": [
      "0/1; "
     ]
    },
    {
     "data": {
      "text/html": [
       "\n",
       "<style>\n",
       "    /* Turns off some styling */\n",
       "    progress {\n",
       "        /* gets rid of default border in Firefox and Opera. */\n",
       "        border: none;\n",
       "        /* Needs to be in here for Safari polyfill so background images work as expected. */\n",
       "        background-size: auto;\n",
       "    }\n",
       "    progress:not([value]), progress:not([value])::-webkit-progress-bar {\n",
       "        background: repeating-linear-gradient(45deg, #7e7e7e, #7e7e7e 10px, #5c5c5c 10px, #5c5c5c 20px);\n",
       "    }\n",
       "    .progress-bar-interrupted, .progress-bar-interrupted::-webkit-progress-bar {\n",
       "        background: #F44336;\n",
       "    }\n",
       "</style>\n"
      ],
      "text/plain": [
       "<IPython.core.display.HTML object>"
      ]
     },
     "metadata": {},
     "output_type": "display_data"
    },
    {
     "data": {
      "text/html": [],
      "text/plain": [
       "<IPython.core.display.HTML object>"
      ]
     },
     "metadata": {},
     "output_type": "display_data"
    },
    {
     "name": "stdout",
     "output_type": "stream",
     "text": [
      "Input file: out/r2s/sub-z4043512_ses-20240112_acq-wipiswifl3dvibetrythisone_run-01_echo-01_part-mag_MEGRE_r2s.nii\n",
      "Marker Precision: 1.0\n",
      "Marker Recall: 0.6666666666666666\n",
      "True markers: 2\n",
      "False positive markers: 0 (0 were known calcification)\n",
      "False negative markers: 1\n",
      "Loss: 0.4617004096508026\n",
      "Loading model: models/R2s-20240405-141523-20-best.pth\n"
     ]
    },
    {
     "name": "stderr",
     "output_type": "stream",
     "text": [
      "Saved filed doesn't contain an optimizer state.\n"
     ]
    },
    {
     "name": "stdout",
     "output_type": "stream",
     "text": [
      "0/1; "
     ]
    },
    {
     "data": {
      "text/html": [
       "\n",
       "<style>\n",
       "    /* Turns off some styling */\n",
       "    progress {\n",
       "        /* gets rid of default border in Firefox and Opera. */\n",
       "        border: none;\n",
       "        /* Needs to be in here for Safari polyfill so background images work as expected. */\n",
       "        background-size: auto;\n",
       "    }\n",
       "    progress:not([value]), progress:not([value])::-webkit-progress-bar {\n",
       "        background: repeating-linear-gradient(45deg, #7e7e7e, #7e7e7e 10px, #5c5c5c 10px, #5c5c5c 20px);\n",
       "    }\n",
       "    .progress-bar-interrupted, .progress-bar-interrupted::-webkit-progress-bar {\n",
       "        background: #F44336;\n",
       "    }\n",
       "</style>\n"
      ],
      "text/plain": [
       "<IPython.core.display.HTML object>"
      ]
     },
     "metadata": {},
     "output_type": "display_data"
    },
    {
     "data": {
      "text/html": [],
      "text/plain": [
       "<IPython.core.display.HTML object>"
      ]
     },
     "metadata": {},
     "output_type": "display_data"
    },
    {
     "name": "stderr",
     "output_type": "stream",
     "text": [
      "Mean of empty slice\n"
     ]
    },
    {
     "name": "stdout",
     "output_type": "stream",
     "text": [
      "Input file: out/r2s/sub-z0747844_ses-20240304_acq-wipiswifl3dvibetrythisone_run-01_echo-01_part-mag_MEGRE_r2s.nii\n",
      "Marker Precision: 1.0\n",
      "Marker Recall: 0.6666666666666666\n",
      "True markers: 2\n",
      "False positive markers: 0 (0 were known calcification)\n",
      "False negative markers: 1\n",
      "Loss: 0.4801279306411743\n",
      "Loading model: models/R2s-20240405-141839-21-best.pth\n"
     ]
    },
    {
     "name": "stderr",
     "output_type": "stream",
     "text": [
      "Saved filed doesn't contain an optimizer state.\n"
     ]
    },
    {
     "name": "stdout",
     "output_type": "stream",
     "text": [
      "0/1; "
     ]
    },
    {
     "data": {
      "text/html": [
       "\n",
       "<style>\n",
       "    /* Turns off some styling */\n",
       "    progress {\n",
       "        /* gets rid of default border in Firefox and Opera. */\n",
       "        border: none;\n",
       "        /* Needs to be in here for Safari polyfill so background images work as expected. */\n",
       "        background-size: auto;\n",
       "    }\n",
       "    progress:not([value]), progress:not([value])::-webkit-progress-bar {\n",
       "        background: repeating-linear-gradient(45deg, #7e7e7e, #7e7e7e 10px, #5c5c5c 10px, #5c5c5c 20px);\n",
       "    }\n",
       "    .progress-bar-interrupted, .progress-bar-interrupted::-webkit-progress-bar {\n",
       "        background: #F44336;\n",
       "    }\n",
       "</style>\n"
      ],
      "text/plain": [
       "<IPython.core.display.HTML object>"
      ]
     },
     "metadata": {},
     "output_type": "display_data"
    },
    {
     "data": {
      "text/html": [],
      "text/plain": [
       "<IPython.core.display.HTML object>"
      ]
     },
     "metadata": {},
     "output_type": "display_data"
    },
    {
     "name": "stderr",
     "output_type": "stream",
     "text": [
      "Mean of empty slice\n"
     ]
    },
    {
     "name": "stdout",
     "output_type": "stream",
     "text": [
      "Input file: out/r2s/sub-z1421134_ses-20231205_acq-wipiswifl3dvibetrythisone_run-01_echo-01_part-mag_MEGRE_r2s.nii\n",
      "Marker Precision: 1.0\n",
      "Marker Recall: 1.0\n",
      "True markers: 3\n",
      "False positive markers: 0 (0 were known calcification)\n",
      "False negative markers: 0\n",
      "Loss: 0.46518951654434204\n",
      "Loading model: models/R2s-20240405-142751-22-best.pth\n"
     ]
    },
    {
     "name": "stderr",
     "output_type": "stream",
     "text": [
      "Saved filed doesn't contain an optimizer state.\n"
     ]
    },
    {
     "name": "stdout",
     "output_type": "stream",
     "text": [
      "0/1; "
     ]
    },
    {
     "data": {
      "text/html": [
       "\n",
       "<style>\n",
       "    /* Turns off some styling */\n",
       "    progress {\n",
       "        /* gets rid of default border in Firefox and Opera. */\n",
       "        border: none;\n",
       "        /* Needs to be in here for Safari polyfill so background images work as expected. */\n",
       "        background-size: auto;\n",
       "    }\n",
       "    progress:not([value]), progress:not([value])::-webkit-progress-bar {\n",
       "        background: repeating-linear-gradient(45deg, #7e7e7e, #7e7e7e 10px, #5c5c5c 10px, #5c5c5c 20px);\n",
       "    }\n",
       "    .progress-bar-interrupted, .progress-bar-interrupted::-webkit-progress-bar {\n",
       "        background: #F44336;\n",
       "    }\n",
       "</style>\n"
      ],
      "text/plain": [
       "<IPython.core.display.HTML object>"
      ]
     },
     "metadata": {},
     "output_type": "display_data"
    },
    {
     "data": {
      "text/html": [],
      "text/plain": [
       "<IPython.core.display.HTML object>"
      ]
     },
     "metadata": {},
     "output_type": "display_data"
    },
    {
     "name": "stderr",
     "output_type": "stream",
     "text": [
      "Mean of empty slice\n"
     ]
    },
    {
     "name": "stdout",
     "output_type": "stream",
     "text": [
      "Input file: out/r2s/sub-z1638396_ses-20240311_acq-wipiswifl3dvibetrythisone_run-01_echo-01_part-mag_MEGRE_r2s.nii\n",
      "Marker Precision: 1.0\n",
      "Marker Recall: 1.0\n",
      "True markers: 3\n",
      "False positive markers: 0 (0 were known calcification)\n",
      "False negative markers: 0\n",
      "Loss: 0.427079975605011\n",
      "Loading model: models/R2s-20240405-144336-23-best.pth\n"
     ]
    },
    {
     "name": "stderr",
     "output_type": "stream",
     "text": [
      "Saved filed doesn't contain an optimizer state.\n"
     ]
    },
    {
     "name": "stdout",
     "output_type": "stream",
     "text": [
      "0/1; "
     ]
    },
    {
     "data": {
      "text/html": [
       "\n",
       "<style>\n",
       "    /* Turns off some styling */\n",
       "    progress {\n",
       "        /* gets rid of default border in Firefox and Opera. */\n",
       "        border: none;\n",
       "        /* Needs to be in here for Safari polyfill so background images work as expected. */\n",
       "        background-size: auto;\n",
       "    }\n",
       "    progress:not([value]), progress:not([value])::-webkit-progress-bar {\n",
       "        background: repeating-linear-gradient(45deg, #7e7e7e, #7e7e7e 10px, #5c5c5c 10px, #5c5c5c 20px);\n",
       "    }\n",
       "    .progress-bar-interrupted, .progress-bar-interrupted::-webkit-progress-bar {\n",
       "        background: #F44336;\n",
       "    }\n",
       "</style>\n"
      ],
      "text/plain": [
       "<IPython.core.display.HTML object>"
      ]
     },
     "metadata": {},
     "output_type": "display_data"
    },
    {
     "data": {
      "text/html": [],
      "text/plain": [
       "<IPython.core.display.HTML object>"
      ]
     },
     "metadata": {},
     "output_type": "display_data"
    },
    {
     "name": "stderr",
     "output_type": "stream",
     "text": [
      "Mean of empty slice\n"
     ]
    },
    {
     "name": "stdout",
     "output_type": "stream",
     "text": [
      "Input file: out/r2s/sub-z2996397_ses-20231201_acq-wipiswifl3dvibetrythisone_run-01_echo-01_part-mag_MEGRE_r2s.nii\n",
      "Marker Precision: 1.0\n",
      "Marker Recall: 1.0\n",
      "True markers: 3\n",
      "False positive markers: 0 (0 were known calcification)\n",
      "False negative markers: 0\n",
      "Loss: 0.41868844628334045\n",
      "Loading model: models/R2s-20240405-144612-24-best.pth\n"
     ]
    },
    {
     "name": "stderr",
     "output_type": "stream",
     "text": [
      "Saved filed doesn't contain an optimizer state.\n"
     ]
    },
    {
     "name": "stdout",
     "output_type": "stream",
     "text": [
      "0/1; "
     ]
    },
    {
     "data": {
      "text/html": [
       "\n",
       "<style>\n",
       "    /* Turns off some styling */\n",
       "    progress {\n",
       "        /* gets rid of default border in Firefox and Opera. */\n",
       "        border: none;\n",
       "        /* Needs to be in here for Safari polyfill so background images work as expected. */\n",
       "        background-size: auto;\n",
       "    }\n",
       "    progress:not([value]), progress:not([value])::-webkit-progress-bar {\n",
       "        background: repeating-linear-gradient(45deg, #7e7e7e, #7e7e7e 10px, #5c5c5c 10px, #5c5c5c 20px);\n",
       "    }\n",
       "    .progress-bar-interrupted, .progress-bar-interrupted::-webkit-progress-bar {\n",
       "        background: #F44336;\n",
       "    }\n",
       "</style>\n"
      ],
      "text/plain": [
       "<IPython.core.display.HTML object>"
      ]
     },
     "metadata": {},
     "output_type": "display_data"
    },
    {
     "data": {
      "text/html": [],
      "text/plain": [
       "<IPython.core.display.HTML object>"
      ]
     },
     "metadata": {},
     "output_type": "display_data"
    },
    {
     "name": "stdout",
     "output_type": "stream",
     "text": [
      "Input file: out/r2s/sub-z0742379_ses-20240124_acq-wipiswifl3dvibetrythisone_run-01_echo-01_part-mag_MEGRE_r2s.nii\n",
      "Marker Precision: 1.0\n",
      "Marker Recall: 1.0\n",
      "True markers: 3\n",
      "False positive markers: 0 (0 were known calcification)\n",
      "False negative markers: 0\n",
      "Loss: 0.43238741159439087\n",
      "=== GRE ===\n",
      "infile_cols: ['mag_files']; n_input_channels: 1\n",
      "Loading model: models/GRE-20240405-150239-0-best.pth\n"
     ]
    },
    {
     "name": "stderr",
     "output_type": "stream",
     "text": [
      "Saved filed doesn't contain an optimizer state.\n"
     ]
    },
    {
     "name": "stdout",
     "output_type": "stream",
     "text": [
      "0/1; "
     ]
    },
    {
     "data": {
      "text/html": [
       "\n",
       "<style>\n",
       "    /* Turns off some styling */\n",
       "    progress {\n",
       "        /* gets rid of default border in Firefox and Opera. */\n",
       "        border: none;\n",
       "        /* Needs to be in here for Safari polyfill so background images work as expected. */\n",
       "        background-size: auto;\n",
       "    }\n",
       "    progress:not([value]), progress:not([value])::-webkit-progress-bar {\n",
       "        background: repeating-linear-gradient(45deg, #7e7e7e, #7e7e7e 10px, #5c5c5c 10px, #5c5c5c 20px);\n",
       "    }\n",
       "    .progress-bar-interrupted, .progress-bar-interrupted::-webkit-progress-bar {\n",
       "        background: #F44336;\n",
       "    }\n",
       "</style>\n"
      ],
      "text/plain": [
       "<IPython.core.display.HTML object>"
      ]
     },
     "metadata": {},
     "output_type": "display_data"
    },
    {
     "data": {
      "text/html": [],
      "text/plain": [
       "<IPython.core.display.HTML object>"
      ]
     },
     "metadata": {},
     "output_type": "display_data"
    },
    {
     "name": "stdout",
     "output_type": "stream",
     "text": [
      "Input file: bids/sub-z1318033/ses-20230825/extra_data/magnitude_combined.nii\n",
      "Marker Precision: 1.0\n",
      "Marker Recall: 1.0\n",
      "True markers: 3\n",
      "False positive markers: 0 (0 were known calcification)\n",
      "False negative markers: 0\n",
      "Loss: 0.3169919550418854\n",
      "Loading model: models/GRE-20240405-152126-1-best.pth\n"
     ]
    },
    {
     "name": "stderr",
     "output_type": "stream",
     "text": [
      "Saved filed doesn't contain an optimizer state.\n"
     ]
    },
    {
     "name": "stdout",
     "output_type": "stream",
     "text": [
      "0/1; "
     ]
    },
    {
     "data": {
      "text/html": [
       "\n",
       "<style>\n",
       "    /* Turns off some styling */\n",
       "    progress {\n",
       "        /* gets rid of default border in Firefox and Opera. */\n",
       "        border: none;\n",
       "        /* Needs to be in here for Safari polyfill so background images work as expected. */\n",
       "        background-size: auto;\n",
       "    }\n",
       "    progress:not([value]), progress:not([value])::-webkit-progress-bar {\n",
       "        background: repeating-linear-gradient(45deg, #7e7e7e, #7e7e7e 10px, #5c5c5c 10px, #5c5c5c 20px);\n",
       "    }\n",
       "    .progress-bar-interrupted, .progress-bar-interrupted::-webkit-progress-bar {\n",
       "        background: #F44336;\n",
       "    }\n",
       "</style>\n"
      ],
      "text/plain": [
       "<IPython.core.display.HTML object>"
      ]
     },
     "metadata": {},
     "output_type": "display_data"
    },
    {
     "data": {
      "text/html": [],
      "text/plain": [
       "<IPython.core.display.HTML object>"
      ]
     },
     "metadata": {},
     "output_type": "display_data"
    },
    {
     "name": "stderr",
     "output_type": "stream",
     "text": [
      "Mean of empty slice\n"
     ]
    },
    {
     "name": "stdout",
     "output_type": "stream",
     "text": [
      "Input file: bids/sub-z1691325/ses-20240227/extra_data/magnitude_combined.nii\n",
      "Marker Precision: 1.0\n",
      "Marker Recall: 1.0\n",
      "True markers: 3\n",
      "False positive markers: 0 (0 were known calcification)\n",
      "False negative markers: 0\n",
      "Loss: 0.387630820274353\n",
      "Loading model: models/GRE-20240405-152603-2-best.pth\n"
     ]
    },
    {
     "name": "stderr",
     "output_type": "stream",
     "text": [
      "Saved filed doesn't contain an optimizer state.\n"
     ]
    },
    {
     "name": "stdout",
     "output_type": "stream",
     "text": [
      "0/1; "
     ]
    },
    {
     "data": {
      "text/html": [
       "\n",
       "<style>\n",
       "    /* Turns off some styling */\n",
       "    progress {\n",
       "        /* gets rid of default border in Firefox and Opera. */\n",
       "        border: none;\n",
       "        /* Needs to be in here for Safari polyfill so background images work as expected. */\n",
       "        background-size: auto;\n",
       "    }\n",
       "    progress:not([value]), progress:not([value])::-webkit-progress-bar {\n",
       "        background: repeating-linear-gradient(45deg, #7e7e7e, #7e7e7e 10px, #5c5c5c 10px, #5c5c5c 20px);\n",
       "    }\n",
       "    .progress-bar-interrupted, .progress-bar-interrupted::-webkit-progress-bar {\n",
       "        background: #F44336;\n",
       "    }\n",
       "</style>\n"
      ],
      "text/plain": [
       "<IPython.core.display.HTML object>"
      ]
     },
     "metadata": {},
     "output_type": "display_data"
    },
    {
     "data": {
      "text/html": [],
      "text/plain": [
       "<IPython.core.display.HTML object>"
      ]
     },
     "metadata": {},
     "output_type": "display_data"
    },
    {
     "name": "stdout",
     "output_type": "stream",
     "text": [
      "Input file: bids/sub-z0002292/ses-20240318/extra_data/magnitude_combined.nii\n",
      "Marker Precision: 1.0\n",
      "Marker Recall: 1.0\n",
      "True markers: 3\n",
      "False positive markers: 0 (0 were known calcification)\n",
      "False negative markers: 0\n",
      "Loss: 0.23448430001735687\n",
      "Loading model: models/GRE-20240405-155600-3-best.pth\n"
     ]
    },
    {
     "name": "stderr",
     "output_type": "stream",
     "text": [
      "Saved filed doesn't contain an optimizer state.\n"
     ]
    },
    {
     "name": "stdout",
     "output_type": "stream",
     "text": [
      "0/1; "
     ]
    },
    {
     "data": {
      "text/html": [
       "\n",
       "<style>\n",
       "    /* Turns off some styling */\n",
       "    progress {\n",
       "        /* gets rid of default border in Firefox and Opera. */\n",
       "        border: none;\n",
       "        /* Needs to be in here for Safari polyfill so background images work as expected. */\n",
       "        background-size: auto;\n",
       "    }\n",
       "    progress:not([value]), progress:not([value])::-webkit-progress-bar {\n",
       "        background: repeating-linear-gradient(45deg, #7e7e7e, #7e7e7e 10px, #5c5c5c 10px, #5c5c5c 20px);\n",
       "    }\n",
       "    .progress-bar-interrupted, .progress-bar-interrupted::-webkit-progress-bar {\n",
       "        background: #F44336;\n",
       "    }\n",
       "</style>\n"
      ],
      "text/plain": [
       "<IPython.core.display.HTML object>"
      ]
     },
     "metadata": {},
     "output_type": "display_data"
    },
    {
     "data": {
      "text/html": [],
      "text/plain": [
       "<IPython.core.display.HTML object>"
      ]
     },
     "metadata": {},
     "output_type": "display_data"
    },
    {
     "name": "stdout",
     "output_type": "stream",
     "text": [
      "Input file: bids/sub-z3268423/ses-20240109/extra_data/magnitude_combined.nii\n",
      "Marker Precision: 1.0\n",
      "Marker Recall: 1.0\n",
      "True markers: 3\n",
      "False positive markers: 0 (0 were known calcification)\n",
      "False negative markers: 0\n",
      "Loss: 0.3719351291656494\n",
      "Loading model: models/GRE-20240405-160131-4-best.pth\n"
     ]
    },
    {
     "name": "stderr",
     "output_type": "stream",
     "text": [
      "Saved filed doesn't contain an optimizer state.\n"
     ]
    },
    {
     "name": "stdout",
     "output_type": "stream",
     "text": [
      "0/1; "
     ]
    },
    {
     "data": {
      "text/html": [
       "\n",
       "<style>\n",
       "    /* Turns off some styling */\n",
       "    progress {\n",
       "        /* gets rid of default border in Firefox and Opera. */\n",
       "        border: none;\n",
       "        /* Needs to be in here for Safari polyfill so background images work as expected. */\n",
       "        background-size: auto;\n",
       "    }\n",
       "    progress:not([value]), progress:not([value])::-webkit-progress-bar {\n",
       "        background: repeating-linear-gradient(45deg, #7e7e7e, #7e7e7e 10px, #5c5c5c 10px, #5c5c5c 20px);\n",
       "    }\n",
       "    .progress-bar-interrupted, .progress-bar-interrupted::-webkit-progress-bar {\n",
       "        background: #F44336;\n",
       "    }\n",
       "</style>\n"
      ],
      "text/plain": [
       "<IPython.core.display.HTML object>"
      ]
     },
     "metadata": {},
     "output_type": "display_data"
    },
    {
     "data": {
      "text/html": [],
      "text/plain": [
       "<IPython.core.display.HTML object>"
      ]
     },
     "metadata": {},
     "output_type": "display_data"
    },
    {
     "name": "stdout",
     "output_type": "stream",
     "text": [
      "Input file: bids/sub-z1448271/ses-20231110/extra_data/magnitude_combined.nii\n",
      "Marker Precision: 0.6666666666666666\n",
      "Marker Recall: 0.6666666666666666\n",
      "True markers: 2\n",
      "False positive markers: 1 (1 were known calcification)\n",
      "False negative markers: 1\n",
      "Loss: 0.47698476910591125\n",
      "Loading model: models/GRE-20240405-161318-5-best.pth\n"
     ]
    },
    {
     "name": "stderr",
     "output_type": "stream",
     "text": [
      "Saved filed doesn't contain an optimizer state.\n"
     ]
    },
    {
     "name": "stdout",
     "output_type": "stream",
     "text": [
      "0/1; "
     ]
    },
    {
     "data": {
      "text/html": [
       "\n",
       "<style>\n",
       "    /* Turns off some styling */\n",
       "    progress {\n",
       "        /* gets rid of default border in Firefox and Opera. */\n",
       "        border: none;\n",
       "        /* Needs to be in here for Safari polyfill so background images work as expected. */\n",
       "        background-size: auto;\n",
       "    }\n",
       "    progress:not([value]), progress:not([value])::-webkit-progress-bar {\n",
       "        background: repeating-linear-gradient(45deg, #7e7e7e, #7e7e7e 10px, #5c5c5c 10px, #5c5c5c 20px);\n",
       "    }\n",
       "    .progress-bar-interrupted, .progress-bar-interrupted::-webkit-progress-bar {\n",
       "        background: #F44336;\n",
       "    }\n",
       "</style>\n"
      ],
      "text/plain": [
       "<IPython.core.display.HTML object>"
      ]
     },
     "metadata": {},
     "output_type": "display_data"
    },
    {
     "data": {
      "text/html": [],
      "text/plain": [
       "<IPython.core.display.HTML object>"
      ]
     },
     "metadata": {},
     "output_type": "display_data"
    },
    {
     "name": "stderr",
     "output_type": "stream",
     "text": [
      "Mean of empty slice\n"
     ]
    },
    {
     "name": "stdout",
     "output_type": "stream",
     "text": [
      "Input file: bids/sub-z1384048/ses-20231108/extra_data/magnitude_combined.nii\n",
      "Marker Precision: 1.0\n",
      "Marker Recall: 1.0\n",
      "True markers: 3\n",
      "False positive markers: 0 (0 were known calcification)\n",
      "False negative markers: 0\n",
      "Loss: 0.3711797893047333\n",
      "Loading model: models/GRE-20240405-162042-6-best.pth\n"
     ]
    },
    {
     "name": "stderr",
     "output_type": "stream",
     "text": [
      "Saved filed doesn't contain an optimizer state.\n"
     ]
    },
    {
     "name": "stdout",
     "output_type": "stream",
     "text": [
      "0/1; "
     ]
    },
    {
     "data": {
      "text/html": [
       "\n",
       "<style>\n",
       "    /* Turns off some styling */\n",
       "    progress {\n",
       "        /* gets rid of default border in Firefox and Opera. */\n",
       "        border: none;\n",
       "        /* Needs to be in here for Safari polyfill so background images work as expected. */\n",
       "        background-size: auto;\n",
       "    }\n",
       "    progress:not([value]), progress:not([value])::-webkit-progress-bar {\n",
       "        background: repeating-linear-gradient(45deg, #7e7e7e, #7e7e7e 10px, #5c5c5c 10px, #5c5c5c 20px);\n",
       "    }\n",
       "    .progress-bar-interrupted, .progress-bar-interrupted::-webkit-progress-bar {\n",
       "        background: #F44336;\n",
       "    }\n",
       "</style>\n"
      ],
      "text/plain": [
       "<IPython.core.display.HTML object>"
      ]
     },
     "metadata": {},
     "output_type": "display_data"
    },
    {
     "data": {
      "text/html": [],
      "text/plain": [
       "<IPython.core.display.HTML object>"
      ]
     },
     "metadata": {},
     "output_type": "display_data"
    },
    {
     "name": "stderr",
     "output_type": "stream",
     "text": [
      "Mean of empty slice\n"
     ]
    },
    {
     "name": "stdout",
     "output_type": "stream",
     "text": [
      "Input file: bids/sub-z1635498/ses-20240305/extra_data/magnitude_combined.nii\n",
      "Marker Precision: 1.0\n",
      "Marker Recall: 1.0\n",
      "True markers: 3\n",
      "False positive markers: 0 (0 were known calcification)\n",
      "False negative markers: 0\n",
      "Loss: 0.378140926361084\n",
      "Loading model: models/GRE-20240405-162519-7-best.pth\n"
     ]
    },
    {
     "name": "stderr",
     "output_type": "stream",
     "text": [
      "Saved filed doesn't contain an optimizer state.\n"
     ]
    },
    {
     "name": "stdout",
     "output_type": "stream",
     "text": [
      "0/1; "
     ]
    },
    {
     "data": {
      "text/html": [
       "\n",
       "<style>\n",
       "    /* Turns off some styling */\n",
       "    progress {\n",
       "        /* gets rid of default border in Firefox and Opera. */\n",
       "        border: none;\n",
       "        /* Needs to be in here for Safari polyfill so background images work as expected. */\n",
       "        background-size: auto;\n",
       "    }\n",
       "    progress:not([value]), progress:not([value])::-webkit-progress-bar {\n",
       "        background: repeating-linear-gradient(45deg, #7e7e7e, #7e7e7e 10px, #5c5c5c 10px, #5c5c5c 20px);\n",
       "    }\n",
       "    .progress-bar-interrupted, .progress-bar-interrupted::-webkit-progress-bar {\n",
       "        background: #F44336;\n",
       "    }\n",
       "</style>\n"
      ],
      "text/plain": [
       "<IPython.core.display.HTML object>"
      ]
     },
     "metadata": {},
     "output_type": "display_data"
    },
    {
     "data": {
      "text/html": [],
      "text/plain": [
       "<IPython.core.display.HTML object>"
      ]
     },
     "metadata": {},
     "output_type": "display_data"
    },
    {
     "name": "stderr",
     "output_type": "stream",
     "text": [
      "Mean of empty slice\n"
     ]
    },
    {
     "name": "stdout",
     "output_type": "stream",
     "text": [
      "Input file: bids/sub-z0163277/ses-20240123/extra_data/magnitude_combined.nii\n",
      "Marker Precision: 1.0\n",
      "Marker Recall: 1.0\n",
      "True markers: 3\n",
      "False positive markers: 0 (0 were known calcification)\n",
      "False negative markers: 0\n",
      "Loss: 0.4118210971355438\n",
      "Loading model: models/GRE-20240405-165158-8-best.pth\n"
     ]
    },
    {
     "name": "stderr",
     "output_type": "stream",
     "text": [
      "Saved filed doesn't contain an optimizer state.\n"
     ]
    },
    {
     "name": "stdout",
     "output_type": "stream",
     "text": [
      "0/1; "
     ]
    },
    {
     "data": {
      "text/html": [
       "\n",
       "<style>\n",
       "    /* Turns off some styling */\n",
       "    progress {\n",
       "        /* gets rid of default border in Firefox and Opera. */\n",
       "        border: none;\n",
       "        /* Needs to be in here for Safari polyfill so background images work as expected. */\n",
       "        background-size: auto;\n",
       "    }\n",
       "    progress:not([value]), progress:not([value])::-webkit-progress-bar {\n",
       "        background: repeating-linear-gradient(45deg, #7e7e7e, #7e7e7e 10px, #5c5c5c 10px, #5c5c5c 20px);\n",
       "    }\n",
       "    .progress-bar-interrupted, .progress-bar-interrupted::-webkit-progress-bar {\n",
       "        background: #F44336;\n",
       "    }\n",
       "</style>\n"
      ],
      "text/plain": [
       "<IPython.core.display.HTML object>"
      ]
     },
     "metadata": {},
     "output_type": "display_data"
    },
    {
     "data": {
      "text/html": [],
      "text/plain": [
       "<IPython.core.display.HTML object>"
      ]
     },
     "metadata": {},
     "output_type": "display_data"
    },
    {
     "name": "stderr",
     "output_type": "stream",
     "text": [
      "Mean of empty slice\n"
     ]
    },
    {
     "name": "stdout",
     "output_type": "stream",
     "text": [
      "Input file: bids/sub-z3220308/ses-20231009/extra_data/magnitude_combined.nii\n",
      "Marker Precision: 1.0\n",
      "Marker Recall: 1.0\n",
      "True markers: 3\n",
      "False positive markers: 0 (0 were known calcification)\n",
      "False negative markers: 0\n",
      "Loss: 0.4284638464450836\n",
      "Loading model: models/GRE-20240405-165717-9-best.pth\n"
     ]
    },
    {
     "name": "stderr",
     "output_type": "stream",
     "text": [
      "Saved filed doesn't contain an optimizer state.\n"
     ]
    },
    {
     "name": "stdout",
     "output_type": "stream",
     "text": [
      "0/1; "
     ]
    },
    {
     "data": {
      "text/html": [
       "\n",
       "<style>\n",
       "    /* Turns off some styling */\n",
       "    progress {\n",
       "        /* gets rid of default border in Firefox and Opera. */\n",
       "        border: none;\n",
       "        /* Needs to be in here for Safari polyfill so background images work as expected. */\n",
       "        background-size: auto;\n",
       "    }\n",
       "    progress:not([value]), progress:not([value])::-webkit-progress-bar {\n",
       "        background: repeating-linear-gradient(45deg, #7e7e7e, #7e7e7e 10px, #5c5c5c 10px, #5c5c5c 20px);\n",
       "    }\n",
       "    .progress-bar-interrupted, .progress-bar-interrupted::-webkit-progress-bar {\n",
       "        background: #F44336;\n",
       "    }\n",
       "</style>\n"
      ],
      "text/plain": [
       "<IPython.core.display.HTML object>"
      ]
     },
     "metadata": {},
     "output_type": "display_data"
    },
    {
     "data": {
      "text/html": [],
      "text/plain": [
       "<IPython.core.display.HTML object>"
      ]
     },
     "metadata": {},
     "output_type": "display_data"
    },
    {
     "name": "stdout",
     "output_type": "stream",
     "text": [
      "Input file: bids/sub-z0381949/ses-20231005/extra_data/magnitude_combined.nii\n",
      "Marker Precision: 0.6666666666666666\n",
      "Marker Recall: 0.6666666666666666\n",
      "True markers: 2\n",
      "False positive markers: 1 (1 were known calcification)\n",
      "False negative markers: 1\n",
      "Loss: 0.4248062074184418\n",
      "Loading model: models/GRE-20240405-170438-10-best.pth\n"
     ]
    },
    {
     "name": "stderr",
     "output_type": "stream",
     "text": [
      "Saved filed doesn't contain an optimizer state.\n"
     ]
    },
    {
     "name": "stdout",
     "output_type": "stream",
     "text": [
      "0/1; "
     ]
    },
    {
     "data": {
      "text/html": [
       "\n",
       "<style>\n",
       "    /* Turns off some styling */\n",
       "    progress {\n",
       "        /* gets rid of default border in Firefox and Opera. */\n",
       "        border: none;\n",
       "        /* Needs to be in here for Safari polyfill so background images work as expected. */\n",
       "        background-size: auto;\n",
       "    }\n",
       "    progress:not([value]), progress:not([value])::-webkit-progress-bar {\n",
       "        background: repeating-linear-gradient(45deg, #7e7e7e, #7e7e7e 10px, #5c5c5c 10px, #5c5c5c 20px);\n",
       "    }\n",
       "    .progress-bar-interrupted, .progress-bar-interrupted::-webkit-progress-bar {\n",
       "        background: #F44336;\n",
       "    }\n",
       "</style>\n"
      ],
      "text/plain": [
       "<IPython.core.display.HTML object>"
      ]
     },
     "metadata": {},
     "output_type": "display_data"
    },
    {
     "data": {
      "text/html": [],
      "text/plain": [
       "<IPython.core.display.HTML object>"
      ]
     },
     "metadata": {},
     "output_type": "display_data"
    },
    {
     "name": "stderr",
     "output_type": "stream",
     "text": [
      "Mean of empty slice\n"
     ]
    },
    {
     "name": "stdout",
     "output_type": "stream",
     "text": [
      "Input file: bids/sub-z0206923/ses-20231003/extra_data/magnitude_combined.nii\n",
      "Marker Precision: 1.0\n",
      "Marker Recall: 1.0\n",
      "True markers: 3\n",
      "False positive markers: 0 (0 were known calcification)\n",
      "False negative markers: 0\n",
      "Loss: 0.4029568135738373\n",
      "Loading model: models/GRE-20240405-172234-11-best.pth\n"
     ]
    },
    {
     "name": "stderr",
     "output_type": "stream",
     "text": [
      "Saved filed doesn't contain an optimizer state.\n"
     ]
    },
    {
     "name": "stdout",
     "output_type": "stream",
     "text": [
      "0/1; "
     ]
    },
    {
     "data": {
      "text/html": [
       "\n",
       "<style>\n",
       "    /* Turns off some styling */\n",
       "    progress {\n",
       "        /* gets rid of default border in Firefox and Opera. */\n",
       "        border: none;\n",
       "        /* Needs to be in here for Safari polyfill so background images work as expected. */\n",
       "        background-size: auto;\n",
       "    }\n",
       "    progress:not([value]), progress:not([value])::-webkit-progress-bar {\n",
       "        background: repeating-linear-gradient(45deg, #7e7e7e, #7e7e7e 10px, #5c5c5c 10px, #5c5c5c 20px);\n",
       "    }\n",
       "    .progress-bar-interrupted, .progress-bar-interrupted::-webkit-progress-bar {\n",
       "        background: #F44336;\n",
       "    }\n",
       "</style>\n"
      ],
      "text/plain": [
       "<IPython.core.display.HTML object>"
      ]
     },
     "metadata": {},
     "output_type": "display_data"
    },
    {
     "data": {
      "text/html": [],
      "text/plain": [
       "<IPython.core.display.HTML object>"
      ]
     },
     "metadata": {},
     "output_type": "display_data"
    },
    {
     "name": "stdout",
     "output_type": "stream",
     "text": [
      "Input file: bids/sub-z1484547/ses-20240102/extra_data/magnitude_combined.nii\n",
      "Marker Precision: 0.6666666666666666\n",
      "Marker Recall: 0.6666666666666666\n",
      "True markers: 2\n",
      "False positive markers: 1 (1 were known calcification)\n",
      "False negative markers: 1\n",
      "Loss: 0.42976656556129456\n",
      "Loading model: models/GRE-20240405-172453-12-best.pth\n"
     ]
    },
    {
     "name": "stderr",
     "output_type": "stream",
     "text": [
      "Saved filed doesn't contain an optimizer state.\n"
     ]
    },
    {
     "name": "stdout",
     "output_type": "stream",
     "text": [
      "0/1; "
     ]
    },
    {
     "data": {
      "text/html": [
       "\n",
       "<style>\n",
       "    /* Turns off some styling */\n",
       "    progress {\n",
       "        /* gets rid of default border in Firefox and Opera. */\n",
       "        border: none;\n",
       "        /* Needs to be in here for Safari polyfill so background images work as expected. */\n",
       "        background-size: auto;\n",
       "    }\n",
       "    progress:not([value]), progress:not([value])::-webkit-progress-bar {\n",
       "        background: repeating-linear-gradient(45deg, #7e7e7e, #7e7e7e 10px, #5c5c5c 10px, #5c5c5c 20px);\n",
       "    }\n",
       "    .progress-bar-interrupted, .progress-bar-interrupted::-webkit-progress-bar {\n",
       "        background: #F44336;\n",
       "    }\n",
       "</style>\n"
      ],
      "text/plain": [
       "<IPython.core.display.HTML object>"
      ]
     },
     "metadata": {},
     "output_type": "display_data"
    },
    {
     "data": {
      "text/html": [],
      "text/plain": [
       "<IPython.core.display.HTML object>"
      ]
     },
     "metadata": {},
     "output_type": "display_data"
    },
    {
     "name": "stderr",
     "output_type": "stream",
     "text": [
      "Mean of empty slice\n"
     ]
    },
    {
     "name": "stdout",
     "output_type": "stream",
     "text": [
      "Input file: bids/sub-z1645782/ses-20231010/extra_data/magnitude_combined.nii\n",
      "Marker Precision: 1.0\n",
      "Marker Recall: 1.0\n",
      "True markers: 2\n",
      "False positive markers: 0 (0 were known calcification)\n",
      "False negative markers: 0\n",
      "Loss: 0.362017959356308\n",
      "Loading model: models/GRE-20240405-174413-13-best.pth\n"
     ]
    },
    {
     "name": "stderr",
     "output_type": "stream",
     "text": [
      "Saved filed doesn't contain an optimizer state.\n"
     ]
    },
    {
     "name": "stdout",
     "output_type": "stream",
     "text": [
      "0/1; "
     ]
    },
    {
     "data": {
      "text/html": [
       "\n",
       "<style>\n",
       "    /* Turns off some styling */\n",
       "    progress {\n",
       "        /* gets rid of default border in Firefox and Opera. */\n",
       "        border: none;\n",
       "        /* Needs to be in here for Safari polyfill so background images work as expected. */\n",
       "        background-size: auto;\n",
       "    }\n",
       "    progress:not([value]), progress:not([value])::-webkit-progress-bar {\n",
       "        background: repeating-linear-gradient(45deg, #7e7e7e, #7e7e7e 10px, #5c5c5c 10px, #5c5c5c 20px);\n",
       "    }\n",
       "    .progress-bar-interrupted, .progress-bar-interrupted::-webkit-progress-bar {\n",
       "        background: #F44336;\n",
       "    }\n",
       "</style>\n"
      ],
      "text/plain": [
       "<IPython.core.display.HTML object>"
      ]
     },
     "metadata": {},
     "output_type": "display_data"
    },
    {
     "data": {
      "text/html": [],
      "text/plain": [
       "<IPython.core.display.HTML object>"
      ]
     },
     "metadata": {},
     "output_type": "display_data"
    },
    {
     "name": "stdout",
     "output_type": "stream",
     "text": [
      "Input file: bids/sub-z0232771/ses-20240228/extra_data/magnitude_combined.nii\n",
      "Marker Precision: 1.0\n",
      "Marker Recall: 1.0\n",
      "True markers: 3\n",
      "False positive markers: 0 (0 were known calcification)\n",
      "False negative markers: 0\n",
      "Loss: 0.40285924077033997\n",
      "Loading model: models/GRE-20240405-175552-14-best.pth\n"
     ]
    },
    {
     "name": "stderr",
     "output_type": "stream",
     "text": [
      "Saved filed doesn't contain an optimizer state.\n"
     ]
    },
    {
     "name": "stdout",
     "output_type": "stream",
     "text": [
      "0/1; "
     ]
    },
    {
     "data": {
      "text/html": [
       "\n",
       "<style>\n",
       "    /* Turns off some styling */\n",
       "    progress {\n",
       "        /* gets rid of default border in Firefox and Opera. */\n",
       "        border: none;\n",
       "        /* Needs to be in here for Safari polyfill so background images work as expected. */\n",
       "        background-size: auto;\n",
       "    }\n",
       "    progress:not([value]), progress:not([value])::-webkit-progress-bar {\n",
       "        background: repeating-linear-gradient(45deg, #7e7e7e, #7e7e7e 10px, #5c5c5c 10px, #5c5c5c 20px);\n",
       "    }\n",
       "    .progress-bar-interrupted, .progress-bar-interrupted::-webkit-progress-bar {\n",
       "        background: #F44336;\n",
       "    }\n",
       "</style>\n"
      ],
      "text/plain": [
       "<IPython.core.display.HTML object>"
      ]
     },
     "metadata": {},
     "output_type": "display_data"
    },
    {
     "data": {
      "text/html": [],
      "text/plain": [
       "<IPython.core.display.HTML object>"
      ]
     },
     "metadata": {},
     "output_type": "display_data"
    },
    {
     "name": "stderr",
     "output_type": "stream",
     "text": [
      "Mean of empty slice\n"
     ]
    },
    {
     "name": "stdout",
     "output_type": "stream",
     "text": [
      "Input file: bids/sub-z0347933/ses-20240129/extra_data/magnitude_combined.nii\n",
      "Marker Precision: 1.0\n",
      "Marker Recall: 1.0\n",
      "True markers: 3\n",
      "False positive markers: 0 (0 were known calcification)\n",
      "False negative markers: 0\n",
      "Loss: 0.37458112835884094\n",
      "Loading model: models/GRE-20240405-180616-15-best.pth\n"
     ]
    },
    {
     "name": "stderr",
     "output_type": "stream",
     "text": [
      "Saved filed doesn't contain an optimizer state.\n"
     ]
    },
    {
     "name": "stdout",
     "output_type": "stream",
     "text": [
      "0/1; "
     ]
    },
    {
     "data": {
      "text/html": [
       "\n",
       "<style>\n",
       "    /* Turns off some styling */\n",
       "    progress {\n",
       "        /* gets rid of default border in Firefox and Opera. */\n",
       "        border: none;\n",
       "        /* Needs to be in here for Safari polyfill so background images work as expected. */\n",
       "        background-size: auto;\n",
       "    }\n",
       "    progress:not([value]), progress:not([value])::-webkit-progress-bar {\n",
       "        background: repeating-linear-gradient(45deg, #7e7e7e, #7e7e7e 10px, #5c5c5c 10px, #5c5c5c 20px);\n",
       "    }\n",
       "    .progress-bar-interrupted, .progress-bar-interrupted::-webkit-progress-bar {\n",
       "        background: #F44336;\n",
       "    }\n",
       "</style>\n"
      ],
      "text/plain": [
       "<IPython.core.display.HTML object>"
      ]
     },
     "metadata": {},
     "output_type": "display_data"
    },
    {
     "data": {
      "text/html": [],
      "text/plain": [
       "<IPython.core.display.HTML object>"
      ]
     },
     "metadata": {},
     "output_type": "display_data"
    },
    {
     "name": "stdout",
     "output_type": "stream",
     "text": [
      "Input file: bids/sub-z3145629/ses-20231204/extra_data/magnitude_combined.nii\n",
      "Marker Precision: 1.0\n",
      "Marker Recall: 1.0\n",
      "True markers: 3\n",
      "False positive markers: 0 (0 were known calcification)\n",
      "False negative markers: 0\n",
      "Loss: 0.4215394854545593\n",
      "Loading model: models/GRE-20240405-182831-16-best.pth\n"
     ]
    },
    {
     "name": "stderr",
     "output_type": "stream",
     "text": [
      "Saved filed doesn't contain an optimizer state.\n"
     ]
    },
    {
     "name": "stdout",
     "output_type": "stream",
     "text": [
      "0/1; "
     ]
    },
    {
     "data": {
      "text/html": [
       "\n",
       "<style>\n",
       "    /* Turns off some styling */\n",
       "    progress {\n",
       "        /* gets rid of default border in Firefox and Opera. */\n",
       "        border: none;\n",
       "        /* Needs to be in here for Safari polyfill so background images work as expected. */\n",
       "        background-size: auto;\n",
       "    }\n",
       "    progress:not([value]), progress:not([value])::-webkit-progress-bar {\n",
       "        background: repeating-linear-gradient(45deg, #7e7e7e, #7e7e7e 10px, #5c5c5c 10px, #5c5c5c 20px);\n",
       "    }\n",
       "    .progress-bar-interrupted, .progress-bar-interrupted::-webkit-progress-bar {\n",
       "        background: #F44336;\n",
       "    }\n",
       "</style>\n"
      ],
      "text/plain": [
       "<IPython.core.display.HTML object>"
      ]
     },
     "metadata": {},
     "output_type": "display_data"
    },
    {
     "data": {
      "text/html": [],
      "text/plain": [
       "<IPython.core.display.HTML object>"
      ]
     },
     "metadata": {},
     "output_type": "display_data"
    },
    {
     "name": "stderr",
     "output_type": "stream",
     "text": [
      "Mean of empty slice\n"
     ]
    },
    {
     "name": "stdout",
     "output_type": "stream",
     "text": [
      "Input file: bids/sub-z2105112/ses-20231220/extra_data/magnitude_combined.nii\n",
      "Marker Precision: 1.0\n",
      "Marker Recall: 1.0\n",
      "True markers: 3\n",
      "False positive markers: 0 (0 were known calcification)\n",
      "False negative markers: 0\n",
      "Loss: 0.38069671392440796\n",
      "Loading model: models/GRE-20240405-183038-17-best.pth\n"
     ]
    },
    {
     "name": "stderr",
     "output_type": "stream",
     "text": [
      "Saved filed doesn't contain an optimizer state.\n"
     ]
    },
    {
     "name": "stdout",
     "output_type": "stream",
     "text": [
      "0/1; "
     ]
    },
    {
     "data": {
      "text/html": [
       "\n",
       "<style>\n",
       "    /* Turns off some styling */\n",
       "    progress {\n",
       "        /* gets rid of default border in Firefox and Opera. */\n",
       "        border: none;\n",
       "        /* Needs to be in here for Safari polyfill so background images work as expected. */\n",
       "        background-size: auto;\n",
       "    }\n",
       "    progress:not([value]), progress:not([value])::-webkit-progress-bar {\n",
       "        background: repeating-linear-gradient(45deg, #7e7e7e, #7e7e7e 10px, #5c5c5c 10px, #5c5c5c 20px);\n",
       "    }\n",
       "    .progress-bar-interrupted, .progress-bar-interrupted::-webkit-progress-bar {\n",
       "        background: #F44336;\n",
       "    }\n",
       "</style>\n"
      ],
      "text/plain": [
       "<IPython.core.display.HTML object>"
      ]
     },
     "metadata": {},
     "output_type": "display_data"
    },
    {
     "data": {
      "text/html": [],
      "text/plain": [
       "<IPython.core.display.HTML object>"
      ]
     },
     "metadata": {},
     "output_type": "display_data"
    },
    {
     "name": "stdout",
     "output_type": "stream",
     "text": [
      "Input file: bids/sub-z3212665/ses-20240305/extra_data/magnitude_combined.nii\n",
      "Marker Precision: 1.0\n",
      "Marker Recall: 1.0\n",
      "True markers: 3\n",
      "False positive markers: 0 (0 were known calcification)\n",
      "False negative markers: 0\n",
      "Loss: 0.36756882071495056\n",
      "Loading model: models/GRE-20240405-184637-18-best.pth\n"
     ]
    },
    {
     "name": "stderr",
     "output_type": "stream",
     "text": [
      "Saved filed doesn't contain an optimizer state.\n"
     ]
    },
    {
     "name": "stdout",
     "output_type": "stream",
     "text": [
      "0/1; "
     ]
    },
    {
     "data": {
      "text/html": [
       "\n",
       "<style>\n",
       "    /* Turns off some styling */\n",
       "    progress {\n",
       "        /* gets rid of default border in Firefox and Opera. */\n",
       "        border: none;\n",
       "        /* Needs to be in here for Safari polyfill so background images work as expected. */\n",
       "        background-size: auto;\n",
       "    }\n",
       "    progress:not([value]), progress:not([value])::-webkit-progress-bar {\n",
       "        background: repeating-linear-gradient(45deg, #7e7e7e, #7e7e7e 10px, #5c5c5c 10px, #5c5c5c 20px);\n",
       "    }\n",
       "    .progress-bar-interrupted, .progress-bar-interrupted::-webkit-progress-bar {\n",
       "        background: #F44336;\n",
       "    }\n",
       "</style>\n"
      ],
      "text/plain": [
       "<IPython.core.display.HTML object>"
      ]
     },
     "metadata": {},
     "output_type": "display_data"
    },
    {
     "data": {
      "text/html": [],
      "text/plain": [
       "<IPython.core.display.HTML object>"
      ]
     },
     "metadata": {},
     "output_type": "display_data"
    },
    {
     "name": "stdout",
     "output_type": "stream",
     "text": [
      "Input file: bids/sub-z2684925/ses-20240313/extra_data/magnitude_combined.nii\n",
      "Marker Precision: 1.0\n",
      "Marker Recall: 1.0\n",
      "True markers: 3\n",
      "False positive markers: 0 (0 were known calcification)\n",
      "False negative markers: 0\n",
      "Loss: 0.39259102940559387\n",
      "Loading model: models/GRE-20240405-190121-19-best.pth\n"
     ]
    },
    {
     "name": "stderr",
     "output_type": "stream",
     "text": [
      "Saved filed doesn't contain an optimizer state.\n"
     ]
    },
    {
     "name": "stdout",
     "output_type": "stream",
     "text": [
      "0/1; "
     ]
    },
    {
     "data": {
      "text/html": [
       "\n",
       "<style>\n",
       "    /* Turns off some styling */\n",
       "    progress {\n",
       "        /* gets rid of default border in Firefox and Opera. */\n",
       "        border: none;\n",
       "        /* Needs to be in here for Safari polyfill so background images work as expected. */\n",
       "        background-size: auto;\n",
       "    }\n",
       "    progress:not([value]), progress:not([value])::-webkit-progress-bar {\n",
       "        background: repeating-linear-gradient(45deg, #7e7e7e, #7e7e7e 10px, #5c5c5c 10px, #5c5c5c 20px);\n",
       "    }\n",
       "    .progress-bar-interrupted, .progress-bar-interrupted::-webkit-progress-bar {\n",
       "        background: #F44336;\n",
       "    }\n",
       "</style>\n"
      ],
      "text/plain": [
       "<IPython.core.display.HTML object>"
      ]
     },
     "metadata": {},
     "output_type": "display_data"
    },
    {
     "data": {
      "text/html": [],
      "text/plain": [
       "<IPython.core.display.HTML object>"
      ]
     },
     "metadata": {},
     "output_type": "display_data"
    },
    {
     "name": "stdout",
     "output_type": "stream",
     "text": [
      "Input file: bids/sub-z4043512/ses-20240112/extra_data/magnitude_combined.nii\n",
      "Marker Precision: 1.0\n",
      "Marker Recall: 1.0\n",
      "True markers: 3\n",
      "False positive markers: 0 (0 were known calcification)\n",
      "False negative markers: 0\n",
      "Loss: 0.2421264797449112\n",
      "Loading model: models/GRE-20240405-190841-20-best.pth\n"
     ]
    },
    {
     "name": "stderr",
     "output_type": "stream",
     "text": [
      "Saved filed doesn't contain an optimizer state.\n"
     ]
    },
    {
     "name": "stdout",
     "output_type": "stream",
     "text": [
      "0/1; "
     ]
    },
    {
     "data": {
      "text/html": [
       "\n",
       "<style>\n",
       "    /* Turns off some styling */\n",
       "    progress {\n",
       "        /* gets rid of default border in Firefox and Opera. */\n",
       "        border: none;\n",
       "        /* Needs to be in here for Safari polyfill so background images work as expected. */\n",
       "        background-size: auto;\n",
       "    }\n",
       "    progress:not([value]), progress:not([value])::-webkit-progress-bar {\n",
       "        background: repeating-linear-gradient(45deg, #7e7e7e, #7e7e7e 10px, #5c5c5c 10px, #5c5c5c 20px);\n",
       "    }\n",
       "    .progress-bar-interrupted, .progress-bar-interrupted::-webkit-progress-bar {\n",
       "        background: #F44336;\n",
       "    }\n",
       "</style>\n"
      ],
      "text/plain": [
       "<IPython.core.display.HTML object>"
      ]
     },
     "metadata": {},
     "output_type": "display_data"
    },
    {
     "data": {
      "text/html": [],
      "text/plain": [
       "<IPython.core.display.HTML object>"
      ]
     },
     "metadata": {},
     "output_type": "display_data"
    },
    {
     "name": "stderr",
     "output_type": "stream",
     "text": [
      "Mean of empty slice\n"
     ]
    },
    {
     "name": "stdout",
     "output_type": "stream",
     "text": [
      "Input file: bids/sub-z0747844/ses-20240304/extra_data/magnitude_combined.nii\n",
      "Marker Precision: 1.0\n",
      "Marker Recall: 1.0\n",
      "True markers: 3\n",
      "False positive markers: 0 (0 were known calcification)\n",
      "False negative markers: 0\n",
      "Loss: 0.4473836123943329\n",
      "Loading model: models/GRE-20240405-192929-21-best.pth\n"
     ]
    },
    {
     "name": "stderr",
     "output_type": "stream",
     "text": [
      "Saved filed doesn't contain an optimizer state.\n"
     ]
    },
    {
     "name": "stdout",
     "output_type": "stream",
     "text": [
      "0/1; "
     ]
    },
    {
     "data": {
      "text/html": [
       "\n",
       "<style>\n",
       "    /* Turns off some styling */\n",
       "    progress {\n",
       "        /* gets rid of default border in Firefox and Opera. */\n",
       "        border: none;\n",
       "        /* Needs to be in here for Safari polyfill so background images work as expected. */\n",
       "        background-size: auto;\n",
       "    }\n",
       "    progress:not([value]), progress:not([value])::-webkit-progress-bar {\n",
       "        background: repeating-linear-gradient(45deg, #7e7e7e, #7e7e7e 10px, #5c5c5c 10px, #5c5c5c 20px);\n",
       "    }\n",
       "    .progress-bar-interrupted, .progress-bar-interrupted::-webkit-progress-bar {\n",
       "        background: #F44336;\n",
       "    }\n",
       "</style>\n"
      ],
      "text/plain": [
       "<IPython.core.display.HTML object>"
      ]
     },
     "metadata": {},
     "output_type": "display_data"
    },
    {
     "data": {
      "text/html": [],
      "text/plain": [
       "<IPython.core.display.HTML object>"
      ]
     },
     "metadata": {},
     "output_type": "display_data"
    },
    {
     "name": "stderr",
     "output_type": "stream",
     "text": [
      "Mean of empty slice\n"
     ]
    },
    {
     "name": "stdout",
     "output_type": "stream",
     "text": [
      "Input file: bids/sub-z1421134/ses-20231205/extra_data/magnitude_combined.nii\n",
      "Marker Precision: 1.0\n",
      "Marker Recall: 1.0\n",
      "True markers: 3\n",
      "False positive markers: 0 (0 were known calcification)\n",
      "False negative markers: 0\n",
      "Loss: 0.42178627848625183\n",
      "Loading model: models/GRE-20240405-193715-22-best.pth\n"
     ]
    },
    {
     "name": "stderr",
     "output_type": "stream",
     "text": [
      "Saved filed doesn't contain an optimizer state.\n"
     ]
    },
    {
     "name": "stdout",
     "output_type": "stream",
     "text": [
      "0/1; "
     ]
    },
    {
     "data": {
      "text/html": [
       "\n",
       "<style>\n",
       "    /* Turns off some styling */\n",
       "    progress {\n",
       "        /* gets rid of default border in Firefox and Opera. */\n",
       "        border: none;\n",
       "        /* Needs to be in here for Safari polyfill so background images work as expected. */\n",
       "        background-size: auto;\n",
       "    }\n",
       "    progress:not([value]), progress:not([value])::-webkit-progress-bar {\n",
       "        background: repeating-linear-gradient(45deg, #7e7e7e, #7e7e7e 10px, #5c5c5c 10px, #5c5c5c 20px);\n",
       "    }\n",
       "    .progress-bar-interrupted, .progress-bar-interrupted::-webkit-progress-bar {\n",
       "        background: #F44336;\n",
       "    }\n",
       "</style>\n"
      ],
      "text/plain": [
       "<IPython.core.display.HTML object>"
      ]
     },
     "metadata": {},
     "output_type": "display_data"
    },
    {
     "data": {
      "text/html": [],
      "text/plain": [
       "<IPython.core.display.HTML object>"
      ]
     },
     "metadata": {},
     "output_type": "display_data"
    },
    {
     "name": "stderr",
     "output_type": "stream",
     "text": [
      "Mean of empty slice\n"
     ]
    },
    {
     "name": "stdout",
     "output_type": "stream",
     "text": [
      "Input file: bids/sub-z1638396/ses-20240311/extra_data/magnitude_combined.nii\n",
      "Marker Precision: 1.0\n",
      "Marker Recall: 1.0\n",
      "True markers: 3\n",
      "False positive markers: 0 (0 were known calcification)\n",
      "False negative markers: 0\n",
      "Loss: 0.4048817455768585\n",
      "Loading model: models/GRE-20240405-195503-23-best.pth\n"
     ]
    },
    {
     "name": "stderr",
     "output_type": "stream",
     "text": [
      "Saved filed doesn't contain an optimizer state.\n"
     ]
    },
    {
     "name": "stdout",
     "output_type": "stream",
     "text": [
      "0/1; "
     ]
    },
    {
     "data": {
      "text/html": [
       "\n",
       "<style>\n",
       "    /* Turns off some styling */\n",
       "    progress {\n",
       "        /* gets rid of default border in Firefox and Opera. */\n",
       "        border: none;\n",
       "        /* Needs to be in here for Safari polyfill so background images work as expected. */\n",
       "        background-size: auto;\n",
       "    }\n",
       "    progress:not([value]), progress:not([value])::-webkit-progress-bar {\n",
       "        background: repeating-linear-gradient(45deg, #7e7e7e, #7e7e7e 10px, #5c5c5c 10px, #5c5c5c 20px);\n",
       "    }\n",
       "    .progress-bar-interrupted, .progress-bar-interrupted::-webkit-progress-bar {\n",
       "        background: #F44336;\n",
       "    }\n",
       "</style>\n"
      ],
      "text/plain": [
       "<IPython.core.display.HTML object>"
      ]
     },
     "metadata": {},
     "output_type": "display_data"
    },
    {
     "data": {
      "text/html": [],
      "text/plain": [
       "<IPython.core.display.HTML object>"
      ]
     },
     "metadata": {},
     "output_type": "display_data"
    },
    {
     "name": "stderr",
     "output_type": "stream",
     "text": [
      "Mean of empty slice\n"
     ]
    },
    {
     "name": "stdout",
     "output_type": "stream",
     "text": [
      "Input file: bids/sub-z2996397/ses-20231201/extra_data/magnitude_combined.nii\n",
      "Marker Precision: 1.0\n",
      "Marker Recall: 1.0\n",
      "True markers: 3\n",
      "False positive markers: 0 (0 were known calcification)\n",
      "False negative markers: 0\n",
      "Loss: 0.36602088809013367\n",
      "Loading model: models/GRE-20240405-200013-24-best.pth\n"
     ]
    },
    {
     "name": "stderr",
     "output_type": "stream",
     "text": [
      "Saved filed doesn't contain an optimizer state.\n"
     ]
    },
    {
     "name": "stdout",
     "output_type": "stream",
     "text": [
      "0/1; "
     ]
    },
    {
     "data": {
      "text/html": [
       "\n",
       "<style>\n",
       "    /* Turns off some styling */\n",
       "    progress {\n",
       "        /* gets rid of default border in Firefox and Opera. */\n",
       "        border: none;\n",
       "        /* Needs to be in here for Safari polyfill so background images work as expected. */\n",
       "        background-size: auto;\n",
       "    }\n",
       "    progress:not([value]), progress:not([value])::-webkit-progress-bar {\n",
       "        background: repeating-linear-gradient(45deg, #7e7e7e, #7e7e7e 10px, #5c5c5c 10px, #5c5c5c 20px);\n",
       "    }\n",
       "    .progress-bar-interrupted, .progress-bar-interrupted::-webkit-progress-bar {\n",
       "        background: #F44336;\n",
       "    }\n",
       "</style>\n"
      ],
      "text/plain": [
       "<IPython.core.display.HTML object>"
      ]
     },
     "metadata": {},
     "output_type": "display_data"
    },
    {
     "data": {
      "text/html": [],
      "text/plain": [
       "<IPython.core.display.HTML object>"
      ]
     },
     "metadata": {},
     "output_type": "display_data"
    },
    {
     "name": "stdout",
     "output_type": "stream",
     "text": [
      "Input file: bids/sub-z0742379/ses-20240124/extra_data/magnitude_combined.nii\n",
      "Marker Precision: 0.6666666666666666\n",
      "Marker Recall: 0.6666666666666666\n",
      "True markers: 2\n",
      "False positive markers: 1 (0 were known calcification)\n",
      "False negative markers: 1\n",
      "Loss: 0.4536900222301483\n",
      "=== QSM-FMAP ===\n",
      "infile_cols: ['qsm_files', 'fmap_files']; n_input_channels: 2\n",
      "Loading model: models/QSM-FMAP-20240404-132733-0-best.pth\n"
     ]
    },
    {
     "name": "stderr",
     "output_type": "stream",
     "text": [
      "Saved filed doesn't contain an optimizer state.\n"
     ]
    },
    {
     "name": "stdout",
     "output_type": "stream",
     "text": [
      "0/1; "
     ]
    },
    {
     "data": {
      "text/html": [
       "\n",
       "<style>\n",
       "    /* Turns off some styling */\n",
       "    progress {\n",
       "        /* gets rid of default border in Firefox and Opera. */\n",
       "        border: none;\n",
       "        /* Needs to be in here for Safari polyfill so background images work as expected. */\n",
       "        background-size: auto;\n",
       "    }\n",
       "    progress:not([value]), progress:not([value])::-webkit-progress-bar {\n",
       "        background: repeating-linear-gradient(45deg, #7e7e7e, #7e7e7e 10px, #5c5c5c 10px, #5c5c5c 20px);\n",
       "    }\n",
       "    .progress-bar-interrupted, .progress-bar-interrupted::-webkit-progress-bar {\n",
       "        background: #F44336;\n",
       "    }\n",
       "</style>\n"
      ],
      "text/plain": [
       "<IPython.core.display.HTML object>"
      ]
     },
     "metadata": {},
     "output_type": "display_data"
    },
    {
     "data": {
      "text/html": [],
      "text/plain": [
       "<IPython.core.display.HTML object>"
      ]
     },
     "metadata": {},
     "output_type": "display_data"
    },
    {
     "name": "stdout",
     "output_type": "stream",
     "text": [
      "Input file: out/qsm/sub-z1318033_ses-20230825_acq-wipiswifl3dvibetrythisone_run-01_echo-01_part-phase_MEGRE_scaled_tgvqsmjl_twopass_average_ref.nii\n",
      "Marker Precision: 0.0\n",
      "Marker Recall: 0.0\n",
      "True markers: 0\n",
      "False positive markers: 1 (0 were known calcification)\n",
      "False negative markers: 3\n",
      "Loss: 0.6727012395858765\n",
      "Loading model: models/QSM-FMAP-20240404-131545-1-best.pth\n"
     ]
    },
    {
     "name": "stderr",
     "output_type": "stream",
     "text": [
      "Saved filed doesn't contain an optimizer state.\n"
     ]
    },
    {
     "name": "stdout",
     "output_type": "stream",
     "text": [
      "0/1; "
     ]
    },
    {
     "data": {
      "text/html": [
       "\n",
       "<style>\n",
       "    /* Turns off some styling */\n",
       "    progress {\n",
       "        /* gets rid of default border in Firefox and Opera. */\n",
       "        border: none;\n",
       "        /* Needs to be in here for Safari polyfill so background images work as expected. */\n",
       "        background-size: auto;\n",
       "    }\n",
       "    progress:not([value]), progress:not([value])::-webkit-progress-bar {\n",
       "        background: repeating-linear-gradient(45deg, #7e7e7e, #7e7e7e 10px, #5c5c5c 10px, #5c5c5c 20px);\n",
       "    }\n",
       "    .progress-bar-interrupted, .progress-bar-interrupted::-webkit-progress-bar {\n",
       "        background: #F44336;\n",
       "    }\n",
       "</style>\n"
      ],
      "text/plain": [
       "<IPython.core.display.HTML object>"
      ]
     },
     "metadata": {},
     "output_type": "display_data"
    },
    {
     "data": {
      "text/html": [],
      "text/plain": [
       "<IPython.core.display.HTML object>"
      ]
     },
     "metadata": {},
     "output_type": "display_data"
    },
    {
     "name": "stderr",
     "output_type": "stream",
     "text": [
      "Mean of empty slice\n"
     ]
    },
    {
     "name": "stdout",
     "output_type": "stream",
     "text": [
      "Input file: out/qsm/sub-z1691325_ses-20240227_acq-wipiswifl3dvibetrythisone_run-01_echo-01_part-phase_MEGRE_scaled_tgvqsmjl_twopass_average_ref.nii\n",
      "Marker Precision: 1.3333333333333333\n",
      "Marker Recall: 1.3333333333333333\n",
      "True markers: 4\n",
      "False positive markers: -1 (0 were known calcification)\n",
      "False negative markers: -1\n",
      "Loss: 1.4710769653320312\n",
      "Loading model: models/QSM-FMAP-20240404-131545-2-best.pth\n"
     ]
    },
    {
     "name": "stderr",
     "output_type": "stream",
     "text": [
      "Saved filed doesn't contain an optimizer state.\n"
     ]
    },
    {
     "name": "stdout",
     "output_type": "stream",
     "text": [
      "0/1; "
     ]
    },
    {
     "data": {
      "text/html": [
       "\n",
       "<style>\n",
       "    /* Turns off some styling */\n",
       "    progress {\n",
       "        /* gets rid of default border in Firefox and Opera. */\n",
       "        border: none;\n",
       "        /* Needs to be in here for Safari polyfill so background images work as expected. */\n",
       "        background-size: auto;\n",
       "    }\n",
       "    progress:not([value]), progress:not([value])::-webkit-progress-bar {\n",
       "        background: repeating-linear-gradient(45deg, #7e7e7e, #7e7e7e 10px, #5c5c5c 10px, #5c5c5c 20px);\n",
       "    }\n",
       "    .progress-bar-interrupted, .progress-bar-interrupted::-webkit-progress-bar {\n",
       "        background: #F44336;\n",
       "    }\n",
       "</style>\n"
      ],
      "text/plain": [
       "<IPython.core.display.HTML object>"
      ]
     },
     "metadata": {},
     "output_type": "display_data"
    },
    {
     "data": {
      "text/html": [],
      "text/plain": [
       "<IPython.core.display.HTML object>"
      ]
     },
     "metadata": {},
     "output_type": "display_data"
    },
    {
     "name": "stdout",
     "output_type": "stream",
     "text": [
      "Input file: out/qsm/sub-z0002292_ses-20240318_acq-wipiswifl3dvibetrythisone_run-01_echo-01_part-phase_MEGRE_scaled_tgvqsmjl_twopass_average_ref.nii\n",
      "Marker Precision: 1.0\n",
      "Marker Recall: 1.0\n",
      "True markers: 3\n",
      "False positive markers: 0 (0 were known calcification)\n",
      "False negative markers: 0\n",
      "Loss: 1.9421215057373047\n",
      "Loading model: models/QSM-FMAP-20240404-135657-3-best.pth\n"
     ]
    },
    {
     "name": "stderr",
     "output_type": "stream",
     "text": [
      "Saved filed doesn't contain an optimizer state.\n"
     ]
    },
    {
     "name": "stdout",
     "output_type": "stream",
     "text": [
      "0/1; "
     ]
    },
    {
     "data": {
      "text/html": [
       "\n",
       "<style>\n",
       "    /* Turns off some styling */\n",
       "    progress {\n",
       "        /* gets rid of default border in Firefox and Opera. */\n",
       "        border: none;\n",
       "        /* Needs to be in here for Safari polyfill so background images work as expected. */\n",
       "        background-size: auto;\n",
       "    }\n",
       "    progress:not([value]), progress:not([value])::-webkit-progress-bar {\n",
       "        background: repeating-linear-gradient(45deg, #7e7e7e, #7e7e7e 10px, #5c5c5c 10px, #5c5c5c 20px);\n",
       "    }\n",
       "    .progress-bar-interrupted, .progress-bar-interrupted::-webkit-progress-bar {\n",
       "        background: #F44336;\n",
       "    }\n",
       "</style>\n"
      ],
      "text/plain": [
       "<IPython.core.display.HTML object>"
      ]
     },
     "metadata": {},
     "output_type": "display_data"
    },
    {
     "data": {
      "text/html": [],
      "text/plain": [
       "<IPython.core.display.HTML object>"
      ]
     },
     "metadata": {},
     "output_type": "display_data"
    },
    {
     "name": "stdout",
     "output_type": "stream",
     "text": [
      "Input file: out/qsm/sub-z3268423_ses-20240109_acq-wipiswifl3dvibetrythisone_run-01_echo-01_part-phase_MEGRE_scaled_tgvqsmjl_twopass_average_ref.nii\n",
      "Marker Precision: 1.0\n",
      "Marker Recall: 1.0\n",
      "True markers: 3\n",
      "False positive markers: 0 (0 were known calcification)\n",
      "False negative markers: 0\n",
      "Loss: 0.2698216140270233\n",
      "Loading model: models/QSM-FMAP-20240404-140913-4-best.pth\n"
     ]
    },
    {
     "name": "stderr",
     "output_type": "stream",
     "text": [
      "Saved filed doesn't contain an optimizer state.\n"
     ]
    },
    {
     "name": "stdout",
     "output_type": "stream",
     "text": [
      "0/1; "
     ]
    },
    {
     "data": {
      "text/html": [
       "\n",
       "<style>\n",
       "    /* Turns off some styling */\n",
       "    progress {\n",
       "        /* gets rid of default border in Firefox and Opera. */\n",
       "        border: none;\n",
       "        /* Needs to be in here for Safari polyfill so background images work as expected. */\n",
       "        background-size: auto;\n",
       "    }\n",
       "    progress:not([value]), progress:not([value])::-webkit-progress-bar {\n",
       "        background: repeating-linear-gradient(45deg, #7e7e7e, #7e7e7e 10px, #5c5c5c 10px, #5c5c5c 20px);\n",
       "    }\n",
       "    .progress-bar-interrupted, .progress-bar-interrupted::-webkit-progress-bar {\n",
       "        background: #F44336;\n",
       "    }\n",
       "</style>\n"
      ],
      "text/plain": [
       "<IPython.core.display.HTML object>"
      ]
     },
     "metadata": {},
     "output_type": "display_data"
    },
    {
     "data": {
      "text/html": [],
      "text/plain": [
       "<IPython.core.display.HTML object>"
      ]
     },
     "metadata": {},
     "output_type": "display_data"
    },
    {
     "name": "stdout",
     "output_type": "stream",
     "text": [
      "Input file: out/qsm/sub-z1448271_ses-20231110_acq-wipiswifl3dvibetrythisone_run-01_echo-01_part-phase_MEGRE_scaled_tgvqsmjl_twopass_average_ref.nii\n",
      "Marker Precision: 0.6666666666666666\n",
      "Marker Recall: 0.6666666666666666\n",
      "True markers: 2\n",
      "False positive markers: 1 (1 were known calcification)\n",
      "False negative markers: 1\n",
      "Loss: 0.4993855953216553\n",
      "Loading model: models/QSM-FMAP-20240404-141231-5-best.pth\n"
     ]
    },
    {
     "name": "stderr",
     "output_type": "stream",
     "text": [
      "Saved filed doesn't contain an optimizer state.\n"
     ]
    },
    {
     "name": "stdout",
     "output_type": "stream",
     "text": [
      "0/1; "
     ]
    },
    {
     "data": {
      "text/html": [
       "\n",
       "<style>\n",
       "    /* Turns off some styling */\n",
       "    progress {\n",
       "        /* gets rid of default border in Firefox and Opera. */\n",
       "        border: none;\n",
       "        /* Needs to be in here for Safari polyfill so background images work as expected. */\n",
       "        background-size: auto;\n",
       "    }\n",
       "    progress:not([value]), progress:not([value])::-webkit-progress-bar {\n",
       "        background: repeating-linear-gradient(45deg, #7e7e7e, #7e7e7e 10px, #5c5c5c 10px, #5c5c5c 20px);\n",
       "    }\n",
       "    .progress-bar-interrupted, .progress-bar-interrupted::-webkit-progress-bar {\n",
       "        background: #F44336;\n",
       "    }\n",
       "</style>\n"
      ],
      "text/plain": [
       "<IPython.core.display.HTML object>"
      ]
     },
     "metadata": {},
     "output_type": "display_data"
    },
    {
     "data": {
      "text/html": [],
      "text/plain": [
       "<IPython.core.display.HTML object>"
      ]
     },
     "metadata": {},
     "output_type": "display_data"
    },
    {
     "name": "stderr",
     "output_type": "stream",
     "text": [
      "Mean of empty slice\n"
     ]
    },
    {
     "name": "stdout",
     "output_type": "stream",
     "text": [
      "Input file: out/qsm/sub-z1384048_ses-20231108_acq-wipiswifl3dvibetrythisone_run-01_echo-01_part-phase_MEGRE_scaled_tgvqsmjl_twopass_average_ref.nii\n",
      "Marker Precision: 1.0\n",
      "Marker Recall: 1.0\n",
      "True markers: 3\n",
      "False positive markers: 0 (0 were known calcification)\n",
      "False negative markers: 0\n",
      "Loss: 0.3603056073188782\n",
      "Loading model: models/QSM-FMAP-20240404-144833-6-best.pth\n"
     ]
    },
    {
     "name": "stderr",
     "output_type": "stream",
     "text": [
      "Saved filed doesn't contain an optimizer state.\n"
     ]
    },
    {
     "name": "stdout",
     "output_type": "stream",
     "text": [
      "0/1; "
     ]
    },
    {
     "data": {
      "text/html": [
       "\n",
       "<style>\n",
       "    /* Turns off some styling */\n",
       "    progress {\n",
       "        /* gets rid of default border in Firefox and Opera. */\n",
       "        border: none;\n",
       "        /* Needs to be in here for Safari polyfill so background images work as expected. */\n",
       "        background-size: auto;\n",
       "    }\n",
       "    progress:not([value]), progress:not([value])::-webkit-progress-bar {\n",
       "        background: repeating-linear-gradient(45deg, #7e7e7e, #7e7e7e 10px, #5c5c5c 10px, #5c5c5c 20px);\n",
       "    }\n",
       "    .progress-bar-interrupted, .progress-bar-interrupted::-webkit-progress-bar {\n",
       "        background: #F44336;\n",
       "    }\n",
       "</style>\n"
      ],
      "text/plain": [
       "<IPython.core.display.HTML object>"
      ]
     },
     "metadata": {},
     "output_type": "display_data"
    },
    {
     "data": {
      "text/html": [],
      "text/plain": [
       "<IPython.core.display.HTML object>"
      ]
     },
     "metadata": {},
     "output_type": "display_data"
    },
    {
     "name": "stderr",
     "output_type": "stream",
     "text": [
      "Mean of empty slice\n"
     ]
    },
    {
     "name": "stdout",
     "output_type": "stream",
     "text": [
      "Input file: out/qsm/sub-z1635498_ses-20240305_acq-wipiswifl3dvibetrythisone_run-01_echo-01_part-phase_MEGRE_scaled_tgvqsmjl_twopass_average_ref.nii\n",
      "Marker Precision: 1.0\n",
      "Marker Recall: 1.0\n",
      "True markers: 3\n",
      "False positive markers: 0 (0 were known calcification)\n",
      "False negative markers: 0\n",
      "Loss: 0.3651813566684723\n",
      "Loading model: models/QSM-FMAP-20240404-145831-7-best.pth\n"
     ]
    },
    {
     "name": "stderr",
     "output_type": "stream",
     "text": [
      "Saved filed doesn't contain an optimizer state.\n"
     ]
    },
    {
     "name": "stdout",
     "output_type": "stream",
     "text": [
      "0/1; "
     ]
    },
    {
     "data": {
      "text/html": [
       "\n",
       "<style>\n",
       "    /* Turns off some styling */\n",
       "    progress {\n",
       "        /* gets rid of default border in Firefox and Opera. */\n",
       "        border: none;\n",
       "        /* Needs to be in here for Safari polyfill so background images work as expected. */\n",
       "        background-size: auto;\n",
       "    }\n",
       "    progress:not([value]), progress:not([value])::-webkit-progress-bar {\n",
       "        background: repeating-linear-gradient(45deg, #7e7e7e, #7e7e7e 10px, #5c5c5c 10px, #5c5c5c 20px);\n",
       "    }\n",
       "    .progress-bar-interrupted, .progress-bar-interrupted::-webkit-progress-bar {\n",
       "        background: #F44336;\n",
       "    }\n",
       "</style>\n"
      ],
      "text/plain": [
       "<IPython.core.display.HTML object>"
      ]
     },
     "metadata": {},
     "output_type": "display_data"
    },
    {
     "data": {
      "text/html": [],
      "text/plain": [
       "<IPython.core.display.HTML object>"
      ]
     },
     "metadata": {},
     "output_type": "display_data"
    },
    {
     "name": "stderr",
     "output_type": "stream",
     "text": [
      "Mean of empty slice\n"
     ]
    },
    {
     "name": "stdout",
     "output_type": "stream",
     "text": [
      "Input file: out/qsm/sub-z0163277_ses-20240123_acq-wipiswifl3dvibetrythisone_run-01_echo-01_part-phase_MEGRE_scaled_tgvqsmjl_twopass_average_ref.nii\n",
      "Marker Precision: 1.0\n",
      "Marker Recall: 1.0\n",
      "True markers: 3\n",
      "False positive markers: 0 (0 were known calcification)\n",
      "False negative markers: 0\n",
      "Loss: 0.3729521930217743\n",
      "Loading model: models/QSM-FMAP-20240404-150532-8-best.pth\n"
     ]
    },
    {
     "name": "stderr",
     "output_type": "stream",
     "text": [
      "Saved filed doesn't contain an optimizer state.\n"
     ]
    },
    {
     "name": "stdout",
     "output_type": "stream",
     "text": [
      "0/1; "
     ]
    },
    {
     "data": {
      "text/html": [
       "\n",
       "<style>\n",
       "    /* Turns off some styling */\n",
       "    progress {\n",
       "        /* gets rid of default border in Firefox and Opera. */\n",
       "        border: none;\n",
       "        /* Needs to be in here for Safari polyfill so background images work as expected. */\n",
       "        background-size: auto;\n",
       "    }\n",
       "    progress:not([value]), progress:not([value])::-webkit-progress-bar {\n",
       "        background: repeating-linear-gradient(45deg, #7e7e7e, #7e7e7e 10px, #5c5c5c 10px, #5c5c5c 20px);\n",
       "    }\n",
       "    .progress-bar-interrupted, .progress-bar-interrupted::-webkit-progress-bar {\n",
       "        background: #F44336;\n",
       "    }\n",
       "</style>\n"
      ],
      "text/plain": [
       "<IPython.core.display.HTML object>"
      ]
     },
     "metadata": {},
     "output_type": "display_data"
    },
    {
     "data": {
      "text/html": [],
      "text/plain": [
       "<IPython.core.display.HTML object>"
      ]
     },
     "metadata": {},
     "output_type": "display_data"
    },
    {
     "name": "stderr",
     "output_type": "stream",
     "text": [
      "Mean of empty slice\n"
     ]
    },
    {
     "name": "stdout",
     "output_type": "stream",
     "text": [
      "Input file: out/qsm/sub-z3220308_ses-20231009_acq-wipiswifl3dvibetrythisone_run-01_echo-01_part-phase_MEGRE_scaled_tgvqsmjl_twopass_average_ref.nii\n",
      "Marker Precision: 1.0\n",
      "Marker Recall: 1.0\n",
      "True markers: 3\n",
      "False positive markers: 0 (0 were known calcification)\n",
      "False negative markers: 0\n",
      "Loss: 0.4242486357688904\n",
      "Loading model: models/QSM-FMAP-20240404-152928-9-best.pth\n"
     ]
    },
    {
     "name": "stderr",
     "output_type": "stream",
     "text": [
      "Saved filed doesn't contain an optimizer state.\n"
     ]
    },
    {
     "name": "stdout",
     "output_type": "stream",
     "text": [
      "0/1; "
     ]
    },
    {
     "data": {
      "text/html": [
       "\n",
       "<style>\n",
       "    /* Turns off some styling */\n",
       "    progress {\n",
       "        /* gets rid of default border in Firefox and Opera. */\n",
       "        border: none;\n",
       "        /* Needs to be in here for Safari polyfill so background images work as expected. */\n",
       "        background-size: auto;\n",
       "    }\n",
       "    progress:not([value]), progress:not([value])::-webkit-progress-bar {\n",
       "        background: repeating-linear-gradient(45deg, #7e7e7e, #7e7e7e 10px, #5c5c5c 10px, #5c5c5c 20px);\n",
       "    }\n",
       "    .progress-bar-interrupted, .progress-bar-interrupted::-webkit-progress-bar {\n",
       "        background: #F44336;\n",
       "    }\n",
       "</style>\n"
      ],
      "text/plain": [
       "<IPython.core.display.HTML object>"
      ]
     },
     "metadata": {},
     "output_type": "display_data"
    },
    {
     "data": {
      "text/html": [],
      "text/plain": [
       "<IPython.core.display.HTML object>"
      ]
     },
     "metadata": {},
     "output_type": "display_data"
    },
    {
     "name": "stdout",
     "output_type": "stream",
     "text": [
      "Input file: out/qsm/sub-z0381949_ses-20231005_acq-wipiswifl3dvibetrythisone_run-01_echo-01_part-phase_MEGRE_scaled_tgvqsmjl_twopass_average_ref.nii\n",
      "Marker Precision: 0.6666666666666666\n",
      "Marker Recall: 0.6666666666666666\n",
      "True markers: 2\n",
      "False positive markers: 1 (1 were known calcification)\n",
      "False negative markers: 1\n",
      "Loss: 0.5759174227714539\n",
      "Loading model: models/QSM-FMAP-20240404-153739-10-best.pth\n"
     ]
    },
    {
     "name": "stderr",
     "output_type": "stream",
     "text": [
      "Saved filed doesn't contain an optimizer state.\n"
     ]
    },
    {
     "name": "stdout",
     "output_type": "stream",
     "text": [
      "0/1; "
     ]
    },
    {
     "data": {
      "text/html": [
       "\n",
       "<style>\n",
       "    /* Turns off some styling */\n",
       "    progress {\n",
       "        /* gets rid of default border in Firefox and Opera. */\n",
       "        border: none;\n",
       "        /* Needs to be in here for Safari polyfill so background images work as expected. */\n",
       "        background-size: auto;\n",
       "    }\n",
       "    progress:not([value]), progress:not([value])::-webkit-progress-bar {\n",
       "        background: repeating-linear-gradient(45deg, #7e7e7e, #7e7e7e 10px, #5c5c5c 10px, #5c5c5c 20px);\n",
       "    }\n",
       "    .progress-bar-interrupted, .progress-bar-interrupted::-webkit-progress-bar {\n",
       "        background: #F44336;\n",
       "    }\n",
       "</style>\n"
      ],
      "text/plain": [
       "<IPython.core.display.HTML object>"
      ]
     },
     "metadata": {},
     "output_type": "display_data"
    },
    {
     "data": {
      "text/html": [],
      "text/plain": [
       "<IPython.core.display.HTML object>"
      ]
     },
     "metadata": {},
     "output_type": "display_data"
    },
    {
     "name": "stderr",
     "output_type": "stream",
     "text": [
      "Mean of empty slice\n"
     ]
    },
    {
     "name": "stdout",
     "output_type": "stream",
     "text": [
      "Input file: out/qsm/sub-z0206923_ses-20231003_acq-wipiswifl3dvibetrythisone_run-01_echo-01_part-phase_MEGRE_scaled_tgvqsmjl_twopass_average_ref.nii\n",
      "Marker Precision: 1.0\n",
      "Marker Recall: 1.0\n",
      "True markers: 3\n",
      "False positive markers: 0 (0 were known calcification)\n",
      "False negative markers: 0\n",
      "Loss: 0.3653393089771271\n",
      "Loading model: models/QSM-FMAP-20240404-155322-11-best.pth\n"
     ]
    },
    {
     "name": "stderr",
     "output_type": "stream",
     "text": [
      "Saved filed doesn't contain an optimizer state.\n"
     ]
    },
    {
     "name": "stdout",
     "output_type": "stream",
     "text": [
      "0/1; "
     ]
    },
    {
     "data": {
      "text/html": [
       "\n",
       "<style>\n",
       "    /* Turns off some styling */\n",
       "    progress {\n",
       "        /* gets rid of default border in Firefox and Opera. */\n",
       "        border: none;\n",
       "        /* Needs to be in here for Safari polyfill so background images work as expected. */\n",
       "        background-size: auto;\n",
       "    }\n",
       "    progress:not([value]), progress:not([value])::-webkit-progress-bar {\n",
       "        background: repeating-linear-gradient(45deg, #7e7e7e, #7e7e7e 10px, #5c5c5c 10px, #5c5c5c 20px);\n",
       "    }\n",
       "    .progress-bar-interrupted, .progress-bar-interrupted::-webkit-progress-bar {\n",
       "        background: #F44336;\n",
       "    }\n",
       "</style>\n"
      ],
      "text/plain": [
       "<IPython.core.display.HTML object>"
      ]
     },
     "metadata": {},
     "output_type": "display_data"
    },
    {
     "data": {
      "text/html": [],
      "text/plain": [
       "<IPython.core.display.HTML object>"
      ]
     },
     "metadata": {},
     "output_type": "display_data"
    },
    {
     "name": "stdout",
     "output_type": "stream",
     "text": [
      "Input file: out/qsm/sub-z1484547_ses-20240102_acq-wipiswifl3dvibetrythisone_run-01_echo-01_part-phase_MEGRE_scaled_tgvqsmjl_twopass_average_ref.nii\n",
      "Marker Precision: 1.0\n",
      "Marker Recall: 1.0\n",
      "True markers: 3\n",
      "False positive markers: 0 (0 were known calcification)\n",
      "False negative markers: 0\n",
      "Loss: 0.41541895270347595\n",
      "Loading model: models/QSM-FMAP-20240404-160448-12-best.pth\n"
     ]
    },
    {
     "name": "stderr",
     "output_type": "stream",
     "text": [
      "Saved filed doesn't contain an optimizer state.\n"
     ]
    },
    {
     "name": "stdout",
     "output_type": "stream",
     "text": [
      "0/1; "
     ]
    },
    {
     "data": {
      "text/html": [
       "\n",
       "<style>\n",
       "    /* Turns off some styling */\n",
       "    progress {\n",
       "        /* gets rid of default border in Firefox and Opera. */\n",
       "        border: none;\n",
       "        /* Needs to be in here for Safari polyfill so background images work as expected. */\n",
       "        background-size: auto;\n",
       "    }\n",
       "    progress:not([value]), progress:not([value])::-webkit-progress-bar {\n",
       "        background: repeating-linear-gradient(45deg, #7e7e7e, #7e7e7e 10px, #5c5c5c 10px, #5c5c5c 20px);\n",
       "    }\n",
       "    .progress-bar-interrupted, .progress-bar-interrupted::-webkit-progress-bar {\n",
       "        background: #F44336;\n",
       "    }\n",
       "</style>\n"
      ],
      "text/plain": [
       "<IPython.core.display.HTML object>"
      ]
     },
     "metadata": {},
     "output_type": "display_data"
    },
    {
     "data": {
      "text/html": [],
      "text/plain": [
       "<IPython.core.display.HTML object>"
      ]
     },
     "metadata": {},
     "output_type": "display_data"
    },
    {
     "name": "stderr",
     "output_type": "stream",
     "text": [
      "Mean of empty slice\n"
     ]
    },
    {
     "name": "stdout",
     "output_type": "stream",
     "text": [
      "Input file: out/qsm/sub-z1645782_ses-20231010_acq-wipiswifl3dvibetrythisone_run-01_echo-01_part-phase_MEGRE_scaled_tgvqsmjl_twopass_average_ref.nii\n",
      "Marker Precision: 0.6666666666666666\n",
      "Marker Recall: 1.0\n",
      "True markers: 2\n",
      "False positive markers: 1 (0 were known calcification)\n",
      "False negative markers: 0\n",
      "Loss: 0.3583471179008484\n",
      "Loading model: models/QSM-FMAP-20240404-162708-13-best.pth\n"
     ]
    },
    {
     "name": "stderr",
     "output_type": "stream",
     "text": [
      "Saved filed doesn't contain an optimizer state.\n"
     ]
    },
    {
     "name": "stdout",
     "output_type": "stream",
     "text": [
      "0/1; "
     ]
    },
    {
     "data": {
      "text/html": [
       "\n",
       "<style>\n",
       "    /* Turns off some styling */\n",
       "    progress {\n",
       "        /* gets rid of default border in Firefox and Opera. */\n",
       "        border: none;\n",
       "        /* Needs to be in here for Safari polyfill so background images work as expected. */\n",
       "        background-size: auto;\n",
       "    }\n",
       "    progress:not([value]), progress:not([value])::-webkit-progress-bar {\n",
       "        background: repeating-linear-gradient(45deg, #7e7e7e, #7e7e7e 10px, #5c5c5c 10px, #5c5c5c 20px);\n",
       "    }\n",
       "    .progress-bar-interrupted, .progress-bar-interrupted::-webkit-progress-bar {\n",
       "        background: #F44336;\n",
       "    }\n",
       "</style>\n"
      ],
      "text/plain": [
       "<IPython.core.display.HTML object>"
      ]
     },
     "metadata": {},
     "output_type": "display_data"
    },
    {
     "data": {
      "text/html": [],
      "text/plain": [
       "<IPython.core.display.HTML object>"
      ]
     },
     "metadata": {},
     "output_type": "display_data"
    },
    {
     "name": "stdout",
     "output_type": "stream",
     "text": [
      "Input file: out/qsm/sub-z0232771_ses-20240228_acq-wipiswifl3dvibetrythisone_run-01_echo-01_part-phase_MEGRE_scaled_tgvqsmjl_twopass_average_ref.nii\n",
      "Marker Precision: 1.0\n",
      "Marker Recall: 1.0\n",
      "True markers: 3\n",
      "False positive markers: 0 (0 were known calcification)\n",
      "False negative markers: 0\n",
      "Loss: 0.3952687978744507\n",
      "Loading model: models/QSM-FMAP-20240404-163411-14-best.pth\n"
     ]
    },
    {
     "name": "stderr",
     "output_type": "stream",
     "text": [
      "Saved filed doesn't contain an optimizer state.\n"
     ]
    },
    {
     "name": "stdout",
     "output_type": "stream",
     "text": [
      "0/1; "
     ]
    },
    {
     "data": {
      "text/html": [
       "\n",
       "<style>\n",
       "    /* Turns off some styling */\n",
       "    progress {\n",
       "        /* gets rid of default border in Firefox and Opera. */\n",
       "        border: none;\n",
       "        /* Needs to be in here for Safari polyfill so background images work as expected. */\n",
       "        background-size: auto;\n",
       "    }\n",
       "    progress:not([value]), progress:not([value])::-webkit-progress-bar {\n",
       "        background: repeating-linear-gradient(45deg, #7e7e7e, #7e7e7e 10px, #5c5c5c 10px, #5c5c5c 20px);\n",
       "    }\n",
       "    .progress-bar-interrupted, .progress-bar-interrupted::-webkit-progress-bar {\n",
       "        background: #F44336;\n",
       "    }\n",
       "</style>\n"
      ],
      "text/plain": [
       "<IPython.core.display.HTML object>"
      ]
     },
     "metadata": {},
     "output_type": "display_data"
    },
    {
     "data": {
      "text/html": [],
      "text/plain": [
       "<IPython.core.display.HTML object>"
      ]
     },
     "metadata": {},
     "output_type": "display_data"
    },
    {
     "name": "stderr",
     "output_type": "stream",
     "text": [
      "Mean of empty slice\n"
     ]
    },
    {
     "name": "stdout",
     "output_type": "stream",
     "text": [
      "Input file: out/qsm/sub-z0347933_ses-20240129_acq-wipiswifl3dvibetrythisone_run-01_echo-01_part-phase_MEGRE_scaled_tgvqsmjl_twopass_average_ref.nii\n",
      "Marker Precision: 1.0\n",
      "Marker Recall: 1.0\n",
      "True markers: 3\n",
      "False positive markers: 0 (0 were known calcification)\n",
      "False negative markers: 0\n",
      "Loss: 0.3774184584617615\n",
      "Loading model: models/QSM-FMAP-20240404-164430-15-best.pth\n"
     ]
    },
    {
     "name": "stderr",
     "output_type": "stream",
     "text": [
      "Saved filed doesn't contain an optimizer state.\n"
     ]
    },
    {
     "name": "stdout",
     "output_type": "stream",
     "text": [
      "0/1; "
     ]
    },
    {
     "data": {
      "text/html": [
       "\n",
       "<style>\n",
       "    /* Turns off some styling */\n",
       "    progress {\n",
       "        /* gets rid of default border in Firefox and Opera. */\n",
       "        border: none;\n",
       "        /* Needs to be in here for Safari polyfill so background images work as expected. */\n",
       "        background-size: auto;\n",
       "    }\n",
       "    progress:not([value]), progress:not([value])::-webkit-progress-bar {\n",
       "        background: repeating-linear-gradient(45deg, #7e7e7e, #7e7e7e 10px, #5c5c5c 10px, #5c5c5c 20px);\n",
       "    }\n",
       "    .progress-bar-interrupted, .progress-bar-interrupted::-webkit-progress-bar {\n",
       "        background: #F44336;\n",
       "    }\n",
       "</style>\n"
      ],
      "text/plain": [
       "<IPython.core.display.HTML object>"
      ]
     },
     "metadata": {},
     "output_type": "display_data"
    },
    {
     "data": {
      "text/html": [],
      "text/plain": [
       "<IPython.core.display.HTML object>"
      ]
     },
     "metadata": {},
     "output_type": "display_data"
    },
    {
     "name": "stdout",
     "output_type": "stream",
     "text": [
      "Input file: out/qsm/sub-z3145629_ses-20231204_acq-wipiswifl3dvibetrythisone_run-01_echo-01_part-phase_MEGRE_scaled_tgvqsmjl_twopass_average_ref.nii\n",
      "Marker Precision: 1.0\n",
      "Marker Recall: 0.6666666666666666\n",
      "True markers: 2\n",
      "False positive markers: 0 (0 were known calcification)\n",
      "False negative markers: 1\n",
      "Loss: 0.41867122054100037\n",
      "Loading model: models/QSM-FMAP-20240404-171524-16-best.pth\n"
     ]
    },
    {
     "name": "stderr",
     "output_type": "stream",
     "text": [
      "Saved filed doesn't contain an optimizer state.\n"
     ]
    },
    {
     "name": "stdout",
     "output_type": "stream",
     "text": [
      "0/1; "
     ]
    },
    {
     "data": {
      "text/html": [
       "\n",
       "<style>\n",
       "    /* Turns off some styling */\n",
       "    progress {\n",
       "        /* gets rid of default border in Firefox and Opera. */\n",
       "        border: none;\n",
       "        /* Needs to be in here for Safari polyfill so background images work as expected. */\n",
       "        background-size: auto;\n",
       "    }\n",
       "    progress:not([value]), progress:not([value])::-webkit-progress-bar {\n",
       "        background: repeating-linear-gradient(45deg, #7e7e7e, #7e7e7e 10px, #5c5c5c 10px, #5c5c5c 20px);\n",
       "    }\n",
       "    .progress-bar-interrupted, .progress-bar-interrupted::-webkit-progress-bar {\n",
       "        background: #F44336;\n",
       "    }\n",
       "</style>\n"
      ],
      "text/plain": [
       "<IPython.core.display.HTML object>"
      ]
     },
     "metadata": {},
     "output_type": "display_data"
    },
    {
     "data": {
      "text/html": [],
      "text/plain": [
       "<IPython.core.display.HTML object>"
      ]
     },
     "metadata": {},
     "output_type": "display_data"
    },
    {
     "name": "stderr",
     "output_type": "stream",
     "text": [
      "Mean of empty slice\n"
     ]
    },
    {
     "name": "stdout",
     "output_type": "stream",
     "text": [
      "Input file: out/qsm/sub-z2105112_ses-20231220_acq-wipiswifl3dvibetrythisone_run-01_echo-01_part-phase_MEGRE_scaled_tgvqsmjl_twopass_average_ref.nii\n",
      "Marker Precision: 1.0\n",
      "Marker Recall: 1.0\n",
      "True markers: 3\n",
      "False positive markers: 0 (0 were known calcification)\n",
      "False negative markers: 0\n",
      "Loss: 0.373516708612442\n",
      "Loading model: models/QSM-FMAP-20240404-171720-17-best.pth\n"
     ]
    },
    {
     "name": "stderr",
     "output_type": "stream",
     "text": [
      "Saved filed doesn't contain an optimizer state.\n"
     ]
    },
    {
     "name": "stdout",
     "output_type": "stream",
     "text": [
      "0/1; "
     ]
    },
    {
     "data": {
      "text/html": [
       "\n",
       "<style>\n",
       "    /* Turns off some styling */\n",
       "    progress {\n",
       "        /* gets rid of default border in Firefox and Opera. */\n",
       "        border: none;\n",
       "        /* Needs to be in here for Safari polyfill so background images work as expected. */\n",
       "        background-size: auto;\n",
       "    }\n",
       "    progress:not([value]), progress:not([value])::-webkit-progress-bar {\n",
       "        background: repeating-linear-gradient(45deg, #7e7e7e, #7e7e7e 10px, #5c5c5c 10px, #5c5c5c 20px);\n",
       "    }\n",
       "    .progress-bar-interrupted, .progress-bar-interrupted::-webkit-progress-bar {\n",
       "        background: #F44336;\n",
       "    }\n",
       "</style>\n"
      ],
      "text/plain": [
       "<IPython.core.display.HTML object>"
      ]
     },
     "metadata": {},
     "output_type": "display_data"
    },
    {
     "data": {
      "text/html": [],
      "text/plain": [
       "<IPython.core.display.HTML object>"
      ]
     },
     "metadata": {},
     "output_type": "display_data"
    },
    {
     "name": "stdout",
     "output_type": "stream",
     "text": [
      "Input file: out/qsm/sub-z3212665_ses-20240305_acq-wipiswifl3dvibetrythisone_run-01_echo-01_part-phase_MEGRE_scaled_tgvqsmjl_twopass_average_ref.nii\n",
      "Marker Precision: 1.0\n",
      "Marker Recall: 1.0\n",
      "True markers: 3\n",
      "False positive markers: 0 (0 were known calcification)\n",
      "False negative markers: 0\n",
      "Loss: 0.16797329485416412\n",
      "Loading model: models/QSM-FMAP-20240404-172147-18-best.pth\n"
     ]
    },
    {
     "name": "stderr",
     "output_type": "stream",
     "text": [
      "Saved filed doesn't contain an optimizer state.\n"
     ]
    },
    {
     "name": "stdout",
     "output_type": "stream",
     "text": [
      "0/1; "
     ]
    },
    {
     "data": {
      "text/html": [
       "\n",
       "<style>\n",
       "    /* Turns off some styling */\n",
       "    progress {\n",
       "        /* gets rid of default border in Firefox and Opera. */\n",
       "        border: none;\n",
       "        /* Needs to be in here for Safari polyfill so background images work as expected. */\n",
       "        background-size: auto;\n",
       "    }\n",
       "    progress:not([value]), progress:not([value])::-webkit-progress-bar {\n",
       "        background: repeating-linear-gradient(45deg, #7e7e7e, #7e7e7e 10px, #5c5c5c 10px, #5c5c5c 20px);\n",
       "    }\n",
       "    .progress-bar-interrupted, .progress-bar-interrupted::-webkit-progress-bar {\n",
       "        background: #F44336;\n",
       "    }\n",
       "</style>\n"
      ],
      "text/plain": [
       "<IPython.core.display.HTML object>"
      ]
     },
     "metadata": {},
     "output_type": "display_data"
    },
    {
     "data": {
      "text/html": [],
      "text/plain": [
       "<IPython.core.display.HTML object>"
      ]
     },
     "metadata": {},
     "output_type": "display_data"
    },
    {
     "name": "stdout",
     "output_type": "stream",
     "text": [
      "Input file: out/qsm/sub-z2684925_ses-20240313_acq-wipiswifl3dvibetrythisone_run-01_echo-01_part-phase_MEGRE_scaled_tgvqsmjl_twopass_average_ref.nii\n",
      "Marker Precision: 1.0\n",
      "Marker Recall: 1.0\n",
      "True markers: 3\n",
      "False positive markers: 0 (0 were known calcification)\n",
      "False negative markers: 0\n",
      "Loss: 0.31129586696624756\n",
      "Loading model: models/QSM-FMAP-20240404-174804-19-best.pth\n"
     ]
    },
    {
     "name": "stderr",
     "output_type": "stream",
     "text": [
      "Saved filed doesn't contain an optimizer state.\n"
     ]
    },
    {
     "name": "stdout",
     "output_type": "stream",
     "text": [
      "0/1; "
     ]
    },
    {
     "data": {
      "text/html": [
       "\n",
       "<style>\n",
       "    /* Turns off some styling */\n",
       "    progress {\n",
       "        /* gets rid of default border in Firefox and Opera. */\n",
       "        border: none;\n",
       "        /* Needs to be in here for Safari polyfill so background images work as expected. */\n",
       "        background-size: auto;\n",
       "    }\n",
       "    progress:not([value]), progress:not([value])::-webkit-progress-bar {\n",
       "        background: repeating-linear-gradient(45deg, #7e7e7e, #7e7e7e 10px, #5c5c5c 10px, #5c5c5c 20px);\n",
       "    }\n",
       "    .progress-bar-interrupted, .progress-bar-interrupted::-webkit-progress-bar {\n",
       "        background: #F44336;\n",
       "    }\n",
       "</style>\n"
      ],
      "text/plain": [
       "<IPython.core.display.HTML object>"
      ]
     },
     "metadata": {},
     "output_type": "display_data"
    },
    {
     "data": {
      "text/html": [],
      "text/plain": [
       "<IPython.core.display.HTML object>"
      ]
     },
     "metadata": {},
     "output_type": "display_data"
    },
    {
     "name": "stdout",
     "output_type": "stream",
     "text": [
      "Input file: out/qsm/sub-z4043512_ses-20240112_acq-wipiswifl3dvibetrythisone_run-01_echo-01_part-phase_MEGRE_scaled_tgvqsmjl_twopass_average_ref.nii\n",
      "Marker Precision: 1.0\n",
      "Marker Recall: 1.0\n",
      "True markers: 3\n",
      "False positive markers: 0 (0 were known calcification)\n",
      "False negative markers: 0\n",
      "Loss: 0.26431286334991455\n",
      "Loading model: models/QSM-FMAP-20240404-181624-20-best.pth\n"
     ]
    },
    {
     "name": "stderr",
     "output_type": "stream",
     "text": [
      "Saved filed doesn't contain an optimizer state.\n"
     ]
    },
    {
     "name": "stdout",
     "output_type": "stream",
     "text": [
      "0/1; "
     ]
    },
    {
     "data": {
      "text/html": [
       "\n",
       "<style>\n",
       "    /* Turns off some styling */\n",
       "    progress {\n",
       "        /* gets rid of default border in Firefox and Opera. */\n",
       "        border: none;\n",
       "        /* Needs to be in here for Safari polyfill so background images work as expected. */\n",
       "        background-size: auto;\n",
       "    }\n",
       "    progress:not([value]), progress:not([value])::-webkit-progress-bar {\n",
       "        background: repeating-linear-gradient(45deg, #7e7e7e, #7e7e7e 10px, #5c5c5c 10px, #5c5c5c 20px);\n",
       "    }\n",
       "    .progress-bar-interrupted, .progress-bar-interrupted::-webkit-progress-bar {\n",
       "        background: #F44336;\n",
       "    }\n",
       "</style>\n"
      ],
      "text/plain": [
       "<IPython.core.display.HTML object>"
      ]
     },
     "metadata": {},
     "output_type": "display_data"
    },
    {
     "data": {
      "text/html": [],
      "text/plain": [
       "<IPython.core.display.HTML object>"
      ]
     },
     "metadata": {},
     "output_type": "display_data"
    },
    {
     "name": "stderr",
     "output_type": "stream",
     "text": [
      "Mean of empty slice\n"
     ]
    },
    {
     "name": "stdout",
     "output_type": "stream",
     "text": [
      "Input file: out/qsm/sub-z0747844_ses-20240304_acq-wipiswifl3dvibetrythisone_run-01_echo-01_part-phase_MEGRE_scaled_tgvqsmjl_twopass_average_ref.nii\n",
      "Marker Precision: 1.0\n",
      "Marker Recall: 1.0\n",
      "True markers: 3\n",
      "False positive markers: 0 (0 were known calcification)\n",
      "False negative markers: 0\n",
      "Loss: 0.42608916759490967\n",
      "Loading model: models/QSM-FMAP-20240404-182941-21-best.pth\n"
     ]
    },
    {
     "name": "stderr",
     "output_type": "stream",
     "text": [
      "Saved filed doesn't contain an optimizer state.\n"
     ]
    },
    {
     "name": "stdout",
     "output_type": "stream",
     "text": [
      "0/1; "
     ]
    },
    {
     "data": {
      "text/html": [
       "\n",
       "<style>\n",
       "    /* Turns off some styling */\n",
       "    progress {\n",
       "        /* gets rid of default border in Firefox and Opera. */\n",
       "        border: none;\n",
       "        /* Needs to be in here for Safari polyfill so background images work as expected. */\n",
       "        background-size: auto;\n",
       "    }\n",
       "    progress:not([value]), progress:not([value])::-webkit-progress-bar {\n",
       "        background: repeating-linear-gradient(45deg, #7e7e7e, #7e7e7e 10px, #5c5c5c 10px, #5c5c5c 20px);\n",
       "    }\n",
       "    .progress-bar-interrupted, .progress-bar-interrupted::-webkit-progress-bar {\n",
       "        background: #F44336;\n",
       "    }\n",
       "</style>\n"
      ],
      "text/plain": [
       "<IPython.core.display.HTML object>"
      ]
     },
     "metadata": {},
     "output_type": "display_data"
    },
    {
     "data": {
      "text/html": [],
      "text/plain": [
       "<IPython.core.display.HTML object>"
      ]
     },
     "metadata": {},
     "output_type": "display_data"
    },
    {
     "name": "stderr",
     "output_type": "stream",
     "text": [
      "Mean of empty slice\n"
     ]
    },
    {
     "name": "stdout",
     "output_type": "stream",
     "text": [
      "Input file: out/qsm/sub-z1421134_ses-20231205_acq-wipiswifl3dvibetrythisone_run-01_echo-01_part-phase_MEGRE_scaled_tgvqsmjl_twopass_average_ref.nii\n",
      "Marker Precision: 1.0\n",
      "Marker Recall: 1.0\n",
      "True markers: 3\n",
      "False positive markers: 0 (0 were known calcification)\n",
      "False negative markers: 0\n",
      "Loss: 0.42209747433662415\n",
      "Loading model: models/QSM-FMAP-20240404-183736-22-best.pth\n"
     ]
    },
    {
     "name": "stderr",
     "output_type": "stream",
     "text": [
      "Saved filed doesn't contain an optimizer state.\n"
     ]
    },
    {
     "name": "stdout",
     "output_type": "stream",
     "text": [
      "0/1; "
     ]
    },
    {
     "data": {
      "text/html": [
       "\n",
       "<style>\n",
       "    /* Turns off some styling */\n",
       "    progress {\n",
       "        /* gets rid of default border in Firefox and Opera. */\n",
       "        border: none;\n",
       "        /* Needs to be in here for Safari polyfill so background images work as expected. */\n",
       "        background-size: auto;\n",
       "    }\n",
       "    progress:not([value]), progress:not([value])::-webkit-progress-bar {\n",
       "        background: repeating-linear-gradient(45deg, #7e7e7e, #7e7e7e 10px, #5c5c5c 10px, #5c5c5c 20px);\n",
       "    }\n",
       "    .progress-bar-interrupted, .progress-bar-interrupted::-webkit-progress-bar {\n",
       "        background: #F44336;\n",
       "    }\n",
       "</style>\n"
      ],
      "text/plain": [
       "<IPython.core.display.HTML object>"
      ]
     },
     "metadata": {},
     "output_type": "display_data"
    },
    {
     "data": {
      "text/html": [],
      "text/plain": [
       "<IPython.core.display.HTML object>"
      ]
     },
     "metadata": {},
     "output_type": "display_data"
    },
    {
     "name": "stderr",
     "output_type": "stream",
     "text": [
      "Mean of empty slice\n"
     ]
    },
    {
     "name": "stdout",
     "output_type": "stream",
     "text": [
      "Input file: out/qsm/sub-z1638396_ses-20240311_acq-wipiswifl3dvibetrythisone_run-01_echo-01_part-phase_MEGRE_scaled_tgvqsmjl_twopass_average_ref.nii\n",
      "Marker Precision: 1.0\n",
      "Marker Recall: 1.0\n",
      "True markers: 3\n",
      "False positive markers: 0 (0 were known calcification)\n",
      "False negative markers: 0\n",
      "Loss: 0.3714548945426941\n",
      "Loading model: models/QSM-FMAP-20240404-190924-23-best.pth\n"
     ]
    },
    {
     "name": "stderr",
     "output_type": "stream",
     "text": [
      "Saved filed doesn't contain an optimizer state.\n"
     ]
    },
    {
     "name": "stdout",
     "output_type": "stream",
     "text": [
      "0/1; "
     ]
    },
    {
     "data": {
      "text/html": [
       "\n",
       "<style>\n",
       "    /* Turns off some styling */\n",
       "    progress {\n",
       "        /* gets rid of default border in Firefox and Opera. */\n",
       "        border: none;\n",
       "        /* Needs to be in here for Safari polyfill so background images work as expected. */\n",
       "        background-size: auto;\n",
       "    }\n",
       "    progress:not([value]), progress:not([value])::-webkit-progress-bar {\n",
       "        background: repeating-linear-gradient(45deg, #7e7e7e, #7e7e7e 10px, #5c5c5c 10px, #5c5c5c 20px);\n",
       "    }\n",
       "    .progress-bar-interrupted, .progress-bar-interrupted::-webkit-progress-bar {\n",
       "        background: #F44336;\n",
       "    }\n",
       "</style>\n"
      ],
      "text/plain": [
       "<IPython.core.display.HTML object>"
      ]
     },
     "metadata": {},
     "output_type": "display_data"
    },
    {
     "data": {
      "text/html": [],
      "text/plain": [
       "<IPython.core.display.HTML object>"
      ]
     },
     "metadata": {},
     "output_type": "display_data"
    },
    {
     "name": "stderr",
     "output_type": "stream",
     "text": [
      "Mean of empty slice\n"
     ]
    },
    {
     "name": "stdout",
     "output_type": "stream",
     "text": [
      "Input file: out/qsm/sub-z2996397_ses-20231201_acq-wipiswifl3dvibetrythisone_run-01_echo-01_part-phase_MEGRE_scaled_tgvqsmjl_twopass_average_ref.nii\n",
      "Marker Precision: 1.0\n",
      "Marker Recall: 1.0\n",
      "True markers: 3\n",
      "False positive markers: 0 (0 were known calcification)\n",
      "False negative markers: 0\n",
      "Loss: 0.3573201596736908\n",
      "Loading model: models/QSM-FMAP-20240404-191023-24-best.pth\n"
     ]
    },
    {
     "name": "stderr",
     "output_type": "stream",
     "text": [
      "Saved filed doesn't contain an optimizer state.\n"
     ]
    },
    {
     "name": "stdout",
     "output_type": "stream",
     "text": [
      "0/1; "
     ]
    },
    {
     "data": {
      "text/html": [
       "\n",
       "<style>\n",
       "    /* Turns off some styling */\n",
       "    progress {\n",
       "        /* gets rid of default border in Firefox and Opera. */\n",
       "        border: none;\n",
       "        /* Needs to be in here for Safari polyfill so background images work as expected. */\n",
       "        background-size: auto;\n",
       "    }\n",
       "    progress:not([value]), progress:not([value])::-webkit-progress-bar {\n",
       "        background: repeating-linear-gradient(45deg, #7e7e7e, #7e7e7e 10px, #5c5c5c 10px, #5c5c5c 20px);\n",
       "    }\n",
       "    .progress-bar-interrupted, .progress-bar-interrupted::-webkit-progress-bar {\n",
       "        background: #F44336;\n",
       "    }\n",
       "</style>\n"
      ],
      "text/plain": [
       "<IPython.core.display.HTML object>"
      ]
     },
     "metadata": {},
     "output_type": "display_data"
    },
    {
     "data": {
      "text/html": [],
      "text/plain": [
       "<IPython.core.display.HTML object>"
      ]
     },
     "metadata": {},
     "output_type": "display_data"
    },
    {
     "name": "stdout",
     "output_type": "stream",
     "text": [
      "Input file: out/qsm/sub-z0742379_ses-20240124_acq-wipiswifl3dvibetrythisone_run-01_echo-01_part-phase_MEGRE_scaled_tgvqsmjl_twopass_average_ref.nii\n",
      "Marker Precision: 0.6666666666666666\n",
      "Marker Recall: 0.6666666666666666\n",
      "True markers: 2\n",
      "False positive markers: 1 (0 were known calcification)\n",
      "False negative markers: 1\n",
      "Loss: 0.46423643827438354\n",
      "=== FMAP ===\n",
      "infile_cols: ['fmap_files']; n_input_channels: 1\n",
      "Loading model: models/FMAP-20240408-094032-0-best.pth\n"
     ]
    },
    {
     "name": "stderr",
     "output_type": "stream",
     "text": [
      "Saved filed doesn't contain an optimizer state.\n"
     ]
    },
    {
     "name": "stdout",
     "output_type": "stream",
     "text": [
      "0/1; "
     ]
    },
    {
     "data": {
      "text/html": [
       "\n",
       "<style>\n",
       "    /* Turns off some styling */\n",
       "    progress {\n",
       "        /* gets rid of default border in Firefox and Opera. */\n",
       "        border: none;\n",
       "        /* Needs to be in here for Safari polyfill so background images work as expected. */\n",
       "        background-size: auto;\n",
       "    }\n",
       "    progress:not([value]), progress:not([value])::-webkit-progress-bar {\n",
       "        background: repeating-linear-gradient(45deg, #7e7e7e, #7e7e7e 10px, #5c5c5c 10px, #5c5c5c 20px);\n",
       "    }\n",
       "    .progress-bar-interrupted, .progress-bar-interrupted::-webkit-progress-bar {\n",
       "        background: #F44336;\n",
       "    }\n",
       "</style>\n"
      ],
      "text/plain": [
       "<IPython.core.display.HTML object>"
      ]
     },
     "metadata": {},
     "output_type": "display_data"
    },
    {
     "data": {
      "text/html": [],
      "text/plain": [
       "<IPython.core.display.HTML object>"
      ]
     },
     "metadata": {},
     "output_type": "display_data"
    },
    {
     "name": "stdout",
     "output_type": "stream",
     "text": [
      "Input file: bids/sub-z1318033/ses-20230825/extra_data/B0.nii\n",
      "Marker Precision: 0.0\n",
      "Marker Recall: 0.0\n",
      "True markers: 0\n",
      "False positive markers: 1 (0 were known calcification)\n",
      "False negative markers: 3\n",
      "Loss: 0.6712831854820251\n",
      "Loading model: models/FMAP-20240408-094032-1-best.pth\n"
     ]
    },
    {
     "name": "stderr",
     "output_type": "stream",
     "text": [
      "Saved filed doesn't contain an optimizer state.\n"
     ]
    },
    {
     "name": "stdout",
     "output_type": "stream",
     "text": [
      "0/1; "
     ]
    },
    {
     "data": {
      "text/html": [
       "\n",
       "<style>\n",
       "    /* Turns off some styling */\n",
       "    progress {\n",
       "        /* gets rid of default border in Firefox and Opera. */\n",
       "        border: none;\n",
       "        /* Needs to be in here for Safari polyfill so background images work as expected. */\n",
       "        background-size: auto;\n",
       "    }\n",
       "    progress:not([value]), progress:not([value])::-webkit-progress-bar {\n",
       "        background: repeating-linear-gradient(45deg, #7e7e7e, #7e7e7e 10px, #5c5c5c 10px, #5c5c5c 20px);\n",
       "    }\n",
       "    .progress-bar-interrupted, .progress-bar-interrupted::-webkit-progress-bar {\n",
       "        background: #F44336;\n",
       "    }\n",
       "</style>\n"
      ],
      "text/plain": [
       "<IPython.core.display.HTML object>"
      ]
     },
     "metadata": {},
     "output_type": "display_data"
    },
    {
     "data": {
      "text/html": [],
      "text/plain": [
       "<IPython.core.display.HTML object>"
      ]
     },
     "metadata": {},
     "output_type": "display_data"
    },
    {
     "name": "stderr",
     "output_type": "stream",
     "text": [
      "Mean of empty slice\n"
     ]
    },
    {
     "name": "stdout",
     "output_type": "stream",
     "text": [
      "Input file: bids/sub-z1691325/ses-20240227/extra_data/B0.nii\n",
      "Marker Precision: 1.0\n",
      "Marker Recall: 1.0\n",
      "True markers: 3\n",
      "False positive markers: 0 (0 were known calcification)\n",
      "False negative markers: 0\n",
      "Loss: 0.3788819909095764\n",
      "Loading model: models/FMAP-20240408-094032-2-best.pth\n"
     ]
    },
    {
     "name": "stderr",
     "output_type": "stream",
     "text": [
      "Saved filed doesn't contain an optimizer state.\n"
     ]
    },
    {
     "name": "stdout",
     "output_type": "stream",
     "text": [
      "0/1; "
     ]
    },
    {
     "data": {
      "text/html": [
       "\n",
       "<style>\n",
       "    /* Turns off some styling */\n",
       "    progress {\n",
       "        /* gets rid of default border in Firefox and Opera. */\n",
       "        border: none;\n",
       "        /* Needs to be in here for Safari polyfill so background images work as expected. */\n",
       "        background-size: auto;\n",
       "    }\n",
       "    progress:not([value]), progress:not([value])::-webkit-progress-bar {\n",
       "        background: repeating-linear-gradient(45deg, #7e7e7e, #7e7e7e 10px, #5c5c5c 10px, #5c5c5c 20px);\n",
       "    }\n",
       "    .progress-bar-interrupted, .progress-bar-interrupted::-webkit-progress-bar {\n",
       "        background: #F44336;\n",
       "    }\n",
       "</style>\n"
      ],
      "text/plain": [
       "<IPython.core.display.HTML object>"
      ]
     },
     "metadata": {},
     "output_type": "display_data"
    },
    {
     "data": {
      "text/html": [],
      "text/plain": [
       "<IPython.core.display.HTML object>"
      ]
     },
     "metadata": {},
     "output_type": "display_data"
    },
    {
     "name": "stdout",
     "output_type": "stream",
     "text": [
      "Input file: bids/sub-z0002292/ses-20240318/extra_data/B0.nii\n",
      "Marker Precision: 1.0\n",
      "Marker Recall: 1.0\n",
      "True markers: 3\n",
      "False positive markers: 0 (0 were known calcification)\n",
      "False negative markers: 0\n",
      "Loss: 0.3702618181705475\n",
      "Loading model: models/FMAP-20240408-095850-3-best.pth\n"
     ]
    },
    {
     "name": "stderr",
     "output_type": "stream",
     "text": [
      "Saved filed doesn't contain an optimizer state.\n"
     ]
    },
    {
     "name": "stdout",
     "output_type": "stream",
     "text": [
      "0/1; "
     ]
    },
    {
     "data": {
      "text/html": [
       "\n",
       "<style>\n",
       "    /* Turns off some styling */\n",
       "    progress {\n",
       "        /* gets rid of default border in Firefox and Opera. */\n",
       "        border: none;\n",
       "        /* Needs to be in here for Safari polyfill so background images work as expected. */\n",
       "        background-size: auto;\n",
       "    }\n",
       "    progress:not([value]), progress:not([value])::-webkit-progress-bar {\n",
       "        background: repeating-linear-gradient(45deg, #7e7e7e, #7e7e7e 10px, #5c5c5c 10px, #5c5c5c 20px);\n",
       "    }\n",
       "    .progress-bar-interrupted, .progress-bar-interrupted::-webkit-progress-bar {\n",
       "        background: #F44336;\n",
       "    }\n",
       "</style>\n"
      ],
      "text/plain": [
       "<IPython.core.display.HTML object>"
      ]
     },
     "metadata": {},
     "output_type": "display_data"
    },
    {
     "data": {
      "text/html": [],
      "text/plain": [
       "<IPython.core.display.HTML object>"
      ]
     },
     "metadata": {},
     "output_type": "display_data"
    },
    {
     "name": "stdout",
     "output_type": "stream",
     "text": [
      "Input file: bids/sub-z3268423/ses-20240109/extra_data/B0.nii\n",
      "Marker Precision: 1.0\n",
      "Marker Recall: 1.0\n",
      "True markers: 3\n",
      "False positive markers: 0 (0 were known calcification)\n",
      "False negative markers: 0\n",
      "Loss: 0.35896527767181396\n",
      "Loading model: models/FMAP-20240408-101622-4-best.pth\n"
     ]
    },
    {
     "name": "stderr",
     "output_type": "stream",
     "text": [
      "Saved filed doesn't contain an optimizer state.\n"
     ]
    },
    {
     "name": "stdout",
     "output_type": "stream",
     "text": [
      "0/1; "
     ]
    },
    {
     "data": {
      "text/html": [
       "\n",
       "<style>\n",
       "    /* Turns off some styling */\n",
       "    progress {\n",
       "        /* gets rid of default border in Firefox and Opera. */\n",
       "        border: none;\n",
       "        /* Needs to be in here for Safari polyfill so background images work as expected. */\n",
       "        background-size: auto;\n",
       "    }\n",
       "    progress:not([value]), progress:not([value])::-webkit-progress-bar {\n",
       "        background: repeating-linear-gradient(45deg, #7e7e7e, #7e7e7e 10px, #5c5c5c 10px, #5c5c5c 20px);\n",
       "    }\n",
       "    .progress-bar-interrupted, .progress-bar-interrupted::-webkit-progress-bar {\n",
       "        background: #F44336;\n",
       "    }\n",
       "</style>\n"
      ],
      "text/plain": [
       "<IPython.core.display.HTML object>"
      ]
     },
     "metadata": {},
     "output_type": "display_data"
    },
    {
     "data": {
      "text/html": [],
      "text/plain": [
       "<IPython.core.display.HTML object>"
      ]
     },
     "metadata": {},
     "output_type": "display_data"
    },
    {
     "name": "stdout",
     "output_type": "stream",
     "text": [
      "Input file: bids/sub-z1448271/ses-20231110/extra_data/B0.nii\n",
      "Marker Precision: 1.0\n",
      "Marker Recall: 0.6666666666666666\n",
      "True markers: 2\n",
      "False positive markers: 0 (0 were known calcification)\n",
      "False negative markers: 1\n",
      "Loss: 0.46587052941322327\n",
      "Loading model: models/FMAP-20240408-101923-5-best.pth\n"
     ]
    },
    {
     "name": "stderr",
     "output_type": "stream",
     "text": [
      "Saved filed doesn't contain an optimizer state.\n"
     ]
    },
    {
     "name": "stdout",
     "output_type": "stream",
     "text": [
      "0/1; "
     ]
    },
    {
     "data": {
      "text/html": [
       "\n",
       "<style>\n",
       "    /* Turns off some styling */\n",
       "    progress {\n",
       "        /* gets rid of default border in Firefox and Opera. */\n",
       "        border: none;\n",
       "        /* Needs to be in here for Safari polyfill so background images work as expected. */\n",
       "        background-size: auto;\n",
       "    }\n",
       "    progress:not([value]), progress:not([value])::-webkit-progress-bar {\n",
       "        background: repeating-linear-gradient(45deg, #7e7e7e, #7e7e7e 10px, #5c5c5c 10px, #5c5c5c 20px);\n",
       "    }\n",
       "    .progress-bar-interrupted, .progress-bar-interrupted::-webkit-progress-bar {\n",
       "        background: #F44336;\n",
       "    }\n",
       "</style>\n"
      ],
      "text/plain": [
       "<IPython.core.display.HTML object>"
      ]
     },
     "metadata": {},
     "output_type": "display_data"
    },
    {
     "data": {
      "text/html": [],
      "text/plain": [
       "<IPython.core.display.HTML object>"
      ]
     },
     "metadata": {},
     "output_type": "display_data"
    },
    {
     "name": "stderr",
     "output_type": "stream",
     "text": [
      "Mean of empty slice\n"
     ]
    },
    {
     "name": "stdout",
     "output_type": "stream",
     "text": [
      "Input file: bids/sub-z1384048/ses-20231108/extra_data/B0.nii\n",
      "Marker Precision: 1.0\n",
      "Marker Recall: 1.0\n",
      "True markers: 3\n",
      "False positive markers: 0 (0 were known calcification)\n",
      "False negative markers: 0\n",
      "Loss: 0.3798777163028717\n",
      "Loading model: models/FMAP-20240408-102523-6-best.pth\n"
     ]
    },
    {
     "name": "stderr",
     "output_type": "stream",
     "text": [
      "Saved filed doesn't contain an optimizer state.\n"
     ]
    },
    {
     "name": "stdout",
     "output_type": "stream",
     "text": [
      "0/1; "
     ]
    },
    {
     "data": {
      "text/html": [
       "\n",
       "<style>\n",
       "    /* Turns off some styling */\n",
       "    progress {\n",
       "        /* gets rid of default border in Firefox and Opera. */\n",
       "        border: none;\n",
       "        /* Needs to be in here for Safari polyfill so background images work as expected. */\n",
       "        background-size: auto;\n",
       "    }\n",
       "    progress:not([value]), progress:not([value])::-webkit-progress-bar {\n",
       "        background: repeating-linear-gradient(45deg, #7e7e7e, #7e7e7e 10px, #5c5c5c 10px, #5c5c5c 20px);\n",
       "    }\n",
       "    .progress-bar-interrupted, .progress-bar-interrupted::-webkit-progress-bar {\n",
       "        background: #F44336;\n",
       "    }\n",
       "</style>\n"
      ],
      "text/plain": [
       "<IPython.core.display.HTML object>"
      ]
     },
     "metadata": {},
     "output_type": "display_data"
    },
    {
     "data": {
      "text/html": [],
      "text/plain": [
       "<IPython.core.display.HTML object>"
      ]
     },
     "metadata": {},
     "output_type": "display_data"
    },
    {
     "name": "stderr",
     "output_type": "stream",
     "text": [
      "Mean of empty slice\n"
     ]
    },
    {
     "name": "stdout",
     "output_type": "stream",
     "text": [
      "Input file: bids/sub-z1635498/ses-20240305/extra_data/B0.nii\n",
      "Marker Precision: 1.0\n",
      "Marker Recall: 1.0\n",
      "True markers: 3\n",
      "False positive markers: 0 (0 were known calcification)\n",
      "False negative markers: 0\n",
      "Loss: 0.3707045018672943\n",
      "Loading model: models/FMAP-20240408-105052-7-best.pth\n"
     ]
    },
    {
     "name": "stderr",
     "output_type": "stream",
     "text": [
      "Saved filed doesn't contain an optimizer state.\n"
     ]
    },
    {
     "name": "stdout",
     "output_type": "stream",
     "text": [
      "0/1; "
     ]
    },
    {
     "data": {
      "text/html": [
       "\n",
       "<style>\n",
       "    /* Turns off some styling */\n",
       "    progress {\n",
       "        /* gets rid of default border in Firefox and Opera. */\n",
       "        border: none;\n",
       "        /* Needs to be in here for Safari polyfill so background images work as expected. */\n",
       "        background-size: auto;\n",
       "    }\n",
       "    progress:not([value]), progress:not([value])::-webkit-progress-bar {\n",
       "        background: repeating-linear-gradient(45deg, #7e7e7e, #7e7e7e 10px, #5c5c5c 10px, #5c5c5c 20px);\n",
       "    }\n",
       "    .progress-bar-interrupted, .progress-bar-interrupted::-webkit-progress-bar {\n",
       "        background: #F44336;\n",
       "    }\n",
       "</style>\n"
      ],
      "text/plain": [
       "<IPython.core.display.HTML object>"
      ]
     },
     "metadata": {},
     "output_type": "display_data"
    },
    {
     "data": {
      "text/html": [],
      "text/plain": [
       "<IPython.core.display.HTML object>"
      ]
     },
     "metadata": {},
     "output_type": "display_data"
    },
    {
     "name": "stderr",
     "output_type": "stream",
     "text": [
      "Mean of empty slice\n"
     ]
    },
    {
     "name": "stdout",
     "output_type": "stream",
     "text": [
      "Input file: bids/sub-z0163277/ses-20240123/extra_data/B0.nii\n",
      "Marker Precision: 1.0\n",
      "Marker Recall: 1.0\n",
      "True markers: 3\n",
      "False positive markers: 0 (0 were known calcification)\n",
      "False negative markers: 0\n",
      "Loss: 0.362581342458725\n",
      "Loading model: models/FMAP-20240408-105147-8-best.pth\n"
     ]
    },
    {
     "name": "stderr",
     "output_type": "stream",
     "text": [
      "Saved filed doesn't contain an optimizer state.\n"
     ]
    },
    {
     "name": "stdout",
     "output_type": "stream",
     "text": [
      "0/1; "
     ]
    },
    {
     "data": {
      "text/html": [
       "\n",
       "<style>\n",
       "    /* Turns off some styling */\n",
       "    progress {\n",
       "        /* gets rid of default border in Firefox and Opera. */\n",
       "        border: none;\n",
       "        /* Needs to be in here for Safari polyfill so background images work as expected. */\n",
       "        background-size: auto;\n",
       "    }\n",
       "    progress:not([value]), progress:not([value])::-webkit-progress-bar {\n",
       "        background: repeating-linear-gradient(45deg, #7e7e7e, #7e7e7e 10px, #5c5c5c 10px, #5c5c5c 20px);\n",
       "    }\n",
       "    .progress-bar-interrupted, .progress-bar-interrupted::-webkit-progress-bar {\n",
       "        background: #F44336;\n",
       "    }\n",
       "</style>\n"
      ],
      "text/plain": [
       "<IPython.core.display.HTML object>"
      ]
     },
     "metadata": {},
     "output_type": "display_data"
    },
    {
     "data": {
      "text/html": [],
      "text/plain": [
       "<IPython.core.display.HTML object>"
      ]
     },
     "metadata": {},
     "output_type": "display_data"
    },
    {
     "name": "stderr",
     "output_type": "stream",
     "text": [
      "Mean of empty slice\n"
     ]
    },
    {
     "name": "stdout",
     "output_type": "stream",
     "text": [
      "Input file: bids/sub-z3220308/ses-20231009/extra_data/B0.nii\n",
      "Marker Precision: 1.0\n",
      "Marker Recall: 1.0\n",
      "True markers: 3\n",
      "False positive markers: 0 (0 were known calcification)\n",
      "False negative markers: 0\n",
      "Loss: 0.41714638471603394\n",
      "Loading model: models/FMAP-20240408-105544-9-best.pth\n"
     ]
    },
    {
     "name": "stderr",
     "output_type": "stream",
     "text": [
      "Saved filed doesn't contain an optimizer state.\n"
     ]
    },
    {
     "name": "stdout",
     "output_type": "stream",
     "text": [
      "0/1; "
     ]
    },
    {
     "data": {
      "text/html": [
       "\n",
       "<style>\n",
       "    /* Turns off some styling */\n",
       "    progress {\n",
       "        /* gets rid of default border in Firefox and Opera. */\n",
       "        border: none;\n",
       "        /* Needs to be in here for Safari polyfill so background images work as expected. */\n",
       "        background-size: auto;\n",
       "    }\n",
       "    progress:not([value]), progress:not([value])::-webkit-progress-bar {\n",
       "        background: repeating-linear-gradient(45deg, #7e7e7e, #7e7e7e 10px, #5c5c5c 10px, #5c5c5c 20px);\n",
       "    }\n",
       "    .progress-bar-interrupted, .progress-bar-interrupted::-webkit-progress-bar {\n",
       "        background: #F44336;\n",
       "    }\n",
       "</style>\n"
      ],
      "text/plain": [
       "<IPython.core.display.HTML object>"
      ]
     },
     "metadata": {},
     "output_type": "display_data"
    },
    {
     "data": {
      "text/html": [],
      "text/plain": [
       "<IPython.core.display.HTML object>"
      ]
     },
     "metadata": {},
     "output_type": "display_data"
    },
    {
     "name": "stdout",
     "output_type": "stream",
     "text": [
      "Input file: bids/sub-z0381949/ses-20231005/extra_data/B0.nii\n",
      "Marker Precision: 0.0\n",
      "Marker Recall: 0.0\n",
      "True markers: 0\n",
      "False positive markers: 1 (0 were known calcification)\n",
      "False negative markers: 3\n",
      "Loss: 0.6688713431358337\n",
      "Loading model: models/FMAP-20240408-111631-10-best.pth\n"
     ]
    },
    {
     "name": "stderr",
     "output_type": "stream",
     "text": [
      "Saved filed doesn't contain an optimizer state.\n"
     ]
    },
    {
     "name": "stdout",
     "output_type": "stream",
     "text": [
      "0/1; "
     ]
    },
    {
     "data": {
      "text/html": [
       "\n",
       "<style>\n",
       "    /* Turns off some styling */\n",
       "    progress {\n",
       "        /* gets rid of default border in Firefox and Opera. */\n",
       "        border: none;\n",
       "        /* Needs to be in here for Safari polyfill so background images work as expected. */\n",
       "        background-size: auto;\n",
       "    }\n",
       "    progress:not([value]), progress:not([value])::-webkit-progress-bar {\n",
       "        background: repeating-linear-gradient(45deg, #7e7e7e, #7e7e7e 10px, #5c5c5c 10px, #5c5c5c 20px);\n",
       "    }\n",
       "    .progress-bar-interrupted, .progress-bar-interrupted::-webkit-progress-bar {\n",
       "        background: #F44336;\n",
       "    }\n",
       "</style>\n"
      ],
      "text/plain": [
       "<IPython.core.display.HTML object>"
      ]
     },
     "metadata": {},
     "output_type": "display_data"
    },
    {
     "data": {
      "text/html": [],
      "text/plain": [
       "<IPython.core.display.HTML object>"
      ]
     },
     "metadata": {},
     "output_type": "display_data"
    },
    {
     "name": "stderr",
     "output_type": "stream",
     "text": [
      "Mean of empty slice\n"
     ]
    },
    {
     "name": "stdout",
     "output_type": "stream",
     "text": [
      "Input file: bids/sub-z0206923/ses-20231003/extra_data/B0.nii\n",
      "Marker Precision: 1.0\n",
      "Marker Recall: 1.0\n",
      "True markers: 3\n",
      "False positive markers: 0 (0 were known calcification)\n",
      "False negative markers: 0\n",
      "Loss: 0.3754417598247528\n",
      "Loading model: models/FMAP-20240408-112540-11-best.pth\n"
     ]
    },
    {
     "name": "stderr",
     "output_type": "stream",
     "text": [
      "Saved filed doesn't contain an optimizer state.\n"
     ]
    },
    {
     "name": "stdout",
     "output_type": "stream",
     "text": [
      "0/1; "
     ]
    },
    {
     "data": {
      "text/html": [
       "\n",
       "<style>\n",
       "    /* Turns off some styling */\n",
       "    progress {\n",
       "        /* gets rid of default border in Firefox and Opera. */\n",
       "        border: none;\n",
       "        /* Needs to be in here for Safari polyfill so background images work as expected. */\n",
       "        background-size: auto;\n",
       "    }\n",
       "    progress:not([value]), progress:not([value])::-webkit-progress-bar {\n",
       "        background: repeating-linear-gradient(45deg, #7e7e7e, #7e7e7e 10px, #5c5c5c 10px, #5c5c5c 20px);\n",
       "    }\n",
       "    .progress-bar-interrupted, .progress-bar-interrupted::-webkit-progress-bar {\n",
       "        background: #F44336;\n",
       "    }\n",
       "</style>\n"
      ],
      "text/plain": [
       "<IPython.core.display.HTML object>"
      ]
     },
     "metadata": {},
     "output_type": "display_data"
    },
    {
     "data": {
      "text/html": [],
      "text/plain": [
       "<IPython.core.display.HTML object>"
      ]
     },
     "metadata": {},
     "output_type": "display_data"
    },
    {
     "name": "stdout",
     "output_type": "stream",
     "text": [
      "Input file: bids/sub-z1484547/ses-20240102/extra_data/B0.nii\n",
      "Marker Precision: 1.0\n",
      "Marker Recall: 1.0\n",
      "True markers: 3\n",
      "False positive markers: 0 (0 were known calcification)\n",
      "False negative markers: 0\n",
      "Loss: 0.39057403802871704\n",
      "Loading model: models/FMAP-20240408-114226-12-best.pth\n"
     ]
    },
    {
     "name": "stderr",
     "output_type": "stream",
     "text": [
      "Saved filed doesn't contain an optimizer state.\n"
     ]
    },
    {
     "name": "stdout",
     "output_type": "stream",
     "text": [
      "0/1; "
     ]
    },
    {
     "data": {
      "text/html": [
       "\n",
       "<style>\n",
       "    /* Turns off some styling */\n",
       "    progress {\n",
       "        /* gets rid of default border in Firefox and Opera. */\n",
       "        border: none;\n",
       "        /* Needs to be in here for Safari polyfill so background images work as expected. */\n",
       "        background-size: auto;\n",
       "    }\n",
       "    progress:not([value]), progress:not([value])::-webkit-progress-bar {\n",
       "        background: repeating-linear-gradient(45deg, #7e7e7e, #7e7e7e 10px, #5c5c5c 10px, #5c5c5c 20px);\n",
       "    }\n",
       "    .progress-bar-interrupted, .progress-bar-interrupted::-webkit-progress-bar {\n",
       "        background: #F44336;\n",
       "    }\n",
       "</style>\n"
      ],
      "text/plain": [
       "<IPython.core.display.HTML object>"
      ]
     },
     "metadata": {},
     "output_type": "display_data"
    },
    {
     "data": {
      "text/html": [],
      "text/plain": [
       "<IPython.core.display.HTML object>"
      ]
     },
     "metadata": {},
     "output_type": "display_data"
    },
    {
     "name": "stderr",
     "output_type": "stream",
     "text": [
      "Mean of empty slice\n"
     ]
    },
    {
     "name": "stdout",
     "output_type": "stream",
     "text": [
      "Input file: bids/sub-z1645782/ses-20231010/extra_data/B0.nii\n",
      "Marker Precision: 1.0\n",
      "Marker Recall: 1.0\n",
      "True markers: 2\n",
      "False positive markers: 0 (0 were known calcification)\n",
      "False negative markers: 0\n",
      "Loss: 0.36489081382751465\n",
      "Loading model: models/FMAP-20240408-120654-13-best.pth\n"
     ]
    },
    {
     "name": "stderr",
     "output_type": "stream",
     "text": [
      "Saved filed doesn't contain an optimizer state.\n"
     ]
    },
    {
     "name": "stdout",
     "output_type": "stream",
     "text": [
      "0/1; "
     ]
    },
    {
     "data": {
      "text/html": [
       "\n",
       "<style>\n",
       "    /* Turns off some styling */\n",
       "    progress {\n",
       "        /* gets rid of default border in Firefox and Opera. */\n",
       "        border: none;\n",
       "        /* Needs to be in here for Safari polyfill so background images work as expected. */\n",
       "        background-size: auto;\n",
       "    }\n",
       "    progress:not([value]), progress:not([value])::-webkit-progress-bar {\n",
       "        background: repeating-linear-gradient(45deg, #7e7e7e, #7e7e7e 10px, #5c5c5c 10px, #5c5c5c 20px);\n",
       "    }\n",
       "    .progress-bar-interrupted, .progress-bar-interrupted::-webkit-progress-bar {\n",
       "        background: #F44336;\n",
       "    }\n",
       "</style>\n"
      ],
      "text/plain": [
       "<IPython.core.display.HTML object>"
      ]
     },
     "metadata": {},
     "output_type": "display_data"
    },
    {
     "data": {
      "text/html": [],
      "text/plain": [
       "<IPython.core.display.HTML object>"
      ]
     },
     "metadata": {},
     "output_type": "display_data"
    },
    {
     "name": "stdout",
     "output_type": "stream",
     "text": [
      "Input file: bids/sub-z0232771/ses-20240228/extra_data/B0.nii\n",
      "Marker Precision: 1.0\n",
      "Marker Recall: 0.6666666666666666\n",
      "True markers: 2\n",
      "False positive markers: 0 (0 were known calcification)\n",
      "False negative markers: 1\n",
      "Loss: 0.4209740459918976\n",
      "Loading model: models/FMAP-20240408-115620-14-best.pth\n"
     ]
    },
    {
     "name": "stderr",
     "output_type": "stream",
     "text": [
      "Saved filed doesn't contain an optimizer state.\n"
     ]
    },
    {
     "name": "stdout",
     "output_type": "stream",
     "text": [
      "0/1; "
     ]
    },
    {
     "data": {
      "text/html": [
       "\n",
       "<style>\n",
       "    /* Turns off some styling */\n",
       "    progress {\n",
       "        /* gets rid of default border in Firefox and Opera. */\n",
       "        border: none;\n",
       "        /* Needs to be in here for Safari polyfill so background images work as expected. */\n",
       "        background-size: auto;\n",
       "    }\n",
       "    progress:not([value]), progress:not([value])::-webkit-progress-bar {\n",
       "        background: repeating-linear-gradient(45deg, #7e7e7e, #7e7e7e 10px, #5c5c5c 10px, #5c5c5c 20px);\n",
       "    }\n",
       "    .progress-bar-interrupted, .progress-bar-interrupted::-webkit-progress-bar {\n",
       "        background: #F44336;\n",
       "    }\n",
       "</style>\n"
      ],
      "text/plain": [
       "<IPython.core.display.HTML object>"
      ]
     },
     "metadata": {},
     "output_type": "display_data"
    },
    {
     "data": {
      "text/html": [],
      "text/plain": [
       "<IPython.core.display.HTML object>"
      ]
     },
     "metadata": {},
     "output_type": "display_data"
    },
    {
     "name": "stderr",
     "output_type": "stream",
     "text": [
      "Mean of empty slice\n"
     ]
    },
    {
     "name": "stdout",
     "output_type": "stream",
     "text": [
      "Input file: bids/sub-z0347933/ses-20240129/extra_data/B0.nii\n",
      "Marker Precision: 1.0\n",
      "Marker Recall: 1.0\n",
      "True markers: 3\n",
      "False positive markers: 0 (0 were known calcification)\n",
      "False negative markers: 0\n",
      "Loss: 0.36348286271095276\n",
      "Loading model: models/FMAP-20240408-121459-15-best.pth\n"
     ]
    },
    {
     "name": "stderr",
     "output_type": "stream",
     "text": [
      "Saved filed doesn't contain an optimizer state.\n"
     ]
    },
    {
     "name": "stdout",
     "output_type": "stream",
     "text": [
      "0/1; "
     ]
    },
    {
     "data": {
      "text/html": [
       "\n",
       "<style>\n",
       "    /* Turns off some styling */\n",
       "    progress {\n",
       "        /* gets rid of default border in Firefox and Opera. */\n",
       "        border: none;\n",
       "        /* Needs to be in here for Safari polyfill so background images work as expected. */\n",
       "        background-size: auto;\n",
       "    }\n",
       "    progress:not([value]), progress:not([value])::-webkit-progress-bar {\n",
       "        background: repeating-linear-gradient(45deg, #7e7e7e, #7e7e7e 10px, #5c5c5c 10px, #5c5c5c 20px);\n",
       "    }\n",
       "    .progress-bar-interrupted, .progress-bar-interrupted::-webkit-progress-bar {\n",
       "        background: #F44336;\n",
       "    }\n",
       "</style>\n"
      ],
      "text/plain": [
       "<IPython.core.display.HTML object>"
      ]
     },
     "metadata": {},
     "output_type": "display_data"
    },
    {
     "data": {
      "text/html": [],
      "text/plain": [
       "<IPython.core.display.HTML object>"
      ]
     },
     "metadata": {},
     "output_type": "display_data"
    },
    {
     "name": "stdout",
     "output_type": "stream",
     "text": [
      "Input file: bids/sub-z3145629/ses-20231204/extra_data/B0.nii\n",
      "Marker Precision: 1.0\n",
      "Marker Recall: 0.6666666666666666\n",
      "True markers: 2\n",
      "False positive markers: 0 (0 were known calcification)\n",
      "False negative markers: 1\n",
      "Loss: 0.42710888385772705\n",
      "Loading model: models/FMAP-20240408-121948-16-best.pth\n"
     ]
    },
    {
     "name": "stderr",
     "output_type": "stream",
     "text": [
      "Saved filed doesn't contain an optimizer state.\n"
     ]
    },
    {
     "name": "stdout",
     "output_type": "stream",
     "text": [
      "0/1; "
     ]
    },
    {
     "data": {
      "text/html": [
       "\n",
       "<style>\n",
       "    /* Turns off some styling */\n",
       "    progress {\n",
       "        /* gets rid of default border in Firefox and Opera. */\n",
       "        border: none;\n",
       "        /* Needs to be in here for Safari polyfill so background images work as expected. */\n",
       "        background-size: auto;\n",
       "    }\n",
       "    progress:not([value]), progress:not([value])::-webkit-progress-bar {\n",
       "        background: repeating-linear-gradient(45deg, #7e7e7e, #7e7e7e 10px, #5c5c5c 10px, #5c5c5c 20px);\n",
       "    }\n",
       "    .progress-bar-interrupted, .progress-bar-interrupted::-webkit-progress-bar {\n",
       "        background: #F44336;\n",
       "    }\n",
       "</style>\n"
      ],
      "text/plain": [
       "<IPython.core.display.HTML object>"
      ]
     },
     "metadata": {},
     "output_type": "display_data"
    },
    {
     "data": {
      "text/html": [],
      "text/plain": [
       "<IPython.core.display.HTML object>"
      ]
     },
     "metadata": {},
     "output_type": "display_data"
    },
    {
     "name": "stderr",
     "output_type": "stream",
     "text": [
      "Mean of empty slice\n"
     ]
    },
    {
     "name": "stdout",
     "output_type": "stream",
     "text": [
      "Input file: bids/sub-z2105112/ses-20231220/extra_data/B0.nii\n",
      "Marker Precision: 1.0\n",
      "Marker Recall: 1.0\n",
      "True markers: 3\n",
      "False positive markers: 0 (0 were known calcification)\n",
      "False negative markers: 0\n",
      "Loss: 0.36734551191329956\n",
      "Loading model: models/FMAP-20240408-123955-17-best.pth\n"
     ]
    },
    {
     "name": "stderr",
     "output_type": "stream",
     "text": [
      "Saved filed doesn't contain an optimizer state.\n"
     ]
    },
    {
     "name": "stdout",
     "output_type": "stream",
     "text": [
      "0/1; "
     ]
    },
    {
     "data": {
      "text/html": [
       "\n",
       "<style>\n",
       "    /* Turns off some styling */\n",
       "    progress {\n",
       "        /* gets rid of default border in Firefox and Opera. */\n",
       "        border: none;\n",
       "        /* Needs to be in here for Safari polyfill so background images work as expected. */\n",
       "        background-size: auto;\n",
       "    }\n",
       "    progress:not([value]), progress:not([value])::-webkit-progress-bar {\n",
       "        background: repeating-linear-gradient(45deg, #7e7e7e, #7e7e7e 10px, #5c5c5c 10px, #5c5c5c 20px);\n",
       "    }\n",
       "    .progress-bar-interrupted, .progress-bar-interrupted::-webkit-progress-bar {\n",
       "        background: #F44336;\n",
       "    }\n",
       "</style>\n"
      ],
      "text/plain": [
       "<IPython.core.display.HTML object>"
      ]
     },
     "metadata": {},
     "output_type": "display_data"
    },
    {
     "data": {
      "text/html": [],
      "text/plain": [
       "<IPython.core.display.HTML object>"
      ]
     },
     "metadata": {},
     "output_type": "display_data"
    },
    {
     "name": "stdout",
     "output_type": "stream",
     "text": [
      "Input file: bids/sub-z3212665/ses-20240305/extra_data/B0.nii\n",
      "Marker Precision: 1.0\n",
      "Marker Recall: 1.0\n",
      "True markers: 3\n",
      "False positive markers: 0 (0 were known calcification)\n",
      "False negative markers: 0\n",
      "Loss: 0.2057500034570694\n",
      "Loading model: models/FMAP-20240408-124149-18-best.pth\n"
     ]
    },
    {
     "name": "stderr",
     "output_type": "stream",
     "text": [
      "Saved filed doesn't contain an optimizer state.\n"
     ]
    },
    {
     "name": "stdout",
     "output_type": "stream",
     "text": [
      "0/1; "
     ]
    },
    {
     "data": {
      "text/html": [
       "\n",
       "<style>\n",
       "    /* Turns off some styling */\n",
       "    progress {\n",
       "        /* gets rid of default border in Firefox and Opera. */\n",
       "        border: none;\n",
       "        /* Needs to be in here for Safari polyfill so background images work as expected. */\n",
       "        background-size: auto;\n",
       "    }\n",
       "    progress:not([value]), progress:not([value])::-webkit-progress-bar {\n",
       "        background: repeating-linear-gradient(45deg, #7e7e7e, #7e7e7e 10px, #5c5c5c 10px, #5c5c5c 20px);\n",
       "    }\n",
       "    .progress-bar-interrupted, .progress-bar-interrupted::-webkit-progress-bar {\n",
       "        background: #F44336;\n",
       "    }\n",
       "</style>\n"
      ],
      "text/plain": [
       "<IPython.core.display.HTML object>"
      ]
     },
     "metadata": {},
     "output_type": "display_data"
    },
    {
     "data": {
      "text/html": [],
      "text/plain": [
       "<IPython.core.display.HTML object>"
      ]
     },
     "metadata": {},
     "output_type": "display_data"
    },
    {
     "name": "stdout",
     "output_type": "stream",
     "text": [
      "Input file: bids/sub-z2684925/ses-20240313/extra_data/B0.nii\n",
      "Marker Precision: 1.0\n",
      "Marker Recall: 1.0\n",
      "True markers: 3\n",
      "False positive markers: 0 (0 were known calcification)\n",
      "False negative markers: 0\n",
      "Loss: 0.3429981470108032\n",
      "Loading model: models/FMAP-20240408-124809-19-best.pth\n"
     ]
    },
    {
     "name": "stderr",
     "output_type": "stream",
     "text": [
      "Saved filed doesn't contain an optimizer state.\n"
     ]
    },
    {
     "name": "stdout",
     "output_type": "stream",
     "text": [
      "0/1; "
     ]
    },
    {
     "data": {
      "text/html": [
       "\n",
       "<style>\n",
       "    /* Turns off some styling */\n",
       "    progress {\n",
       "        /* gets rid of default border in Firefox and Opera. */\n",
       "        border: none;\n",
       "        /* Needs to be in here for Safari polyfill so background images work as expected. */\n",
       "        background-size: auto;\n",
       "    }\n",
       "    progress:not([value]), progress:not([value])::-webkit-progress-bar {\n",
       "        background: repeating-linear-gradient(45deg, #7e7e7e, #7e7e7e 10px, #5c5c5c 10px, #5c5c5c 20px);\n",
       "    }\n",
       "    .progress-bar-interrupted, .progress-bar-interrupted::-webkit-progress-bar {\n",
       "        background: #F44336;\n",
       "    }\n",
       "</style>\n"
      ],
      "text/plain": [
       "<IPython.core.display.HTML object>"
      ]
     },
     "metadata": {},
     "output_type": "display_data"
    },
    {
     "data": {
      "text/html": [],
      "text/plain": [
       "<IPython.core.display.HTML object>"
      ]
     },
     "metadata": {},
     "output_type": "display_data"
    },
    {
     "name": "stdout",
     "output_type": "stream",
     "text": [
      "Input file: bids/sub-z4043512/ses-20240112/extra_data/B0.nii\n",
      "Marker Precision: 1.0\n",
      "Marker Recall: 1.0\n",
      "True markers: 3\n",
      "False positive markers: 0 (0 were known calcification)\n",
      "False negative markers: 0\n",
      "Loss: 0.31652921438217163\n",
      "Loading model: models/FMAP-20240408-132853-20-best.pth\n"
     ]
    },
    {
     "name": "stderr",
     "output_type": "stream",
     "text": [
      "Saved filed doesn't contain an optimizer state.\n"
     ]
    },
    {
     "name": "stdout",
     "output_type": "stream",
     "text": [
      "0/1; "
     ]
    },
    {
     "data": {
      "text/html": [
       "\n",
       "<style>\n",
       "    /* Turns off some styling */\n",
       "    progress {\n",
       "        /* gets rid of default border in Firefox and Opera. */\n",
       "        border: none;\n",
       "        /* Needs to be in here for Safari polyfill so background images work as expected. */\n",
       "        background-size: auto;\n",
       "    }\n",
       "    progress:not([value]), progress:not([value])::-webkit-progress-bar {\n",
       "        background: repeating-linear-gradient(45deg, #7e7e7e, #7e7e7e 10px, #5c5c5c 10px, #5c5c5c 20px);\n",
       "    }\n",
       "    .progress-bar-interrupted, .progress-bar-interrupted::-webkit-progress-bar {\n",
       "        background: #F44336;\n",
       "    }\n",
       "</style>\n"
      ],
      "text/plain": [
       "<IPython.core.display.HTML object>"
      ]
     },
     "metadata": {},
     "output_type": "display_data"
    },
    {
     "data": {
      "text/html": [],
      "text/plain": [
       "<IPython.core.display.HTML object>"
      ]
     },
     "metadata": {},
     "output_type": "display_data"
    },
    {
     "name": "stderr",
     "output_type": "stream",
     "text": [
      "Mean of empty slice\n"
     ]
    },
    {
     "name": "stdout",
     "output_type": "stream",
     "text": [
      "Input file: bids/sub-z0747844/ses-20240304/extra_data/B0.nii\n",
      "Marker Precision: 1.0\n",
      "Marker Recall: 0.6666666666666666\n",
      "True markers: 2\n",
      "False positive markers: 0 (0 were known calcification)\n",
      "False negative markers: 1\n",
      "Loss: 0.425470769405365\n",
      "Loading model: models/FMAP-20240408-132909-21-best.pth\n"
     ]
    },
    {
     "name": "stderr",
     "output_type": "stream",
     "text": [
      "Saved filed doesn't contain an optimizer state.\n"
     ]
    },
    {
     "name": "stdout",
     "output_type": "stream",
     "text": [
      "0/1; "
     ]
    },
    {
     "data": {
      "text/html": [
       "\n",
       "<style>\n",
       "    /* Turns off some styling */\n",
       "    progress {\n",
       "        /* gets rid of default border in Firefox and Opera. */\n",
       "        border: none;\n",
       "        /* Needs to be in here for Safari polyfill so background images work as expected. */\n",
       "        background-size: auto;\n",
       "    }\n",
       "    progress:not([value]), progress:not([value])::-webkit-progress-bar {\n",
       "        background: repeating-linear-gradient(45deg, #7e7e7e, #7e7e7e 10px, #5c5c5c 10px, #5c5c5c 20px);\n",
       "    }\n",
       "    .progress-bar-interrupted, .progress-bar-interrupted::-webkit-progress-bar {\n",
       "        background: #F44336;\n",
       "    }\n",
       "</style>\n"
      ],
      "text/plain": [
       "<IPython.core.display.HTML object>"
      ]
     },
     "metadata": {},
     "output_type": "display_data"
    },
    {
     "data": {
      "text/html": [],
      "text/plain": [
       "<IPython.core.display.HTML object>"
      ]
     },
     "metadata": {},
     "output_type": "display_data"
    },
    {
     "name": "stderr",
     "output_type": "stream",
     "text": [
      "Mean of empty slice\n"
     ]
    },
    {
     "name": "stdout",
     "output_type": "stream",
     "text": [
      "Input file: bids/sub-z1421134/ses-20231205/extra_data/B0.nii\n",
      "Marker Precision: 1.0\n",
      "Marker Recall: 0.6666666666666666\n",
      "True markers: 2\n",
      "False positive markers: 0 (0 were known calcification)\n",
      "False negative markers: 1\n",
      "Loss: 0.4580019414424896\n",
      "Loading model: models/FMAP-20240408-133754-22-best.pth\n"
     ]
    },
    {
     "name": "stderr",
     "output_type": "stream",
     "text": [
      "Saved filed doesn't contain an optimizer state.\n"
     ]
    },
    {
     "name": "stdout",
     "output_type": "stream",
     "text": [
      "0/1; "
     ]
    },
    {
     "data": {
      "text/html": [
       "\n",
       "<style>\n",
       "    /* Turns off some styling */\n",
       "    progress {\n",
       "        /* gets rid of default border in Firefox and Opera. */\n",
       "        border: none;\n",
       "        /* Needs to be in here for Safari polyfill so background images work as expected. */\n",
       "        background-size: auto;\n",
       "    }\n",
       "    progress:not([value]), progress:not([value])::-webkit-progress-bar {\n",
       "        background: repeating-linear-gradient(45deg, #7e7e7e, #7e7e7e 10px, #5c5c5c 10px, #5c5c5c 20px);\n",
       "    }\n",
       "    .progress-bar-interrupted, .progress-bar-interrupted::-webkit-progress-bar {\n",
       "        background: #F44336;\n",
       "    }\n",
       "</style>\n"
      ],
      "text/plain": [
       "<IPython.core.display.HTML object>"
      ]
     },
     "metadata": {},
     "output_type": "display_data"
    },
    {
     "data": {
      "text/html": [],
      "text/plain": [
       "<IPython.core.display.HTML object>"
      ]
     },
     "metadata": {},
     "output_type": "display_data"
    },
    {
     "name": "stderr",
     "output_type": "stream",
     "text": [
      "Mean of empty slice\n"
     ]
    },
    {
     "name": "stdout",
     "output_type": "stream",
     "text": [
      "Input file: bids/sub-z1638396/ses-20240311/extra_data/B0.nii\n",
      "Marker Precision: 1.0\n",
      "Marker Recall: 1.0\n",
      "True markers: 3\n",
      "False positive markers: 0 (0 were known calcification)\n",
      "False negative markers: 0\n",
      "Loss: 0.3678613603115082\n",
      "Loading model: models/FMAP-20240408-135713-23-best.pth\n"
     ]
    },
    {
     "name": "stderr",
     "output_type": "stream",
     "text": [
      "Saved filed doesn't contain an optimizer state.\n"
     ]
    },
    {
     "name": "stdout",
     "output_type": "stream",
     "text": [
      "0/1; "
     ]
    },
    {
     "data": {
      "text/html": [
       "\n",
       "<style>\n",
       "    /* Turns off some styling */\n",
       "    progress {\n",
       "        /* gets rid of default border in Firefox and Opera. */\n",
       "        border: none;\n",
       "        /* Needs to be in here for Safari polyfill so background images work as expected. */\n",
       "        background-size: auto;\n",
       "    }\n",
       "    progress:not([value]), progress:not([value])::-webkit-progress-bar {\n",
       "        background: repeating-linear-gradient(45deg, #7e7e7e, #7e7e7e 10px, #5c5c5c 10px, #5c5c5c 20px);\n",
       "    }\n",
       "    .progress-bar-interrupted, .progress-bar-interrupted::-webkit-progress-bar {\n",
       "        background: #F44336;\n",
       "    }\n",
       "</style>\n"
      ],
      "text/plain": [
       "<IPython.core.display.HTML object>"
      ]
     },
     "metadata": {},
     "output_type": "display_data"
    },
    {
     "data": {
      "text/html": [],
      "text/plain": [
       "<IPython.core.display.HTML object>"
      ]
     },
     "metadata": {},
     "output_type": "display_data"
    },
    {
     "name": "stderr",
     "output_type": "stream",
     "text": [
      "Mean of empty slice\n"
     ]
    },
    {
     "name": "stdout",
     "output_type": "stream",
     "text": [
      "Input file: bids/sub-z2996397/ses-20231201/extra_data/B0.nii\n",
      "Marker Precision: 1.0\n",
      "Marker Recall: 1.0\n",
      "True markers: 3\n",
      "False positive markers: 0 (0 were known calcification)\n",
      "False negative markers: 0\n",
      "Loss: 0.3701167404651642\n",
      "Loading model: models/FMAP-20240408-140824-24-best.pth\n"
     ]
    },
    {
     "name": "stderr",
     "output_type": "stream",
     "text": [
      "Saved filed doesn't contain an optimizer state.\n"
     ]
    },
    {
     "name": "stdout",
     "output_type": "stream",
     "text": [
      "0/1; "
     ]
    },
    {
     "data": {
      "text/html": [
       "\n",
       "<style>\n",
       "    /* Turns off some styling */\n",
       "    progress {\n",
       "        /* gets rid of default border in Firefox and Opera. */\n",
       "        border: none;\n",
       "        /* Needs to be in here for Safari polyfill so background images work as expected. */\n",
       "        background-size: auto;\n",
       "    }\n",
       "    progress:not([value]), progress:not([value])::-webkit-progress-bar {\n",
       "        background: repeating-linear-gradient(45deg, #7e7e7e, #7e7e7e 10px, #5c5c5c 10px, #5c5c5c 20px);\n",
       "    }\n",
       "    .progress-bar-interrupted, .progress-bar-interrupted::-webkit-progress-bar {\n",
       "        background: #F44336;\n",
       "    }\n",
       "</style>\n"
      ],
      "text/plain": [
       "<IPython.core.display.HTML object>"
      ]
     },
     "metadata": {},
     "output_type": "display_data"
    },
    {
     "data": {
      "text/html": [],
      "text/plain": [
       "<IPython.core.display.HTML object>"
      ]
     },
     "metadata": {},
     "output_type": "display_data"
    },
    {
     "name": "stdout",
     "output_type": "stream",
     "text": [
      "Input file: bids/sub-z0742379/ses-20240124/extra_data/B0.nii\n",
      "Marker Precision: 0.6666666666666666\n",
      "Marker Recall: 0.6666666666666666\n",
      "True markers: 2\n",
      "False positive markers: 1 (0 were known calcification)\n",
      "False negative markers: 1\n",
      "Loss: 0.443633109331131\n"
     ]
    },
    {
     "data": {
      "image/png": "[encoded data removed]",
      "text/plain": [
       "<Figure size 640x480 with 1 Axes>"
      ]
     },
     "metadata": {},
     "output_type": "display_data"
    }
   ],
   "source": [
    "plt.figure()\n",
    "plt.plot([0, 1], [0, 1], color='navy', linestyle='--')\n",
    "model_marker_precisions = {}\n",
    "model_marker_recalls = {}\n",
    "model_tps = {}\n",
    "model_fps = {}\n",
    "model_fps_markers_as_calcs = {}\n",
    "model_fns = {}\n",
    "model_in_files = {}\n",
    "losses = {}\n",
    "\n",
    "for model in model_data.keys():#['CT']:\n",
    "    print(f\"=== {model} ===\")\n",
    "\n",
    "    df = pd.DataFrame(model_data[model])\n",
    "    infile_cols = [key for key in list(model_data[model].keys()) if key != 'seg_files']\n",
    "    n_input_channels = len(infile_cols)\n",
    "    print(f\"infile_cols: {infile_cols}; n_input_channels: {n_input_channels}\")\n",
    "\n",
    "    # determine resampling suggestion\n",
    "    if model == 'CT':\n",
    "        med_dataset = fastMONAI.vision_all.MedDataset(\n",
    "            img_list=df.seg_files.tolist(),\n",
    "            dtype=fastMONAI.vision_all.MedMask\n",
    "        )\n",
    "        suggested_voxelsize, requires_resampling = med_dataset.suggestion()\n",
    "        largest_imagesize = med_dataset.get_largest_img_size(resample=suggested_voxelsize)\n",
    "\n",
    "    # k validation folds\n",
    "    kf = KFold(n_splits=k_folds, random_state=random_state, shuffle=True)\n",
    "\n",
    "    marker_precisions = []\n",
    "    marker_recalls = []\n",
    "    precisions = []\n",
    "    recalls = []\n",
    "    fprs = []\n",
    "    tprs = []\n",
    "    tps = []\n",
    "    fps = []\n",
    "    fps_markers_as_calcs = []\n",
    "    fns = []\n",
    "    fm_losses = []\n",
    "    calc_losses = []\n",
    "    in_files = []\n",
    "\n",
    "\n",
    "    for i, (train_index, valid_index) in enumerate(kf.split(df)):\n",
    "\n",
    "        dblock = fastMONAI.vision_all.MedDataBlock(\n",
    "            blocks=(fastMONAI.vision_all.ImageBlock(cls=fastMONAI.vision_all.MedImage), fastMONAI.vision_all.MedMaskBlock),\n",
    "            splitter=fastMONAI.vision_all.IndexSplitter(valid_index),\n",
    "            get_x=fastMONAI.vision_all.ColReader(infile_cols),\n",
    "            get_y=fastMONAI.vision_all.ColReader('seg_files'),\n",
    "            item_tfms=evaluation_augmentations,\n",
    "            reorder=requires_resampling,\n",
    "            resample=suggested_voxelsize\n",
    "        )\n",
    "\n",
    "        dls = fastMONAI.vision_all.DataLoaders.from_dblock(dblock, df, bs=batch_size)\n",
    "\n",
    "        learn = fastMONAI.vision_all.Learner(\n",
    "            dls,\n",
    "            model=UNet(\n",
    "                spatial_dims=3,\n",
    "                in_channels=n_input_channels,\n",
    "                out_channels=3,\n",
    "                channels=(16, 32, 64, 128, 256),\n",
    "                strides=(2, 2, 2, 2),\n",
    "                num_res_units=2\n",
    "            ),\n",
    "            loss_func=DiceCELoss(\n",
    "                to_onehot_y=True,\n",
    "                include_background=True,\n",
    "                softmax=True,\n",
    "                ce_weight=ce_loss_weights\n",
    "            ),\n",
    "            opt_func=fastMONAI.vision_all.ranger,\n",
    "            metrics=[fastMONAI.vision_all.multi_dice_score, MarkersIdentified(), SuperfluousMarkers()]#.to_fp16()\n",
    "        )\n",
    "\n",
    "        model_file = glob.glob(f\"models/{model}-2024*-*-{i}-best*\")[0]\n",
    "        print(f\"Loading model: {model_file}\")\n",
    "        learn = learn.load(model_file.replace(\"models/\", \"\").replace(\".pth\", \"\"))\n",
    "\n",
    "        if torch.cuda.is_available():\n",
    "            learn.model.cuda()\n",
    "\n",
    "        # Compute metrics on the entire dataset\n",
    "        correct_markers = MarkersIdentified()\n",
    "\n",
    "        dblock_valid_eval = fastMONAI.vision_all.MedDataBlock(\n",
    "            blocks=(fastMONAI.vision_all.ImageBlock(cls=fastMONAI.vision_all.MedImage), fastMONAI.vision_all.MedMaskBlock),\n",
    "            splitter=fastMONAI.vision_all.IndexSplitter([]),\n",
    "            get_x=fastMONAI.vision_all.ColReader(infile_cols),\n",
    "            get_y=fastMONAI.vision_all.ColReader('seg_files'),\n",
    "            item_tfms=evaluation_augmentations,\n",
    "            reorder=requires_resampling,\n",
    "            resample=suggested_voxelsize,\n",
    "        )\n",
    "        dls_valid_eval = fastMONAI.vision_all.DataLoaders.from_dblock(dblock_valid_eval, df.iloc[valid_index], bs=1, sampler=fastMONAI.vision_all.SequentialSampler)\n",
    "        for i, (x, y) in enumerate(dls_valid_eval.train):\n",
    "            print(f\"{i}/{len(dls_valid_eval.train)}\", end=\"; \")\n",
    "            pred = torch.argmax(learn.model(x), dim=1).unsqueeze(1).to(dtype=torch.float)\n",
    "            correct_markers.accumulate(pred=pred.cpu(), targ=y.cpu())\n",
    "\n",
    "        marker_tps = correct_markers.overlap_count\n",
    "        marker_fps = correct_markers.pred_marker_count - correct_markers.overlap_count\n",
    "        marker_fns = correct_markers.targ_marker_count - correct_markers.overlap_count\n",
    "\n",
    "        tps.append(marker_tps)\n",
    "        fps.append(marker_fps)\n",
    "        fps_markers_as_calcs.append(correct_markers.calcification_misclassifications)\n",
    "        fns.append(marker_fns)\n",
    "\n",
    "        marker_precision = (marker_tps / (marker_tps + marker_fps)) if (marker_tps + marker_fps) > 0 else 0\n",
    "        marker_recall = (marker_tps / (marker_tps + marker_fns))  if (marker_tps + marker_fns) > 0 else 0\n",
    "        marker_precisions.append(marker_precision)\n",
    "        marker_recalls.append(marker_recall)\n",
    "\n",
    "        loss, *metrics = learn.validate(ds_idx=0, dl=dls_valid_eval.train)\n",
    "        fm_losses.append(metrics[0][0])\n",
    "        calc_losses.append(metrics[0][1])\n",
    "\n",
    "        print(f\"Input file: {df.iloc[valid_index].iloc[0].iloc[0]}\")\n",
    "        print(f\"Marker Precision: {marker_precision}\")\n",
    "        print(f\"Marker Recall: {marker_recall}\")\n",
    "        print(f\"True markers: {marker_tps}\")\n",
    "        print(f\"False positive markers: {marker_fps} ({correct_markers.calcification_misclassifications} were known calcification)\")\n",
    "        print(f\"False negative markers: {marker_fns}\")\n",
    "        print(f\"Loss: {loss}\")\n",
    "\n",
    "        # get predictions\n",
    "        dls_valid_eval = fastMONAI.vision_all.DataLoaders.from_dblock(dblock_valid_eval, df.iloc[valid_index], bs=len(dls_valid_eval.train_ds), sampler=fastMONAI.vision_all.SequentialSampler)\n",
    "        valid_x, valid_y = dls_valid_eval.train.one_batch()\n",
    "\n",
    "        def calc_stuff(x, y):\n",
    "            pred = learn.model(x)[:,1,:,:,:].unsqueeze(1).cpu().detach().numpy()\n",
    "            pred -= np.min(pred)\n",
    "            pred /= np.max(pred)\n",
    "            pred = pred.flatten()\n",
    "            targ = (y.cpu() == 1).to(dtype=torch.int).detach().numpy().flatten()\n",
    "\n",
    "            # calculate AUC\n",
    "            sample_weight = compute_sample_weight(class_weight=\"balanced\", y=targ, indices=None)\n",
    "            fpr, tpr, thresholds = roc_curve(targ, pred, sample_weight=sample_weight)\n",
    "            roc_auc = auc(fpr, tpr)\n",
    "\n",
    "            # calculate precision-recall curve\n",
    "            precision, recall, _ = precision_recall_curve(targ, pred)\n",
    "            average_precision = average_precision_score(targ, pred)\n",
    "\n",
    "            return fpr, tpr, precision, recall, thresholds, average_precision, roc_auc\n",
    "\n",
    "        fpr, tpr, precision, recall, thresholds, average_tpr, roc_auc = calc_stuff(valid_x, valid_y)\n",
    "\n",
    "        in_files.append(df.iloc[valid_index].iloc[0].iloc[0])\n",
    "        precisions.append(precision)\n",
    "        recalls.append(recall)\n",
    "        fprs.append(fpr)\n",
    "        tprs.append(tpr)\n",
    "\n",
    "    model_marker_precisions[model] = [np.mean(marker_precisions), np.std(marker_precisions)]\n",
    "    model_marker_recalls[model] = [np.mean(marker_recalls), np.std(marker_recalls)]\n",
    "    losses[model] = [np.mean(fm_losses), np.std(fm_losses), np.mean(calc_losses), np.std(calc_losses)]\n",
    "\n",
    "    model_tps[model] = tps\n",
    "    model_fps[model] = fps\n",
    "    model_fps_markers_as_calcs[model] = fps_markers_as_calcs\n",
    "    model_fns[model] = fns\n",
    "    model_in_files[model] = in_files\n",
    "\n",
    "    # define a common set of FPR values\n",
    "    common_fpr = np.linspace(0, 1, 100)\n",
    "\n",
    "    # initialize an empty array to hold the interpolated TPRs\n",
    "    interpolated_tprs = []\n",
    "\n",
    "    for tpr, fpr in zip(tprs, fprs):\n",
    "        # interpolate the TPR values to the common FPR values\n",
    "        interpolated_tpr = np.interp(common_fpr, fpr, tpr)\n",
    "        \n",
    "        # store the interpolated TPR\n",
    "        interpolated_tprs.append(interpolated_tpr)\n",
    "\n",
    "    # calculate the average TPR at each common FPR value\n",
    "    average_tpr = np.mean(interpolated_tprs, axis=0)\n",
    "\n",
    "    roc_auc = auc(common_fpr, average_tpr)\n",
    "\n",
    "    # plot the average precision-recall curve\n",
    "    plt.plot(common_fpr, average_tpr, color=colors[model], label=f'{model} (AUC = {round(roc_auc, 2)})')\n",
    "    \n",
    "\n",
    "    del learn, dls, dblock_valid_eval, dls_valid_eval, loss, metrics, valid_x, valid_y, correct_markers\n",
    "\n",
    "plt.xlim([0.0, 1.0])\n",
    "plt.ylim([0.0, 1.05])\n",
    "plt.xlabel('False Positive Rate')\n",
    "plt.ylabel('True Positive Rate')\n",
    "plt.title(f'Receiver Operating Characteristic (ROC) Curves\\n(Average over {k_folds}-fold cross-validation)')\n",
    "plt.legend(loc=\"lower right\")\n",
    "plt.savefig(\"roc-curves-new3.png\", dpi=400)\n",
    "plt.show()"
   ]
  },
  {
   "cell_type": "code",
   "execution_count": 10,
   "metadata": {},
   "outputs": [
    {
     "name": "stdout",
     "output_type": "stream",
     "text": [
      "        CT ['bids/sub-z1318033/ses-20230825/extra_data/series-3_NA_20230825101546_3_resliced.nii', 'bids/sub-z1691325/ses-20240227/extra_data/series-5_16_Pelvis_16_Pelvis_20240227101660_5_resliced.nii', 'bids/sub-z0002292/ses-20240318/extra_data/series-6_16_Pelvis_16_Pelvis_20240318092750_6_resliced.nii', 'bids/sub-z3268423/ses-20240109/extra_data/series-5_16_Pelvis_16_Pelvis_20240109090856_5_resliced.nii', 'bids/sub-z1448271/ses-20231110/extra_data/series-5_16_Pelvis_16_Pelvis_20231110085011_5_resliced.nii', 'bids/sub-z1384048/ses-20231108/extra_data/series-5_16_Pelvis_16_Pelvis_20231108092623_5_resliced.nii', 'bids/sub-z1635498/ses-20240305/extra_data/series-5_16_Pelvis_16_Pelvis_20240305092125_5_resliced.nii', 'bids/sub-z0163277/ses-20240123/extra_data/series-5_16_Pelvis_16_Pelvis_20240123085135_5_resliced.nii', 'bids/sub-z3220308/ses-20231009/extra_data/series-6_NA_20231009081319_6_resliced.nii', 'bids/sub-z0381949/ses-20231005/extra_data/series-5_NA_20231005075647_5_resliced.nii', 'bids/sub-z0206923/ses-20231003/extra_data/series-5_NA_20231003083739_5_resliced.nii', 'bids/sub-z1484547/ses-20240102/extra_data/series-7_16_Pelvis_16_Pelvis_20240102093205_7_resliced.nii', 'bids/sub-z1645782/ses-20231010/extra_data/series-5_NA_20231010083547_5_resliced.nii', 'bids/sub-z0232771/ses-20240228/extra_data/series-5_16_Pelvis_16_Pelvis_20240228094427_5_resliced.nii', 'bids/sub-z0347933/ses-20240129/extra_data/series-4_16_Pelvis_16_Pelvis_20240129121046_4_resliced.nii', 'bids/sub-z3145629/ses-20231204/extra_data/series-5_16_Pelvis_16_Pelvis_20231204115121_5_resliced.nii', 'bids/sub-z2105112/ses-20231220/extra_data/series-5_16_Pelvis_16_Pelvis_20231220111840_5_resliced.nii', 'bids/sub-z3212665/ses-20240305/extra_data/series-5_16_Pelvis_16_Pelvis_20240305085930_5_resliced.nii', 'bids/sub-z2684925/ses-20240313/extra_data/series-5_16_Pelvis_16_Pelvis_20240313093923_5_resliced.nii', 'bids/sub-z4043512/ses-20240112/extra_data/series-3_16_Pelvis_16_Pelvis_20240112112535_3_resliced.nii', 'bids/sub-z0747844/ses-20240304/extra_data/series-5_16_Pelvis_16_Pelvis_20240304114712_5_resliced.nii', 'bids/sub-z1421134/ses-20231205/extra_data/series-3_16_Pelvis_16_Pelvis_20231205112331_3_resliced.nii', 'bids/sub-z1638396/ses-20240311/extra_data/series-5_16_Pelvis_16_Pelvis_20240311133704_5_resliced.nii', 'bids/sub-z2996397/ses-20231201/extra_data/series-5_16_Pelvis_16_Pelvis_20231201110056_5_resliced.nii', 'bids/sub-z0742379/ses-20240124/extra_data/series-6_16_Pelvis_16_Pelvis_20240124093902_6_resliced.nii']\n",
      "       QSM ['out/qsm/sub-z1318033_ses-20230825_acq-wipiswifl3dvibetrythisone_run-01_echo-01_part-phase_MEGRE_scaled_tgvqsmjl_twopass_average_ref.nii', 'out/qsm/sub-z1691325_ses-20240227_acq-wipiswifl3dvibetrythisone_run-01_echo-01_part-phase_MEGRE_scaled_tgvqsmjl_twopass_average_ref.nii', 'out/qsm/sub-z0002292_ses-20240318_acq-wipiswifl3dvibetrythisone_run-01_echo-01_part-phase_MEGRE_scaled_tgvqsmjl_twopass_average_ref.nii', 'out/qsm/sub-z3268423_ses-20240109_acq-wipiswifl3dvibetrythisone_run-01_echo-01_part-phase_MEGRE_scaled_tgvqsmjl_twopass_average_ref.nii', 'out/qsm/sub-z1448271_ses-20231110_acq-wipiswifl3dvibetrythisone_run-01_echo-01_part-phase_MEGRE_scaled_tgvqsmjl_twopass_average_ref.nii', 'out/qsm/sub-z1384048_ses-20231108_acq-wipiswifl3dvibetrythisone_run-01_echo-01_part-phase_MEGRE_scaled_tgvqsmjl_twopass_average_ref.nii', 'out/qsm/sub-z1635498_ses-20240305_acq-wipiswifl3dvibetrythisone_run-01_echo-01_part-phase_MEGRE_scaled_tgvqsmjl_twopass_average_ref.nii', 'out/qsm/sub-z0163277_ses-20240123_acq-wipiswifl3dvibetrythisone_run-01_echo-01_part-phase_MEGRE_scaled_tgvqsmjl_twopass_average_ref.nii', 'out/qsm/sub-z3220308_ses-20231009_acq-wipiswifl3dvibetrythisone_run-01_echo-01_part-phase_MEGRE_scaled_tgvqsmjl_twopass_average_ref.nii', 'out/qsm/sub-z0381949_ses-20231005_acq-wipiswifl3dvibetrythisone_run-01_echo-01_part-phase_MEGRE_scaled_tgvqsmjl_twopass_average_ref.nii', 'out/qsm/sub-z0206923_ses-20231003_acq-wipiswifl3dvibetrythisone_run-01_echo-01_part-phase_MEGRE_scaled_tgvqsmjl_twopass_average_ref.nii', 'out/qsm/sub-z1484547_ses-20240102_acq-wipiswifl3dvibetrythisone_run-01_echo-01_part-phase_MEGRE_scaled_tgvqsmjl_twopass_average_ref.nii', 'out/qsm/sub-z1645782_ses-20231010_acq-wipiswifl3dvibetrythisone_run-01_echo-01_part-phase_MEGRE_scaled_tgvqsmjl_twopass_average_ref.nii', 'out/qsm/sub-z0232771_ses-20240228_acq-wipiswifl3dvibetrythisone_run-01_echo-01_part-phase_MEGRE_scaled_tgvqsmjl_twopass_average_ref.nii', 'out/qsm/sub-z0347933_ses-20240129_acq-wipiswifl3dvibetrythisone_run-01_echo-01_part-phase_MEGRE_scaled_tgvqsmjl_twopass_average_ref.nii', 'out/qsm/sub-z3145629_ses-20231204_acq-wipiswifl3dvibetrythisone_run-01_echo-01_part-phase_MEGRE_scaled_tgvqsmjl_twopass_average_ref.nii', 'out/qsm/sub-z2105112_ses-20231220_acq-wipiswifl3dvibetrythisone_run-01_echo-01_part-phase_MEGRE_scaled_tgvqsmjl_twopass_average_ref.nii', 'out/qsm/sub-z3212665_ses-20240305_acq-wipiswifl3dvibetrythisone_run-01_echo-01_part-phase_MEGRE_scaled_tgvqsmjl_twopass_average_ref.nii', 'out/qsm/sub-z2684925_ses-20240313_acq-wipiswifl3dvibetrythisone_run-01_echo-01_part-phase_MEGRE_scaled_tgvqsmjl_twopass_average_ref.nii', 'out/qsm/sub-z4043512_ses-20240112_acq-wipiswifl3dvibetrythisone_run-01_echo-01_part-phase_MEGRE_scaled_tgvqsmjl_twopass_average_ref.nii', 'out/qsm/sub-z0747844_ses-20240304_acq-wipiswifl3dvibetrythisone_run-01_echo-01_part-phase_MEGRE_scaled_tgvqsmjl_twopass_average_ref.nii', 'out/qsm/sub-z1421134_ses-20231205_acq-wipiswifl3dvibetrythisone_run-01_echo-01_part-phase_MEGRE_scaled_tgvqsmjl_twopass_average_ref.nii', 'out/qsm/sub-z1638396_ses-20240311_acq-wipiswifl3dvibetrythisone_run-01_echo-01_part-phase_MEGRE_scaled_tgvqsmjl_twopass_average_ref.nii', 'out/qsm/sub-z2996397_ses-20231201_acq-wipiswifl3dvibetrythisone_run-01_echo-01_part-phase_MEGRE_scaled_tgvqsmjl_twopass_average_ref.nii', 'out/qsm/sub-z0742379_ses-20240124_acq-wipiswifl3dvibetrythisone_run-01_echo-01_part-phase_MEGRE_scaled_tgvqsmjl_twopass_average_ref.nii']\n",
      "   QSM-SWI ['out/qsm/sub-z1318033_ses-20230825_acq-wipiswifl3dvibetrythisone_run-01_echo-01_part-phase_MEGRE_scaled_tgvqsmjl_twopass_average_ref.nii', 'out/qsm/sub-z1691325_ses-20240227_acq-wipiswifl3dvibetrythisone_run-01_echo-01_part-phase_MEGRE_scaled_tgvqsmjl_twopass_average_ref.nii', 'out/qsm/sub-z0002292_ses-20240318_acq-wipiswifl3dvibetrythisone_run-01_echo-01_part-phase_MEGRE_scaled_tgvqsmjl_twopass_average_ref.nii', 'out/qsm/sub-z3268423_ses-20240109_acq-wipiswifl3dvibetrythisone_run-01_echo-01_part-phase_MEGRE_scaled_tgvqsmjl_twopass_average_ref.nii', 'out/qsm/sub-z1448271_ses-20231110_acq-wipiswifl3dvibetrythisone_run-01_echo-01_part-phase_MEGRE_scaled_tgvqsmjl_twopass_average_ref.nii', 'out/qsm/sub-z1384048_ses-20231108_acq-wipiswifl3dvibetrythisone_run-01_echo-01_part-phase_MEGRE_scaled_tgvqsmjl_twopass_average_ref.nii', 'out/qsm/sub-z1635498_ses-20240305_acq-wipiswifl3dvibetrythisone_run-01_echo-01_part-phase_MEGRE_scaled_tgvqsmjl_twopass_average_ref.nii', 'out/qsm/sub-z0163277_ses-20240123_acq-wipiswifl3dvibetrythisone_run-01_echo-01_part-phase_MEGRE_scaled_tgvqsmjl_twopass_average_ref.nii', 'out/qsm/sub-z3220308_ses-20231009_acq-wipiswifl3dvibetrythisone_run-01_echo-01_part-phase_MEGRE_scaled_tgvqsmjl_twopass_average_ref.nii', 'out/qsm/sub-z0381949_ses-20231005_acq-wipiswifl3dvibetrythisone_run-01_echo-01_part-phase_MEGRE_scaled_tgvqsmjl_twopass_average_ref.nii', 'out/qsm/sub-z0206923_ses-20231003_acq-wipiswifl3dvibetrythisone_run-01_echo-01_part-phase_MEGRE_scaled_tgvqsmjl_twopass_average_ref.nii', 'out/qsm/sub-z1484547_ses-20240102_acq-wipiswifl3dvibetrythisone_run-01_echo-01_part-phase_MEGRE_scaled_tgvqsmjl_twopass_average_ref.nii', 'out/qsm/sub-z1645782_ses-20231010_acq-wipiswifl3dvibetrythisone_run-01_echo-01_part-phase_MEGRE_scaled_tgvqsmjl_twopass_average_ref.nii', 'out/qsm/sub-z0232771_ses-20240228_acq-wipiswifl3dvibetrythisone_run-01_echo-01_part-phase_MEGRE_scaled_tgvqsmjl_twopass_average_ref.nii', 'out/qsm/sub-z0347933_ses-20240129_acq-wipiswifl3dvibetrythisone_run-01_echo-01_part-phase_MEGRE_scaled_tgvqsmjl_twopass_average_ref.nii', 'out/qsm/sub-z3145629_ses-20231204_acq-wipiswifl3dvibetrythisone_run-01_echo-01_part-phase_MEGRE_scaled_tgvqsmjl_twopass_average_ref.nii', 'out/qsm/sub-z2105112_ses-20231220_acq-wipiswifl3dvibetrythisone_run-01_echo-01_part-phase_MEGRE_scaled_tgvqsmjl_twopass_average_ref.nii', 'out/qsm/sub-z3212665_ses-20240305_acq-wipiswifl3dvibetrythisone_run-01_echo-01_part-phase_MEGRE_scaled_tgvqsmjl_twopass_average_ref.nii', 'out/qsm/sub-z2684925_ses-20240313_acq-wipiswifl3dvibetrythisone_run-01_echo-01_part-phase_MEGRE_scaled_tgvqsmjl_twopass_average_ref.nii', 'out/qsm/sub-z4043512_ses-20240112_acq-wipiswifl3dvibetrythisone_run-01_echo-01_part-phase_MEGRE_scaled_tgvqsmjl_twopass_average_ref.nii', 'out/qsm/sub-z0747844_ses-20240304_acq-wipiswifl3dvibetrythisone_run-01_echo-01_part-phase_MEGRE_scaled_tgvqsmjl_twopass_average_ref.nii', 'out/qsm/sub-z1421134_ses-20231205_acq-wipiswifl3dvibetrythisone_run-01_echo-01_part-phase_MEGRE_scaled_tgvqsmjl_twopass_average_ref.nii', 'out/qsm/sub-z1638396_ses-20240311_acq-wipiswifl3dvibetrythisone_run-01_echo-01_part-phase_MEGRE_scaled_tgvqsmjl_twopass_average_ref.nii', 'out/qsm/sub-z2996397_ses-20231201_acq-wipiswifl3dvibetrythisone_run-01_echo-01_part-phase_MEGRE_scaled_tgvqsmjl_twopass_average_ref.nii', 'out/qsm/sub-z0742379_ses-20240124_acq-wipiswifl3dvibetrythisone_run-01_echo-01_part-phase_MEGRE_scaled_tgvqsmjl_twopass_average_ref.nii']\n",
      "QSM-T1-R2s ['out/qsm/sub-z1318033_ses-20230825_acq-wipiswifl3dvibetrythisone_run-01_echo-01_part-phase_MEGRE_scaled_tgvqsmjl_twopass_average_ref.nii', 'out/qsm/sub-z1691325_ses-20240227_acq-wipiswifl3dvibetrythisone_run-01_echo-01_part-phase_MEGRE_scaled_tgvqsmjl_twopass_average_ref.nii', 'out/qsm/sub-z0002292_ses-20240318_acq-wipiswifl3dvibetrythisone_run-01_echo-01_part-phase_MEGRE_scaled_tgvqsmjl_twopass_average_ref.nii', 'out/qsm/sub-z3268423_ses-20240109_acq-wipiswifl3dvibetrythisone_run-01_echo-01_part-phase_MEGRE_scaled_tgvqsmjl_twopass_average_ref.nii', 'out/qsm/sub-z1448271_ses-20231110_acq-wipiswifl3dvibetrythisone_run-01_echo-01_part-phase_MEGRE_scaled_tgvqsmjl_twopass_average_ref.nii', 'out/qsm/sub-z1384048_ses-20231108_acq-wipiswifl3dvibetrythisone_run-01_echo-01_part-phase_MEGRE_scaled_tgvqsmjl_twopass_average_ref.nii', 'out/qsm/sub-z1635498_ses-20240305_acq-wipiswifl3dvibetrythisone_run-01_echo-01_part-phase_MEGRE_scaled_tgvqsmjl_twopass_average_ref.nii', 'out/qsm/sub-z0163277_ses-20240123_acq-wipiswifl3dvibetrythisone_run-01_echo-01_part-phase_MEGRE_scaled_tgvqsmjl_twopass_average_ref.nii', 'out/qsm/sub-z3220308_ses-20231009_acq-wipiswifl3dvibetrythisone_run-01_echo-01_part-phase_MEGRE_scaled_tgvqsmjl_twopass_average_ref.nii', 'out/qsm/sub-z0381949_ses-20231005_acq-wipiswifl3dvibetrythisone_run-01_echo-01_part-phase_MEGRE_scaled_tgvqsmjl_twopass_average_ref.nii', 'out/qsm/sub-z0206923_ses-20231003_acq-wipiswifl3dvibetrythisone_run-01_echo-01_part-phase_MEGRE_scaled_tgvqsmjl_twopass_average_ref.nii', 'out/qsm/sub-z1484547_ses-20240102_acq-wipiswifl3dvibetrythisone_run-01_echo-01_part-phase_MEGRE_scaled_tgvqsmjl_twopass_average_ref.nii', 'out/qsm/sub-z1645782_ses-20231010_acq-wipiswifl3dvibetrythisone_run-01_echo-01_part-phase_MEGRE_scaled_tgvqsmjl_twopass_average_ref.nii', 'out/qsm/sub-z0232771_ses-20240228_acq-wipiswifl3dvibetrythisone_run-01_echo-01_part-phase_MEGRE_scaled_tgvqsmjl_twopass_average_ref.nii', 'out/qsm/sub-z0347933_ses-20240129_acq-wipiswifl3dvibetrythisone_run-01_echo-01_part-phase_MEGRE_scaled_tgvqsmjl_twopass_average_ref.nii', 'out/qsm/sub-z3145629_ses-20231204_acq-wipiswifl3dvibetrythisone_run-01_echo-01_part-phase_MEGRE_scaled_tgvqsmjl_twopass_average_ref.nii', 'out/qsm/sub-z2105112_ses-20231220_acq-wipiswifl3dvibetrythisone_run-01_echo-01_part-phase_MEGRE_scaled_tgvqsmjl_twopass_average_ref.nii', 'out/qsm/sub-z3212665_ses-20240305_acq-wipiswifl3dvibetrythisone_run-01_echo-01_part-phase_MEGRE_scaled_tgvqsmjl_twopass_average_ref.nii', 'out/qsm/sub-z2684925_ses-20240313_acq-wipiswifl3dvibetrythisone_run-01_echo-01_part-phase_MEGRE_scaled_tgvqsmjl_twopass_average_ref.nii', 'out/qsm/sub-z4043512_ses-20240112_acq-wipiswifl3dvibetrythisone_run-01_echo-01_part-phase_MEGRE_scaled_tgvqsmjl_twopass_average_ref.nii', 'out/qsm/sub-z0747844_ses-20240304_acq-wipiswifl3dvibetrythisone_run-01_echo-01_part-phase_MEGRE_scaled_tgvqsmjl_twopass_average_ref.nii', 'out/qsm/sub-z1421134_ses-20231205_acq-wipiswifl3dvibetrythisone_run-01_echo-01_part-phase_MEGRE_scaled_tgvqsmjl_twopass_average_ref.nii', 'out/qsm/sub-z1638396_ses-20240311_acq-wipiswifl3dvibetrythisone_run-01_echo-01_part-phase_MEGRE_scaled_tgvqsmjl_twopass_average_ref.nii', 'out/qsm/sub-z2996397_ses-20231201_acq-wipiswifl3dvibetrythisone_run-01_echo-01_part-phase_MEGRE_scaled_tgvqsmjl_twopass_average_ref.nii', 'out/qsm/sub-z0742379_ses-20240124_acq-wipiswifl3dvibetrythisone_run-01_echo-01_part-phase_MEGRE_scaled_tgvqsmjl_twopass_average_ref.nii']\n",
      "    QSM-T1 ['out/qsm/sub-z1318033_ses-20230825_acq-wipiswifl3dvibetrythisone_run-01_echo-01_part-phase_MEGRE_scaled_tgvqsmjl_twopass_average_ref.nii', 'out/qsm/sub-z1691325_ses-20240227_acq-wipiswifl3dvibetrythisone_run-01_echo-01_part-phase_MEGRE_scaled_tgvqsmjl_twopass_average_ref.nii', 'out/qsm/sub-z0002292_ses-20240318_acq-wipiswifl3dvibetrythisone_run-01_echo-01_part-phase_MEGRE_scaled_tgvqsmjl_twopass_average_ref.nii', 'out/qsm/sub-z3268423_ses-20240109_acq-wipiswifl3dvibetrythisone_run-01_echo-01_part-phase_MEGRE_scaled_tgvqsmjl_twopass_average_ref.nii', 'out/qsm/sub-z1448271_ses-20231110_acq-wipiswifl3dvibetrythisone_run-01_echo-01_part-phase_MEGRE_scaled_tgvqsmjl_twopass_average_ref.nii', 'out/qsm/sub-z1384048_ses-20231108_acq-wipiswifl3dvibetrythisone_run-01_echo-01_part-phase_MEGRE_scaled_tgvqsmjl_twopass_average_ref.nii', 'out/qsm/sub-z1635498_ses-20240305_acq-wipiswifl3dvibetrythisone_run-01_echo-01_part-phase_MEGRE_scaled_tgvqsmjl_twopass_average_ref.nii', 'out/qsm/sub-z0163277_ses-20240123_acq-wipiswifl3dvibetrythisone_run-01_echo-01_part-phase_MEGRE_scaled_tgvqsmjl_twopass_average_ref.nii', 'out/qsm/sub-z3220308_ses-20231009_acq-wipiswifl3dvibetrythisone_run-01_echo-01_part-phase_MEGRE_scaled_tgvqsmjl_twopass_average_ref.nii', 'out/qsm/sub-z0381949_ses-20231005_acq-wipiswifl3dvibetrythisone_run-01_echo-01_part-phase_MEGRE_scaled_tgvqsmjl_twopass_average_ref.nii', 'out/qsm/sub-z0206923_ses-20231003_acq-wipiswifl3dvibetrythisone_run-01_echo-01_part-phase_MEGRE_scaled_tgvqsmjl_twopass_average_ref.nii', 'out/qsm/sub-z1484547_ses-20240102_acq-wipiswifl3dvibetrythisone_run-01_echo-01_part-phase_MEGRE_scaled_tgvqsmjl_twopass_average_ref.nii', 'out/qsm/sub-z1645782_ses-20231010_acq-wipiswifl3dvibetrythisone_run-01_echo-01_part-phase_MEGRE_scaled_tgvqsmjl_twopass_average_ref.nii', 'out/qsm/sub-z0232771_ses-20240228_acq-wipiswifl3dvibetrythisone_run-01_echo-01_part-phase_MEGRE_scaled_tgvqsmjl_twopass_average_ref.nii', 'out/qsm/sub-z0347933_ses-20240129_acq-wipiswifl3dvibetrythisone_run-01_echo-01_part-phase_MEGRE_scaled_tgvqsmjl_twopass_average_ref.nii', 'out/qsm/sub-z3145629_ses-20231204_acq-wipiswifl3dvibetrythisone_run-01_echo-01_part-phase_MEGRE_scaled_tgvqsmjl_twopass_average_ref.nii', 'out/qsm/sub-z2105112_ses-20231220_acq-wipiswifl3dvibetrythisone_run-01_echo-01_part-phase_MEGRE_scaled_tgvqsmjl_twopass_average_ref.nii', 'out/qsm/sub-z3212665_ses-20240305_acq-wipiswifl3dvibetrythisone_run-01_echo-01_part-phase_MEGRE_scaled_tgvqsmjl_twopass_average_ref.nii', 'out/qsm/sub-z2684925_ses-20240313_acq-wipiswifl3dvibetrythisone_run-01_echo-01_part-phase_MEGRE_scaled_tgvqsmjl_twopass_average_ref.nii', 'out/qsm/sub-z4043512_ses-20240112_acq-wipiswifl3dvibetrythisone_run-01_echo-01_part-phase_MEGRE_scaled_tgvqsmjl_twopass_average_ref.nii', 'out/qsm/sub-z0747844_ses-20240304_acq-wipiswifl3dvibetrythisone_run-01_echo-01_part-phase_MEGRE_scaled_tgvqsmjl_twopass_average_ref.nii', 'out/qsm/sub-z1421134_ses-20231205_acq-wipiswifl3dvibetrythisone_run-01_echo-01_part-phase_MEGRE_scaled_tgvqsmjl_twopass_average_ref.nii', 'out/qsm/sub-z1638396_ses-20240311_acq-wipiswifl3dvibetrythisone_run-01_echo-01_part-phase_MEGRE_scaled_tgvqsmjl_twopass_average_ref.nii', 'out/qsm/sub-z2996397_ses-20231201_acq-wipiswifl3dvibetrythisone_run-01_echo-01_part-phase_MEGRE_scaled_tgvqsmjl_twopass_average_ref.nii', 'out/qsm/sub-z0742379_ses-20240124_acq-wipiswifl3dvibetrythisone_run-01_echo-01_part-phase_MEGRE_scaled_tgvqsmjl_twopass_average_ref.nii']\n",
      "        T1 ['bids/sub-z1318033/ses-20230825/extra_data/sub-z1318033_ses-20230825_acq-t1tragradientseed_run-01_T1w_resliced.nii', 'bids/sub-z1691325/ses-20240227/extra_data/sub-z1691325_ses-20240227_acq-t1tragradientseed_run-01_T1w_resliced.nii', 'bids/sub-z0002292/ses-20240318/extra_data/sub-z0002292_ses-20240318_acq-t1tragradientseed_run-01_T1w_resliced.nii', 'bids/sub-z3268423/ses-20240109/extra_data/sub-z3268423_ses-20240109_acq-t1tragradientseed_run-01_T1w_resliced.nii', 'bids/sub-z1448271/ses-20231110/extra_data/sub-z1448271_ses-20231110_acq-t1tragradientseed_run-01_T1w_resliced.nii', 'bids/sub-z1384048/ses-20231108/extra_data/sub-z1384048_ses-20231108_acq-t1tragradientseed_run-01_T1w_resliced.nii', 'bids/sub-z1635498/ses-20240305/extra_data/sub-z1635498_ses-20240305_acq-t1tragradientseed_run-01_T1w_resliced.nii', 'bids/sub-z0163277/ses-20240123/extra_data/sub-z0163277_ses-20240123_acq-t1tragradientseed_run-01_T1w_resliced.nii', 'bids/sub-z3220308/ses-20231009/extra_data/sub-z3220308_ses-20231009_acq-t1tragradientseed_run-01_T1w_resliced.nii', 'bids/sub-z0381949/ses-20231005/extra_data/sub-z0381949_ses-20231005_acq-t1tragradientseed_run-01_T1w_resliced.nii', 'bids/sub-z0206923/ses-20231003/extra_data/sub-z0206923_ses-20231003_acq-t1tragradientseed_run-01_T1w_resliced.nii', 'bids/sub-z1484547/ses-20240102/extra_data/sub-z1484547_ses-20240102_acq-t1tragradientseed_run-01_T1w_resliced.nii', 'bids/sub-z1645782/ses-20231010/extra_data/sub-z1645782_ses-20231010_acq-t1tragradientseed_run-01_T1w_resliced.nii', 'bids/sub-z0232771/ses-20240228/extra_data/sub-z0232771_ses-20240228_acq-t1tragradientseed_run-01_T1w_resliced.nii', 'bids/sub-z0347933/ses-20240129/extra_data/sub-z0347933_ses-20240129_acq-t1tragradientseed_run-01_T1w_resliced.nii', 'bids/sub-z3145629/ses-20231204/extra_data/sub-z3145629_ses-20231204_acq-t1tragradientseed_run-01_T1w_resliced.nii', 'bids/sub-z2105112/ses-20231220/extra_data/sub-z2105112_ses-20231220_acq-t1tragradientseed_run-01_T1w_resliced.nii', 'bids/sub-z3212665/ses-20240305/extra_data/sub-z3212665_ses-20240305_acq-t1tragradientseed_run-01_T1w_resliced.nii', 'bids/sub-z2684925/ses-20240313/extra_data/sub-z2684925_ses-20240313_acq-t1tragradientseed_run-01_T1w_resliced.nii', 'bids/sub-z4043512/ses-20240112/extra_data/sub-z4043512_ses-20240112_acq-t1tragradientseed_run-01_T1w_resliced.nii', 'bids/sub-z0747844/ses-20240304/extra_data/sub-z0747844_ses-20240304_acq-t1tragradientseed_run-01_T1w_resliced.nii', 'bids/sub-z1421134/ses-20231205/extra_data/sub-z1421134_ses-20231205_acq-t1tragradientseed_run-01_T1w_resliced.nii', 'bids/sub-z1638396/ses-20240311/extra_data/sub-z1638396_ses-20240311_acq-t1tragradientseed_run-01_T1w_resliced.nii', 'bids/sub-z2996397/ses-20231201/extra_data/sub-z2996397_ses-20231201_acq-t1tragradientseed_run-01_T1w_resliced.nii', 'bids/sub-z0742379/ses-20240124/extra_data/sub-z0742379_ses-20240124_acq-t1tragradientseed_run-01_T1w_resliced.nii']\n",
      "       SWI ['out/swi/sub-z1318033_ses-20230825_acq-wipiswifl3dvibetrythisone_run-01_echo-01_part-phase_MEGRE_scaled_swi.nii', 'out/swi/sub-z1691325_ses-20240227_acq-wipiswifl3dvibetrythisone_run-01_echo-01_part-phase_MEGRE_scaled_swi.nii', 'out/swi/sub-z0002292_ses-20240318_acq-wipiswifl3dvibetrythisone_run-01_echo-01_part-phase_MEGRE_scaled_swi.nii', 'out/swi/sub-z3268423_ses-20240109_acq-wipiswifl3dvibetrythisone_run-01_echo-01_part-phase_MEGRE_scaled_swi.nii', 'out/swi/sub-z1448271_ses-20231110_acq-wipiswifl3dvibetrythisone_run-01_echo-01_part-phase_MEGRE_scaled_swi.nii', 'out/swi/sub-z1384048_ses-20231108_acq-wipiswifl3dvibetrythisone_run-01_echo-01_part-phase_MEGRE_scaled_swi.nii', 'out/swi/sub-z1635498_ses-20240305_acq-wipiswifl3dvibetrythisone_run-01_echo-01_part-phase_MEGRE_scaled_swi.nii', 'out/swi/sub-z0163277_ses-20240123_acq-wipiswifl3dvibetrythisone_run-01_echo-01_part-phase_MEGRE_scaled_swi.nii', 'out/swi/sub-z3220308_ses-20231009_acq-wipiswifl3dvibetrythisone_run-01_echo-01_part-phase_MEGRE_scaled_swi.nii', 'out/swi/sub-z0381949_ses-20231005_acq-wipiswifl3dvibetrythisone_run-01_echo-01_part-phase_MEGRE_scaled_swi.nii', 'out/swi/sub-z0206923_ses-20231003_acq-wipiswifl3dvibetrythisone_run-01_echo-01_part-phase_MEGRE_scaled_swi.nii', 'out/swi/sub-z1484547_ses-20240102_acq-wipiswifl3dvibetrythisone_run-01_echo-01_part-phase_MEGRE_scaled_swi.nii', 'out/swi/sub-z1645782_ses-20231010_acq-wipiswifl3dvibetrythisone_run-01_echo-01_part-phase_MEGRE_scaled_swi.nii', 'out/swi/sub-z0232771_ses-20240228_acq-wipiswifl3dvibetrythisone_run-01_echo-01_part-phase_MEGRE_scaled_swi.nii', 'out/swi/sub-z0347933_ses-20240129_acq-wipiswifl3dvibetrythisone_run-01_echo-01_part-phase_MEGRE_scaled_swi.nii', 'out/swi/sub-z3145629_ses-20231204_acq-wipiswifl3dvibetrythisone_run-01_echo-01_part-phase_MEGRE_scaled_swi.nii', 'out/swi/sub-z2105112_ses-20231220_acq-wipiswifl3dvibetrythisone_run-01_echo-01_part-phase_MEGRE_scaled_swi.nii', 'out/swi/sub-z3212665_ses-20240305_acq-wipiswifl3dvibetrythisone_run-01_echo-01_part-phase_MEGRE_scaled_swi.nii', 'out/swi/sub-z2684925_ses-20240313_acq-wipiswifl3dvibetrythisone_run-01_echo-01_part-phase_MEGRE_scaled_swi.nii', 'out/swi/sub-z4043512_ses-20240112_acq-wipiswifl3dvibetrythisone_run-01_echo-01_part-phase_MEGRE_scaled_swi.nii', 'out/swi/sub-z0747844_ses-20240304_acq-wipiswifl3dvibetrythisone_run-01_echo-01_part-phase_MEGRE_scaled_swi.nii', 'out/swi/sub-z1421134_ses-20231205_acq-wipiswifl3dvibetrythisone_run-01_echo-01_part-phase_MEGRE_scaled_swi.nii', 'out/swi/sub-z1638396_ses-20240311_acq-wipiswifl3dvibetrythisone_run-01_echo-01_part-phase_MEGRE_scaled_swi.nii', 'out/swi/sub-z2996397_ses-20231201_acq-wipiswifl3dvibetrythisone_run-01_echo-01_part-phase_MEGRE_scaled_swi.nii', 'out/swi/sub-z0742379_ses-20240124_acq-wipiswifl3dvibetrythisone_run-01_echo-01_part-phase_MEGRE_scaled_swi.nii']\n",
      "       R2s ['out/r2s/sub-z1318033_ses-20230825_acq-wipiswifl3dvibetrythisone_run-01_echo-01_part-mag_MEGRE_r2s.nii', 'out/r2s/sub-z1691325_ses-20240227_acq-wipiswifl3dvibetrythisone_run-01_echo-01_part-mag_MEGRE_r2s.nii', 'out/r2s/sub-z0002292_ses-20240318_acq-wipiswifl3dvibetrythisone_run-01_echo-01_part-mag_MEGRE_r2s.nii', 'out/r2s/sub-z3268423_ses-20240109_acq-wipiswifl3dvibetrythisone_run-01_echo-01_part-mag_MEGRE_r2s.nii', 'out/r2s/sub-z1448271_ses-20231110_acq-wipiswifl3dvibetrythisone_run-01_echo-01_part-mag_MEGRE_r2s.nii', 'out/r2s/sub-z1384048_ses-20231108_acq-wipiswifl3dvibetrythisone_run-01_echo-01_part-mag_MEGRE_r2s.nii', 'out/r2s/sub-z1635498_ses-20240305_acq-wipiswifl3dvibetrythisone_run-01_echo-01_part-mag_MEGRE_r2s.nii', 'out/r2s/sub-z0163277_ses-20240123_acq-wipiswifl3dvibetrythisone_run-01_echo-01_part-mag_MEGRE_r2s.nii', 'out/r2s/sub-z3220308_ses-20231009_acq-wipiswifl3dvibetrythisone_run-01_echo-01_part-mag_MEGRE_r2s.nii', 'out/r2s/sub-z0381949_ses-20231005_acq-wipiswifl3dvibetrythisone_run-01_echo-01_part-mag_MEGRE_r2s.nii', 'out/r2s/sub-z0206923_ses-20231003_acq-wipiswifl3dvibetrythisone_run-01_echo-01_part-mag_MEGRE_r2s.nii', 'out/r2s/sub-z1484547_ses-20240102_acq-wipiswifl3dvibetrythisone_run-01_echo-01_part-mag_MEGRE_r2s.nii', 'out/r2s/sub-z1645782_ses-20231010_acq-wipiswifl3dvibetrythisone_run-01_echo-01_part-mag_MEGRE_r2s.nii', 'out/r2s/sub-z0232771_ses-20240228_acq-wipiswifl3dvibetrythisone_run-01_echo-01_part-mag_MEGRE_r2s.nii', 'out/r2s/sub-z0347933_ses-20240129_acq-wipiswifl3dvibetrythisone_run-01_echo-01_part-mag_MEGRE_r2s.nii', 'out/r2s/sub-z3145629_ses-20231204_acq-wipiswifl3dvibetrythisone_run-01_echo-01_part-mag_MEGRE_r2s.nii', 'out/r2s/sub-z2105112_ses-20231220_acq-wipiswifl3dvibetrythisone_run-01_echo-01_part-mag_MEGRE_r2s.nii', 'out/r2s/sub-z3212665_ses-20240305_acq-wipiswifl3dvibetrythisone_run-01_echo-01_part-mag_MEGRE_r2s.nii', 'out/r2s/sub-z2684925_ses-20240313_acq-wipiswifl3dvibetrythisone_run-01_echo-01_part-mag_MEGRE_r2s.nii', 'out/r2s/sub-z4043512_ses-20240112_acq-wipiswifl3dvibetrythisone_run-01_echo-01_part-mag_MEGRE_r2s.nii', 'out/r2s/sub-z0747844_ses-20240304_acq-wipiswifl3dvibetrythisone_run-01_echo-01_part-mag_MEGRE_r2s.nii', 'out/r2s/sub-z1421134_ses-20231205_acq-wipiswifl3dvibetrythisone_run-01_echo-01_part-mag_MEGRE_r2s.nii', 'out/r2s/sub-z1638396_ses-20240311_acq-wipiswifl3dvibetrythisone_run-01_echo-01_part-mag_MEGRE_r2s.nii', 'out/r2s/sub-z2996397_ses-20231201_acq-wipiswifl3dvibetrythisone_run-01_echo-01_part-mag_MEGRE_r2s.nii', 'out/r2s/sub-z0742379_ses-20240124_acq-wipiswifl3dvibetrythisone_run-01_echo-01_part-mag_MEGRE_r2s.nii']\n",
      "       GRE ['bids/sub-z1318033/ses-20230825/extra_data/magnitude_combined.nii', 'bids/sub-z1691325/ses-20240227/extra_data/magnitude_combined.nii', 'bids/sub-z0002292/ses-20240318/extra_data/magnitude_combined.nii', 'bids/sub-z3268423/ses-20240109/extra_data/magnitude_combined.nii', 'bids/sub-z1448271/ses-20231110/extra_data/magnitude_combined.nii', 'bids/sub-z1384048/ses-20231108/extra_data/magnitude_combined.nii', 'bids/sub-z1635498/ses-20240305/extra_data/magnitude_combined.nii', 'bids/sub-z0163277/ses-20240123/extra_data/magnitude_combined.nii', 'bids/sub-z3220308/ses-20231009/extra_data/magnitude_combined.nii', 'bids/sub-z0381949/ses-20231005/extra_data/magnitude_combined.nii', 'bids/sub-z0206923/ses-20231003/extra_data/magnitude_combined.nii', 'bids/sub-z1484547/ses-20240102/extra_data/magnitude_combined.nii', 'bids/sub-z1645782/ses-20231010/extra_data/magnitude_combined.nii', 'bids/sub-z0232771/ses-20240228/extra_data/magnitude_combined.nii', 'bids/sub-z0347933/ses-20240129/extra_data/magnitude_combined.nii', 'bids/sub-z3145629/ses-20231204/extra_data/magnitude_combined.nii', 'bids/sub-z2105112/ses-20231220/extra_data/magnitude_combined.nii', 'bids/sub-z3212665/ses-20240305/extra_data/magnitude_combined.nii', 'bids/sub-z2684925/ses-20240313/extra_data/magnitude_combined.nii', 'bids/sub-z4043512/ses-20240112/extra_data/magnitude_combined.nii', 'bids/sub-z0747844/ses-20240304/extra_data/magnitude_combined.nii', 'bids/sub-z1421134/ses-20231205/extra_data/magnitude_combined.nii', 'bids/sub-z1638396/ses-20240311/extra_data/magnitude_combined.nii', 'bids/sub-z2996397/ses-20231201/extra_data/magnitude_combined.nii', 'bids/sub-z0742379/ses-20240124/extra_data/magnitude_combined.nii']\n",
      "  QSM-FMAP ['out/qsm/sub-z1318033_ses-20230825_acq-wipiswifl3dvibetrythisone_run-01_echo-01_part-phase_MEGRE_scaled_tgvqsmjl_twopass_average_ref.nii', 'out/qsm/sub-z1691325_ses-20240227_acq-wipiswifl3dvibetrythisone_run-01_echo-01_part-phase_MEGRE_scaled_tgvqsmjl_twopass_average_ref.nii', 'out/qsm/sub-z0002292_ses-20240318_acq-wipiswifl3dvibetrythisone_run-01_echo-01_part-phase_MEGRE_scaled_tgvqsmjl_twopass_average_ref.nii', 'out/qsm/sub-z3268423_ses-20240109_acq-wipiswifl3dvibetrythisone_run-01_echo-01_part-phase_MEGRE_scaled_tgvqsmjl_twopass_average_ref.nii', 'out/qsm/sub-z1448271_ses-20231110_acq-wipiswifl3dvibetrythisone_run-01_echo-01_part-phase_MEGRE_scaled_tgvqsmjl_twopass_average_ref.nii', 'out/qsm/sub-z1384048_ses-20231108_acq-wipiswifl3dvibetrythisone_run-01_echo-01_part-phase_MEGRE_scaled_tgvqsmjl_twopass_average_ref.nii', 'out/qsm/sub-z1635498_ses-20240305_acq-wipiswifl3dvibetrythisone_run-01_echo-01_part-phase_MEGRE_scaled_tgvqsmjl_twopass_average_ref.nii', 'out/qsm/sub-z0163277_ses-20240123_acq-wipiswifl3dvibetrythisone_run-01_echo-01_part-phase_MEGRE_scaled_tgvqsmjl_twopass_average_ref.nii', 'out/qsm/sub-z3220308_ses-20231009_acq-wipiswifl3dvibetrythisone_run-01_echo-01_part-phase_MEGRE_scaled_tgvqsmjl_twopass_average_ref.nii', 'out/qsm/sub-z0381949_ses-20231005_acq-wipiswifl3dvibetrythisone_run-01_echo-01_part-phase_MEGRE_scaled_tgvqsmjl_twopass_average_ref.nii', 'out/qsm/sub-z0206923_ses-20231003_acq-wipiswifl3dvibetrythisone_run-01_echo-01_part-phase_MEGRE_scaled_tgvqsmjl_twopass_average_ref.nii', 'out/qsm/sub-z1484547_ses-20240102_acq-wipiswifl3dvibetrythisone_run-01_echo-01_part-phase_MEGRE_scaled_tgvqsmjl_twopass_average_ref.nii', 'out/qsm/sub-z1645782_ses-20231010_acq-wipiswifl3dvibetrythisone_run-01_echo-01_part-phase_MEGRE_scaled_tgvqsmjl_twopass_average_ref.nii', 'out/qsm/sub-z0232771_ses-20240228_acq-wipiswifl3dvibetrythisone_run-01_echo-01_part-phase_MEGRE_scaled_tgvqsmjl_twopass_average_ref.nii', 'out/qsm/sub-z0347933_ses-20240129_acq-wipiswifl3dvibetrythisone_run-01_echo-01_part-phase_MEGRE_scaled_tgvqsmjl_twopass_average_ref.nii', 'out/qsm/sub-z3145629_ses-20231204_acq-wipiswifl3dvibetrythisone_run-01_echo-01_part-phase_MEGRE_scaled_tgvqsmjl_twopass_average_ref.nii', 'out/qsm/sub-z2105112_ses-20231220_acq-wipiswifl3dvibetrythisone_run-01_echo-01_part-phase_MEGRE_scaled_tgvqsmjl_twopass_average_ref.nii', 'out/qsm/sub-z3212665_ses-20240305_acq-wipiswifl3dvibetrythisone_run-01_echo-01_part-phase_MEGRE_scaled_tgvqsmjl_twopass_average_ref.nii', 'out/qsm/sub-z2684925_ses-20240313_acq-wipiswifl3dvibetrythisone_run-01_echo-01_part-phase_MEGRE_scaled_tgvqsmjl_twopass_average_ref.nii', 'out/qsm/sub-z4043512_ses-20240112_acq-wipiswifl3dvibetrythisone_run-01_echo-01_part-phase_MEGRE_scaled_tgvqsmjl_twopass_average_ref.nii', 'out/qsm/sub-z0747844_ses-20240304_acq-wipiswifl3dvibetrythisone_run-01_echo-01_part-phase_MEGRE_scaled_tgvqsmjl_twopass_average_ref.nii', 'out/qsm/sub-z1421134_ses-20231205_acq-wipiswifl3dvibetrythisone_run-01_echo-01_part-phase_MEGRE_scaled_tgvqsmjl_twopass_average_ref.nii', 'out/qsm/sub-z1638396_ses-20240311_acq-wipiswifl3dvibetrythisone_run-01_echo-01_part-phase_MEGRE_scaled_tgvqsmjl_twopass_average_ref.nii', 'out/qsm/sub-z2996397_ses-20231201_acq-wipiswifl3dvibetrythisone_run-01_echo-01_part-phase_MEGRE_scaled_tgvqsmjl_twopass_average_ref.nii', 'out/qsm/sub-z0742379_ses-20240124_acq-wipiswifl3dvibetrythisone_run-01_echo-01_part-phase_MEGRE_scaled_tgvqsmjl_twopass_average_ref.nii']\n",
      "      FMAP ['bids/sub-z1318033/ses-20230825/extra_data/B0.nii', 'bids/sub-z1691325/ses-20240227/extra_data/B0.nii', 'bids/sub-z0002292/ses-20240318/extra_data/B0.nii', 'bids/sub-z3268423/ses-20240109/extra_data/B0.nii', 'bids/sub-z1448271/ses-20231110/extra_data/B0.nii', 'bids/sub-z1384048/ses-20231108/extra_data/B0.nii', 'bids/sub-z1635498/ses-20240305/extra_data/B0.nii', 'bids/sub-z0163277/ses-20240123/extra_data/B0.nii', 'bids/sub-z3220308/ses-20231009/extra_data/B0.nii', 'bids/sub-z0381949/ses-20231005/extra_data/B0.nii', 'bids/sub-z0206923/ses-20231003/extra_data/B0.nii', 'bids/sub-z1484547/ses-20240102/extra_data/B0.nii', 'bids/sub-z1645782/ses-20231010/extra_data/B0.nii', 'bids/sub-z0232771/ses-20240228/extra_data/B0.nii', 'bids/sub-z0347933/ses-20240129/extra_data/B0.nii', 'bids/sub-z3145629/ses-20231204/extra_data/B0.nii', 'bids/sub-z2105112/ses-20231220/extra_data/B0.nii', 'bids/sub-z3212665/ses-20240305/extra_data/B0.nii', 'bids/sub-z2684925/ses-20240313/extra_data/B0.nii', 'bids/sub-z4043512/ses-20240112/extra_data/B0.nii', 'bids/sub-z0747844/ses-20240304/extra_data/B0.nii', 'bids/sub-z1421134/ses-20231205/extra_data/B0.nii', 'bids/sub-z1638396/ses-20240311/extra_data/B0.nii', 'bids/sub-z2996397/ses-20231201/extra_data/B0.nii', 'bids/sub-z0742379/ses-20240124/extra_data/B0.nii']\n"
     ]
    }
   ],
   "source": [
    "for model, in_file in model_in_files.items():\n",
    "    print(f\"{model.rjust(10)}\", in_file)"
   ]
  },
  {
   "cell_type": "code",
   "execution_count": 11,
   "metadata": {},
   "outputs": [
    {
     "name": "stdout",
     "output_type": "stream",
     "text": [
      "        CT [3, 3, 3, 3, 3, 3, 3, 3, 3, 3, 3, 3, 2, 3, 3, 3, 3, 3, 3, 3, 3, 3, 3, 3, 3]\n",
      "       QSM [3, 2, 3, 3, 2, 3, 3, 3, 3, 3, 3, 3, 2, 3, 2, 2, 3, 3, 3, 3, 2, 3, 3, 3, 2]\n",
      "   QSM-SWI [3, 2, 3, 3, 2, 3, 3, 3, 3, 3, 3, 3, 2, 3, 3, 3, 3, 3, 3, 3, 2, 3, 3, 3, 2]\n",
      "QSM-T1-R2s [3, 3, 3, 3, 2, 3, 3, 3, 3, 3, 3, 3, 2, 3, 3, 2, 3, 3, 3, 3, 3, 3, 3, 3, 3]\n",
      "    QSM-T1 [3, 2, 3, 3, 2, 3, 3, 3, 3, 3, 3, 3, 2, 3, 3, 3, 3, 3, 3, 3, 3, 3, 3, 3, 2]\n",
      "        T1 [3, 3, 3, 3, 3, 3, 3, 3, 3, 3, 3, 3, 2, 2, 3, 3, 3, 3, 3, 2, 1, 3, 3, 3, 2]\n",
      "       SWI [3, 3, 3, 3, 2, 3, 3, 3, 3, 3, 3, 3, 2, 3, 3, 2, 3, 3, 3, 3, 2, 3, 3, 3, 3]\n",
      "       R2s [3, 3, 3, 3, 2, 3, 3, 3, 3, 3, 2, 3, 2, 3, 3, 3, 3, 3, 3, 2, 2, 3, 3, 3, 3]\n",
      "       GRE [3, 3, 3, 3, 2, 3, 3, 3, 3, 3, 3, 3, 2, 3, 3, 3, 3, 3, 3, 3, 3, 3, 3, 3, 3]\n",
      "  QSM-FMAP [0, 4, 3, 3, 2, 3, 3, 3, 3, 2, 3, 3, 2, 3, 3, 2, 3, 3, 3, 3, 3, 3, 3, 3, 3]\n",
      "      FMAP [0, 3, 3, 3, 2, 3, 3, 3, 3, 0, 3, 3, 2, 2, 3, 2, 3, 3, 3, 3, 2, 2, 3, 3, 3]\n"
     ]
    }
   ],
   "source": [
    "for model, tps in model_tps.items():\n",
    "    print(f\"{model.rjust(10)}\", tps)"
   ]
  },
  {
   "cell_type": "code",
   "execution_count": 12,
   "metadata": {},
   "outputs": [
    {
     "name": "stdout",
     "output_type": "stream",
     "text": [
      "        CT [0, 0, 0, 0, 0, 0, 0, 0, 0, 0, 0, 0, 0, 0, 0, 0, 0, 0, 0, 0, 0, 0, 0, 0, 0]\n",
      "       QSM [0, 1, 0, 0, 1, 0, 0, 0, 0, 0, 0, 0, 0, 0, 1, 1, 0, 0, 0, 0, 1, 0, 0, 0, 1]\n",
      "   QSM-SWI [0, 1, 0, 0, 1, 0, 0, 0, 0, 0, 0, 0, 0, 0, 0, 0, 0, 0, 0, 0, 1, 0, 0, 0, 1]\n",
      "QSM-T1-R2s [0, 0, 0, 0, 1, 0, 0, 0, 0, 0, 0, 0, 0, 0, 0, 1, 0, 0, 0, 0, 0, 0, 0, 0, 0]\n",
      "    QSM-T1 [0, 1, 0, 0, 1, 0, 0, 0, 0, 0, 0, 0, 0, 0, 0, 0, 0, 0, 0, 0, 0, 0, 0, 0, 1]\n",
      "        T1 [0, 0, 0, 0, 0, 0, 0, 0, 0, 0, 0, 0, 0, 1, 0, 0, 0, 0, 0, 1, 2, 0, 0, 0, 1]\n",
      "       SWI [0, 0, 0, 0, 1, 0, 0, 0, 0, 0, 0, 0, 0, 0, 0, 1, 0, 0, 0, 0, 1, 0, 0, 0, 0]\n",
      "       R2s [0, 0, 0, 0, 1, 0, 0, 0, 0, 0, 1, 0, 0, 0, 0, 0, 0, 0, 0, 1, 1, 0, 0, 0, 0]\n",
      "       GRE [0, 0, 0, 0, 1, 0, 0, 0, 0, 0, 0, 0, 0, 0, 0, 0, 0, 0, 0, 0, 0, 0, 0, 0, 0]\n",
      "  QSM-FMAP [3, -1, 0, 0, 1, 0, 0, 0, 0, 1, 0, 0, 0, 0, 0, 1, 0, 0, 0, 0, 0, 0, 0, 0, 0]\n",
      "      FMAP [3, 0, 0, 0, 1, 0, 0, 0, 0, 3, 0, 0, 0, 1, 0, 1, 0, 0, 0, 0, 1, 1, 0, 0, 0]\n"
     ]
    }
   ],
   "source": [
    "for model, fns in model_fns.items():\n",
    "    print(f\"{model.rjust(10)}\", fns)"
   ]
  },
  {
   "cell_type": "code",
   "execution_count": 13,
   "metadata": {},
   "outputs": [
    {
     "name": "stdout",
     "output_type": "stream",
     "text": [
      "        CT [0, 0, 0, 1, 0, 0, 0, 0, 0, 0, 0, 0, 0, 0, 0, 0, 0, 0, 0, 0, 0, 0, 0, 0, 0]\n",
      "       QSM [1, 0, 0, 0, 1, 0, 0, 1, 0, 1, 1, 4, 0, 1, 2, 0, 0, 2, 1, 1, 0, 0, 3, 1, 1]\n",
      "   QSM-SWI [0, 1, 4, 0, 1, 0, 0, 0, 0, 1, 0, 2, 0, 0, 1, 1, 0, 1, 1, 0, 0, 0, 2, 0, 1]\n",
      "QSM-T1-R2s [1, 1, 0, 1, 1, 1, 1, 0, 0, 2, 0, 2, 1, 0, 0, 0, 0, 1, 1, 1, 2, 0, 3, 1, 3]\n",
      "    QSM-T1 [0, 0, 0, 3, 1, 0, 0, 0, 0, 1, 1, 4, 0, 1, 1, 0, 0, 2, 0, 1, 2, 0, 3, 1, 1]\n",
      "        T1 [0, 0, 0, 0, 1, 0, 0, 0, 0, 1, 0, 1, 0, 1, 1, 0, 0, 1, 0, 1, 0, 0, 3, 1, 2]\n",
      "       SWI [0, 1, 1, 1, 1, 0, 1, 0, 0, 4, 0, 1, 0, 2, 0, 0, 0, 0, 0, 0, 0, 0, 2, 0, 4]\n",
      "       R2s [0, 0, 0, 0, 0, 0, 1, 3, 0, 2, 0, 3, 0, 0, 0, 1, 0, 2, 0, 0, 0, 0, 1, 2, 1]\n",
      "       GRE [0, 0, 0, 1, 1, 0, 0, 0, 0, 2, 1, 3, 0, 0, 0, 0, 0, 1, 0, 0, 1, 0, 1, 1, 2]\n",
      "  QSM-FMAP [1, 80, 61, 2, 1, 0, 0, 1, 0, 1, 0, 2, 1, 0, 0, 0, 0, 1, 0, 0, 3, 0, 0, 1, 1]\n",
      "      FMAP [1, 0, 0, 0, 0, 0, 0, 0, 1, 1, 1, 1, 0, 0, 0, 0, 0, 1, 1, 0, 0, 0, 0, 1, 3]\n"
     ]
    }
   ],
   "source": [
    "for model, fps in model_fps.items():\n",
    "    print(f\"{model.rjust(10)}\", fps)"
   ]
  },
  {
   "cell_type": "code",
   "execution_count": 14,
   "metadata": {},
   "outputs": [
    {
     "name": "stdout",
     "output_type": "stream",
     "text": [
      "        CT [0, 0, 0, 1, 0, 0, 0, 0, 0, 0, 0, 0, 0, 0, 0, 0, 0, 0, 0, 0, 0, 0, 0, 0, 0]\n",
      "       QSM [0, 0, 0, 0, 1, 0, 0, 0, 0, 1, 0, 1, 0, 0, 0, 0, 0, 1, 1, 1, 0, 0, 0, 0, 0]\n",
      "   QSM-SWI [0, 0, 0, 0, 1, 0, 0, 0, 0, 1, 0, 1, 0, 0, 0, 0, 0, 1, 1, 0, 0, 0, 0, 0, 0]\n",
      "QSM-T1-R2s [0, 0, 0, 0, 0, 0, 0, 0, 0, 1, 0, 1, 0, 0, 0, 0, 0, 1, 1, 0, 0, 0, 0, 0, 0]\n",
      "    QSM-T1 [0, 0, 0, 2, 1, 0, 0, 0, 0, 1, 0, 1, 0, 0, 0, 0, 0, 1, 0, 1, 0, 0, 0, 0, 0]\n",
      "        T1 [0, 0, 0, 0, 1, 0, 0, 0, 0, 1, 0, 1, 0, 0, 0, 0, 0, 1, 0, 0, 0, 0, 0, 0, 0]\n",
      "       SWI [0, 0, 1, 1, 1, 0, 0, 0, 0, 1, 0, 1, 0, 0, 0, 0, 0, 0, 0, 0, 0, 0, 0, 0, 0]\n",
      "       R2s [0, 0, 0, 0, 0, 0, 0, 0, 0, 1, 0, 1, 0, 0, 0, 0, 0, 1, 0, 0, 0, 0, 0, 0, 0]\n",
      "       GRE [0, 0, 0, 0, 1, 0, 0, 0, 0, 1, 0, 1, 0, 0, 0, 0, 0, 1, 0, 0, 0, 0, 0, 0, 0]\n",
      "  QSM-FMAP [0, 0, 0, 1, 1, 0, 0, 0, 0, 1, 0, 1, 0, 0, 0, 0, 0, 1, 0, 0, 0, 0, 0, 0, 0]\n",
      "      FMAP [0, 0, 0, 0, 0, 0, 0, 0, 0, 0, 0, 1, 0, 0, 0, 0, 0, 1, 0, 0, 0, 0, 0, 0, 0]\n"
     ]
    }
   ],
   "source": [
    "for model, fps_markers_as_calcs in model_fps_markers_as_calcs.items():\n",
    "    print(f\"{model.rjust(10)}\", fps_markers_as_calcs)"
   ]
  },
  {
   "cell_type": "code",
   "execution_count": 10,
   "metadata": {},
   "outputs": [
    {
     "data": {
      "text/html": [
       "<div>\n",
       "<style scoped>\n",
       "    .dataframe tbody tr th:only-of-type {\n",
       "        vertical-align: middle;\n",
       "    }\n",
       "\n",
       "    .dataframe tbody tr th {\n",
       "        vertical-align: top;\n",
       "    }\n",
       "\n",
       "    .dataframe thead th {\n",
       "        text-align: right;\n",
       "    }\n",
       "</style>\n",
       "<table border=\"1\" class=\"dataframe\">\n",
       "  <thead>\n",
       "    <tr style=\"text-align: right;\">\n",
       "      <th></th>\n",
       "      <th>Total markers</th>\n",
       "      <th>True positives</th>\n",
       "      <th>False negatives (missed)</th>\n",
       "      <th>False positive (extras)</th>\n",
       "      <th>False positive (extras) &amp; Calcification</th>\n",
       "    </tr>\n",
       "  </thead>\n",
       "  <tbody>\n",
       "    <tr>\n",
       "      <th>CT</th>\n",
       "      <td>74</td>\n",
       "      <td>74</td>\n",
       "      <td>0</td>\n",
       "      <td>0</td>\n",
       "      <td>0</td>\n",
       "    </tr>\n",
       "    <tr>\n",
       "      <th>GRE</th>\n",
       "      <td>74</td>\n",
       "      <td>70</td>\n",
       "      <td>4</td>\n",
       "      <td>4</td>\n",
       "      <td>3</td>\n",
       "    </tr>\n",
       "    <tr>\n",
       "      <th>R2s</th>\n",
       "      <td>74</td>\n",
       "      <td>70</td>\n",
       "      <td>4</td>\n",
       "      <td>0</td>\n",
       "      <td>0</td>\n",
       "    </tr>\n",
       "    <tr>\n",
       "      <th>SWI</th>\n",
       "      <td>74</td>\n",
       "      <td>69</td>\n",
       "      <td>5</td>\n",
       "      <td>3</td>\n",
       "      <td>2</td>\n",
       "    </tr>\n",
       "    <tr>\n",
       "      <th>T1</th>\n",
       "      <td>74</td>\n",
       "      <td>69</td>\n",
       "      <td>5</td>\n",
       "      <td>3</td>\n",
       "      <td>0</td>\n",
       "    </tr>\n",
       "    <tr>\n",
       "      <th>QSM</th>\n",
       "      <td>74</td>\n",
       "      <td>66</td>\n",
       "      <td>8</td>\n",
       "      <td>5</td>\n",
       "      <td>3</td>\n",
       "    </tr>\n",
       "    <tr>\n",
       "      <th>FMAP</th>\n",
       "      <td>74</td>\n",
       "      <td>62</td>\n",
       "      <td>12</td>\n",
       "      <td>3</td>\n",
       "      <td>0</td>\n",
       "    </tr>\n",
       "  </tbody>\n",
       "</table>\n",
       "</div>"
      ],
      "text/plain": [
       "      Total markers  True positives  False negatives (missed)  \\\n",
       "CT               74              74                         0   \n",
       "GRE              74              70                         4   \n",
       "R2s              74              70                         4   \n",
       "SWI              74              69                         5   \n",
       "T1               74              69                         5   \n",
       "QSM              74              66                         8   \n",
       "FMAP             74              62                        12   \n",
       "\n",
       "      False positive (extras)  False positive (extras) & Calcification  \n",
       "CT                          0                                        0  \n",
       "GRE                         4                                        3  \n",
       "R2s                         0                                        0  \n",
       "SWI                         3                                        2  \n",
       "T1                          3                                        0  \n",
       "QSM                         5                                        3  \n",
       "FMAP                        3                                        0  "
      ]
     },
     "execution_count": 10,
     "metadata": {},
     "output_type": "execute_result"
    }
   ],
   "source": [
    "exclude_models = {\"QSM-T1-R2s\", \"QSM-T1\", \"QSM-SWI\", \"QSM-FMAP\"}\n",
    "summary = {}\n",
    "\n",
    "for model in model_tps.keys():\n",
    "    if model in exclude_models:\n",
    "        continue\n",
    "    summary[model] = {\n",
    "        \"Total markers\": np.sum(model_tps[model]) + np.sum(model_fns[model]),\n",
    "        \"True positives\": np.sum(model_tps[model]),\n",
    "        \"False negatives (missed)\": np.sum(model_fns[model]),\n",
    "        \"False positive (extras)\": np.sum(model_fps[model]),\n",
    "        \"False positive (extras) & Calcification\": np.sum(model_fps_markers_as_calcs[model])\n",
    "    }\n",
    "\n",
    "df_summary = pd.DataFrame.from_dict(summary, orient='index')\n",
    "df_summary = df_summary.sort_values(list(df_summary.columns), ascending=False)\n",
    "df_summary\n"
   ]
  },
  {
   "cell_type": "code",
   "execution_count": null,
   "metadata": {},
   "outputs": [],
   "source": []
  },
  {
   "cell_type": "code",
   "execution_count": 11,
   "metadata": {},
   "outputs": [
    {
     "data": {
      "text/html": [
       "<div>\n",
       "<style scoped>\n",
       "    .dataframe tbody tr th:only-of-type {\n",
       "        vertical-align: middle;\n",
       "    }\n",
       "\n",
       "    .dataframe tbody tr th {\n",
       "        vertical-align: top;\n",
       "    }\n",
       "\n",
       "    .dataframe thead th {\n",
       "        text-align: right;\n",
       "    }\n",
       "</style>\n",
       "<table border=\"1\" class=\"dataframe\">\n",
       "  <thead>\n",
       "    <tr style=\"text-align: right;\">\n",
       "      <th></th>\n",
       "      <th>Model</th>\n",
       "      <th>File</th>\n",
       "      <th>Subject</th>\n",
       "      <th>TPs</th>\n",
       "      <th>FNs</th>\n",
       "      <th>FPs</th>\n",
       "      <th>FPs_Markers_as_Calcs</th>\n",
       "    </tr>\n",
       "  </thead>\n",
       "  <tbody>\n",
       "    <tr>\n",
       "      <th>0</th>\n",
       "      <td>CT</td>\n",
       "      <td>bids/sub-z1318033/ses-20230825/extra_data/series-3_NA_20230825101546_3_resliced.nii</td>\n",
       "      <td>sub-z1318033</td>\n",
       "      <td>3</td>\n",
       "      <td>0</td>\n",
       "      <td>0</td>\n",
       "      <td>0</td>\n",
       "    </tr>\n",
       "    <tr>\n",
       "      <th>1</th>\n",
       "      <td>CT</td>\n",
       "      <td>bids/sub-z1691325/ses-20240227/extra_data/series-5_16_Pelvis_16_Pelvis_20240227101660_5_resliced.nii</td>\n",
       "      <td>sub-z1691325</td>\n",
       "      <td>3</td>\n",
       "      <td>0</td>\n",
       "      <td>0</td>\n",
       "      <td>0</td>\n",
       "    </tr>\n",
       "    <tr>\n",
       "      <th>2</th>\n",
       "      <td>CT</td>\n",
       "      <td>bids/sub-z0002292/ses-20240318/extra_data/series-6_16_Pelvis_16_Pelvis_20240318092750_6_resliced.nii</td>\n",
       "      <td>sub-z0002292</td>\n",
       "      <td>3</td>\n",
       "      <td>0</td>\n",
       "      <td>0</td>\n",
       "      <td>0</td>\n",
       "    </tr>\n",
       "    <tr>\n",
       "      <th>3</th>\n",
       "      <td>CT</td>\n",
       "      <td>bids/sub-z3268423/ses-20240109/extra_data/series-5_16_Pelvis_16_Pelvis_20240109090856_5_resliced.nii</td>\n",
       "      <td>sub-z3268423</td>\n",
       "      <td>3</td>\n",
       "      <td>0</td>\n",
       "      <td>0</td>\n",
       "      <td>0</td>\n",
       "    </tr>\n",
       "    <tr>\n",
       "      <th>4</th>\n",
       "      <td>CT</td>\n",
       "      <td>bids/sub-z1448271/ses-20231110/extra_data/series-5_16_Pelvis_16_Pelvis_20231110085011_5_resliced.nii</td>\n",
       "      <td>sub-z1448271</td>\n",
       "      <td>3</td>\n",
       "      <td>0</td>\n",
       "      <td>0</td>\n",
       "      <td>0</td>\n",
       "    </tr>\n",
       "    <tr>\n",
       "      <th>...</th>\n",
       "      <td>...</td>\n",
       "      <td>...</td>\n",
       "      <td>...</td>\n",
       "      <td>...</td>\n",
       "      <td>...</td>\n",
       "      <td>...</td>\n",
       "      <td>...</td>\n",
       "    </tr>\n",
       "    <tr>\n",
       "      <th>270</th>\n",
       "      <td>FMAP</td>\n",
       "      <td>bids/sub-z0747844/ses-20240304/extra_data/B0.nii</td>\n",
       "      <td>sub-z0747844</td>\n",
       "      <td>2</td>\n",
       "      <td>1</td>\n",
       "      <td>0</td>\n",
       "      <td>0</td>\n",
       "    </tr>\n",
       "    <tr>\n",
       "      <th>271</th>\n",
       "      <td>FMAP</td>\n",
       "      <td>bids/sub-z1421134/ses-20231205/extra_data/B0.nii</td>\n",
       "      <td>sub-z1421134</td>\n",
       "      <td>2</td>\n",
       "      <td>1</td>\n",
       "      <td>0</td>\n",
       "      <td>0</td>\n",
       "    </tr>\n",
       "    <tr>\n",
       "      <th>272</th>\n",
       "      <td>FMAP</td>\n",
       "      <td>bids/sub-z1638396/ses-20240311/extra_data/B0.nii</td>\n",
       "      <td>sub-z1638396</td>\n",
       "      <td>3</td>\n",
       "      <td>0</td>\n",
       "      <td>0</td>\n",
       "      <td>0</td>\n",
       "    </tr>\n",
       "    <tr>\n",
       "      <th>273</th>\n",
       "      <td>FMAP</td>\n",
       "      <td>bids/sub-z2996397/ses-20231201/extra_data/B0.nii</td>\n",
       "      <td>sub-z2996397</td>\n",
       "      <td>3</td>\n",
       "      <td>0</td>\n",
       "      <td>0</td>\n",
       "      <td>0</td>\n",
       "    </tr>\n",
       "    <tr>\n",
       "      <th>274</th>\n",
       "      <td>FMAP</td>\n",
       "      <td>bids/sub-z0742379/ses-20240124/extra_data/B0.nii</td>\n",
       "      <td>sub-z0742379</td>\n",
       "      <td>2</td>\n",
       "      <td>1</td>\n",
       "      <td>1</td>\n",
       "      <td>0</td>\n",
       "    </tr>\n",
       "  </tbody>\n",
       "</table>\n",
       "<p>275 rows × 7 columns</p>\n",
       "</div>"
      ],
      "text/plain": [
       "    Model  \\\n",
       "0      CT   \n",
       "1      CT   \n",
       "2      CT   \n",
       "3      CT   \n",
       "4      CT   \n",
       "..    ...   \n",
       "270  FMAP   \n",
       "271  FMAP   \n",
       "272  FMAP   \n",
       "273  FMAP   \n",
       "274  FMAP   \n",
       "\n",
       "                                                                                                     File  \\\n",
       "0                     bids/sub-z1318033/ses-20230825/extra_data/series-3_NA_20230825101546_3_resliced.nii   \n",
       "1    bids/sub-z1691325/ses-20240227/extra_data/series-5_16_Pelvis_16_Pelvis_20240227101660_5_resliced.nii   \n",
       "2    bids/sub-z0002292/ses-20240318/extra_data/series-6_16_Pelvis_16_Pelvis_20240318092750_6_resliced.nii   \n",
       "3    bids/sub-z3268423/ses-20240109/extra_data/series-5_16_Pelvis_16_Pelvis_20240109090856_5_resliced.nii   \n",
       "4    bids/sub-z1448271/ses-20231110/extra_data/series-5_16_Pelvis_16_Pelvis_20231110085011_5_resliced.nii   \n",
       "..                                                                                                    ...   \n",
       "270                                                      bids/sub-z0747844/ses-20240304/extra_data/B0.nii   \n",
       "271                                                      bids/sub-z1421134/ses-20231205/extra_data/B0.nii   \n",
       "272                                                      bids/sub-z1638396/ses-20240311/extra_data/B0.nii   \n",
       "273                                                      bids/sub-z2996397/ses-20231201/extra_data/B0.nii   \n",
       "274                                                      bids/sub-z0742379/ses-20240124/extra_data/B0.nii   \n",
       "\n",
       "          Subject  TPs  FNs  FPs  FPs_Markers_as_Calcs  \n",
       "0    sub-z1318033    3    0    0                     0  \n",
       "1    sub-z1691325    3    0    0                     0  \n",
       "2    sub-z0002292    3    0    0                     0  \n",
       "3    sub-z3268423    3    0    0                     0  \n",
       "4    sub-z1448271    3    0    0                     0  \n",
       "..            ...  ...  ...  ...                   ...  \n",
       "270  sub-z0747844    2    1    0                     0  \n",
       "271  sub-z1421134    2    1    0                     0  \n",
       "272  sub-z1638396    3    0    0                     0  \n",
       "273  sub-z2996397    3    0    0                     0  \n",
       "274  sub-z0742379    2    1    1                     0  \n",
       "\n",
       "[275 rows x 7 columns]"
      ]
     },
     "execution_count": 11,
     "metadata": {},
     "output_type": "execute_result"
    }
   ],
   "source": [
    "import re\n",
    "rows = []\n",
    "for model in model_in_files.keys():\n",
    "    files = model_in_files[model]\n",
    "    tps = model_tps[model]\n",
    "    fns = model_fns[model]\n",
    "    fps = model_fps[model]\n",
    "    fps_calcs = model_fps_markers_as_calcs[model]\n",
    "    for i in range(len(files)):\n",
    "        file_path = files[i]\n",
    "        subject = re.findall('sub-z[0-9]+', file_path)[0]\n",
    "        rows.append({\n",
    "            \"Model\": model,\n",
    "            \"File\": file_path,\n",
    "            \"Subject\": subject,\n",
    "            \"TPs\": tps[i],\n",
    "            \"FNs\": fns[i],\n",
    "            \"FPs\": fps[i],\n",
    "            \"FPs_Markers_as_Calcs\": fps_calcs[i]\n",
    "        })\n",
    "\n",
    "df_long = pd.DataFrame(rows)\n",
    "df_long\n"
   ]
  },
  {
   "cell_type": "code",
   "execution_count": 12,
   "metadata": {},
   "outputs": [
    {
     "data": {
      "text/html": [
       "<div>\n",
       "<style scoped>\n",
       "    .dataframe tbody tr th:only-of-type {\n",
       "        vertical-align: middle;\n",
       "    }\n",
       "\n",
       "    .dataframe tbody tr th {\n",
       "        vertical-align: top;\n",
       "    }\n",
       "\n",
       "    .dataframe thead th {\n",
       "        text-align: right;\n",
       "    }\n",
       "</style>\n",
       "<table border=\"1\" class=\"dataframe\">\n",
       "  <thead>\n",
       "    <tr style=\"text-align: right;\">\n",
       "      <th></th>\n",
       "      <th>Model</th>\n",
       "      <th>File</th>\n",
       "      <th>Subject</th>\n",
       "      <th>TPs</th>\n",
       "      <th>FNs</th>\n",
       "      <th>FPs</th>\n",
       "      <th>FPs_Markers_as_Calcs</th>\n",
       "    </tr>\n",
       "  </thead>\n",
       "  <tbody>\n",
       "    <tr>\n",
       "      <th>11</th>\n",
       "      <td>CT</td>\n",
       "      <td>bids/sub-z1484547/ses-20240102/extra_data/series-7_16_Pelvis_16_Pelvis_20240102093205_7_resliced.nii</td>\n",
       "      <td>sub-z1484547</td>\n",
       "      <td>3</td>\n",
       "      <td>0</td>\n",
       "      <td>0</td>\n",
       "      <td>0</td>\n",
       "    </tr>\n",
       "    <tr>\n",
       "      <th>36</th>\n",
       "      <td>QSM</td>\n",
       "      <td>out/qsm/sub-z1484547_ses-20240102_acq-wipiswifl3dvibetrythisone_run-01_echo-01_part-phase_MEGRE_scaled_tgvqsmjl_twopass_average_ref.nii</td>\n",
       "      <td>sub-z1484547</td>\n",
       "      <td>2</td>\n",
       "      <td>1</td>\n",
       "      <td>1</td>\n",
       "      <td>1</td>\n",
       "    </tr>\n",
       "    <tr>\n",
       "      <th>61</th>\n",
       "      <td>QSM-SWI</td>\n",
       "      <td>out/qsm/sub-z1484547_ses-20240102_acq-wipiswifl3dvibetrythisone_run-01_echo-01_part-phase_MEGRE_scaled_tgvqsmjl_twopass_average_ref.nii</td>\n",
       "      <td>sub-z1484547</td>\n",
       "      <td>2</td>\n",
       "      <td>1</td>\n",
       "      <td>1</td>\n",
       "      <td>1</td>\n",
       "    </tr>\n",
       "    <tr>\n",
       "      <th>86</th>\n",
       "      <td>QSM-T1-R2s</td>\n",
       "      <td>out/qsm/sub-z1484547_ses-20240102_acq-wipiswifl3dvibetrythisone_run-01_echo-01_part-phase_MEGRE_scaled_tgvqsmjl_twopass_average_ref.nii</td>\n",
       "      <td>sub-z1484547</td>\n",
       "      <td>3</td>\n",
       "      <td>0</td>\n",
       "      <td>0</td>\n",
       "      <td>0</td>\n",
       "    </tr>\n",
       "    <tr>\n",
       "      <th>111</th>\n",
       "      <td>QSM-T1</td>\n",
       "      <td>out/qsm/sub-z1484547_ses-20240102_acq-wipiswifl3dvibetrythisone_run-01_echo-01_part-phase_MEGRE_scaled_tgvqsmjl_twopass_average_ref.nii</td>\n",
       "      <td>sub-z1484547</td>\n",
       "      <td>2</td>\n",
       "      <td>1</td>\n",
       "      <td>1</td>\n",
       "      <td>1</td>\n",
       "    </tr>\n",
       "    <tr>\n",
       "      <th>136</th>\n",
       "      <td>T1</td>\n",
       "      <td>bids/sub-z1484547/ses-20240102/extra_data/sub-z1484547_ses-20240102_acq-t1tragradientseed_run-01_T1w_resliced.nii</td>\n",
       "      <td>sub-z1484547</td>\n",
       "      <td>3</td>\n",
       "      <td>0</td>\n",
       "      <td>0</td>\n",
       "      <td>0</td>\n",
       "    </tr>\n",
       "    <tr>\n",
       "      <th>161</th>\n",
       "      <td>SWI</td>\n",
       "      <td>out/swi/sub-z1484547_ses-20240102_acq-wipiswifl3dvibetrythisone_run-01_echo-01_part-phase_MEGRE_scaled_swi.nii</td>\n",
       "      <td>sub-z1484547</td>\n",
       "      <td>3</td>\n",
       "      <td>0</td>\n",
       "      <td>0</td>\n",
       "      <td>0</td>\n",
       "    </tr>\n",
       "    <tr>\n",
       "      <th>186</th>\n",
       "      <td>R2s</td>\n",
       "      <td>out/r2s/sub-z1484547_ses-20240102_acq-wipiswifl3dvibetrythisone_run-01_echo-01_part-mag_MEGRE_r2s.nii</td>\n",
       "      <td>sub-z1484547</td>\n",
       "      <td>3</td>\n",
       "      <td>0</td>\n",
       "      <td>0</td>\n",
       "      <td>0</td>\n",
       "    </tr>\n",
       "    <tr>\n",
       "      <th>211</th>\n",
       "      <td>GRE</td>\n",
       "      <td>bids/sub-z1484547/ses-20240102/extra_data/magnitude_combined.nii</td>\n",
       "      <td>sub-z1484547</td>\n",
       "      <td>2</td>\n",
       "      <td>1</td>\n",
       "      <td>1</td>\n",
       "      <td>1</td>\n",
       "    </tr>\n",
       "    <tr>\n",
       "      <th>236</th>\n",
       "      <td>QSM-FMAP</td>\n",
       "      <td>out/qsm/sub-z1484547_ses-20240102_acq-wipiswifl3dvibetrythisone_run-01_echo-01_part-phase_MEGRE_scaled_tgvqsmjl_twopass_average_ref.nii</td>\n",
       "      <td>sub-z1484547</td>\n",
       "      <td>3</td>\n",
       "      <td>0</td>\n",
       "      <td>0</td>\n",
       "      <td>0</td>\n",
       "    </tr>\n",
       "    <tr>\n",
       "      <th>261</th>\n",
       "      <td>FMAP</td>\n",
       "      <td>bids/sub-z1484547/ses-20240102/extra_data/B0.nii</td>\n",
       "      <td>sub-z1484547</td>\n",
       "      <td>3</td>\n",
       "      <td>0</td>\n",
       "      <td>0</td>\n",
       "      <td>0</td>\n",
       "    </tr>\n",
       "  </tbody>\n",
       "</table>\n",
       "</div>"
      ],
      "text/plain": [
       "          Model  \\\n",
       "11           CT   \n",
       "36          QSM   \n",
       "61      QSM-SWI   \n",
       "86   QSM-T1-R2s   \n",
       "111      QSM-T1   \n",
       "136          T1   \n",
       "161         SWI   \n",
       "186         R2s   \n",
       "211         GRE   \n",
       "236    QSM-FMAP   \n",
       "261        FMAP   \n",
       "\n",
       "                                                                                                                                        File  \\\n",
       "11                                      bids/sub-z1484547/ses-20240102/extra_data/series-7_16_Pelvis_16_Pelvis_20240102093205_7_resliced.nii   \n",
       "36   out/qsm/sub-z1484547_ses-20240102_acq-wipiswifl3dvibetrythisone_run-01_echo-01_part-phase_MEGRE_scaled_tgvqsmjl_twopass_average_ref.nii   \n",
       "61   out/qsm/sub-z1484547_ses-20240102_acq-wipiswifl3dvibetrythisone_run-01_echo-01_part-phase_MEGRE_scaled_tgvqsmjl_twopass_average_ref.nii   \n",
       "86   out/qsm/sub-z1484547_ses-20240102_acq-wipiswifl3dvibetrythisone_run-01_echo-01_part-phase_MEGRE_scaled_tgvqsmjl_twopass_average_ref.nii   \n",
       "111  out/qsm/sub-z1484547_ses-20240102_acq-wipiswifl3dvibetrythisone_run-01_echo-01_part-phase_MEGRE_scaled_tgvqsmjl_twopass_average_ref.nii   \n",
       "136                        bids/sub-z1484547/ses-20240102/extra_data/sub-z1484547_ses-20240102_acq-t1tragradientseed_run-01_T1w_resliced.nii   \n",
       "161                           out/swi/sub-z1484547_ses-20240102_acq-wipiswifl3dvibetrythisone_run-01_echo-01_part-phase_MEGRE_scaled_swi.nii   \n",
       "186                                    out/r2s/sub-z1484547_ses-20240102_acq-wipiswifl3dvibetrythisone_run-01_echo-01_part-mag_MEGRE_r2s.nii   \n",
       "211                                                                         bids/sub-z1484547/ses-20240102/extra_data/magnitude_combined.nii   \n",
       "236  out/qsm/sub-z1484547_ses-20240102_acq-wipiswifl3dvibetrythisone_run-01_echo-01_part-phase_MEGRE_scaled_tgvqsmjl_twopass_average_ref.nii   \n",
       "261                                                                                         bids/sub-z1484547/ses-20240102/extra_data/B0.nii   \n",
       "\n",
       "          Subject  TPs  FNs  FPs  FPs_Markers_as_Calcs  \n",
       "11   sub-z1484547    3    0    0                     0  \n",
       "36   sub-z1484547    2    1    1                     1  \n",
       "61   sub-z1484547    2    1    1                     1  \n",
       "86   sub-z1484547    3    0    0                     0  \n",
       "111  sub-z1484547    2    1    1                     1  \n",
       "136  sub-z1484547    3    0    0                     0  \n",
       "161  sub-z1484547    3    0    0                     0  \n",
       "186  sub-z1484547    3    0    0                     0  \n",
       "211  sub-z1484547    2    1    1                     1  \n",
       "236  sub-z1484547    3    0    0                     0  \n",
       "261  sub-z1484547    3    0    0                     0  "
      ]
     },
     "execution_count": 12,
     "metadata": {},
     "output_type": "execute_result"
    }
   ],
   "source": [
    "df_long[df_long['Subject'] == 'sub-z1484547']"
   ]
  },
  {
   "cell_type": "code",
   "execution_count": 13,
   "metadata": {},
   "outputs": [
    {
     "data": {
      "text/html": [
       "<div>\n",
       "<style scoped>\n",
       "    .dataframe tbody tr th:only-of-type {\n",
       "        vertical-align: middle;\n",
       "    }\n",
       "\n",
       "    .dataframe tbody tr th {\n",
       "        vertical-align: top;\n",
       "    }\n",
       "\n",
       "    .dataframe thead th {\n",
       "        text-align: right;\n",
       "    }\n",
       "</style>\n",
       "<table border=\"1\" class=\"dataframe\">\n",
       "  <thead>\n",
       "    <tr style=\"text-align: right;\">\n",
       "      <th></th>\n",
       "      <th>Subject</th>\n",
       "      <th>False_Negative_Rate</th>\n",
       "      <th>False_Positive_Rate</th>\n",
       "      <th>FPs_Markers_as_Calcs_Rate</th>\n",
       "    </tr>\n",
       "  </thead>\n",
       "  <tbody>\n",
       "    <tr>\n",
       "      <th>6</th>\n",
       "      <td>sub-z0742379</td>\n",
       "      <td>0.333333</td>\n",
       "      <td>0.333333</td>\n",
       "      <td>0.000000</td>\n",
       "    </tr>\n",
       "    <tr>\n",
       "      <th>11</th>\n",
       "      <td>sub-z1448271</td>\n",
       "      <td>0.333333</td>\n",
       "      <td>0.333333</td>\n",
       "      <td>0.333333</td>\n",
       "    </tr>\n",
       "    <tr>\n",
       "      <th>0</th>\n",
       "      <td>sub-z0002292</td>\n",
       "      <td>0.000000</td>\n",
       "      <td>0.000000</td>\n",
       "      <td>0.000000</td>\n",
       "    </tr>\n",
       "    <tr>\n",
       "      <th>14</th>\n",
       "      <td>sub-z1638396</td>\n",
       "      <td>0.000000</td>\n",
       "      <td>0.000000</td>\n",
       "      <td>0.000000</td>\n",
       "    </tr>\n",
       "    <tr>\n",
       "      <th>23</th>\n",
       "      <td>sub-z3268423</td>\n",
       "      <td>0.000000</td>\n",
       "      <td>0.000000</td>\n",
       "      <td>0.000000</td>\n",
       "    </tr>\n",
       "    <tr>\n",
       "      <th>22</th>\n",
       "      <td>sub-z3220308</td>\n",
       "      <td>0.000000</td>\n",
       "      <td>0.000000</td>\n",
       "      <td>0.000000</td>\n",
       "    </tr>\n",
       "    <tr>\n",
       "      <th>21</th>\n",
       "      <td>sub-z3212665</td>\n",
       "      <td>0.000000</td>\n",
       "      <td>0.000000</td>\n",
       "      <td>0.000000</td>\n",
       "    </tr>\n",
       "    <tr>\n",
       "      <th>20</th>\n",
       "      <td>sub-z3145629</td>\n",
       "      <td>0.000000</td>\n",
       "      <td>0.000000</td>\n",
       "      <td>0.000000</td>\n",
       "    </tr>\n",
       "    <tr>\n",
       "      <th>19</th>\n",
       "      <td>sub-z2996397</td>\n",
       "      <td>0.000000</td>\n",
       "      <td>0.000000</td>\n",
       "      <td>0.000000</td>\n",
       "    </tr>\n",
       "    <tr>\n",
       "      <th>18</th>\n",
       "      <td>sub-z2684925</td>\n",
       "      <td>0.000000</td>\n",
       "      <td>0.000000</td>\n",
       "      <td>0.000000</td>\n",
       "    </tr>\n",
       "    <tr>\n",
       "      <th>17</th>\n",
       "      <td>sub-z2105112</td>\n",
       "      <td>0.000000</td>\n",
       "      <td>0.000000</td>\n",
       "      <td>0.000000</td>\n",
       "    </tr>\n",
       "    <tr>\n",
       "      <th>16</th>\n",
       "      <td>sub-z1691325</td>\n",
       "      <td>0.000000</td>\n",
       "      <td>0.000000</td>\n",
       "      <td>0.000000</td>\n",
       "    </tr>\n",
       "    <tr>\n",
       "      <th>15</th>\n",
       "      <td>sub-z1645782</td>\n",
       "      <td>0.000000</td>\n",
       "      <td>0.000000</td>\n",
       "      <td>0.000000</td>\n",
       "    </tr>\n",
       "    <tr>\n",
       "      <th>12</th>\n",
       "      <td>sub-z1484547</td>\n",
       "      <td>0.000000</td>\n",
       "      <td>0.000000</td>\n",
       "      <td>0.000000</td>\n",
       "    </tr>\n",
       "    <tr>\n",
       "      <th>13</th>\n",
       "      <td>sub-z1635498</td>\n",
       "      <td>0.000000</td>\n",
       "      <td>0.000000</td>\n",
       "      <td>0.000000</td>\n",
       "    </tr>\n",
       "    <tr>\n",
       "      <th>1</th>\n",
       "      <td>sub-z0163277</td>\n",
       "      <td>0.000000</td>\n",
       "      <td>0.000000</td>\n",
       "      <td>0.000000</td>\n",
       "    </tr>\n",
       "    <tr>\n",
       "      <th>10</th>\n",
       "      <td>sub-z1421134</td>\n",
       "      <td>0.000000</td>\n",
       "      <td>0.000000</td>\n",
       "      <td>0.000000</td>\n",
       "    </tr>\n",
       "    <tr>\n",
       "      <th>9</th>\n",
       "      <td>sub-z1384048</td>\n",
       "      <td>0.000000</td>\n",
       "      <td>0.000000</td>\n",
       "      <td>0.000000</td>\n",
       "    </tr>\n",
       "    <tr>\n",
       "      <th>8</th>\n",
       "      <td>sub-z1318033</td>\n",
       "      <td>0.000000</td>\n",
       "      <td>0.000000</td>\n",
       "      <td>0.000000</td>\n",
       "    </tr>\n",
       "    <tr>\n",
       "      <th>7</th>\n",
       "      <td>sub-z0747844</td>\n",
       "      <td>0.333333</td>\n",
       "      <td>0.000000</td>\n",
       "      <td>0.000000</td>\n",
       "    </tr>\n",
       "    <tr>\n",
       "      <th>5</th>\n",
       "      <td>sub-z0381949</td>\n",
       "      <td>0.000000</td>\n",
       "      <td>0.000000</td>\n",
       "      <td>0.000000</td>\n",
       "    </tr>\n",
       "    <tr>\n",
       "      <th>4</th>\n",
       "      <td>sub-z0347933</td>\n",
       "      <td>0.000000</td>\n",
       "      <td>0.000000</td>\n",
       "      <td>0.000000</td>\n",
       "    </tr>\n",
       "    <tr>\n",
       "      <th>3</th>\n",
       "      <td>sub-z0232771</td>\n",
       "      <td>0.000000</td>\n",
       "      <td>0.000000</td>\n",
       "      <td>0.000000</td>\n",
       "    </tr>\n",
       "    <tr>\n",
       "      <th>2</th>\n",
       "      <td>sub-z0206923</td>\n",
       "      <td>0.000000</td>\n",
       "      <td>0.000000</td>\n",
       "      <td>0.000000</td>\n",
       "    </tr>\n",
       "    <tr>\n",
       "      <th>24</th>\n",
       "      <td>sub-z4043512</td>\n",
       "      <td>0.000000</td>\n",
       "      <td>0.000000</td>\n",
       "      <td>0.000000</td>\n",
       "    </tr>\n",
       "  </tbody>\n",
       "</table>\n",
       "</div>"
      ],
      "text/plain": [
       "         Subject  False_Negative_Rate  False_Positive_Rate  \\\n",
       "6   sub-z0742379             0.333333             0.333333   \n",
       "11  sub-z1448271             0.333333             0.333333   \n",
       "0   sub-z0002292             0.000000             0.000000   \n",
       "14  sub-z1638396             0.000000             0.000000   \n",
       "23  sub-z3268423             0.000000             0.000000   \n",
       "22  sub-z3220308             0.000000             0.000000   \n",
       "21  sub-z3212665             0.000000             0.000000   \n",
       "20  sub-z3145629             0.000000             0.000000   \n",
       "19  sub-z2996397             0.000000             0.000000   \n",
       "18  sub-z2684925             0.000000             0.000000   \n",
       "17  sub-z2105112             0.000000             0.000000   \n",
       "16  sub-z1691325             0.000000             0.000000   \n",
       "15  sub-z1645782             0.000000             0.000000   \n",
       "12  sub-z1484547             0.000000             0.000000   \n",
       "13  sub-z1635498             0.000000             0.000000   \n",
       "1   sub-z0163277             0.000000             0.000000   \n",
       "10  sub-z1421134             0.000000             0.000000   \n",
       "9   sub-z1384048             0.000000             0.000000   \n",
       "8   sub-z1318033             0.000000             0.000000   \n",
       "7   sub-z0747844             0.333333             0.000000   \n",
       "5   sub-z0381949             0.000000             0.000000   \n",
       "4   sub-z0347933             0.000000             0.000000   \n",
       "3   sub-z0232771             0.000000             0.000000   \n",
       "2   sub-z0206923             0.000000             0.000000   \n",
       "24  sub-z4043512             0.000000             0.000000   \n",
       "\n",
       "    FPs_Markers_as_Calcs_Rate  \n",
       "6                    0.000000  \n",
       "11                   0.333333  \n",
       "0                    0.000000  \n",
       "14                   0.000000  \n",
       "23                   0.000000  \n",
       "22                   0.000000  \n",
       "21                   0.000000  \n",
       "20                   0.000000  \n",
       "19                   0.000000  \n",
       "18                   0.000000  \n",
       "17                   0.000000  \n",
       "16                   0.000000  \n",
       "15                   0.000000  \n",
       "12                   0.000000  \n",
       "13                   0.000000  \n",
       "1                    0.000000  \n",
       "10                   0.000000  \n",
       "9                    0.000000  \n",
       "8                    0.000000  \n",
       "7                    0.000000  \n",
       "5                    0.000000  \n",
       "4                    0.000000  \n",
       "3                    0.000000  \n",
       "2                    0.000000  \n",
       "24                   0.000000  "
      ]
     },
     "execution_count": 13,
     "metadata": {},
     "output_type": "execute_result"
    }
   ],
   "source": [
    "# Compute total markers and per-file rates.\n",
    "df_long[\"Total_Markers\"] = df_long[\"TPs\"] + df_long[\"FNs\"]\n",
    "df_long[\"False_Negative_Rate\"] = df_long[\"FNs\"] / df_long[\"Total_Markers\"]\n",
    "df_long[\"False_Positive_Rate\"] = df_long[\"FPs\"] / df_long[\"Total_Markers\"]\n",
    "df_long[\"FPs_Markers_as_Calcs_Rate\"] = df_long[\"FPs_Markers_as_Calcs\"] / df_long[\"Total_Markers\"]\n",
    "\n",
    "# Now group by subject and aggregate using the median.\n",
    "subject_summary = df_long.groupby(\"Subject\").agg({\n",
    "    \"False_Negative_Rate\": \"median\",\n",
    "    \"False_Positive_Rate\": \"median\",\n",
    "    \"FPs_Markers_as_Calcs_Rate\": \"median\"\n",
    "}).reset_index()\n",
    "\n",
    "subject_summary.sort_values(\"False_Positive_Rate\", ascending=False)"
   ]
  },
  {
   "cell_type": "code",
   "execution_count": null,
   "metadata": {},
   "outputs": [],
   "source": [
    "import pandas as pd\n",
    "\n",
    "# Initialize lists to store marker counts for each file and model\n",
    "results = []\n",
    "\n",
    "plt.figure()\n",
    "plt.plot([0, 1], [0, 1], color='navy', linestyle='--')\n",
    "model_marker_precisions = {}\n",
    "model_marker_recalls = {}\n",
    "losses = {}\n",
    "\n",
    "for model in model_data.keys():\n",
    "    print(f\"=== {model} ===\")\n",
    "\n",
    "    df = pd.DataFrame(model_data[model])\n",
    "    infile_cols = [key for key in list(model_data[model].keys()) if key != 'seg_files']\n",
    "    n_input_channels = len(infile_cols)\n",
    "    print(f\"infile_cols: {infile_cols}; n_input_channels: {n_input_channels}\")\n",
    "\n",
    "    # Determine resampling suggestion\n",
    "    if model == 'CT':\n",
    "        med_dataset = fastMONAI.vision_all.MedDataset(\n",
    "            img_list=df.seg_files.tolist(),\n",
    "            dtype=fastMONAI.vision_all.MedMask\n",
    "        )\n",
    "        suggested_voxelsize, requires_resampling = med_dataset.suggestion()\n",
    "        largest_imagesize = med_dataset.get_largest_img_size(resample=suggested_voxelsize)\n",
    "\n",
    "    # k validation folds\n",
    "    kf = KFold(n_splits=k_folds, random_state=random_state, shuffle=True)\n",
    "\n",
    "    marker_precisions = []\n",
    "    marker_recalls = []\n",
    "    precisions = []\n",
    "    recalls = []\n",
    "    fprs = []\n",
    "    tprs = []\n",
    "    fm_losses = []\n",
    "    calc_losses = []\n",
    "\n",
    "    for i, (train_index, valid_index) in enumerate(kf.split(df)):\n",
    "\n",
    "        dblock = fastMONAI.vision_all.MedDataBlock(\n",
    "            blocks=(fastMONAI.vision_all.ImageBlock(cls=fastMONAI.vision_all.MedImage), fastMONAI.vision_all.MedMaskBlock),\n",
    "            splitter=fastMONAI.vision_all.IndexSplitter(valid_index),\n",
    "            get_x=fastMONAI.vision_all.ColReader(infile_cols),\n",
    "            get_y=fastMONAI.vision_all.ColReader('seg_files'),\n",
    "            item_tfms=evaluation_augmentations,\n",
    "            reorder=requires_resampling,\n",
    "            resample=suggested_voxelsize\n",
    "        )\n",
    "\n",
    "        dls = fastMONAI.vision_all.DataLoaders.from_dblock(dblock, df, bs=batch_size)\n",
    "\n",
    "        learn = fastMONAI.vision_all.Learner(\n",
    "            dls,\n",
    "            model=UNet(\n",
    "                spatial_dims=3,\n",
    "                in_channels=n_input_channels,\n",
    "                out_channels=3,\n",
    "                channels=(16, 32, 64, 128, 256),\n",
    "                strides=(2, 2, 2, 2),\n",
    "                num_res_units=2\n",
    "            ),\n",
    "            loss_func=DiceCELoss(\n",
    "                to_onehot_y=True,\n",
    "                include_background=True,\n",
    "                softmax=True,\n",
    "                ce_weight=ce_loss_weights\n",
    "            ),\n",
    "            opt_func=fastMONAI.vision_all.ranger,\n",
    "            metrics=[fastMONAI.vision_all.multi_dice_score, MarkersIdentified(), SuperfluousMarkers()]\n",
    "        )\n",
    "\n",
    "        model_file = glob.glob(f\"models/{model}-2024*-*-{i}-best*\")[0]\n",
    "        print(model_file)\n",
    "        learn = learn.load(model_file.replace(\"models/\", \"\").replace(\".pth\", \"\"))\n",
    "\n",
    "        if torch.cuda.is_available():\n",
    "            learn.model.cuda()\n",
    "\n",
    "        # Compute metrics on the entire dataset\n",
    "        correct_markers = MarkersIdentified()\n",
    "\n",
    "        dblock_valid_eval = fastMONAI.vision_all.MedDataBlock(\n",
    "            blocks=(fastMONAI.vision_all.ImageBlock(cls=fastMONAI.vision_all.MedImage), fastMONAI.vision_all.MedMaskBlock),\n",
    "            splitter=fastMONAI.vision_all.IndexSplitter([]),\n",
    "            get_x=fastMONAI.vision_all.ColReader(infile_cols),\n",
    "            get_y=fastMONAI.vision_all.ColReader('seg_files'),\n",
    "            item_tfms=evaluation_augmentations,\n",
    "            reorder=requires_resampling,\n",
    "            resample=suggested_voxelsize,\n",
    "        )\n",
    "        dls_valid_eval = fastMONAI.vision_all.DataLoaders.from_dblock(dblock_valid_eval, df.iloc[valid_index], bs=1, sampler=fastMONAI.vision_all.SequentialSampler)\n",
    "        for j, (x, y) in enumerate(dls_valid_eval.train):\n",
    "            print(f\"{j}/{len(dls_valid_eval.train)}\", end=\"; \")\n",
    "            pred = torch.argmax(learn.model(x), dim=1).unsqueeze(1).to(dtype=torch.float)\n",
    "            correct_markers.accumulate(pred=pred.cpu(), targ=y.cpu())\n",
    "\n",
    "            # Store marker counts\n",
    "            results.append({\n",
    "                'File': df.iloc[valid_index].iloc[j].iloc[0],\n",
    "                'Model': model,\n",
    "                '# Target Markers': correct_markers.targ_marker_count,\n",
    "                '# Predicted Markers': correct_markers.pred_marker_count,\n",
    "                '# Overlapping': correct_markers.overlap_count\n",
    "            })\n",
    "\n",
    "        marker_tps = correct_markers.overlap_count\n",
    "        marker_fps = correct_markers.pred_marker_count - correct_markers.overlap_count\n",
    "        marker_fns = correct_markers.targ_marker_count - correct_markers.overlap_count\n",
    "\n",
    "        marker_precision = (marker_tps / (marker_tps + marker_fps)) if (marker_tps + marker_fps) > 0 else 0\n",
    "        marker_recall = (marker_tps / (marker_tps + marker_fns))  if (marker_tps + marker_fns) > 0 else 0\n",
    "        marker_precisions.append(marker_precision)\n",
    "        marker_recalls.append(marker_recall)\n",
    "\n",
    "        loss, *metrics = learn.validate(ds_idx=0, dl=dls_valid_eval.train)\n",
    "        fm_losses.append(metrics[0][0])\n",
    "        calc_losses.append(metrics[0][1])\n",
    "\n",
    "        print(f\"Input file: {df.iloc[valid_index].iloc[0].iloc[0]}\")\n",
    "        print(f\"Marker Precision: {marker_precision}\")\n",
    "        print(f\"Marker Recall: {marker_recall}\")\n",
    "        print(f\"Loss: {loss}\")\n",
    "\n",
    "        # Get predictions\n",
    "        dls_valid_eval = fastMONAI.vision_all.DataLoaders.from_dblock(dblock_valid_eval, df.iloc[valid_index], bs=len(dls_valid_eval.train_ds), sampler=fastMONAI.vision_all.SequentialSampler)\n",
    "        valid_x, valid_y = dls_valid_eval.train.one_batch()\n",
    "\n",
    "        def calc_stuff(x, y):\n",
    "            pred = learn.model(x)[:,1,:,:,:].unsqueeze(1).cpu().detach().numpy()\n",
    "            pred -= np.min(pred)\n",
    "            pred /= np.max(pred)\n",
    "            pred = pred.flatten()\n",
    "            targ = (y.cpu() == 1).to(dtype=torch.int).detach().numpy().flatten()\n",
    "\n",
    "            # Calculate AUC\n",
    "            sample_weight = compute_sample_weight(class_weight=\"balanced\", y=targ, indices=None)\n",
    "            fpr, tpr, thresholds = roc_curve(targ, pred, sample_weight=sample_weight)\n",
    "            roc_auc = auc(fpr, tpr)\n",
    "\n",
    "            # Calculate precision-recall curve\n",
    "            precision, recall, _ = precision_recall_curve(targ, pred)\n",
    "            average_precision = average_precision_score(targ, pred)\n",
    "\n",
    "            return fpr, tpr, precision, recall, thresholds, average_precision, roc_auc\n",
    "\n",
    "        fpr, tpr, precision, recall, thresholds, average_tpr, roc_auc = calc_stuff(valid_x, valid_y)\n",
    "\n",
    "        precisions.append(precision)\n",
    "        recalls.append(recall)\n",
    "        fprs.append(fpr)\n",
    "        tprs.append(tpr)\n",
    "\n",
    "    model_marker_precisions[model] = [np.mean(marker_precisions), np.std(marker_precisions)]\n",
    "    model_marker_recalls[model] = [np.mean(marker_recalls), np.std(marker_recalls)]\n",
    "    losses[model] = [np.mean(fm_losses), np.std(fm_losses), np.mean(calc_losses), np.std(calc_losses)]\n",
    "\n",
    "    # Define a common set of FPR values\n",
    "    common_fpr = np.linspace(0, 1, 100)\n",
    "\n",
    "    # Initialize an empty array to hold the interpolated TPRs\n",
    "    interpolated_tprs = []\n",
    "\n",
    "    for tpr, fpr in zip(tprs, fprs):\n",
    "        # Interpolate the TPR values to the common FPR values\n",
    "        interpolated_tpr = np.interp(common_fpr, fpr, tpr)\n",
    "        \n",
    "        # Store the interpolated TPR\n",
    "        interpolated_tprs.append(interpolated_tpr)\n",
    "\n",
    "    # Calculate the average TPR at each common FPR value\n",
    "    average_tpr = np.mean(interpolated_tprs, axis=0)\n",
    "\n",
    "    roc_auc = auc(common_fpr, average_tpr)\n",
    "\n",
    "    # Plot the average precision-recall curve\n",
    "    plt.plot(common_fpr, average_tpr, color=colors[model], label=f'{model} (AUC = {round(roc_auc, 2)})')\n",
    "    \n",
    "\n",
    "    del learn, dls, dblock_valid_eval, dls_valid_eval, loss, metrics, valid_x, valid_y, correct_markers\n",
    "\n",
    "plt.xlim([0.0, 1.0])\n",
    "plt.ylim([0.0, 1.05])\n",
    "plt.xlabel('False Positive Rate')\n",
    "plt.ylabel('True Positive Rate')\n",
    "plt.title(f'Receiver Operating Characteristic (ROC) Curves\\n(Average over {k_folds}-fold cross-validation)')\n",
    "plt.legend(loc=\"lower right\")\n",
    "plt.savefig(\"roc-curves-new3.png\", dpi=400)\n",
    "plt.show()\n",
    "\n",
    "print(model_marker_precisions)\n",
    "print(model_marker_recalls)\n",
    "print(losses)\n",
    "\n",
    "# Create and display the DataFrame with the results\n",
    "df_results = pd.DataFrame(results)\n",
    "print(df_results)"
   ]
  },
  {
   "cell_type": "code",
   "execution_count": null,
   "metadata": {},
   "outputs": [],
   "source": [
    "print(df_results)"
   ]
  },
  {
   "cell_type": "code",
   "execution_count": null,
   "metadata": {},
   "outputs": [],
   "source": [
    "plt.figure()\n",
    "plt.plot([0, 1], [0, 1], color='navy', linestyle='--')\n",
    "\n",
    "total_samples = 0\n",
    "positive_samples = 0\n",
    "\n",
    "model_marker_precisions = {}\n",
    "model_marker_recalls = {}\n",
    "losses = {}\n",
    "for model in model_data.keys():\n",
    "    print(f\"=== {model} ===\")\n",
    "\n",
    "    df = pd.DataFrame(model_data[model])\n",
    "    \n",
    "    infile_cols = [key for key in list(model_data[model].keys()) if key != 'seg_files']\n",
    "    n_input_channels = len(infile_cols)\n",
    "    print(f\"infile_cols: {infile_cols}; n_input_channels: {n_input_channels}\")\n",
    "\n",
    "    if model == 'CT':\n",
    "        # determine resampling suggestion\n",
    "        med_dataset = fastMONAI.vision_all.MedDataset(\n",
    "            img_list=df.seg_files.tolist(),\n",
    "            dtype=fastMONAI.vision_all.MedMask\n",
    "        )\n",
    "        suggested_voxelsize, requires_resampling = med_dataset.suggestion()\n",
    "        largest_imagesize = med_dataset.get_largest_img_size(resample=suggested_voxelsize)\n",
    "\n",
    "    # k validation folds\n",
    "    kf = KFold(n_splits=k_folds, random_state=random_state, shuffle=True)\n",
    "\n",
    "    marker_precisions = []\n",
    "    marker_recalls = []\n",
    "    precisions = []\n",
    "    recalls = []\n",
    "    fprs = []\n",
    "    tprs = []\n",
    "    fm_losses = []\n",
    "    calc_losses = []\n",
    "\n",
    "    for i, (train_index, valid_index) in enumerate(kf.split(df)):\n",
    "        if model == 'QSM':\n",
    "            y_values = df.iloc[valid_index]['seg_files'].tolist()\n",
    "            for y_file in y_values:\n",
    "                y_data = np.array(nib.load(y_file).get_fdata() == 1, dtype=int)\n",
    "                total_samples += y_data.size\n",
    "                positive_samples += int(y_data.sum())\n",
    "\n",
    "        dblock = fastMONAI.vision_all.MedDataBlock(\n",
    "            blocks=(fastMONAI.vision_all.ImageBlock(cls=fastMONAI.vision_all.MedImage), fastMONAI.vision_all.MedMaskBlock),\n",
    "            splitter=fastMONAI.vision_all.IndexSplitter(valid_index),\n",
    "            get_x=fastMONAI.vision_all.ColReader(infile_cols),\n",
    "            get_y=fastMONAI.vision_all.ColReader('seg_files'),\n",
    "            item_tfms=evaluation_augmentations,\n",
    "            reorder=requires_resampling,\n",
    "            resample=suggested_voxelsize\n",
    "        )\n",
    "\n",
    "        dls = fastMONAI.vision_all.DataLoaders.from_dblock(dblock, df, bs=batch_size)\n",
    "\n",
    "        learn = fastMONAI.vision_all.Learner(\n",
    "            dls,\n",
    "            model=UNet(\n",
    "                spatial_dims=3,\n",
    "                in_channels=n_input_channels,\n",
    "                out_channels=3,\n",
    "                channels=(16, 32, 64, 128, 256),\n",
    "                strides=(2, 2, 2, 2),\n",
    "                num_res_units=2\n",
    "            ),\n",
    "            loss_func=DiceCELoss(\n",
    "                to_onehot_y=True,\n",
    "                include_background=True,\n",
    "                softmax=True,\n",
    "                weight=ce_loss_weights\n",
    "            ),\n",
    "            opt_func=fastMONAI.vision_all.ranger,\n",
    "            metrics=[fastMONAI.vision_all.multi_dice_score, MarkersIdentified(), SuperfluousMarkers()]#.to_fp16()\n",
    "        )\n",
    "\n",
    "        model_file = glob.glob(f\"models/{model}-2024*-*-{i}-best*\")[0]\n",
    "        print(model_file)\n",
    "        learn = learn.load(model_file.replace(\"models/\", \"\").replace(\".pth\", \"\"))\n",
    "\n",
    "        if torch.cuda.is_available():\n",
    "            learn.model.cuda()\n",
    "\n",
    "        # Compute metrics on the entire training dataset\n",
    "        correct_markers = MarkersIdentified()\n",
    "\n",
    "        dblock_valid_eval = fastMONAI.vision_all.MedDataBlock(\n",
    "            blocks=(fastMONAI.vision_all.ImageBlock(cls=fastMONAI.vision_all.MedImage), fastMONAI.vision_all.MedMaskBlock),\n",
    "            splitter=fastMONAI.vision_all.IndexSplitter([]),\n",
    "            get_x=fastMONAI.vision_all.ColReader(infile_cols),\n",
    "            get_y=fastMONAI.vision_all.ColReader('seg_files'),\n",
    "            item_tfms=evaluation_augmentations,\n",
    "            reorder=requires_resampling,\n",
    "            resample=suggested_voxelsize\n",
    "        )\n",
    "        dls_valid_eval = fastMONAI.vision_all.DataLoaders.from_dblock(dblock_valid_eval, df.iloc[valid_index], bs=1, sampler=fastMONAI.vision_all.SequentialSampler)\n",
    "        for x, y in dls_valid_eval.train:\n",
    "            print(f\"{i}/{len(dls_valid_eval.train)}\", end=\"; \")\n",
    "            pred = torch.argmax(learn.model(x), dim=1).unsqueeze(1).to(dtype=torch.float)\n",
    "            correct_markers.accumulate(pred=pred.cpu(), targ=y.cpu())\n",
    "        \n",
    "        marker_tps = correct_markers.overlap_count\n",
    "        marker_fps = correct_markers.pred_marker_count - correct_markers.overlap_count\n",
    "        marker_fns = correct_markers.targ_marker_count - correct_markers.overlap_count\n",
    "\n",
    "        marker_precision = (marker_tps / (marker_tps + marker_fps)) if (marker_tps + marker_fps) > 0 else 0\n",
    "        marker_recall = (marker_tps / (marker_tps + marker_fns))  if (marker_tps + marker_fns) > 0 else 0\n",
    "        marker_precisions.append(marker_precision)\n",
    "        marker_recalls.append(marker_recall)\n",
    "\n",
    "        loss, *metrics = learn.validate(ds_idx=0, dl=dls_valid_eval.train)\n",
    "        fm_losses.append(metrics[0][0])\n",
    "        calc_losses.append(metrics[0][1])\n",
    "\n",
    "        print(f\"Marker Precision: {marker_precision}\")\n",
    "        print(f\"Marker Recall: {marker_recall}\")\n",
    "        print(f\"Loss: {loss}\")\n",
    "\n",
    "        # get predictions\n",
    "        dls_valid_eval = fastMONAI.vision_all.DataLoaders.from_dblock(dblock_valid_eval, df.iloc[valid_index], bs=len(dls_valid_eval.train_ds), sampler=fastMONAI.vision_all.SequentialSampler)\n",
    "        valid_x, valid_y = dls_valid_eval.train.one_batch()\n",
    "\n",
    "        def calc_stuff(x, y):\n",
    "            pred = learn.model(x)[:,1,:,:,:].unsqueeze(1).cpu().detach().numpy()\n",
    "            pred -= np.min(pred)\n",
    "            pred /= np.max(pred)\n",
    "            pred = pred.flatten()\n",
    "            targ = (y.cpu() == 1).to(dtype=torch.int).detach().numpy().flatten()\n",
    "\n",
    "            # calculate AUC\n",
    "            sample_weight = compute_sample_weight(class_weight=\"balanced\", y=targ, indices=None)\n",
    "            fpr, tpr, thresholds = roc_curve(targ, pred, sample_weight=sample_weight)\n",
    "            roc_auc = auc(fpr, tpr)\n",
    "\n",
    "            # calculate precision-recall curve\n",
    "            precision, recall, _ = precision_recall_curve(targ, pred)\n",
    "            average_precision = average_precision_score(targ, pred)\n",
    "\n",
    "            return fpr, tpr, precision, recall, thresholds, average_precision, roc_auc\n",
    "\n",
    "        fpr, tpr, precision, recall, thresholds, average_tpr, roc_auc = calc_stuff(valid_x, valid_y)\n",
    "\n",
    "        precisions.append(precision)\n",
    "        recalls.append(recall)\n",
    "        fprs.append(fpr)\n",
    "        tprs.append(tpr)\n",
    "\n",
    "    if model == 'QSM':\n",
    "        positive_ratio = positive_samples / total_samples\n",
    "        #plt.hlines(positive_ratio, xmin=0, xmax=1, color='navy', linestyle='--')\n",
    "\n",
    "    model_marker_precisions[model] = [np.mean(marker_precisions), np.std(marker_precisions)]\n",
    "    model_marker_recalls[model] = [np.mean(marker_recalls), np.std(marker_recalls)]\n",
    "    losses[model] = [np.mean(fm_losses), np.std(fm_losses), np.mean(calc_losses), np.std(calc_losses)]\n",
    "    \n",
    "    # define a common set of recall values\n",
    "    common_recall = np.linspace(0, 1, 100)\n",
    "\n",
    "    # initialize an empty array to hold the interpolated precisions\n",
    "    interpolated_precisions = []\n",
    "\n",
    "    for precision, recall in zip(precisions, recalls):\n",
    "        # reverse the arrays because recall should be non-decreasing for interpolation\n",
    "        precision = precision[::-1]\n",
    "        recall = recall[::-1]\n",
    "\n",
    "        # interpolate the precision values to the common recall values\n",
    "        interpolated_precision = np.interp(common_recall, recall, precision)\n",
    "        \n",
    "        # store the interpolated precision\n",
    "        interpolated_precisions.append(interpolated_precision)\n",
    "\n",
    "    # calculate the average precision at each common recall value\n",
    "    average_precision = np.mean(interpolated_precisions, axis=0)\n",
    "\n",
    "    prc_auc = auc(common_recall, average_precision)\n",
    "\n",
    "    # plot the average precision-recall curve\n",
    "    plt.plot(common_recall, average_precision, color=colors[model], label=f'{model} (AUC = {round(prc_auc, 2)})')\n",
    "\n",
    "    if model == 'QSM':\n",
    "        positive_ratio = np.mean([y.cpu().mean() for _, y in dls_valid_eval.train])  # assuming y contains binary labels with 1s for positive samples.\n",
    "        plt.hlines(positive_ratio, xmin=0, xmax=1, color='navy', linestyle='--')\n",
    "\n",
    "    del learn, dls, dblock_valid_eval, dls_valid_eval, loss, metrics, valid_x, valid_y, correct_markers\n",
    "\n",
    "print(model_marker_precisions)\n",
    "print(model_marker_recalls)\n",
    "print(losses)\n",
    "\n",
    "plt.xlim([0.0, 1.0])\n",
    "plt.ylim([0.0, 1.05])\n",
    "plt.xlabel('Recall')\n",
    "plt.ylabel('Precision')\n",
    "plt.title(f'Precision-Recall Curves\\n(Average over {k_folds}-fold cross-validation)')\n",
    "#plt.legend(loc=\"lower right\")\n",
    "plt.legend(loc=\"upper left\", bbox_to_anchor=(1.05, 1))\n",
    "plt.tight_layout()  # to ensure that all the elements fit into the figure area\n",
    "plt.savefig(\"poc-curves-marker.png\", dpi=400)\n",
    "plt.show()"
   ]
  },
  {
   "cell_type": "code",
   "execution_count": null,
   "metadata": {},
   "outputs": [],
   "source": [
    "# Compute average fpr, tpr, and auc for each model category and plot ROC curve\n",
    "for model in model_data.keys():\n",
    "    avg_fpr = np.mean(model_fprs[model], axis=0)\n",
    "    avg_tpr = np.mean(model_tprs[model], axis=0)\n",
    "    avg_auc = np.mean(model_aucs[model])\n",
    "\n",
    "    plt.plot(avg_fpr, avg_tpr, color=colors[model], label=f'{model} (AUC = {round(avg_auc, 2)})')\n",
    "\n",
    "plt.xlim([0.0, 1.0])\n",
    "plt.ylim([0.0, 1.05])\n",
    "plt.xlabel('False Positive Rate')\n",
    "plt.ylabel('True Positive Rate')\n",
    "plt.title(f'Receiver Operating Characteristic (ROC) Curve')\n",
    "plt.legend(loc=\"lower right\")\n",
    "plt.savefig(\"roc-curve-new.png\", dpi=400)\n",
    "plt.show()\n",
    "\n",
    "print(model_marker_precisions)\n",
    "print(model_marker_recalls)\n",
    "print(losses)"
   ]
  },
  {
   "cell_type": "code",
   "execution_count": null,
   "metadata": {},
   "outputs": [],
   "source": [
    "print(model_fprs.keys())\n",
    "for key in model_fprs.keys():\n",
    "    print(type(model_fprs[key]))\n",
    "    print(len(model_fprs[key]))\n",
    "    for element in model_fprs[key]:\n",
    "        print(type(element))\n",
    "        print(len(element))\n",
    "x = np.array(model_fprs[model])"
   ]
  },
  {
   "cell_type": "code",
   "execution_count": null,
   "metadata": {},
   "outputs": [],
   "source": [
    "print(model_marker_precisions)\n",
    "print(model_marker_recalls)\n",
    "print(losses)"
   ]
  },
  {
   "cell_type": "code",
   "execution_count": null,
   "metadata": {},
   "outputs": [],
   "source": [
    "pd.DataFrame(model_marker_precisions)"
   ]
  },
  {
   "cell_type": "code",
   "execution_count": null,
   "metadata": {},
   "outputs": [],
   "source": [
    "pd.DataFrame(model_marker_recalls)"
   ]
  },
  {
   "cell_type": "code",
   "execution_count": null,
   "metadata": {},
   "outputs": [],
   "source": [
    "# Placeholder for legend labels and their corresponding AUCs\n",
    "legend_data = []\n",
    "\n",
    "for model in ['CT']:# model_data.keys():\n",
    "    mean_fpr = np.linspace(0, 1, 100)\n",
    "    tpr_interp = []\n",
    "    \n",
    "    for i in range(len(model_fprs[model])):\n",
    "        fpr = model_fprs[model][i]\n",
    "        tpr = model_tprs[model][i]\n",
    "        tpr_interp.append(np.interp(mean_fpr, fpr, tpr))\n",
    "    \n",
    "    tpr_array = np.array(tpr_interp)\n",
    "    avg_tpr = tpr_array.mean(axis=0)\n",
    "    avg_auc = np.mean(model_aucs[model])\n",
    "\n",
    "    # Store label and AUC for later sorting\n",
    "    legend_data.append((model, avg_auc))\n",
    "\n",
    "    plt.plot(mean_fpr, avg_tpr, color=colors[model], label=f'{model} (AUC = {avg_auc:.2f})')\n",
    "\n",
    "# Sort the legend data based on AUC in descending order\n",
    "legend_data.sort(key=lambda x: x[1], reverse=True)\n",
    "\n",
    "# Create custom legend\n",
    "custom_legend = [plt.Line2D([0], [0], color=colors[label], lw=4) for label, _ in legend_data]\n",
    "plt.legend(custom_legend, [f'{label} (AUC = {auc:.2f})' for label, auc in legend_data], loc='lower right')\n",
    "\n",
    "plt.xlabel('False Positive Rate')\n",
    "plt.ylabel('True Positive Rate')\n",
    "plt.title('Receiver Operating Characteristic (ROC) Curves\\n(average of old models on new data)')\n",
    "plt.show()"
   ]
  },
  {
   "cell_type": "code",
   "execution_count": null,
   "metadata": {},
   "outputs": [],
   "source": [
    "plt.figure()\n",
    "plt.plot([0, 1], [0, 1], color='navy', linestyle='--')\n",
    "\n",
    "total_samples = 0\n",
    "positive_samples = 0\n",
    "\n",
    "\n",
    "model_marker_precisions = {}\n",
    "model_marker_recalls = {}\n",
    "losses = {}\n",
    "for model in model_data.keys():\n",
    "    print(f\"=== {model} ===\")\n",
    "\n",
    "    df = pd.DataFrame(model_data[model])\n",
    "    infile_cols = [key for key in list(model_data[model].keys()) if key != 'seg_files']\n",
    "    n_input_channels = len(infile_cols)\n",
    "    print(f\"infile_cols: {infile_cols}; n_input_channels: {n_input_channels}\")\n",
    "\n",
    "    if model == 'CT':\n",
    "        # determine resampling suggestion\n",
    "        med_dataset = fastMONAI.vision_all.MedDataset(\n",
    "            img_list=df.seg_files.tolist(),\n",
    "            dtype=fastMONAI.vision_all.MedMask\n",
    "        )\n",
    "        suggested_voxelsize, requires_resampling = med_dataset.suggestion()\n",
    "        largest_imagesize = med_dataset.get_largest_img_size(resample=suggested_voxelsize)\n",
    "\n",
    "    # k validation folds\n",
    "    kf = KFold(n_splits=k_folds, random_state=random_state, shuffle=True)\n",
    "\n",
    "    marker_precisions = []\n",
    "    marker_recalls = []\n",
    "    precisions = []\n",
    "    recalls = []\n",
    "    fprs = []\n",
    "    tprs = []\n",
    "    fm_losses = []\n",
    "    calc_losses = []\n",
    "\n",
    "    for i, (train_index, valid_index) in enumerate(kf.split(df)):\n",
    "        if model == 'QSM':\n",
    "            y_values = df.iloc[valid_index]['seg_files'].tolist()\n",
    "            for y_file in y_values:\n",
    "                y_data = np.array(nib.load(y_file).get_fdata() == 1, dtype=int)\n",
    "                total_samples += y_data.size\n",
    "                positive_samples += int(y_data.sum())\n",
    "\n",
    "        dblock = fastMONAI.vision_all.MedDataBlock(\n",
    "            blocks=(fastMONAI.vision_all.ImageBlock(cls=fastMONAI.vision_all.MedImage), fastMONAI.vision_all.MedMaskBlock),\n",
    "            splitter=fastMONAI.vision_all.IndexSplitter(valid_index),\n",
    "            get_x=fastMONAI.vision_all.ColReader(infile_cols),\n",
    "            get_y=fastMONAI.vision_all.ColReader('seg_files'),\n",
    "            item_tfms=evaluation_augmentations,\n",
    "            reorder=requires_resampling,\n",
    "            resample=suggested_voxelsize\n",
    "        )\n",
    "\n",
    "        dls = fastMONAI.vision_all.DataLoaders.from_dblock(dblock, df, bs=batch_size)\n",
    "\n",
    "        learn = fastMONAI.vision_all.Learner(\n",
    "            dls,\n",
    "            model=UNet(\n",
    "                spatial_dims=3,\n",
    "                in_channels=n_input_channels,\n",
    "                out_channels=3,\n",
    "                channels=(16, 32, 64, 128, 256),\n",
    "                strides=(2, 2, 2, 2),\n",
    "                num_res_units=2\n",
    "            ),\n",
    "            loss_func=DiceCELoss(\n",
    "                to_onehot_y=True,\n",
    "                include_background=True,\n",
    "                softmax=True,\n",
    "                weight=ce_loss_weights\n",
    "            ),\n",
    "            opt_func=fastMONAI.vision_all.ranger,\n",
    "            metrics=[fastMONAI.vision_all.multi_dice_score, MarkersIdentified(), SuperfluousMarkers()]#.to_fp16()\n",
    "        )\n",
    "\n",
    "        model_file = glob.glob(f\"models/{model}-2024*-*-{i}-best*\")[0]\n",
    "        print(model_file)\n",
    "        learn = learn.load(model_file.replace(\"models/\", \"\").replace(\".pth\", \"\"))\n",
    "\n",
    "        if torch.cuda.is_available():\n",
    "            learn.model.cuda()\n",
    "\n",
    "        # Compute metrics on the entire training dataset\n",
    "        correct_markers = MarkersIdentified()\n",
    "\n",
    "        dblock_valid_eval = fastMONAI.vision_all.MedDataBlock(\n",
    "            blocks=(fastMONAI.vision_all.ImageBlock(cls=fastMONAI.vision_all.MedImage), fastMONAI.vision_all.MedMaskBlock),\n",
    "            splitter=fastMONAI.vision_all.IndexSplitter([]),\n",
    "            get_x=fastMONAI.vision_all.ColReader(infile_cols),\n",
    "            get_y=fastMONAI.vision_all.ColReader('seg_files'),\n",
    "            item_tfms=evaluation_augmentations,\n",
    "            reorder=requires_resampling,\n",
    "            resample=suggested_voxelsize\n",
    "        )\n",
    "        dls_valid_eval = fastMONAI.vision_all.DataLoaders.from_dblock(dblock_valid_eval, df.iloc[valid_index], bs=1, sampler=fastMONAI.vision_all.SequentialSampler)\n",
    "        for x, y in dls_valid_eval.train:\n",
    "            print(f\"{i}/{len(dls_valid_eval.train)}\", end=\"; \")\n",
    "            pred = torch.argmax(learn.model(x), dim=1).unsqueeze(1).to(dtype=torch.float)\n",
    "            correct_markers.accumulate(pred=pred.cpu(), targ=y.cpu())\n",
    "        \n",
    "        marker_tps = correct_markers.overlap_count\n",
    "        marker_fps = correct_markers.pred_marker_count - correct_markers.overlap_count\n",
    "        marker_fns = correct_markers.targ_marker_count - correct_markers.overlap_count\n",
    "\n",
    "        marker_precision = (marker_tps / (marker_tps + marker_fps)) if (marker_tps + marker_fps) > 0 else 0\n",
    "        marker_recall = (marker_tps / (marker_tps + marker_fns))  if (marker_tps + marker_fns) > 0 else 0\n",
    "        marker_precisions.append(marker_precision)\n",
    "        marker_recalls.append(marker_recall)\n",
    "\n",
    "        loss, *metrics = learn.validate(ds_idx=0, dl=dls_valid_eval.train)\n",
    "        fm_losses.append(metrics[0][0])\n",
    "        calc_losses.append(metrics[0][1])\n",
    "\n",
    "        print(f\"Marker Precision: {marker_precision}\")\n",
    "        print(f\"Marker Recall: {marker_recall}\")\n",
    "        print(f\"Loss: {loss}\")\n",
    "\n",
    "        # get predictions\n",
    "        dls_valid_eval = fastMONAI.vision_all.DataLoaders.from_dblock(dblock_valid_eval, df.iloc[valid_index], bs=len(dls_valid_eval.train_ds), sampler=fastMONAI.vision_all.SequentialSampler)\n",
    "        valid_x, valid_y = dls_valid_eval.train.one_batch()\n",
    "\n",
    "        def calc_stuff(x, y):\n",
    "            pred = learn.model(x)[:,1,:,:,:].unsqueeze(1).cpu().detach().numpy()\n",
    "            pred -= np.min(pred)\n",
    "            pred /= np.max(pred)\n",
    "            pred = pred.flatten()\n",
    "            targ = (y.cpu() == 1).to(dtype=torch.int).detach().numpy().flatten()\n",
    "\n",
    "            # calculate AUC\n",
    "            sample_weight = compute_sample_weight(class_weight=\"balanced\", y=targ, indices=None)\n",
    "            fpr, tpr, thresholds = roc_curve(targ, pred, sample_weight=sample_weight)\n",
    "            roc_auc = auc(fpr, tpr)\n",
    "\n",
    "            # calculate precision-recall curve\n",
    "            precision, recall, _ = precision_recall_curve(targ, pred)\n",
    "            average_precision = average_precision_score(targ, pred)\n",
    "\n",
    "            return fpr, tpr, precision, recall, thresholds, average_precision, roc_auc\n",
    "\n",
    "        fpr, tpr, precision, recall, thresholds, average_tpr, roc_auc = calc_stuff(valid_x, valid_y)\n",
    "\n",
    "        precisions.append(precision)\n",
    "        recalls.append(recall)\n",
    "        fprs.append(fpr)\n",
    "        tprs.append(tpr)\n",
    "\n",
    "    if model == 'QSM':\n",
    "        positive_ratio = positive_samples / total_samples\n",
    "        #plt.hlines(positive_ratio, xmin=0, xmax=1, color='navy', linestyle='--')\n",
    "\n",
    "    model_marker_precisions[model] = [np.mean(marker_precisions), np.std(marker_precisions)]\n",
    "    model_marker_recalls[model] = [np.mean(marker_recalls), np.std(marker_recalls)]\n",
    "    losses[model] = [np.mean(fm_losses), np.std(fm_losses), np.mean(calc_losses), np.std(calc_losses)]\n",
    "    \n",
    "    # define a common set of recall values\n",
    "    common_recall = np.linspace(0, 1, 100)\n",
    "\n",
    "    # initialize an empty array to hold the interpolated precisions\n",
    "    interpolated_precisions = []\n",
    "\n",
    "    for precision, recall in zip(precisions, recalls):\n",
    "        # reverse the arrays because recall should be non-decreasing for interpolation\n",
    "        precision = precision[::-1]\n",
    "        recall = recall[::-1]\n",
    "\n",
    "        # interpolate the precision values to the common recall values\n",
    "        interpolated_precision = np.interp(common_recall, recall, precision)\n",
    "        \n",
    "        # store the interpolated precision\n",
    "        interpolated_precisions.append(interpolated_precision)\n",
    "\n",
    "    # calculate the average precision at each common recall value\n",
    "    average_precision = np.mean(interpolated_precisions, axis=0)\n",
    "\n",
    "    prc_auc = auc(common_recall, average_precision)\n",
    "\n",
    "    # plot the average precision-recall curve\n",
    "    plt.plot(common_recall, average_precision, color=colors[model], label=f'{model} (AUC = {round(prc_auc, 2)})')\n",
    "\n",
    "    if model == 'QSM':\n",
    "        positive_ratio = np.mean([y.mean() for _, y in dls_valid_eval.train])  # assuming y contains binary labels with 1s for positive samples.\n",
    "        plt.hlines(positive_ratio, xmin=0, xmax=1, color='navy', linestyle='--')\n",
    "\n",
    "    del learn, dls, dblock_valid_eval, dls_valid_eval, loss, metrics, valid_x, valid_y, correct_markers\n",
    "\n",
    "print(model_marker_precisions)\n",
    "print(model_marker_recalls)\n",
    "print(losses)\n",
    "\n",
    "plt.xlim([0.0, 1.0])\n",
    "plt.ylim([0.0, 1.05])\n",
    "plt.xlabel('Recall')\n",
    "plt.ylabel('Precision')\n",
    "plt.title(f'Precision-Recall Curves\\n(Average over {k_folds}-fold cross-validation)')\n",
    "#plt.legend(loc=\"lower right\")\n",
    "plt.legend(loc=\"upper left\", bbox_to_anchor=(1.05, 1))\n",
    "plt.tight_layout()  # to ensure that all the elements fit into the figure area\n",
    "plt.savefig(\"poc-curves-marker.png\", dpi=400)\n",
    "plt.show()"
   ]
  },
  {
   "cell_type": "code",
   "execution_count": null,
   "metadata": {},
   "outputs": [],
   "source": [
    "import seaborn as sns\n",
    "\n",
    "# Convert the dictionary to a pandas dataframe\n",
    "df = pd.DataFrame(model_marker_precisions).transpose().reset_index()\n",
    "df.columns = ['Model', 'Mean', 'Std']\n",
    "\n",
    "# Create a barplot using seaborn\n",
    "plt.figure(figsize=(10,6))\n",
    "sns.barplot(data=df, x='Model', y='Mean', yerr=df['Std'], capsize=.2)\n",
    "\n",
    "plt.title('Precision Across Models')\n",
    "plt.ylabel('Precision')\n",
    "plt.xlabel('Models')\n",
    "plt.show()"
   ]
  },
  {
   "cell_type": "code",
   "execution_count": null,
   "metadata": {},
   "outputs": [],
   "source": [
    "# Convert the dictionary to a pandas dataframe\n",
    "df = pd.DataFrame(model_marker_recalls).transpose().reset_index()\n",
    "df.columns = ['Model', 'Mean', 'Std']\n",
    "\n",
    "# Create a barplot using seaborn\n",
    "plt.figure(figsize=(10,6))\n",
    "sns.barplot(data=df, x='Model', y='Mean', yerr=df['Std'], capsize=.2)\n",
    "\n",
    "plt.title('Recall Across Models')\n",
    "plt.ylabel('Recall')\n",
    "plt.xlabel('Models')\n",
    "plt.show()"
   ]
  },
  {
   "cell_type": "code",
   "execution_count": null,
   "metadata": {},
   "outputs": [],
   "source": [
    "# Convert the dictionary to a pandas dataframe\n",
    "prec_df = pd.DataFrame(model_marker_precisions).transpose().reset_index()\n",
    "rec_df = pd.DataFrame(model_marker_recalls).transpose().reset_index()\n",
    "\n",
    "# Add Metric column to differentiate between Precision and Recall\n",
    "prec_df['Metric'] = 'Precision'\n",
    "rec_df['Metric'] = 'Recall'\n",
    "\n",
    "prec_df.columns = ['Model', 'Mean', 'Std', 'Metric']\n",
    "rec_df.columns = ['Model', 'Mean', 'Std', 'Metric']\n",
    "\n",
    "# Combine both dataframes\n",
    "df = pd.concat([prec_df, rec_df])"
   ]
  },
  {
   "cell_type": "code",
   "execution_count": null,
   "metadata": {},
   "outputs": [],
   "source": [
    "# Convert 'Mean' and 'Std' to the desired string format\n",
    "df['Mean +/- Std'] = df.apply(lambda row: f'{round(row[\"Mean\"], 2)} +/- {round(row[\"Std\"], 2)}', axis=1)\n",
    "\n",
    "# Pivot the table to get the desired format\n",
    "df_pivot = df.pivot(index='Model', columns='Metric', values='Mean +/- Std').reset_index()\n",
    "\n",
    "# Rename the columns to 'Recall' and 'Precision'\n",
    "df_pivot.columns = ['Model', 'Precision', 'Recall']\n",
    "df_pivot = df_pivot.sort_values('Precision', ascending=False)"
   ]
  },
  {
   "cell_type": "code",
   "execution_count": null,
   "metadata": {},
   "outputs": [],
   "source": [
    "df_pivot"
   ]
  },
  {
   "cell_type": "code",
   "execution_count": null,
   "metadata": {},
   "outputs": [],
   "source": [
    "# Create a grouped barplot using seaborn\n",
    "plt.figure(figsize=(12,8))\n",
    "barplot = sns.barplot(data=df, x='Model', y='Mean', hue='Metric', capsize=.2)\n",
    "\n",
    "# Add error bars manually\n",
    "for i, model in enumerate(df['Model'].unique()):\n",
    "    model_data = df[df['Model'] == model]\n",
    "    precision_data = model_data[model_data['Metric'] == 'Precision']\n",
    "    recall_data = model_data[model_data['Metric'] == 'Recall']\n",
    "    barplot.errorbar(x=i - 0.2, y=precision_data['Mean'].values[0], yerr=precision_data['Std'].values[0], color='black', capsize=3)\n",
    "    barplot.errorbar(x=i + 0.2, y=recall_data['Mean'].values[0], yerr=recall_data['Std'].values[0], color='black', capsize=3)\n",
    "\n",
    "plt.ylim(0, 1.05)\n",
    "plt.title('Marker-level Precision and Recall across Models')\n",
    "plt.ylabel('Score')\n",
    "plt.xlabel('Models')\n",
    "plt.show()"
   ]
  },
  {
   "cell_type": "code",
   "execution_count": null,
   "metadata": {},
   "outputs": [],
   "source": [
    "losses"
   ]
  },
  {
   "cell_type": "code",
   "execution_count": null,
   "metadata": {},
   "outputs": [],
   "source": [
    "# Initialize lists to hold the data\n",
    "model_list = []\n",
    "region_list = []\n",
    "mean_list = []\n",
    "std_list = []\n",
    "\n",
    "# Loop over the dictionary\n",
    "for model, values in losses.items():\n",
    "    # Add 'FM' region values\n",
    "    model_list.append(model)\n",
    "    region_list.append('FM')\n",
    "    mean_list.append(values[0])\n",
    "    std_list.append(values[1])\n",
    "    \n",
    "    # Add 'Calc' region values\n",
    "    model_list.append(model)\n",
    "    region_list.append('Calc')\n",
    "    mean_list.append(values[2])\n",
    "    std_list.append(values[3])\n",
    "\n",
    "# Create the DataFrame\n",
    "losses_df = pd.DataFrame({\n",
    "    'Model': model_list,\n",
    "    'Region': region_list,\n",
    "    'Mean': mean_list,\n",
    "    'Std': std_list\n",
    "})\n",
    "losses_df"
   ]
  },
  {
   "cell_type": "code",
   "execution_count": null,
   "metadata": {},
   "outputs": [],
   "source": [
    "# Create a grouped barplot using seaborn\n",
    "plt.figure(figsize=(12,8))\n",
    "barplot = sns.barplot(data=losses_df, x='Model', y='Mean', hue='Region', capsize=.2)\n",
    "\n",
    "# Add error bars manually\n",
    "for i, model in enumerate(losses_df['Model'].unique()):\n",
    "    for j, region in enumerate(losses_df['Region'].unique()):\n",
    "        model_data = losses_df[losses_df['Model'] == model]\n",
    "        model_data = model_data[model_data['Region'] == region]\n",
    "        barplot.errorbar(x=i - 0.2 + 0.4*j, y=model_data['Mean'].values[0], yerr=model_data['Std'].values[0], color='black', capsize=3)\n",
    "\n",
    "plt.ylim(0, 1.0)\n",
    "plt.title('Dice scores across models and regions')\n",
    "plt.ylabel('Dice score')\n",
    "plt.xlabel('Models')\n",
    "plt.show()"
   ]
  },
  {
   "cell_type": "code",
   "execution_count": null,
   "metadata": {},
   "outputs": [],
   "source": [
    "pred_calc_files = sorted(sum((glob.glob(os.path.join(session_dir, \"extra_data\", \"*pred_calc.nii*\")) for session_dir in session_dirs), []))\n",
    "pred_seed_files = sorted(sum((glob.glob(os.path.join(session_dir, \"extra_data\", \"*pred_seed.nii*\")) for session_dir in session_dirs), []))\n",
    "pred_empty_files = sorted(sum((glob.glob(os.path.join(session_dir, \"extra_data\", \"*pred_empty.nii*\")) for session_dir in session_dirs), []))\n",
    "pred_seg_files = sorted(sum((glob.glob(os.path.join(session_dir, \"extra_data\", \"*pred_seg.nii*\")) for session_dir in session_dirs), []))\n",
    "\n",
    "assert(len(qsm_files) == len(pred_calc_files))\n",
    "assert(len(qsm_files) == len(pred_seed_files))\n",
    "assert(len(qsm_files) == len(pred_empty_files))\n",
    "assert(len(qsm_files) == len(pred_seg_files))"
   ]
  },
  {
   "cell_type": "code",
   "execution_count": null,
   "metadata": {},
   "outputs": [],
   "source": [
    "input_images = qsm_files\n",
    "#input_segmentations = ct_seg_clean_files\n",
    "#raw_segmentations = ct_seg_raw_files\n",
    "input_segmentations = gre_seg_clean_files\n",
    "raw_segmentations = gre_seg_raw_files\n",
    "#clip_data = (0, 100)\n",
    "clip_data = None\n",
    "#vrange = (0, 1000) # T1w\n",
    "#vrange = (0, 0.75) # SWI\n",
    "vrange = (-0.5, +0.5) # QSM\n",
    "#vrange = (0, 800) # GRE\n",
    "crop_size = 20\n",
    "half_cropsize = crop_size // 2\n",
    "\n",
    "regions_vals = []\n",
    "regions_masks = []\n",
    "regions_pred_segs = []\n",
    "regions_subjects = []\n",
    "regions_pred_seeds = []\n",
    "regions_pred_calcs = []"
   ]
  },
  {
   "cell_type": "code",
   "execution_count": null,
   "metadata": {},
   "outputs": [],
   "source": [
    "\n",
    "for i in range(len(input_segmentations)):\n",
    "    # load images\n",
    "    subject = input_segmentations[i].split(os.sep)[1]\n",
    "    seg = nib.load(input_segmentations[i]).get_fdata()\n",
    "    input_data = nib.load(input_images[i]).get_fdata()\n",
    "    pred_seg_data = nib.load(pred_seg_files[i]).get_fdata()\n",
    "    pred_seed_data = nib.load(pred_seed_files[i]).get_fdata()\n",
    "    pred_calc_data = nib.load(pred_calc_files[i]).get_fdata()\n",
    "\n",
    "    if clip_data is not None:\n",
    "        input_data[input_data == np.inf] = clip_data[1]\n",
    "        input_data[input_data < 0] = clip_data[0]\n",
    "        input_data[input_data > 100] = clip_data[1]\n",
    "        input_data[np.isnan(input_data)] = 0\n",
    "\n",
    "    # get regions\n",
    "    centroids = get_centroids(mask=seg == SegTypeClean.GOLD_SEED.value)\n",
    "\n",
    "    for j in range(len(centroids)):\n",
    "        seg_submask = seg[\n",
    "            centroids[j][0]-half_cropsize:centroids[j][0]+half_cropsize,\n",
    "            centroids[j][1]-half_cropsize:centroids[j][1]+half_cropsize,\n",
    "            centroids[j][2]-half_cropsize:centroids[j][2]+half_cropsize\n",
    "        ]\n",
    "        pred_seg_submask = pred_seg_data[\n",
    "            centroids[j][0]-half_cropsize:centroids[j][0]+half_cropsize,\n",
    "            centroids[j][1]-half_cropsize:centroids[j][1]+half_cropsize,\n",
    "            centroids[j][2]-half_cropsize:centroids[j][2]+half_cropsize\n",
    "        ]\n",
    "        pred_seed_submask = pred_seed_data[\n",
    "            centroids[j][0]-half_cropsize:centroids[j][0]+half_cropsize,\n",
    "            centroids[j][1]-half_cropsize:centroids[j][1]+half_cropsize,\n",
    "            centroids[j][2]-half_cropsize:centroids[j][2]+half_cropsize\n",
    "        ]\n",
    "        pred_calc_submask = pred_calc_data[\n",
    "            centroids[j][0]-half_cropsize:centroids[j][0]+half_cropsize,\n",
    "            centroids[j][1]-half_cropsize:centroids[j][1]+half_cropsize,\n",
    "            centroids[j][2]-half_cropsize:centroids[j][2]+half_cropsize\n",
    "        ]\n",
    "        subvals = input_data[\n",
    "            centroids[j][0]-half_cropsize:centroids[j][0]+half_cropsize,\n",
    "            centroids[j][1]-half_cropsize:centroids[j][1]+half_cropsize,\n",
    "            centroids[j][2]-half_cropsize:centroids[j][2]+half_cropsize\n",
    "        ]\n",
    "        regions_vals.append(subvals)\n",
    "        regions_masks.append(seg_submask)\n",
    "        regions_pred_segs.append(pred_seg_submask)\n",
    "        regions_pred_seeds.append(pred_seed_submask)\n",
    "        regions_pred_calcs.append(pred_calc_submask)\n",
    "        regions_subjects.append(subject)"
   ]
  },
  {
   "cell_type": "code",
   "execution_count": null,
   "metadata": {},
   "outputs": [],
   "source": [
    "\n",
    "\n",
    "print(\"Creating figure\")\n",
    "fig, axes = plt.subplots(ncols=4, nrows=len(regions_vals), figsize=(10, 180))\n",
    "\n",
    "for ax in axes.flat:\n",
    "    ax.set_xticklabels([])\n",
    "    ax.set_yticklabels([])\n",
    "    ax.set_xticks([])\n",
    "    ax.set_yticks([])\n",
    "\n",
    "for i in range(len(regions_vals)):\n",
    "    try:\n",
    "        axes[i,0].imshow(regions_vals[i][regions_vals[i].shape[0]//2,:,:], cmap='gray', vmin=vrange[0], vmax=vrange[1], interpolation='nearest')\n",
    "        \n",
    "        axes[i,1].imshow(regions_vals[i][regions_vals[i].shape[0]//2,:,:], cmap='gray', vmin=vrange[0], vmax=vrange[1], interpolation='nearest')\n",
    "        axes[i,1].imshow(regions_masks[i][regions_vals[i].shape[0]//2,:,:], cmap='tab10', alpha=np.array(regions_masks[i][regions_vals[i].shape[0]//2,:,:], dtype=float), vmin=1, vmax=9)\n",
    "\n",
    "        axes[i,2].imshow(regions_vals[i][regions_vals[i].shape[0]//2,:,:], cmap='gray', vmin=vrange[0], vmax=vrange[1], interpolation='nearest')\n",
    "        axes[i,2].imshow(regions_pred_segs[i][regions_vals[i].shape[0]//2,:,:], cmap='tab10', alpha=np.array(regions_pred_segs[i][regions_vals[i].shape[0]//2,:,:], dtype=float), vmin=1, vmax=9)\n",
    "\n",
    "        axes[i,3].imshow(regions_vals[i][regions_vals[i].shape[0]//2,:,:], cmap='gray', vmin=vrange[0], vmax=vrange[1], interpolation='nearest')\n",
    "        seed_alphamap = regions_pred_seeds[i][regions_vals[i].shape[0]//2,:,:] > 0\n",
    "        calc_alphamap = regions_pred_calcs[i][regions_vals[i].shape[0]//2,:,:] > 0\n",
    "        calc_alphamap = np.logical_and(calc_alphamap, calc_alphamap > seed_alphamap)\n",
    "        calc_alphamap = np.logical_and(calc_alphamap, regions_pred_segs[i][regions_vals[i].shape[0]//2,:,:] != 2)\n",
    "        axes[i,3].imshow(regions_pred_seeds[i][regions_vals[i].shape[0]//2,:,:], cmap='winter', alpha=np.array(seed_alphamap, dtype=float), vmin=0.01, vmax=15)\n",
    "        axes[i,3].imshow(regions_pred_calcs[i][regions_vals[i].shape[0]//2,:,:], cmap='autumn', alpha=np.array(calc_alphamap, dtype=float), vmin=0.01, vmax=15)\n",
    "    except:\n",
    "        continue\n",
    "    axes[i,0].set_ylabel(regions_subjects[i], rotation=0, fontsize=12, labelpad=55)\n",
    "\n",
    "#print(\"Saving figure\")\n",
    "plt.savefig(\"seeds_qsm_preds.png\", bbox_inches='tight', dpi=200)\n",
    "\n",
    "print(\"Displaying figure\")\n",
    "plt.show()\n",
    "plt.close()"
   ]
  },
  {
   "cell_type": "code",
   "execution_count": null,
   "metadata": {},
   "outputs": [],
   "source": []
  }
 ],
 "metadata": {
  "kernelspec": {
   "display_name": "prostate",
   "language": "python",
   "name": "python3"
  },
  "language_info": {
   "codemirror_mode": {
    "name": "ipython",
    "version": 3
   },
   "file_extension": ".py",
   "mimetype": "text/x-python",
   "name": "python",
   "nbconvert_exporter": "python",
   "pygments_lexer": "ipython3",
   "version": "3.8.13"
  },
  "orig_nbformat": 4,
  "vscode": {
   "interpreter": {
    "hash": "03f67c3c00010b009bb49c0b41212a310c824d817af9d8224888fa5a5f2c519c"
   }
  }
 },
 "nbformat": 4,
 "nbformat_minor": 2
}
