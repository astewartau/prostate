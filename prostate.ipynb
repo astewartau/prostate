{
 "cells": [
  {
   "cell_type": "markdown",
   "metadata": {},
   "source": [
    "# Gold marker segmentation with QSM"
   ]
  },
  {
   "cell_type": "markdown",
   "metadata": {},
   "source": [
    "## Imports"
   ]
  },
  {
   "cell_type": "code",
   "execution_count": 9,
   "metadata": {},
   "outputs": [],
   "source": [
    "import fastai\n",
    "from glob import glob\n",
    "import fastai.vision.learner\n",
    "import fastai.vision.models\n",
    "import fastai.data.core\n",
    "import fastai.callback.all\n",
    "import fastai.losses\n",
    "import fastcore.dispatch\n",
    "import fastcore.basics\n",
    "import numpy as np\n",
    "import nibabel as nib\n",
    "import torch\n",
    "import cv2\n",
    "from matplotlib import pyplot as plt"
   ]
  },
  {
   "cell_type": "markdown",
   "metadata": {},
   "source": [
    "## Prepare data\n",
    "### Locate input data\n",
    "\n",
    "The files are 3D NIfTI images."
   ]
  },
  {
   "cell_type": "code",
   "execution_count": 10,
   "metadata": {},
   "outputs": [
    {
     "name": "stdout",
     "output_type": "stream",
     "text": [
      "10 NIfTI image sets found in data/bids (QSM, segmentations, T2*, magnitude).\n"
     ]
    }
   ],
   "source": [
    "# Input data\n",
    "qsm_files = sorted(glob(\"data/bids/sub-*/ses-*/extra_data/*qsm.nii*\"))\n",
    "seg_files = sorted(glob(\"data/bids/sub-*/ses-*/extra_data/*segmentation*clean*seeds.nii*\"))\n",
    "t2s_files = sorted(glob(\"data/bids/sub-*/ses-*/extra_data/*t2starmap.nii*\"))\n",
    "mag_files = sorted(glob(\"data/bids/sub-*/ses-*/extra_data/*magnitude_combined.nii*\"))\n",
    "assert(len(qsm_files) == len(seg_files) == len(t2s_files) == len(mag_files))\n",
    "print(f\"{len(qsm_files)} NIfTI image sets found in data/bids (QSM, segmentations, T2*, magnitude).\")"
   ]
  },
  {
   "cell_type": "markdown",
   "metadata": {},
   "source": [
    "### Identify the slices where segmentations exist"
   ]
  },
  {
   "cell_type": "code",
   "execution_count": 11,
   "metadata": {},
   "outputs": [],
   "source": [
    "# array of slice indices where segmentations exist\n",
    "def get_seg_indices(seg_path):\n",
    "    seg = nib.load(seg_path).get_fdata()\n",
    "    seg_indices = np.unique(np.where(seg > 0)[2])\n",
    "    return seg_indices\n",
    " \n",
    "# samples[sample_num] == [image_num, slice_num]\n",
    "def get_samples(qsm_files, seg_files):\n",
    "    samples = []\n",
    "    sample_count = 0\n",
    "    for image_num in range(len(qsm_files)):\n",
    "        seg_indices = get_seg_indices(seg_files[image_num])\n",
    "        for seg_index in seg_indices:\n",
    "            samples.append([qsm_files[image_num], seg_files[image_num], seg_index])\n",
    "    return samples"
   ]
  },
  {
   "cell_type": "code",
   "execution_count": 12,
   "metadata": {},
   "outputs": [
    {
     "name": "stdout",
     "output_type": "stream",
     "text": [
      "54 training samples and 14 validation samples selected.\n"
     ]
    }
   ],
   "source": [
    "samples = np.array(get_samples(qsm_files, seg_files))\n",
    "samples = np.random.permutation(samples)\n",
    "cut = int(0.8 * len(samples))\n",
    "train_samples, valid_samples = samples[:cut], samples[cut:]\n",
    "print(f\"{len(train_samples)} training samples and {len(valid_samples)} validation samples selected.\")"
   ]
  },
  {
   "cell_type": "code",
   "execution_count": 13,
   "metadata": {},
   "outputs": [
    {
     "name": "stdout",
     "output_type": "stream",
     "text": [
      "Training sample #1: ['data/bids/sub-z1778013/ses-20220715/extra_data/sub-z1778013_ses-20220715_run-01_qsm.nii'\n",
      " 'data/bids/sub-z1778013/ses-20220715/extra_data/sub-z1778013_ses-20220715_run-01_segmentation_clean_seeds.nii'\n",
      " '39']\n",
      "Validation sample #1: ['data/bids/sub-z0034542/ses-20220715/extra_data/sub-z0034542_ses-20220715_run-01_qsm.nii'\n",
      " 'data/bids/sub-z0034542/ses-20220715/extra_data/sub-z0034542_ses-20220715_run-01_segmentation_clean_seeds.nii'\n",
      " '30']\n"
     ]
    }
   ],
   "source": [
    "print(\"Training sample #1:\", train_samples[0])\n",
    "print(\"Validation sample #1:\", valid_samples[0])"
   ]
  },
  {
   "cell_type": "markdown",
   "metadata": {},
   "source": [
    "### Load samples as a PyTorch dataset and fastai 'dataloaders'"
   ]
  },
  {
   "cell_type": "code",
   "execution_count": 36,
   "metadata": {},
   "outputs": [],
   "source": [
    "class QSM_2D_With_Seg(torch.utils.data.Dataset):\n",
    "    def __init__(self, sample_details, transform=None):\n",
    "        self.sample_details = sample_details\n",
    "        self.transform = transform\n",
    "        self.c = 2\n",
    "\n",
    "    def __len__(self):\n",
    "        return len(self.sample_details)\n",
    "\n",
    "    def __getitem__(self, idx):\n",
    "        # convert idx to list if tensor\n",
    "        if torch.is_tensor(idx):\n",
    "            idx = idx.tolist()\n",
    "\n",
    "        # convert idx to image and slice numbers\n",
    "        qsm_path, seg_path, slice_id = self.sample_details[idx]\n",
    "\n",
    "        # load data and scale from estimated range of -8,+8 to 0,1\n",
    "        qsm = (nib.load(qsm_path).get_fdata()[:,:,int(slice_id)]+8) / (8*2)\n",
    "        seg = (nib.load(seg_path).get_fdata()[:,:,int(slice_id)])\n",
    "\n",
    "        # resize images to common size\n",
    "        qsm = torch.Tensor(cv2.resize(qsm, dsize=(224, 224)))\n",
    "        seg = torch.Tensor(cv2.resize(seg, dsize=(224, 224), interpolation=cv2.INTER_NEAREST))\n",
    "\n",
    "        # expand QSM over 3 channels for RGB models\n",
    "        qsm = qsm.expand(3, 224, 224)\n",
    "        \n",
    "        # apply any necessary transformations\n",
    "        if self.transform:\n",
    "            qsm = self.transform(qsm)\n",
    "            seg = self.transform(seg)\n",
    "\n",
    "        # ensure segmentation is long int\n",
    "        seg = seg.to(torch.int64)\n",
    "\n",
    "        return fastai.torch_core.TensorImage(qsm), fastai.torch_core.TensorMask(seg)\n",
    "\n",
    "    def __iter__(self):\n",
    "        for idx in range(len(self.sample_details)):\n",
    "            yield self.__getitem__(idx)"
   ]
  },
  {
   "cell_type": "code",
   "execution_count": 37,
   "metadata": {},
   "outputs": [],
   "source": [
    "train_ds = QSM_2D_With_Seg(train_samples)#, transform=fastai.vision.augment.Resize((146, 160)))\n",
    "valid_ds = QSM_2D_With_Seg(valid_samples)#, transform=fastai.vision.augment.Resize((146, 160)))\n",
    "dls = fastai.data.core.DataLoaders.from_dsets(train_ds, valid_ds, batch_size=8, device='cuda:0')"
   ]
  },
  {
   "cell_type": "code",
   "execution_count": 38,
   "metadata": {},
   "outputs": [
    {
     "name": "stdout",
     "output_type": "stream",
     "text": [
      "length: 2\n",
      "type(batch): <class 'tuple'>\n",
      "batch[0].shape: (8, 3, 224, 224)\n",
      "batch[1].shape: (8, 224, 224)\n",
      "type(batch[0])): <class 'fastai.torch_core.TensorImage'>\n",
      "type(batch[1])): <class 'fastai.torch_core.TensorMask'>\n",
      "dls.device: cuda:0\n"
     ]
    }
   ],
   "source": [
    "# print some information\n",
    "batch = dls.one_batch()\n",
    "print(f\"length: {len(batch)}\")\n",
    "print(f\"type(batch): {type(batch)}\")\n",
    "print(f\"batch[0].shape: {dls.one_batch()[0].shape}\")\n",
    "print(f\"batch[1].shape: {dls.one_batch()[1].shape}\")\n",
    "print(f\"type(batch[0])): {type(batch[0])}\")\n",
    "print(f\"type(batch[1])): {type(batch[1])}\")\n",
    "print(f\"dls.device: {dls.device}\")"
   ]
  },
  {
   "cell_type": "code",
   "execution_count": 39,
   "metadata": {},
   "outputs": [],
   "source": [
    "@fastcore.dispatch.typedispatch\n",
    "def show_batch(x:torch.Tensor, y:torch.Tensor, samples, ctxs=None, max_n=6, nrows=None, ncols=2, figsize=None, **kwargs):\n",
    "    nrows = nrows or ((len(samples) + 1) // ncols)\n",
    "    ncols=max(1, min(ncols, len(samples)))\n",
    "    \n",
    "    f, axarr = plt.subplots(nrows=nrows, ncols=ncols, figsize=figsize, squeeze=False)\n",
    "\n",
    "    # use the created array to output your multiple images. In this case I have stacked 4 images vertically\n",
    "    for row in range(nrows):\n",
    "        for col in range(ncols):\n",
    "            axarr[row,col].axis('off')\n",
    "            if row * ncols + col < len(x):\n",
    "                axarr[row,col].set_title(f'Slice {row * ncols + col + 1}')\n",
    "                alpha = np.array(1.0*np.array(np.array(y[row*ncols+col][0,:,:], dtype=int) != 0, dtype=int))\n",
    "                axarr[row,col].imshow(np.array(x[row * ncols + col][0,:,:]), cmap='gray', vmin=0.4, vmax=+0.6, interpolation='nearest')\n",
    "                axarr[row,col].imshow(np.array(y[row * ncols + col][0,:,:]), cmap='Set1', alpha=alpha, vmin=0, vmax=9, interpolation='nearest')\n",
    "    plt.show()\n",
    "    f.tight_layout()\n",
    "    return ctxs"
   ]
  },
  {
   "cell_type": "code",
   "execution_count": 40,
   "metadata": {},
   "outputs": [
    {
     "data": {
      "image/png": "[encoded data removed]",
      "text/plain": [
       "<Figure size 800x800 with 8 Axes>"
      ]
     },
     "metadata": {},
     "output_type": "display_data"
    }
   ],
   "source": [
    "dls.show_batch(figsize=(8,8))"
   ]
  },
  {
   "cell_type": "markdown",
   "metadata": {},
   "source": [
    "## Prepare learner"
   ]
  },
  {
   "cell_type": "code",
   "execution_count": null,
   "metadata": {},
   "outputs": [],
   "source": [
    "# build a unet learner from dls and arch\n",
    "learn = fastai.vision.learner.unet_learner(\n",
    "    dls=dls,                            # data loader\n",
    "    arch=fastai.vision.models.resnet34, # model architecture\n",
    "    #n_out=2,                            # number of final filters (by default inferred from dls where possible)\n",
    "    loss_func=fastai.losses.CrossEntropyLossFlat(), # loss function for evaluation during training\n",
    "    #metrics=dice_score,                 # performance measure for humans (and model selection?)\n",
    "    model_dir='models',                  # save directory for trained model\n",
    "    #cbs=[fastai.callback.all.SaveModelCallback(monitor='dice_score', with_opt=True)] # saves the model's best during training and loads it at the end\n",
    ")\n",
    "#learn = learn.to_fp16() # use half-precision floats for the learner"
   ]
  },
  {
   "cell_type": "code",
   "execution_count": 41,
   "metadata": {},
   "outputs": [],
   "source": [
    "learn = fastai.vision.learner.unet_learner(\n",
    "    dls=dls,                            # data loader\n",
    "    arch=fastai.vision.models.resnet34, # model architecture\n",
    "    loss_func=fastai.losses.CrossEntropyLossFlat(axis=1), # loss function for evaluation during training\n",
    "    model_dir='models',                  # save directory for trained model\n",
    ")"
   ]
  },
  {
   "cell_type": "code",
   "execution_count": 42,
   "metadata": {},
   "outputs": [
    {
     "data": {
      "text/html": [
       "\n",
       "<style>\n",
       "    /* Turns off some styling */\n",
       "    progress {\n",
       "        /* gets rid of default border in Firefox and Opera. */\n",
       "        border: none;\n",
       "        /* Needs to be in here for Safari polyfill so background images work as expected. */\n",
       "        background-size: auto;\n",
       "    }\n",
       "    progress:not([value]), progress:not([value])::-webkit-progress-bar {\n",
       "        background: repeating-linear-gradient(45deg, #7e7e7e, #7e7e7e 10px, #5c5c5c 10px, #5c5c5c 20px);\n",
       "    }\n",
       "    .progress-bar-interrupted, .progress-bar-interrupted::-webkit-progress-bar {\n",
       "        background: #F44336;\n",
       "    }\n",
       "</style>\n"
      ],
      "text/plain": [
       "<IPython.core.display.HTML object>"
      ]
     },
     "metadata": {},
     "output_type": "display_data"
    },
    {
     "data": {
      "text/html": [],
      "text/plain": [
       "<IPython.core.display.HTML object>"
      ]
     },
     "metadata": {},
     "output_type": "display_data"
    },
    {
     "data": {
      "text/plain": [
       "DynamicUnet (Input shape: 8)\n",
       "============================================================================\n",
       "Layer (type)         Output Shape         Param #    Trainable \n",
       "============================================================================\n",
       "                     8 x 64 x 112 x 112  \n",
       "Conv2d                                    9408       False     \n",
       "BatchNorm2d                               128        True      \n",
       "ReLU                                                           \n",
       "MaxPool2d                                                      \n",
       "Conv2d                                    36864      False     \n",
       "BatchNorm2d                               128        True      \n",
       "ReLU                                                           \n",
       "Conv2d                                    36864      False     \n",
       "BatchNorm2d                               128        True      \n",
       "Conv2d                                    36864      False     \n",
       "BatchNorm2d                               128        True      \n",
       "ReLU                                                           \n",
       "Conv2d                                    36864      False     \n",
       "BatchNorm2d                               128        True      \n",
       "Conv2d                                    36864      False     \n",
       "BatchNorm2d                               128        True      \n",
       "ReLU                                                           \n",
       "Conv2d                                    36864      False     \n",
       "BatchNorm2d                               128        True      \n",
       "____________________________________________________________________________\n",
       "                     8 x 128 x 28 x 28   \n",
       "Conv2d                                    73728      False     \n",
       "BatchNorm2d                               256        True      \n",
       "ReLU                                                           \n",
       "Conv2d                                    147456     False     \n",
       "BatchNorm2d                               256        True      \n",
       "Conv2d                                    8192       False     \n",
       "BatchNorm2d                               256        True      \n",
       "Conv2d                                    147456     False     \n",
       "BatchNorm2d                               256        True      \n",
       "ReLU                                                           \n",
       "Conv2d                                    147456     False     \n",
       "BatchNorm2d                               256        True      \n",
       "Conv2d                                    147456     False     \n",
       "BatchNorm2d                               256        True      \n",
       "ReLU                                                           \n",
       "Conv2d                                    147456     False     \n",
       "BatchNorm2d                               256        True      \n",
       "Conv2d                                    147456     False     \n",
       "BatchNorm2d                               256        True      \n",
       "ReLU                                                           \n",
       "Conv2d                                    147456     False     \n",
       "BatchNorm2d                               256        True      \n",
       "____________________________________________________________________________\n",
       "                     8 x 256 x 14 x 14   \n",
       "Conv2d                                    294912     False     \n",
       "BatchNorm2d                               512        True      \n",
       "ReLU                                                           \n",
       "Conv2d                                    589824     False     \n",
       "BatchNorm2d                               512        True      \n",
       "Conv2d                                    32768      False     \n",
       "BatchNorm2d                               512        True      \n",
       "Conv2d                                    589824     False     \n",
       "BatchNorm2d                               512        True      \n",
       "ReLU                                                           \n",
       "Conv2d                                    589824     False     \n",
       "BatchNorm2d                               512        True      \n",
       "Conv2d                                    589824     False     \n",
       "BatchNorm2d                               512        True      \n",
       "ReLU                                                           \n",
       "Conv2d                                    589824     False     \n",
       "BatchNorm2d                               512        True      \n",
       "Conv2d                                    589824     False     \n",
       "BatchNorm2d                               512        True      \n",
       "ReLU                                                           \n",
       "Conv2d                                    589824     False     \n",
       "BatchNorm2d                               512        True      \n",
       "Conv2d                                    589824     False     \n",
       "BatchNorm2d                               512        True      \n",
       "ReLU                                                           \n",
       "Conv2d                                    589824     False     \n",
       "BatchNorm2d                               512        True      \n",
       "Conv2d                                    589824     False     \n",
       "BatchNorm2d                               512        True      \n",
       "ReLU                                                           \n",
       "Conv2d                                    589824     False     \n",
       "BatchNorm2d                               512        True      \n",
       "____________________________________________________________________________\n",
       "                     8 x 512 x 7 x 7     \n",
       "Conv2d                                    1179648    False     \n",
       "BatchNorm2d                               1024       True      \n",
       "ReLU                                                           \n",
       "Conv2d                                    2359296    False     \n",
       "BatchNorm2d                               1024       True      \n",
       "Conv2d                                    131072     False     \n",
       "BatchNorm2d                               1024       True      \n",
       "Conv2d                                    2359296    False     \n",
       "BatchNorm2d                               1024       True      \n",
       "ReLU                                                           \n",
       "Conv2d                                    2359296    False     \n",
       "BatchNorm2d                               1024       True      \n",
       "Conv2d                                    2359296    False     \n",
       "BatchNorm2d                               1024       True      \n",
       "ReLU                                                           \n",
       "Conv2d                                    2359296    False     \n",
       "BatchNorm2d                               1024       True      \n",
       "BatchNorm2d                               1024       True      \n",
       "ReLU                                                           \n",
       "____________________________________________________________________________\n",
       "                     8 x 1024 x 7 x 7    \n",
       "Conv2d                                    4719616    True      \n",
       "ReLU                                                           \n",
       "____________________________________________________________________________\n",
       "                     8 x 512 x 7 x 7     \n",
       "Conv2d                                    4719104    True      \n",
       "ReLU                                                           \n",
       "____________________________________________________________________________\n",
       "                     8 x 1024 x 7 x 7    \n",
       "Conv2d                                    525312     True      \n",
       "ReLU                                                           \n",
       "PixelShuffle                                                   \n",
       "BatchNorm2d                               512        True      \n",
       "Conv2d                                    2359808    True      \n",
       "ReLU                                                           \n",
       "Conv2d                                    2359808    True      \n",
       "ReLU                                                           \n",
       "ReLU                                                           \n",
       "____________________________________________________________________________\n",
       "                     8 x 1024 x 14 x 14  \n",
       "Conv2d                                    525312     True      \n",
       "ReLU                                                           \n",
       "PixelShuffle                                                   \n",
       "BatchNorm2d                               256        True      \n",
       "Conv2d                                    1327488    True      \n",
       "ReLU                                                           \n",
       "Conv2d                                    1327488    True      \n",
       "ReLU                                                           \n",
       "ReLU                                                           \n",
       "____________________________________________________________________________\n",
       "                     8 x 768 x 28 x 28   \n",
       "Conv2d                                    295680     True      \n",
       "ReLU                                                           \n",
       "PixelShuffle                                                   \n",
       "BatchNorm2d                               128        True      \n",
       "Conv2d                                    590080     True      \n",
       "ReLU                                                           \n",
       "Conv2d                                    590080     True      \n",
       "ReLU                                                           \n",
       "ReLU                                                           \n",
       "____________________________________________________________________________\n",
       "                     8 x 512 x 56 x 56   \n",
       "Conv2d                                    131584     True      \n",
       "ReLU                                                           \n",
       "PixelShuffle                                                   \n",
       "BatchNorm2d                               128        True      \n",
       "____________________________________________________________________________\n",
       "                     8 x 96 x 112 x 112  \n",
       "Conv2d                                    165984     True      \n",
       "ReLU                                                           \n",
       "Conv2d                                    83040      True      \n",
       "ReLU                                                           \n",
       "ReLU                                                           \n",
       "____________________________________________________________________________\n",
       "                     8 x 384 x 112 x 112 \n",
       "Conv2d                                    37248      True      \n",
       "ReLU                                                           \n",
       "PixelShuffle                                                   \n",
       "ResizeToOrig                                                   \n",
       "MergeLayer                                                     \n",
       "Conv2d                                    88308      True      \n",
       "ReLU                                                           \n",
       "Conv2d                                    88308      True      \n",
       "Sequential                                                     \n",
       "ReLU                                                           \n",
       "____________________________________________________________________________\n",
       "                     8 x 2 x 224 x 224   \n",
       "Conv2d                                    200        True      \n",
       "____________________________________________________________________________\n",
       "\n",
       "Total params: 41,221,168\n",
       "Total trainable params: 19,953,520\n",
       "Total non-trainable params: 21,267,648\n",
       "\n",
       "Optimizer used: <function Adam at 0x7f92f08e0160>\n",
       "Loss function: FlattenedLoss of CrossEntropyLoss()\n",
       "\n",
       "Model frozen up to parameter group #2\n",
       "\n",
       "Callbacks:\n",
       "  - TrainEvalCallback\n",
       "  - Recorder\n",
       "  - ProgressCallback"
      ]
     },
     "execution_count": 42,
     "metadata": {},
     "output_type": "execute_result"
    }
   ],
   "source": [
    "learn.summary()"
   ]
  },
  {
   "cell_type": "code",
   "execution_count": 43,
   "metadata": {},
   "outputs": [
    {
     "data": {
      "text/html": [
       "\n",
       "<style>\n",
       "    /* Turns off some styling */\n",
       "    progress {\n",
       "        /* gets rid of default border in Firefox and Opera. */\n",
       "        border: none;\n",
       "        /* Needs to be in here for Safari polyfill so background images work as expected. */\n",
       "        background-size: auto;\n",
       "    }\n",
       "    progress:not([value]), progress:not([value])::-webkit-progress-bar {\n",
       "        background: repeating-linear-gradient(45deg, #7e7e7e, #7e7e7e 10px, #5c5c5c 10px, #5c5c5c 20px);\n",
       "    }\n",
       "    .progress-bar-interrupted, .progress-bar-interrupted::-webkit-progress-bar {\n",
       "        background: #F44336;\n",
       "    }\n",
       "</style>\n"
      ],
      "text/plain": [
       "<IPython.core.display.HTML object>"
      ]
     },
     "metadata": {},
     "output_type": "display_data"
    },
    {
     "data": {
      "text/html": [],
      "text/plain": [
       "<IPython.core.display.HTML object>"
      ]
     },
     "metadata": {},
     "output_type": "display_data"
    }
   ],
   "source": [
    "inp, pred, target = learn.get_preds(with_input = True)"
   ]
  },
  {
   "cell_type": "code",
   "execution_count": 44,
   "metadata": {},
   "outputs": [
    {
     "data": {
      "text/html": [
       "\n",
       "<style>\n",
       "    /* Turns off some styling */\n",
       "    progress {\n",
       "        /* gets rid of default border in Firefox and Opera. */\n",
       "        border: none;\n",
       "        /* Needs to be in here for Safari polyfill so background images work as expected. */\n",
       "        background-size: auto;\n",
       "    }\n",
       "    progress:not([value]), progress:not([value])::-webkit-progress-bar {\n",
       "        background: repeating-linear-gradient(45deg, #7e7e7e, #7e7e7e 10px, #5c5c5c 10px, #5c5c5c 20px);\n",
       "    }\n",
       "    .progress-bar-interrupted, .progress-bar-interrupted::-webkit-progress-bar {\n",
       "        background: #F44336;\n",
       "    }\n",
       "</style>\n"
      ],
      "text/plain": [
       "<IPython.core.display.HTML object>"
      ]
     },
     "metadata": {},
     "output_type": "display_data"
    },
    {
     "data": {
      "text/html": [
       "<table border=\"1\" class=\"dataframe\">\n",
       "  <thead>\n",
       "    <tr style=\"text-align: left;\">\n",
       "      <th>epoch</th>\n",
       "      <th>train_loss</th>\n",
       "      <th>valid_loss</th>\n",
       "      <th>time</th>\n",
       "    </tr>\n",
       "  </thead>\n",
       "  <tbody>\n",
       "    <tr>\n",
       "      <td>0</td>\n",
       "      <td>0.232492</td>\n",
       "      <td>0.003644</td>\n",
       "      <td>00:02</td>\n",
       "    </tr>\n",
       "  </tbody>\n",
       "</table>"
      ],
      "text/plain": [
       "<IPython.core.display.HTML object>"
      ]
     },
     "metadata": {},
     "output_type": "display_data"
    }
   ],
   "source": [
    "learn.fit(n_epoch=1)"
   ]
  },
  {
   "cell_type": "code",
   "execution_count": null,
   "metadata": {},
   "outputs": [],
   "source": []
  }
 ],
 "metadata": {
  "kernelspec": {
   "display_name": "Python 3.8.13 ('prostate')",
   "language": "python",
   "name": "python3"
  },
  "language_info": {
   "codemirror_mode": {
    "name": "ipython",
    "version": 3
   },
   "file_extension": ".py",
   "mimetype": "text/x-python",
   "name": "python",
   "nbconvert_exporter": "python",
   "pygments_lexer": "ipython3",
   "version": "3.8.13"
  },
  "orig_nbformat": 4,
  "vscode": {
   "interpreter": {
    "hash": "7019b790fc5606173c861eaa41f45209767a1ab20fcb6229725b6182650c93f4"
   }
  }
 },
 "nbformat": 4,
 "nbformat_minor": 2
}
